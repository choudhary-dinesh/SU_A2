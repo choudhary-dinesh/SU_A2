{
  "nbformat": 4,
  "nbformat_minor": 0,
  "metadata": {
    "colab": {
      "provenance": [],
      "collapsed_sections": [
        "ZW8jEVBGtEXm",
        "61GSJ4oTAnvu",
        "yVXq-5ORe96O",
        "z-nuTYf1fFK-",
        "X4VzW1n-fLVf",
        "DFbDLJ_bfYji",
        "2SKcxHjnpvNX",
        "gTdRqYc35JWy",
        "TwnUiEJiUeVt"
      ]
    },
    "kernelspec": {
      "name": "python3",
      "display_name": "Python 3"
    },
    "language_info": {
      "name": "python"
    }
  },
  "cells": [
    {
      "cell_type": "code",
      "source": [
        "# ### only able to download below model form list, other link were not working\n",
        "# 1. hubert_large --- require fairseq.\n",
        "# 2. wavlm_larg --- require pip install s3prl@git+https://github.com/s3prl/s3prl.git@7ab62aaf2606d83da6c71ee74e7d16e0979edbc3#egg=s3prl\n",
        "# 3.UniSpeech-SAT large\n",
        "# 4.Wav2Vec2.0 (XLSR)"
      ],
      "metadata": {
        "id": "1wl-1wJZp9xS"
      },
      "execution_count": null,
      "outputs": []
    },
    {
      "cell_type": "code",
      "source": [
        "# already downloaded -- uploaded it drive for anytime use\n",
        "#/content/drive/MyDrive/Classroom/hubert_large_finetune.pth\n",
        "# /content/drive/MyDrive/Classroom/wavlm_large_finetune.pth"
      ],
      "metadata": {
        "id": "R2a5ipDtBIBV"
      },
      "execution_count": null,
      "outputs": []
    },
    {
      "cell_type": "markdown",
      "source": [
        "#### Voxceleb1H datasat download"
      ],
      "metadata": {
        "id": "ZW8jEVBGtEXm"
      }
    },
    {
      "cell_type": "code",
      "source": [
        "%cd /content\n",
        "!mkdir /content/voxceleb1h"
      ],
      "metadata": {
        "colab": {
          "base_uri": "https://localhost:8080/"
        },
        "id": "vx0Uy4qttFe-",
        "outputId": "60af25ff-54e6-403f-fdec-09b91540f985"
      },
      "execution_count": null,
      "outputs": [
        {
          "output_type": "stream",
          "name": "stdout",
          "text": [
            "/content\n"
          ]
        }
      ]
    },
    {
      "cell_type": "code",
      "source": [
        "from torchaudio.datasets import VoxCeleb1Verification"
      ],
      "metadata": {
        "id": "l8Tv3iIDxSHJ"
      },
      "execution_count": null,
      "outputs": []
    },
    {
      "cell_type": "code",
      "source": [
        "voxceleb1h_dataset = VoxCeleb1Verification(root='/content/voxceleb1h',\n",
        "                             meta_url = 'https://mm.kaist.ac.kr/datasets/voxceleb/meta/list_test_hard.txt',\n",
        "                            download=True)"
      ],
      "metadata": {
        "colab": {
          "base_uri": "https://localhost:8080/"
        },
        "id": "keZyDLHoxSJP",
        "outputId": "af0b735a-170b-4398-9639-82d6e7fb1555"
      },
      "execution_count": null,
      "outputs": [
        {
          "metadata": {
            "tags": null
          },
          "name": "stderr",
          "output_type": "stream",
          "text": [
            "100%|██████████| 10.0G/10.0G [05:40<00:00, 31.6MB/s]\n",
            "100%|██████████| 10.0G/10.0G [05:40<00:00, 31.5MB/s]\n"
          ]
        }
      ]
    },
    {
      "cell_type": "code",
      "source": [
        "#above cell execution results in disk out of space error ads it download more then 40 GB ,\n",
        "#  this is also  executed in seprate notebook and commited in github repo\n",
        "#hence taking subsample of voxceleb to run prediction in below cell"
      ],
      "metadata": {
        "id": "AHTsMIQw-kGM"
      },
      "execution_count": 41,
      "outputs": []
    },
    {
      "cell_type": "markdown",
      "source": [
        "#### take subsample of vocxceleb dataset"
      ],
      "metadata": {
        "id": "61GSJ4oTAnvu"
      }
    },
    {
      "cell_type": "code",
      "source": [
        "import glob"
      ],
      "metadata": {
        "id": "jyb_-2_WgN-e"
      },
      "execution_count": null,
      "outputs": []
    },
    {
      "cell_type": "code",
      "source": [
        "from google.colab import drive\n",
        "drive.mount('/content/drive')"
      ],
      "metadata": {
        "colab": {
          "base_uri": "https://localhost:8080/"
        },
        "id": "-fU2rbKIks4v",
        "outputId": "cc7252ed-95c8-4158-bf75-f60494e580d6"
      },
      "execution_count": null,
      "outputs": [
        {
          "output_type": "stream",
          "name": "stdout",
          "text": [
            "Mounted at /content/drive\n"
          ]
        }
      ]
    },
    {
      "cell_type": "code",
      "source": [
        "!unzip /content/drive/MyDrive/voxceleb1_sample_data.zip"
      ],
      "metadata": {
        "colab": {
          "base_uri": "https://localhost:8080/"
        },
        "id": "v7u_y7S7AmRM",
        "outputId": "53845a57-e8f4-4438-a5b4-b49e6483c240"
      },
      "execution_count": null,
      "outputs": [
        {
          "output_type": "stream",
          "name": "stdout",
          "text": [
            "Archive:  /content/drive/MyDrive/voxceleb1_sample_data.zip\n",
            "   creating: voxceleb_sample_data/\n",
            "   creating: voxceleb_sample_data/id10001/\n",
            "   creating: voxceleb_sample_data/id10001/1zcIwhmdeo4/\n",
            "  inflating: voxceleb_sample_data/id10001/1zcIwhmdeo4/00001.wav  \n",
            "  inflating: voxceleb_sample_data/id10001/1zcIwhmdeo4/00002.wav  \n",
            "  inflating: voxceleb_sample_data/id10001/1zcIwhmdeo4/00003.wav  \n",
            "   creating: voxceleb_sample_data/id10001/7gWzIy6yIIk/\n",
            "  inflating: voxceleb_sample_data/id10001/7gWzIy6yIIk/00001.wav  \n",
            "  inflating: voxceleb_sample_data/id10001/7gWzIy6yIIk/00002.wav  \n",
            "  inflating: voxceleb_sample_data/id10001/7gWzIy6yIIk/00003.wav  \n",
            "  inflating: voxceleb_sample_data/id10001/7gWzIy6yIIk/00004.wav  \n",
            "   creating: voxceleb_sample_data/id10001/7w0IBEWc9Qw/\n",
            "  inflating: voxceleb_sample_data/id10001/7w0IBEWc9Qw/00001.wav  \n",
            "  inflating: voxceleb_sample_data/id10001/7w0IBEWc9Qw/00002.wav  \n",
            "  inflating: voxceleb_sample_data/id10001/7w0IBEWc9Qw/00003.wav  \n",
            "  inflating: voxceleb_sample_data/id10001/7w0IBEWc9Qw/00004.wav  \n",
            "  inflating: voxceleb_sample_data/id10001/7w0IBEWc9Qw/00005.wav  \n",
            "  inflating: voxceleb_sample_data/id10001/7w0IBEWc9Qw/00006.wav  \n",
            "  inflating: voxceleb_sample_data/id10001/7w0IBEWc9Qw/00007.wav  \n",
            "  inflating: voxceleb_sample_data/id10001/7w0IBEWc9Qw/00008.wav  \n",
            "  inflating: voxceleb_sample_data/id10001/7w0IBEWc9Qw/00009.wav  \n",
            "  inflating: voxceleb_sample_data/id10001/7w0IBEWc9Qw/00010.wav  \n",
            "   creating: voxceleb_sample_data/id10001/9mQ11vBs1wc/\n",
            "  inflating: voxceleb_sample_data/id10001/9mQ11vBs1wc/00001.wav  \n",
            "  inflating: voxceleb_sample_data/id10001/9mQ11vBs1wc/00002.wav  \n",
            "  inflating: voxceleb_sample_data/id10001/9mQ11vBs1wc/00003.wav  \n",
            "  inflating: voxceleb_sample_data/id10001/9mQ11vBs1wc/00004.wav  \n",
            "   creating: voxceleb_sample_data/id10001/DtdEYdViWdw/\n",
            "  inflating: voxceleb_sample_data/id10001/DtdEYdViWdw/00001.wav  \n",
            "  inflating: voxceleb_sample_data/id10001/DtdEYdViWdw/00002.wav  \n",
            "  inflating: voxceleb_sample_data/id10001/DtdEYdViWdw/00003.wav  \n",
            "   creating: voxceleb_sample_data/id10001/eWIX7sfn-M0/\n",
            "  inflating: voxceleb_sample_data/id10001/eWIX7sfn-M0/00001.wav  \n",
            "   creating: voxceleb_sample_data/id10001/J9lHsKG98U8/\n",
            "  inflating: voxceleb_sample_data/id10001/J9lHsKG98U8/00001.wav  \n",
            "  inflating: voxceleb_sample_data/id10001/J9lHsKG98U8/00002.wav  \n",
            "  inflating: voxceleb_sample_data/id10001/J9lHsKG98U8/00003.wav  \n",
            "  inflating: voxceleb_sample_data/id10001/J9lHsKG98U8/00004.wav  \n",
            "  inflating: voxceleb_sample_data/id10001/J9lHsKG98U8/00005.wav  \n",
            "  inflating: voxceleb_sample_data/id10001/J9lHsKG98U8/00006.wav  \n",
            "  inflating: voxceleb_sample_data/id10001/J9lHsKG98U8/00007.wav  \n",
            "  inflating: voxceleb_sample_data/id10001/J9lHsKG98U8/00008.wav  \n",
            "  inflating: voxceleb_sample_data/id10001/J9lHsKG98U8/00009.wav  \n",
            "  inflating: voxceleb_sample_data/id10001/J9lHsKG98U8/00010.wav  \n",
            "  inflating: voxceleb_sample_data/id10001/J9lHsKG98U8/00011.wav  \n",
            "  inflating: voxceleb_sample_data/id10001/J9lHsKG98U8/00012.wav  \n",
            "  inflating: voxceleb_sample_data/id10001/J9lHsKG98U8/00013.wav  \n",
            "  inflating: voxceleb_sample_data/id10001/J9lHsKG98U8/00014.wav  \n",
            "  inflating: voxceleb_sample_data/id10001/J9lHsKG98U8/00015.wav  \n",
            "  inflating: voxceleb_sample_data/id10001/J9lHsKG98U8/00016.wav  \n",
            "  inflating: voxceleb_sample_data/id10001/J9lHsKG98U8/00017.wav  \n",
            "  inflating: voxceleb_sample_data/id10001/J9lHsKG98U8/00018.wav  \n",
            "  inflating: voxceleb_sample_data/id10001/J9lHsKG98U8/00019.wav  \n",
            "  inflating: voxceleb_sample_data/id10001/J9lHsKG98U8/00020.wav  \n",
            "  inflating: voxceleb_sample_data/id10001/J9lHsKG98U8/00021.wav  \n",
            "  inflating: voxceleb_sample_data/id10001/J9lHsKG98U8/00022.wav  \n",
            "  inflating: voxceleb_sample_data/id10001/J9lHsKG98U8/00023.wav  \n",
            "  inflating: voxceleb_sample_data/id10001/J9lHsKG98U8/00024.wav  \n",
            "  inflating: voxceleb_sample_data/id10001/J9lHsKG98U8/00025.wav  \n",
            "  inflating: voxceleb_sample_data/id10001/J9lHsKG98U8/00026.wav  \n",
            "   creating: voxceleb_sample_data/id10001/utrA-v8pPm4/\n",
            "  inflating: voxceleb_sample_data/id10001/utrA-v8pPm4/00001.wav  \n",
            "   creating: voxceleb_sample_data/id10001/Y8hIVOBuels/\n",
            "  inflating: voxceleb_sample_data/id10001/Y8hIVOBuels/00001.wav  \n",
            "  inflating: voxceleb_sample_data/id10001/Y8hIVOBuels/00002.wav  \n",
            "  inflating: voxceleb_sample_data/id10001/Y8hIVOBuels/00003.wav  \n",
            "  inflating: voxceleb_sample_data/id10001/Y8hIVOBuels/00004.wav  \n",
            "  inflating: voxceleb_sample_data/id10001/Y8hIVOBuels/00005.wav  \n",
            "  inflating: voxceleb_sample_data/id10001/Y8hIVOBuels/00006.wav  \n",
            "  inflating: voxceleb_sample_data/id10001/Y8hIVOBuels/00007.wav  \n",
            "  inflating: voxceleb_sample_data/id10001/Y8hIVOBuels/00008.wav  \n",
            "  inflating: voxceleb_sample_data/id10001/Y8hIVOBuels/00009.wav  \n",
            "  inflating: voxceleb_sample_data/id10001/Y8hIVOBuels/00010.wav  \n",
            "   creating: voxceleb_sample_data/id10001/zELwAz2W6hM/\n",
            "  inflating: voxceleb_sample_data/id10001/zELwAz2W6hM/00001.wav  \n",
            "  inflating: voxceleb_sample_data/id10001/zELwAz2W6hM/00002.wav  \n",
            "  inflating: voxceleb_sample_data/id10001/zELwAz2W6hM/00003.wav  \n",
            "  inflating: voxceleb_sample_data/id10001/zELwAz2W6hM/00004.wav  \n",
            "  inflating: voxceleb_sample_data/id10001/zELwAz2W6hM/00005.wav  \n",
            "  inflating: voxceleb_sample_data/id10001/zELwAz2W6hM/00006.wav  \n",
            "  inflating: voxceleb_sample_data/id10001/zELwAz2W6hM/00007.wav  \n",
            "  inflating: voxceleb_sample_data/id10001/zELwAz2W6hM/00008.wav  \n",
            "  inflating: voxceleb_sample_data/id10001/zELwAz2W6hM/00009.wav  \n",
            "  inflating: voxceleb_sample_data/id10001/zELwAz2W6hM/00010.wav  \n",
            "  inflating: voxceleb_sample_data/id10001/zELwAz2W6hM/00011.wav  \n",
            "  inflating: voxceleb_sample_data/id10001/zELwAz2W6hM/00012.wav  \n",
            "  inflating: voxceleb_sample_data/id10001/zELwAz2W6hM/00013.wav  \n",
            "  inflating: voxceleb_sample_data/id10001/zELwAz2W6hM/00014.wav  \n",
            "  inflating: voxceleb_sample_data/id10001/zELwAz2W6hM/00015.wav  \n",
            "   creating: voxceleb_sample_data/id10002/\n",
            "   creating: voxceleb_sample_data/id10002/0_laIeN-Q44/\n",
            "  inflating: voxceleb_sample_data/id10002/0_laIeN-Q44/00001.wav  \n",
            "   creating: voxceleb_sample_data/id10002/6WO410QOeuo/\n",
            "  inflating: voxceleb_sample_data/id10002/6WO410QOeuo/00001.wav  \n",
            "  inflating: voxceleb_sample_data/id10002/6WO410QOeuo/00002.wav  \n",
            "  inflating: voxceleb_sample_data/id10002/6WO410QOeuo/00003.wav  \n",
            "  inflating: voxceleb_sample_data/id10002/6WO410QOeuo/00004.wav  \n",
            "  inflating: voxceleb_sample_data/id10002/6WO410QOeuo/00005.wav  \n",
            "  inflating: voxceleb_sample_data/id10002/6WO410QOeuo/00006.wav  \n",
            "  inflating: voxceleb_sample_data/id10002/6WO410QOeuo/00007.wav  \n",
            "  inflating: voxceleb_sample_data/id10002/6WO410QOeuo/00008.wav  \n",
            "  inflating: voxceleb_sample_data/id10002/6WO410QOeuo/00009.wav  \n",
            "  inflating: voxceleb_sample_data/id10002/6WO410QOeuo/00010.wav  \n",
            "  inflating: voxceleb_sample_data/id10002/6WO410QOeuo/00011.wav  \n",
            "   creating: voxceleb_sample_data/id10002/C7k7C-PDvAA/\n",
            "  inflating: voxceleb_sample_data/id10002/C7k7C-PDvAA/00001.wav  \n",
            "  inflating: voxceleb_sample_data/id10002/C7k7C-PDvAA/00002.wav  \n",
            "   creating: voxceleb_sample_data/id10002/cMGEuZ1zqXk/\n",
            "  inflating: voxceleb_sample_data/id10002/cMGEuZ1zqXk/00001.wav  \n",
            "  inflating: voxceleb_sample_data/id10002/cMGEuZ1zqXk/00002.wav  \n",
            "  inflating: voxceleb_sample_data/id10002/cMGEuZ1zqXk/00003.wav  \n",
            "  inflating: voxceleb_sample_data/id10002/cMGEuZ1zqXk/00004.wav  \n",
            "   creating: voxceleb_sample_data/id10002/eNc4LrrvV80/\n",
            "  inflating: voxceleb_sample_data/id10002/eNc4LrrvV80/00001.wav  \n",
            "  inflating: voxceleb_sample_data/id10002/eNc4LrrvV80/00002.wav  \n",
            "  inflating: voxceleb_sample_data/id10002/eNc4LrrvV80/00003.wav  \n",
            "  inflating: voxceleb_sample_data/id10002/eNc4LrrvV80/00004.wav  \n",
            "  inflating: voxceleb_sample_data/id10002/eNc4LrrvV80/00005.wav  \n",
            "  inflating: voxceleb_sample_data/id10002/eNc4LrrvV80/00006.wav  \n",
            "  inflating: voxceleb_sample_data/id10002/eNc4LrrvV80/00007.wav  \n",
            "  inflating: voxceleb_sample_data/id10002/eNc4LrrvV80/00008.wav  \n",
            "  inflating: voxceleb_sample_data/id10002/eNc4LrrvV80/00009.wav  \n",
            "  inflating: voxceleb_sample_data/id10002/eNc4LrrvV80/00010.wav  \n",
            "  inflating: voxceleb_sample_data/id10002/eNc4LrrvV80/00011.wav  \n",
            "  inflating: voxceleb_sample_data/id10002/eNc4LrrvV80/00012.wav  \n",
            "  inflating: voxceleb_sample_data/id10002/eNc4LrrvV80/00013.wav  \n",
            "   creating: voxceleb_sample_data/id10002/gaQqIoV_aLY/\n",
            "  inflating: voxceleb_sample_data/id10002/gaQqIoV_aLY/00001.wav  \n",
            "  inflating: voxceleb_sample_data/id10002/gaQqIoV_aLY/00002.wav  \n",
            "  inflating: voxceleb_sample_data/id10002/gaQqIoV_aLY/00003.wav  \n",
            "  inflating: voxceleb_sample_data/id10002/gaQqIoV_aLY/00004.wav  \n",
            "  inflating: voxceleb_sample_data/id10002/gaQqIoV_aLY/00005.wav  \n",
            "  inflating: voxceleb_sample_data/id10002/gaQqIoV_aLY/00006.wav  \n",
            "  inflating: voxceleb_sample_data/id10002/gaQqIoV_aLY/00007.wav  \n",
            "  inflating: voxceleb_sample_data/id10002/gaQqIoV_aLY/00008.wav  \n",
            "   creating: voxceleb_sample_data/id10002/Mpr9wqUuLQA/\n",
            "  inflating: voxceleb_sample_data/id10002/Mpr9wqUuLQA/00001.wav  \n",
            "  inflating: voxceleb_sample_data/id10002/Mpr9wqUuLQA/00002.wav  \n",
            "  inflating: voxceleb_sample_data/id10002/Mpr9wqUuLQA/00003.wav  \n",
            "   creating: voxceleb_sample_data/id10002/QanuGhOhb9A/\n",
            "  inflating: voxceleb_sample_data/id10002/QanuGhOhb9A/00001.wav  \n",
            "  inflating: voxceleb_sample_data/id10002/QanuGhOhb9A/00002.wav  \n",
            "  inflating: voxceleb_sample_data/id10002/QanuGhOhb9A/00003.wav  \n",
            "  inflating: voxceleb_sample_data/id10002/QanuGhOhb9A/00004.wav  \n",
            "  inflating: voxceleb_sample_data/id10002/QanuGhOhb9A/00005.wav  \n",
            "  inflating: voxceleb_sample_data/id10002/QanuGhOhb9A/00006.wav  \n",
            "  inflating: voxceleb_sample_data/id10002/QanuGhOhb9A/00007.wav  \n",
            "  inflating: voxceleb_sample_data/id10002/QanuGhOhb9A/00008.wav  \n",
            "  inflating: voxceleb_sample_data/id10002/QanuGhOhb9A/00009.wav  \n",
            "  inflating: voxceleb_sample_data/id10002/QanuGhOhb9A/00010.wav  \n",
            "  inflating: voxceleb_sample_data/id10002/QanuGhOhb9A/00011.wav  \n",
            "  inflating: voxceleb_sample_data/id10002/QanuGhOhb9A/00012.wav  \n",
            "  inflating: voxceleb_sample_data/id10002/QanuGhOhb9A/00013.wav  \n",
            "  inflating: voxceleb_sample_data/id10002/QanuGhOhb9A/00014.wav  \n",
            "  inflating: voxceleb_sample_data/id10002/QanuGhOhb9A/00015.wav  \n",
            "  inflating: voxceleb_sample_data/id10002/QanuGhOhb9A/00016.wav  \n",
            "  inflating: voxceleb_sample_data/id10002/QanuGhOhb9A/00017.wav  \n",
            "  inflating: voxceleb_sample_data/id10002/QanuGhOhb9A/00018.wav  \n",
            "  inflating: voxceleb_sample_data/id10002/QanuGhOhb9A/00019.wav  \n",
            "  inflating: voxceleb_sample_data/id10002/QanuGhOhb9A/00020.wav  \n",
            "  inflating: voxceleb_sample_data/id10002/QanuGhOhb9A/00021.wav  \n",
            "  inflating: voxceleb_sample_data/id10002/QanuGhOhb9A/00022.wav  \n",
            "  inflating: voxceleb_sample_data/id10002/QanuGhOhb9A/00023.wav  \n",
            "  inflating: voxceleb_sample_data/id10002/QanuGhOhb9A/00024.wav  \n",
            "  inflating: voxceleb_sample_data/id10002/QanuGhOhb9A/00025.wav  \n",
            "  inflating: voxceleb_sample_data/id10002/QanuGhOhb9A/00026.wav  \n",
            "  inflating: voxceleb_sample_data/id10002/QanuGhOhb9A/00027.wav  \n",
            "  inflating: voxceleb_sample_data/id10002/QanuGhOhb9A/00028.wav  \n",
            "  inflating: voxceleb_sample_data/id10002/QanuGhOhb9A/00029.wav  \n",
            "   creating: voxceleb_sample_data/id10002/QnnjJ9i5WFs/\n",
            "  inflating: voxceleb_sample_data/id10002/QnnjJ9i5WFs/00001.wav  \n",
            "  inflating: voxceleb_sample_data/id10002/QnnjJ9i5WFs/00002.wav  \n",
            "   creating: voxceleb_sample_data/id10002/RLKKsYiCMvc/\n",
            "  inflating: voxceleb_sample_data/id10002/RLKKsYiCMvc/00001.wav  \n",
            "  inflating: voxceleb_sample_data/id10002/RLKKsYiCMvc/00002.wav  \n",
            "  inflating: voxceleb_sample_data/id10002/RLKKsYiCMvc/00003.wav  \n",
            "  inflating: voxceleb_sample_data/id10002/RLKKsYiCMvc/00004.wav  \n",
            "  inflating: voxceleb_sample_data/id10002/RLKKsYiCMvc/00005.wav  \n",
            "  inflating: voxceleb_sample_data/id10002/RLKKsYiCMvc/00006.wav  \n",
            "  inflating: voxceleb_sample_data/id10002/RLKKsYiCMvc/00007.wav  \n",
            "  inflating: voxceleb_sample_data/id10002/RLKKsYiCMvc/00008.wav  \n",
            "  inflating: voxceleb_sample_data/id10002/RLKKsYiCMvc/00009.wav  \n",
            "  inflating: voxceleb_sample_data/id10002/RLKKsYiCMvc/00010.wav  \n",
            "  inflating: voxceleb_sample_data/id10002/RLKKsYiCMvc/00011.wav  \n",
            "  inflating: voxceleb_sample_data/id10002/RLKKsYiCMvc/00012.wav  \n",
            "  inflating: voxceleb_sample_data/id10002/RLKKsYiCMvc/00013.wav  \n",
            "  inflating: voxceleb_sample_data/id10002/RLKKsYiCMvc/00014.wav  \n",
            "  inflating: voxceleb_sample_data/id10002/RLKKsYiCMvc/00015.wav  \n",
            "  inflating: voxceleb_sample_data/id10002/RLKKsYiCMvc/00016.wav  \n",
            "  inflating: voxceleb_sample_data/id10002/RLKKsYiCMvc/00017.wav  \n",
            "  inflating: voxceleb_sample_data/id10002/RLKKsYiCMvc/00018.wav  \n",
            "  inflating: voxceleb_sample_data/id10002/RLKKsYiCMvc/00019.wav  \n",
            "  inflating: voxceleb_sample_data/id10002/RLKKsYiCMvc/00020.wav  \n",
            "  inflating: voxceleb_sample_data/id10002/RLKKsYiCMvc/00021.wav  \n",
            "  inflating: voxceleb_sample_data/id10002/RLKKsYiCMvc/00022.wav  \n",
            "  inflating: voxceleb_sample_data/id10002/RLKKsYiCMvc/00023.wav  \n",
            "  inflating: voxceleb_sample_data/id10002/RLKKsYiCMvc/00024.wav  \n",
            "  inflating: voxceleb_sample_data/id10002/RLKKsYiCMvc/00025.wav  \n",
            "  inflating: voxceleb_sample_data/id10002/RLKKsYiCMvc/00026.wav  \n",
            "  inflating: voxceleb_sample_data/id10002/RLKKsYiCMvc/00027.wav  \n",
            "  inflating: voxceleb_sample_data/id10002/RLKKsYiCMvc/00028.wav  \n",
            "  inflating: voxceleb_sample_data/id10002/RLKKsYiCMvc/00029.wav  \n",
            "  inflating: voxceleb_sample_data/id10002/RLKKsYiCMvc/00030.wav  \n",
            "  inflating: voxceleb_sample_data/id10002/RLKKsYiCMvc/00031.wav  \n",
            "  inflating: voxceleb_sample_data/id10002/RLKKsYiCMvc/00032.wav  \n",
            "  inflating: voxceleb_sample_data/id10002/RLKKsYiCMvc/00033.wav  \n",
            "  inflating: voxceleb_sample_data/id10002/RLKKsYiCMvc/00034.wav  \n",
            "  inflating: voxceleb_sample_data/id10002/RLKKsYiCMvc/00035.wav  \n",
            "  inflating: voxceleb_sample_data/id10002/RLKKsYiCMvc/00036.wav  \n",
            "   creating: voxceleb_sample_data/id10002/SI4D2_YXvBE/\n",
            "  inflating: voxceleb_sample_data/id10002/SI4D2_YXvBE/00001.wav  \n",
            "   creating: voxceleb_sample_data/id10002/TqUbiOgEb0w/\n",
            "  inflating: voxceleb_sample_data/id10002/TqUbiOgEb0w/00001.wav  \n",
            "  inflating: voxceleb_sample_data/id10002/TqUbiOgEb0w/00002.wav  \n",
            "  inflating: voxceleb_sample_data/id10002/TqUbiOgEb0w/00003.wav  \n",
            "  inflating: voxceleb_sample_data/id10002/TqUbiOgEb0w/00004.wav  \n",
            "  inflating: voxceleb_sample_data/id10002/TqUbiOgEb0w/00005.wav  \n",
            "  inflating: voxceleb_sample_data/id10002/TqUbiOgEb0w/00006.wav  \n",
            "  inflating: voxceleb_sample_data/id10002/TqUbiOgEb0w/00007.wav  \n",
            "  inflating: voxceleb_sample_data/id10002/TqUbiOgEb0w/00008.wav  \n",
            "  inflating: voxceleb_sample_data/id10002/TqUbiOgEb0w/00009.wav  \n",
            "  inflating: voxceleb_sample_data/id10002/TqUbiOgEb0w/00010.wav  \n",
            "   creating: voxceleb_sample_data/id10002/VMaXdHLz5Bk/\n",
            "  inflating: voxceleb_sample_data/id10002/VMaXdHLz5Bk/00001.wav  \n",
            "  inflating: voxceleb_sample_data/id10002/VMaXdHLz5Bk/00002.wav  \n",
            "  inflating: voxceleb_sample_data/id10002/VMaXdHLz5Bk/00003.wav  \n",
            "  inflating: voxceleb_sample_data/id10002/VMaXdHLz5Bk/00004.wav  \n",
            "  inflating: voxceleb_sample_data/id10002/VMaXdHLz5Bk/00005.wav  \n",
            "   creating: voxceleb_sample_data/id10002/w9H-ZMvdE9M/\n",
            "  inflating: voxceleb_sample_data/id10002/w9H-ZMvdE9M/00001.wav  \n",
            "   creating: voxceleb_sample_data/id10002/wd_7oYV4dsU/\n",
            "  inflating: voxceleb_sample_data/id10002/wd_7oYV4dsU/00001.wav  \n",
            "   creating: voxceleb_sample_data/id10002/xTV-jFAUKcw/\n",
            "  inflating: voxceleb_sample_data/id10002/xTV-jFAUKcw/00001.wav  \n",
            "  inflating: voxceleb_sample_data/id10002/xTV-jFAUKcw/00002.wav  \n",
            "  inflating: voxceleb_sample_data/id10002/xTV-jFAUKcw/00003.wav  \n",
            "   creating: voxceleb_sample_data/id10002/Y2Gr1I2DO7M/\n",
            "  inflating: voxceleb_sample_data/id10002/Y2Gr1I2DO7M/00001.wav  \n",
            "   creating: voxceleb_sample_data/id10003/\n",
            "  inflating: voxceleb_sample_data/id10003/.DS_Store  \n",
            "   creating: voxceleb_sample_data/id10003/5ablueV_1tw/\n",
            "  inflating: voxceleb_sample_data/id10003/5ablueV_1tw/00001.wav  \n",
            "  inflating: voxceleb_sample_data/id10003/5ablueV_1tw/00002.wav  \n",
            "  inflating: voxceleb_sample_data/id10003/5ablueV_1tw/00003.wav  \n",
            "  inflating: voxceleb_sample_data/id10003/5ablueV_1tw/00004.wav  \n",
            "  inflating: voxceleb_sample_data/id10003/5ablueV_1tw/00005.wav  \n",
            "  inflating: voxceleb_sample_data/id10003/5ablueV_1tw/00006.wav  \n",
            "  inflating: voxceleb_sample_data/id10003/5ablueV_1tw/00007.wav  \n",
            "  inflating: voxceleb_sample_data/id10003/5ablueV_1tw/00008.wav  \n",
            "  inflating: voxceleb_sample_data/id10003/5ablueV_1tw/00009.wav  \n",
            "  inflating: voxceleb_sample_data/id10003/5ablueV_1tw/00010.wav  \n",
            "  inflating: voxceleb_sample_data/id10003/5ablueV_1tw/00011.wav  \n",
            "  inflating: voxceleb_sample_data/id10003/5ablueV_1tw/00012.wav  \n",
            "  inflating: voxceleb_sample_data/id10003/5ablueV_1tw/00013.wav  \n",
            "  inflating: voxceleb_sample_data/id10003/5ablueV_1tw/00014.wav  \n",
            "  inflating: voxceleb_sample_data/id10003/5ablueV_1tw/00015.wav  \n",
            "  inflating: voxceleb_sample_data/id10003/5ablueV_1tw/00016.wav  \n",
            "  inflating: voxceleb_sample_data/id10003/5ablueV_1tw/00017.wav  \n",
            "  inflating: voxceleb_sample_data/id10003/5ablueV_1tw/00018.wav  \n",
            "   creating: voxceleb_sample_data/id10003/A7Hh1WKmHsg/\n",
            "  inflating: voxceleb_sample_data/id10003/A7Hh1WKmHsg/00001.wav  \n",
            "  inflating: voxceleb_sample_data/id10003/A7Hh1WKmHsg/00002.wav  \n",
            "   creating: voxceleb_sample_data/id10003/A8SBCxYzJgs/\n",
            "  inflating: voxceleb_sample_data/id10003/A8SBCxYzJgs/00001.wav  \n",
            "  inflating: voxceleb_sample_data/id10003/A8SBCxYzJgs/00002.wav  \n",
            "  inflating: voxceleb_sample_data/id10003/A8SBCxYzJgs/00003.wav  \n",
            "  inflating: voxceleb_sample_data/id10003/A8SBCxYzJgs/00004.wav  \n",
            "  inflating: voxceleb_sample_data/id10003/A8SBCxYzJgs/00005.wav  \n",
            "  inflating: voxceleb_sample_data/id10003/A8SBCxYzJgs/00006.wav  \n",
            "   creating: voxceleb_sample_data/id10003/bDxy7bnj_bc/\n",
            "  inflating: voxceleb_sample_data/id10003/bDxy7bnj_bc/00001.wav  \n",
            "  inflating: voxceleb_sample_data/id10003/bDxy7bnj_bc/00002.wav  \n",
            "  inflating: voxceleb_sample_data/id10003/bDxy7bnj_bc/00003.wav  \n",
            "  inflating: voxceleb_sample_data/id10003/bDxy7bnj_bc/00004.wav  \n",
            "  inflating: voxceleb_sample_data/id10003/bDxy7bnj_bc/00005.wav  \n",
            "  inflating: voxceleb_sample_data/id10003/bDxy7bnj_bc/00006.wav  \n",
            "  inflating: voxceleb_sample_data/id10003/bDxy7bnj_bc/00007.wav  \n",
            "  inflating: voxceleb_sample_data/id10003/bDxy7bnj_bc/00008.wav  \n",
            "  inflating: voxceleb_sample_data/id10003/bDxy7bnj_bc/00009.wav  \n",
            "  inflating: voxceleb_sample_data/id10003/bDxy7bnj_bc/00010.wav  \n",
            "   creating: voxceleb_sample_data/id10003/BQxxhq4539A/\n",
            "  inflating: voxceleb_sample_data/id10003/BQxxhq4539A/00001.wav  \n",
            "  inflating: voxceleb_sample_data/id10003/BQxxhq4539A/00002.wav  \n",
            "  inflating: voxceleb_sample_data/id10003/BQxxhq4539A/00003.wav  \n",
            "  inflating: voxceleb_sample_data/id10003/BQxxhq4539A/00004.wav  \n",
            "  inflating: voxceleb_sample_data/id10003/BQxxhq4539A/00005.wav  \n",
            "  inflating: voxceleb_sample_data/id10003/BQxxhq4539A/00006.wav  \n",
            "  inflating: voxceleb_sample_data/id10003/BQxxhq4539A/00007.wav  \n",
            "  inflating: voxceleb_sample_data/id10003/BQxxhq4539A/00008.wav  \n",
            "  inflating: voxceleb_sample_data/id10003/BQxxhq4539A/00009.wav  \n",
            "  inflating: voxceleb_sample_data/id10003/BQxxhq4539A/00010.wav  \n",
            "  inflating: voxceleb_sample_data/id10003/BQxxhq4539A/00011.wav  \n",
            "  inflating: voxceleb_sample_data/id10003/BQxxhq4539A/00012.wav  \n",
            "  inflating: voxceleb_sample_data/id10003/BQxxhq4539A/00013.wav  \n",
            "  inflating: voxceleb_sample_data/id10003/BQxxhq4539A/00014.wav  \n",
            "  inflating: voxceleb_sample_data/id10003/BQxxhq4539A/00015.wav  \n",
            "  inflating: voxceleb_sample_data/id10003/BQxxhq4539A/00016.wav  \n",
            "  inflating: voxceleb_sample_data/id10003/BQxxhq4539A/00017.wav  \n",
            "  inflating: voxceleb_sample_data/id10003/BQxxhq4539A/00018.wav  \n",
            "  inflating: voxceleb_sample_data/id10003/BQxxhq4539A/00019.wav  \n",
            "   creating: voxceleb_sample_data/id10003/EGPV-Xa0LGk/\n",
            "  inflating: voxceleb_sample_data/id10003/EGPV-Xa0LGk/00001.wav  \n",
            "  inflating: voxceleb_sample_data/id10003/EGPV-Xa0LGk/00002.wav  \n",
            "  inflating: voxceleb_sample_data/id10003/EGPV-Xa0LGk/00003.wav  \n",
            "  inflating: voxceleb_sample_data/id10003/EGPV-Xa0LGk/00004.wav  \n",
            "  inflating: voxceleb_sample_data/id10003/EGPV-Xa0LGk/00005.wav  \n",
            "  inflating: voxceleb_sample_data/id10003/EGPV-Xa0LGk/00006.wav  \n",
            "  inflating: voxceleb_sample_data/id10003/EGPV-Xa0LGk/00007.wav  \n",
            "  inflating: voxceleb_sample_data/id10003/EGPV-Xa0LGk/00008.wav  \n",
            "  inflating: voxceleb_sample_data/id10003/EGPV-Xa0LGk/00009.wav  \n",
            "   creating: voxceleb_sample_data/id10003/E_6MjfYr0sQ/\n",
            "  inflating: voxceleb_sample_data/id10003/E_6MjfYr0sQ/00001.wav  \n",
            "  inflating: voxceleb_sample_data/id10003/E_6MjfYr0sQ/00002.wav  \n",
            "  inflating: voxceleb_sample_data/id10003/E_6MjfYr0sQ/00003.wav  \n",
            "  inflating: voxceleb_sample_data/id10003/E_6MjfYr0sQ/00004.wav  \n",
            "  inflating: voxceleb_sample_data/id10003/E_6MjfYr0sQ/00005.wav  \n",
            "  inflating: voxceleb_sample_data/id10003/E_6MjfYr0sQ/00006.wav  \n",
            "  inflating: voxceleb_sample_data/id10003/E_6MjfYr0sQ/00007.wav  \n",
            "  inflating: voxceleb_sample_data/id10003/E_6MjfYr0sQ/00008.wav  \n",
            "  inflating: voxceleb_sample_data/id10003/E_6MjfYr0sQ/00009.wav  \n",
            "  inflating: voxceleb_sample_data/id10003/E_6MjfYr0sQ/00010.wav  \n",
            "  inflating: voxceleb_sample_data/id10003/E_6MjfYr0sQ/00011.wav  \n",
            "  inflating: voxceleb_sample_data/id10003/E_6MjfYr0sQ/00012.wav  \n",
            "  inflating: voxceleb_sample_data/id10003/E_6MjfYr0sQ/00013.wav  \n",
            "  inflating: voxceleb_sample_data/id10003/E_6MjfYr0sQ/00014.wav  \n",
            "  inflating: voxceleb_sample_data/id10003/E_6MjfYr0sQ/00015.wav  \n",
            "  inflating: voxceleb_sample_data/id10003/E_6MjfYr0sQ/00016.wav  \n",
            "  inflating: voxceleb_sample_data/id10003/E_6MjfYr0sQ/00017.wav  \n",
            "  inflating: voxceleb_sample_data/id10003/E_6MjfYr0sQ/00018.wav  \n",
            "  inflating: voxceleb_sample_data/id10003/E_6MjfYr0sQ/00019.wav  \n",
            "  inflating: voxceleb_sample_data/id10003/E_6MjfYr0sQ/00020.wav  \n",
            "  inflating: voxceleb_sample_data/id10003/E_6MjfYr0sQ/00021.wav  \n",
            "  inflating: voxceleb_sample_data/id10003/E_6MjfYr0sQ/00022.wav  \n",
            "  inflating: voxceleb_sample_data/id10003/E_6MjfYr0sQ/00023.wav  \n",
            "  inflating: voxceleb_sample_data/id10003/E_6MjfYr0sQ/00024.wav  \n",
            "  inflating: voxceleb_sample_data/id10003/E_6MjfYr0sQ/00025.wav  \n",
            "  inflating: voxceleb_sample_data/id10003/E_6MjfYr0sQ/00026.wav  \n",
            "  inflating: voxceleb_sample_data/id10003/E_6MjfYr0sQ/00027.wav  \n",
            "  inflating: voxceleb_sample_data/id10003/E_6MjfYr0sQ/00028.wav  \n",
            "  inflating: voxceleb_sample_data/id10003/E_6MjfYr0sQ/00029.wav  \n",
            "  inflating: voxceleb_sample_data/id10003/E_6MjfYr0sQ/00030.wav  \n",
            "  inflating: voxceleb_sample_data/id10003/E_6MjfYr0sQ/00031.wav  \n",
            "  inflating: voxceleb_sample_data/id10003/E_6MjfYr0sQ/00032.wav  \n",
            "  inflating: voxceleb_sample_data/id10003/E_6MjfYr0sQ/00033.wav  \n",
            "  inflating: voxceleb_sample_data/id10003/E_6MjfYr0sQ/00034.wav  \n",
            "  inflating: voxceleb_sample_data/id10003/E_6MjfYr0sQ/00035.wav  \n",
            "  inflating: voxceleb_sample_data/id10003/E_6MjfYr0sQ/00036.wav  \n",
            "  inflating: voxceleb_sample_data/id10003/E_6MjfYr0sQ/00037.wav  \n",
            "  inflating: voxceleb_sample_data/id10003/E_6MjfYr0sQ/00038.wav  \n",
            "  inflating: voxceleb_sample_data/id10003/E_6MjfYr0sQ/00039.wav  \n",
            "  inflating: voxceleb_sample_data/id10003/E_6MjfYr0sQ/00040.wav  \n",
            "  inflating: voxceleb_sample_data/id10003/E_6MjfYr0sQ/00041.wav  \n",
            "  inflating: voxceleb_sample_data/id10003/E_6MjfYr0sQ/00042.wav  \n",
            "  inflating: voxceleb_sample_data/id10003/E_6MjfYr0sQ/00043.wav  \n",
            "  inflating: voxceleb_sample_data/id10003/E_6MjfYr0sQ/00044.wav  \n",
            "   creating: voxceleb_sample_data/id10003/FfmnkloV_zg/\n",
            "  inflating: voxceleb_sample_data/id10003/FfmnkloV_zg/00001.wav  \n",
            "  inflating: voxceleb_sample_data/id10003/FfmnkloV_zg/00002.wav  \n",
            "   creating: voxceleb_sample_data/id10003/K5zRxtXc27s/\n",
            "  inflating: voxceleb_sample_data/id10003/K5zRxtXc27s/00001.wav  \n",
            "  inflating: voxceleb_sample_data/id10003/K5zRxtXc27s/00002.wav  \n",
            "  inflating: voxceleb_sample_data/id10003/K5zRxtXc27s/00003.wav  \n",
            "  inflating: voxceleb_sample_data/id10003/K5zRxtXc27s/00004.wav  \n",
            "  inflating: voxceleb_sample_data/id10003/K5zRxtXc27s/00005.wav  \n",
            "  inflating: voxceleb_sample_data/id10003/K5zRxtXc27s/00006.wav  \n",
            "  inflating: voxceleb_sample_data/id10003/K5zRxtXc27s/00007.wav  \n",
            "  inflating: voxceleb_sample_data/id10003/K5zRxtXc27s/00008.wav  \n",
            "  inflating: voxceleb_sample_data/id10003/K5zRxtXc27s/00009.wav  \n",
            "  inflating: voxceleb_sample_data/id10003/K5zRxtXc27s/00010.wav  \n",
            "  inflating: voxceleb_sample_data/id10003/K5zRxtXc27s/00011.wav  \n",
            "  inflating: voxceleb_sample_data/id10003/K5zRxtXc27s/00012.wav  \n",
            "   creating: voxceleb_sample_data/id10003/na8-QEFmj44/\n",
            "  inflating: voxceleb_sample_data/id10003/na8-QEFmj44/00001.wav  \n",
            "  inflating: voxceleb_sample_data/id10003/na8-QEFmj44/00002.wav  \n",
            "  inflating: voxceleb_sample_data/id10003/na8-QEFmj44/00003.wav  \n",
            "  inflating: voxceleb_sample_data/id10003/na8-QEFmj44/00004.wav  \n",
            "  inflating: voxceleb_sample_data/id10003/na8-QEFmj44/00005.wav  \n",
            "   creating: voxceleb_sample_data/id10003/NC70RWJDnMg/\n",
            "  inflating: voxceleb_sample_data/id10003/NC70RWJDnMg/00001.wav  \n",
            "  inflating: voxceleb_sample_data/id10003/NC70RWJDnMg/00002.wav  \n",
            "  inflating: voxceleb_sample_data/id10003/NC70RWJDnMg/00003.wav  \n",
            "  inflating: voxceleb_sample_data/id10003/NC70RWJDnMg/00004.wav  \n",
            "  inflating: voxceleb_sample_data/id10003/NC70RWJDnMg/00005.wav  \n",
            "   creating: voxceleb_sample_data/id10003/tCq2LcKO6xY/\n",
            "  inflating: voxceleb_sample_data/id10003/tCq2LcKO6xY/00001.wav  \n",
            "  inflating: voxceleb_sample_data/id10003/tCq2LcKO6xY/00002.wav  \n",
            "   creating: voxceleb_sample_data/id10003/Tzn91xwBaWE/\n",
            "  inflating: voxceleb_sample_data/id10003/Tzn91xwBaWE/00001.wav  \n",
            "   creating: voxceleb_sample_data/id10003/yzIXg93UOIM/\n",
            "  inflating: voxceleb_sample_data/id10003/yzIXg93UOIM/00001.wav  \n",
            "  inflating: voxceleb_sample_data/id10003/yzIXg93UOIM/00002.wav  \n",
            "  inflating: voxceleb_sample_data/id10003/yzIXg93UOIM/00003.wav  \n",
            "  inflating: voxceleb_sample_data/id10003/yzIXg93UOIM/00004.wav  \n",
            "  inflating: voxceleb_sample_data/id10003/yzIXg93UOIM/00005.wav  \n",
            "  inflating: voxceleb_sample_data/id10003/yzIXg93UOIM/00006.wav  \n",
            "  inflating: voxceleb_sample_data/id10003/yzIXg93UOIM/00007.wav  \n",
            "  inflating: voxceleb_sample_data/id10003/yzIXg93UOIM/00008.wav  \n",
            "  inflating: voxceleb_sample_data/id10003/yzIXg93UOIM/00009.wav  \n",
            "  inflating: voxceleb_sample_data/id10003/yzIXg93UOIM/00010.wav  \n",
            "  inflating: voxceleb_sample_data/id10003/yzIXg93UOIM/00011.wav  \n",
            "  inflating: voxceleb_sample_data/id10003/yzIXg93UOIM/00012.wav  \n",
            "  inflating: voxceleb_sample_data/id10003/yzIXg93UOIM/00013.wav  \n",
            "  inflating: voxceleb_sample_data/id10003/yzIXg93UOIM/00014.wav  \n",
            "  inflating: voxceleb_sample_data/id10003/yzIXg93UOIM/00015.wav  \n",
            "  inflating: voxceleb_sample_data/id10003/yzIXg93UOIM/00016.wav  \n",
            "  inflating: voxceleb_sample_data/id10003/yzIXg93UOIM/00017.wav  \n",
            "  inflating: voxceleb_sample_data/id10003/yzIXg93UOIM/00018.wav  \n",
            "  inflating: voxceleb_sample_data/id10003/yzIXg93UOIM/00019.wav  \n",
            "  inflating: voxceleb_sample_data/id10003/yzIXg93UOIM/00020.wav  \n",
            "  inflating: voxceleb_sample_data/id10003/yzIXg93UOIM/00021.wav  \n",
            "  inflating: voxceleb_sample_data/id10003/yzIXg93UOIM/00022.wav  \n",
            "  inflating: voxceleb_sample_data/id10003/yzIXg93UOIM/00023.wav  \n",
            "  inflating: voxceleb_sample_data/id10003/yzIXg93UOIM/00024.wav  \n",
            "  inflating: voxceleb_sample_data/id10003/yzIXg93UOIM/00025.wav  \n",
            "  inflating: voxceleb_sample_data/id10003/yzIXg93UOIM/00026.wav  \n",
            "  inflating: voxceleb_sample_data/id10003/yzIXg93UOIM/00027.wav  \n",
            "  inflating: voxceleb_sample_data/id10003/yzIXg93UOIM/00028.wav  \n",
            "  inflating: voxceleb_sample_data/id10003/yzIXg93UOIM/00029.wav  \n",
            "  inflating: voxceleb_sample_data/id10003/yzIXg93UOIM/00030.wav  \n",
            "  inflating: voxceleb_sample_data/id10003/yzIXg93UOIM/00031.wav  \n",
            "  inflating: voxceleb_sample_data/id10003/yzIXg93UOIM/00032.wav  \n",
            "  inflating: voxceleb_sample_data/id10003/yzIXg93UOIM/00033.wav  \n",
            "  inflating: voxceleb_sample_data/id10003/yzIXg93UOIM/00034.wav  \n",
            "   creating: voxceleb_sample_data/id10003/_JpHD6VnJ3I/\n",
            "  inflating: voxceleb_sample_data/id10003/_JpHD6VnJ3I/00001.wav  \n",
            "  inflating: voxceleb_sample_data/id10003/_JpHD6VnJ3I/00002.wav  \n",
            "   creating: voxceleb_sample_data/id10004/\n",
            "   creating: voxceleb_sample_data/id10004/6WxS8rpNjmk/\n",
            "  inflating: voxceleb_sample_data/id10004/6WxS8rpNjmk/00001.wav  \n",
            "  inflating: voxceleb_sample_data/id10004/6WxS8rpNjmk/00002.wav  \n",
            "  inflating: voxceleb_sample_data/id10004/6WxS8rpNjmk/00003.wav  \n",
            "   creating: voxceleb_sample_data/id10004/8mWxQ6DRO-U/\n",
            "  inflating: voxceleb_sample_data/id10004/8mWxQ6DRO-U/00001.wav  \n",
            "  inflating: voxceleb_sample_data/id10004/8mWxQ6DRO-U/00002.wav  \n",
            "  inflating: voxceleb_sample_data/id10004/8mWxQ6DRO-U/00003.wav  \n",
            "  inflating: voxceleb_sample_data/id10004/8mWxQ6DRO-U/00004.wav  \n",
            "   creating: voxceleb_sample_data/id10004/bIZQaEVuATQ/\n",
            "  inflating: voxceleb_sample_data/id10004/bIZQaEVuATQ/00001.wav  \n",
            "  inflating: voxceleb_sample_data/id10004/bIZQaEVuATQ/00002.wav  \n",
            "  inflating: voxceleb_sample_data/id10004/bIZQaEVuATQ/00003.wav  \n",
            "  inflating: voxceleb_sample_data/id10004/bIZQaEVuATQ/00004.wav  \n",
            "  inflating: voxceleb_sample_data/id10004/bIZQaEVuATQ/00005.wav  \n",
            "  inflating: voxceleb_sample_data/id10004/bIZQaEVuATQ/00006.wav  \n",
            "  inflating: voxceleb_sample_data/id10004/bIZQaEVuATQ/00007.wav  \n",
            "  inflating: voxceleb_sample_data/id10004/bIZQaEVuATQ/00008.wav  \n",
            "  inflating: voxceleb_sample_data/id10004/bIZQaEVuATQ/00009.wav  \n",
            "  inflating: voxceleb_sample_data/id10004/bIZQaEVuATQ/00010.wav  \n",
            "  inflating: voxceleb_sample_data/id10004/bIZQaEVuATQ/00011.wav  \n",
            "  inflating: voxceleb_sample_data/id10004/bIZQaEVuATQ/00012.wav  \n",
            "  inflating: voxceleb_sample_data/id10004/bIZQaEVuATQ/00013.wav  \n",
            "  inflating: voxceleb_sample_data/id10004/bIZQaEVuATQ/00014.wav  \n",
            "  inflating: voxceleb_sample_data/id10004/bIZQaEVuATQ/00015.wav  \n",
            "  inflating: voxceleb_sample_data/id10004/bIZQaEVuATQ/00016.wav  \n",
            "   creating: voxceleb_sample_data/id10004/BOAd7pybyZw/\n",
            "  inflating: voxceleb_sample_data/id10004/BOAd7pybyZw/00001.wav  \n",
            "  inflating: voxceleb_sample_data/id10004/BOAd7pybyZw/00002.wav  \n",
            "  inflating: voxceleb_sample_data/id10004/BOAd7pybyZw/00003.wav  \n",
            "  inflating: voxceleb_sample_data/id10004/BOAd7pybyZw/00004.wav  \n",
            "  inflating: voxceleb_sample_data/id10004/BOAd7pybyZw/00005.wav  \n",
            "   creating: voxceleb_sample_data/id10004/CCygVo0iPvw/\n",
            "  inflating: voxceleb_sample_data/id10004/CCygVo0iPvw/00001.wav  \n",
            "  inflating: voxceleb_sample_data/id10004/CCygVo0iPvw/00002.wav  \n",
            "   creating: voxceleb_sample_data/id10004/CWTpJe2RqOA/\n",
            "  inflating: voxceleb_sample_data/id10004/CWTpJe2RqOA/00001.wav  \n",
            "  inflating: voxceleb_sample_data/id10004/CWTpJe2RqOA/00002.wav  \n",
            "  inflating: voxceleb_sample_data/id10004/CWTpJe2RqOA/00003.wav  \n",
            "  inflating: voxceleb_sample_data/id10004/CWTpJe2RqOA/00004.wav  \n",
            "   creating: voxceleb_sample_data/id10004/dwKTFeIhTOQ/\n",
            "  inflating: voxceleb_sample_data/id10004/dwKTFeIhTOQ/00001.wav  \n",
            "   creating: voxceleb_sample_data/id10004/eaYIxBz6lBU/\n",
            "  inflating: voxceleb_sample_data/id10004/eaYIxBz6lBU/00001.wav  \n",
            "   creating: voxceleb_sample_data/id10004/IEV-I9f21ns/\n",
            "  inflating: voxceleb_sample_data/id10004/IEV-I9f21ns/00001.wav  \n",
            "  inflating: voxceleb_sample_data/id10004/IEV-I9f21ns/00002.wav  \n",
            "  inflating: voxceleb_sample_data/id10004/IEV-I9f21ns/00003.wav  \n",
            "   creating: voxceleb_sample_data/id10004/JKMfqmjUwMU/\n",
            "  inflating: voxceleb_sample_data/id10004/JKMfqmjUwMU/00001.wav  \n",
            "  inflating: voxceleb_sample_data/id10004/JKMfqmjUwMU/00002.wav  \n",
            "  inflating: voxceleb_sample_data/id10004/JKMfqmjUwMU/00003.wav  \n",
            "  inflating: voxceleb_sample_data/id10004/JKMfqmjUwMU/00004.wav  \n",
            "  inflating: voxceleb_sample_data/id10004/JKMfqmjUwMU/00005.wav  \n",
            "  inflating: voxceleb_sample_data/id10004/JKMfqmjUwMU/00006.wav  \n",
            "  inflating: voxceleb_sample_data/id10004/JKMfqmjUwMU/00007.wav  \n",
            "  inflating: voxceleb_sample_data/id10004/JKMfqmjUwMU/00008.wav  \n",
            "  inflating: voxceleb_sample_data/id10004/JKMfqmjUwMU/00009.wav  \n",
            "  inflating: voxceleb_sample_data/id10004/JKMfqmjUwMU/00010.wav  \n",
            "  inflating: voxceleb_sample_data/id10004/JKMfqmjUwMU/00011.wav  \n",
            "  inflating: voxceleb_sample_data/id10004/JKMfqmjUwMU/00012.wav  \n",
            "  inflating: voxceleb_sample_data/id10004/JKMfqmjUwMU/00013.wav  \n",
            "   creating: voxceleb_sample_data/id10004/lu_eVSfv3Tg/\n",
            "  inflating: voxceleb_sample_data/id10004/lu_eVSfv3Tg/00001.wav  \n",
            "  inflating: voxceleb_sample_data/id10004/lu_eVSfv3Tg/00002.wav  \n",
            "  inflating: voxceleb_sample_data/id10004/lu_eVSfv3Tg/00003.wav  \n",
            "  inflating: voxceleb_sample_data/id10004/lu_eVSfv3Tg/00004.wav  \n",
            "  inflating: voxceleb_sample_data/id10004/lu_eVSfv3Tg/00005.wav  \n",
            "  inflating: voxceleb_sample_data/id10004/lu_eVSfv3Tg/00006.wav  \n",
            "  inflating: voxceleb_sample_data/id10004/lu_eVSfv3Tg/00007.wav  \n",
            "  inflating: voxceleb_sample_data/id10004/lu_eVSfv3Tg/00008.wav  \n",
            "  inflating: voxceleb_sample_data/id10004/lu_eVSfv3Tg/00009.wav  \n",
            "  inflating: voxceleb_sample_data/id10004/lu_eVSfv3Tg/00010.wav  \n",
            "  inflating: voxceleb_sample_data/id10004/lu_eVSfv3Tg/00011.wav  \n",
            "  inflating: voxceleb_sample_data/id10004/lu_eVSfv3Tg/00012.wav  \n",
            "  inflating: voxceleb_sample_data/id10004/lu_eVSfv3Tg/00013.wav  \n",
            "  inflating: voxceleb_sample_data/id10004/lu_eVSfv3Tg/00014.wav  \n",
            "  inflating: voxceleb_sample_data/id10004/lu_eVSfv3Tg/00015.wav  \n",
            "  inflating: voxceleb_sample_data/id10004/lu_eVSfv3Tg/00016.wav  \n",
            "  inflating: voxceleb_sample_data/id10004/lu_eVSfv3Tg/00017.wav  \n",
            "  inflating: voxceleb_sample_data/id10004/lu_eVSfv3Tg/00018.wav  \n",
            "  inflating: voxceleb_sample_data/id10004/lu_eVSfv3Tg/00019.wav  \n",
            "  inflating: voxceleb_sample_data/id10004/lu_eVSfv3Tg/00020.wav  \n",
            "  inflating: voxceleb_sample_data/id10004/lu_eVSfv3Tg/00021.wav  \n",
            "  inflating: voxceleb_sample_data/id10004/lu_eVSfv3Tg/00022.wav  \n",
            "  inflating: voxceleb_sample_data/id10004/lu_eVSfv3Tg/00023.wav  \n",
            "  inflating: voxceleb_sample_data/id10004/lu_eVSfv3Tg/00024.wav  \n",
            "  inflating: voxceleb_sample_data/id10004/lu_eVSfv3Tg/00025.wav  \n",
            "  inflating: voxceleb_sample_data/id10004/lu_eVSfv3Tg/00026.wav  \n",
            "  inflating: voxceleb_sample_data/id10004/lu_eVSfv3Tg/00027.wav  \n",
            "  inflating: voxceleb_sample_data/id10004/lu_eVSfv3Tg/00028.wav  \n",
            "  inflating: voxceleb_sample_data/id10004/lu_eVSfv3Tg/00029.wav  \n",
            "  inflating: voxceleb_sample_data/id10004/lu_eVSfv3Tg/00030.wav  \n",
            "  inflating: voxceleb_sample_data/id10004/lu_eVSfv3Tg/00031.wav  \n",
            "  inflating: voxceleb_sample_data/id10004/lu_eVSfv3Tg/00032.wav  \n",
            "  inflating: voxceleb_sample_data/id10004/lu_eVSfv3Tg/00033.wav  \n",
            "  inflating: voxceleb_sample_data/id10004/lu_eVSfv3Tg/00034.wav  \n",
            "  inflating: voxceleb_sample_data/id10004/lu_eVSfv3Tg/00035.wav  \n",
            "  inflating: voxceleb_sample_data/id10004/lu_eVSfv3Tg/00036.wav  \n",
            "  inflating: voxceleb_sample_data/id10004/lu_eVSfv3Tg/00037.wav  \n",
            "   creating: voxceleb_sample_data/id10004/Oftn1-Z0Lbk/\n",
            "  inflating: voxceleb_sample_data/id10004/Oftn1-Z0Lbk/00001.wav  \n",
            "   creating: voxceleb_sample_data/id10004/q6QJY1ndpOY/\n",
            "  inflating: voxceleb_sample_data/id10004/q6QJY1ndpOY/00001.wav  \n",
            "  inflating: voxceleb_sample_data/id10004/q6QJY1ndpOY/00002.wav  \n",
            "  inflating: voxceleb_sample_data/id10004/q6QJY1ndpOY/00003.wav  \n",
            "  inflating: voxceleb_sample_data/id10004/q6QJY1ndpOY/00004.wav  \n",
            "   creating: voxceleb_sample_data/id10004/qqhJQYlENHs/\n",
            "  inflating: voxceleb_sample_data/id10004/qqhJQYlENHs/00001.wav  \n",
            "  inflating: voxceleb_sample_data/id10004/qqhJQYlENHs/00002.wav  \n",
            "   creating: voxceleb_sample_data/id10004/SMKC-WLY6F0/\n",
            "  inflating: voxceleb_sample_data/id10004/SMKC-WLY6F0/00001.wav  \n",
            "   creating: voxceleb_sample_data/id10004/wQJ3cED8ZSw/\n",
            "  inflating: voxceleb_sample_data/id10004/wQJ3cED8ZSw/00001.wav  \n",
            "  inflating: voxceleb_sample_data/id10004/wQJ3cED8ZSw/00002.wav  \n",
            "  inflating: voxceleb_sample_data/id10004/wQJ3cED8ZSw/00003.wav  \n",
            "   creating: voxceleb_sample_data/id10004/zcB1pnBt_Tc/\n",
            "  inflating: voxceleb_sample_data/id10004/zcB1pnBt_Tc/00001.wav  \n",
            "  inflating: voxceleb_sample_data/id10004/zcB1pnBt_Tc/00002.wav  \n",
            "  inflating: voxceleb_sample_data/id10004/zcB1pnBt_Tc/00003.wav  \n",
            "  inflating: voxceleb_sample_data/id10004/zcB1pnBt_Tc/00004.wav  \n",
            "  inflating: voxceleb_sample_data/id10004/zcB1pnBt_Tc/00005.wav  \n",
            "  inflating: voxceleb_sample_data/id10004/zcB1pnBt_Tc/00006.wav  \n",
            "  inflating: voxceleb_sample_data/id10004/zcB1pnBt_Tc/00007.wav  \n",
            "  inflating: voxceleb_sample_data/id10004/zcB1pnBt_Tc/00008.wav  \n",
            "   creating: voxceleb_sample_data/id10005/\n",
            "  inflating: voxceleb_sample_data/id10005/.DS_Store  \n",
            "   creating: voxceleb_sample_data/id10005/1geDB-I2TjE/\n",
            "  inflating: voxceleb_sample_data/id10005/1geDB-I2TjE/00001.wav  \n",
            "   creating: voxceleb_sample_data/id10005/38_N-A-QOUo/\n",
            "  inflating: voxceleb_sample_data/id10005/38_N-A-QOUo/00001.wav  \n",
            "  inflating: voxceleb_sample_data/id10005/38_N-A-QOUo/00002.wav  \n",
            "  inflating: voxceleb_sample_data/id10005/38_N-A-QOUo/00003.wav  \n",
            "  inflating: voxceleb_sample_data/id10005/38_N-A-QOUo/00004.wav  \n",
            "  inflating: voxceleb_sample_data/id10005/38_N-A-QOUo/00005.wav  \n",
            "  inflating: voxceleb_sample_data/id10005/38_N-A-QOUo/00006.wav  \n",
            "  inflating: voxceleb_sample_data/id10005/38_N-A-QOUo/00007.wav  \n",
            "  inflating: voxceleb_sample_data/id10005/38_N-A-QOUo/00008.wav  \n",
            "  inflating: voxceleb_sample_data/id10005/38_N-A-QOUo/00009.wav  \n",
            "  inflating: voxceleb_sample_data/id10005/38_N-A-QOUo/00010.wav  \n",
            "  inflating: voxceleb_sample_data/id10005/38_N-A-QOUo/00011.wav  \n",
            "  inflating: voxceleb_sample_data/id10005/38_N-A-QOUo/00012.wav  \n",
            "   creating: voxceleb_sample_data/id10005/6-crWEwaThs/\n",
            "  inflating: voxceleb_sample_data/id10005/6-crWEwaThs/00001.wav  \n",
            "  inflating: voxceleb_sample_data/id10005/6-crWEwaThs/00002.wav  \n",
            "   creating: voxceleb_sample_data/id10005/L21ozpbmODY/\n",
            "  inflating: voxceleb_sample_data/id10005/L21ozpbmODY/00001.wav  \n",
            "   creating: voxceleb_sample_data/id10005/mzZj5a0FgZY/\n",
            "  inflating: voxceleb_sample_data/id10005/mzZj5a0FgZY/00001.wav  \n",
            "   creating: voxceleb_sample_data/id10005/oJYptXzCASM/\n",
            "  inflating: voxceleb_sample_data/id10005/oJYptXzCASM/00001.wav  \n",
            "   creating: voxceleb_sample_data/id10005/PP0cQLwYz5M/\n",
            "  inflating: voxceleb_sample_data/id10005/PP0cQLwYz5M/00001.wav  \n",
            "  inflating: voxceleb_sample_data/id10005/PP0cQLwYz5M/00002.wav  \n",
            "  inflating: voxceleb_sample_data/id10005/PP0cQLwYz5M/00003.wav  \n",
            "  inflating: voxceleb_sample_data/id10005/PP0cQLwYz5M/00004.wav  \n",
            "  inflating: voxceleb_sample_data/id10005/PP0cQLwYz5M/00005.wav  \n",
            "  inflating: voxceleb_sample_data/id10005/PP0cQLwYz5M/00006.wav  \n",
            "   creating: voxceleb_sample_data/id10005/RSguOg1U-NA/\n",
            "  inflating: voxceleb_sample_data/id10005/RSguOg1U-NA/00001.wav  \n",
            "  inflating: voxceleb_sample_data/id10005/RSguOg1U-NA/00002.wav  \n",
            "  inflating: voxceleb_sample_data/id10005/RSguOg1U-NA/00003.wav  \n",
            "  inflating: voxceleb_sample_data/id10005/RSguOg1U-NA/00004.wav  \n",
            "   creating: voxceleb_sample_data/id10005/UguBGTDl3FM/\n",
            "  inflating: voxceleb_sample_data/id10005/UguBGTDl3FM/00001.wav  \n",
            "   creating: voxceleb_sample_data/id10005/WD-MtwoWSxs/\n",
            "  inflating: voxceleb_sample_data/id10005/WD-MtwoWSxs/00001.wav  \n",
            "  inflating: voxceleb_sample_data/id10005/WD-MtwoWSxs/00002.wav  \n",
            "  inflating: voxceleb_sample_data/id10005/WD-MtwoWSxs/00003.wav  \n",
            "  inflating: voxceleb_sample_data/id10005/WD-MtwoWSxs/00004.wav  \n",
            "  inflating: voxceleb_sample_data/id10005/WD-MtwoWSxs/00005.wav  \n",
            "  inflating: voxceleb_sample_data/id10005/WD-MtwoWSxs/00006.wav  \n",
            "  inflating: voxceleb_sample_data/id10005/WD-MtwoWSxs/00007.wav  \n",
            "  inflating: voxceleb_sample_data/id10005/WD-MtwoWSxs/00008.wav  \n",
            "  inflating: voxceleb_sample_data/id10005/WD-MtwoWSxs/00009.wav  \n",
            "   creating: voxceleb_sample_data/id10005/WMh3ye5tBsE/\n",
            "  inflating: voxceleb_sample_data/id10005/WMh3ye5tBsE/00001.wav  \n",
            "  inflating: voxceleb_sample_data/id10005/WMh3ye5tBsE/00002.wav  \n",
            "  inflating: voxceleb_sample_data/id10005/WMh3ye5tBsE/00003.wav  \n",
            "  inflating: voxceleb_sample_data/id10005/WMh3ye5tBsE/00004.wav  \n",
            "  inflating: voxceleb_sample_data/id10005/WMh3ye5tBsE/00005.wav  \n",
            "   creating: voxceleb_sample_data/id10005/x-1gq_B3snI/\n",
            "  inflating: voxceleb_sample_data/id10005/x-1gq_B3snI/00001.wav  \n",
            "  inflating: voxceleb_sample_data/id10005/x-1gq_B3snI/00002.wav  \n",
            "   creating: voxceleb_sample_data/id10005/Yks5By_Hv_Y/\n",
            "  inflating: voxceleb_sample_data/id10005/Yks5By_Hv_Y/00001.wav  \n",
            "   creating: voxceleb_sample_data/id10005/ZZR6EqjbzwI/\n",
            "  inflating: voxceleb_sample_data/id10005/ZZR6EqjbzwI/00001.wav  \n",
            "  inflating: voxceleb_sample_data/id10005/ZZR6EqjbzwI/00002.wav  \n",
            "  inflating: voxceleb_sample_data/id10005/ZZR6EqjbzwI/00003.wav  \n",
            "  inflating: voxceleb_sample_data/id10005/ZZR6EqjbzwI/00004.wav  \n",
            "  inflating: voxceleb_sample_data/id10005/ZZR6EqjbzwI/00005.wav  \n",
            "  inflating: voxceleb_sample_data/id10005/ZZR6EqjbzwI/00006.wav  \n",
            "  inflating: voxceleb_sample_data/id10005/ZZR6EqjbzwI/00007.wav  \n",
            "  inflating: voxceleb_sample_data/id10005/ZZR6EqjbzwI/00008.wav  \n",
            "  inflating: voxceleb_sample_data/id10005/ZZR6EqjbzwI/00009.wav  \n",
            "  inflating: voxceleb_sample_data/id10005/ZZR6EqjbzwI/00010.wav  \n",
            "  inflating: voxceleb_sample_data/id10005/ZZR6EqjbzwI/00011.wav  \n",
            "  inflating: voxceleb_sample_data/id10005/ZZR6EqjbzwI/00012.wav  \n",
            "  inflating: voxceleb_sample_data/id10005/ZZR6EqjbzwI/00013.wav  \n",
            "   creating: voxceleb_sample_data/id10006/\n",
            "   creating: voxceleb_sample_data/id10006/0otHlFztX8I/\n",
            "  inflating: voxceleb_sample_data/id10006/0otHlFztX8I/00001.wav  \n",
            "  inflating: voxceleb_sample_data/id10006/0otHlFztX8I/00002.wav  \n",
            "  inflating: voxceleb_sample_data/id10006/0otHlFztX8I/00003.wav  \n",
            "  inflating: voxceleb_sample_data/id10006/0otHlFztX8I/00004.wav  \n",
            "  inflating: voxceleb_sample_data/id10006/0otHlFztX8I/00005.wav  \n",
            "  inflating: voxceleb_sample_data/id10006/0otHlFztX8I/00006.wav  \n",
            "  inflating: voxceleb_sample_data/id10006/0otHlFztX8I/00007.wav  \n",
            "  inflating: voxceleb_sample_data/id10006/0otHlFztX8I/00008.wav  \n",
            "  inflating: voxceleb_sample_data/id10006/0otHlFztX8I/00009.wav  \n",
            "  inflating: voxceleb_sample_data/id10006/0otHlFztX8I/00010.wav  \n",
            "  inflating: voxceleb_sample_data/id10006/0otHlFztX8I/00011.wav  \n",
            "  inflating: voxceleb_sample_data/id10006/0otHlFztX8I/00012.wav  \n",
            "  inflating: voxceleb_sample_data/id10006/0otHlFztX8I/00013.wav  \n",
            "  inflating: voxceleb_sample_data/id10006/0otHlFztX8I/00014.wav  \n",
            "  inflating: voxceleb_sample_data/id10006/0otHlFztX8I/00015.wav  \n",
            "   creating: voxceleb_sample_data/id10006/3MwyuwaVE50/\n",
            "  inflating: voxceleb_sample_data/id10006/3MwyuwaVE50/00001.wav  \n",
            "  inflating: voxceleb_sample_data/id10006/3MwyuwaVE50/00002.wav  \n",
            "  inflating: voxceleb_sample_data/id10006/3MwyuwaVE50/00003.wav  \n",
            "  inflating: voxceleb_sample_data/id10006/3MwyuwaVE50/00004.wav  \n",
            "  inflating: voxceleb_sample_data/id10006/3MwyuwaVE50/00005.wav  \n",
            "  inflating: voxceleb_sample_data/id10006/3MwyuwaVE50/00006.wav  \n",
            "  inflating: voxceleb_sample_data/id10006/3MwyuwaVE50/00007.wav  \n",
            "  inflating: voxceleb_sample_data/id10006/3MwyuwaVE50/00008.wav  \n",
            "  inflating: voxceleb_sample_data/id10006/3MwyuwaVE50/00009.wav  \n",
            "  inflating: voxceleb_sample_data/id10006/3MwyuwaVE50/00010.wav  \n",
            "  inflating: voxceleb_sample_data/id10006/3MwyuwaVE50/00011.wav  \n",
            "  inflating: voxceleb_sample_data/id10006/3MwyuwaVE50/00012.wav  \n",
            "  inflating: voxceleb_sample_data/id10006/3MwyuwaVE50/00013.wav  \n",
            "   creating: voxceleb_sample_data/id10006/3RybHF5mX78/\n",
            "  inflating: voxceleb_sample_data/id10006/3RybHF5mX78/00001.wav  \n",
            "  inflating: voxceleb_sample_data/id10006/3RybHF5mX78/00002.wav  \n",
            "   creating: voxceleb_sample_data/id10006/5PBimrKDrJQ/\n",
            "  inflating: voxceleb_sample_data/id10006/5PBimrKDrJQ/00001.wav  \n",
            "  inflating: voxceleb_sample_data/id10006/5PBimrKDrJQ/00002.wav  \n",
            "  inflating: voxceleb_sample_data/id10006/5PBimrKDrJQ/00003.wav  \n",
            "  inflating: voxceleb_sample_data/id10006/5PBimrKDrJQ/00004.wav  \n",
            "   creating: voxceleb_sample_data/id10006/5tGaUGO_z50/\n",
            "  inflating: voxceleb_sample_data/id10006/5tGaUGO_z50/00001.wav  \n",
            "   creating: voxceleb_sample_data/id10006/7qUfkhbDaqc/\n",
            "  inflating: voxceleb_sample_data/id10006/7qUfkhbDaqc/00001.wav  \n",
            "  inflating: voxceleb_sample_data/id10006/7qUfkhbDaqc/00002.wav  \n",
            "  inflating: voxceleb_sample_data/id10006/7qUfkhbDaqc/00003.wav  \n",
            "  inflating: voxceleb_sample_data/id10006/7qUfkhbDaqc/00004.wav  \n",
            "  inflating: voxceleb_sample_data/id10006/7qUfkhbDaqc/00005.wav  \n",
            "  inflating: voxceleb_sample_data/id10006/7qUfkhbDaqc/00006.wav  \n",
            "   creating: voxceleb_sample_data/id10006/7W9goO0lNrA/\n",
            "  inflating: voxceleb_sample_data/id10006/7W9goO0lNrA/00001.wav  \n",
            "  inflating: voxceleb_sample_data/id10006/7W9goO0lNrA/00002.wav  \n",
            "   creating: voxceleb_sample_data/id10006/88biLNZtnag/\n",
            "  inflating: voxceleb_sample_data/id10006/88biLNZtnag/00001.wav  \n",
            "  inflating: voxceleb_sample_data/id10006/88biLNZtnag/00002.wav  \n",
            "  inflating: voxceleb_sample_data/id10006/88biLNZtnag/00003.wav  \n",
            "   creating: voxceleb_sample_data/id10006/aaOv6y3Ii4o/\n",
            "  inflating: voxceleb_sample_data/id10006/aaOv6y3Ii4o/00001.wav  \n",
            "  inflating: voxceleb_sample_data/id10006/aaOv6y3Ii4o/00002.wav  \n",
            "  inflating: voxceleb_sample_data/id10006/aaOv6y3Ii4o/00003.wav  \n",
            "  inflating: voxceleb_sample_data/id10006/aaOv6y3Ii4o/00004.wav  \n",
            "  inflating: voxceleb_sample_data/id10006/aaOv6y3Ii4o/00005.wav  \n",
            "  inflating: voxceleb_sample_data/id10006/aaOv6y3Ii4o/00006.wav  \n",
            "  inflating: voxceleb_sample_data/id10006/aaOv6y3Ii4o/00007.wav  \n",
            "  inflating: voxceleb_sample_data/id10006/aaOv6y3Ii4o/00008.wav  \n",
            "  inflating: voxceleb_sample_data/id10006/aaOv6y3Ii4o/00009.wav  \n",
            "  inflating: voxceleb_sample_data/id10006/aaOv6y3Ii4o/00010.wav  \n",
            "  inflating: voxceleb_sample_data/id10006/aaOv6y3Ii4o/00011.wav  \n",
            "  inflating: voxceleb_sample_data/id10006/aaOv6y3Ii4o/00012.wav  \n",
            "   creating: voxceleb_sample_data/id10006/c-4jmRmEqEc/\n",
            "  inflating: voxceleb_sample_data/id10006/c-4jmRmEqEc/00001.wav  \n",
            "  inflating: voxceleb_sample_data/id10006/c-4jmRmEqEc/00002.wav  \n",
            "  inflating: voxceleb_sample_data/id10006/c-4jmRmEqEc/00003.wav  \n",
            "  inflating: voxceleb_sample_data/id10006/c-4jmRmEqEc/00004.wav  \n",
            "   creating: voxceleb_sample_data/id10006/DjrTX2Z-rzI/\n",
            "  inflating: voxceleb_sample_data/id10006/DjrTX2Z-rzI/00001.wav  \n",
            "  inflating: voxceleb_sample_data/id10006/DjrTX2Z-rzI/00002.wav  \n",
            "  inflating: voxceleb_sample_data/id10006/DjrTX2Z-rzI/00003.wav  \n",
            "   creating: voxceleb_sample_data/id10006/Dv-wtqTn0wE/\n",
            "  inflating: voxceleb_sample_data/id10006/Dv-wtqTn0wE/00001.wav  \n",
            "  inflating: voxceleb_sample_data/id10006/Dv-wtqTn0wE/00002.wav  \n",
            "  inflating: voxceleb_sample_data/id10006/Dv-wtqTn0wE/00003.wav  \n",
            "   creating: voxceleb_sample_data/id10006/J7VccwLPdrI/\n",
            "  inflating: voxceleb_sample_data/id10006/J7VccwLPdrI/00001.wav  \n",
            "  inflating: voxceleb_sample_data/id10006/J7VccwLPdrI/00002.wav  \n",
            "  inflating: voxceleb_sample_data/id10006/J7VccwLPdrI/00003.wav  \n",
            "  inflating: voxceleb_sample_data/id10006/J7VccwLPdrI/00004.wav  \n",
            "  inflating: voxceleb_sample_data/id10006/J7VccwLPdrI/00005.wav  \n",
            "  inflating: voxceleb_sample_data/id10006/J7VccwLPdrI/00006.wav  \n",
            "  inflating: voxceleb_sample_data/id10006/J7VccwLPdrI/00007.wav  \n",
            "  inflating: voxceleb_sample_data/id10006/J7VccwLPdrI/00008.wav  \n",
            "  inflating: voxceleb_sample_data/id10006/J7VccwLPdrI/00009.wav  \n",
            "  inflating: voxceleb_sample_data/id10006/J7VccwLPdrI/00010.wav  \n",
            "   creating: voxceleb_sample_data/id10006/KFllccZyqeY/\n",
            "  inflating: voxceleb_sample_data/id10006/KFllccZyqeY/00001.wav  \n",
            "  inflating: voxceleb_sample_data/id10006/KFllccZyqeY/00002.wav  \n",
            "   creating: voxceleb_sample_data/id10006/nLEBBc9oIFs/\n",
            "  inflating: voxceleb_sample_data/id10006/nLEBBc9oIFs/00001.wav  \n",
            "  inflating: voxceleb_sample_data/id10006/nLEBBc9oIFs/00002.wav  \n",
            "  inflating: voxceleb_sample_data/id10006/nLEBBc9oIFs/00003.wav  \n",
            "  inflating: voxceleb_sample_data/id10006/nLEBBc9oIFs/00004.wav  \n",
            "  inflating: voxceleb_sample_data/id10006/nLEBBc9oIFs/00005.wav  \n",
            "  inflating: voxceleb_sample_data/id10006/nLEBBc9oIFs/00006.wav  \n",
            "  inflating: voxceleb_sample_data/id10006/nLEBBc9oIFs/00007.wav  \n",
            "  inflating: voxceleb_sample_data/id10006/nLEBBc9oIFs/00008.wav  \n",
            "  inflating: voxceleb_sample_data/id10006/nLEBBc9oIFs/00009.wav  \n",
            "  inflating: voxceleb_sample_data/id10006/nLEBBc9oIFs/00010.wav  \n",
            "   creating: voxceleb_sample_data/id10006/nzDmrjyy8ls/\n",
            "  inflating: voxceleb_sample_data/id10006/nzDmrjyy8ls/00001.wav  \n",
            "  inflating: voxceleb_sample_data/id10006/nzDmrjyy8ls/00002.wav  \n",
            "  inflating: voxceleb_sample_data/id10006/nzDmrjyy8ls/00003.wav  \n",
            "  inflating: voxceleb_sample_data/id10006/nzDmrjyy8ls/00004.wav  \n",
            "   creating: voxceleb_sample_data/id10006/QEUVd2ZIcTg/\n",
            "  inflating: voxceleb_sample_data/id10006/QEUVd2ZIcTg/00001.wav  \n",
            "   creating: voxceleb_sample_data/id10006/rgfcI2Wy4mY/\n",
            "  inflating: voxceleb_sample_data/id10006/rgfcI2Wy4mY/00001.wav  \n",
            "  inflating: voxceleb_sample_data/id10006/rgfcI2Wy4mY/00002.wav  \n",
            "   creating: voxceleb_sample_data/id10006/VaFNI2T9PTA/\n",
            "  inflating: voxceleb_sample_data/id10006/VaFNI2T9PTA/00001.wav  \n",
            "  inflating: voxceleb_sample_data/id10006/VaFNI2T9PTA/00002.wav  \n",
            "  inflating: voxceleb_sample_data/id10006/VaFNI2T9PTA/00003.wav  \n",
            "  inflating: voxceleb_sample_data/id10006/VaFNI2T9PTA/00004.wav  \n",
            "  inflating: voxceleb_sample_data/id10006/VaFNI2T9PTA/00005.wav  \n",
            "  inflating: voxceleb_sample_data/id10006/VaFNI2T9PTA/00006.wav  \n",
            "  inflating: voxceleb_sample_data/id10006/VaFNI2T9PTA/00007.wav  \n",
            "  inflating: voxceleb_sample_data/id10006/VaFNI2T9PTA/00008.wav  \n",
            "   creating: voxceleb_sample_data/id10006/ZCRCpLUo9Ro/\n",
            "  inflating: voxceleb_sample_data/id10006/ZCRCpLUo9Ro/00001.wav  \n",
            "  inflating: voxceleb_sample_data/id10006/ZCRCpLUo9Ro/00002.wav  \n",
            "  inflating: voxceleb_sample_data/id10006/ZCRCpLUo9Ro/00003.wav  \n",
            "  inflating: voxceleb_sample_data/id10006/ZCRCpLUo9Ro/00004.wav  \n",
            "  inflating: voxceleb_sample_data/id10006/ZCRCpLUo9Ro/00005.wav  \n",
            "  inflating: voxceleb_sample_data/id10006/ZCRCpLUo9Ro/00006.wav  \n",
            "   creating: voxceleb_sample_data/id10006/ZlLPhRabPPw/\n",
            "  inflating: voxceleb_sample_data/id10006/ZlLPhRabPPw/00001.wav  \n",
            "  inflating: voxceleb_sample_data/id10006/ZlLPhRabPPw/00002.wav  \n",
            "  inflating: voxceleb_sample_data/id10006/ZlLPhRabPPw/00003.wav  \n",
            "  inflating: voxceleb_sample_data/id10006/ZlLPhRabPPw/00004.wav  \n",
            "  inflating: voxceleb_sample_data/id10006/ZlLPhRabPPw/00005.wav  \n",
            "  inflating: voxceleb_sample_data/id10006/ZlLPhRabPPw/00006.wav  \n",
            "  inflating: voxceleb_sample_data/id10006/ZlLPhRabPPw/00007.wav  \n",
            "  inflating: voxceleb_sample_data/id10006/ZlLPhRabPPw/00008.wav  \n",
            "  inflating: voxceleb_sample_data/id10006/ZlLPhRabPPw/00009.wav  \n",
            "  inflating: voxceleb_sample_data/id10006/ZlLPhRabPPw/00010.wav  \n",
            "  inflating: voxceleb_sample_data/id10006/ZlLPhRabPPw/00011.wav  \n",
            "   creating: voxceleb_sample_data/id10006/zQROl4ZsMVA/\n",
            "  inflating: voxceleb_sample_data/id10006/zQROl4ZsMVA/00001.wav  \n",
            "  inflating: voxceleb_sample_data/id10006/zQROl4ZsMVA/00002.wav  \n",
            "  inflating: voxceleb_sample_data/id10006/zQROl4ZsMVA/00003.wav  \n",
            "   creating: voxceleb_sample_data/id10006/_xUsNvG7-Jk/\n",
            "  inflating: voxceleb_sample_data/id10006/_xUsNvG7-Jk/00001.wav  \n",
            "   creating: voxceleb_sample_data/id10007/\n",
            "   creating: voxceleb_sample_data/id10007/10Oe0XETA0s/\n",
            "  inflating: voxceleb_sample_data/id10007/10Oe0XETA0s/00001.wav  \n",
            "  inflating: voxceleb_sample_data/id10007/10Oe0XETA0s/00002.wav  \n",
            "  inflating: voxceleb_sample_data/id10007/10Oe0XETA0s/00003.wav  \n",
            "  inflating: voxceleb_sample_data/id10007/10Oe0XETA0s/00004.wav  \n",
            "   creating: voxceleb_sample_data/id10007/5ExvrJyWpe8/\n",
            "  inflating: voxceleb_sample_data/id10007/5ExvrJyWpe8/00001.wav  \n",
            "  inflating: voxceleb_sample_data/id10007/5ExvrJyWpe8/00002.wav  \n",
            "  inflating: voxceleb_sample_data/id10007/5ExvrJyWpe8/00003.wav  \n",
            "  inflating: voxceleb_sample_data/id10007/5ExvrJyWpe8/00004.wav  \n",
            "  inflating: voxceleb_sample_data/id10007/5ExvrJyWpe8/00005.wav  \n",
            "  inflating: voxceleb_sample_data/id10007/5ExvrJyWpe8/00006.wav  \n",
            "   creating: voxceleb_sample_data/id10007/CzQPAaPrC-E/\n",
            "  inflating: voxceleb_sample_data/id10007/CzQPAaPrC-E/00001.wav  \n",
            "  inflating: voxceleb_sample_data/id10007/CzQPAaPrC-E/00002.wav  \n",
            "  inflating: voxceleb_sample_data/id10007/CzQPAaPrC-E/00003.wav  \n",
            "  inflating: voxceleb_sample_data/id10007/CzQPAaPrC-E/00004.wav  \n",
            "  inflating: voxceleb_sample_data/id10007/CzQPAaPrC-E/00005.wav  \n",
            "  inflating: voxceleb_sample_data/id10007/CzQPAaPrC-E/00006.wav  \n",
            "  inflating: voxceleb_sample_data/id10007/CzQPAaPrC-E/00007.wav  \n",
            "  inflating: voxceleb_sample_data/id10007/CzQPAaPrC-E/00008.wav  \n",
            "  inflating: voxceleb_sample_data/id10007/CzQPAaPrC-E/00009.wav  \n",
            "  inflating: voxceleb_sample_data/id10007/CzQPAaPrC-E/00010.wav  \n",
            "  inflating: voxceleb_sample_data/id10007/CzQPAaPrC-E/00011.wav  \n",
            "  inflating: voxceleb_sample_data/id10007/CzQPAaPrC-E/00012.wav  \n",
            "  inflating: voxceleb_sample_data/id10007/CzQPAaPrC-E/00013.wav  \n",
            "  inflating: voxceleb_sample_data/id10007/CzQPAaPrC-E/00014.wav  \n",
            "  inflating: voxceleb_sample_data/id10007/CzQPAaPrC-E/00015.wav  \n",
            "  inflating: voxceleb_sample_data/id10007/CzQPAaPrC-E/00016.wav  \n",
            "  inflating: voxceleb_sample_data/id10007/CzQPAaPrC-E/00017.wav  \n",
            "  inflating: voxceleb_sample_data/id10007/CzQPAaPrC-E/00018.wav  \n",
            "  inflating: voxceleb_sample_data/id10007/CzQPAaPrC-E/00019.wav  \n",
            "  inflating: voxceleb_sample_data/id10007/CzQPAaPrC-E/00020.wav  \n",
            "  inflating: voxceleb_sample_data/id10007/CzQPAaPrC-E/00021.wav  \n",
            "  inflating: voxceleb_sample_data/id10007/CzQPAaPrC-E/00022.wav  \n",
            "  inflating: voxceleb_sample_data/id10007/CzQPAaPrC-E/00023.wav  \n",
            "  inflating: voxceleb_sample_data/id10007/CzQPAaPrC-E/00024.wav  \n",
            "  inflating: voxceleb_sample_data/id10007/CzQPAaPrC-E/00025.wav  \n",
            "  inflating: voxceleb_sample_data/id10007/CzQPAaPrC-E/00026.wav  \n",
            "  inflating: voxceleb_sample_data/id10007/CzQPAaPrC-E/00027.wav  \n",
            "  inflating: voxceleb_sample_data/id10007/CzQPAaPrC-E/00028.wav  \n",
            "  inflating: voxceleb_sample_data/id10007/CzQPAaPrC-E/00029.wav  \n",
            "   creating: voxceleb_sample_data/id10007/foG5a3YtZzI/\n",
            "  inflating: voxceleb_sample_data/id10007/foG5a3YtZzI/00001.wav  \n",
            "  inflating: voxceleb_sample_data/id10007/foG5a3YtZzI/00002.wav  \n",
            "  inflating: voxceleb_sample_data/id10007/foG5a3YtZzI/00003.wav  \n",
            "  inflating: voxceleb_sample_data/id10007/foG5a3YtZzI/00004.wav  \n",
            "  inflating: voxceleb_sample_data/id10007/foG5a3YtZzI/00005.wav  \n",
            "  inflating: voxceleb_sample_data/id10007/foG5a3YtZzI/00006.wav  \n",
            "  inflating: voxceleb_sample_data/id10007/foG5a3YtZzI/00007.wav  \n",
            "  inflating: voxceleb_sample_data/id10007/foG5a3YtZzI/00008.wav  \n",
            "  inflating: voxceleb_sample_data/id10007/foG5a3YtZzI/00009.wav  \n",
            "  inflating: voxceleb_sample_data/id10007/foG5a3YtZzI/00010.wav  \n",
            "   creating: voxceleb_sample_data/id10007/G0lVD5d0KJo/\n",
            "  inflating: voxceleb_sample_data/id10007/G0lVD5d0KJo/00001.wav  \n",
            "  inflating: voxceleb_sample_data/id10007/G0lVD5d0KJo/00002.wav  \n",
            "  inflating: voxceleb_sample_data/id10007/G0lVD5d0KJo/00003.wav  \n",
            "   creating: voxceleb_sample_data/id10007/HxfxcxUXPDA/\n",
            "  inflating: voxceleb_sample_data/id10007/HxfxcxUXPDA/00001.wav  \n",
            "  inflating: voxceleb_sample_data/id10007/HxfxcxUXPDA/00002.wav  \n",
            "  inflating: voxceleb_sample_data/id10007/HxfxcxUXPDA/00003.wav  \n",
            "  inflating: voxceleb_sample_data/id10007/HxfxcxUXPDA/00004.wav  \n",
            "  inflating: voxceleb_sample_data/id10007/HxfxcxUXPDA/00005.wav  \n",
            "  inflating: voxceleb_sample_data/id10007/HxfxcxUXPDA/00006.wav  \n",
            "  inflating: voxceleb_sample_data/id10007/HxfxcxUXPDA/00007.wav  \n",
            "  inflating: voxceleb_sample_data/id10007/HxfxcxUXPDA/00008.wav  \n",
            "  inflating: voxceleb_sample_data/id10007/HxfxcxUXPDA/00009.wav  \n",
            "   creating: voxceleb_sample_data/id10007/IWAkF5uWjis/\n",
            "  inflating: voxceleb_sample_data/id10007/IWAkF5uWjis/00001.wav  \n",
            "  inflating: voxceleb_sample_data/id10007/IWAkF5uWjis/00002.wav  \n",
            "  inflating: voxceleb_sample_data/id10007/IWAkF5uWjis/00003.wav  \n",
            "  inflating: voxceleb_sample_data/id10007/IWAkF5uWjis/00004.wav  \n",
            "  inflating: voxceleb_sample_data/id10007/IWAkF5uWjis/00005.wav  \n",
            "  inflating: voxceleb_sample_data/id10007/IWAkF5uWjis/00006.wav  \n",
            "   creating: voxceleb_sample_data/id10007/Lc2IMwkXgnI/\n",
            "  inflating: voxceleb_sample_data/id10007/Lc2IMwkXgnI/00001.wav  \n",
            "  inflating: voxceleb_sample_data/id10007/Lc2IMwkXgnI/00002.wav  \n",
            "  inflating: voxceleb_sample_data/id10007/Lc2IMwkXgnI/00003.wav  \n",
            "  inflating: voxceleb_sample_data/id10007/Lc2IMwkXgnI/00004.wav  \n",
            "  inflating: voxceleb_sample_data/id10007/Lc2IMwkXgnI/00005.wav  \n",
            "  inflating: voxceleb_sample_data/id10007/Lc2IMwkXgnI/00006.wav  \n",
            "  inflating: voxceleb_sample_data/id10007/Lc2IMwkXgnI/00007.wav  \n",
            "   creating: voxceleb_sample_data/id10007/ny4iV7xwhRM/\n",
            "  inflating: voxceleb_sample_data/id10007/ny4iV7xwhRM/00001.wav  \n",
            "  inflating: voxceleb_sample_data/id10007/ny4iV7xwhRM/00002.wav  \n",
            "  inflating: voxceleb_sample_data/id10007/ny4iV7xwhRM/00003.wav  \n",
            "  inflating: voxceleb_sample_data/id10007/ny4iV7xwhRM/00004.wav  \n",
            "  inflating: voxceleb_sample_data/id10007/ny4iV7xwhRM/00005.wav  \n",
            "  inflating: voxceleb_sample_data/id10007/ny4iV7xwhRM/00006.wav  \n",
            "   creating: voxceleb_sample_data/id10007/uyOlasN_UhQ/\n",
            "  inflating: voxceleb_sample_data/id10007/uyOlasN_UhQ/00001.wav  \n",
            "   creating: voxceleb_sample_data/id10008/\n",
            "   creating: voxceleb_sample_data/id10008/58jhTekFbHk/\n",
            "  inflating: voxceleb_sample_data/id10008/58jhTekFbHk/00001.wav  \n",
            "  inflating: voxceleb_sample_data/id10008/58jhTekFbHk/00002.wav  \n",
            "  inflating: voxceleb_sample_data/id10008/58jhTekFbHk/00003.wav  \n",
            "   creating: voxceleb_sample_data/id10008/CFwSMiMzoiA/\n",
            "  inflating: voxceleb_sample_data/id10008/CFwSMiMzoiA/00001.wav  \n",
            "  inflating: voxceleb_sample_data/id10008/CFwSMiMzoiA/00002.wav  \n",
            "  inflating: voxceleb_sample_data/id10008/CFwSMiMzoiA/00003.wav  \n",
            "  inflating: voxceleb_sample_data/id10008/CFwSMiMzoiA/00004.wav  \n",
            "  inflating: voxceleb_sample_data/id10008/CFwSMiMzoiA/00005.wav  \n",
            "  inflating: voxceleb_sample_data/id10008/CFwSMiMzoiA/00006.wav  \n",
            "  inflating: voxceleb_sample_data/id10008/CFwSMiMzoiA/00007.wav  \n",
            "  inflating: voxceleb_sample_data/id10008/CFwSMiMzoiA/00008.wav  \n",
            "  inflating: voxceleb_sample_data/id10008/CFwSMiMzoiA/00009.wav  \n",
            "  inflating: voxceleb_sample_data/id10008/CFwSMiMzoiA/00010.wav  \n",
            "  inflating: voxceleb_sample_data/id10008/CFwSMiMzoiA/00011.wav  \n",
            "   creating: voxceleb_sample_data/id10008/CXgomMquVt8/\n",
            "  inflating: voxceleb_sample_data/id10008/CXgomMquVt8/00001.wav  \n",
            "  inflating: voxceleb_sample_data/id10008/CXgomMquVt8/00002.wav  \n",
            "  inflating: voxceleb_sample_data/id10008/CXgomMquVt8/00003.wav  \n",
            "  inflating: voxceleb_sample_data/id10008/CXgomMquVt8/00004.wav  \n",
            "  inflating: voxceleb_sample_data/id10008/CXgomMquVt8/00005.wav  \n",
            "   creating: voxceleb_sample_data/id10008/D5RZyExnz8g/\n",
            "  inflating: voxceleb_sample_data/id10008/D5RZyExnz8g/00001.wav  \n",
            "  inflating: voxceleb_sample_data/id10008/D5RZyExnz8g/00002.wav  \n",
            "  inflating: voxceleb_sample_data/id10008/D5RZyExnz8g/00003.wav  \n",
            "   creating: voxceleb_sample_data/id10008/dL5jx3GLNxU/\n",
            "  inflating: voxceleb_sample_data/id10008/dL5jx3GLNxU/00001.wav  \n",
            "  inflating: voxceleb_sample_data/id10008/dL5jx3GLNxU/00002.wav  \n",
            "  inflating: voxceleb_sample_data/id10008/dL5jx3GLNxU/00003.wav  \n",
            "  inflating: voxceleb_sample_data/id10008/dL5jx3GLNxU/00004.wav  \n",
            "   creating: voxceleb_sample_data/id10008/gdQhQUcKrds/\n",
            "  inflating: voxceleb_sample_data/id10008/gdQhQUcKrds/00001.wav  \n",
            "   creating: voxceleb_sample_data/id10008/l8vq6uu_aNE/\n",
            "  inflating: voxceleb_sample_data/id10008/l8vq6uu_aNE/00001.wav  \n",
            "  inflating: voxceleb_sample_data/id10008/l8vq6uu_aNE/00002.wav  \n",
            "  inflating: voxceleb_sample_data/id10008/l8vq6uu_aNE/00003.wav  \n",
            "  inflating: voxceleb_sample_data/id10008/l8vq6uu_aNE/00004.wav  \n",
            "  inflating: voxceleb_sample_data/id10008/l8vq6uu_aNE/00005.wav  \n",
            "   creating: voxceleb_sample_data/id10008/MIinwxeI1H0/\n",
            "  inflating: voxceleb_sample_data/id10008/MIinwxeI1H0/00001.wav  \n",
            "  inflating: voxceleb_sample_data/id10008/MIinwxeI1H0/00002.wav  \n",
            "   creating: voxceleb_sample_data/id10008/r4IZRsEGDFs/\n",
            "  inflating: voxceleb_sample_data/id10008/r4IZRsEGDFs/00001.wav  \n",
            "  inflating: voxceleb_sample_data/id10008/r4IZRsEGDFs/00002.wav  \n",
            "  inflating: voxceleb_sample_data/id10008/r4IZRsEGDFs/00003.wav  \n",
            "  inflating: voxceleb_sample_data/id10008/r4IZRsEGDFs/00004.wav  \n",
            "  inflating: voxceleb_sample_data/id10008/r4IZRsEGDFs/00005.wav  \n",
            "  inflating: voxceleb_sample_data/id10008/r4IZRsEGDFs/00006.wav  \n",
            "  inflating: voxceleb_sample_data/id10008/r4IZRsEGDFs/00007.wav  \n",
            "  inflating: voxceleb_sample_data/id10008/r4IZRsEGDFs/00008.wav  \n",
            "  inflating: voxceleb_sample_data/id10008/r4IZRsEGDFs/00009.wav  \n",
            "  inflating: voxceleb_sample_data/id10008/r4IZRsEGDFs/00010.wav  \n",
            "  inflating: voxceleb_sample_data/id10008/r4IZRsEGDFs/00011.wav  \n",
            "  inflating: voxceleb_sample_data/id10008/r4IZRsEGDFs/00012.wav  \n",
            "  inflating: voxceleb_sample_data/id10008/r4IZRsEGDFs/00013.wav  \n",
            "  inflating: voxceleb_sample_data/id10008/r4IZRsEGDFs/00014.wav  \n",
            "  inflating: voxceleb_sample_data/id10008/r4IZRsEGDFs/00015.wav  \n",
            "  inflating: voxceleb_sample_data/id10008/r4IZRsEGDFs/00016.wav  \n",
            "  inflating: voxceleb_sample_data/id10008/r4IZRsEGDFs/00017.wav  \n",
            "  inflating: voxceleb_sample_data/id10008/r4IZRsEGDFs/00018.wav  \n",
            "  inflating: voxceleb_sample_data/id10008/r4IZRsEGDFs/00019.wav  \n",
            "  inflating: voxceleb_sample_data/id10008/r4IZRsEGDFs/00020.wav  \n",
            "  inflating: voxceleb_sample_data/id10008/r4IZRsEGDFs/00021.wav  \n",
            "  inflating: voxceleb_sample_data/id10008/r4IZRsEGDFs/00022.wav  \n",
            "  inflating: voxceleb_sample_data/id10008/r4IZRsEGDFs/00023.wav  \n",
            "  inflating: voxceleb_sample_data/id10008/r4IZRsEGDFs/00024.wav  \n",
            "  inflating: voxceleb_sample_data/id10008/r4IZRsEGDFs/00025.wav  \n",
            "  inflating: voxceleb_sample_data/id10008/r4IZRsEGDFs/00026.wav  \n",
            "  inflating: voxceleb_sample_data/id10008/r4IZRsEGDFs/00027.wav  \n",
            "  inflating: voxceleb_sample_data/id10008/r4IZRsEGDFs/00028.wav  \n",
            "  inflating: voxceleb_sample_data/id10008/r4IZRsEGDFs/00029.wav  \n",
            "  inflating: voxceleb_sample_data/id10008/r4IZRsEGDFs/00030.wav  \n",
            "  inflating: voxceleb_sample_data/id10008/r4IZRsEGDFs/00031.wav  \n",
            "  inflating: voxceleb_sample_data/id10008/r4IZRsEGDFs/00032.wav  \n",
            "  inflating: voxceleb_sample_data/id10008/r4IZRsEGDFs/00033.wav  \n",
            "  inflating: voxceleb_sample_data/id10008/r4IZRsEGDFs/00034.wav  \n",
            "  inflating: voxceleb_sample_data/id10008/r4IZRsEGDFs/00035.wav  \n",
            "  inflating: voxceleb_sample_data/id10008/r4IZRsEGDFs/00036.wav  \n",
            "  inflating: voxceleb_sample_data/id10008/r4IZRsEGDFs/00037.wav  \n",
            "  inflating: voxceleb_sample_data/id10008/r4IZRsEGDFs/00038.wav  \n",
            "  inflating: voxceleb_sample_data/id10008/r4IZRsEGDFs/00039.wav  \n",
            "  inflating: voxceleb_sample_data/id10008/r4IZRsEGDFs/00040.wav  \n",
            "  inflating: voxceleb_sample_data/id10008/r4IZRsEGDFs/00041.wav  \n",
            "  inflating: voxceleb_sample_data/id10008/r4IZRsEGDFs/00042.wav  \n",
            "  inflating: voxceleb_sample_data/id10008/r4IZRsEGDFs/00043.wav  \n",
            "  inflating: voxceleb_sample_data/id10008/r4IZRsEGDFs/00044.wav  \n",
            "  inflating: voxceleb_sample_data/id10008/r4IZRsEGDFs/00045.wav  \n",
            "  inflating: voxceleb_sample_data/id10008/r4IZRsEGDFs/00046.wav  \n",
            "  inflating: voxceleb_sample_data/id10008/r4IZRsEGDFs/00047.wav  \n",
            "  inflating: voxceleb_sample_data/id10008/r4IZRsEGDFs/00048.wav  \n",
            "  inflating: voxceleb_sample_data/id10008/r4IZRsEGDFs/00049.wav  \n",
            "  inflating: voxceleb_sample_data/id10008/r4IZRsEGDFs/00050.wav  \n",
            "  inflating: voxceleb_sample_data/id10008/r4IZRsEGDFs/00051.wav  \n",
            "  inflating: voxceleb_sample_data/id10008/r4IZRsEGDFs/00052.wav  \n",
            "  inflating: voxceleb_sample_data/id10008/r4IZRsEGDFs/00053.wav  \n",
            "  inflating: voxceleb_sample_data/id10008/r4IZRsEGDFs/00054.wav  \n",
            "  inflating: voxceleb_sample_data/id10008/r4IZRsEGDFs/00055.wav  \n",
            "  inflating: voxceleb_sample_data/id10008/r4IZRsEGDFs/00056.wav  \n",
            "   creating: voxceleb_sample_data/id10008/X7JNabXlduc/\n",
            "  inflating: voxceleb_sample_data/id10008/X7JNabXlduc/00001.wav  \n",
            "  inflating: voxceleb_sample_data/id10008/X7JNabXlduc/00002.wav  \n",
            "   creating: voxceleb_sample_data/id10008/X9OPcj9ID10/\n",
            "  inflating: voxceleb_sample_data/id10008/X9OPcj9ID10/00001.wav  \n",
            "   creating: voxceleb_sample_data/id10008/YEkuUBPkSZg/\n",
            "  inflating: voxceleb_sample_data/id10008/YEkuUBPkSZg/00001.wav  \n",
            "  inflating: voxceleb_sample_data/id10008/YEkuUBPkSZg/00002.wav  \n",
            "  inflating: voxceleb_sample_data/id10008/YEkuUBPkSZg/00003.wav  \n",
            "  inflating: voxceleb_sample_data/id10008/YEkuUBPkSZg/00004.wav  \n",
            "  inflating: voxceleb_sample_data/id10008/YEkuUBPkSZg/00005.wav  \n",
            "  inflating: voxceleb_sample_data/id10008/YEkuUBPkSZg/00006.wav  \n",
            "  inflating: voxceleb_sample_data/id10008/YEkuUBPkSZg/00007.wav  \n",
            "  inflating: voxceleb_sample_data/id10008/YEkuUBPkSZg/00008.wav  \n",
            "   creating: voxceleb_sample_data/id10008/ZwprcvqTH3w/\n",
            "  inflating: voxceleb_sample_data/id10008/ZwprcvqTH3w/00001.wav  \n",
            "  inflating: voxceleb_sample_data/id10008/ZwprcvqTH3w/00002.wav  \n",
            "   creating: voxceleb_sample_data/id10008/_rz5gmMFZTo/\n",
            "  inflating: voxceleb_sample_data/id10008/_rz5gmMFZTo/00001.wav  \n",
            "  inflating: voxceleb_sample_data/id10008/_rz5gmMFZTo/00002.wav  \n",
            "  inflating: voxceleb_sample_data/id10008/_rz5gmMFZTo/00003.wav  \n",
            "   creating: voxceleb_sample_data/id10009/\n",
            "   creating: voxceleb_sample_data/id10009/7hpSiT9_gCE/\n",
            "  inflating: voxceleb_sample_data/id10009/7hpSiT9_gCE/00001.wav  \n",
            "   creating: voxceleb_sample_data/id10009/aFttHpeaXaQ/\n",
            "  inflating: voxceleb_sample_data/id10009/aFttHpeaXaQ/00001.wav  \n",
            "   creating: voxceleb_sample_data/id10009/AtavJVP4bCk/\n",
            "  inflating: voxceleb_sample_data/id10009/AtavJVP4bCk/00001.wav  \n",
            "  inflating: voxceleb_sample_data/id10009/AtavJVP4bCk/00002.wav  \n",
            "  inflating: voxceleb_sample_data/id10009/AtavJVP4bCk/00003.wav  \n",
            "  inflating: voxceleb_sample_data/id10009/AtavJVP4bCk/00004.wav  \n",
            "  inflating: voxceleb_sample_data/id10009/AtavJVP4bCk/00005.wav  \n",
            "  inflating: voxceleb_sample_data/id10009/AtavJVP4bCk/00006.wav  \n",
            "  inflating: voxceleb_sample_data/id10009/AtavJVP4bCk/00007.wav  \n",
            "  inflating: voxceleb_sample_data/id10009/AtavJVP4bCk/00008.wav  \n",
            "  inflating: voxceleb_sample_data/id10009/AtavJVP4bCk/00009.wav  \n",
            "   creating: voxceleb_sample_data/id10009/EJ3tyqGqYfw/\n",
            "  inflating: voxceleb_sample_data/id10009/EJ3tyqGqYfw/00001.wav  \n",
            "   creating: voxceleb_sample_data/id10009/FOFbkVlz-wQ/\n",
            "  inflating: voxceleb_sample_data/id10009/FOFbkVlz-wQ/00001.wav  \n",
            "  inflating: voxceleb_sample_data/id10009/FOFbkVlz-wQ/00002.wav  \n",
            "   creating: voxceleb_sample_data/id10009/HCGXIgKsozU/\n",
            "  inflating: voxceleb_sample_data/id10009/HCGXIgKsozU/00001.wav  \n",
            "   creating: voxceleb_sample_data/id10009/JntZkGsH2Cc/\n",
            "  inflating: voxceleb_sample_data/id10009/JntZkGsH2Cc/00001.wav  \n",
            "  inflating: voxceleb_sample_data/id10009/JntZkGsH2Cc/00002.wav  \n",
            "  inflating: voxceleb_sample_data/id10009/JntZkGsH2Cc/00003.wav  \n",
            "  inflating: voxceleb_sample_data/id10009/JntZkGsH2Cc/00004.wav  \n",
            "   creating: voxceleb_sample_data/id10009/JrwqvWr5_VE/\n",
            "  inflating: voxceleb_sample_data/id10009/JrwqvWr5_VE/00001.wav  \n",
            "  inflating: voxceleb_sample_data/id10009/JrwqvWr5_VE/00002.wav  \n",
            "  inflating: voxceleb_sample_data/id10009/JrwqvWr5_VE/00003.wav  \n",
            "  inflating: voxceleb_sample_data/id10009/JrwqvWr5_VE/00004.wav  \n",
            "  inflating: voxceleb_sample_data/id10009/JrwqvWr5_VE/00005.wav  \n",
            "  inflating: voxceleb_sample_data/id10009/JrwqvWr5_VE/00006.wav  \n",
            "  inflating: voxceleb_sample_data/id10009/JrwqvWr5_VE/00007.wav  \n",
            "  inflating: voxceleb_sample_data/id10009/JrwqvWr5_VE/00008.wav  \n",
            "  inflating: voxceleb_sample_data/id10009/JrwqvWr5_VE/00009.wav  \n",
            "   creating: voxceleb_sample_data/id10009/qdop2-gjKBQ/\n",
            "  inflating: voxceleb_sample_data/id10009/qdop2-gjKBQ/00001.wav  \n",
            "  inflating: voxceleb_sample_data/id10009/qdop2-gjKBQ/00002.wav  \n",
            "   creating: voxceleb_sample_data/id10009/seo9TTTEoE4/\n",
            "  inflating: voxceleb_sample_data/id10009/seo9TTTEoE4/00001.wav  \n",
            "  inflating: voxceleb_sample_data/id10009/seo9TTTEoE4/00002.wav  \n",
            "   creating: voxceleb_sample_data/id10009/sQIqfA-I_Ew/\n",
            "  inflating: voxceleb_sample_data/id10009/sQIqfA-I_Ew/00001.wav  \n",
            "  inflating: voxceleb_sample_data/id10009/sQIqfA-I_Ew/00002.wav  \n",
            "  inflating: voxceleb_sample_data/id10009/sQIqfA-I_Ew/00003.wav  \n",
            "  inflating: voxceleb_sample_data/id10009/sQIqfA-I_Ew/00004.wav  \n",
            "  inflating: voxceleb_sample_data/id10009/sQIqfA-I_Ew/00005.wav  \n",
            "  inflating: voxceleb_sample_data/id10009/sQIqfA-I_Ew/00006.wav  \n",
            "  inflating: voxceleb_sample_data/id10009/sQIqfA-I_Ew/00007.wav  \n",
            "  inflating: voxceleb_sample_data/id10009/sQIqfA-I_Ew/00008.wav  \n",
            "  inflating: voxceleb_sample_data/id10009/sQIqfA-I_Ew/00009.wav  \n",
            "  inflating: voxceleb_sample_data/id10009/sQIqfA-I_Ew/00010.wav  \n",
            "  inflating: voxceleb_sample_data/id10009/sQIqfA-I_Ew/00011.wav  \n",
            "  inflating: voxceleb_sample_data/id10009/sQIqfA-I_Ew/00012.wav  \n",
            "  inflating: voxceleb_sample_data/id10009/sQIqfA-I_Ew/00013.wav  \n",
            "   creating: voxceleb_sample_data/id10009/VM8gJWbQsEY/\n",
            "  inflating: voxceleb_sample_data/id10009/VM8gJWbQsEY/00001.wav  \n",
            "  inflating: voxceleb_sample_data/id10009/VM8gJWbQsEY/00002.wav  \n",
            "  inflating: voxceleb_sample_data/id10009/VM8gJWbQsEY/00003.wav  \n",
            "  inflating: voxceleb_sample_data/id10009/VM8gJWbQsEY/00004.wav  \n",
            "  inflating: voxceleb_sample_data/id10009/VM8gJWbQsEY/00005.wav  \n",
            "   creating: voxceleb_sample_data/id10009/vy8sQ82o0fM/\n",
            "  inflating: voxceleb_sample_data/id10009/vy8sQ82o0fM/00001.wav  \n",
            "  inflating: voxceleb_sample_data/id10009/vy8sQ82o0fM/00002.wav  \n",
            "  inflating: voxceleb_sample_data/id10009/vy8sQ82o0fM/00003.wav  \n",
            "  inflating: voxceleb_sample_data/id10009/vy8sQ82o0fM/00004.wav  \n",
            "  inflating: voxceleb_sample_data/id10009/vy8sQ82o0fM/00005.wav  \n",
            "  inflating: voxceleb_sample_data/id10009/vy8sQ82o0fM/00006.wav  \n",
            "  inflating: voxceleb_sample_data/id10009/vy8sQ82o0fM/00007.wav  \n",
            "   creating: voxceleb_sample_data/id10009/x_HdUZuSusA/\n",
            "  inflating: voxceleb_sample_data/id10009/x_HdUZuSusA/00001.wav  \n",
            "  inflating: voxceleb_sample_data/id10009/x_HdUZuSusA/00002.wav  \n",
            "   creating: voxceleb_sample_data/id10010/\n",
            "   creating: voxceleb_sample_data/id10010/1O_m0G4rf9Q/\n",
            "  inflating: voxceleb_sample_data/id10010/1O_m0G4rf9Q/00001.wav  \n",
            "  inflating: voxceleb_sample_data/id10010/1O_m0G4rf9Q/00002.wav  \n",
            "   creating: voxceleb_sample_data/id10010/5ssVY9a5X-M/\n",
            "  inflating: voxceleb_sample_data/id10010/5ssVY9a5X-M/00001.wav  \n",
            "  inflating: voxceleb_sample_data/id10010/5ssVY9a5X-M/00002.wav  \n",
            "  inflating: voxceleb_sample_data/id10010/5ssVY9a5X-M/00003.wav  \n",
            "  inflating: voxceleb_sample_data/id10010/5ssVY9a5X-M/00004.wav  \n",
            "  inflating: voxceleb_sample_data/id10010/5ssVY9a5X-M/00005.wav  \n",
            "  inflating: voxceleb_sample_data/id10010/5ssVY9a5X-M/00006.wav  \n",
            "   creating: voxceleb_sample_data/id10010/5xGZ4I9Bltc/\n",
            "  inflating: voxceleb_sample_data/id10010/5xGZ4I9Bltc/00001.wav  \n",
            "   creating: voxceleb_sample_data/id10010/aVg9a5-hRsw/\n",
            "  inflating: voxceleb_sample_data/id10010/aVg9a5-hRsw/00001.wav  \n",
            "   creating: voxceleb_sample_data/id10010/E454T_sS_AM/\n",
            "  inflating: voxceleb_sample_data/id10010/E454T_sS_AM/00001.wav  \n",
            "  inflating: voxceleb_sample_data/id10010/E454T_sS_AM/00002.wav  \n",
            "   creating: voxceleb_sample_data/id10010/fapnl6uxeEw/\n",
            "  inflating: voxceleb_sample_data/id10010/fapnl6uxeEw/00001.wav  \n",
            "   creating: voxceleb_sample_data/id10010/Fi21gDronE4/\n",
            "  inflating: voxceleb_sample_data/id10010/Fi21gDronE4/00001.wav  \n",
            "  inflating: voxceleb_sample_data/id10010/Fi21gDronE4/00002.wav  \n",
            "  inflating: voxceleb_sample_data/id10010/Fi21gDronE4/00003.wav  \n",
            "  inflating: voxceleb_sample_data/id10010/Fi21gDronE4/00004.wav  \n",
            "  inflating: voxceleb_sample_data/id10010/Fi21gDronE4/00005.wav  \n",
            "  inflating: voxceleb_sample_data/id10010/Fi21gDronE4/00006.wav  \n",
            "  inflating: voxceleb_sample_data/id10010/Fi21gDronE4/00007.wav  \n",
            "  inflating: voxceleb_sample_data/id10010/Fi21gDronE4/00008.wav  \n",
            "  inflating: voxceleb_sample_data/id10010/Fi21gDronE4/00009.wav  \n",
            "  inflating: voxceleb_sample_data/id10010/Fi21gDronE4/00010.wav  \n",
            "   creating: voxceleb_sample_data/id10010/GZnnXtImnGA/\n",
            "  inflating: voxceleb_sample_data/id10010/GZnnXtImnGA/00001.wav  \n",
            "  inflating: voxceleb_sample_data/id10010/GZnnXtImnGA/00002.wav  \n",
            "  inflating: voxceleb_sample_data/id10010/GZnnXtImnGA/00003.wav  \n",
            "   creating: voxceleb_sample_data/id10010/ik0addgjsVM/\n",
            "  inflating: voxceleb_sample_data/id10010/ik0addgjsVM/00001.wav  \n",
            "  inflating: voxceleb_sample_data/id10010/ik0addgjsVM/00002.wav  \n",
            "  inflating: voxceleb_sample_data/id10010/ik0addgjsVM/00003.wav  \n",
            "  inflating: voxceleb_sample_data/id10010/ik0addgjsVM/00004.wav  \n",
            "  inflating: voxceleb_sample_data/id10010/ik0addgjsVM/00005.wav  \n",
            "  inflating: voxceleb_sample_data/id10010/ik0addgjsVM/00006.wav  \n",
            "   creating: voxceleb_sample_data/id10010/LcCFDB7yT6A/\n",
            "  inflating: voxceleb_sample_data/id10010/LcCFDB7yT6A/00001.wav  \n",
            "   creating: voxceleb_sample_data/id10010/QlrC83eEY2s/\n",
            "  inflating: voxceleb_sample_data/id10010/QlrC83eEY2s/00001.wav  \n",
            "  inflating: voxceleb_sample_data/id10010/QlrC83eEY2s/00002.wav  \n",
            "   creating: voxceleb_sample_data/id10010/Sw8HigpvVsg/\n",
            "  inflating: voxceleb_sample_data/id10010/Sw8HigpvVsg/00001.wav  \n",
            "  inflating: voxceleb_sample_data/id10010/Sw8HigpvVsg/00002.wav  \n",
            "   creating: voxceleb_sample_data/id10010/w_dgWRKS91Q/\n",
            "  inflating: voxceleb_sample_data/id10010/w_dgWRKS91Q/00001.wav  \n",
            "   creating: voxceleb_sample_data/id10010/zbFJH6QsV48/\n",
            "  inflating: voxceleb_sample_data/id10010/zbFJH6QsV48/00001.wav  \n",
            "  inflating: voxceleb_sample_data/id10010/zbFJH6QsV48/00002.wav  \n",
            "  inflating: voxceleb_sample_data/id10010/zbFJH6QsV48/00003.wav  \n",
            "  inflating: voxceleb_sample_data/id10010/zbFJH6QsV48/00004.wav  \n",
            "   creating: voxceleb_sample_data/id10010/zJHub1wydMw/\n",
            "  inflating: voxceleb_sample_data/id10010/zJHub1wydMw/00001.wav  \n",
            "  inflating: voxceleb_sample_data/id10010/zJHub1wydMw/00002.wav  \n",
            "  inflating: voxceleb_sample_data/id10010/zJHub1wydMw/00003.wav  \n",
            "  inflating: voxceleb_sample_data/id10010/zJHub1wydMw/00004.wav  \n",
            "  inflating: voxceleb_sample_data/id10010/zJHub1wydMw/00005.wav  \n",
            "  inflating: voxceleb_sample_data/id10010/zJHub1wydMw/00006.wav  \n",
            "  inflating: voxceleb_sample_data/id10010/zJHub1wydMw/00007.wav  \n",
            "  inflating: voxceleb_sample_data/id10010/zJHub1wydMw/00008.wav  \n",
            "  inflating: voxceleb_sample_data/id10010/zJHub1wydMw/00009.wav  \n",
            "  inflating: voxceleb_sample_data/id10010/zJHub1wydMw/00010.wav  \n"
          ]
        }
      ]
    },
    {
      "cell_type": "code",
      "source": [
        "wav_files_list = glob.glob('/content/voxceleb_sample_data/*/*/*.wav')\n",
        "len(wav_files_list),wav_files_list[0]"
      ],
      "metadata": {
        "colab": {
          "base_uri": "https://localhost:8080/"
        },
        "id": "LPG22uZCgQOo",
        "outputId": "e180bddf-fda8-462e-f244-34d2be00fb7d"
      },
      "execution_count": null,
      "outputs": [
        {
          "output_type": "execute_result",
          "data": {
            "text/plain": [
              "(970, '/content/voxceleb_sample_data/id10002/cMGEuZ1zqXk/00001.wav')"
            ]
          },
          "metadata": {},
          "execution_count": 4
        }
      ]
    },
    {
      "cell_type": "markdown",
      "source": [
        "#### install fairseq"
      ],
      "metadata": {
        "id": "yVXq-5ORe96O"
      }
    },
    {
      "cell_type": "code",
      "execution_count": null,
      "metadata": {
        "colab": {
          "base_uri": "https://localhost:8080/"
        },
        "id": "tF29fL3QYniV",
        "outputId": "9e82c132-076f-4886-9690-fc337c67e816"
      },
      "outputs": [
        {
          "output_type": "stream",
          "name": "stdout",
          "text": [
            "Cloning into 'fairseq'...\n",
            "remote: Enumerating objects: 35184, done.\u001b[K\n",
            "remote: Counting objects: 100% (105/105), done.\u001b[K\n",
            "remote: Compressing objects: 100% (58/58), done.\u001b[K\n",
            "remote: Total 35184 (delta 61), reused 72 (delta 47), pack-reused 35079\u001b[K\n",
            "Receiving objects: 100% (35184/35184), 25.22 MiB | 27.35 MiB/s, done.\n",
            "Resolving deltas: 100% (25548/25548), done.\n",
            "/content\n",
            "/content/fairseq\n",
            "Obtaining file:///content/fairseq\n",
            "  Installing build dependencies ... \u001b[?25l\u001b[?25hdone\n",
            "  Checking if build backend supports build_editable ... \u001b[?25l\u001b[?25hdone\n",
            "  Getting requirements to build editable ... \u001b[?25l\u001b[?25hdone\n",
            "  Preparing editable metadata (pyproject.toml) ... \u001b[?25l\u001b[?25hdone\n",
            "Requirement already satisfied: cffi in /usr/local/lib/python3.10/dist-packages (from fairseq==0.12.2) (1.16.0)\n",
            "Requirement already satisfied: cython in /usr/local/lib/python3.10/dist-packages (from fairseq==0.12.2) (3.0.10)\n",
            "Collecting hydra-core<1.1,>=1.0.7 (from fairseq==0.12.2)\n",
            "  Downloading hydra_core-1.0.7-py3-none-any.whl (123 kB)\n",
            "\u001b[2K     \u001b[90m━━━━━━━━━━━━━━━━━━━━━━━━━━━━━━━━━━━━━━━━\u001b[0m \u001b[32m123.8/123.8 kB\u001b[0m \u001b[31m1.4 MB/s\u001b[0m eta \u001b[36m0:00:00\u001b[0m\n",
            "\u001b[?25hCollecting omegaconf<2.1 (from fairseq==0.12.2)\n",
            "  Downloading omegaconf-2.0.6-py3-none-any.whl (36 kB)\n",
            "Requirement already satisfied: numpy>=1.21.3 in /usr/local/lib/python3.10/dist-packages (from fairseq==0.12.2) (1.25.2)\n",
            "Requirement already satisfied: regex in /usr/local/lib/python3.10/dist-packages (from fairseq==0.12.2) (2023.12.25)\n",
            "Collecting sacrebleu>=1.4.12 (from fairseq==0.12.2)\n",
            "  Downloading sacrebleu-2.4.1-py3-none-any.whl (106 kB)\n",
            "\u001b[2K     \u001b[90m━━━━━━━━━━━━━━━━━━━━━━━━━━━━━━━━━━━━━━━━\u001b[0m \u001b[32m106.6/106.6 kB\u001b[0m \u001b[31m6.3 MB/s\u001b[0m eta \u001b[36m0:00:00\u001b[0m\n",
            "\u001b[?25hRequirement already satisfied: torch>=1.13 in /usr/local/lib/python3.10/dist-packages (from fairseq==0.12.2) (2.2.1+cu121)\n",
            "Requirement already satisfied: tqdm in /usr/local/lib/python3.10/dist-packages (from fairseq==0.12.2) (4.66.2)\n",
            "Collecting bitarray (from fairseq==0.12.2)\n",
            "  Downloading bitarray-2.9.2-cp310-cp310-manylinux_2_17_x86_64.manylinux2014_x86_64.whl (288 kB)\n",
            "\u001b[2K     \u001b[90m━━━━━━━━━━━━━━━━━━━━━━━━━━━━━━━━━━━━━━━━\u001b[0m \u001b[32m288.3/288.3 kB\u001b[0m \u001b[31m5.9 MB/s\u001b[0m eta \u001b[36m0:00:00\u001b[0m\n",
            "\u001b[?25hRequirement already satisfied: torchaudio>=0.8.0 in /usr/local/lib/python3.10/dist-packages (from fairseq==0.12.2) (2.2.1+cu121)\n",
            "Requirement already satisfied: scikit-learn in /usr/local/lib/python3.10/dist-packages (from fairseq==0.12.2) (1.2.2)\n",
            "Requirement already satisfied: packaging in /usr/local/lib/python3.10/dist-packages (from fairseq==0.12.2) (24.0)\n",
            "Collecting antlr4-python3-runtime==4.8 (from hydra-core<1.1,>=1.0.7->fairseq==0.12.2)\n",
            "  Downloading antlr4-python3-runtime-4.8.tar.gz (112 kB)\n",
            "\u001b[2K     \u001b[90m━━━━━━━━━━━━━━━━━━━━━━━━━━━━━━━━━━━━━━━━\u001b[0m \u001b[32m112.4/112.4 kB\u001b[0m \u001b[31m14.2 MB/s\u001b[0m eta \u001b[36m0:00:00\u001b[0m\n",
            "\u001b[?25h  Preparing metadata (setup.py) ... \u001b[?25l\u001b[?25hdone\n",
            "Requirement already satisfied: PyYAML>=5.1.* in /usr/local/lib/python3.10/dist-packages (from omegaconf<2.1->fairseq==0.12.2) (6.0.1)\n",
            "Requirement already satisfied: typing-extensions in /usr/local/lib/python3.10/dist-packages (from omegaconf<2.1->fairseq==0.12.2) (4.10.0)\n",
            "Collecting portalocker (from sacrebleu>=1.4.12->fairseq==0.12.2)\n",
            "  Downloading portalocker-2.8.2-py3-none-any.whl (17 kB)\n",
            "Requirement already satisfied: tabulate>=0.8.9 in /usr/local/lib/python3.10/dist-packages (from sacrebleu>=1.4.12->fairseq==0.12.2) (0.9.0)\n",
            "Collecting colorama (from sacrebleu>=1.4.12->fairseq==0.12.2)\n",
            "  Downloading colorama-0.4.6-py2.py3-none-any.whl (25 kB)\n",
            "Requirement already satisfied: lxml in /usr/local/lib/python3.10/dist-packages (from sacrebleu>=1.4.12->fairseq==0.12.2) (4.9.4)\n",
            "Requirement already satisfied: filelock in /usr/local/lib/python3.10/dist-packages (from torch>=1.13->fairseq==0.12.2) (3.13.3)\n",
            "Requirement already satisfied: sympy in /usr/local/lib/python3.10/dist-packages (from torch>=1.13->fairseq==0.12.2) (1.12)\n",
            "Requirement already satisfied: networkx in /usr/local/lib/python3.10/dist-packages (from torch>=1.13->fairseq==0.12.2) (3.2.1)\n",
            "Requirement already satisfied: jinja2 in /usr/local/lib/python3.10/dist-packages (from torch>=1.13->fairseq==0.12.2) (3.1.3)\n",
            "Requirement already satisfied: fsspec in /usr/local/lib/python3.10/dist-packages (from torch>=1.13->fairseq==0.12.2) (2023.6.0)\n",
            "Collecting nvidia-cuda-nvrtc-cu12==12.1.105 (from torch>=1.13->fairseq==0.12.2)\n",
            "  Using cached nvidia_cuda_nvrtc_cu12-12.1.105-py3-none-manylinux1_x86_64.whl (23.7 MB)\n",
            "Collecting nvidia-cuda-runtime-cu12==12.1.105 (from torch>=1.13->fairseq==0.12.2)\n",
            "  Using cached nvidia_cuda_runtime_cu12-12.1.105-py3-none-manylinux1_x86_64.whl (823 kB)\n",
            "Collecting nvidia-cuda-cupti-cu12==12.1.105 (from torch>=1.13->fairseq==0.12.2)\n",
            "  Using cached nvidia_cuda_cupti_cu12-12.1.105-py3-none-manylinux1_x86_64.whl (14.1 MB)\n",
            "Collecting nvidia-cudnn-cu12==8.9.2.26 (from torch>=1.13->fairseq==0.12.2)\n",
            "  Using cached nvidia_cudnn_cu12-8.9.2.26-py3-none-manylinux1_x86_64.whl (731.7 MB)\n",
            "Collecting nvidia-cublas-cu12==12.1.3.1 (from torch>=1.13->fairseq==0.12.2)\n",
            "  Using cached nvidia_cublas_cu12-12.1.3.1-py3-none-manylinux1_x86_64.whl (410.6 MB)\n",
            "Collecting nvidia-cufft-cu12==11.0.2.54 (from torch>=1.13->fairseq==0.12.2)\n",
            "  Using cached nvidia_cufft_cu12-11.0.2.54-py3-none-manylinux1_x86_64.whl (121.6 MB)\n",
            "Collecting nvidia-curand-cu12==10.3.2.106 (from torch>=1.13->fairseq==0.12.2)\n",
            "  Using cached nvidia_curand_cu12-10.3.2.106-py3-none-manylinux1_x86_64.whl (56.5 MB)\n",
            "Collecting nvidia-cusolver-cu12==11.4.5.107 (from torch>=1.13->fairseq==0.12.2)\n",
            "  Using cached nvidia_cusolver_cu12-11.4.5.107-py3-none-manylinux1_x86_64.whl (124.2 MB)\n",
            "Collecting nvidia-cusparse-cu12==12.1.0.106 (from torch>=1.13->fairseq==0.12.2)\n",
            "  Using cached nvidia_cusparse_cu12-12.1.0.106-py3-none-manylinux1_x86_64.whl (196.0 MB)\n",
            "Collecting nvidia-nccl-cu12==2.19.3 (from torch>=1.13->fairseq==0.12.2)\n",
            "  Using cached nvidia_nccl_cu12-2.19.3-py3-none-manylinux1_x86_64.whl (166.0 MB)\n",
            "Collecting nvidia-nvtx-cu12==12.1.105 (from torch>=1.13->fairseq==0.12.2)\n",
            "  Using cached nvidia_nvtx_cu12-12.1.105-py3-none-manylinux1_x86_64.whl (99 kB)\n",
            "Requirement already satisfied: triton==2.2.0 in /usr/local/lib/python3.10/dist-packages (from torch>=1.13->fairseq==0.12.2) (2.2.0)\n",
            "Collecting nvidia-nvjitlink-cu12 (from nvidia-cusolver-cu12==11.4.5.107->torch>=1.13->fairseq==0.12.2)\n",
            "  Using cached nvidia_nvjitlink_cu12-12.4.127-py3-none-manylinux2014_x86_64.whl (21.1 MB)\n",
            "Requirement already satisfied: pycparser in /usr/local/lib/python3.10/dist-packages (from cffi->fairseq==0.12.2) (2.22)\n",
            "Requirement already satisfied: scipy>=1.3.2 in /usr/local/lib/python3.10/dist-packages (from scikit-learn->fairseq==0.12.2) (1.11.4)\n",
            "Requirement already satisfied: joblib>=1.1.1 in /usr/local/lib/python3.10/dist-packages (from scikit-learn->fairseq==0.12.2) (1.3.2)\n",
            "Requirement already satisfied: threadpoolctl>=2.0.0 in /usr/local/lib/python3.10/dist-packages (from scikit-learn->fairseq==0.12.2) (3.4.0)\n",
            "Requirement already satisfied: MarkupSafe>=2.0 in /usr/local/lib/python3.10/dist-packages (from jinja2->torch>=1.13->fairseq==0.12.2) (2.1.5)\n",
            "Requirement already satisfied: mpmath>=0.19 in /usr/local/lib/python3.10/dist-packages (from sympy->torch>=1.13->fairseq==0.12.2) (1.3.0)\n",
            "Building wheels for collected packages: fairseq, antlr4-python3-runtime\n",
            "  Building editable for fairseq (pyproject.toml) ... \u001b[?25l\u001b[?25hdone\n",
            "  Created wheel for fairseq: filename=fairseq-0.12.2-0.editable-cp310-cp310-linux_x86_64.whl size=9394 sha256=fcae56bd5a292801f7e0c2724f67236c5b683d34b10d5c1921c56255b92fcc35\n",
            "  Stored in directory: /tmp/pip-ephem-wheel-cache-g6y3hfzp/wheels/c6/d7/db/bc419b1daa8266aa8de2a7c4d29f62dbfa814e8701fe4695a2\n",
            "  Building wheel for antlr4-python3-runtime (setup.py) ... \u001b[?25l\u001b[?25hdone\n",
            "  Created wheel for antlr4-python3-runtime: filename=antlr4_python3_runtime-4.8-py3-none-any.whl size=141211 sha256=a5b26e7946e87f77ad61d5ec06b34d0edd4c86075004c8f500052638c3151e82\n",
            "  Stored in directory: /root/.cache/pip/wheels/a7/20/bd/e1477d664f22d99989fd28ee1a43d6633dddb5cb9e801350d5\n",
            "Successfully built fairseq antlr4-python3-runtime\n",
            "Installing collected packages: bitarray, antlr4-python3-runtime, portalocker, omegaconf, nvidia-nvtx-cu12, nvidia-nvjitlink-cu12, nvidia-nccl-cu12, nvidia-curand-cu12, nvidia-cufft-cu12, nvidia-cuda-runtime-cu12, nvidia-cuda-nvrtc-cu12, nvidia-cuda-cupti-cu12, nvidia-cublas-cu12, colorama, sacrebleu, nvidia-cusparse-cu12, nvidia-cudnn-cu12, hydra-core, nvidia-cusolver-cu12, fairseq\n",
            "Successfully installed antlr4-python3-runtime-4.8 bitarray-2.9.2 colorama-0.4.6 fairseq-0.12.2 hydra-core-1.0.7 nvidia-cublas-cu12-12.1.3.1 nvidia-cuda-cupti-cu12-12.1.105 nvidia-cuda-nvrtc-cu12-12.1.105 nvidia-cuda-runtime-cu12-12.1.105 nvidia-cudnn-cu12-8.9.2.26 nvidia-cufft-cu12-11.0.2.54 nvidia-curand-cu12-10.3.2.106 nvidia-cusolver-cu12-11.4.5.107 nvidia-cusparse-cu12-12.1.0.106 nvidia-nccl-cu12-2.19.3 nvidia-nvjitlink-cu12-12.4.127 nvidia-nvtx-cu12-12.1.105 omegaconf-2.0.6 portalocker-2.8.2 sacrebleu-2.4.1\n"
          ]
        }
      ],
      "source": [
        "!git clone https://github.com/pytorch/fairseq\n",
        "\n",
        "# Change current working directory\n",
        "!pwd\n",
        "%cd \"/content/fairseq\"\n",
        "!pip install --editable ./"
      ]
    },
    {
      "cell_type": "code",
      "source": [
        "!pip install fairseq"
      ],
      "metadata": {
        "colab": {
          "base_uri": "https://localhost:8080/"
        },
        "id": "bBDfZ-ZuXllV",
        "outputId": "8bda49ef-9378-452e-e87a-c0315270854e"
      },
      "execution_count": null,
      "outputs": [
        {
          "output_type": "stream",
          "name": "stdout",
          "text": [
            "Requirement already satisfied: fairseq in /usr/local/lib/python3.10/dist-packages (0.12.2)\n",
            "Requirement already satisfied: cffi in /usr/local/lib/python3.10/dist-packages (from fairseq) (1.16.0)\n",
            "Requirement already satisfied: cython in /usr/local/lib/python3.10/dist-packages (from fairseq) (3.0.10)\n",
            "Requirement already satisfied: hydra-core<1.1,>=1.0.7 in /usr/local/lib/python3.10/dist-packages (from fairseq) (1.0.7)\n",
            "Requirement already satisfied: omegaconf<2.1 in /usr/local/lib/python3.10/dist-packages (from fairseq) (2.0.6)\n",
            "Requirement already satisfied: numpy>=1.21.3 in /usr/local/lib/python3.10/dist-packages (from fairseq) (1.25.2)\n",
            "Requirement already satisfied: regex in /usr/local/lib/python3.10/dist-packages (from fairseq) (2023.12.25)\n",
            "Requirement already satisfied: sacrebleu>=1.4.12 in /usr/local/lib/python3.10/dist-packages (from fairseq) (2.4.1)\n",
            "Requirement already satisfied: torch>=1.13 in /usr/local/lib/python3.10/dist-packages (from fairseq) (2.2.1+cu121)\n",
            "Requirement already satisfied: tqdm in /usr/local/lib/python3.10/dist-packages (from fairseq) (4.66.2)\n",
            "Requirement already satisfied: bitarray in /usr/local/lib/python3.10/dist-packages (from fairseq) (2.9.2)\n",
            "Requirement already satisfied: torchaudio>=0.8.0 in /usr/local/lib/python3.10/dist-packages (from fairseq) (2.2.1+cu121)\n",
            "Requirement already satisfied: scikit-learn in /usr/local/lib/python3.10/dist-packages (from fairseq) (1.2.2)\n",
            "Requirement already satisfied: packaging in /usr/local/lib/python3.10/dist-packages (from fairseq) (24.0)\n",
            "Requirement already satisfied: antlr4-python3-runtime==4.8 in /usr/local/lib/python3.10/dist-packages (from hydra-core<1.1,>=1.0.7->fairseq) (4.8)\n",
            "Requirement already satisfied: PyYAML>=5.1.* in /usr/local/lib/python3.10/dist-packages (from omegaconf<2.1->fairseq) (6.0.1)\n",
            "Requirement already satisfied: typing-extensions in /usr/local/lib/python3.10/dist-packages (from omegaconf<2.1->fairseq) (4.10.0)\n",
            "Requirement already satisfied: portalocker in /usr/local/lib/python3.10/dist-packages (from sacrebleu>=1.4.12->fairseq) (2.8.2)\n",
            "Requirement already satisfied: tabulate>=0.8.9 in /usr/local/lib/python3.10/dist-packages (from sacrebleu>=1.4.12->fairseq) (0.9.0)\n",
            "Requirement already satisfied: colorama in /usr/local/lib/python3.10/dist-packages (from sacrebleu>=1.4.12->fairseq) (0.4.6)\n",
            "Requirement already satisfied: lxml in /usr/local/lib/python3.10/dist-packages (from sacrebleu>=1.4.12->fairseq) (4.9.4)\n",
            "Requirement already satisfied: filelock in /usr/local/lib/python3.10/dist-packages (from torch>=1.13->fairseq) (3.13.3)\n",
            "Requirement already satisfied: sympy in /usr/local/lib/python3.10/dist-packages (from torch>=1.13->fairseq) (1.12)\n",
            "Requirement already satisfied: networkx in /usr/local/lib/python3.10/dist-packages (from torch>=1.13->fairseq) (3.2.1)\n",
            "Requirement already satisfied: jinja2 in /usr/local/lib/python3.10/dist-packages (from torch>=1.13->fairseq) (3.1.3)\n",
            "Requirement already satisfied: fsspec in /usr/local/lib/python3.10/dist-packages (from torch>=1.13->fairseq) (2023.6.0)\n",
            "Requirement already satisfied: nvidia-cuda-nvrtc-cu12==12.1.105 in /usr/local/lib/python3.10/dist-packages (from torch>=1.13->fairseq) (12.1.105)\n",
            "Requirement already satisfied: nvidia-cuda-runtime-cu12==12.1.105 in /usr/local/lib/python3.10/dist-packages (from torch>=1.13->fairseq) (12.1.105)\n",
            "Requirement already satisfied: nvidia-cuda-cupti-cu12==12.1.105 in /usr/local/lib/python3.10/dist-packages (from torch>=1.13->fairseq) (12.1.105)\n",
            "Requirement already satisfied: nvidia-cudnn-cu12==8.9.2.26 in /usr/local/lib/python3.10/dist-packages (from torch>=1.13->fairseq) (8.9.2.26)\n",
            "Requirement already satisfied: nvidia-cublas-cu12==12.1.3.1 in /usr/local/lib/python3.10/dist-packages (from torch>=1.13->fairseq) (12.1.3.1)\n",
            "Requirement already satisfied: nvidia-cufft-cu12==11.0.2.54 in /usr/local/lib/python3.10/dist-packages (from torch>=1.13->fairseq) (11.0.2.54)\n",
            "Requirement already satisfied: nvidia-curand-cu12==10.3.2.106 in /usr/local/lib/python3.10/dist-packages (from torch>=1.13->fairseq) (10.3.2.106)\n",
            "Requirement already satisfied: nvidia-cusolver-cu12==11.4.5.107 in /usr/local/lib/python3.10/dist-packages (from torch>=1.13->fairseq) (11.4.5.107)\n",
            "Requirement already satisfied: nvidia-cusparse-cu12==12.1.0.106 in /usr/local/lib/python3.10/dist-packages (from torch>=1.13->fairseq) (12.1.0.106)\n",
            "Requirement already satisfied: nvidia-nccl-cu12==2.19.3 in /usr/local/lib/python3.10/dist-packages (from torch>=1.13->fairseq) (2.19.3)\n",
            "Requirement already satisfied: nvidia-nvtx-cu12==12.1.105 in /usr/local/lib/python3.10/dist-packages (from torch>=1.13->fairseq) (12.1.105)\n",
            "Requirement already satisfied: triton==2.2.0 in /usr/local/lib/python3.10/dist-packages (from torch>=1.13->fairseq) (2.2.0)\n",
            "Requirement already satisfied: nvidia-nvjitlink-cu12 in /usr/local/lib/python3.10/dist-packages (from nvidia-cusolver-cu12==11.4.5.107->torch>=1.13->fairseq) (12.4.127)\n",
            "Requirement already satisfied: pycparser in /usr/local/lib/python3.10/dist-packages (from cffi->fairseq) (2.22)\n",
            "Requirement already satisfied: scipy>=1.3.2 in /usr/local/lib/python3.10/dist-packages (from scikit-learn->fairseq) (1.11.4)\n",
            "Requirement already satisfied: joblib>=1.1.1 in /usr/local/lib/python3.10/dist-packages (from scikit-learn->fairseq) (1.3.2)\n",
            "Requirement already satisfied: threadpoolctl>=2.0.0 in /usr/local/lib/python3.10/dist-packages (from scikit-learn->fairseq) (3.4.0)\n",
            "Requirement already satisfied: MarkupSafe>=2.0 in /usr/local/lib/python3.10/dist-packages (from jinja2->torch>=1.13->fairseq) (2.1.5)\n",
            "Requirement already satisfied: mpmath>=0.19 in /usr/local/lib/python3.10/dist-packages (from sympy->torch>=1.13->fairseq) (1.3.0)\n"
          ]
        }
      ]
    },
    {
      "cell_type": "markdown",
      "source": [
        "#### clone UniSpeech"
      ],
      "metadata": {
        "id": "z-nuTYf1fFK-"
      }
    },
    {
      "cell_type": "code",
      "source": [
        "%cd /content"
      ],
      "metadata": {
        "colab": {
          "base_uri": "https://localhost:8080/"
        },
        "id": "8QiZVpjDj3-E",
        "outputId": "bab87eee-6b0c-440b-eaa5-15a8f7918aea"
      },
      "execution_count": null,
      "outputs": [
        {
          "output_type": "stream",
          "name": "stdout",
          "text": [
            "/content\n"
          ]
        }
      ]
    },
    {
      "cell_type": "code",
      "source": [
        "!git clone https://github.com/microsoft/UniSpeech"
      ],
      "metadata": {
        "id": "P0GMW6sSY44v",
        "colab": {
          "base_uri": "https://localhost:8080/"
        },
        "outputId": "add5282d-662a-4da5-de12-a38b57ee8f7f"
      },
      "execution_count": null,
      "outputs": [
        {
          "output_type": "stream",
          "name": "stdout",
          "text": [
            "Cloning into 'UniSpeech'...\n",
            "remote: Enumerating objects: 1405, done.\u001b[K\n",
            "remote: Counting objects: 100% (52/52), done.\u001b[K\n",
            "remote: Compressing objects: 100% (49/49), done.\u001b[K\n",
            "remote: Total 1405 (delta 29), reused 6 (delta 3), pack-reused 1353\u001b[K\n",
            "Receiving objects: 100% (1405/1405), 74.12 MiB | 17.91 MiB/s, done.\n",
            "Resolving deltas: 100% (589/589), done.\n",
            "Updating files: 100% (433/433), done.\n"
          ]
        }
      ]
    },
    {
      "cell_type": "markdown",
      "source": [
        "#### install requirements"
      ],
      "metadata": {
        "id": "X4VzW1n-fLVf"
      }
    },
    {
      "cell_type": "code",
      "source": [
        "# !pip install s3prl==0.3.1\n",
        "!pip install fire==0.4.0\n",
        "!pip install sentencepiece==0.1.96"
      ],
      "metadata": {
        "colab": {
          "base_uri": "https://localhost:8080/"
        },
        "id": "GPWHVHoGfStI",
        "outputId": "a2e99c9b-6424-4a87-b395-6a4642649bf8"
      },
      "execution_count": null,
      "outputs": [
        {
          "output_type": "stream",
          "name": "stdout",
          "text": [
            "Collecting fire==0.4.0\n",
            "  Downloading fire-0.4.0.tar.gz (87 kB)\n",
            "\u001b[2K     \u001b[90m━━━━━━━━━━━━━━━━━━━━━━━━━━━━━━━━━━━━━━━━\u001b[0m \u001b[32m87.7/87.7 kB\u001b[0m \u001b[31m1.5 MB/s\u001b[0m eta \u001b[36m0:00:00\u001b[0m\n",
            "\u001b[?25h  Preparing metadata (setup.py) ... \u001b[?25l\u001b[?25hdone\n",
            "Requirement already satisfied: six in /usr/local/lib/python3.10/dist-packages (from fire==0.4.0) (1.16.0)\n",
            "Requirement already satisfied: termcolor in /usr/local/lib/python3.10/dist-packages (from fire==0.4.0) (2.4.0)\n",
            "Building wheels for collected packages: fire\n",
            "  Building wheel for fire (setup.py) ... \u001b[?25l\u001b[?25hdone\n",
            "  Created wheel for fire: filename=fire-0.4.0-py2.py3-none-any.whl size=115928 sha256=8723153e40fa5fe54063a06fb6d141d35234173cc5538364460903cd206d27e2\n",
            "  Stored in directory: /root/.cache/pip/wheels/26/9a/dd/2818b1b023daf077ec3e625c47ae446aca587a5abe48e05212\n",
            "Successfully built fire\n",
            "Installing collected packages: fire\n",
            "Successfully installed fire-0.4.0\n",
            "Collecting sentencepiece==0.1.96\n",
            "  Downloading sentencepiece-0.1.96-cp310-cp310-manylinux_2_17_x86_64.manylinux2014_x86_64.whl (1.2 MB)\n",
            "\u001b[2K     \u001b[90m━━━━━━━━━━━━━━━━━━━━━━━━━━━━━━━━━━━━━━━━\u001b[0m \u001b[32m1.2/1.2 MB\u001b[0m \u001b[31m6.5 MB/s\u001b[0m eta \u001b[36m0:00:00\u001b[0m\n",
            "\u001b[?25hInstalling collected packages: sentencepiece\n",
            "  Attempting uninstall: sentencepiece\n",
            "    Found existing installation: sentencepiece 0.1.99\n",
            "    Uninstalling sentencepiece-0.1.99:\n",
            "      Successfully uninstalled sentencepiece-0.1.99\n",
            "Successfully installed sentencepiece-0.1.96\n"
          ]
        }
      ]
    },
    {
      "cell_type": "code",
      "source": [
        "!pip install omegaconf==2.0.6"
      ],
      "metadata": {
        "colab": {
          "base_uri": "https://localhost:8080/"
        },
        "id": "A3vlMS-3oe1w",
        "outputId": "7995b2f5-bd31-4fcc-9024-379ec3b027a1"
      },
      "execution_count": null,
      "outputs": [
        {
          "output_type": "stream",
          "name": "stdout",
          "text": [
            "Collecting omegaconf==2.0.6\n",
            "  Using cached omegaconf-2.0.6-py3-none-any.whl (36 kB)\n",
            "Requirement already satisfied: PyYAML>=5.1.* in /usr/local/lib/python3.10/dist-packages (from omegaconf==2.0.6) (6.0.1)\n",
            "Requirement already satisfied: typing-extensions in /usr/local/lib/python3.10/dist-packages (from omegaconf==2.0.6) (4.10.0)\n",
            "Installing collected packages: omegaconf\n",
            "  Attempting uninstall: omegaconf\n",
            "    Found existing installation: omegaconf 2.3.0\n",
            "    Uninstalling omegaconf-2.3.0:\n",
            "      Successfully uninstalled omegaconf-2.3.0\n",
            "\u001b[31mERROR: pip's dependency resolver does not currently take into account all the packages that are installed. This behaviour is the source of the following dependency conflicts.\n",
            "hydra-core 1.0.7 requires antlr4-python3-runtime==4.8, but you have antlr4-python3-runtime 4.9.3 which is incompatible.\n",
            "s3prl 0.4.15 requires omegaconf>=2.1.1, but you have omegaconf 2.0.6 which is incompatible.\u001b[0m\u001b[31m\n",
            "\u001b[0mSuccessfully installed omegaconf-2.0.6\n"
          ]
        }
      ]
    },
    {
      "cell_type": "code",
      "source": [
        "!sudo apt-get install sox"
      ],
      "metadata": {
        "colab": {
          "base_uri": "https://localhost:8080/"
        },
        "id": "Vju1zopADwKB",
        "outputId": "de2d2b36-30dd-42e9-8060-5a8eb4764498"
      },
      "execution_count": null,
      "outputs": [
        {
          "output_type": "stream",
          "name": "stdout",
          "text": [
            "Reading package lists... Done\n",
            "Building dependency tree... Done\n",
            "Reading state information... Done\n",
            "The following additional packages will be installed:\n",
            "  libopencore-amrnb0 libopencore-amrwb0 libsox-fmt-alsa libsox-fmt-base\n",
            "  libsox3 libwavpack1\n",
            "Suggested packages:\n",
            "  libsox-fmt-all\n",
            "The following NEW packages will be installed:\n",
            "  libopencore-amrnb0 libopencore-amrwb0 libsox-fmt-alsa libsox-fmt-base\n",
            "  libsox3 libwavpack1 sox\n",
            "0 upgraded, 7 newly installed, 0 to remove and 45 not upgraded.\n",
            "Need to get 617 kB of archives.\n",
            "After this operation, 1,764 kB of additional disk space will be used.\n",
            "Get:1 http://archive.ubuntu.com/ubuntu jammy/universe amd64 libopencore-amrnb0 amd64 0.1.5-1 [94.8 kB]\n",
            "Get:2 http://archive.ubuntu.com/ubuntu jammy/universe amd64 libopencore-amrwb0 amd64 0.1.5-1 [49.1 kB]\n",
            "Get:3 http://archive.ubuntu.com/ubuntu jammy-updates/universe amd64 libsox3 amd64 14.4.2+git20190427-2+deb11u2ubuntu0.22.04.1 [240 kB]\n",
            "Get:4 http://archive.ubuntu.com/ubuntu jammy-updates/universe amd64 libsox-fmt-alsa amd64 14.4.2+git20190427-2+deb11u2ubuntu0.22.04.1 [11.2 kB]\n",
            "Get:5 http://archive.ubuntu.com/ubuntu jammy/main amd64 libwavpack1 amd64 5.4.0-1build2 [83.7 kB]\n",
            "Get:6 http://archive.ubuntu.com/ubuntu jammy-updates/universe amd64 libsox-fmt-base amd64 14.4.2+git20190427-2+deb11u2ubuntu0.22.04.1 [33.7 kB]\n",
            "Get:7 http://archive.ubuntu.com/ubuntu jammy-updates/universe amd64 sox amd64 14.4.2+git20190427-2+deb11u2ubuntu0.22.04.1 [104 kB]\n",
            "Fetched 617 kB in 0s (2,165 kB/s)\n",
            "debconf: unable to initialize frontend: Dialog\n",
            "debconf: (No usable dialog-like program is installed, so the dialog based frontend cannot be used. at /usr/share/perl5/Debconf/FrontEnd/Dialog.pm line 78, <> line 7.)\n",
            "debconf: falling back to frontend: Readline\n",
            "debconf: unable to initialize frontend: Readline\n",
            "debconf: (This frontend requires a controlling tty.)\n",
            "debconf: falling back to frontend: Teletype\n",
            "dpkg-preconfigure: unable to re-open stdin: \n",
            "Selecting previously unselected package libopencore-amrnb0:amd64.\n",
            "(Reading database ... 121753 files and directories currently installed.)\n",
            "Preparing to unpack .../0-libopencore-amrnb0_0.1.5-1_amd64.deb ...\n",
            "Unpacking libopencore-amrnb0:amd64 (0.1.5-1) ...\n",
            "Selecting previously unselected package libopencore-amrwb0:amd64.\n",
            "Preparing to unpack .../1-libopencore-amrwb0_0.1.5-1_amd64.deb ...\n",
            "Unpacking libopencore-amrwb0:amd64 (0.1.5-1) ...\n",
            "Selecting previously unselected package libsox3:amd64.\n",
            "Preparing to unpack .../2-libsox3_14.4.2+git20190427-2+deb11u2ubuntu0.22.04.1_amd64.deb ...\n",
            "Unpacking libsox3:amd64 (14.4.2+git20190427-2+deb11u2ubuntu0.22.04.1) ...\n",
            "Selecting previously unselected package libsox-fmt-alsa:amd64.\n",
            "Preparing to unpack .../3-libsox-fmt-alsa_14.4.2+git20190427-2+deb11u2ubuntu0.22.04.1_amd64.deb ...\n",
            "Unpacking libsox-fmt-alsa:amd64 (14.4.2+git20190427-2+deb11u2ubuntu0.22.04.1) ...\n",
            "Selecting previously unselected package libwavpack1:amd64.\n",
            "Preparing to unpack .../4-libwavpack1_5.4.0-1build2_amd64.deb ...\n",
            "Unpacking libwavpack1:amd64 (5.4.0-1build2) ...\n",
            "Selecting previously unselected package libsox-fmt-base:amd64.\n",
            "Preparing to unpack .../5-libsox-fmt-base_14.4.2+git20190427-2+deb11u2ubuntu0.22.04.1_amd64.deb ...\n",
            "Unpacking libsox-fmt-base:amd64 (14.4.2+git20190427-2+deb11u2ubuntu0.22.04.1) ...\n",
            "Selecting previously unselected package sox.\n",
            "Preparing to unpack .../6-sox_14.4.2+git20190427-2+deb11u2ubuntu0.22.04.1_amd64.deb ...\n",
            "Unpacking sox (14.4.2+git20190427-2+deb11u2ubuntu0.22.04.1) ...\n",
            "Setting up libsox3:amd64 (14.4.2+git20190427-2+deb11u2ubuntu0.22.04.1) ...\n",
            "Setting up libopencore-amrwb0:amd64 (0.1.5-1) ...\n",
            "Setting up libsox-fmt-alsa:amd64 (14.4.2+git20190427-2+deb11u2ubuntu0.22.04.1) ...\n",
            "Setting up libwavpack1:amd64 (5.4.0-1build2) ...\n",
            "Setting up libopencore-amrnb0:amd64 (0.1.5-1) ...\n",
            "Setting up libsox-fmt-base:amd64 (14.4.2+git20190427-2+deb11u2ubuntu0.22.04.1) ...\n",
            "Setting up sox (14.4.2+git20190427-2+deb11u2ubuntu0.22.04.1) ...\n",
            "Processing triggers for man-db (2.10.2-1) ...\n",
            "Processing triggers for libc-bin (2.35-0ubuntu3.4) ...\n",
            "/sbin/ldconfig.real: /usr/local/lib/libtbbmalloc_proxy.so.2 is not a symbolic link\n",
            "\n",
            "/sbin/ldconfig.real: /usr/local/lib/libtbbbind_2_5.so.3 is not a symbolic link\n",
            "\n",
            "/sbin/ldconfig.real: /usr/local/lib/libtbbmalloc.so.2 is not a symbolic link\n",
            "\n",
            "/sbin/ldconfig.real: /usr/local/lib/libtbb.so.12 is not a symbolic link\n",
            "\n",
            "/sbin/ldconfig.real: /usr/local/lib/libtbbbind_2_0.so.3 is not a symbolic link\n",
            "\n",
            "/sbin/ldconfig.real: /usr/local/lib/libtbbbind.so.3 is not a symbolic link\n",
            "\n"
          ]
        }
      ]
    },
    {
      "cell_type": "code",
      "source": [
        " !pip install s3prl@git+https://github.com/s3prl/s3prl.git@7ab62aaf2606d83da6c71ee74e7d16e0979edbc3#egg=s3prl"
      ],
      "metadata": {
        "colab": {
          "base_uri": "https://localhost:8080/"
        },
        "id": "vIkw82otEB6V",
        "outputId": "7e0fbcef-7b05-432d-e0dc-8a88fc64c516"
      },
      "execution_count": null,
      "outputs": [
        {
          "output_type": "stream",
          "name": "stdout",
          "text": [
            "Collecting s3prl@ git+https://github.com/s3prl/s3prl.git@7ab62aaf2606d83da6c71ee74e7d16e0979edbc3#egg=s3prl\n",
            "  Cloning https://github.com/s3prl/s3prl.git (to revision 7ab62aaf2606d83da6c71ee74e7d16e0979edbc3) to /tmp/pip-install-n0nkf3mz/s3prl_7d0e91164a6549aaa112d306beed7c0d\n",
            "  Running command git clone --filter=blob:none --quiet https://github.com/s3prl/s3prl.git /tmp/pip-install-n0nkf3mz/s3prl_7d0e91164a6549aaa112d306beed7c0d\n",
            "  Running command git rev-parse -q --verify 'sha^7ab62aaf2606d83da6c71ee74e7d16e0979edbc3'\n",
            "  Running command git fetch -q https://github.com/s3prl/s3prl.git 7ab62aaf2606d83da6c71ee74e7d16e0979edbc3\n",
            "  Running command git checkout -q 7ab62aaf2606d83da6c71ee74e7d16e0979edbc3\n",
            "  Resolved https://github.com/s3prl/s3prl.git to commit 7ab62aaf2606d83da6c71ee74e7d16e0979edbc3\n",
            "  Preparing metadata (setup.py) ... \u001b[?25l\u001b[?25hdone\n",
            "Collecting huggingface_hub@ git+https://github.com/huggingface/huggingface_hub.git#egg=huggingface_hub (from s3prl@ git+https://github.com/s3prl/s3prl.git@7ab62aaf2606d83da6c71ee74e7d16e0979edbc3#egg=s3prl)\n",
            "  Cloning https://github.com/huggingface/huggingface_hub.git to /tmp/pip-install-n0nkf3mz/huggingface-hub_2bfeabde914d47fd94f867a34c30951f\n",
            "  Running command git clone --filter=blob:none --quiet https://github.com/huggingface/huggingface_hub.git /tmp/pip-install-n0nkf3mz/huggingface-hub_2bfeabde914d47fd94f867a34c30951f\n",
            "  Resolved https://github.com/huggingface/huggingface_hub.git to commit 87b2a6f7a8f45946d19f80b561c9877f44322d62\n",
            "  Installing build dependencies ... \u001b[?25l\u001b[?25hdone\n",
            "  Getting requirements to build wheel ... \u001b[?25l\u001b[?25hdone\n",
            "  Preparing metadata (pyproject.toml) ... \u001b[?25l\u001b[?25hdone\n",
            "Requirement already satisfied: torch!=1.10.0,>=1.7.0 in /usr/local/lib/python3.10/dist-packages (from s3prl@ git+https://github.com/s3prl/s3prl.git@7ab62aaf2606d83da6c71ee74e7d16e0979edbc3#egg=s3prl) (2.2.1+cu121)\n",
            "Requirement already satisfied: torchaudio>=0.7.0 in /usr/local/lib/python3.10/dist-packages (from s3prl@ git+https://github.com/s3prl/s3prl.git@7ab62aaf2606d83da6c71ee74e7d16e0979edbc3#egg=s3prl) (2.2.1+cu121)\n",
            "Requirement already satisfied: torchvision>=0.8.0 in /usr/local/lib/python3.10/dist-packages (from s3prl@ git+https://github.com/s3prl/s3prl.git@7ab62aaf2606d83da6c71ee74e7d16e0979edbc3#egg=s3prl) (0.17.1+cu121)\n",
            "Requirement already satisfied: joblib>=0.12.4 in /usr/local/lib/python3.10/dist-packages (from s3prl@ git+https://github.com/s3prl/s3prl.git@7ab62aaf2606d83da6c71ee74e7d16e0979edbc3#egg=s3prl) (1.3.2)\n",
            "Requirement already satisfied: librosa>=0.7.2 in /usr/local/lib/python3.10/dist-packages (from s3prl@ git+https://github.com/s3prl/s3prl.git@7ab62aaf2606d83da6c71ee74e7d16e0979edbc3#egg=s3prl) (0.10.1)\n",
            "Requirement already satisfied: scipy>=1.5.4 in /usr/local/lib/python3.10/dist-packages (from s3prl@ git+https://github.com/s3prl/s3prl.git@7ab62aaf2606d83da6c71ee74e7d16e0979edbc3#egg=s3prl) (1.11.4)\n",
            "Requirement already satisfied: scikit-learn>=0.23.2 in /usr/local/lib/python3.10/dist-packages (from s3prl@ git+https://github.com/s3prl/s3prl.git@7ab62aaf2606d83da6c71ee74e7d16e0979edbc3#egg=s3prl) (1.2.2)\n",
            "Requirement already satisfied: PyYAML>=5.4 in /usr/local/lib/python3.10/dist-packages (from s3prl@ git+https://github.com/s3prl/s3prl.git@7ab62aaf2606d83da6c71ee74e7d16e0979edbc3#egg=s3prl) (6.0.1)\n",
            "Requirement already satisfied: tqdm>=4.56.0 in /usr/local/lib/python3.10/dist-packages (from s3prl@ git+https://github.com/s3prl/s3prl.git@7ab62aaf2606d83da6c71ee74e7d16e0979edbc3#egg=s3prl) (4.66.2)\n",
            "Collecting numpy<1.21,>=1.19.5 (from s3prl@ git+https://github.com/s3prl/s3prl.git@7ab62aaf2606d83da6c71ee74e7d16e0979edbc3#egg=s3prl)\n",
            "  Downloading numpy-1.20.3.zip (7.8 MB)\n",
            "\u001b[2K     \u001b[90m━━━━━━━━━━━━━━━━━━━━━━━━━━━━━━━━━━━━━━━━\u001b[0m \u001b[32m7.8/7.8 MB\u001b[0m \u001b[31m20.2 MB/s\u001b[0m eta \u001b[36m0:00:00\u001b[0m\n",
            "\u001b[?25h  Installing build dependencies ... \u001b[?25l\u001b[?25hdone\n",
            "  Getting requirements to build wheel ... \u001b[?25l\u001b[?25hdone\n",
            "  Preparing metadata (pyproject.toml) ... \u001b[?25l\u001b[?25hdone\n",
            "Requirement already satisfied: pandas>=1.1.5 in /usr/local/lib/python3.10/dist-packages (from s3prl@ git+https://github.com/s3prl/s3prl.git@7ab62aaf2606d83da6c71ee74e7d16e0979edbc3#egg=s3prl) (2.0.3)\n",
            "Collecting tensorboardX<2.3,>=1.9 (from s3prl@ git+https://github.com/s3prl/s3prl.git@7ab62aaf2606d83da6c71ee74e7d16e0979edbc3#egg=s3prl)\n",
            "  Downloading tensorboardX-2.2-py2.py3-none-any.whl (120 kB)\n",
            "\u001b[2K     \u001b[90m━━━━━━━━━━━━━━━━━━━━━━━━━━━━━━━━━━━━━━━━\u001b[0m \u001b[32m120.5/120.5 kB\u001b[0m \u001b[31m16.4 MB/s\u001b[0m eta \u001b[36m0:00:00\u001b[0m\n",
            "\u001b[?25hRequirement already satisfied: matplotlib>=3.3.4 in /usr/local/lib/python3.10/dist-packages (from s3prl@ git+https://github.com/s3prl/s3prl.git@7ab62aaf2606d83da6c71ee74e7d16e0979edbc3#egg=s3prl) (3.7.1)\n",
            "Requirement already satisfied: Pillow>=6.2.2 in /usr/local/lib/python3.10/dist-packages (from s3prl@ git+https://github.com/s3prl/s3prl.git@7ab62aaf2606d83da6c71ee74e7d16e0979edbc3#egg=s3prl) (9.4.0)\n",
            "Requirement already satisfied: numba>=0.48 in /usr/local/lib/python3.10/dist-packages (from s3prl@ git+https://github.com/s3prl/s3prl.git@7ab62aaf2606d83da6c71ee74e7d16e0979edbc3#egg=s3prl) (0.58.1)\n",
            "Requirement already satisfied: gdown>=3.12.2 in /usr/local/lib/python3.10/dist-packages (from s3prl@ git+https://github.com/s3prl/s3prl.git@7ab62aaf2606d83da6c71ee74e7d16e0979edbc3#egg=s3prl) (4.7.3)\n",
            "Requirement already satisfied: cython>=0.29.21 in /usr/local/lib/python3.10/dist-packages (from s3prl@ git+https://github.com/s3prl/s3prl.git@7ab62aaf2606d83da6c71ee74e7d16e0979edbc3#egg=s3prl) (3.0.10)\n",
            "Requirement already satisfied: packaging>=20.9 in /usr/local/lib/python3.10/dist-packages (from s3prl@ git+https://github.com/s3prl/s3prl.git@7ab62aaf2606d83da6c71ee74e7d16e0979edbc3#egg=s3prl) (24.0)\n",
            "Requirement already satisfied: transformers<5.0,>=4.10.0 in /usr/local/lib/python3.10/dist-packages (from s3prl@ git+https://github.com/s3prl/s3prl.git@7ab62aaf2606d83da6c71ee74e7d16e0979edbc3#egg=s3prl) (4.38.2)\n",
            "Collecting dtw-python==1.1.6 (from s3prl@ git+https://github.com/s3prl/s3prl.git@7ab62aaf2606d83da6c71ee74e7d16e0979edbc3#egg=s3prl)\n",
            "  Downloading dtw-python-1.1.6.tar.gz (229 kB)\n",
            "\u001b[2K     \u001b[90m━━━━━━━━━━━━━━━━━━━━━━━━━━━━━━━━━━━━━━━━\u001b[0m \u001b[32m229.6/229.6 kB\u001b[0m \u001b[31m30.2 MB/s\u001b[0m eta \u001b[36m0:00:00\u001b[0m\n",
            "\u001b[?25h  Installing build dependencies ... \u001b[?25l\u001b[?25hdone\n",
            "  Getting requirements to build wheel ... \u001b[?25l\u001b[?25hdone\n",
            "  Preparing metadata (pyproject.toml) ... \u001b[?25l\u001b[?25hdone\n",
            "Collecting asteroid==0.4.4 (from s3prl@ git+https://github.com/s3prl/s3prl.git@7ab62aaf2606d83da6c71ee74e7d16e0979edbc3#egg=s3prl)\n",
            "  Downloading asteroid-0.4.4-py3-none-any.whl (233 kB)\n",
            "\u001b[2K     \u001b[90m━━━━━━━━━━━━━━━━━━━━━━━━━━━━━━━━━━━━━━━━\u001b[0m \u001b[32m233.6/233.6 kB\u001b[0m \u001b[31m29.0 MB/s\u001b[0m eta \u001b[36m0:00:00\u001b[0m\n",
            "\u001b[?25hRequirement already satisfied: sacrebleu>=2.0.0 in /usr/local/lib/python3.10/dist-packages (from s3prl@ git+https://github.com/s3prl/s3prl.git@7ab62aaf2606d83da6c71ee74e7d16e0979edbc3#egg=s3prl) (2.4.1)\n",
            "Collecting kaldi_io (from s3prl@ git+https://github.com/s3prl/s3prl.git@7ab62aaf2606d83da6c71ee74e7d16e0979edbc3#egg=s3prl)\n",
            "  Downloading kaldi_io-0.9.8-py3-none-any.whl (16 kB)\n",
            "Requirement already satisfied: h5py in /usr/local/lib/python3.10/dist-packages (from s3prl@ git+https://github.com/s3prl/s3prl.git@7ab62aaf2606d83da6c71ee74e7d16e0979edbc3#egg=s3prl) (3.9.0)\n",
            "Collecting sox (from s3prl@ git+https://github.com/s3prl/s3prl.git@7ab62aaf2606d83da6c71ee74e7d16e0979edbc3#egg=s3prl)\n",
            "  Downloading sox-1.5.0.tar.gz (63 kB)\n",
            "\u001b[2K     \u001b[90m━━━━━━━━━━━━━━━━━━━━━━━━━━━━━━━━━━━━━━━━\u001b[0m \u001b[32m63.9/63.9 kB\u001b[0m \u001b[31m9.3 MB/s\u001b[0m eta \u001b[36m0:00:00\u001b[0m\n",
            "\u001b[?25h  Preparing metadata (setup.py) ... \u001b[?25l\u001b[?25hdone\n",
            "Requirement already satisfied: tabulate in /usr/local/lib/python3.10/dist-packages (from s3prl@ git+https://github.com/s3prl/s3prl.git@7ab62aaf2606d83da6c71ee74e7d16e0979edbc3#egg=s3prl) (0.9.0)\n",
            "Collecting intervaltree (from s3prl@ git+https://github.com/s3prl/s3prl.git@7ab62aaf2606d83da6c71ee74e7d16e0979edbc3#egg=s3prl)\n",
            "  Downloading intervaltree-3.1.0.tar.gz (32 kB)\n",
            "  Preparing metadata (setup.py) ... \u001b[?25l\u001b[?25hdone\n",
            "Requirement already satisfied: lxml in /usr/local/lib/python3.10/dist-packages (from s3prl@ git+https://github.com/s3prl/s3prl.git@7ab62aaf2606d83da6c71ee74e7d16e0979edbc3#egg=s3prl) (4.9.4)\n",
            "Requirement already satisfied: soundfile in /usr/local/lib/python3.10/dist-packages (from s3prl@ git+https://github.com/s3prl/s3prl.git@7ab62aaf2606d83da6c71ee74e7d16e0979edbc3#egg=s3prl) (0.12.1)\n",
            "Collecting pysndfx (from s3prl@ git+https://github.com/s3prl/s3prl.git@7ab62aaf2606d83da6c71ee74e7d16e0979edbc3#egg=s3prl)\n",
            "  Downloading pysndfx-0.3.6.tar.gz (5.9 kB)\n",
            "  Preparing metadata (setup.py) ... \u001b[?25l\u001b[?25hdone\n",
            "Requirement already satisfied: nltk in /usr/local/lib/python3.10/dist-packages (from s3prl@ git+https://github.com/s3prl/s3prl.git@7ab62aaf2606d83da6c71ee74e7d16e0979edbc3#egg=s3prl) (3.8.1)\n",
            "Collecting normalise (from s3prl@ git+https://github.com/s3prl/s3prl.git@7ab62aaf2606d83da6c71ee74e7d16e0979edbc3#egg=s3prl)\n",
            "  Downloading normalise-0.1.8-py3-none-any.whl (15.7 MB)\n",
            "\u001b[2K     \u001b[90m━━━━━━━━━━━━━━━━━━━━━━━━━━━━━━━━━━━━━━━━\u001b[0m \u001b[32m15.7/15.7 MB\u001b[0m \u001b[31m8.8 MB/s\u001b[0m eta \u001b[36m0:00:00\u001b[0m\n",
            "\u001b[?25hRequirement already satisfied: editdistance in /usr/local/lib/python3.10/dist-packages (from s3prl@ git+https://github.com/s3prl/s3prl.git@7ab62aaf2606d83da6c71ee74e7d16e0979edbc3#egg=s3prl) (0.6.2)\n",
            "Requirement already satisfied: easydict in /usr/local/lib/python3.10/dist-packages (from s3prl@ git+https://github.com/s3prl/s3prl.git@7ab62aaf2606d83da6c71ee74e7d16e0979edbc3#egg=s3prl) (1.13)\n",
            "Collecting catalyst (from s3prl@ git+https://github.com/s3prl/s3prl.git@7ab62aaf2606d83da6c71ee74e7d16e0979edbc3#egg=s3prl)\n",
            "  Downloading catalyst-22.4-py2.py3-none-any.whl (446 kB)\n",
            "\u001b[2K     \u001b[90m━━━━━━━━━━━━━━━━━━━━━━━━━━━━━━━━━━━━━━━━\u001b[0m \u001b[32m446.7/446.7 kB\u001b[0m \u001b[31m41.0 MB/s\u001b[0m eta \u001b[36m0:00:00\u001b[0m\n",
            "\u001b[?25hRequirement already satisfied: sentencepiece in /usr/local/lib/python3.10/dist-packages (from s3prl@ git+https://github.com/s3prl/s3prl.git@7ab62aaf2606d83da6c71ee74e7d16e0979edbc3#egg=s3prl) (0.1.96)\n",
            "Collecting asteroid-filterbanks>=0.2.4 (from asteroid==0.4.4->s3prl@ git+https://github.com/s3prl/s3prl.git@7ab62aaf2606d83da6c71ee74e7d16e0979edbc3#egg=s3prl)\n",
            "  Downloading asteroid_filterbanks-0.4.0-py3-none-any.whl (29 kB)\n",
            "Collecting pytorch-lightning>=1.0.1 (from asteroid==0.4.4->s3prl@ git+https://github.com/s3prl/s3prl.git@7ab62aaf2606d83da6c71ee74e7d16e0979edbc3#egg=s3prl)\n",
            "  Downloading pytorch_lightning-2.2.1-py3-none-any.whl (801 kB)\n",
            "\u001b[2K     \u001b[90m━━━━━━━━━━━━━━━━━━━━━━━━━━━━━━━━━━━━━━━━\u001b[0m \u001b[32m801.6/801.6 kB\u001b[0m \u001b[31m33.7 MB/s\u001b[0m eta \u001b[36m0:00:00\u001b[0m\n",
            "\u001b[?25hCollecting pb-bss-eval>=0.0.2 (from asteroid==0.4.4->s3prl@ git+https://github.com/s3prl/s3prl.git@7ab62aaf2606d83da6c71ee74e7d16e0979edbc3#egg=s3prl)\n",
            "  Downloading pb_bss_eval-0.0.2-py3-none-any.whl (14 kB)\n",
            "Collecting torch-stoi>=0.1.2 (from asteroid==0.4.4->s3prl@ git+https://github.com/s3prl/s3prl.git@7ab62aaf2606d83da6c71ee74e7d16e0979edbc3#egg=s3prl)\n",
            "  Downloading torch_stoi-0.2.1-py3-none-any.whl (7.8 kB)\n",
            "Collecting torch-optimizer>=0.0.1a12 (from asteroid==0.4.4->s3prl@ git+https://github.com/s3prl/s3prl.git@7ab62aaf2606d83da6c71ee74e7d16e0979edbc3#egg=s3prl)\n",
            "  Downloading torch_optimizer-0.3.0-py3-none-any.whl (61 kB)\n",
            "\u001b[2K     \u001b[90m━━━━━━━━━━━━━━━━━━━━━━━━━━━━━━━━━━━━━━━━\u001b[0m \u001b[32m61.9/61.9 kB\u001b[0m \u001b[31m8.8 MB/s\u001b[0m eta \u001b[36m0:00:00\u001b[0m\n",
            "\u001b[?25hCollecting julius (from asteroid==0.4.4->s3prl@ git+https://github.com/s3prl/s3prl.git@7ab62aaf2606d83da6c71ee74e7d16e0979edbc3#egg=s3prl)\n",
            "  Downloading julius-0.2.7.tar.gz (59 kB)\n",
            "\u001b[2K     \u001b[90m━━━━━━━━━━━━━━━━━━━━━━━━━━━━━━━━━━━━━━━━\u001b[0m \u001b[32m59.6/59.6 kB\u001b[0m \u001b[31m8.6 MB/s\u001b[0m eta \u001b[36m0:00:00\u001b[0m\n",
            "\u001b[?25h  Preparing metadata (setup.py) ... \u001b[?25l\u001b[?25hdone\n",
            "Requirement already satisfied: filelock in /usr/local/lib/python3.10/dist-packages (from gdown>=3.12.2->s3prl@ git+https://github.com/s3prl/s3prl.git@7ab62aaf2606d83da6c71ee74e7d16e0979edbc3#egg=s3prl) (3.13.3)\n",
            "Requirement already satisfied: requests[socks] in /usr/local/lib/python3.10/dist-packages (from gdown>=3.12.2->s3prl@ git+https://github.com/s3prl/s3prl.git@7ab62aaf2606d83da6c71ee74e7d16e0979edbc3#egg=s3prl) (2.31.0)\n",
            "Requirement already satisfied: six in /usr/local/lib/python3.10/dist-packages (from gdown>=3.12.2->s3prl@ git+https://github.com/s3prl/s3prl.git@7ab62aaf2606d83da6c71ee74e7d16e0979edbc3#egg=s3prl) (1.16.0)\n",
            "Requirement already satisfied: beautifulsoup4 in /usr/local/lib/python3.10/dist-packages (from gdown>=3.12.2->s3prl@ git+https://github.com/s3prl/s3prl.git@7ab62aaf2606d83da6c71ee74e7d16e0979edbc3#egg=s3prl) (4.12.3)\n",
            "Requirement already satisfied: fsspec>=2023.5.0 in /usr/local/lib/python3.10/dist-packages (from huggingface_hub@ git+https://github.com/huggingface/huggingface_hub.git#egg=huggingface_hub->s3prl@ git+https://github.com/s3prl/s3prl.git@7ab62aaf2606d83da6c71ee74e7d16e0979edbc3#egg=s3prl) (2023.6.0)\n",
            "Requirement already satisfied: typing-extensions>=3.7.4.3 in /usr/local/lib/python3.10/dist-packages (from huggingface_hub@ git+https://github.com/huggingface/huggingface_hub.git#egg=huggingface_hub->s3prl@ git+https://github.com/s3prl/s3prl.git@7ab62aaf2606d83da6c71ee74e7d16e0979edbc3#egg=s3prl) (4.10.0)\n",
            "Requirement already satisfied: audioread>=2.1.9 in /usr/local/lib/python3.10/dist-packages (from librosa>=0.7.2->s3prl@ git+https://github.com/s3prl/s3prl.git@7ab62aaf2606d83da6c71ee74e7d16e0979edbc3#egg=s3prl) (3.0.1)\n",
            "Requirement already satisfied: decorator>=4.3.0 in /usr/local/lib/python3.10/dist-packages (from librosa>=0.7.2->s3prl@ git+https://github.com/s3prl/s3prl.git@7ab62aaf2606d83da6c71ee74e7d16e0979edbc3#egg=s3prl) (4.4.2)\n",
            "Requirement already satisfied: pooch>=1.0 in /usr/local/lib/python3.10/dist-packages (from librosa>=0.7.2->s3prl@ git+https://github.com/s3prl/s3prl.git@7ab62aaf2606d83da6c71ee74e7d16e0979edbc3#egg=s3prl) (1.8.1)\n",
            "Requirement already satisfied: soxr>=0.3.2 in /usr/local/lib/python3.10/dist-packages (from librosa>=0.7.2->s3prl@ git+https://github.com/s3prl/s3prl.git@7ab62aaf2606d83da6c71ee74e7d16e0979edbc3#egg=s3prl) (0.3.7)\n",
            "Requirement already satisfied: lazy-loader>=0.1 in /usr/local/lib/python3.10/dist-packages (from librosa>=0.7.2->s3prl@ git+https://github.com/s3prl/s3prl.git@7ab62aaf2606d83da6c71ee74e7d16e0979edbc3#egg=s3prl) (0.3)\n",
            "Requirement already satisfied: msgpack>=1.0 in /usr/local/lib/python3.10/dist-packages (from librosa>=0.7.2->s3prl@ git+https://github.com/s3prl/s3prl.git@7ab62aaf2606d83da6c71ee74e7d16e0979edbc3#egg=s3prl) (1.0.8)\n",
            "Requirement already satisfied: contourpy>=1.0.1 in /usr/local/lib/python3.10/dist-packages (from matplotlib>=3.3.4->s3prl@ git+https://github.com/s3prl/s3prl.git@7ab62aaf2606d83da6c71ee74e7d16e0979edbc3#egg=s3prl) (1.2.0)\n",
            "Requirement already satisfied: cycler>=0.10 in /usr/local/lib/python3.10/dist-packages (from matplotlib>=3.3.4->s3prl@ git+https://github.com/s3prl/s3prl.git@7ab62aaf2606d83da6c71ee74e7d16e0979edbc3#egg=s3prl) (0.12.1)\n",
            "Requirement already satisfied: fonttools>=4.22.0 in /usr/local/lib/python3.10/dist-packages (from matplotlib>=3.3.4->s3prl@ git+https://github.com/s3prl/s3prl.git@7ab62aaf2606d83da6c71ee74e7d16e0979edbc3#egg=s3prl) (4.50.0)\n",
            "Requirement already satisfied: kiwisolver>=1.0.1 in /usr/local/lib/python3.10/dist-packages (from matplotlib>=3.3.4->s3prl@ git+https://github.com/s3prl/s3prl.git@7ab62aaf2606d83da6c71ee74e7d16e0979edbc3#egg=s3prl) (1.4.5)\n",
            "Requirement already satisfied: pyparsing>=2.3.1 in /usr/local/lib/python3.10/dist-packages (from matplotlib>=3.3.4->s3prl@ git+https://github.com/s3prl/s3prl.git@7ab62aaf2606d83da6c71ee74e7d16e0979edbc3#egg=s3prl) (3.1.2)\n",
            "Requirement already satisfied: python-dateutil>=2.7 in /usr/local/lib/python3.10/dist-packages (from matplotlib>=3.3.4->s3prl@ git+https://github.com/s3prl/s3prl.git@7ab62aaf2606d83da6c71ee74e7d16e0979edbc3#egg=s3prl) (2.8.2)\n",
            "Requirement already satisfied: llvmlite<0.42,>=0.41.0dev0 in /usr/local/lib/python3.10/dist-packages (from numba>=0.48->s3prl@ git+https://github.com/s3prl/s3prl.git@7ab62aaf2606d83da6c71ee74e7d16e0979edbc3#egg=s3prl) (0.41.1)\n",
            "INFO: pip is looking at multiple versions of numba to determine which version is compatible with other requirements. This could take a while.\n",
            "Collecting numba>=0.48 (from s3prl@ git+https://github.com/s3prl/s3prl.git@7ab62aaf2606d83da6c71ee74e7d16e0979edbc3#egg=s3prl)\n",
            "  Downloading numba-0.59.1-cp310-cp310-manylinux2014_x86_64.manylinux_2_17_x86_64.whl (3.7 MB)\n",
            "\u001b[2K     \u001b[90m━━━━━━━━━━━━━━━━━━━━━━━━━━━━━━━━━━━━━━━━\u001b[0m \u001b[32m3.7/3.7 MB\u001b[0m \u001b[31m63.2 MB/s\u001b[0m eta \u001b[36m0:00:00\u001b[0m\n",
            "\u001b[?25hCollecting llvmlite<0.43,>=0.42.0dev0 (from numba>=0.48->s3prl@ git+https://github.com/s3prl/s3prl.git@7ab62aaf2606d83da6c71ee74e7d16e0979edbc3#egg=s3prl)\n",
            "  Downloading llvmlite-0.42.0-cp310-cp310-manylinux_2_17_x86_64.manylinux2014_x86_64.whl (43.8 MB)\n",
            "\u001b[2K     \u001b[90m━━━━━━━━━━━━━━━━━━━━━━━━━━━━━━━━━━━━━━━━\u001b[0m \u001b[32m43.8/43.8 MB\u001b[0m \u001b[31m10.2 MB/s\u001b[0m eta \u001b[36m0:00:00\u001b[0m\n",
            "\u001b[?25hCollecting numba>=0.48 (from s3prl@ git+https://github.com/s3prl/s3prl.git@7ab62aaf2606d83da6c71ee74e7d16e0979edbc3#egg=s3prl)\n",
            "  Downloading numba-0.59.0-cp310-cp310-manylinux2014_x86_64.manylinux_2_17_x86_64.whl (3.7 MB)\n",
            "\u001b[2K     \u001b[90m━━━━━━━━━━━━━━━━━━━━━━━━━━━━━━━━━━━━━━━━\u001b[0m \u001b[32m3.7/3.7 MB\u001b[0m \u001b[31m43.1 MB/s\u001b[0m eta \u001b[36m0:00:00\u001b[0m\n",
            "\u001b[?25h  Downloading numba-0.58.0-cp310-cp310-manylinux2014_x86_64.manylinux_2_17_x86_64.whl (3.6 MB)\n",
            "\u001b[2K     \u001b[90m━━━━━━━━━━━━━━━━━━━━━━━━━━━━━━━━━━━━━━━━\u001b[0m \u001b[32m3.6/3.6 MB\u001b[0m \u001b[31m44.6 MB/s\u001b[0m eta \u001b[36m0:00:00\u001b[0m\n",
            "\u001b[?25h  Downloading numba-0.57.1-cp310-cp310-manylinux2014_x86_64.manylinux_2_17_x86_64.whl (3.6 MB)\n",
            "\u001b[2K     \u001b[90m━━━━━━━━━━━━━━━━━━━━━━━━━━━━━━━━━━━━━━━━\u001b[0m \u001b[32m3.6/3.6 MB\u001b[0m \u001b[31m44.6 MB/s\u001b[0m eta \u001b[36m0:00:00\u001b[0m\n",
            "\u001b[?25hCollecting llvmlite<0.41,>=0.40.0dev0 (from numba>=0.48->s3prl@ git+https://github.com/s3prl/s3prl.git@7ab62aaf2606d83da6c71ee74e7d16e0979edbc3#egg=s3prl)\n",
            "  Downloading llvmlite-0.40.1-cp310-cp310-manylinux_2_17_x86_64.manylinux2014_x86_64.whl (42.1 MB)\n",
            "\u001b[2K     \u001b[90m━━━━━━━━━━━━━━━━━━━━━━━━━━━━━━━━━━━━━━━━\u001b[0m \u001b[32m42.1/42.1 MB\u001b[0m \u001b[31m13.6 MB/s\u001b[0m eta \u001b[36m0:00:00\u001b[0m\n",
            "\u001b[?25hCollecting numba>=0.48 (from s3prl@ git+https://github.com/s3prl/s3prl.git@7ab62aaf2606d83da6c71ee74e7d16e0979edbc3#egg=s3prl)\n",
            "  Downloading numba-0.57.0-cp310-cp310-manylinux2014_x86_64.manylinux_2_17_x86_64.whl (3.6 MB)\n",
            "\u001b[2K     \u001b[90m━━━━━━━━━━━━━━━━━━━━━━━━━━━━━━━━━━━━━━━━\u001b[0m \u001b[32m3.6/3.6 MB\u001b[0m \u001b[31m33.3 MB/s\u001b[0m eta \u001b[36m0:00:00\u001b[0m\n",
            "\u001b[?25h  Downloading numba-0.56.4-cp310-cp310-manylinux2014_x86_64.manylinux_2_17_x86_64.whl (3.5 MB)\n",
            "\u001b[2K     \u001b[90m━━━━━━━━━━━━━━━━━━━━━━━━━━━━━━━━━━━━━━━━\u001b[0m \u001b[32m3.5/3.5 MB\u001b[0m \u001b[31m34.0 MB/s\u001b[0m eta \u001b[36m0:00:00\u001b[0m\n",
            "\u001b[?25hCollecting llvmlite<0.40,>=0.39.0dev0 (from numba>=0.48->s3prl@ git+https://github.com/s3prl/s3prl.git@7ab62aaf2606d83da6c71ee74e7d16e0979edbc3#egg=s3prl)\n",
            "  Downloading llvmlite-0.39.1-cp310-cp310-manylinux_2_17_x86_64.manylinux2014_x86_64.whl (34.6 MB)\n",
            "\u001b[2K     \u001b[90m━━━━━━━━━━━━━━━━━━━━━━━━━━━━━━━━━━━━━━━━\u001b[0m \u001b[32m34.6/34.6 MB\u001b[0m \u001b[31m11.6 MB/s\u001b[0m eta \u001b[36m0:00:00\u001b[0m\n",
            "\u001b[?25hRequirement already satisfied: setuptools in /usr/local/lib/python3.10/dist-packages (from numba>=0.48->s3prl@ git+https://github.com/s3prl/s3prl.git@7ab62aaf2606d83da6c71ee74e7d16e0979edbc3#egg=s3prl) (67.7.2)\n",
            "Requirement already satisfied: pytz>=2020.1 in /usr/local/lib/python3.10/dist-packages (from pandas>=1.1.5->s3prl@ git+https://github.com/s3prl/s3prl.git@7ab62aaf2606d83da6c71ee74e7d16e0979edbc3#egg=s3prl) (2023.4)\n",
            "Requirement already satisfied: tzdata>=2022.1 in /usr/local/lib/python3.10/dist-packages (from pandas>=1.1.5->s3prl@ git+https://github.com/s3prl/s3prl.git@7ab62aaf2606d83da6c71ee74e7d16e0979edbc3#egg=s3prl) (2024.1)\n",
            "INFO: pip is looking at multiple versions of pandas to determine which version is compatible with other requirements. This could take a while.\n",
            "Collecting pandas>=1.1.5 (from s3prl@ git+https://github.com/s3prl/s3prl.git@7ab62aaf2606d83da6c71ee74e7d16e0979edbc3#egg=s3prl)\n",
            "  Downloading pandas-2.2.1-cp310-cp310-manylinux_2_17_x86_64.manylinux2014_x86_64.whl (13.0 MB)\n",
            "\u001b[2K     \u001b[90m━━━━━━━━━━━━━━━━━━━━━━━━━━━━━━━━━━━━━━━━\u001b[0m \u001b[32m13.0/13.0 MB\u001b[0m \u001b[31m14.1 MB/s\u001b[0m eta \u001b[36m0:00:00\u001b[0m\n",
            "\u001b[?25h  Downloading pandas-2.2.0-cp310-cp310-manylinux_2_17_x86_64.manylinux2014_x86_64.whl (13.0 MB)\n",
            "\u001b[2K     \u001b[90m━━━━━━━━━━━━━━━━━━━━━━━━━━━━━━━━━━━━━━━━\u001b[0m \u001b[32m13.0/13.0 MB\u001b[0m \u001b[31m11.4 MB/s\u001b[0m eta \u001b[36m0:00:00\u001b[0m\n",
            "\u001b[?25h  Downloading pandas-2.1.4-cp310-cp310-manylinux_2_17_x86_64.manylinux2014_x86_64.whl (12.3 MB)\n",
            "\u001b[2K     \u001b[90m━━━━━━━━━━━━━━━━━━━━━━━━━━━━━━━━━━━━━━━━\u001b[0m \u001b[32m12.3/12.3 MB\u001b[0m \u001b[31m11.6 MB/s\u001b[0m eta \u001b[36m0:00:00\u001b[0m\n",
            "\u001b[?25h  Downloading pandas-2.1.3-cp310-cp310-manylinux_2_17_x86_64.manylinux2014_x86_64.whl (12.3 MB)\n",
            "\u001b[2K     \u001b[90m━━━━━━━━━━━━━━━━━━━━━━━━━━━━━━━━━━━━━━━━\u001b[0m \u001b[32m12.3/12.3 MB\u001b[0m \u001b[31m11.9 MB/s\u001b[0m eta \u001b[36m0:00:00\u001b[0m\n",
            "\u001b[?25h  Downloading pandas-2.1.2-cp310-cp310-manylinux_2_17_x86_64.manylinux2014_x86_64.whl (12.3 MB)\n",
            "\u001b[2K     \u001b[90m━━━━━━━━━━━━━━━━━━━━━━━━━━━━━━━━━━━━━━━━\u001b[0m \u001b[32m12.3/12.3 MB\u001b[0m \u001b[31m12.7 MB/s\u001b[0m eta \u001b[36m0:00:00\u001b[0m\n",
            "\u001b[?25h  Downloading pandas-2.1.1-cp310-cp310-manylinux_2_17_x86_64.manylinux2014_x86_64.whl (12.3 MB)\n",
            "\u001b[2K     \u001b[90m━━━━━━━━━━━━━━━━━━━━━━━━━━━━━━━━━━━━━━━━\u001b[0m \u001b[32m12.3/12.3 MB\u001b[0m \u001b[31m12.6 MB/s\u001b[0m eta \u001b[36m0:00:00\u001b[0m\n",
            "\u001b[?25h  Downloading pandas-2.1.0-cp310-cp310-manylinux_2_17_x86_64.manylinux2014_x86_64.whl (12.7 MB)\n",
            "\u001b[2K     \u001b[90m━━━━━━━━━━━━━━━━━━━━━━━━━━━━━━━━━━━━━━━━\u001b[0m \u001b[32m12.7/12.7 MB\u001b[0m \u001b[31m12.9 MB/s\u001b[0m eta \u001b[36m0:00:00\u001b[0m\n",
            "\u001b[?25hINFO: pip is looking at multiple versions of pandas to determine which version is compatible with other requirements. This could take a while.\n",
            "  Downloading pandas-2.0.2-cp310-cp310-manylinux_2_17_x86_64.manylinux2014_x86_64.whl (12.3 MB)\n",
            "\u001b[2K     \u001b[90m━━━━━━━━━━━━━━━━━━━━━━━━━━━━━━━━━━━━━━━━\u001b[0m \u001b[32m12.3/12.3 MB\u001b[0m \u001b[31m8.7 MB/s\u001b[0m eta \u001b[36m0:00:00\u001b[0m\n",
            "\u001b[?25h  Downloading pandas-2.0.1-cp310-cp310-manylinux_2_17_x86_64.manylinux2014_x86_64.whl (12.3 MB)\n",
            "\u001b[2K     \u001b[90m━━━━━━━━━━━━━━━━━━━━━━━━━━━━━━━━━━━━━━━━\u001b[0m \u001b[32m12.3/12.3 MB\u001b[0m \u001b[31m13.7 MB/s\u001b[0m eta \u001b[36m0:00:00\u001b[0m\n",
            "\u001b[?25h  Downloading pandas-2.0.0-cp310-cp310-manylinux_2_17_x86_64.manylinux2014_x86_64.whl (12.3 MB)\n",
            "\u001b[2K     \u001b[90m━━━━━━━━━━━━━━━━━━━━━━━━━━━━━━━━━━━━━━━━\u001b[0m \u001b[32m12.3/12.3 MB\u001b[0m \u001b[31m13.0 MB/s\u001b[0m eta \u001b[36m0:00:00\u001b[0m\n",
            "\u001b[?25h  Downloading pandas-1.5.3-cp310-cp310-manylinux_2_17_x86_64.manylinux2014_x86_64.whl (12.1 MB)\n",
            "\u001b[2K     \u001b[90m━━━━━━━━━━━━━━━━━━━━━━━━━━━━━━━━━━━━━━━━\u001b[0m \u001b[32m12.1/12.1 MB\u001b[0m \u001b[31m6.8 MB/s\u001b[0m eta \u001b[36m0:00:00\u001b[0m\n",
            "\u001b[?25h  Downloading pandas-1.5.2-cp310-cp310-manylinux_2_17_x86_64.manylinux2014_x86_64.whl (12.1 MB)\n",
            "\u001b[2K     \u001b[90m━━━━━━━━━━━━━━━━━━━━━━━━━━━━━━━━━━━━━━━━\u001b[0m \u001b[32m12.1/12.1 MB\u001b[0m \u001b[31m6.4 MB/s\u001b[0m eta \u001b[36m0:00:00\u001b[0m\n",
            "\u001b[?25hINFO: This is taking longer than usual. You might need to provide the dependency resolver with stricter constraints to reduce runtime. See https://pip.pypa.io/warnings/backtracking for guidance. If you want to abort this run, press Ctrl + C.\n",
            "  Downloading pandas-1.5.1-cp310-cp310-manylinux_2_17_x86_64.manylinux2014_x86_64.whl (12.1 MB)\n",
            "\u001b[2K     \u001b[90m━━━━━━━━━━━━━━━━━━━━━━━━━━━━━━━━━━━━━━━━\u001b[0m \u001b[32m12.1/12.1 MB\u001b[0m \u001b[31m2.7 MB/s\u001b[0m eta \u001b[36m0:00:00\u001b[0m\n",
            "\u001b[?25h  Downloading pandas-1.5.0-cp310-cp310-manylinux_2_17_x86_64.manylinux2014_x86_64.whl (12.1 MB)\n",
            "\u001b[2K     \u001b[90m━━━━━━━━━━━━━━━━━━━━━━━━━━━━━━━━━━━━━━━━\u001b[0m \u001b[32m12.1/12.1 MB\u001b[0m \u001b[31m2.4 MB/s\u001b[0m eta \u001b[36m0:00:00\u001b[0m\n",
            "\u001b[?25h  Downloading pandas-1.4.4-cp310-cp310-manylinux_2_17_x86_64.manylinux2014_x86_64.whl (11.6 MB)\n",
            "\u001b[2K     \u001b[90m━━━━━━━━━━━━━━━━━━━━━━━━━━━━━━━━━━━━━━━━\u001b[0m \u001b[32m11.6/11.6 MB\u001b[0m \u001b[31m2.2 MB/s\u001b[0m eta \u001b[36m0:00:00\u001b[0m\n",
            "\u001b[?25h  Downloading pandas-1.4.3-cp310-cp310-manylinux_2_17_x86_64.manylinux2014_x86_64.whl (11.6 MB)\n",
            "\u001b[2K     \u001b[90m━━━━━━━━━━━━━━━━━━━━━━━━━━━━━━━━━━━━━━━━\u001b[0m \u001b[32m11.6/11.6 MB\u001b[0m \u001b[31m2.1 MB/s\u001b[0m eta \u001b[36m0:00:00\u001b[0m\n",
            "\u001b[?25h  Downloading pandas-1.4.2-cp310-cp310-manylinux_2_17_x86_64.manylinux2014_x86_64.whl (11.7 MB)\n",
            "\u001b[2K     \u001b[90m━━━━━━━━━━━━━━━━━━━━━━━━━━━━━━━━━━━━━━━━\u001b[0m \u001b[32m11.7/11.7 MB\u001b[0m \u001b[31m2.0 MB/s\u001b[0m eta \u001b[36m0:00:00\u001b[0m\n",
            "\u001b[?25h  Downloading pandas-1.4.1-cp310-cp310-manylinux_2_17_x86_64.manylinux2014_x86_64.whl (11.7 MB)\n",
            "\u001b[2K     \u001b[90m━━━━━━━━━━━━━━━━━━━━━━━━━━━━━━━━━━━━━━━━\u001b[0m \u001b[32m11.7/11.7 MB\u001b[0m \u001b[31m3.5 MB/s\u001b[0m eta \u001b[36m0:00:00\u001b[0m\n",
            "\u001b[?25h  Downloading pandas-1.4.0-cp310-cp310-manylinux_2_17_x86_64.manylinux2014_x86_64.whl (11.7 MB)\n",
            "\u001b[2K     \u001b[90m━━━━━━━━━━━━━━━━━━━━━━━━━━━━━━━━━━━━━━━━\u001b[0m \u001b[32m11.7/11.7 MB\u001b[0m \u001b[31m3.2 MB/s\u001b[0m eta \u001b[36m0:00:00\u001b[0m\n",
            "\u001b[?25h  Downloading pandas-1.3.5-cp310-cp310-manylinux_2_17_x86_64.manylinux2014_x86_64.whl (11.5 MB)\n",
            "\u001b[2K     \u001b[90m━━━━━━━━━━━━━━━━━━━━━━━━━━━━━━━━━━━━━━━━\u001b[0m \u001b[32m11.5/11.5 MB\u001b[0m \u001b[31m3.2 MB/s\u001b[0m eta \u001b[36m0:00:00\u001b[0m\n",
            "\u001b[?25h  Downloading pandas-1.3.4-cp310-cp310-manylinux_2_17_x86_64.manylinux2014_x86_64.whl (11.5 MB)\n",
            "\u001b[2K     \u001b[90m━━━━━━━━━━━━━━━━━━━━━━━━━━━━━━━━━━━━━━━━\u001b[0m \u001b[32m11.5/11.5 MB\u001b[0m \u001b[31m3.6 MB/s\u001b[0m eta \u001b[36m0:00:00\u001b[0m\n",
            "\u001b[?25h  Downloading pandas-1.3.3-cp310-cp310-manylinux_2_17_x86_64.manylinux2014_x86_64.whl (11.5 MB)\n",
            "\u001b[2K     \u001b[90m━━━━━━━━━━━━━━━━━━━━━━━━━━━━━━━━━━━━━━━━\u001b[0m \u001b[32m11.5/11.5 MB\u001b[0m \u001b[31m3.2 MB/s\u001b[0m eta \u001b[36m0:00:00\u001b[0m\n",
            "\u001b[?25hRequirement already satisfied: portalocker in /usr/local/lib/python3.10/dist-packages (from sacrebleu>=2.0.0->s3prl@ git+https://github.com/s3prl/s3prl.git@7ab62aaf2606d83da6c71ee74e7d16e0979edbc3#egg=s3prl) (2.8.2)\n",
            "Requirement already satisfied: regex in /usr/local/lib/python3.10/dist-packages (from sacrebleu>=2.0.0->s3prl@ git+https://github.com/s3prl/s3prl.git@7ab62aaf2606d83da6c71ee74e7d16e0979edbc3#egg=s3prl) (2023.12.25)\n",
            "Requirement already satisfied: colorama in /usr/local/lib/python3.10/dist-packages (from sacrebleu>=2.0.0->s3prl@ git+https://github.com/s3prl/s3prl.git@7ab62aaf2606d83da6c71ee74e7d16e0979edbc3#egg=s3prl) (0.4.6)\n",
            "Requirement already satisfied: threadpoolctl>=2.0.0 in /usr/local/lib/python3.10/dist-packages (from scikit-learn>=0.23.2->s3prl@ git+https://github.com/s3prl/s3prl.git@7ab62aaf2606d83da6c71ee74e7d16e0979edbc3#egg=s3prl) (3.4.0)\n",
            "INFO: pip is looking at multiple versions of scipy to determine which version is compatible with other requirements. This could take a while.\n",
            "Collecting scipy>=1.5.4 (from s3prl@ git+https://github.com/s3prl/s3prl.git@7ab62aaf2606d83da6c71ee74e7d16e0979edbc3#egg=s3prl)\n",
            "  Downloading scipy-1.13.0-cp310-cp310-manylinux_2_17_x86_64.manylinux2014_x86_64.whl (38.6 MB)\n",
            "\u001b[2K     \u001b[90m━━━━━━━━━━━━━━━━━━━━━━━━━━━━━━━━━━━━━━━━\u001b[0m \u001b[32m38.6/38.6 MB\u001b[0m \u001b[31m2.7 MB/s\u001b[0m eta \u001b[36m0:00:00\u001b[0m\n",
            "\u001b[?25h  Downloading scipy-1.12.0-cp310-cp310-manylinux_2_17_x86_64.manylinux2014_x86_64.whl (38.4 MB)\n",
            "\u001b[2K     \u001b[90m━━━━━━━━━━━━━━━━━━━━━━━━━━━━━━━━━━━━━━━━\u001b[0m \u001b[32m38.4/38.4 MB\u001b[0m \u001b[31m2.8 MB/s\u001b[0m eta \u001b[36m0:00:00\u001b[0m\n",
            "\u001b[?25h  Downloading scipy-1.11.3-cp310-cp310-manylinux_2_17_x86_64.manylinux2014_x86_64.whl (36.4 MB)\n",
            "\u001b[2K     \u001b[90m━━━━━━━━━━━━━━━━━━━━━━━━━━━━━━━━━━━━━━━━\u001b[0m \u001b[32m36.4/36.4 MB\u001b[0m \u001b[31m3.3 MB/s\u001b[0m eta \u001b[36m0:00:00\u001b[0m\n",
            "\u001b[?25h  Downloading scipy-1.11.2-cp310-cp310-manylinux_2_17_x86_64.manylinux2014_x86_64.whl (36.3 MB)\n",
            "\u001b[2K     \u001b[90m━━━━━━━━━━━━━━━━━━━━━━━━━━━━━━━━━━━━━━━━\u001b[0m \u001b[32m36.3/36.3 MB\u001b[0m \u001b[31m4.1 MB/s\u001b[0m eta \u001b[36m0:00:00\u001b[0m\n",
            "\u001b[?25h  Downloading scipy-1.11.1-cp310-cp310-manylinux_2_17_x86_64.manylinux2014_x86_64.whl (36.3 MB)\n",
            "\u001b[2K     \u001b[90m━━━━━━━━━━━━━━━━━━━━━━━━━━━━━━━━━━━━━━━━\u001b[0m \u001b[32m36.3/36.3 MB\u001b[0m \u001b[31m4.0 MB/s\u001b[0m eta \u001b[36m0:00:00\u001b[0m\n",
            "\u001b[?25h  Downloading scipy-1.10.1-cp310-cp310-manylinux_2_17_x86_64.manylinux2014_x86_64.whl (34.4 MB)\n",
            "\u001b[2K     \u001b[90m━━━━━━━━━━━━━━━━━━━━━━━━━━━━━━━━━━━━━━━━\u001b[0m \u001b[32m34.4/34.4 MB\u001b[0m \u001b[31m3.5 MB/s\u001b[0m eta \u001b[36m0:00:00\u001b[0m\n",
            "\u001b[?25hRequirement already satisfied: cffi>=1.0 in /usr/local/lib/python3.10/dist-packages (from soundfile->s3prl@ git+https://github.com/s3prl/s3prl.git@7ab62aaf2606d83da6c71ee74e7d16e0979edbc3#egg=s3prl) (1.16.0)\n",
            "Requirement already satisfied: protobuf>=3.8.0 in /usr/local/lib/python3.10/dist-packages (from tensorboardX<2.3,>=1.9->s3prl@ git+https://github.com/s3prl/s3prl.git@7ab62aaf2606d83da6c71ee74e7d16e0979edbc3#egg=s3prl) (3.20.3)\n",
            "Requirement already satisfied: sympy in /usr/local/lib/python3.10/dist-packages (from torch!=1.10.0,>=1.7.0->s3prl@ git+https://github.com/s3prl/s3prl.git@7ab62aaf2606d83da6c71ee74e7d16e0979edbc3#egg=s3prl) (1.12)\n",
            "Requirement already satisfied: networkx in /usr/local/lib/python3.10/dist-packages (from torch!=1.10.0,>=1.7.0->s3prl@ git+https://github.com/s3prl/s3prl.git@7ab62aaf2606d83da6c71ee74e7d16e0979edbc3#egg=s3prl) (3.2.1)\n",
            "Requirement already satisfied: jinja2 in /usr/local/lib/python3.10/dist-packages (from torch!=1.10.0,>=1.7.0->s3prl@ git+https://github.com/s3prl/s3prl.git@7ab62aaf2606d83da6c71ee74e7d16e0979edbc3#egg=s3prl) (3.1.3)\n",
            "Requirement already satisfied: nvidia-cuda-nvrtc-cu12==12.1.105 in /usr/local/lib/python3.10/dist-packages (from torch!=1.10.0,>=1.7.0->s3prl@ git+https://github.com/s3prl/s3prl.git@7ab62aaf2606d83da6c71ee74e7d16e0979edbc3#egg=s3prl) (12.1.105)\n",
            "Requirement already satisfied: nvidia-cuda-runtime-cu12==12.1.105 in /usr/local/lib/python3.10/dist-packages (from torch!=1.10.0,>=1.7.0->s3prl@ git+https://github.com/s3prl/s3prl.git@7ab62aaf2606d83da6c71ee74e7d16e0979edbc3#egg=s3prl) (12.1.105)\n",
            "Requirement already satisfied: nvidia-cuda-cupti-cu12==12.1.105 in /usr/local/lib/python3.10/dist-packages (from torch!=1.10.0,>=1.7.0->s3prl@ git+https://github.com/s3prl/s3prl.git@7ab62aaf2606d83da6c71ee74e7d16e0979edbc3#egg=s3prl) (12.1.105)\n",
            "Requirement already satisfied: nvidia-cudnn-cu12==8.9.2.26 in /usr/local/lib/python3.10/dist-packages (from torch!=1.10.0,>=1.7.0->s3prl@ git+https://github.com/s3prl/s3prl.git@7ab62aaf2606d83da6c71ee74e7d16e0979edbc3#egg=s3prl) (8.9.2.26)\n",
            "Requirement already satisfied: nvidia-cublas-cu12==12.1.3.1 in /usr/local/lib/python3.10/dist-packages (from torch!=1.10.0,>=1.7.0->s3prl@ git+https://github.com/s3prl/s3prl.git@7ab62aaf2606d83da6c71ee74e7d16e0979edbc3#egg=s3prl) (12.1.3.1)\n",
            "Requirement already satisfied: nvidia-cufft-cu12==11.0.2.54 in /usr/local/lib/python3.10/dist-packages (from torch!=1.10.0,>=1.7.0->s3prl@ git+https://github.com/s3prl/s3prl.git@7ab62aaf2606d83da6c71ee74e7d16e0979edbc3#egg=s3prl) (11.0.2.54)\n",
            "Requirement already satisfied: nvidia-curand-cu12==10.3.2.106 in /usr/local/lib/python3.10/dist-packages (from torch!=1.10.0,>=1.7.0->s3prl@ git+https://github.com/s3prl/s3prl.git@7ab62aaf2606d83da6c71ee74e7d16e0979edbc3#egg=s3prl) (10.3.2.106)\n",
            "Requirement already satisfied: nvidia-cusolver-cu12==11.4.5.107 in /usr/local/lib/python3.10/dist-packages (from torch!=1.10.0,>=1.7.0->s3prl@ git+https://github.com/s3prl/s3prl.git@7ab62aaf2606d83da6c71ee74e7d16e0979edbc3#egg=s3prl) (11.4.5.107)\n",
            "Requirement already satisfied: nvidia-cusparse-cu12==12.1.0.106 in /usr/local/lib/python3.10/dist-packages (from torch!=1.10.0,>=1.7.0->s3prl@ git+https://github.com/s3prl/s3prl.git@7ab62aaf2606d83da6c71ee74e7d16e0979edbc3#egg=s3prl) (12.1.0.106)\n",
            "Requirement already satisfied: nvidia-nccl-cu12==2.19.3 in /usr/local/lib/python3.10/dist-packages (from torch!=1.10.0,>=1.7.0->s3prl@ git+https://github.com/s3prl/s3prl.git@7ab62aaf2606d83da6c71ee74e7d16e0979edbc3#egg=s3prl) (2.19.3)\n",
            "Requirement already satisfied: nvidia-nvtx-cu12==12.1.105 in /usr/local/lib/python3.10/dist-packages (from torch!=1.10.0,>=1.7.0->s3prl@ git+https://github.com/s3prl/s3prl.git@7ab62aaf2606d83da6c71ee74e7d16e0979edbc3#egg=s3prl) (12.1.105)\n",
            "Requirement already satisfied: triton==2.2.0 in /usr/local/lib/python3.10/dist-packages (from torch!=1.10.0,>=1.7.0->s3prl@ git+https://github.com/s3prl/s3prl.git@7ab62aaf2606d83da6c71ee74e7d16e0979edbc3#egg=s3prl) (2.2.0)\n",
            "Requirement already satisfied: nvidia-nvjitlink-cu12 in /usr/local/lib/python3.10/dist-packages (from nvidia-cusolver-cu12==11.4.5.107->torch!=1.10.0,>=1.7.0->s3prl@ git+https://github.com/s3prl/s3prl.git@7ab62aaf2606d83da6c71ee74e7d16e0979edbc3#egg=s3prl) (12.4.127)\n",
            "Requirement already satisfied: tokenizers<0.19,>=0.14 in /usr/local/lib/python3.10/dist-packages (from transformers<5.0,>=4.10.0->s3prl@ git+https://github.com/s3prl/s3prl.git@7ab62aaf2606d83da6c71ee74e7d16e0979edbc3#egg=s3prl) (0.15.2)\n",
            "Requirement already satisfied: safetensors>=0.4.1 in /usr/local/lib/python3.10/dist-packages (from transformers<5.0,>=4.10.0->s3prl@ git+https://github.com/s3prl/s3prl.git@7ab62aaf2606d83da6c71ee74e7d16e0979edbc3#egg=s3prl) (0.4.2)\n",
            "Collecting accelerate>=0.5.1 (from catalyst->s3prl@ git+https://github.com/s3prl/s3prl.git@7ab62aaf2606d83da6c71ee74e7d16e0979edbc3#egg=s3prl)\n",
            "  Downloading accelerate-0.28.0-py3-none-any.whl (290 kB)\n",
            "\u001b[2K     \u001b[90m━━━━━━━━━━━━━━━━━━━━━━━━━━━━━━━━━━━━━━━━\u001b[0m \u001b[32m290.1/290.1 kB\u001b[0m \u001b[31m4.5 MB/s\u001b[0m eta \u001b[36m0:00:00\u001b[0m\n",
            "\u001b[?25hCollecting hydra-slayer>=0.4.0 (from catalyst->s3prl@ git+https://github.com/s3prl/s3prl.git@7ab62aaf2606d83da6c71ee74e7d16e0979edbc3#egg=s3prl)\n",
            "  Downloading hydra_slayer-0.5.0-py3-none-any.whl (13 kB)\n",
            "Requirement already satisfied: sortedcontainers<3.0,>=2.0 in /usr/local/lib/python3.10/dist-packages (from intervaltree->s3prl@ git+https://github.com/s3prl/s3prl.git@7ab62aaf2606d83da6c71ee74e7d16e0979edbc3#egg=s3prl) (2.4.0)\n",
            "Requirement already satisfied: click in /usr/local/lib/python3.10/dist-packages (from nltk->s3prl@ git+https://github.com/s3prl/s3prl.git@7ab62aaf2606d83da6c71ee74e7d16e0979edbc3#egg=s3prl) (8.1.7)\n",
            "Collecting roman (from normalise->s3prl@ git+https://github.com/s3prl/s3prl.git@7ab62aaf2606d83da6c71ee74e7d16e0979edbc3#egg=s3prl)\n",
            "  Downloading roman-4.1-py3-none-any.whl (5.5 kB)\n",
            "Requirement already satisfied: psutil in /usr/local/lib/python3.10/dist-packages (from accelerate>=0.5.1->catalyst->s3prl@ git+https://github.com/s3prl/s3prl.git@7ab62aaf2606d83da6c71ee74e7d16e0979edbc3#egg=s3prl) (5.9.5)\n",
            "Requirement already satisfied: pycparser in /usr/local/lib/python3.10/dist-packages (from cffi>=1.0->soundfile->s3prl@ git+https://github.com/s3prl/s3prl.git@7ab62aaf2606d83da6c71ee74e7d16e0979edbc3#egg=s3prl) (2.22)\n",
            "Collecting cached-property (from pb-bss-eval>=0.0.2->asteroid==0.4.4->s3prl@ git+https://github.com/s3prl/s3prl.git@7ab62aaf2606d83da6c71ee74e7d16e0979edbc3#egg=s3prl)\n",
            "  Downloading cached_property-1.5.2-py2.py3-none-any.whl (7.6 kB)\n",
            "Collecting einops (from pb-bss-eval>=0.0.2->asteroid==0.4.4->s3prl@ git+https://github.com/s3prl/s3prl.git@7ab62aaf2606d83da6c71ee74e7d16e0979edbc3#egg=s3prl)\n",
            "  Downloading einops-0.7.0-py3-none-any.whl (44 kB)\n",
            "\u001b[2K     \u001b[90m━━━━━━━━━━━━━━━━━━━━━━━━━━━━━━━━━━━━━━━━\u001b[0m \u001b[32m44.6/44.6 kB\u001b[0m \u001b[31m3.5 MB/s\u001b[0m eta \u001b[36m0:00:00\u001b[0m\n",
            "\u001b[?25hCollecting pystoi (from pb-bss-eval>=0.0.2->asteroid==0.4.4->s3prl@ git+https://github.com/s3prl/s3prl.git@7ab62aaf2606d83da6c71ee74e7d16e0979edbc3#egg=s3prl)\n",
            "  Downloading pystoi-0.4.1-py2.py3-none-any.whl (8.2 kB)\n",
            "Collecting mir-eval (from pb-bss-eval>=0.0.2->asteroid==0.4.4->s3prl@ git+https://github.com/s3prl/s3prl.git@7ab62aaf2606d83da6c71ee74e7d16e0979edbc3#egg=s3prl)\n",
            "  Downloading mir_eval-0.7.tar.gz (90 kB)\n",
            "\u001b[2K     \u001b[90m━━━━━━━━━━━━━━━━━━━━━━━━━━━━━━━━━━━━━━━━\u001b[0m \u001b[32m90.7/90.7 kB\u001b[0m \u001b[31m4.4 MB/s\u001b[0m eta \u001b[36m0:00:00\u001b[0m\n",
            "\u001b[?25h  Preparing metadata (setup.py) ... \u001b[?25l\u001b[?25hdone\n",
            "Collecting pesq (from pb-bss-eval>=0.0.2->asteroid==0.4.4->s3prl@ git+https://github.com/s3prl/s3prl.git@7ab62aaf2606d83da6c71ee74e7d16e0979edbc3#egg=s3prl)\n",
            "  Downloading pesq-0.0.4.tar.gz (38 kB)\n",
            "  Preparing metadata (setup.py) ... \u001b[?25l\u001b[?25hdone\n",
            "Requirement already satisfied: platformdirs>=2.5.0 in /usr/local/lib/python3.10/dist-packages (from pooch>=1.0->librosa>=0.7.2->s3prl@ git+https://github.com/s3prl/s3prl.git@7ab62aaf2606d83da6c71ee74e7d16e0979edbc3#egg=s3prl) (4.2.0)\n",
            "Collecting torchmetrics>=0.7.0 (from pytorch-lightning>=1.0.1->asteroid==0.4.4->s3prl@ git+https://github.com/s3prl/s3prl.git@7ab62aaf2606d83da6c71ee74e7d16e0979edbc3#egg=s3prl)\n",
            "  Downloading torchmetrics-1.3.2-py3-none-any.whl (841 kB)\n",
            "\u001b[2K     \u001b[90m━━━━━━━━━━━━━━━━━━━━━━━━━━━━━━━━━━━━━━━━\u001b[0m \u001b[32m841.5/841.5 kB\u001b[0m \u001b[31m4.4 MB/s\u001b[0m eta \u001b[36m0:00:00\u001b[0m\n",
            "\u001b[?25hCollecting lightning-utilities>=0.8.0 (from pytorch-lightning>=1.0.1->asteroid==0.4.4->s3prl@ git+https://github.com/s3prl/s3prl.git@7ab62aaf2606d83da6c71ee74e7d16e0979edbc3#egg=s3prl)\n",
            "  Downloading lightning_utilities-0.11.2-py3-none-any.whl (26 kB)\n",
            "Requirement already satisfied: charset-normalizer<4,>=2 in /usr/local/lib/python3.10/dist-packages (from requests[socks]->gdown>=3.12.2->s3prl@ git+https://github.com/s3prl/s3prl.git@7ab62aaf2606d83da6c71ee74e7d16e0979edbc3#egg=s3prl) (3.3.2)\n",
            "Requirement already satisfied: idna<4,>=2.5 in /usr/local/lib/python3.10/dist-packages (from requests[socks]->gdown>=3.12.2->s3prl@ git+https://github.com/s3prl/s3prl.git@7ab62aaf2606d83da6c71ee74e7d16e0979edbc3#egg=s3prl) (3.6)\n",
            "Requirement already satisfied: urllib3<3,>=1.21.1 in /usr/local/lib/python3.10/dist-packages (from requests[socks]->gdown>=3.12.2->s3prl@ git+https://github.com/s3prl/s3prl.git@7ab62aaf2606d83da6c71ee74e7d16e0979edbc3#egg=s3prl) (2.0.7)\n",
            "Requirement already satisfied: certifi>=2017.4.17 in /usr/local/lib/python3.10/dist-packages (from requests[socks]->gdown>=3.12.2->s3prl@ git+https://github.com/s3prl/s3prl.git@7ab62aaf2606d83da6c71ee74e7d16e0979edbc3#egg=s3prl) (2024.2.2)\n",
            "Collecting pytorch-ranger>=0.1.1 (from torch-optimizer>=0.0.1a12->asteroid==0.4.4->s3prl@ git+https://github.com/s3prl/s3prl.git@7ab62aaf2606d83da6c71ee74e7d16e0979edbc3#egg=s3prl)\n",
            "  Downloading pytorch_ranger-0.1.1-py3-none-any.whl (14 kB)\n",
            "Requirement already satisfied: soupsieve>1.2 in /usr/local/lib/python3.10/dist-packages (from beautifulsoup4->gdown>=3.12.2->s3prl@ git+https://github.com/s3prl/s3prl.git@7ab62aaf2606d83da6c71ee74e7d16e0979edbc3#egg=s3prl) (2.5)\n",
            "Requirement already satisfied: MarkupSafe>=2.0 in /usr/local/lib/python3.10/dist-packages (from jinja2->torch!=1.10.0,>=1.7.0->s3prl@ git+https://github.com/s3prl/s3prl.git@7ab62aaf2606d83da6c71ee74e7d16e0979edbc3#egg=s3prl) (2.1.5)\n",
            "Requirement already satisfied: PySocks!=1.5.7,>=1.5.6 in /usr/local/lib/python3.10/dist-packages (from requests[socks]->gdown>=3.12.2->s3prl@ git+https://github.com/s3prl/s3prl.git@7ab62aaf2606d83da6c71ee74e7d16e0979edbc3#egg=s3prl) (1.7.1)\n",
            "Requirement already satisfied: mpmath>=0.19 in /usr/local/lib/python3.10/dist-packages (from sympy->torch!=1.10.0,>=1.7.0->s3prl@ git+https://github.com/s3prl/s3prl.git@7ab62aaf2606d83da6c71ee74e7d16e0979edbc3#egg=s3prl) (1.3.0)\n",
            "Requirement already satisfied: aiohttp!=4.0.0a0,!=4.0.0a1 in /usr/local/lib/python3.10/dist-packages (from fsspec>=2023.5.0->huggingface_hub@ git+https://github.com/huggingface/huggingface_hub.git#egg=huggingface_hub->s3prl@ git+https://github.com/s3prl/s3prl.git@7ab62aaf2606d83da6c71ee74e7d16e0979edbc3#egg=s3prl) (3.9.3)\n",
            "Requirement already satisfied: future in /usr/local/lib/python3.10/dist-packages (from mir-eval->pb-bss-eval>=0.0.2->asteroid==0.4.4->s3prl@ git+https://github.com/s3prl/s3prl.git@7ab62aaf2606d83da6c71ee74e7d16e0979edbc3#egg=s3prl) (0.18.3)\n",
            "Requirement already satisfied: aiosignal>=1.1.2 in /usr/local/lib/python3.10/dist-packages (from aiohttp!=4.0.0a0,!=4.0.0a1->fsspec>=2023.5.0->huggingface_hub@ git+https://github.com/huggingface/huggingface_hub.git#egg=huggingface_hub->s3prl@ git+https://github.com/s3prl/s3prl.git@7ab62aaf2606d83da6c71ee74e7d16e0979edbc3#egg=s3prl) (1.3.1)\n",
            "Requirement already satisfied: attrs>=17.3.0 in /usr/local/lib/python3.10/dist-packages (from aiohttp!=4.0.0a0,!=4.0.0a1->fsspec>=2023.5.0->huggingface_hub@ git+https://github.com/huggingface/huggingface_hub.git#egg=huggingface_hub->s3prl@ git+https://github.com/s3prl/s3prl.git@7ab62aaf2606d83da6c71ee74e7d16e0979edbc3#egg=s3prl) (23.2.0)\n",
            "Requirement already satisfied: frozenlist>=1.1.1 in /usr/local/lib/python3.10/dist-packages (from aiohttp!=4.0.0a0,!=4.0.0a1->fsspec>=2023.5.0->huggingface_hub@ git+https://github.com/huggingface/huggingface_hub.git#egg=huggingface_hub->s3prl@ git+https://github.com/s3prl/s3prl.git@7ab62aaf2606d83da6c71ee74e7d16e0979edbc3#egg=s3prl) (1.4.1)\n",
            "Requirement already satisfied: multidict<7.0,>=4.5 in /usr/local/lib/python3.10/dist-packages (from aiohttp!=4.0.0a0,!=4.0.0a1->fsspec>=2023.5.0->huggingface_hub@ git+https://github.com/huggingface/huggingface_hub.git#egg=huggingface_hub->s3prl@ git+https://github.com/s3prl/s3prl.git@7ab62aaf2606d83da6c71ee74e7d16e0979edbc3#egg=s3prl) (6.0.5)\n",
            "Requirement already satisfied: yarl<2.0,>=1.0 in /usr/local/lib/python3.10/dist-packages (from aiohttp!=4.0.0a0,!=4.0.0a1->fsspec>=2023.5.0->huggingface_hub@ git+https://github.com/huggingface/huggingface_hub.git#egg=huggingface_hub->s3prl@ git+https://github.com/s3prl/s3prl.git@7ab62aaf2606d83da6c71ee74e7d16e0979edbc3#egg=s3prl) (1.9.4)\n",
            "Requirement already satisfied: async-timeout<5.0,>=4.0 in /usr/local/lib/python3.10/dist-packages (from aiohttp!=4.0.0a0,!=4.0.0a1->fsspec>=2023.5.0->huggingface_hub@ git+https://github.com/huggingface/huggingface_hub.git#egg=huggingface_hub->s3prl@ git+https://github.com/s3prl/s3prl.git@7ab62aaf2606d83da6c71ee74e7d16e0979edbc3#egg=s3prl) (4.0.3)\n",
            "Building wheels for collected packages: s3prl, dtw-python, huggingface_hub, numpy, intervaltree, pysndfx, sox, julius, mir-eval, pesq\n",
            "  Building wheel for s3prl (setup.py) ... \u001b[?25l\u001b[?25hdone\n",
            "  Created wheel for s3prl: filename=s3prl-0.3.1-py3-none-any.whl size=394375 sha256=af1c1fe4208b7b9ae471b1904b8d10b91b5239170d22e39c0c1f60d47ed0722c\n",
            "  Stored in directory: /root/.cache/pip/wheels/d0/91/f3/446dd175ee2d1d511269dcf82b843b108543075d3259cce77d\n",
            "  Building wheel for dtw-python (pyproject.toml) ... \u001b[?25l\u001b[?25hdone\n",
            "  Created wheel for dtw-python: filename=dtw_python-1.1.6-cp310-cp310-linux_x86_64.whl size=662858 sha256=1873f2303278ba0df17b2b7751c30b736a6912eccf8c40111332b164f3e4d456\n",
            "  Stored in directory: /root/.cache/pip/wheels/58/6f/ed/36cefb1348e1d44b6e25b90d718bfb8be7cae663364a3ffc73\n",
            "  Building wheel for huggingface_hub (pyproject.toml) ... \u001b[?25l\u001b[?25hdone\n",
            "  Created wheel for huggingface_hub: filename=huggingface_hub-0.23.0.dev0-py3-none-any.whl size=388187 sha256=6e0facdc7c1dab8f1643d21fd404b2343caa33a42cf6ccde4fa6eddcc931fe0c\n",
            "  Stored in directory: /tmp/pip-ephem-wheel-cache-wes9xlks/wheels/a5/17/2c/0705a5ac4ff612db99033bafb6439292f266b5693a38aca445\n",
            "  \u001b[1;31merror\u001b[0m: \u001b[1msubprocess-exited-with-error\u001b[0m\n",
            "  \n",
            "  \u001b[31m×\u001b[0m \u001b[32mBuilding wheel for numpy \u001b[0m\u001b[1;32m(\u001b[0m\u001b[32mpyproject.toml\u001b[0m\u001b[1;32m)\u001b[0m did not run successfully.\n",
            "  \u001b[31m│\u001b[0m exit code: \u001b[1;36m1\u001b[0m\n",
            "  \u001b[31m╰─>\u001b[0m See above for output.\n",
            "  \n",
            "  \u001b[1;35mnote\u001b[0m: This error originates from a subprocess, and is likely not a problem with pip.\n",
            "  Building wheel for numpy (pyproject.toml) ... \u001b[?25l\u001b[?25herror\n",
            "\u001b[31m  ERROR: Failed building wheel for numpy\u001b[0m\u001b[31m\n",
            "\u001b[0m  Building wheel for intervaltree (setup.py) ... \u001b[?25l\u001b[?25hdone\n",
            "  Created wheel for intervaltree: filename=intervaltree-3.1.0-py2.py3-none-any.whl size=26096 sha256=0060e7afc551e58b10e163356f61d3c7f07036aae020460893aad3b8bea5a7d7\n",
            "  Stored in directory: /root/.cache/pip/wheels/fa/80/8c/43488a924a046b733b64de3fac99252674c892a4c3801c0a61\n",
            "  Building wheel for pysndfx (setup.py) ... \u001b[?25l\u001b[?25hdone\n",
            "  Created wheel for pysndfx: filename=pysndfx-0.3.6-py3-none-any.whl size=6539 sha256=51faad84c7c222a3713f975b76484424f30d613d2d5e6d98396cc91e740b4074\n",
            "  Stored in directory: /root/.cache/pip/wheels/e8/73/04/275af1c6a789bbc12f388bce2d5353e77579e3aaadd36c61fe\n",
            "  Building wheel for sox (setup.py) ... \u001b[?25l\u001b[?25hdone\n",
            "  Created wheel for sox: filename=sox-1.5.0-py3-none-any.whl size=40038 sha256=05b93723209b7a7e6bde77199d76fd1ff38cda1357f25a248a8dd04e7cfe85e8\n",
            "  Stored in directory: /root/.cache/pip/wheels/74/e7/7b/8033be3ec5e4994595d01269fc9657c8fd83a0dcbf8536666a\n",
            "  Building wheel for julius (setup.py) ... \u001b[?25l\u001b[?25hdone\n",
            "  Created wheel for julius: filename=julius-0.2.7-py3-none-any.whl size=21870 sha256=b8f73ab55e038a952bbaef86977bf37ec091183e4235bc2df4d2c85706e41c9a\n",
            "  Stored in directory: /root/.cache/pip/wheels/b9/b2/05/f883527ffcb7f2ead5438a2c23439aa0c881eaa9a4c80256f4\n",
            "  Building wheel for mir-eval (setup.py) ... \u001b[?25l\u001b[?25hdone\n",
            "  Created wheel for mir-eval: filename=mir_eval-0.7-py3-none-any.whl size=100704 sha256=c4e7764c3ec76e8f4ce4f12e7b98938b350337641782da9d29340a78f0088fb9\n",
            "  Stored in directory: /root/.cache/pip/wheels/3e/2f/0d/dda9c4c77a170e21356b6afa2f7d9bb078338634ba05d94e3f\n",
            "  Building wheel for pesq (setup.py) ... \u001b[?25l\u001b[?25hdone\n",
            "  Created wheel for pesq: filename=pesq-0.0.4-cp310-cp310-linux_x86_64.whl size=262958 sha256=c99c64d485ed3db6c54a08ebd4331879ef15241c110e7711084fdf62d51448ac\n",
            "  Stored in directory: /root/.cache/pip/wheels/c5/4e/2c/251524370c0fdd659e99639a0fbd0ca5a782c3aafcd456b28d\n",
            "Successfully built s3prl dtw-python huggingface_hub intervaltree pysndfx sox julius mir-eval pesq\n",
            "Failed to build numpy\n",
            "\u001b[31mERROR: Could not build wheels for numpy, which is required to install pyproject.toml-based projects\u001b[0m\u001b[31m\n",
            "\u001b[0m"
          ]
        }
      ]
    },
    {
      "cell_type": "code",
      "source": [
        "!pip install s3prl"
      ],
      "metadata": {
        "colab": {
          "base_uri": "https://localhost:8080/",
          "height": 1000
        },
        "id": "EvV6SXElDlvT",
        "outputId": "0150554c-db01-4d83-e664-7ccae0f5fdf1"
      },
      "execution_count": null,
      "outputs": [
        {
          "output_type": "stream",
          "name": "stdout",
          "text": [
            "Collecting s3prl\n",
            "  Downloading s3prl-0.4.15.tar.gz (648 kB)\n",
            "\u001b[2K     \u001b[90m━━━━━━━━━━━━━━━━━━━━━━━━━━━━━━━━━━━━━━━━\u001b[0m \u001b[32m648.6/648.6 kB\u001b[0m \u001b[31m4.4 MB/s\u001b[0m eta \u001b[36m0:00:00\u001b[0m\n",
            "\u001b[?25h  Preparing metadata (setup.py) ... \u001b[?25l\u001b[?25hdone\n",
            "Requirement already satisfied: torchaudio>=0.8.0 in /usr/local/lib/python3.10/dist-packages (from s3prl) (2.2.1+cu121)\n",
            "Requirement already satisfied: torch!=1.10.0,>=1.8.0 in /usr/local/lib/python3.10/dist-packages (from s3prl) (2.2.1+cu121)\n",
            "Requirement already satisfied: tqdm>=4.56.0 in /usr/local/lib/python3.10/dist-packages (from s3prl) (4.66.2)\n",
            "Requirement already satisfied: numpy>=1.21 in /usr/local/lib/python3.10/dist-packages (from s3prl) (1.25.2)\n",
            "Requirement already satisfied: PyYAML>=5.4.1 in /usr/local/lib/python3.10/dist-packages (from s3prl) (6.0.1)\n",
            "Requirement already satisfied: filelock in /usr/local/lib/python3.10/dist-packages (from s3prl) (3.13.3)\n",
            "Collecting omegaconf>=2.1.1 (from s3prl)\n",
            "  Downloading omegaconf-2.3.0-py3-none-any.whl (79 kB)\n",
            "\u001b[2K     \u001b[90m━━━━━━━━━━━━━━━━━━━━━━━━━━━━━━━━━━━━━━━━\u001b[0m \u001b[32m79.5/79.5 kB\u001b[0m \u001b[31m11.4 MB/s\u001b[0m eta \u001b[36m0:00:00\u001b[0m\n",
            "\u001b[?25hRequirement already satisfied: setuptools>=65.5.1 in /usr/local/lib/python3.10/dist-packages (from s3prl) (67.7.2)\n",
            "Requirement already satisfied: requests in /usr/local/lib/python3.10/dist-packages (from s3prl) (2.31.0)\n",
            "Requirement already satisfied: transformers in /usr/local/lib/python3.10/dist-packages (from s3prl) (4.38.2)\n",
            "Requirement already satisfied: protobuf==3.20.3 in /usr/local/lib/python3.10/dist-packages (from s3prl) (3.20.3)\n",
            "Collecting antlr4-python3-runtime==4.9.* (from omegaconf>=2.1.1->s3prl)\n",
            "  Downloading antlr4-python3-runtime-4.9.3.tar.gz (117 kB)\n",
            "\u001b[2K     \u001b[90m━━━━━━━━━━━━━━━━━━━━━━━━━━━━━━━━━━━━━━━━\u001b[0m \u001b[32m117.0/117.0 kB\u001b[0m \u001b[31m16.7 MB/s\u001b[0m eta \u001b[36m0:00:00\u001b[0m\n",
            "\u001b[?25h  Preparing metadata (setup.py) ... \u001b[?25l\u001b[?25hdone\n",
            "Requirement already satisfied: typing-extensions>=4.8.0 in /usr/local/lib/python3.10/dist-packages (from torch!=1.10.0,>=1.8.0->s3prl) (4.10.0)\n",
            "Requirement already satisfied: sympy in /usr/local/lib/python3.10/dist-packages (from torch!=1.10.0,>=1.8.0->s3prl) (1.12)\n",
            "Requirement already satisfied: networkx in /usr/local/lib/python3.10/dist-packages (from torch!=1.10.0,>=1.8.0->s3prl) (3.2.1)\n",
            "Requirement already satisfied: jinja2 in /usr/local/lib/python3.10/dist-packages (from torch!=1.10.0,>=1.8.0->s3prl) (3.1.3)\n",
            "Requirement already satisfied: fsspec in /usr/local/lib/python3.10/dist-packages (from torch!=1.10.0,>=1.8.0->s3prl) (2023.6.0)\n",
            "Requirement already satisfied: nvidia-cuda-nvrtc-cu12==12.1.105 in /usr/local/lib/python3.10/dist-packages (from torch!=1.10.0,>=1.8.0->s3prl) (12.1.105)\n",
            "Requirement already satisfied: nvidia-cuda-runtime-cu12==12.1.105 in /usr/local/lib/python3.10/dist-packages (from torch!=1.10.0,>=1.8.0->s3prl) (12.1.105)\n",
            "Requirement already satisfied: nvidia-cuda-cupti-cu12==12.1.105 in /usr/local/lib/python3.10/dist-packages (from torch!=1.10.0,>=1.8.0->s3prl) (12.1.105)\n",
            "Requirement already satisfied: nvidia-cudnn-cu12==8.9.2.26 in /usr/local/lib/python3.10/dist-packages (from torch!=1.10.0,>=1.8.0->s3prl) (8.9.2.26)\n",
            "Requirement already satisfied: nvidia-cublas-cu12==12.1.3.1 in /usr/local/lib/python3.10/dist-packages (from torch!=1.10.0,>=1.8.0->s3prl) (12.1.3.1)\n",
            "Requirement already satisfied: nvidia-cufft-cu12==11.0.2.54 in /usr/local/lib/python3.10/dist-packages (from torch!=1.10.0,>=1.8.0->s3prl) (11.0.2.54)\n",
            "Requirement already satisfied: nvidia-curand-cu12==10.3.2.106 in /usr/local/lib/python3.10/dist-packages (from torch!=1.10.0,>=1.8.0->s3prl) (10.3.2.106)\n",
            "Requirement already satisfied: nvidia-cusolver-cu12==11.4.5.107 in /usr/local/lib/python3.10/dist-packages (from torch!=1.10.0,>=1.8.0->s3prl) (11.4.5.107)\n",
            "Requirement already satisfied: nvidia-cusparse-cu12==12.1.0.106 in /usr/local/lib/python3.10/dist-packages (from torch!=1.10.0,>=1.8.0->s3prl) (12.1.0.106)\n",
            "Requirement already satisfied: nvidia-nccl-cu12==2.19.3 in /usr/local/lib/python3.10/dist-packages (from torch!=1.10.0,>=1.8.0->s3prl) (2.19.3)\n",
            "Requirement already satisfied: nvidia-nvtx-cu12==12.1.105 in /usr/local/lib/python3.10/dist-packages (from torch!=1.10.0,>=1.8.0->s3prl) (12.1.105)\n",
            "Requirement already satisfied: triton==2.2.0 in /usr/local/lib/python3.10/dist-packages (from torch!=1.10.0,>=1.8.0->s3prl) (2.2.0)\n",
            "Requirement already satisfied: nvidia-nvjitlink-cu12 in /usr/local/lib/python3.10/dist-packages (from nvidia-cusolver-cu12==11.4.5.107->torch!=1.10.0,>=1.8.0->s3prl) (12.4.127)\n",
            "Requirement already satisfied: charset-normalizer<4,>=2 in /usr/local/lib/python3.10/dist-packages (from requests->s3prl) (3.3.2)\n",
            "Requirement already satisfied: idna<4,>=2.5 in /usr/local/lib/python3.10/dist-packages (from requests->s3prl) (3.6)\n",
            "Requirement already satisfied: urllib3<3,>=1.21.1 in /usr/local/lib/python3.10/dist-packages (from requests->s3prl) (2.0.7)\n",
            "Requirement already satisfied: certifi>=2017.4.17 in /usr/local/lib/python3.10/dist-packages (from requests->s3prl) (2024.2.2)\n",
            "Requirement already satisfied: huggingface-hub<1.0,>=0.19.3 in /usr/local/lib/python3.10/dist-packages (from transformers->s3prl) (0.20.3)\n",
            "Requirement already satisfied: packaging>=20.0 in /usr/local/lib/python3.10/dist-packages (from transformers->s3prl) (24.0)\n",
            "Requirement already satisfied: regex!=2019.12.17 in /usr/local/lib/python3.10/dist-packages (from transformers->s3prl) (2023.12.25)\n",
            "Requirement already satisfied: tokenizers<0.19,>=0.14 in /usr/local/lib/python3.10/dist-packages (from transformers->s3prl) (0.15.2)\n",
            "Requirement already satisfied: safetensors>=0.4.1 in /usr/local/lib/python3.10/dist-packages (from transformers->s3prl) (0.4.2)\n",
            "Requirement already satisfied: MarkupSafe>=2.0 in /usr/local/lib/python3.10/dist-packages (from jinja2->torch!=1.10.0,>=1.8.0->s3prl) (2.1.5)\n",
            "Requirement already satisfied: mpmath>=0.19 in /usr/local/lib/python3.10/dist-packages (from sympy->torch!=1.10.0,>=1.8.0->s3prl) (1.3.0)\n",
            "Building wheels for collected packages: s3prl, antlr4-python3-runtime\n",
            "  Building wheel for s3prl (setup.py) ... \u001b[?25l\u001b[?25hdone\n",
            "  Created wheel for s3prl: filename=s3prl-0.4.15-py3-none-any.whl size=878752 sha256=00ada07c00b9dc18e7598351f151357075aae4f1a13198e85c59771a00598813\n",
            "  Stored in directory: /root/.cache/pip/wheels/03/3e/6a/7963cb4bd84e95b3f4db9facb8a5bb6e04930ac169014676da\n",
            "  Building wheel for antlr4-python3-runtime (setup.py) ... \u001b[?25l\u001b[?25hdone\n",
            "  Created wheel for antlr4-python3-runtime: filename=antlr4_python3_runtime-4.9.3-py3-none-any.whl size=144554 sha256=ed123af60eec27c564f05b62dc4a29defa3d93675541cacf5744448accf1828d\n",
            "  Stored in directory: /root/.cache/pip/wheels/12/93/dd/1f6a127edc45659556564c5730f6d4e300888f4bca2d4c5a88\n",
            "Successfully built s3prl antlr4-python3-runtime\n",
            "Installing collected packages: antlr4-python3-runtime, omegaconf, s3prl\n",
            "  Attempting uninstall: antlr4-python3-runtime\n",
            "    Found existing installation: antlr4-python3-runtime 4.8\n",
            "    Uninstalling antlr4-python3-runtime-4.8:\n",
            "      Successfully uninstalled antlr4-python3-runtime-4.8\n",
            "  Attempting uninstall: omegaconf\n",
            "    Found existing installation: omegaconf 2.0.6\n",
            "    Uninstalling omegaconf-2.0.6:\n",
            "      Successfully uninstalled omegaconf-2.0.6\n",
            "\u001b[31mERROR: pip's dependency resolver does not currently take into account all the packages that are installed. This behaviour is the source of the following dependency conflicts.\n",
            "fairseq 0.12.2 requires omegaconf<2.1, but you have omegaconf 2.3.0 which is incompatible.\n",
            "hydra-core 1.0.7 requires antlr4-python3-runtime==4.8, but you have antlr4-python3-runtime 4.9.3 which is incompatible.\n",
            "hydra-core 1.0.7 requires omegaconf<2.1,>=2.0.5, but you have omegaconf 2.3.0 which is incompatible.\u001b[0m\u001b[31m\n",
            "\u001b[0mSuccessfully installed antlr4-python3-runtime-4.9.3 omegaconf-2.3.0 s3prl-0.4.15\n"
          ]
        },
        {
          "output_type": "display_data",
          "data": {
            "application/vnd.colab-display-data+json": {
              "pip_warning": {
                "packages": [
                  "pydevd_plugins"
                ]
              },
              "id": "d05f665cbcb44c2bac165335f2327a01"
            }
          },
          "metadata": {}
        }
      ]
    },
    {
      "cell_type": "markdown",
      "source": [
        "#### Speaker verification using pretrianned Wavlm_Large model (few sample)"
      ],
      "metadata": {
        "id": "DFbDLJ_bfYji"
      }
    },
    {
      "cell_type": "code",
      "source": [
        "!pwd"
      ],
      "metadata": {
        "colab": {
          "base_uri": "https://localhost:8080/"
        },
        "id": "3EQTb2g2C8Yr",
        "outputId": "587b3401-653a-4b21-ee29-916d4759f1f8"
      },
      "execution_count": null,
      "outputs": [
        {
          "output_type": "stream",
          "name": "stdout",
          "text": [
            "/content\n"
          ]
        }
      ]
    },
    {
      "cell_type": "code",
      "source": [
        "%cd /content/UniSpeech/downstreams/speaker_verification"
      ],
      "metadata": {
        "colab": {
          "base_uri": "https://localhost:8080/"
        },
        "id": "ieLDeLQafpgJ",
        "outputId": "0cb1f922-c8b0-4e58-881a-7d9d5963997b"
      },
      "execution_count": null,
      "outputs": [
        {
          "output_type": "stream",
          "name": "stdout",
          "text": [
            "/content/UniSpeech/downstreams/speaker_verification\n"
          ]
        }
      ]
    },
    {
      "cell_type": "code",
      "source": [
        "# checkpoint_path = 'config/unispeech_sat.th'\n",
        "# checkpoint_path = \"/content/drive/MyDrive/hubert_large_finetune.pth\"\n",
        "checkpoint_path = \"/content/drive/MyDrive/wavlm_large_finetune.pth\""
      ],
      "metadata": {
        "id": "Bd4KIWFEg6st"
      },
      "execution_count": null,
      "outputs": []
    },
    {
      "cell_type": "markdown",
      "source": [
        "##### 2 different speaker"
      ],
      "metadata": {
        "id": "K1r71ub1rEKa"
      }
    },
    {
      "cell_type": "code",
      "source": [
        "!python verification.py --model_name wavlm_large \\\n",
        " --wav1 vox1_data/David_Faustino/hn8GyCJIfLM_0000012.wav \\\n",
        " --wav2 vox1_data/Josh_Gad/HXUqYaOwrxA_0000015.wav  \\\n",
        " --checkpoint /content/drive/MyDrive/wavlm_large_finetune.pth\n",
        "# output: The similarity score between two audios is 0.0317 (-1.0, 1.0)."
      ],
      "metadata": {
        "colab": {
          "base_uri": "https://localhost:8080/"
        },
        "id": "r_sY3eC4cuGw",
        "outputId": "f14a6a61-50f2-4906-e274-88acaf71df3b"
      },
      "execution_count": null,
      "outputs": [
        {
          "output_type": "stream",
          "name": "stdout",
          "text": [
            "2024-04-04 10:48:20.772830: E external/local_xla/xla/stream_executor/cuda/cuda_dnn.cc:9261] Unable to register cuDNN factory: Attempting to register factory for plugin cuDNN when one has already been registered\n",
            "2024-04-04 10:48:20.772885: E external/local_xla/xla/stream_executor/cuda/cuda_fft.cc:607] Unable to register cuFFT factory: Attempting to register factory for plugin cuFFT when one has already been registered\n",
            "2024-04-04 10:48:20.774593: E external/local_xla/xla/stream_executor/cuda/cuda_blas.cc:1515] Unable to register cuBLAS factory: Attempting to register factory for plugin cuBLAS when one has already been registered\n",
            "2024-04-04 10:48:20.783102: I tensorflow/core/platform/cpu_feature_guard.cc:182] This TensorFlow binary is optimized to use available CPU instructions in performance-critical operations.\n",
            "To enable the following instructions: AVX2 FMA, in other operations, rebuild TensorFlow with the appropriate compiler flags.\n",
            "2024-04-04 10:48:21.903686: W tensorflow/compiler/tf2tensorrt/utils/py_utils.cc:38] TF-TRT Warning: Could not find TensorRT\n",
            "INFO:fairseq.tasks.text_to_speech:Please install tensorboardX: pip install tensorboardX\n",
            "Using cache found in /root/.cache/torch/hub/s3prl_s3prl_main\n",
            "/usr/local/lib/python3.10/dist-packages/s3prl/upstream/byol_s/byol_a/common.py:20: UserWarning: torchaudio._backend.set_audio_backend has been deprecated. With dispatcher enabled, this function is no-op. You can remove the function call.\n",
            "  torchaudio.set_audio_backend(\"sox_io\")\n",
            "WARNING:s3prl.upstream.espnet_hubert.expert:ESPnet is not installed, cannot use espnet_hubert upstream\n",
            "INFO:s3prl.util.download:Requesting URL: https://huggingface.co/s3prl/converted_ckpts/resolve/main/wavlm_large.pt\n",
            "DEBUG:filelock:Attempting to acquire lock 132771396994288 on /root/.cache/s3prl/download/f2d5200177fd6a33b278b7b76b454f25cd8ee866d55c122e69fccf6c7467d37d.wavlm_large.pt.lock\n",
            "DEBUG:filelock:Lock 132771396994288 acquired on /root/.cache/s3prl/download/f2d5200177fd6a33b278b7b76b454f25cd8ee866d55c122e69fccf6c7467d37d.wavlm_large.pt.lock\n",
            "DEBUG:filelock:Attempting to release lock 132771396994288 on /root/.cache/s3prl/download/f2d5200177fd6a33b278b7b76b454f25cd8ee866d55c122e69fccf6c7467d37d.wavlm_large.pt.lock\n",
            "DEBUG:filelock:Lock 132771396994288 released on /root/.cache/s3prl/download/f2d5200177fd6a33b278b7b76b454f25cd8ee866d55c122e69fccf6c7467d37d.wavlm_large.pt.lock\n",
            "INFO:s3prl.util.download:Using URL's local file: /root/.cache/s3prl/download/f2d5200177fd6a33b278b7b76b454f25cd8ee866d55c122e69fccf6c7467d37d.wavlm_large.pt\n",
            "INFO:s3prl.upstream.wavlm.WavLM:WavLM Config: {'extractor_mode': 'layer_norm', 'encoder_layers': 24, 'encoder_embed_dim': 1024, 'encoder_ffn_embed_dim': 4096, 'encoder_attention_heads': 16, 'activation_fn': 'gelu', 'layer_norm_first': True, 'conv_feature_layers': '[(512,10,5)] + [(512,3,2)] * 4 + [(512,2,2)] * 2', 'conv_bias': False, 'feature_grad_mult': 1.0, 'normalize': True, 'dropout': 0.0, 'attention_dropout': 0.0, 'activation_dropout': 0.0, 'encoder_layerdrop': 0.0, 'dropout_input': 0.0, 'dropout_features': 0.0, 'mask_length': 10, 'mask_prob': 0.8, 'mask_selection': 'static', 'mask_other': 0.0, 'no_mask_overlap': False, 'mask_min_space': 1, 'mask_channel_length': 10, 'mask_channel_prob': 0.0, 'mask_channel_selection': 'static', 'mask_channel_other': 0.0, 'no_mask_channel_overlap': False, 'mask_channel_min_space': 1, 'conv_pos': 128, 'conv_pos_groups': 16, 'relative_position_embedding': True, 'num_buckets': 320, 'max_distance': 800, 'gru_rel_pos': True}\n",
            "/usr/local/lib/python3.10/dist-packages/torch/nn/utils/weight_norm.py:28: UserWarning: torch.nn.utils.weight_norm is deprecated in favor of torch.nn.utils.parametrizations.weight_norm.\n",
            "  warnings.warn(\"torch.nn.utils.weight_norm is deprecated in favor of torch.nn.utils.parametrizations.weight_norm.\")\n",
            "/usr/local/lib/python3.10/dist-packages/torch/nn/functional.py:5109: UserWarning: Support for mismatched key_padding_mask and attn_mask is deprecated. Use same type for both instead.\n",
            "  warnings.warn(\n",
            "The similarity score between two audios is 0.0925 (-1.0, 1.0).\n",
            "0.09251343458890915\n"
          ]
        }
      ]
    },
    {
      "cell_type": "markdown",
      "source": [
        "##### 2 same speakers"
      ],
      "metadata": {
        "id": "6s9qK2TCrLGQ"
      }
    },
    {
      "cell_type": "code",
      "source": [
        "!python verification.py --model_name wavlm_large \\\n",
        " --wav1 /content/voxceleb_sample_data/id10002/cMGEuZ1zqXk/00001.wav \\\n",
        " --wav2 /content/voxceleb_sample_data/id10002/cMGEuZ1zqXk/00001.wav  \\\n",
        " --checkpoint /content/drive/MyDrive/wavlm_large_finetune.pth"
      ],
      "metadata": {
        "colab": {
          "base_uri": "https://localhost:8080/"
        },
        "id": "ShuJ4_aio8s2",
        "outputId": "6da1813b-d219-4292-d6c4-b1d65084de4c"
      },
      "execution_count": null,
      "outputs": [
        {
          "output_type": "stream",
          "name": "stdout",
          "text": [
            "2024-04-04 10:48:59.467826: E external/local_xla/xla/stream_executor/cuda/cuda_dnn.cc:9261] Unable to register cuDNN factory: Attempting to register factory for plugin cuDNN when one has already been registered\n",
            "2024-04-04 10:48:59.467880: E external/local_xla/xla/stream_executor/cuda/cuda_fft.cc:607] Unable to register cuFFT factory: Attempting to register factory for plugin cuFFT when one has already been registered\n",
            "2024-04-04 10:48:59.469523: E external/local_xla/xla/stream_executor/cuda/cuda_blas.cc:1515] Unable to register cuBLAS factory: Attempting to register factory for plugin cuBLAS when one has already been registered\n",
            "2024-04-04 10:48:59.477472: I tensorflow/core/platform/cpu_feature_guard.cc:182] This TensorFlow binary is optimized to use available CPU instructions in performance-critical operations.\n",
            "To enable the following instructions: AVX2 FMA, in other operations, rebuild TensorFlow with the appropriate compiler flags.\n",
            "2024-04-04 10:49:00.598114: W tensorflow/compiler/tf2tensorrt/utils/py_utils.cc:38] TF-TRT Warning: Could not find TensorRT\n",
            "INFO:fairseq.tasks.text_to_speech:Please install tensorboardX: pip install tensorboardX\n",
            "Using cache found in /root/.cache/torch/hub/s3prl_s3prl_main\n",
            "/usr/local/lib/python3.10/dist-packages/s3prl/upstream/byol_s/byol_a/common.py:20: UserWarning: torchaudio._backend.set_audio_backend has been deprecated. With dispatcher enabled, this function is no-op. You can remove the function call.\n",
            "  torchaudio.set_audio_backend(\"sox_io\")\n",
            "WARNING:s3prl.upstream.espnet_hubert.expert:ESPnet is not installed, cannot use espnet_hubert upstream\n",
            "INFO:s3prl.util.download:Requesting URL: https://huggingface.co/s3prl/converted_ckpts/resolve/main/wavlm_large.pt\n",
            "DEBUG:filelock:Attempting to acquire lock 133316993070992 on /root/.cache/s3prl/download/f2d5200177fd6a33b278b7b76b454f25cd8ee866d55c122e69fccf6c7467d37d.wavlm_large.pt.lock\n",
            "DEBUG:filelock:Lock 133316993070992 acquired on /root/.cache/s3prl/download/f2d5200177fd6a33b278b7b76b454f25cd8ee866d55c122e69fccf6c7467d37d.wavlm_large.pt.lock\n",
            "DEBUG:filelock:Attempting to release lock 133316993070992 on /root/.cache/s3prl/download/f2d5200177fd6a33b278b7b76b454f25cd8ee866d55c122e69fccf6c7467d37d.wavlm_large.pt.lock\n",
            "DEBUG:filelock:Lock 133316993070992 released on /root/.cache/s3prl/download/f2d5200177fd6a33b278b7b76b454f25cd8ee866d55c122e69fccf6c7467d37d.wavlm_large.pt.lock\n",
            "INFO:s3prl.util.download:Using URL's local file: /root/.cache/s3prl/download/f2d5200177fd6a33b278b7b76b454f25cd8ee866d55c122e69fccf6c7467d37d.wavlm_large.pt\n",
            "INFO:s3prl.upstream.wavlm.WavLM:WavLM Config: {'extractor_mode': 'layer_norm', 'encoder_layers': 24, 'encoder_embed_dim': 1024, 'encoder_ffn_embed_dim': 4096, 'encoder_attention_heads': 16, 'activation_fn': 'gelu', 'layer_norm_first': True, 'conv_feature_layers': '[(512,10,5)] + [(512,3,2)] * 4 + [(512,2,2)] * 2', 'conv_bias': False, 'feature_grad_mult': 1.0, 'normalize': True, 'dropout': 0.0, 'attention_dropout': 0.0, 'activation_dropout': 0.0, 'encoder_layerdrop': 0.0, 'dropout_input': 0.0, 'dropout_features': 0.0, 'mask_length': 10, 'mask_prob': 0.8, 'mask_selection': 'static', 'mask_other': 0.0, 'no_mask_overlap': False, 'mask_min_space': 1, 'mask_channel_length': 10, 'mask_channel_prob': 0.0, 'mask_channel_selection': 'static', 'mask_channel_other': 0.0, 'no_mask_channel_overlap': False, 'mask_channel_min_space': 1, 'conv_pos': 128, 'conv_pos_groups': 16, 'relative_position_embedding': True, 'num_buckets': 320, 'max_distance': 800, 'gru_rel_pos': True}\n",
            "/usr/local/lib/python3.10/dist-packages/torch/nn/utils/weight_norm.py:28: UserWarning: torch.nn.utils.weight_norm is deprecated in favor of torch.nn.utils.parametrizations.weight_norm.\n",
            "  warnings.warn(\"torch.nn.utils.weight_norm is deprecated in favor of torch.nn.utils.parametrizations.weight_norm.\")\n",
            "/usr/local/lib/python3.10/dist-packages/torch/nn/functional.py:5109: UserWarning: Support for mismatched key_padding_mask and attn_mask is deprecated. Use same type for both instead.\n",
            "  warnings.warn(\n",
            "The similarity score between two audios is 1.0000 (-1.0, 1.0).\n",
            "1.0000001192092896\n"
          ]
        }
      ]
    },
    {
      "cell_type": "markdown",
      "source": [
        "##### 2 different speaker"
      ],
      "metadata": {
        "id": "DBGAMcXArO9Z"
      }
    },
    {
      "cell_type": "code",
      "source": [
        "!python verification.py --model_name wavlm_large \\\n",
        " --wav1 /content/voxceleb_sample_data/id10010/QlrC83eEY2s/00001.wav \\\n",
        " --wav2 /content/voxceleb_sample_data/id10002/cMGEuZ1zqXk/00001.wav  \\\n",
        " --checkpoint /content/drive/MyDrive/wavlm_large_finetune.pth"
      ],
      "metadata": {
        "colab": {
          "base_uri": "https://localhost:8080/"
        },
        "id": "3smJxpLIpPcZ",
        "outputId": "1ead2c7d-1336-4d60-e8fc-8e14adf53359"
      },
      "execution_count": null,
      "outputs": [
        {
          "output_type": "stream",
          "name": "stdout",
          "text": [
            "2024-04-04 10:49:27.300805: E external/local_xla/xla/stream_executor/cuda/cuda_dnn.cc:9261] Unable to register cuDNN factory: Attempting to register factory for plugin cuDNN when one has already been registered\n",
            "2024-04-04 10:49:27.300859: E external/local_xla/xla/stream_executor/cuda/cuda_fft.cc:607] Unable to register cuFFT factory: Attempting to register factory for plugin cuFFT when one has already been registered\n",
            "2024-04-04 10:49:27.302439: E external/local_xla/xla/stream_executor/cuda/cuda_blas.cc:1515] Unable to register cuBLAS factory: Attempting to register factory for plugin cuBLAS when one has already been registered\n",
            "2024-04-04 10:49:27.310135: I tensorflow/core/platform/cpu_feature_guard.cc:182] This TensorFlow binary is optimized to use available CPU instructions in performance-critical operations.\n",
            "To enable the following instructions: AVX2 FMA, in other operations, rebuild TensorFlow with the appropriate compiler flags.\n",
            "2024-04-04 10:49:28.438298: W tensorflow/compiler/tf2tensorrt/utils/py_utils.cc:38] TF-TRT Warning: Could not find TensorRT\n",
            "INFO:fairseq.tasks.text_to_speech:Please install tensorboardX: pip install tensorboardX\n",
            "Using cache found in /root/.cache/torch/hub/s3prl_s3prl_main\n",
            "/usr/local/lib/python3.10/dist-packages/s3prl/upstream/byol_s/byol_a/common.py:20: UserWarning: torchaudio._backend.set_audio_backend has been deprecated. With dispatcher enabled, this function is no-op. You can remove the function call.\n",
            "  torchaudio.set_audio_backend(\"sox_io\")\n",
            "WARNING:s3prl.upstream.espnet_hubert.expert:ESPnet is not installed, cannot use espnet_hubert upstream\n",
            "INFO:s3prl.util.download:Requesting URL: https://huggingface.co/s3prl/converted_ckpts/resolve/main/wavlm_large.pt\n",
            "DEBUG:filelock:Attempting to acquire lock 132050531239536 on /root/.cache/s3prl/download/f2d5200177fd6a33b278b7b76b454f25cd8ee866d55c122e69fccf6c7467d37d.wavlm_large.pt.lock\n",
            "DEBUG:filelock:Lock 132050531239536 acquired on /root/.cache/s3prl/download/f2d5200177fd6a33b278b7b76b454f25cd8ee866d55c122e69fccf6c7467d37d.wavlm_large.pt.lock\n",
            "DEBUG:filelock:Attempting to release lock 132050531239536 on /root/.cache/s3prl/download/f2d5200177fd6a33b278b7b76b454f25cd8ee866d55c122e69fccf6c7467d37d.wavlm_large.pt.lock\n",
            "DEBUG:filelock:Lock 132050531239536 released on /root/.cache/s3prl/download/f2d5200177fd6a33b278b7b76b454f25cd8ee866d55c122e69fccf6c7467d37d.wavlm_large.pt.lock\n",
            "INFO:s3prl.util.download:Using URL's local file: /root/.cache/s3prl/download/f2d5200177fd6a33b278b7b76b454f25cd8ee866d55c122e69fccf6c7467d37d.wavlm_large.pt\n",
            "INFO:s3prl.upstream.wavlm.WavLM:WavLM Config: {'extractor_mode': 'layer_norm', 'encoder_layers': 24, 'encoder_embed_dim': 1024, 'encoder_ffn_embed_dim': 4096, 'encoder_attention_heads': 16, 'activation_fn': 'gelu', 'layer_norm_first': True, 'conv_feature_layers': '[(512,10,5)] + [(512,3,2)] * 4 + [(512,2,2)] * 2', 'conv_bias': False, 'feature_grad_mult': 1.0, 'normalize': True, 'dropout': 0.0, 'attention_dropout': 0.0, 'activation_dropout': 0.0, 'encoder_layerdrop': 0.0, 'dropout_input': 0.0, 'dropout_features': 0.0, 'mask_length': 10, 'mask_prob': 0.8, 'mask_selection': 'static', 'mask_other': 0.0, 'no_mask_overlap': False, 'mask_min_space': 1, 'mask_channel_length': 10, 'mask_channel_prob': 0.0, 'mask_channel_selection': 'static', 'mask_channel_other': 0.0, 'no_mask_channel_overlap': False, 'mask_channel_min_space': 1, 'conv_pos': 128, 'conv_pos_groups': 16, 'relative_position_embedding': True, 'num_buckets': 320, 'max_distance': 800, 'gru_rel_pos': True}\n",
            "/usr/local/lib/python3.10/dist-packages/torch/nn/utils/weight_norm.py:28: UserWarning: torch.nn.utils.weight_norm is deprecated in favor of torch.nn.utils.parametrizations.weight_norm.\n",
            "  warnings.warn(\"torch.nn.utils.weight_norm is deprecated in favor of torch.nn.utils.parametrizations.weight_norm.\")\n",
            "/usr/local/lib/python3.10/dist-packages/torch/nn/functional.py:5109: UserWarning: Support for mismatched key_padding_mask and attn_mask is deprecated. Use same type for both instead.\n",
            "  warnings.warn(\n",
            "The similarity score between two audios is 0.0369 (-1.0, 1.0).\n",
            "0.036894768476486206\n"
          ]
        }
      ]
    },
    {
      "cell_type": "markdown",
      "source": [
        "#### Speaker verification using Hubert_Large model (few sampels)"
      ],
      "metadata": {
        "id": "2SKcxHjnpvNX"
      }
    },
    {
      "cell_type": "code",
      "source": [
        "# %cd /content/UniSpeech/downstreams/speaker_verification"
      ],
      "metadata": {
        "id": "xnshUr-ep7Rs"
      },
      "execution_count": null,
      "outputs": []
    },
    {
      "cell_type": "code",
      "source": [
        "# checkpoint_path = 'config/unispeech_sat.th'\n",
        "checkpoint_path = \"/content/drive/MyDrive/hubert_large_finetune.pth\"\n",
        "# checkpoint_path = \"/content/drive/MyDrive/wavlm_large_finetune.pth\""
      ],
      "metadata": {
        "id": "d4sQBBo4p7Rs"
      },
      "execution_count": null,
      "outputs": []
    },
    {
      "cell_type": "markdown",
      "source": [
        "##### 2 different speaker"
      ],
      "metadata": {
        "id": "Yape76vErTIr"
      }
    },
    {
      "cell_type": "code",
      "source": [
        "!python verification.py --model_name hubert_large \\\n",
        " --wav1 vox1_data/David_Faustino/hn8GyCJIfLM_0000012.wav \\\n",
        " --wav2 vox1_data/Josh_Gad/HXUqYaOwrxA_0000015.wav  \\\n",
        " --checkpoint /content/drive/MyDrive/hubert_large_finetune.pth\n",
        "# output: The similarity score between two audios is 0.0317 (-1.0, 1.0)."
      ],
      "metadata": {
        "colab": {
          "base_uri": "https://localhost:8080/"
        },
        "outputId": "ce0b1a78-3ef0-4836-d538-791f197bdbe5",
        "id": "ocd9qcrTp7Rs"
      },
      "execution_count": null,
      "outputs": [
        {
          "output_type": "stream",
          "name": "stdout",
          "text": [
            "2024-04-04 10:49:50.220611: E external/local_xla/xla/stream_executor/cuda/cuda_dnn.cc:9261] Unable to register cuDNN factory: Attempting to register factory for plugin cuDNN when one has already been registered\n",
            "2024-04-04 10:49:50.220664: E external/local_xla/xla/stream_executor/cuda/cuda_fft.cc:607] Unable to register cuFFT factory: Attempting to register factory for plugin cuFFT when one has already been registered\n",
            "2024-04-04 10:49:50.222271: E external/local_xla/xla/stream_executor/cuda/cuda_blas.cc:1515] Unable to register cuBLAS factory: Attempting to register factory for plugin cuBLAS when one has already been registered\n",
            "2024-04-04 10:49:50.230323: I tensorflow/core/platform/cpu_feature_guard.cc:182] This TensorFlow binary is optimized to use available CPU instructions in performance-critical operations.\n",
            "To enable the following instructions: AVX2 FMA, in other operations, rebuild TensorFlow with the appropriate compiler flags.\n",
            "2024-04-04 10:49:51.339970: W tensorflow/compiler/tf2tensorrt/utils/py_utils.cc:38] TF-TRT Warning: Could not find TensorRT\n",
            "INFO:fairseq.tasks.text_to_speech:Please install tensorboardX: pip install tensorboardX\n",
            "Using cache found in /root/.cache/torch/hub/s3prl_s3prl_main\n",
            "/usr/local/lib/python3.10/dist-packages/s3prl/upstream/byol_s/byol_a/common.py:20: UserWarning: torchaudio._backend.set_audio_backend has been deprecated. With dispatcher enabled, this function is no-op. You can remove the function call.\n",
            "  torchaudio.set_audio_backend(\"sox_io\")\n",
            "WARNING:s3prl.upstream.espnet_hubert.expert:ESPnet is not installed, cannot use espnet_hubert upstream\n",
            "INFO:s3prl.util.download:Requesting URL: https://huggingface.co/s3prl/converted_ckpts/resolve/main/hubert_large_ll60k.pt\n",
            "DEBUG:filelock:Attempting to acquire lock 136288927631152 on /root/.cache/s3prl/download/544f5b47ce48ad4c05bc671e6e1ee1a077f5804393136a526c40d78719a314ee.hubert_large_ll60k.pt.lock\n",
            "DEBUG:filelock:Lock 136288927631152 acquired on /root/.cache/s3prl/download/544f5b47ce48ad4c05bc671e6e1ee1a077f5804393136a526c40d78719a314ee.hubert_large_ll60k.pt.lock\n",
            "DEBUG:filelock:Attempting to release lock 136288927631152 on /root/.cache/s3prl/download/544f5b47ce48ad4c05bc671e6e1ee1a077f5804393136a526c40d78719a314ee.hubert_large_ll60k.pt.lock\n",
            "DEBUG:filelock:Lock 136288927631152 released on /root/.cache/s3prl/download/544f5b47ce48ad4c05bc671e6e1ee1a077f5804393136a526c40d78719a314ee.hubert_large_ll60k.pt.lock\n",
            "INFO:s3prl.util.download:Using URL's local file: /root/.cache/s3prl/download/544f5b47ce48ad4c05bc671e6e1ee1a077f5804393136a526c40d78719a314ee.hubert_large_ll60k.pt\n",
            "INFO:s3prl.upstream.hubert.hubert_model:HubertModel Config: HubertConfig(label_rate=50, extractor_mode='layer_norm', encoder_layers=24, encoder_embed_dim=1024, encoder_ffn_embed_dim=4096, encoder_attention_heads=16, activation_fn='gelu', layer_type='transformer', dropout=0.0, attention_dropout=0.0, activation_dropout=0.0, encoder_layerdrop=0.0, dropout_input=0.0, dropout_features=0.0, final_dim=768, untie_final_proj=True, layer_norm_first=True, conv_feature_layers='[(512,10,5)] + [(512,3,2)] * 4 + [(512,2,2)] * 2', conv_bias=False, logit_temp=0.1, target_glu=False, feature_grad_mult=1.0, mask_length=10, mask_prob=0.8, mask_selection='static', mask_other=0.0, no_mask_overlap=False, mask_min_space=1, mask_channel_length=10, mask_channel_prob=0.0, mask_channel_selection='static', mask_channel_other=0.0, no_mask_channel_overlap=False, mask_channel_min_space=1, conv_pos=128, conv_pos_groups=16, latent_temp=[2.0, 0.5, 0.999995], skip_masked=False, skip_nomask=True, checkpoint_activations=False, required_seq_len_multiple=2, depthwise_conv_kernel_size=31, attn_type='', pos_enc_type='abs', fp16=False)\n",
            "/usr/local/lib/python3.10/dist-packages/torch/nn/utils/weight_norm.py:28: UserWarning: torch.nn.utils.weight_norm is deprecated in favor of torch.nn.utils.parametrizations.weight_norm.\n",
            "  warnings.warn(\"torch.nn.utils.weight_norm is deprecated in favor of torch.nn.utils.parametrizations.weight_norm.\")\n",
            "The similarity score between two audios is -0.0236 (-1.0, 1.0).\n",
            "-0.023645151406526566\n"
          ]
        }
      ]
    },
    {
      "cell_type": "markdown",
      "source": [
        "##### 2 same speaker"
      ],
      "metadata": {
        "id": "X5ogqh-jrWLW"
      }
    },
    {
      "cell_type": "code",
      "source": [
        "!python verification.py --model_name hubert_large \\\n",
        " --wav1 /content/voxceleb_sample_data/id10002/cMGEuZ1zqXk/00001.wav \\\n",
        " --wav2 /content/voxceleb_sample_data/id10002/cMGEuZ1zqXk/00001.wav  \\\n",
        " --checkpoint /content/drive/MyDrive/hubert_large_finetune.pth"
      ],
      "metadata": {
        "colab": {
          "base_uri": "https://localhost:8080/"
        },
        "outputId": "429563ed-6c9d-42fb-dbe2-55f778038d57",
        "id": "Q23jiMsxp7Rv"
      },
      "execution_count": null,
      "outputs": [
        {
          "output_type": "stream",
          "name": "stdout",
          "text": [
            "2024-04-04 10:50:15.131748: E external/local_xla/xla/stream_executor/cuda/cuda_dnn.cc:9261] Unable to register cuDNN factory: Attempting to register factory for plugin cuDNN when one has already been registered\n",
            "2024-04-04 10:50:15.131799: E external/local_xla/xla/stream_executor/cuda/cuda_fft.cc:607] Unable to register cuFFT factory: Attempting to register factory for plugin cuFFT when one has already been registered\n",
            "2024-04-04 10:50:15.133392: E external/local_xla/xla/stream_executor/cuda/cuda_blas.cc:1515] Unable to register cuBLAS factory: Attempting to register factory for plugin cuBLAS when one has already been registered\n",
            "2024-04-04 10:50:15.141241: I tensorflow/core/platform/cpu_feature_guard.cc:182] This TensorFlow binary is optimized to use available CPU instructions in performance-critical operations.\n",
            "To enable the following instructions: AVX2 FMA, in other operations, rebuild TensorFlow with the appropriate compiler flags.\n",
            "2024-04-04 10:50:16.348344: W tensorflow/compiler/tf2tensorrt/utils/py_utils.cc:38] TF-TRT Warning: Could not find TensorRT\n",
            "INFO:fairseq.tasks.text_to_speech:Please install tensorboardX: pip install tensorboardX\n",
            "Using cache found in /root/.cache/torch/hub/s3prl_s3prl_main\n",
            "/usr/local/lib/python3.10/dist-packages/s3prl/upstream/byol_s/byol_a/common.py:20: UserWarning: torchaudio._backend.set_audio_backend has been deprecated. With dispatcher enabled, this function is no-op. You can remove the function call.\n",
            "  torchaudio.set_audio_backend(\"sox_io\")\n",
            "WARNING:s3prl.upstream.espnet_hubert.expert:ESPnet is not installed, cannot use espnet_hubert upstream\n",
            "INFO:s3prl.util.download:Requesting URL: https://huggingface.co/s3prl/converted_ckpts/resolve/main/hubert_large_ll60k.pt\n",
            "DEBUG:filelock:Attempting to acquire lock 138011401503936 on /root/.cache/s3prl/download/544f5b47ce48ad4c05bc671e6e1ee1a077f5804393136a526c40d78719a314ee.hubert_large_ll60k.pt.lock\n",
            "DEBUG:filelock:Lock 138011401503936 acquired on /root/.cache/s3prl/download/544f5b47ce48ad4c05bc671e6e1ee1a077f5804393136a526c40d78719a314ee.hubert_large_ll60k.pt.lock\n",
            "DEBUG:filelock:Attempting to release lock 138011401503936 on /root/.cache/s3prl/download/544f5b47ce48ad4c05bc671e6e1ee1a077f5804393136a526c40d78719a314ee.hubert_large_ll60k.pt.lock\n",
            "DEBUG:filelock:Lock 138011401503936 released on /root/.cache/s3prl/download/544f5b47ce48ad4c05bc671e6e1ee1a077f5804393136a526c40d78719a314ee.hubert_large_ll60k.pt.lock\n",
            "INFO:s3prl.util.download:Using URL's local file: /root/.cache/s3prl/download/544f5b47ce48ad4c05bc671e6e1ee1a077f5804393136a526c40d78719a314ee.hubert_large_ll60k.pt\n",
            "INFO:s3prl.upstream.hubert.hubert_model:HubertModel Config: HubertConfig(label_rate=50, extractor_mode='layer_norm', encoder_layers=24, encoder_embed_dim=1024, encoder_ffn_embed_dim=4096, encoder_attention_heads=16, activation_fn='gelu', layer_type='transformer', dropout=0.0, attention_dropout=0.0, activation_dropout=0.0, encoder_layerdrop=0.0, dropout_input=0.0, dropout_features=0.0, final_dim=768, untie_final_proj=True, layer_norm_first=True, conv_feature_layers='[(512,10,5)] + [(512,3,2)] * 4 + [(512,2,2)] * 2', conv_bias=False, logit_temp=0.1, target_glu=False, feature_grad_mult=1.0, mask_length=10, mask_prob=0.8, mask_selection='static', mask_other=0.0, no_mask_overlap=False, mask_min_space=1, mask_channel_length=10, mask_channel_prob=0.0, mask_channel_selection='static', mask_channel_other=0.0, no_mask_channel_overlap=False, mask_channel_min_space=1, conv_pos=128, conv_pos_groups=16, latent_temp=[2.0, 0.5, 0.999995], skip_masked=False, skip_nomask=True, checkpoint_activations=False, required_seq_len_multiple=2, depthwise_conv_kernel_size=31, attn_type='', pos_enc_type='abs', fp16=False)\n",
            "/usr/local/lib/python3.10/dist-packages/torch/nn/utils/weight_norm.py:28: UserWarning: torch.nn.utils.weight_norm is deprecated in favor of torch.nn.utils.parametrizations.weight_norm.\n",
            "  warnings.warn(\"torch.nn.utils.weight_norm is deprecated in favor of torch.nn.utils.parametrizations.weight_norm.\")\n",
            "The similarity score between two audios is 1.0000 (-1.0, 1.0).\n",
            "1.0\n"
          ]
        }
      ]
    },
    {
      "cell_type": "markdown",
      "source": [
        "##### 2 different speaker"
      ],
      "metadata": {
        "id": "GAz-fw7krZ5z"
      }
    },
    {
      "cell_type": "code",
      "source": [
        "!python verification.py --model_name hubert_large \\\n",
        " --wav1 /content/voxceleb_sample_data/id10010/QlrC83eEY2s/00001.wav \\\n",
        " --wav2 /content/voxceleb_sample_data/id10002/cMGEuZ1zqXk/00001.wav  \\\n",
        " --checkpoint /content/drive/MyDrive/hubert_large_finetune.pth"
      ],
      "metadata": {
        "colab": {
          "base_uri": "https://localhost:8080/"
        },
        "outputId": "73522df3-c49c-4954-8b53-81fc2f130860",
        "id": "JqFlmchwp7Rv"
      },
      "execution_count": null,
      "outputs": [
        {
          "output_type": "stream",
          "name": "stdout",
          "text": [
            "2024-04-04 10:50:38.384885: E external/local_xla/xla/stream_executor/cuda/cuda_dnn.cc:9261] Unable to register cuDNN factory: Attempting to register factory for plugin cuDNN when one has already been registered\n",
            "2024-04-04 10:50:38.384955: E external/local_xla/xla/stream_executor/cuda/cuda_fft.cc:607] Unable to register cuFFT factory: Attempting to register factory for plugin cuFFT when one has already been registered\n",
            "2024-04-04 10:50:38.387308: E external/local_xla/xla/stream_executor/cuda/cuda_blas.cc:1515] Unable to register cuBLAS factory: Attempting to register factory for plugin cuBLAS when one has already been registered\n",
            "2024-04-04 10:50:38.396244: I tensorflow/core/platform/cpu_feature_guard.cc:182] This TensorFlow binary is optimized to use available CPU instructions in performance-critical operations.\n",
            "To enable the following instructions: AVX2 FMA, in other operations, rebuild TensorFlow with the appropriate compiler flags.\n",
            "2024-04-04 10:50:39.514781: W tensorflow/compiler/tf2tensorrt/utils/py_utils.cc:38] TF-TRT Warning: Could not find TensorRT\n",
            "INFO:fairseq.tasks.text_to_speech:Please install tensorboardX: pip install tensorboardX\n",
            "Using cache found in /root/.cache/torch/hub/s3prl_s3prl_main\n",
            "/usr/local/lib/python3.10/dist-packages/s3prl/upstream/byol_s/byol_a/common.py:20: UserWarning: torchaudio._backend.set_audio_backend has been deprecated. With dispatcher enabled, this function is no-op. You can remove the function call.\n",
            "  torchaudio.set_audio_backend(\"sox_io\")\n",
            "WARNING:s3prl.upstream.espnet_hubert.expert:ESPnet is not installed, cannot use espnet_hubert upstream\n",
            "INFO:s3prl.util.download:Requesting URL: https://huggingface.co/s3prl/converted_ckpts/resolve/main/hubert_large_ll60k.pt\n",
            "DEBUG:filelock:Attempting to acquire lock 138143769901040 on /root/.cache/s3prl/download/544f5b47ce48ad4c05bc671e6e1ee1a077f5804393136a526c40d78719a314ee.hubert_large_ll60k.pt.lock\n",
            "DEBUG:filelock:Lock 138143769901040 acquired on /root/.cache/s3prl/download/544f5b47ce48ad4c05bc671e6e1ee1a077f5804393136a526c40d78719a314ee.hubert_large_ll60k.pt.lock\n",
            "DEBUG:filelock:Attempting to release lock 138143769901040 on /root/.cache/s3prl/download/544f5b47ce48ad4c05bc671e6e1ee1a077f5804393136a526c40d78719a314ee.hubert_large_ll60k.pt.lock\n",
            "DEBUG:filelock:Lock 138143769901040 released on /root/.cache/s3prl/download/544f5b47ce48ad4c05bc671e6e1ee1a077f5804393136a526c40d78719a314ee.hubert_large_ll60k.pt.lock\n",
            "INFO:s3prl.util.download:Using URL's local file: /root/.cache/s3prl/download/544f5b47ce48ad4c05bc671e6e1ee1a077f5804393136a526c40d78719a314ee.hubert_large_ll60k.pt\n",
            "INFO:s3prl.upstream.hubert.hubert_model:HubertModel Config: HubertConfig(label_rate=50, extractor_mode='layer_norm', encoder_layers=24, encoder_embed_dim=1024, encoder_ffn_embed_dim=4096, encoder_attention_heads=16, activation_fn='gelu', layer_type='transformer', dropout=0.0, attention_dropout=0.0, activation_dropout=0.0, encoder_layerdrop=0.0, dropout_input=0.0, dropout_features=0.0, final_dim=768, untie_final_proj=True, layer_norm_first=True, conv_feature_layers='[(512,10,5)] + [(512,3,2)] * 4 + [(512,2,2)] * 2', conv_bias=False, logit_temp=0.1, target_glu=False, feature_grad_mult=1.0, mask_length=10, mask_prob=0.8, mask_selection='static', mask_other=0.0, no_mask_overlap=False, mask_min_space=1, mask_channel_length=10, mask_channel_prob=0.0, mask_channel_selection='static', mask_channel_other=0.0, no_mask_channel_overlap=False, mask_channel_min_space=1, conv_pos=128, conv_pos_groups=16, latent_temp=[2.0, 0.5, 0.999995], skip_masked=False, skip_nomask=True, checkpoint_activations=False, required_seq_len_multiple=2, depthwise_conv_kernel_size=31, attn_type='', pos_enc_type='abs', fp16=False)\n",
            "/usr/local/lib/python3.10/dist-packages/torch/nn/utils/weight_norm.py:28: UserWarning: torch.nn.utils.weight_norm is deprecated in favor of torch.nn.utils.parametrizations.weight_norm.\n",
            "  warnings.warn(\"torch.nn.utils.weight_norm is deprecated in favor of torch.nn.utils.parametrizations.weight_norm.\")\n",
            "The similarity score between two audios is 0.0933 (-1.0, 1.0).\n",
            "0.09326812624931335\n"
          ]
        }
      ]
    },
    {
      "cell_type": "markdown",
      "source": [
        "#### prediction on subsample of voxcele1"
      ],
      "metadata": {
        "id": "gTdRqYc35JWy"
      }
    },
    {
      "cell_type": "code",
      "source": [
        "from verification import verification\n",
        "# added return sim[0].item() at end of verificaion function in verification.py to return score"
      ],
      "metadata": {
        "id": "u8z9dIjhp7Rv"
      },
      "execution_count": null,
      "outputs": []
    },
    {
      "cell_type": "code",
      "source": [
        "similarity_score = verification(model_name = 'hubert_large',\n",
        " wav1 =  '/content/voxceleb_sample_data/id10003/EGPV-Xa0LGk/00009.wav',\n",
        " wav2 = '/content/voxceleb_sample_data/id10003/K5zRxtXc27s/00005.wav' ,\n",
        " checkpoint=  '/content/drive/MyDrive/hubert_large_finetune.pth')"
      ],
      "metadata": {
        "colab": {
          "base_uri": "https://localhost:8080/"
        },
        "id": "9nhIvpCWrrg5",
        "outputId": "25ad347e-24ab-4eec-924b-ea4f83f5f66f"
      },
      "execution_count": null,
      "outputs": [
        {
          "output_type": "stream",
          "name": "stderr",
          "text": [
            "Using cache found in /root/.cache/torch/hub/s3prl_s3prl_main\n"
          ]
        },
        {
          "output_type": "stream",
          "name": "stdout",
          "text": [
            "The similarity score between two audios is 0.5575 (-1.0, 1.0).\n"
          ]
        }
      ]
    },
    {
      "cell_type": "code",
      "source": [
        "import pandas as pd\n",
        "import itertools\n",
        "import random\n",
        "from tqdm import tqdm\n",
        "tqdm.pandas()"
      ],
      "metadata": {
        "id": "p2C1hjY6vK8g"
      },
      "execution_count": null,
      "outputs": []
    },
    {
      "cell_type": "code",
      "source": [
        "df = pd.DataFrame(wav_files_list, columns = ['wav_file'])\n",
        "df['speaker_id'] = df.wav_file.apply(lambda x : x.split('/')[3])\n",
        "df.head(2)"
      ],
      "metadata": {
        "colab": {
          "base_uri": "https://localhost:8080/",
          "height": 112
        },
        "id": "AtCqshpvvIsD",
        "outputId": "4d0fe61c-8459-4955-8db0-a3db40c2ae5e"
      },
      "execution_count": null,
      "outputs": [
        {
          "output_type": "execute_result",
          "data": {
            "text/plain": [
              "                                            wav_file speaker_id\n",
              "0  /content/voxceleb_sample_data/id10002/cMGEuZ1z...    id10002\n",
              "1  /content/voxceleb_sample_data/id10002/cMGEuZ1z...    id10002"
            ],
            "text/html": [
              "\n",
              "  <div id=\"df-ac426c85-2321-4df2-9d47-d8e203716e8a\" class=\"colab-df-container\">\n",
              "    <div>\n",
              "<style scoped>\n",
              "    .dataframe tbody tr th:only-of-type {\n",
              "        vertical-align: middle;\n",
              "    }\n",
              "\n",
              "    .dataframe tbody tr th {\n",
              "        vertical-align: top;\n",
              "    }\n",
              "\n",
              "    .dataframe thead th {\n",
              "        text-align: right;\n",
              "    }\n",
              "</style>\n",
              "<table border=\"1\" class=\"dataframe\">\n",
              "  <thead>\n",
              "    <tr style=\"text-align: right;\">\n",
              "      <th></th>\n",
              "      <th>wav_file</th>\n",
              "      <th>speaker_id</th>\n",
              "    </tr>\n",
              "  </thead>\n",
              "  <tbody>\n",
              "    <tr>\n",
              "      <th>0</th>\n",
              "      <td>/content/voxceleb_sample_data/id10002/cMGEuZ1z...</td>\n",
              "      <td>id10002</td>\n",
              "    </tr>\n",
              "    <tr>\n",
              "      <th>1</th>\n",
              "      <td>/content/voxceleb_sample_data/id10002/cMGEuZ1z...</td>\n",
              "      <td>id10002</td>\n",
              "    </tr>\n",
              "  </tbody>\n",
              "</table>\n",
              "</div>\n",
              "    <div class=\"colab-df-buttons\">\n",
              "\n",
              "  <div class=\"colab-df-container\">\n",
              "    <button class=\"colab-df-convert\" onclick=\"convertToInteractive('df-ac426c85-2321-4df2-9d47-d8e203716e8a')\"\n",
              "            title=\"Convert this dataframe to an interactive table.\"\n",
              "            style=\"display:none;\">\n",
              "\n",
              "  <svg xmlns=\"http://www.w3.org/2000/svg\" height=\"24px\" viewBox=\"0 -960 960 960\">\n",
              "    <path d=\"M120-120v-720h720v720H120Zm60-500h600v-160H180v160Zm220 220h160v-160H400v160Zm0 220h160v-160H400v160ZM180-400h160v-160H180v160Zm440 0h160v-160H620v160ZM180-180h160v-160H180v160Zm440 0h160v-160H620v160Z\"/>\n",
              "  </svg>\n",
              "    </button>\n",
              "\n",
              "  <style>\n",
              "    .colab-df-container {\n",
              "      display:flex;\n",
              "      gap: 12px;\n",
              "    }\n",
              "\n",
              "    .colab-df-convert {\n",
              "      background-color: #E8F0FE;\n",
              "      border: none;\n",
              "      border-radius: 50%;\n",
              "      cursor: pointer;\n",
              "      display: none;\n",
              "      fill: #1967D2;\n",
              "      height: 32px;\n",
              "      padding: 0 0 0 0;\n",
              "      width: 32px;\n",
              "    }\n",
              "\n",
              "    .colab-df-convert:hover {\n",
              "      background-color: #E2EBFA;\n",
              "      box-shadow: 0px 1px 2px rgba(60, 64, 67, 0.3), 0px 1px 3px 1px rgba(60, 64, 67, 0.15);\n",
              "      fill: #174EA6;\n",
              "    }\n",
              "\n",
              "    .colab-df-buttons div {\n",
              "      margin-bottom: 4px;\n",
              "    }\n",
              "\n",
              "    [theme=dark] .colab-df-convert {\n",
              "      background-color: #3B4455;\n",
              "      fill: #D2E3FC;\n",
              "    }\n",
              "\n",
              "    [theme=dark] .colab-df-convert:hover {\n",
              "      background-color: #434B5C;\n",
              "      box-shadow: 0px 1px 3px 1px rgba(0, 0, 0, 0.15);\n",
              "      filter: drop-shadow(0px 1px 2px rgba(0, 0, 0, 0.3));\n",
              "      fill: #FFFFFF;\n",
              "    }\n",
              "  </style>\n",
              "\n",
              "    <script>\n",
              "      const buttonEl =\n",
              "        document.querySelector('#df-ac426c85-2321-4df2-9d47-d8e203716e8a button.colab-df-convert');\n",
              "      buttonEl.style.display =\n",
              "        google.colab.kernel.accessAllowed ? 'block' : 'none';\n",
              "\n",
              "      async function convertToInteractive(key) {\n",
              "        const element = document.querySelector('#df-ac426c85-2321-4df2-9d47-d8e203716e8a');\n",
              "        const dataTable =\n",
              "          await google.colab.kernel.invokeFunction('convertToInteractive',\n",
              "                                                    [key], {});\n",
              "        if (!dataTable) return;\n",
              "\n",
              "        const docLinkHtml = 'Like what you see? Visit the ' +\n",
              "          '<a target=\"_blank\" href=https://colab.research.google.com/notebooks/data_table.ipynb>data table notebook</a>'\n",
              "          + ' to learn more about interactive tables.';\n",
              "        element.innerHTML = '';\n",
              "        dataTable['output_type'] = 'display_data';\n",
              "        await google.colab.output.renderOutput(dataTable, element);\n",
              "        const docLink = document.createElement('div');\n",
              "        docLink.innerHTML = docLinkHtml;\n",
              "        element.appendChild(docLink);\n",
              "      }\n",
              "    </script>\n",
              "  </div>\n",
              "\n",
              "\n",
              "<div id=\"df-bfd53fc1-e01d-430b-9a6a-e688ae24b8bd\">\n",
              "  <button class=\"colab-df-quickchart\" onclick=\"quickchart('df-bfd53fc1-e01d-430b-9a6a-e688ae24b8bd')\"\n",
              "            title=\"Suggest charts\"\n",
              "            style=\"display:none;\">\n",
              "\n",
              "<svg xmlns=\"http://www.w3.org/2000/svg\" height=\"24px\"viewBox=\"0 0 24 24\"\n",
              "     width=\"24px\">\n",
              "    <g>\n",
              "        <path d=\"M19 3H5c-1.1 0-2 .9-2 2v14c0 1.1.9 2 2 2h14c1.1 0 2-.9 2-2V5c0-1.1-.9-2-2-2zM9 17H7v-7h2v7zm4 0h-2V7h2v10zm4 0h-2v-4h2v4z\"/>\n",
              "    </g>\n",
              "</svg>\n",
              "  </button>\n",
              "\n",
              "<style>\n",
              "  .colab-df-quickchart {\n",
              "      --bg-color: #E8F0FE;\n",
              "      --fill-color: #1967D2;\n",
              "      --hover-bg-color: #E2EBFA;\n",
              "      --hover-fill-color: #174EA6;\n",
              "      --disabled-fill-color: #AAA;\n",
              "      --disabled-bg-color: #DDD;\n",
              "  }\n",
              "\n",
              "  [theme=dark] .colab-df-quickchart {\n",
              "      --bg-color: #3B4455;\n",
              "      --fill-color: #D2E3FC;\n",
              "      --hover-bg-color: #434B5C;\n",
              "      --hover-fill-color: #FFFFFF;\n",
              "      --disabled-bg-color: #3B4455;\n",
              "      --disabled-fill-color: #666;\n",
              "  }\n",
              "\n",
              "  .colab-df-quickchart {\n",
              "    background-color: var(--bg-color);\n",
              "    border: none;\n",
              "    border-radius: 50%;\n",
              "    cursor: pointer;\n",
              "    display: none;\n",
              "    fill: var(--fill-color);\n",
              "    height: 32px;\n",
              "    padding: 0;\n",
              "    width: 32px;\n",
              "  }\n",
              "\n",
              "  .colab-df-quickchart:hover {\n",
              "    background-color: var(--hover-bg-color);\n",
              "    box-shadow: 0 1px 2px rgba(60, 64, 67, 0.3), 0 1px 3px 1px rgba(60, 64, 67, 0.15);\n",
              "    fill: var(--button-hover-fill-color);\n",
              "  }\n",
              "\n",
              "  .colab-df-quickchart-complete:disabled,\n",
              "  .colab-df-quickchart-complete:disabled:hover {\n",
              "    background-color: var(--disabled-bg-color);\n",
              "    fill: var(--disabled-fill-color);\n",
              "    box-shadow: none;\n",
              "  }\n",
              "\n",
              "  .colab-df-spinner {\n",
              "    border: 2px solid var(--fill-color);\n",
              "    border-color: transparent;\n",
              "    border-bottom-color: var(--fill-color);\n",
              "    animation:\n",
              "      spin 1s steps(1) infinite;\n",
              "  }\n",
              "\n",
              "  @keyframes spin {\n",
              "    0% {\n",
              "      border-color: transparent;\n",
              "      border-bottom-color: var(--fill-color);\n",
              "      border-left-color: var(--fill-color);\n",
              "    }\n",
              "    20% {\n",
              "      border-color: transparent;\n",
              "      border-left-color: var(--fill-color);\n",
              "      border-top-color: var(--fill-color);\n",
              "    }\n",
              "    30% {\n",
              "      border-color: transparent;\n",
              "      border-left-color: var(--fill-color);\n",
              "      border-top-color: var(--fill-color);\n",
              "      border-right-color: var(--fill-color);\n",
              "    }\n",
              "    40% {\n",
              "      border-color: transparent;\n",
              "      border-right-color: var(--fill-color);\n",
              "      border-top-color: var(--fill-color);\n",
              "    }\n",
              "    60% {\n",
              "      border-color: transparent;\n",
              "      border-right-color: var(--fill-color);\n",
              "    }\n",
              "    80% {\n",
              "      border-color: transparent;\n",
              "      border-right-color: var(--fill-color);\n",
              "      border-bottom-color: var(--fill-color);\n",
              "    }\n",
              "    90% {\n",
              "      border-color: transparent;\n",
              "      border-bottom-color: var(--fill-color);\n",
              "    }\n",
              "  }\n",
              "</style>\n",
              "\n",
              "  <script>\n",
              "    async function quickchart(key) {\n",
              "      const quickchartButtonEl =\n",
              "        document.querySelector('#' + key + ' button');\n",
              "      quickchartButtonEl.disabled = true;  // To prevent multiple clicks.\n",
              "      quickchartButtonEl.classList.add('colab-df-spinner');\n",
              "      try {\n",
              "        const charts = await google.colab.kernel.invokeFunction(\n",
              "            'suggestCharts', [key], {});\n",
              "      } catch (error) {\n",
              "        console.error('Error during call to suggestCharts:', error);\n",
              "      }\n",
              "      quickchartButtonEl.classList.remove('colab-df-spinner');\n",
              "      quickchartButtonEl.classList.add('colab-df-quickchart-complete');\n",
              "    }\n",
              "    (() => {\n",
              "      let quickchartButtonEl =\n",
              "        document.querySelector('#df-bfd53fc1-e01d-430b-9a6a-e688ae24b8bd button');\n",
              "      quickchartButtonEl.style.display =\n",
              "        google.colab.kernel.accessAllowed ? 'block' : 'none';\n",
              "    })();\n",
              "  </script>\n",
              "</div>\n",
              "\n",
              "    </div>\n",
              "  </div>\n"
            ],
            "application/vnd.google.colaboratory.intrinsic+json": {
              "type": "dataframe",
              "variable_name": "df",
              "summary": "{\n  \"name\": \"df\",\n  \"rows\": 970,\n  \"fields\": [\n    {\n      \"column\": \"wav_file\",\n      \"properties\": {\n        \"dtype\": \"string\",\n        \"num_unique_values\": 970,\n        \"samples\": [\n          \"/content/voxceleb_sample_data/id10006/88biLNZtnag/00003.wav\",\n          \"/content/voxceleb_sample_data/id10003/yzIXg93UOIM/00026.wav\",\n          \"/content/voxceleb_sample_data/id10008/YEkuUBPkSZg/00002.wav\"\n        ],\n        \"semantic_type\": \"\",\n        \"description\": \"\"\n      }\n    },\n    {\n      \"column\": \"speaker_id\",\n      \"properties\": {\n        \"dtype\": \"category\",\n        \"num_unique_values\": 10,\n        \"samples\": [\n          \"id10001\",\n          \"id10003\",\n          \"id10009\"\n        ],\n        \"semantic_type\": \"\",\n        \"description\": \"\"\n      }\n    }\n  ]\n}"
            }
          },
          "metadata": {},
          "execution_count": 33
        }
      ]
    },
    {
      "cell_type": "code",
      "source": [
        "same_speaker_pairs = []\n",
        "different_speaker_pairs = []\n",
        "\n",
        "grouped = df.groupby('speaker_id')\n",
        "for speaker_id, group in grouped:\n",
        "    pairs = list(itertools.combinations(group['wav_file'], 2))\n",
        "    same_speaker_pairs.extend(pairs)\n",
        "\n",
        "    other_speaker_groups = [g['wav_file'] for s_id, g in grouped if s_id != speaker_id]\n",
        "    for other_group in other_speaker_groups:\n",
        "        different_speaker_pairs.extend(list(itertools.product(group['wav_file'], other_group)))\n"
      ],
      "metadata": {
        "id": "5N-DAv_-xFfa"
      },
      "execution_count": null,
      "outputs": []
    },
    {
      "cell_type": "code",
      "source": [
        "random.shuffle(same_speaker_pairs)\n",
        "random.shuffle(different_speaker_pairs)\n",
        "#taking 100 pair for same spekar and 100 for differnt spkear\n",
        "pair1 = same_speaker_pairs[:100]\n",
        "pair0 = different_speaker_pairs[:100]"
      ],
      "metadata": {
        "id": "k8eLY0PGsEc4"
      },
      "execution_count": null,
      "outputs": []
    },
    {
      "cell_type": "code",
      "source": [
        "df1 = pd.DataFrame(pair0)\n",
        "df1['label'] = 0\n",
        "df2 = pd.DataFrame(pair1)\n",
        "df2['label'] = 1\n",
        "data_df= pd.concat([df1, df2])\n",
        "data_df.columns = ['wav1', 'wav2', 'label']\n",
        "data_df.shape, data_df.columns"
      ],
      "metadata": {
        "colab": {
          "base_uri": "https://localhost:8080/"
        },
        "id": "03enfpbKxiJh",
        "outputId": "c0286581-0dd9-4e7d-e732-388fba2d3c7e"
      },
      "execution_count": null,
      "outputs": [
        {
          "output_type": "execute_result",
          "data": {
            "text/plain": [
              "((200, 3), Index(['wav1', 'wav2', 'label'], dtype='object'))"
            ]
          },
          "metadata": {},
          "execution_count": 48
        }
      ]
    },
    {
      "cell_type": "code",
      "source": [
        "data_df.head(2)"
      ],
      "metadata": {
        "colab": {
          "base_uri": "https://localhost:8080/",
          "height": 112
        },
        "id": "pLQc8SFK0L3y",
        "outputId": "50bf9d0d-9b43-4e22-8db0-a76c73ae0fb5"
      },
      "execution_count": null,
      "outputs": [
        {
          "output_type": "execute_result",
          "data": {
            "text/plain": [
              "                                                wav1  \\\n",
              "0  /content/voxceleb_sample_data/id10001/J9lHsKG9...   \n",
              "1  /content/voxceleb_sample_data/id10006/KFllccZy...   \n",
              "\n",
              "                                                wav2  label  \n",
              "0  /content/voxceleb_sample_data/id10003/BQxxhq45...      0  \n",
              "1  /content/voxceleb_sample_data/id10001/zELwAz2W...      0  "
            ],
            "text/html": [
              "\n",
              "  <div id=\"df-24eb4d5b-37ec-4ebc-9651-9f19b261db4f\" class=\"colab-df-container\">\n",
              "    <div>\n",
              "<style scoped>\n",
              "    .dataframe tbody tr th:only-of-type {\n",
              "        vertical-align: middle;\n",
              "    }\n",
              "\n",
              "    .dataframe tbody tr th {\n",
              "        vertical-align: top;\n",
              "    }\n",
              "\n",
              "    .dataframe thead th {\n",
              "        text-align: right;\n",
              "    }\n",
              "</style>\n",
              "<table border=\"1\" class=\"dataframe\">\n",
              "  <thead>\n",
              "    <tr style=\"text-align: right;\">\n",
              "      <th></th>\n",
              "      <th>wav1</th>\n",
              "      <th>wav2</th>\n",
              "      <th>label</th>\n",
              "    </tr>\n",
              "  </thead>\n",
              "  <tbody>\n",
              "    <tr>\n",
              "      <th>0</th>\n",
              "      <td>/content/voxceleb_sample_data/id10001/J9lHsKG9...</td>\n",
              "      <td>/content/voxceleb_sample_data/id10003/BQxxhq45...</td>\n",
              "      <td>0</td>\n",
              "    </tr>\n",
              "    <tr>\n",
              "      <th>1</th>\n",
              "      <td>/content/voxceleb_sample_data/id10006/KFllccZy...</td>\n",
              "      <td>/content/voxceleb_sample_data/id10001/zELwAz2W...</td>\n",
              "      <td>0</td>\n",
              "    </tr>\n",
              "  </tbody>\n",
              "</table>\n",
              "</div>\n",
              "    <div class=\"colab-df-buttons\">\n",
              "\n",
              "  <div class=\"colab-df-container\">\n",
              "    <button class=\"colab-df-convert\" onclick=\"convertToInteractive('df-24eb4d5b-37ec-4ebc-9651-9f19b261db4f')\"\n",
              "            title=\"Convert this dataframe to an interactive table.\"\n",
              "            style=\"display:none;\">\n",
              "\n",
              "  <svg xmlns=\"http://www.w3.org/2000/svg\" height=\"24px\" viewBox=\"0 -960 960 960\">\n",
              "    <path d=\"M120-120v-720h720v720H120Zm60-500h600v-160H180v160Zm220 220h160v-160H400v160Zm0 220h160v-160H400v160ZM180-400h160v-160H180v160Zm440 0h160v-160H620v160ZM180-180h160v-160H180v160Zm440 0h160v-160H620v160Z\"/>\n",
              "  </svg>\n",
              "    </button>\n",
              "\n",
              "  <style>\n",
              "    .colab-df-container {\n",
              "      display:flex;\n",
              "      gap: 12px;\n",
              "    }\n",
              "\n",
              "    .colab-df-convert {\n",
              "      background-color: #E8F0FE;\n",
              "      border: none;\n",
              "      border-radius: 50%;\n",
              "      cursor: pointer;\n",
              "      display: none;\n",
              "      fill: #1967D2;\n",
              "      height: 32px;\n",
              "      padding: 0 0 0 0;\n",
              "      width: 32px;\n",
              "    }\n",
              "\n",
              "    .colab-df-convert:hover {\n",
              "      background-color: #E2EBFA;\n",
              "      box-shadow: 0px 1px 2px rgba(60, 64, 67, 0.3), 0px 1px 3px 1px rgba(60, 64, 67, 0.15);\n",
              "      fill: #174EA6;\n",
              "    }\n",
              "\n",
              "    .colab-df-buttons div {\n",
              "      margin-bottom: 4px;\n",
              "    }\n",
              "\n",
              "    [theme=dark] .colab-df-convert {\n",
              "      background-color: #3B4455;\n",
              "      fill: #D2E3FC;\n",
              "    }\n",
              "\n",
              "    [theme=dark] .colab-df-convert:hover {\n",
              "      background-color: #434B5C;\n",
              "      box-shadow: 0px 1px 3px 1px rgba(0, 0, 0, 0.15);\n",
              "      filter: drop-shadow(0px 1px 2px rgba(0, 0, 0, 0.3));\n",
              "      fill: #FFFFFF;\n",
              "    }\n",
              "  </style>\n",
              "\n",
              "    <script>\n",
              "      const buttonEl =\n",
              "        document.querySelector('#df-24eb4d5b-37ec-4ebc-9651-9f19b261db4f button.colab-df-convert');\n",
              "      buttonEl.style.display =\n",
              "        google.colab.kernel.accessAllowed ? 'block' : 'none';\n",
              "\n",
              "      async function convertToInteractive(key) {\n",
              "        const element = document.querySelector('#df-24eb4d5b-37ec-4ebc-9651-9f19b261db4f');\n",
              "        const dataTable =\n",
              "          await google.colab.kernel.invokeFunction('convertToInteractive',\n",
              "                                                    [key], {});\n",
              "        if (!dataTable) return;\n",
              "\n",
              "        const docLinkHtml = 'Like what you see? Visit the ' +\n",
              "          '<a target=\"_blank\" href=https://colab.research.google.com/notebooks/data_table.ipynb>data table notebook</a>'\n",
              "          + ' to learn more about interactive tables.';\n",
              "        element.innerHTML = '';\n",
              "        dataTable['output_type'] = 'display_data';\n",
              "        await google.colab.output.renderOutput(dataTable, element);\n",
              "        const docLink = document.createElement('div');\n",
              "        docLink.innerHTML = docLinkHtml;\n",
              "        element.appendChild(docLink);\n",
              "      }\n",
              "    </script>\n",
              "  </div>\n",
              "\n",
              "\n",
              "<div id=\"df-cc0d47b5-391b-4af8-a7eb-b98988b452f9\">\n",
              "  <button class=\"colab-df-quickchart\" onclick=\"quickchart('df-cc0d47b5-391b-4af8-a7eb-b98988b452f9')\"\n",
              "            title=\"Suggest charts\"\n",
              "            style=\"display:none;\">\n",
              "\n",
              "<svg xmlns=\"http://www.w3.org/2000/svg\" height=\"24px\"viewBox=\"0 0 24 24\"\n",
              "     width=\"24px\">\n",
              "    <g>\n",
              "        <path d=\"M19 3H5c-1.1 0-2 .9-2 2v14c0 1.1.9 2 2 2h14c1.1 0 2-.9 2-2V5c0-1.1-.9-2-2-2zM9 17H7v-7h2v7zm4 0h-2V7h2v10zm4 0h-2v-4h2v4z\"/>\n",
              "    </g>\n",
              "</svg>\n",
              "  </button>\n",
              "\n",
              "<style>\n",
              "  .colab-df-quickchart {\n",
              "      --bg-color: #E8F0FE;\n",
              "      --fill-color: #1967D2;\n",
              "      --hover-bg-color: #E2EBFA;\n",
              "      --hover-fill-color: #174EA6;\n",
              "      --disabled-fill-color: #AAA;\n",
              "      --disabled-bg-color: #DDD;\n",
              "  }\n",
              "\n",
              "  [theme=dark] .colab-df-quickchart {\n",
              "      --bg-color: #3B4455;\n",
              "      --fill-color: #D2E3FC;\n",
              "      --hover-bg-color: #434B5C;\n",
              "      --hover-fill-color: #FFFFFF;\n",
              "      --disabled-bg-color: #3B4455;\n",
              "      --disabled-fill-color: #666;\n",
              "  }\n",
              "\n",
              "  .colab-df-quickchart {\n",
              "    background-color: var(--bg-color);\n",
              "    border: none;\n",
              "    border-radius: 50%;\n",
              "    cursor: pointer;\n",
              "    display: none;\n",
              "    fill: var(--fill-color);\n",
              "    height: 32px;\n",
              "    padding: 0;\n",
              "    width: 32px;\n",
              "  }\n",
              "\n",
              "  .colab-df-quickchart:hover {\n",
              "    background-color: var(--hover-bg-color);\n",
              "    box-shadow: 0 1px 2px rgba(60, 64, 67, 0.3), 0 1px 3px 1px rgba(60, 64, 67, 0.15);\n",
              "    fill: var(--button-hover-fill-color);\n",
              "  }\n",
              "\n",
              "  .colab-df-quickchart-complete:disabled,\n",
              "  .colab-df-quickchart-complete:disabled:hover {\n",
              "    background-color: var(--disabled-bg-color);\n",
              "    fill: var(--disabled-fill-color);\n",
              "    box-shadow: none;\n",
              "  }\n",
              "\n",
              "  .colab-df-spinner {\n",
              "    border: 2px solid var(--fill-color);\n",
              "    border-color: transparent;\n",
              "    border-bottom-color: var(--fill-color);\n",
              "    animation:\n",
              "      spin 1s steps(1) infinite;\n",
              "  }\n",
              "\n",
              "  @keyframes spin {\n",
              "    0% {\n",
              "      border-color: transparent;\n",
              "      border-bottom-color: var(--fill-color);\n",
              "      border-left-color: var(--fill-color);\n",
              "    }\n",
              "    20% {\n",
              "      border-color: transparent;\n",
              "      border-left-color: var(--fill-color);\n",
              "      border-top-color: var(--fill-color);\n",
              "    }\n",
              "    30% {\n",
              "      border-color: transparent;\n",
              "      border-left-color: var(--fill-color);\n",
              "      border-top-color: var(--fill-color);\n",
              "      border-right-color: var(--fill-color);\n",
              "    }\n",
              "    40% {\n",
              "      border-color: transparent;\n",
              "      border-right-color: var(--fill-color);\n",
              "      border-top-color: var(--fill-color);\n",
              "    }\n",
              "    60% {\n",
              "      border-color: transparent;\n",
              "      border-right-color: var(--fill-color);\n",
              "    }\n",
              "    80% {\n",
              "      border-color: transparent;\n",
              "      border-right-color: var(--fill-color);\n",
              "      border-bottom-color: var(--fill-color);\n",
              "    }\n",
              "    90% {\n",
              "      border-color: transparent;\n",
              "      border-bottom-color: var(--fill-color);\n",
              "    }\n",
              "  }\n",
              "</style>\n",
              "\n",
              "  <script>\n",
              "    async function quickchart(key) {\n",
              "      const quickchartButtonEl =\n",
              "        document.querySelector('#' + key + ' button');\n",
              "      quickchartButtonEl.disabled = true;  // To prevent multiple clicks.\n",
              "      quickchartButtonEl.classList.add('colab-df-spinner');\n",
              "      try {\n",
              "        const charts = await google.colab.kernel.invokeFunction(\n",
              "            'suggestCharts', [key], {});\n",
              "      } catch (error) {\n",
              "        console.error('Error during call to suggestCharts:', error);\n",
              "      }\n",
              "      quickchartButtonEl.classList.remove('colab-df-spinner');\n",
              "      quickchartButtonEl.classList.add('colab-df-quickchart-complete');\n",
              "    }\n",
              "    (() => {\n",
              "      let quickchartButtonEl =\n",
              "        document.querySelector('#df-cc0d47b5-391b-4af8-a7eb-b98988b452f9 button');\n",
              "      quickchartButtonEl.style.display =\n",
              "        google.colab.kernel.accessAllowed ? 'block' : 'none';\n",
              "    })();\n",
              "  </script>\n",
              "</div>\n",
              "\n",
              "    </div>\n",
              "  </div>\n"
            ],
            "application/vnd.google.colaboratory.intrinsic+json": {
              "type": "dataframe",
              "variable_name": "data_df",
              "summary": "{\n  \"name\": \"data_df\",\n  \"rows\": 200,\n  \"fields\": [\n    {\n      \"column\": \"wav1\",\n      \"properties\": {\n        \"dtype\": \"string\",\n        \"num_unique_values\": 174,\n        \"samples\": [\n          \"/content/voxceleb_sample_data/id10001/J9lHsKG98U8/00007.wav\",\n          \"/content/voxceleb_sample_data/id10009/JrwqvWr5_VE/00005.wav\",\n          \"/content/voxceleb_sample_data/id10007/5ExvrJyWpe8/00003.wav\"\n        ],\n        \"semantic_type\": \"\",\n        \"description\": \"\"\n      }\n    },\n    {\n      \"column\": \"wav2\",\n      \"properties\": {\n        \"dtype\": \"string\",\n        \"num_unique_values\": 179,\n        \"samples\": [\n          \"/content/voxceleb_sample_data/id10003/yzIXg93UOIM/00031.wav\",\n          \"/content/voxceleb_sample_data/id10002/w9H-ZMvdE9M/00001.wav\",\n          \"/content/voxceleb_sample_data/id10001/7gWzIy6yIIk/00003.wav\"\n        ],\n        \"semantic_type\": \"\",\n        \"description\": \"\"\n      }\n    },\n    {\n      \"column\": \"label\",\n      \"properties\": {\n        \"dtype\": \"number\",\n        \"std\": 0,\n        \"min\": 0,\n        \"max\": 1,\n        \"num_unique_values\": 2,\n        \"samples\": [\n          1,\n          0\n        ],\n        \"semantic_type\": \"\",\n        \"description\": \"\"\n      }\n    }\n  ]\n}"
            }
          },
          "metadata": {},
          "execution_count": 56
        }
      ]
    },
    {
      "cell_type": "code",
      "source": [
        "data_df['hubert_large_pred'] = data_df.progress_apply(lambda x:verification(model_name = 'hubert_large',wav1 =x['wav1'],wav2 = x['wav2'],\n",
        "                                          checkpoint=  '/content/drive/MyDrive/hubert_large_finetune.pth'), axis =1)"
      ],
      "metadata": {
        "colab": {
          "base_uri": "https://localhost:8080/"
        },
        "id": "ZJ6aww6axjo5",
        "outputId": "7887ac85-d79a-4a1a-b305-dd250e3ad322"
      },
      "execution_count": null,
      "outputs": [
        {
          "output_type": "stream",
          "name": "stderr",
          "text": [
            "  0%|          | 0/200 [00:00<?, ?it/s]Using cache found in /root/.cache/torch/hub/s3prl_s3prl_main\n",
            "  1%|          | 2/200 [00:09<16:24,  4.97s/it]"
          ]
        },
        {
          "output_type": "stream",
          "name": "stdout",
          "text": [
            "The similarity score between two audios is 0.0966 (-1.0, 1.0).\n"
          ]
        },
        {
          "output_type": "stream",
          "name": "stderr",
          "text": [
            "Using cache found in /root/.cache/torch/hub/s3prl_s3prl_main\n",
            "  2%|▏         | 3/200 [00:23<28:10,  8.58s/it]"
          ]
        },
        {
          "output_type": "stream",
          "name": "stdout",
          "text": [
            "The similarity score between two audios is 0.0257 (-1.0, 1.0).\n"
          ]
        },
        {
          "output_type": "stream",
          "name": "stderr",
          "text": [
            "Using cache found in /root/.cache/torch/hub/s3prl_s3prl_main\n",
            "  2%|▏         | 4/200 [00:33<29:44,  9.10s/it]"
          ]
        },
        {
          "output_type": "stream",
          "name": "stdout",
          "text": [
            "The similarity score between two audios is 0.0466 (-1.0, 1.0).\n"
          ]
        },
        {
          "output_type": "stream",
          "name": "stderr",
          "text": [
            "Using cache found in /root/.cache/torch/hub/s3prl_s3prl_main\n",
            "  2%|▎         | 5/200 [00:41<28:21,  8.73s/it]"
          ]
        },
        {
          "output_type": "stream",
          "name": "stdout",
          "text": [
            "The similarity score between two audios is 0.0751 (-1.0, 1.0).\n"
          ]
        },
        {
          "output_type": "stream",
          "name": "stderr",
          "text": [
            "Using cache found in /root/.cache/torch/hub/s3prl_s3prl_main\n",
            "  3%|▎         | 6/200 [00:49<27:40,  8.56s/it]"
          ]
        },
        {
          "output_type": "stream",
          "name": "stdout",
          "text": [
            "The similarity score between two audios is -0.0058 (-1.0, 1.0).\n"
          ]
        },
        {
          "output_type": "stream",
          "name": "stderr",
          "text": [
            "Using cache found in /root/.cache/torch/hub/s3prl_s3prl_main\n",
            "  4%|▎         | 7/200 [00:57<26:33,  8.25s/it]"
          ]
        },
        {
          "output_type": "stream",
          "name": "stdout",
          "text": [
            "The similarity score between two audios is -0.0065 (-1.0, 1.0).\n"
          ]
        },
        {
          "output_type": "stream",
          "name": "stderr",
          "text": [
            "Using cache found in /root/.cache/torch/hub/s3prl_s3prl_main\n",
            "  4%|▍         | 8/200 [01:05<25:58,  8.12s/it]"
          ]
        },
        {
          "output_type": "stream",
          "name": "stdout",
          "text": [
            "The similarity score between two audios is 0.0506 (-1.0, 1.0).\n"
          ]
        },
        {
          "output_type": "stream",
          "name": "stderr",
          "text": [
            "Using cache found in /root/.cache/torch/hub/s3prl_s3prl_main\n",
            "  4%|▍         | 9/200 [01:13<25:57,  8.16s/it]"
          ]
        },
        {
          "output_type": "stream",
          "name": "stdout",
          "text": [
            "The similarity score between two audios is 0.0689 (-1.0, 1.0).\n"
          ]
        },
        {
          "output_type": "stream",
          "name": "stderr",
          "text": [
            "Using cache found in /root/.cache/torch/hub/s3prl_s3prl_main\n",
            "  5%|▌         | 10/200 [01:20<24:32,  7.75s/it]"
          ]
        },
        {
          "output_type": "stream",
          "name": "stdout",
          "text": [
            "The similarity score between two audios is 0.0000 (-1.0, 1.0).\n"
          ]
        },
        {
          "output_type": "stream",
          "name": "stderr",
          "text": [
            "Using cache found in /root/.cache/torch/hub/s3prl_s3prl_main\n",
            "  6%|▌         | 11/200 [01:28<24:41,  7.84s/it]"
          ]
        },
        {
          "output_type": "stream",
          "name": "stdout",
          "text": [
            "The similarity score between two audios is 0.0709 (-1.0, 1.0).\n"
          ]
        },
        {
          "output_type": "stream",
          "name": "stderr",
          "text": [
            "Using cache found in /root/.cache/torch/hub/s3prl_s3prl_main\n",
            "  6%|▌         | 12/200 [01:35<23:37,  7.54s/it]"
          ]
        },
        {
          "output_type": "stream",
          "name": "stdout",
          "text": [
            "The similarity score between two audios is 0.0170 (-1.0, 1.0).\n"
          ]
        },
        {
          "output_type": "stream",
          "name": "stderr",
          "text": [
            "Using cache found in /root/.cache/torch/hub/s3prl_s3prl_main\n",
            "  6%|▋         | 13/200 [01:43<24:04,  7.73s/it]"
          ]
        },
        {
          "output_type": "stream",
          "name": "stdout",
          "text": [
            "The similarity score between two audios is 0.0174 (-1.0, 1.0).\n"
          ]
        },
        {
          "output_type": "stream",
          "name": "stderr",
          "text": [
            "Using cache found in /root/.cache/torch/hub/s3prl_s3prl_main\n",
            "  7%|▋         | 14/200 [01:51<24:28,  7.89s/it]"
          ]
        },
        {
          "output_type": "stream",
          "name": "stdout",
          "text": [
            "The similarity score between two audios is 0.1573 (-1.0, 1.0).\n"
          ]
        },
        {
          "output_type": "stream",
          "name": "stderr",
          "text": [
            "Using cache found in /root/.cache/torch/hub/s3prl_s3prl_main\n",
            "  8%|▊         | 15/200 [01:58<23:22,  7.58s/it]"
          ]
        },
        {
          "output_type": "stream",
          "name": "stdout",
          "text": [
            "The similarity score between two audios is 0.0575 (-1.0, 1.0).\n"
          ]
        },
        {
          "output_type": "stream",
          "name": "stderr",
          "text": [
            "Using cache found in /root/.cache/torch/hub/s3prl_s3prl_main\n",
            "  8%|▊         | 16/200 [02:06<23:37,  7.70s/it]"
          ]
        },
        {
          "output_type": "stream",
          "name": "stdout",
          "text": [
            "The similarity score between two audios is -0.0013 (-1.0, 1.0).\n"
          ]
        },
        {
          "output_type": "stream",
          "name": "stderr",
          "text": [
            "Using cache found in /root/.cache/torch/hub/s3prl_s3prl_main\n",
            "  8%|▊         | 17/200 [02:13<23:00,  7.54s/it]"
          ]
        },
        {
          "output_type": "stream",
          "name": "stdout",
          "text": [
            "The similarity score between two audios is 0.1103 (-1.0, 1.0).\n"
          ]
        },
        {
          "output_type": "stream",
          "name": "stderr",
          "text": [
            "Using cache found in /root/.cache/torch/hub/s3prl_s3prl_main\n",
            "  9%|▉         | 18/200 [02:23<24:39,  8.13s/it]"
          ]
        },
        {
          "output_type": "stream",
          "name": "stdout",
          "text": [
            "The similarity score between two audios is -0.0729 (-1.0, 1.0).\n"
          ]
        },
        {
          "output_type": "stream",
          "name": "stderr",
          "text": [
            "Using cache found in /root/.cache/torch/hub/s3prl_s3prl_main\n",
            " 10%|▉         | 19/200 [02:31<24:40,  8.18s/it]"
          ]
        },
        {
          "output_type": "stream",
          "name": "stdout",
          "text": [
            "The similarity score between two audios is -0.0020 (-1.0, 1.0).\n"
          ]
        },
        {
          "output_type": "stream",
          "name": "stderr",
          "text": [
            "Using cache found in /root/.cache/torch/hub/s3prl_s3prl_main\n",
            " 10%|█         | 20/200 [02:38<23:34,  7.86s/it]"
          ]
        },
        {
          "output_type": "stream",
          "name": "stdout",
          "text": [
            "The similarity score between two audios is 0.0924 (-1.0, 1.0).\n"
          ]
        },
        {
          "output_type": "stream",
          "name": "stderr",
          "text": [
            "Using cache found in /root/.cache/torch/hub/s3prl_s3prl_main\n",
            " 10%|█         | 21/200 [02:46<23:52,  8.01s/it]"
          ]
        },
        {
          "output_type": "stream",
          "name": "stdout",
          "text": [
            "The similarity score between two audios is -0.0624 (-1.0, 1.0).\n"
          ]
        },
        {
          "output_type": "stream",
          "name": "stderr",
          "text": [
            "Using cache found in /root/.cache/torch/hub/s3prl_s3prl_main\n",
            " 11%|█         | 22/200 [02:54<23:00,  7.76s/it]"
          ]
        },
        {
          "output_type": "stream",
          "name": "stdout",
          "text": [
            "The similarity score between two audios is -0.0423 (-1.0, 1.0).\n"
          ]
        },
        {
          "output_type": "stream",
          "name": "stderr",
          "text": [
            "Using cache found in /root/.cache/torch/hub/s3prl_s3prl_main\n",
            " 12%|█▏        | 23/200 [03:03<24:34,  8.33s/it]"
          ]
        },
        {
          "output_type": "stream",
          "name": "stdout",
          "text": [
            "The similarity score between two audios is -0.0308 (-1.0, 1.0).\n"
          ]
        },
        {
          "output_type": "stream",
          "name": "stderr",
          "text": [
            "Using cache found in /root/.cache/torch/hub/s3prl_s3prl_main\n",
            " 12%|█▏        | 24/200 [03:12<24:24,  8.32s/it]"
          ]
        },
        {
          "output_type": "stream",
          "name": "stdout",
          "text": [
            "The similarity score between two audios is 0.1190 (-1.0, 1.0).\n"
          ]
        },
        {
          "output_type": "stream",
          "name": "stderr",
          "text": [
            "Using cache found in /root/.cache/torch/hub/s3prl_s3prl_main\n",
            " 12%|█▎        | 25/200 [03:19<23:38,  8.11s/it]"
          ]
        },
        {
          "output_type": "stream",
          "name": "stdout",
          "text": [
            "The similarity score between two audios is 0.0445 (-1.0, 1.0).\n"
          ]
        },
        {
          "output_type": "stream",
          "name": "stderr",
          "text": [
            "Using cache found in /root/.cache/torch/hub/s3prl_s3prl_main\n",
            " 13%|█▎        | 26/200 [03:29<25:21,  8.75s/it]"
          ]
        },
        {
          "output_type": "stream",
          "name": "stdout",
          "text": [
            "The similarity score between two audios is 0.0457 (-1.0, 1.0).\n"
          ]
        },
        {
          "output_type": "stream",
          "name": "stderr",
          "text": [
            "Using cache found in /root/.cache/torch/hub/s3prl_s3prl_main\n",
            " 14%|█▎        | 27/200 [03:39<25:40,  8.90s/it]"
          ]
        },
        {
          "output_type": "stream",
          "name": "stdout",
          "text": [
            "The similarity score between two audios is 0.0816 (-1.0, 1.0).\n"
          ]
        },
        {
          "output_type": "stream",
          "name": "stderr",
          "text": [
            "Using cache found in /root/.cache/torch/hub/s3prl_s3prl_main\n",
            " 14%|█▍        | 28/200 [03:46<24:05,  8.40s/it]"
          ]
        },
        {
          "output_type": "stream",
          "name": "stdout",
          "text": [
            "The similarity score between two audios is 0.0082 (-1.0, 1.0).\n"
          ]
        },
        {
          "output_type": "stream",
          "name": "stderr",
          "text": [
            "Using cache found in /root/.cache/torch/hub/s3prl_s3prl_main\n",
            " 14%|█▍        | 29/200 [04:06<33:50, 11.87s/it]"
          ]
        },
        {
          "output_type": "stream",
          "name": "stdout",
          "text": [
            "The similarity score between two audios is 0.0675 (-1.0, 1.0).\n"
          ]
        },
        {
          "output_type": "stream",
          "name": "stderr",
          "text": [
            "Using cache found in /root/.cache/torch/hub/s3prl_s3prl_main\n",
            " 15%|█▌        | 30/200 [04:13<29:35, 10.45s/it]"
          ]
        },
        {
          "output_type": "stream",
          "name": "stdout",
          "text": [
            "The similarity score between two audios is 0.0492 (-1.0, 1.0).\n"
          ]
        },
        {
          "output_type": "stream",
          "name": "stderr",
          "text": [
            "Using cache found in /root/.cache/torch/hub/s3prl_s3prl_main\n",
            " 16%|█▌        | 31/200 [04:21<27:28,  9.76s/it]"
          ]
        },
        {
          "output_type": "stream",
          "name": "stdout",
          "text": [
            "The similarity score between two audios is -0.0171 (-1.0, 1.0).\n"
          ]
        },
        {
          "output_type": "stream",
          "name": "stderr",
          "text": [
            "Using cache found in /root/.cache/torch/hub/s3prl_s3prl_main\n",
            " 16%|█▌        | 32/200 [04:29<25:41,  9.18s/it]"
          ]
        },
        {
          "output_type": "stream",
          "name": "stdout",
          "text": [
            "The similarity score between two audios is 0.0167 (-1.0, 1.0).\n"
          ]
        },
        {
          "output_type": "stream",
          "name": "stderr",
          "text": [
            "Using cache found in /root/.cache/torch/hub/s3prl_s3prl_main\n",
            " 16%|█▋        | 33/200 [04:36<23:49,  8.56s/it]"
          ]
        },
        {
          "output_type": "stream",
          "name": "stdout",
          "text": [
            "The similarity score between two audios is 0.0967 (-1.0, 1.0).\n"
          ]
        },
        {
          "output_type": "stream",
          "name": "stderr",
          "text": [
            "Using cache found in /root/.cache/torch/hub/s3prl_s3prl_main\n",
            " 17%|█▋        | 34/200 [04:44<23:23,  8.46s/it]"
          ]
        },
        {
          "output_type": "stream",
          "name": "stdout",
          "text": [
            "The similarity score between two audios is -0.0525 (-1.0, 1.0).\n"
          ]
        },
        {
          "output_type": "stream",
          "name": "stderr",
          "text": [
            "Using cache found in /root/.cache/torch/hub/s3prl_s3prl_main\n",
            " 18%|█▊        | 35/200 [04:52<22:49,  8.30s/it]"
          ]
        },
        {
          "output_type": "stream",
          "name": "stdout",
          "text": [
            "The similarity score between two audios is 0.0012 (-1.0, 1.0).\n"
          ]
        },
        {
          "output_type": "stream",
          "name": "stderr",
          "text": [
            "Using cache found in /root/.cache/torch/hub/s3prl_s3prl_main\n",
            " 18%|█▊        | 36/200 [05:01<23:14,  8.50s/it]"
          ]
        },
        {
          "output_type": "stream",
          "name": "stdout",
          "text": [
            "The similarity score between two audios is 0.1289 (-1.0, 1.0).\n"
          ]
        },
        {
          "output_type": "stream",
          "name": "stderr",
          "text": [
            "Using cache found in /root/.cache/torch/hub/s3prl_s3prl_main\n",
            " 18%|█▊        | 37/200 [05:10<22:57,  8.45s/it]"
          ]
        },
        {
          "output_type": "stream",
          "name": "stdout",
          "text": [
            "The similarity score between two audios is 0.1338 (-1.0, 1.0).\n"
          ]
        },
        {
          "output_type": "stream",
          "name": "stderr",
          "text": [
            "Using cache found in /root/.cache/torch/hub/s3prl_s3prl_main\n",
            " 19%|█▉        | 38/200 [05:17<21:47,  8.07s/it]"
          ]
        },
        {
          "output_type": "stream",
          "name": "stdout",
          "text": [
            "The similarity score between two audios is -0.2035 (-1.0, 1.0).\n"
          ]
        },
        {
          "output_type": "stream",
          "name": "stderr",
          "text": [
            "Using cache found in /root/.cache/torch/hub/s3prl_s3prl_main\n",
            " 20%|█▉        | 39/200 [05:26<22:58,  8.57s/it]"
          ]
        },
        {
          "output_type": "stream",
          "name": "stdout",
          "text": [
            "The similarity score between two audios is 0.0202 (-1.0, 1.0).\n"
          ]
        },
        {
          "output_type": "stream",
          "name": "stderr",
          "text": [
            "Using cache found in /root/.cache/torch/hub/s3prl_s3prl_main\n",
            " 20%|██        | 40/200 [05:34<21:44,  8.15s/it]"
          ]
        },
        {
          "output_type": "stream",
          "name": "stdout",
          "text": [
            "The similarity score between two audios is -0.0009 (-1.0, 1.0).\n"
          ]
        },
        {
          "output_type": "stream",
          "name": "stderr",
          "text": [
            "Using cache found in /root/.cache/torch/hub/s3prl_s3prl_main\n",
            " 20%|██        | 41/200 [05:41<20:59,  7.92s/it]"
          ]
        },
        {
          "output_type": "stream",
          "name": "stdout",
          "text": [
            "The similarity score between two audios is -0.0969 (-1.0, 1.0).\n"
          ]
        },
        {
          "output_type": "stream",
          "name": "stderr",
          "text": [
            "Using cache found in /root/.cache/torch/hub/s3prl_s3prl_main\n",
            " 21%|██        | 42/200 [05:49<20:44,  7.87s/it]"
          ]
        },
        {
          "output_type": "stream",
          "name": "stdout",
          "text": [
            "The similarity score between two audios is -0.0634 (-1.0, 1.0).\n"
          ]
        },
        {
          "output_type": "stream",
          "name": "stderr",
          "text": [
            "Using cache found in /root/.cache/torch/hub/s3prl_s3prl_main\n",
            " 22%|██▏       | 43/200 [05:56<20:00,  7.65s/it]"
          ]
        },
        {
          "output_type": "stream",
          "name": "stdout",
          "text": [
            "The similarity score between two audios is -0.1199 (-1.0, 1.0).\n"
          ]
        },
        {
          "output_type": "stream",
          "name": "stderr",
          "text": [
            "Using cache found in /root/.cache/torch/hub/s3prl_s3prl_main\n",
            " 22%|██▏       | 44/200 [06:04<20:13,  7.78s/it]"
          ]
        },
        {
          "output_type": "stream",
          "name": "stdout",
          "text": [
            "The similarity score between two audios is -0.0583 (-1.0, 1.0).\n"
          ]
        },
        {
          "output_type": "stream",
          "name": "stderr",
          "text": [
            "Using cache found in /root/.cache/torch/hub/s3prl_s3prl_main\n",
            " 22%|██▎       | 45/200 [06:11<19:33,  7.57s/it]"
          ]
        },
        {
          "output_type": "stream",
          "name": "stdout",
          "text": [
            "The similarity score between two audios is -0.0353 (-1.0, 1.0).\n"
          ]
        },
        {
          "output_type": "stream",
          "name": "stderr",
          "text": [
            "Using cache found in /root/.cache/torch/hub/s3prl_s3prl_main\n",
            " 23%|██▎       | 46/200 [06:19<19:20,  7.53s/it]"
          ]
        },
        {
          "output_type": "stream",
          "name": "stdout",
          "text": [
            "The similarity score between two audios is 0.0238 (-1.0, 1.0).\n"
          ]
        },
        {
          "output_type": "stream",
          "name": "stderr",
          "text": [
            "Using cache found in /root/.cache/torch/hub/s3prl_s3prl_main\n",
            " 24%|██▎       | 47/200 [06:27<20:07,  7.89s/it]"
          ]
        },
        {
          "output_type": "stream",
          "name": "stdout",
          "text": [
            "The similarity score between two audios is 0.0662 (-1.0, 1.0).\n"
          ]
        },
        {
          "output_type": "stream",
          "name": "stderr",
          "text": [
            "Using cache found in /root/.cache/torch/hub/s3prl_s3prl_main\n",
            " 24%|██▍       | 48/200 [06:34<19:07,  7.55s/it]"
          ]
        },
        {
          "output_type": "stream",
          "name": "stdout",
          "text": [
            "The similarity score between two audios is 0.0137 (-1.0, 1.0).\n"
          ]
        },
        {
          "output_type": "stream",
          "name": "stderr",
          "text": [
            "Using cache found in /root/.cache/torch/hub/s3prl_s3prl_main\n",
            " 24%|██▍       | 49/200 [06:42<19:34,  7.78s/it]"
          ]
        },
        {
          "output_type": "stream",
          "name": "stdout",
          "text": [
            "The similarity score between two audios is -0.1356 (-1.0, 1.0).\n"
          ]
        },
        {
          "output_type": "stream",
          "name": "stderr",
          "text": [
            "Using cache found in /root/.cache/torch/hub/s3prl_s3prl_main\n",
            " 25%|██▌       | 50/200 [06:49<18:56,  7.58s/it]"
          ]
        },
        {
          "output_type": "stream",
          "name": "stdout",
          "text": [
            "The similarity score between two audios is 0.1139 (-1.0, 1.0).\n"
          ]
        },
        {
          "output_type": "stream",
          "name": "stderr",
          "text": [
            "Using cache found in /root/.cache/torch/hub/s3prl_s3prl_main\n",
            " 26%|██▌       | 51/200 [06:57<19:03,  7.68s/it]"
          ]
        },
        {
          "output_type": "stream",
          "name": "stdout",
          "text": [
            "The similarity score between two audios is -0.0026 (-1.0, 1.0).\n"
          ]
        },
        {
          "output_type": "stream",
          "name": "stderr",
          "text": [
            "Using cache found in /root/.cache/torch/hub/s3prl_s3prl_main\n",
            " 26%|██▌       | 52/200 [07:05<18:55,  7.67s/it]"
          ]
        },
        {
          "output_type": "stream",
          "name": "stdout",
          "text": [
            "The similarity score between two audios is 0.0341 (-1.0, 1.0).\n"
          ]
        },
        {
          "output_type": "stream",
          "name": "stderr",
          "text": [
            "Using cache found in /root/.cache/torch/hub/s3prl_s3prl_main\n",
            " 26%|██▋       | 53/200 [07:12<18:11,  7.42s/it]"
          ]
        },
        {
          "output_type": "stream",
          "name": "stdout",
          "text": [
            "The similarity score between two audios is -0.0376 (-1.0, 1.0).\n"
          ]
        },
        {
          "output_type": "stream",
          "name": "stderr",
          "text": [
            "Using cache found in /root/.cache/torch/hub/s3prl_s3prl_main\n",
            " 27%|██▋       | 54/200 [07:20<18:18,  7.53s/it]"
          ]
        },
        {
          "output_type": "stream",
          "name": "stdout",
          "text": [
            "The similarity score between two audios is 0.0113 (-1.0, 1.0).\n"
          ]
        },
        {
          "output_type": "stream",
          "name": "stderr",
          "text": [
            "Using cache found in /root/.cache/torch/hub/s3prl_s3prl_main\n",
            " 28%|██▊       | 55/200 [07:26<17:37,  7.29s/it]"
          ]
        },
        {
          "output_type": "stream",
          "name": "stdout",
          "text": [
            "The similarity score between two audios is 0.0751 (-1.0, 1.0).\n"
          ]
        },
        {
          "output_type": "stream",
          "name": "stderr",
          "text": [
            "Using cache found in /root/.cache/torch/hub/s3prl_s3prl_main\n",
            " 28%|██▊       | 56/200 [07:35<18:24,  7.67s/it]"
          ]
        },
        {
          "output_type": "stream",
          "name": "stdout",
          "text": [
            "The similarity score between two audios is 0.0234 (-1.0, 1.0).\n"
          ]
        },
        {
          "output_type": "stream",
          "name": "stderr",
          "text": [
            "Using cache found in /root/.cache/torch/hub/s3prl_s3prl_main\n",
            " 28%|██▊       | 57/200 [07:43<18:41,  7.84s/it]"
          ]
        },
        {
          "output_type": "stream",
          "name": "stdout",
          "text": [
            "The similarity score between two audios is 0.1753 (-1.0, 1.0).\n"
          ]
        },
        {
          "output_type": "stream",
          "name": "stderr",
          "text": [
            "Using cache found in /root/.cache/torch/hub/s3prl_s3prl_main\n",
            " 29%|██▉       | 58/200 [07:50<18:11,  7.69s/it]"
          ]
        },
        {
          "output_type": "stream",
          "name": "stdout",
          "text": [
            "The similarity score between two audios is 0.0365 (-1.0, 1.0).\n"
          ]
        },
        {
          "output_type": "stream",
          "name": "stderr",
          "text": [
            "Using cache found in /root/.cache/torch/hub/s3prl_s3prl_main\n",
            " 30%|██▉       | 59/200 [07:58<18:19,  7.80s/it]"
          ]
        },
        {
          "output_type": "stream",
          "name": "stdout",
          "text": [
            "The similarity score between two audios is 0.0449 (-1.0, 1.0).\n"
          ]
        },
        {
          "output_type": "stream",
          "name": "stderr",
          "text": [
            "Using cache found in /root/.cache/torch/hub/s3prl_s3prl_main\n",
            " 30%|███       | 60/200 [08:06<17:51,  7.66s/it]"
          ]
        },
        {
          "output_type": "stream",
          "name": "stdout",
          "text": [
            "The similarity score between two audios is -0.0614 (-1.0, 1.0).\n"
          ]
        },
        {
          "output_type": "stream",
          "name": "stderr",
          "text": [
            "Using cache found in /root/.cache/torch/hub/s3prl_s3prl_main\n",
            " 30%|███       | 61/200 [08:15<18:28,  7.98s/it]"
          ]
        },
        {
          "output_type": "stream",
          "name": "stdout",
          "text": [
            "The similarity score between two audios is -0.0196 (-1.0, 1.0).\n"
          ]
        },
        {
          "output_type": "stream",
          "name": "stderr",
          "text": [
            "Using cache found in /root/.cache/torch/hub/s3prl_s3prl_main\n",
            " 31%|███       | 62/200 [08:22<17:42,  7.70s/it]"
          ]
        },
        {
          "output_type": "stream",
          "name": "stdout",
          "text": [
            "The similarity score between two audios is 0.0811 (-1.0, 1.0).\n"
          ]
        },
        {
          "output_type": "stream",
          "name": "stderr",
          "text": [
            "Using cache found in /root/.cache/torch/hub/s3prl_s3prl_main\n",
            " 32%|███▏      | 63/200 [08:29<17:14,  7.55s/it]"
          ]
        },
        {
          "output_type": "stream",
          "name": "stdout",
          "text": [
            "The similarity score between two audios is 0.1851 (-1.0, 1.0).\n"
          ]
        },
        {
          "output_type": "stream",
          "name": "stderr",
          "text": [
            "Using cache found in /root/.cache/torch/hub/s3prl_s3prl_main\n",
            " 32%|███▏      | 64/200 [08:37<17:28,  7.71s/it]"
          ]
        },
        {
          "output_type": "stream",
          "name": "stdout",
          "text": [
            "The similarity score between two audios is 0.1022 (-1.0, 1.0).\n"
          ]
        },
        {
          "output_type": "stream",
          "name": "stderr",
          "text": [
            "Using cache found in /root/.cache/torch/hub/s3prl_s3prl_main\n",
            " 32%|███▎      | 65/200 [08:44<17:01,  7.56s/it]"
          ]
        },
        {
          "output_type": "stream",
          "name": "stdout",
          "text": [
            "The similarity score between two audios is 0.0358 (-1.0, 1.0).\n"
          ]
        },
        {
          "output_type": "stream",
          "name": "stderr",
          "text": [
            "Using cache found in /root/.cache/torch/hub/s3prl_s3prl_main\n",
            " 33%|███▎      | 66/200 [08:53<17:27,  7.82s/it]"
          ]
        },
        {
          "output_type": "stream",
          "name": "stdout",
          "text": [
            "The similarity score between two audios is 0.0602 (-1.0, 1.0).\n"
          ]
        },
        {
          "output_type": "stream",
          "name": "stderr",
          "text": [
            "Using cache found in /root/.cache/torch/hub/s3prl_s3prl_main\n",
            " 34%|███▎      | 67/200 [09:00<17:17,  7.80s/it]"
          ]
        },
        {
          "output_type": "stream",
          "name": "stdout",
          "text": [
            "The similarity score between two audios is 0.0123 (-1.0, 1.0).\n"
          ]
        },
        {
          "output_type": "stream",
          "name": "stderr",
          "text": [
            "Using cache found in /root/.cache/torch/hub/s3prl_s3prl_main\n",
            " 34%|███▍      | 68/200 [09:08<16:51,  7.67s/it]"
          ]
        },
        {
          "output_type": "stream",
          "name": "stdout",
          "text": [
            "The similarity score between two audios is -0.0123 (-1.0, 1.0).\n"
          ]
        },
        {
          "output_type": "stream",
          "name": "stderr",
          "text": [
            "Using cache found in /root/.cache/torch/hub/s3prl_s3prl_main\n",
            " 34%|███▍      | 69/200 [09:16<17:10,  7.86s/it]"
          ]
        },
        {
          "output_type": "stream",
          "name": "stdout",
          "text": [
            "The similarity score between two audios is 0.0217 (-1.0, 1.0).\n"
          ]
        },
        {
          "output_type": "stream",
          "name": "stderr",
          "text": [
            "Using cache found in /root/.cache/torch/hub/s3prl_s3prl_main\n",
            " 35%|███▌      | 70/200 [09:23<16:16,  7.51s/it]"
          ]
        },
        {
          "output_type": "stream",
          "name": "stdout",
          "text": [
            "The similarity score between two audios is 0.0308 (-1.0, 1.0).\n"
          ]
        },
        {
          "output_type": "stream",
          "name": "stderr",
          "text": [
            "Using cache found in /root/.cache/torch/hub/s3prl_s3prl_main\n",
            " 36%|███▌      | 71/200 [09:31<16:43,  7.78s/it]"
          ]
        },
        {
          "output_type": "stream",
          "name": "stdout",
          "text": [
            "The similarity score between two audios is 0.1111 (-1.0, 1.0).\n"
          ]
        },
        {
          "output_type": "stream",
          "name": "stderr",
          "text": [
            "Using cache found in /root/.cache/torch/hub/s3prl_s3prl_main\n",
            " 36%|███▌      | 72/200 [09:38<15:57,  7.48s/it]"
          ]
        },
        {
          "output_type": "stream",
          "name": "stdout",
          "text": [
            "The similarity score between two audios is 0.0294 (-1.0, 1.0).\n"
          ]
        },
        {
          "output_type": "stream",
          "name": "stderr",
          "text": [
            "Using cache found in /root/.cache/torch/hub/s3prl_s3prl_main\n",
            " 36%|███▋      | 73/200 [09:46<16:06,  7.61s/it]"
          ]
        },
        {
          "output_type": "stream",
          "name": "stdout",
          "text": [
            "The similarity score between two audios is 0.0844 (-1.0, 1.0).\n"
          ]
        },
        {
          "output_type": "stream",
          "name": "stderr",
          "text": [
            "Using cache found in /root/.cache/torch/hub/s3prl_s3prl_main\n",
            " 37%|███▋      | 74/200 [09:54<16:14,  7.73s/it]"
          ]
        },
        {
          "output_type": "stream",
          "name": "stdout",
          "text": [
            "The similarity score between two audios is 0.0377 (-1.0, 1.0).\n"
          ]
        },
        {
          "output_type": "stream",
          "name": "stderr",
          "text": [
            "Using cache found in /root/.cache/torch/hub/s3prl_s3prl_main\n",
            " 38%|███▊      | 75/200 [10:01<15:47,  7.58s/it]"
          ]
        },
        {
          "output_type": "stream",
          "name": "stdout",
          "text": [
            "The similarity score between two audios is 0.0067 (-1.0, 1.0).\n"
          ]
        },
        {
          "output_type": "stream",
          "name": "stderr",
          "text": [
            "Using cache found in /root/.cache/torch/hub/s3prl_s3prl_main\n",
            " 38%|███▊      | 76/200 [10:09<16:08,  7.81s/it]"
          ]
        },
        {
          "output_type": "stream",
          "name": "stdout",
          "text": [
            "The similarity score between two audios is 0.0724 (-1.0, 1.0).\n"
          ]
        },
        {
          "output_type": "stream",
          "name": "stderr",
          "text": [
            "Using cache found in /root/.cache/torch/hub/s3prl_s3prl_main\n",
            " 38%|███▊      | 77/200 [10:17<15:40,  7.65s/it]"
          ]
        },
        {
          "output_type": "stream",
          "name": "stdout",
          "text": [
            "The similarity score between two audios is 0.0273 (-1.0, 1.0).\n"
          ]
        },
        {
          "output_type": "stream",
          "name": "stderr",
          "text": [
            "Using cache found in /root/.cache/torch/hub/s3prl_s3prl_main\n",
            " 39%|███▉      | 78/200 [10:24<15:39,  7.70s/it]"
          ]
        },
        {
          "output_type": "stream",
          "name": "stdout",
          "text": [
            "The similarity score between two audios is -0.0640 (-1.0, 1.0).\n"
          ]
        },
        {
          "output_type": "stream",
          "name": "stderr",
          "text": [
            "Using cache found in /root/.cache/torch/hub/s3prl_s3prl_main\n",
            " 40%|███▉      | 79/200 [10:32<15:19,  7.60s/it]"
          ]
        },
        {
          "output_type": "stream",
          "name": "stdout",
          "text": [
            "The similarity score between two audios is 0.1439 (-1.0, 1.0).\n"
          ]
        },
        {
          "output_type": "stream",
          "name": "stderr",
          "text": [
            "Using cache found in /root/.cache/torch/hub/s3prl_s3prl_main\n",
            " 40%|████      | 80/200 [10:39<15:02,  7.52s/it]"
          ]
        },
        {
          "output_type": "stream",
          "name": "stdout",
          "text": [
            "The similarity score between two audios is 0.1102 (-1.0, 1.0).\n"
          ]
        },
        {
          "output_type": "stream",
          "name": "stderr",
          "text": [
            "Using cache found in /root/.cache/torch/hub/s3prl_s3prl_main\n",
            " 40%|████      | 81/200 [10:47<15:25,  7.77s/it]"
          ]
        },
        {
          "output_type": "stream",
          "name": "stdout",
          "text": [
            "The similarity score between two audios is -0.0205 (-1.0, 1.0).\n"
          ]
        },
        {
          "output_type": "stream",
          "name": "stderr",
          "text": [
            "Using cache found in /root/.cache/torch/hub/s3prl_s3prl_main\n",
            " 41%|████      | 82/200 [10:54<14:40,  7.46s/it]"
          ]
        },
        {
          "output_type": "stream",
          "name": "stdout",
          "text": [
            "The similarity score between two audios is 0.1213 (-1.0, 1.0).\n"
          ]
        },
        {
          "output_type": "stream",
          "name": "stderr",
          "text": [
            "Using cache found in /root/.cache/torch/hub/s3prl_s3prl_main\n",
            " 42%|████▏     | 83/200 [11:03<15:17,  7.84s/it]"
          ]
        },
        {
          "output_type": "stream",
          "name": "stdout",
          "text": [
            "The similarity score between two audios is 0.1365 (-1.0, 1.0).\n"
          ]
        },
        {
          "output_type": "stream",
          "name": "stderr",
          "text": [
            "Using cache found in /root/.cache/torch/hub/s3prl_s3prl_main\n",
            " 42%|████▏     | 84/200 [11:10<14:43,  7.61s/it]"
          ]
        },
        {
          "output_type": "stream",
          "name": "stdout",
          "text": [
            "The similarity score between two audios is 0.0104 (-1.0, 1.0).\n"
          ]
        },
        {
          "output_type": "stream",
          "name": "stderr",
          "text": [
            "Using cache found in /root/.cache/torch/hub/s3prl_s3prl_main\n",
            " 42%|████▎     | 85/200 [11:17<14:18,  7.47s/it]"
          ]
        },
        {
          "output_type": "stream",
          "name": "stdout",
          "text": [
            "The similarity score between two audios is -0.0651 (-1.0, 1.0).\n"
          ]
        },
        {
          "output_type": "stream",
          "name": "stderr",
          "text": [
            "Using cache found in /root/.cache/torch/hub/s3prl_s3prl_main\n",
            " 43%|████▎     | 86/200 [11:25<14:35,  7.68s/it]"
          ]
        },
        {
          "output_type": "stream",
          "name": "stdout",
          "text": [
            "The similarity score between two audios is 0.1494 (-1.0, 1.0).\n"
          ]
        },
        {
          "output_type": "stream",
          "name": "stderr",
          "text": [
            "Using cache found in /root/.cache/torch/hub/s3prl_s3prl_main\n",
            " 44%|████▎     | 87/200 [11:32<13:58,  7.42s/it]"
          ]
        },
        {
          "output_type": "stream",
          "name": "stdout",
          "text": [
            "The similarity score between two audios is -0.0096 (-1.0, 1.0).\n"
          ]
        },
        {
          "output_type": "stream",
          "name": "stderr",
          "text": [
            "Using cache found in /root/.cache/torch/hub/s3prl_s3prl_main\n",
            " 44%|████▍     | 88/200 [11:41<14:27,  7.75s/it]"
          ]
        },
        {
          "output_type": "stream",
          "name": "stdout",
          "text": [
            "The similarity score between two audios is 0.0311 (-1.0, 1.0).\n"
          ]
        },
        {
          "output_type": "stream",
          "name": "stderr",
          "text": [
            "Using cache found in /root/.cache/torch/hub/s3prl_s3prl_main\n",
            " 44%|████▍     | 89/200 [11:48<14:04,  7.61s/it]"
          ]
        },
        {
          "output_type": "stream",
          "name": "stdout",
          "text": [
            "The similarity score between two audios is 0.0639 (-1.0, 1.0).\n"
          ]
        },
        {
          "output_type": "stream",
          "name": "stderr",
          "text": [
            "Using cache found in /root/.cache/torch/hub/s3prl_s3prl_main\n",
            " 45%|████▌     | 90/200 [11:55<13:48,  7.53s/it]"
          ]
        },
        {
          "output_type": "stream",
          "name": "stdout",
          "text": [
            "The similarity score between two audios is -0.0288 (-1.0, 1.0).\n"
          ]
        },
        {
          "output_type": "stream",
          "name": "stderr",
          "text": [
            "Using cache found in /root/.cache/torch/hub/s3prl_s3prl_main\n",
            " 46%|████▌     | 91/200 [12:03<13:46,  7.58s/it]"
          ]
        },
        {
          "output_type": "stream",
          "name": "stdout",
          "text": [
            "The similarity score between two audios is 0.0695 (-1.0, 1.0).\n"
          ]
        },
        {
          "output_type": "stream",
          "name": "stderr",
          "text": [
            "Using cache found in /root/.cache/torch/hub/s3prl_s3prl_main\n",
            " 46%|████▌     | 92/200 [12:10<13:07,  7.30s/it]"
          ]
        },
        {
          "output_type": "stream",
          "name": "stdout",
          "text": [
            "The similarity score between two audios is 0.2351 (-1.0, 1.0).\n"
          ]
        },
        {
          "output_type": "stream",
          "name": "stderr",
          "text": [
            "Using cache found in /root/.cache/torch/hub/s3prl_s3prl_main\n",
            " 46%|████▋     | 93/200 [12:18<13:19,  7.47s/it]"
          ]
        },
        {
          "output_type": "stream",
          "name": "stdout",
          "text": [
            "The similarity score between two audios is 0.1407 (-1.0, 1.0).\n"
          ]
        },
        {
          "output_type": "stream",
          "name": "stderr",
          "text": [
            "Using cache found in /root/.cache/torch/hub/s3prl_s3prl_main\n",
            " 47%|████▋     | 94/200 [12:25<13:02,  7.39s/it]"
          ]
        },
        {
          "output_type": "stream",
          "name": "stdout",
          "text": [
            "The similarity score between two audios is -0.0384 (-1.0, 1.0).\n"
          ]
        },
        {
          "output_type": "stream",
          "name": "stderr",
          "text": [
            "Using cache found in /root/.cache/torch/hub/s3prl_s3prl_main\n",
            " 48%|████▊     | 95/200 [12:33<13:19,  7.61s/it]"
          ]
        },
        {
          "output_type": "stream",
          "name": "stdout",
          "text": [
            "The similarity score between two audios is -0.0812 (-1.0, 1.0).\n"
          ]
        },
        {
          "output_type": "stream",
          "name": "stderr",
          "text": [
            "Using cache found in /root/.cache/torch/hub/s3prl_s3prl_main\n",
            " 48%|████▊     | 96/200 [12:40<13:11,  7.62s/it]"
          ]
        },
        {
          "output_type": "stream",
          "name": "stdout",
          "text": [
            "The similarity score between two audios is -0.0810 (-1.0, 1.0).\n"
          ]
        },
        {
          "output_type": "stream",
          "name": "stderr",
          "text": [
            "Using cache found in /root/.cache/torch/hub/s3prl_s3prl_main\n",
            " 48%|████▊     | 97/200 [12:47<12:44,  7.42s/it]"
          ]
        },
        {
          "output_type": "stream",
          "name": "stdout",
          "text": [
            "The similarity score between two audios is -0.0905 (-1.0, 1.0).\n"
          ]
        },
        {
          "output_type": "stream",
          "name": "stderr",
          "text": [
            "Using cache found in /root/.cache/torch/hub/s3prl_s3prl_main\n",
            " 49%|████▉     | 98/200 [12:56<13:02,  7.67s/it]"
          ]
        },
        {
          "output_type": "stream",
          "name": "stdout",
          "text": [
            "The similarity score between two audios is -0.0576 (-1.0, 1.0).\n"
          ]
        },
        {
          "output_type": "stream",
          "name": "stderr",
          "text": [
            "Using cache found in /root/.cache/torch/hub/s3prl_s3prl_main\n",
            " 50%|████▉     | 99/200 [13:02<12:27,  7.40s/it]"
          ]
        },
        {
          "output_type": "stream",
          "name": "stdout",
          "text": [
            "The similarity score between two audios is -0.0860 (-1.0, 1.0).\n"
          ]
        },
        {
          "output_type": "stream",
          "name": "stderr",
          "text": [
            "Using cache found in /root/.cache/torch/hub/s3prl_s3prl_main\n",
            " 50%|█████     | 100/200 [13:11<13:07,  7.87s/it]"
          ]
        },
        {
          "output_type": "stream",
          "name": "stdout",
          "text": [
            "The similarity score between two audios is 0.1081 (-1.0, 1.0).\n"
          ]
        },
        {
          "output_type": "stream",
          "name": "stderr",
          "text": [
            "Using cache found in /root/.cache/torch/hub/s3prl_s3prl_main\n",
            " 50%|█████     | 101/200 [13:18<12:26,  7.54s/it]"
          ]
        },
        {
          "output_type": "stream",
          "name": "stdout",
          "text": [
            "The similarity score between two audios is -0.2149 (-1.0, 1.0).\n"
          ]
        },
        {
          "output_type": "stream",
          "name": "stderr",
          "text": [
            "Using cache found in /root/.cache/torch/hub/s3prl_s3prl_main\n",
            " 51%|█████     | 102/200 [13:26<12:18,  7.54s/it]"
          ]
        },
        {
          "output_type": "stream",
          "name": "stdout",
          "text": [
            "The similarity score between two audios is 0.5348 (-1.0, 1.0).\n"
          ]
        },
        {
          "output_type": "stream",
          "name": "stderr",
          "text": [
            "Using cache found in /root/.cache/torch/hub/s3prl_s3prl_main\n",
            " 52%|█████▏    | 103/200 [13:33<12:13,  7.56s/it]"
          ]
        },
        {
          "output_type": "stream",
          "name": "stdout",
          "text": [
            "The similarity score between two audios is 0.3678 (-1.0, 1.0).\n"
          ]
        },
        {
          "output_type": "stream",
          "name": "stderr",
          "text": [
            "Using cache found in /root/.cache/torch/hub/s3prl_s3prl_main\n",
            " 52%|█████▏    | 104/200 [13:40<11:53,  7.43s/it]"
          ]
        },
        {
          "output_type": "stream",
          "name": "stdout",
          "text": [
            "The similarity score between two audios is 0.8285 (-1.0, 1.0).\n"
          ]
        },
        {
          "output_type": "stream",
          "name": "stderr",
          "text": [
            "Using cache found in /root/.cache/torch/hub/s3prl_s3prl_main\n",
            " 52%|█████▎    | 105/200 [13:49<12:09,  7.68s/it]"
          ]
        },
        {
          "output_type": "stream",
          "name": "stdout",
          "text": [
            "The similarity score between two audios is 0.4561 (-1.0, 1.0).\n"
          ]
        },
        {
          "output_type": "stream",
          "name": "stderr",
          "text": [
            "Using cache found in /root/.cache/torch/hub/s3prl_s3prl_main\n",
            " 53%|█████▎    | 106/200 [13:56<11:37,  7.42s/it]"
          ]
        },
        {
          "output_type": "stream",
          "name": "stdout",
          "text": [
            "The similarity score between two audios is 0.4389 (-1.0, 1.0).\n"
          ]
        },
        {
          "output_type": "stream",
          "name": "stderr",
          "text": [
            "Using cache found in /root/.cache/torch/hub/s3prl_s3prl_main\n",
            " 54%|█████▎    | 107/200 [14:04<11:56,  7.70s/it]"
          ]
        },
        {
          "output_type": "stream",
          "name": "stdout",
          "text": [
            "The similarity score between two audios is 0.4073 (-1.0, 1.0).\n"
          ]
        },
        {
          "output_type": "stream",
          "name": "stderr",
          "text": [
            "Using cache found in /root/.cache/torch/hub/s3prl_s3prl_main\n",
            " 54%|█████▍    | 108/200 [14:12<11:46,  7.68s/it]"
          ]
        },
        {
          "output_type": "stream",
          "name": "stdout",
          "text": [
            "The similarity score between two audios is 0.8243 (-1.0, 1.0).\n"
          ]
        },
        {
          "output_type": "stream",
          "name": "stderr",
          "text": [
            "Using cache found in /root/.cache/torch/hub/s3prl_s3prl_main\n",
            " 55%|█████▍    | 109/200 [14:19<11:21,  7.49s/it]"
          ]
        },
        {
          "output_type": "stream",
          "name": "stdout",
          "text": [
            "The similarity score between two audios is 0.4362 (-1.0, 1.0).\n"
          ]
        },
        {
          "output_type": "stream",
          "name": "stderr",
          "text": [
            "Using cache found in /root/.cache/torch/hub/s3prl_s3prl_main\n",
            " 55%|█████▌    | 110/200 [14:27<11:34,  7.71s/it]"
          ]
        },
        {
          "output_type": "stream",
          "name": "stdout",
          "text": [
            "The similarity score between two audios is 0.5085 (-1.0, 1.0).\n"
          ]
        },
        {
          "output_type": "stream",
          "name": "stderr",
          "text": [
            "Using cache found in /root/.cache/torch/hub/s3prl_s3prl_main\n",
            " 56%|█████▌    | 111/200 [14:34<11:12,  7.56s/it]"
          ]
        },
        {
          "output_type": "stream",
          "name": "stdout",
          "text": [
            "The similarity score between two audios is 0.6223 (-1.0, 1.0).\n"
          ]
        },
        {
          "output_type": "stream",
          "name": "stderr",
          "text": [
            "Using cache found in /root/.cache/torch/hub/s3prl_s3prl_main\n",
            " 56%|█████▌    | 112/200 [14:42<11:18,  7.71s/it]"
          ]
        },
        {
          "output_type": "stream",
          "name": "stdout",
          "text": [
            "The similarity score between two audios is 0.7518 (-1.0, 1.0).\n"
          ]
        },
        {
          "output_type": "stream",
          "name": "stderr",
          "text": [
            "Using cache found in /root/.cache/torch/hub/s3prl_s3prl_main\n",
            " 56%|█████▋    | 113/200 [14:49<11:02,  7.62s/it]"
          ]
        },
        {
          "output_type": "stream",
          "name": "stdout",
          "text": [
            "The similarity score between two audios is 0.4608 (-1.0, 1.0).\n"
          ]
        },
        {
          "output_type": "stream",
          "name": "stderr",
          "text": [
            "Using cache found in /root/.cache/torch/hub/s3prl_s3prl_main\n",
            " 57%|█████▋    | 114/200 [14:57<10:44,  7.49s/it]"
          ]
        },
        {
          "output_type": "stream",
          "name": "stdout",
          "text": [
            "The similarity score between two audios is 0.6459 (-1.0, 1.0).\n"
          ]
        },
        {
          "output_type": "stream",
          "name": "stderr",
          "text": [
            "Using cache found in /root/.cache/torch/hub/s3prl_s3prl_main\n",
            " 57%|█████▊    | 115/200 [15:05<10:49,  7.64s/it]"
          ]
        },
        {
          "output_type": "stream",
          "name": "stdout",
          "text": [
            "The similarity score between two audios is 0.7463 (-1.0, 1.0).\n"
          ]
        },
        {
          "output_type": "stream",
          "name": "stderr",
          "text": [
            "Using cache found in /root/.cache/torch/hub/s3prl_s3prl_main\n",
            " 58%|█████▊    | 116/200 [15:11<10:18,  7.37s/it]"
          ]
        },
        {
          "output_type": "stream",
          "name": "stdout",
          "text": [
            "The similarity score between two audios is 0.5587 (-1.0, 1.0).\n"
          ]
        },
        {
          "output_type": "stream",
          "name": "stderr",
          "text": [
            "Using cache found in /root/.cache/torch/hub/s3prl_s3prl_main\n",
            " 58%|█████▊    | 117/200 [15:19<10:23,  7.51s/it]"
          ]
        },
        {
          "output_type": "stream",
          "name": "stdout",
          "text": [
            "The similarity score between two audios is 0.5467 (-1.0, 1.0).\n"
          ]
        },
        {
          "output_type": "stream",
          "name": "stderr",
          "text": [
            "Using cache found in /root/.cache/torch/hub/s3prl_s3prl_main\n",
            " 59%|█████▉    | 118/200 [15:26<09:54,  7.25s/it]"
          ]
        },
        {
          "output_type": "stream",
          "name": "stdout",
          "text": [
            "The similarity score between two audios is 0.8253 (-1.0, 1.0).\n"
          ]
        },
        {
          "output_type": "stream",
          "name": "stderr",
          "text": [
            "Using cache found in /root/.cache/torch/hub/s3prl_s3prl_main\n",
            " 60%|█████▉    | 119/200 [15:34<10:09,  7.52s/it]"
          ]
        },
        {
          "output_type": "stream",
          "name": "stdout",
          "text": [
            "The similarity score between two audios is 0.8285 (-1.0, 1.0).\n"
          ]
        },
        {
          "output_type": "stream",
          "name": "stderr",
          "text": [
            "Using cache found in /root/.cache/torch/hub/s3prl_s3prl_main\n",
            " 60%|██████    | 120/200 [15:41<09:58,  7.48s/it]"
          ]
        },
        {
          "output_type": "stream",
          "name": "stdout",
          "text": [
            "The similarity score between two audios is 0.4066 (-1.0, 1.0).\n"
          ]
        },
        {
          "output_type": "stream",
          "name": "stderr",
          "text": [
            "Using cache found in /root/.cache/torch/hub/s3prl_s3prl_main\n",
            " 60%|██████    | 121/200 [15:48<09:41,  7.36s/it]"
          ]
        },
        {
          "output_type": "stream",
          "name": "stdout",
          "text": [
            "The similarity score between two audios is 0.6204 (-1.0, 1.0).\n"
          ]
        },
        {
          "output_type": "stream",
          "name": "stderr",
          "text": [
            "Using cache found in /root/.cache/torch/hub/s3prl_s3prl_main\n",
            " 61%|██████    | 122/200 [15:56<09:39,  7.43s/it]"
          ]
        },
        {
          "output_type": "stream",
          "name": "stdout",
          "text": [
            "The similarity score between two audios is 0.5271 (-1.0, 1.0).\n"
          ]
        },
        {
          "output_type": "stream",
          "name": "stderr",
          "text": [
            "Using cache found in /root/.cache/torch/hub/s3prl_s3prl_main\n",
            " 62%|██████▏   | 123/200 [16:04<09:32,  7.44s/it]"
          ]
        },
        {
          "output_type": "stream",
          "name": "stdout",
          "text": [
            "The similarity score between two audios is 0.6526 (-1.0, 1.0).\n"
          ]
        },
        {
          "output_type": "stream",
          "name": "stderr",
          "text": [
            "Using cache found in /root/.cache/torch/hub/s3prl_s3prl_main\n",
            " 62%|██████▏   | 124/200 [16:12<09:43,  7.68s/it]"
          ]
        },
        {
          "output_type": "stream",
          "name": "stdout",
          "text": [
            "The similarity score between two audios is 0.7470 (-1.0, 1.0).\n"
          ]
        },
        {
          "output_type": "stream",
          "name": "stderr",
          "text": [
            "Using cache found in /root/.cache/torch/hub/s3prl_s3prl_main\n",
            " 62%|██████▎   | 125/200 [16:19<09:17,  7.43s/it]"
          ]
        },
        {
          "output_type": "stream",
          "name": "stdout",
          "text": [
            "The similarity score between two audios is 0.5687 (-1.0, 1.0).\n"
          ]
        },
        {
          "output_type": "stream",
          "name": "stderr",
          "text": [
            "Using cache found in /root/.cache/torch/hub/s3prl_s3prl_main\n",
            " 63%|██████▎   | 126/200 [16:27<09:22,  7.60s/it]"
          ]
        },
        {
          "output_type": "stream",
          "name": "stdout",
          "text": [
            "The similarity score between two audios is 0.7878 (-1.0, 1.0).\n"
          ]
        },
        {
          "output_type": "stream",
          "name": "stderr",
          "text": [
            "Using cache found in /root/.cache/torch/hub/s3prl_s3prl_main\n",
            " 64%|██████▎   | 127/200 [16:34<09:08,  7.51s/it]"
          ]
        },
        {
          "output_type": "stream",
          "name": "stdout",
          "text": [
            "The similarity score between two audios is 0.5443 (-1.0, 1.0).\n"
          ]
        },
        {
          "output_type": "stream",
          "name": "stderr",
          "text": [
            "Using cache found in /root/.cache/torch/hub/s3prl_s3prl_main\n",
            " 64%|██████▍   | 128/200 [16:41<08:55,  7.44s/it]"
          ]
        },
        {
          "output_type": "stream",
          "name": "stdout",
          "text": [
            "The similarity score between two audios is 0.5413 (-1.0, 1.0).\n"
          ]
        },
        {
          "output_type": "stream",
          "name": "stderr",
          "text": [
            "Using cache found in /root/.cache/torch/hub/s3prl_s3prl_main\n",
            " 64%|██████▍   | 129/200 [16:49<09:06,  7.69s/it]"
          ]
        },
        {
          "output_type": "stream",
          "name": "stdout",
          "text": [
            "The similarity score between two audios is 0.6359 (-1.0, 1.0).\n"
          ]
        },
        {
          "output_type": "stream",
          "name": "stderr",
          "text": [
            "Using cache found in /root/.cache/torch/hub/s3prl_s3prl_main\n",
            " 65%|██████▌   | 130/200 [16:57<08:47,  7.53s/it]"
          ]
        },
        {
          "output_type": "stream",
          "name": "stdout",
          "text": [
            "The similarity score between two audios is 0.6112 (-1.0, 1.0).\n"
          ]
        },
        {
          "output_type": "stream",
          "name": "stderr",
          "text": [
            "Using cache found in /root/.cache/torch/hub/s3prl_s3prl_main\n",
            " 66%|██████▌   | 131/200 [17:05<09:03,  7.87s/it]"
          ]
        },
        {
          "output_type": "stream",
          "name": "stdout",
          "text": [
            "The similarity score between two audios is 0.7721 (-1.0, 1.0).\n"
          ]
        },
        {
          "output_type": "stream",
          "name": "stderr",
          "text": [
            "Using cache found in /root/.cache/torch/hub/s3prl_s3prl_main\n",
            " 66%|██████▌   | 132/200 [17:13<08:55,  7.87s/it]"
          ]
        },
        {
          "output_type": "stream",
          "name": "stdout",
          "text": [
            "The similarity score between two audios is 0.4965 (-1.0, 1.0).\n"
          ]
        },
        {
          "output_type": "stream",
          "name": "stderr",
          "text": [
            "Using cache found in /root/.cache/torch/hub/s3prl_s3prl_main\n",
            " 66%|██████▋   | 133/200 [17:20<08:23,  7.52s/it]"
          ]
        },
        {
          "output_type": "stream",
          "name": "stdout",
          "text": [
            "The similarity score between two audios is 0.3820 (-1.0, 1.0).\n"
          ]
        },
        {
          "output_type": "stream",
          "name": "stderr",
          "text": [
            "Using cache found in /root/.cache/torch/hub/s3prl_s3prl_main\n",
            " 67%|██████▋   | 134/200 [17:28<08:26,  7.68s/it]"
          ]
        },
        {
          "output_type": "stream",
          "name": "stdout",
          "text": [
            "The similarity score between two audios is 0.5645 (-1.0, 1.0).\n"
          ]
        },
        {
          "output_type": "stream",
          "name": "stderr",
          "text": [
            "Using cache found in /root/.cache/torch/hub/s3prl_s3prl_main\n",
            " 68%|██████▊   | 135/200 [17:35<08:09,  7.54s/it]"
          ]
        },
        {
          "output_type": "stream",
          "name": "stdout",
          "text": [
            "The similarity score between two audios is 0.5848 (-1.0, 1.0).\n"
          ]
        },
        {
          "output_type": "stream",
          "name": "stderr",
          "text": [
            "Using cache found in /root/.cache/torch/hub/s3prl_s3prl_main\n",
            " 68%|██████▊   | 136/200 [17:43<08:14,  7.73s/it]"
          ]
        },
        {
          "output_type": "stream",
          "name": "stdout",
          "text": [
            "The similarity score between two audios is 0.8185 (-1.0, 1.0).\n"
          ]
        },
        {
          "output_type": "stream",
          "name": "stderr",
          "text": [
            "Using cache found in /root/.cache/torch/hub/s3prl_s3prl_main\n",
            " 68%|██████▊   | 137/200 [17:50<07:46,  7.41s/it]"
          ]
        },
        {
          "output_type": "stream",
          "name": "stdout",
          "text": [
            "The similarity score between two audios is 0.6106 (-1.0, 1.0).\n"
          ]
        },
        {
          "output_type": "stream",
          "name": "stderr",
          "text": [
            "Using cache found in /root/.cache/torch/hub/s3prl_s3prl_main\n",
            " 69%|██████▉   | 138/200 [17:58<07:47,  7.54s/it]"
          ]
        },
        {
          "output_type": "stream",
          "name": "stdout",
          "text": [
            "The similarity score between two audios is 0.5796 (-1.0, 1.0).\n"
          ]
        },
        {
          "output_type": "stream",
          "name": "stderr",
          "text": [
            "Using cache found in /root/.cache/torch/hub/s3prl_s3prl_main\n",
            " 70%|██████▉   | 139/200 [18:06<07:50,  7.72s/it]"
          ]
        },
        {
          "output_type": "stream",
          "name": "stdout",
          "text": [
            "The similarity score between two audios is 0.9199 (-1.0, 1.0).\n"
          ]
        },
        {
          "output_type": "stream",
          "name": "stderr",
          "text": [
            "Using cache found in /root/.cache/torch/hub/s3prl_s3prl_main\n",
            " 70%|███████   | 140/200 [18:13<07:34,  7.57s/it]"
          ]
        },
        {
          "output_type": "stream",
          "name": "stdout",
          "text": [
            "The similarity score between two audios is 0.5734 (-1.0, 1.0).\n"
          ]
        },
        {
          "output_type": "stream",
          "name": "stderr",
          "text": [
            "Using cache found in /root/.cache/torch/hub/s3prl_s3prl_main\n",
            " 70%|███████   | 141/200 [18:21<07:31,  7.64s/it]"
          ]
        },
        {
          "output_type": "stream",
          "name": "stdout",
          "text": [
            "The similarity score between two audios is 0.3133 (-1.0, 1.0).\n"
          ]
        },
        {
          "output_type": "stream",
          "name": "stderr",
          "text": [
            "Using cache found in /root/.cache/torch/hub/s3prl_s3prl_main\n",
            " 71%|███████   | 142/200 [18:29<07:23,  7.64s/it]"
          ]
        },
        {
          "output_type": "stream",
          "name": "stdout",
          "text": [
            "The similarity score between two audios is 0.6348 (-1.0, 1.0).\n"
          ]
        },
        {
          "output_type": "stream",
          "name": "stderr",
          "text": [
            "Using cache found in /root/.cache/torch/hub/s3prl_s3prl_main\n",
            " 72%|███████▏  | 143/200 [18:37<07:21,  7.74s/it]"
          ]
        },
        {
          "output_type": "stream",
          "name": "stdout",
          "text": [
            "The similarity score between two audios is 0.4743 (-1.0, 1.0).\n"
          ]
        },
        {
          "output_type": "stream",
          "name": "stderr",
          "text": [
            "Using cache found in /root/.cache/torch/hub/s3prl_s3prl_main\n",
            " 72%|███████▏  | 144/200 [18:45<07:19,  7.85s/it]"
          ]
        },
        {
          "output_type": "stream",
          "name": "stdout",
          "text": [
            "The similarity score between two audios is 0.7259 (-1.0, 1.0).\n"
          ]
        },
        {
          "output_type": "stream",
          "name": "stderr",
          "text": [
            "Using cache found in /root/.cache/torch/hub/s3prl_s3prl_main\n",
            " 72%|███████▎  | 145/200 [18:52<06:55,  7.56s/it]"
          ]
        },
        {
          "output_type": "stream",
          "name": "stdout",
          "text": [
            "The similarity score between two audios is 0.5389 (-1.0, 1.0).\n"
          ]
        },
        {
          "output_type": "stream",
          "name": "stderr",
          "text": [
            "Using cache found in /root/.cache/torch/hub/s3prl_s3prl_main\n",
            " 73%|███████▎  | 146/200 [19:00<06:55,  7.70s/it]"
          ]
        },
        {
          "output_type": "stream",
          "name": "stdout",
          "text": [
            "The similarity score between two audios is 0.4070 (-1.0, 1.0).\n"
          ]
        },
        {
          "output_type": "stream",
          "name": "stderr",
          "text": [
            "Using cache found in /root/.cache/torch/hub/s3prl_s3prl_main\n",
            " 74%|███████▎  | 147/200 [19:07<06:37,  7.50s/it]"
          ]
        },
        {
          "output_type": "stream",
          "name": "stdout",
          "text": [
            "The similarity score between two audios is 0.4677 (-1.0, 1.0).\n"
          ]
        },
        {
          "output_type": "stream",
          "name": "stderr",
          "text": [
            "Using cache found in /root/.cache/torch/hub/s3prl_s3prl_main\n",
            " 74%|███████▍  | 148/200 [19:15<06:37,  7.65s/it]"
          ]
        },
        {
          "output_type": "stream",
          "name": "stdout",
          "text": [
            "The similarity score between two audios is 0.5912 (-1.0, 1.0).\n"
          ]
        },
        {
          "output_type": "stream",
          "name": "stderr",
          "text": [
            "Using cache found in /root/.cache/torch/hub/s3prl_s3prl_main\n",
            " 74%|███████▍  | 149/200 [19:22<06:19,  7.44s/it]"
          ]
        },
        {
          "output_type": "stream",
          "name": "stdout",
          "text": [
            "The similarity score between two audios is 0.5633 (-1.0, 1.0).\n"
          ]
        },
        {
          "output_type": "stream",
          "name": "stderr",
          "text": [
            "Using cache found in /root/.cache/torch/hub/s3prl_s3prl_main\n",
            " 75%|███████▌  | 150/200 [19:29<06:08,  7.37s/it]"
          ]
        },
        {
          "output_type": "stream",
          "name": "stdout",
          "text": [
            "The similarity score between two audios is 0.5086 (-1.0, 1.0).\n"
          ]
        },
        {
          "output_type": "stream",
          "name": "stderr",
          "text": [
            "Using cache found in /root/.cache/torch/hub/s3prl_s3prl_main\n",
            " 76%|███████▌  | 151/200 [19:37<06:14,  7.64s/it]"
          ]
        },
        {
          "output_type": "stream",
          "name": "stdout",
          "text": [
            "The similarity score between two audios is 0.5884 (-1.0, 1.0).\n"
          ]
        },
        {
          "output_type": "stream",
          "name": "stderr",
          "text": [
            "Using cache found in /root/.cache/torch/hub/s3prl_s3prl_main\n",
            " 76%|███████▌  | 152/200 [19:44<06:00,  7.50s/it]"
          ]
        },
        {
          "output_type": "stream",
          "name": "stdout",
          "text": [
            "The similarity score between two audios is 0.7119 (-1.0, 1.0).\n"
          ]
        },
        {
          "output_type": "stream",
          "name": "stderr",
          "text": [
            "Using cache found in /root/.cache/torch/hub/s3prl_s3prl_main\n",
            " 76%|███████▋  | 153/200 [19:53<06:07,  7.81s/it]"
          ]
        },
        {
          "output_type": "stream",
          "name": "stdout",
          "text": [
            "The similarity score between two audios is 0.7366 (-1.0, 1.0).\n"
          ]
        },
        {
          "output_type": "stream",
          "name": "stderr",
          "text": [
            "Using cache found in /root/.cache/torch/hub/s3prl_s3prl_main\n",
            " 77%|███████▋  | 154/200 [20:00<05:45,  7.51s/it]"
          ]
        },
        {
          "output_type": "stream",
          "name": "stdout",
          "text": [
            "The similarity score between two audios is 0.7134 (-1.0, 1.0).\n"
          ]
        },
        {
          "output_type": "stream",
          "name": "stderr",
          "text": [
            "Using cache found in /root/.cache/torch/hub/s3prl_s3prl_main\n",
            " 78%|███████▊  | 155/200 [20:07<05:41,  7.59s/it]"
          ]
        },
        {
          "output_type": "stream",
          "name": "stdout",
          "text": [
            "The similarity score between two audios is 0.6658 (-1.0, 1.0).\n"
          ]
        },
        {
          "output_type": "stream",
          "name": "stderr",
          "text": [
            "Using cache found in /root/.cache/torch/hub/s3prl_s3prl_main\n",
            " 78%|███████▊  | 156/200 [20:15<05:31,  7.54s/it]"
          ]
        },
        {
          "output_type": "stream",
          "name": "stdout",
          "text": [
            "The similarity score between two audios is 0.7503 (-1.0, 1.0).\n"
          ]
        },
        {
          "output_type": "stream",
          "name": "stderr",
          "text": [
            "Using cache found in /root/.cache/torch/hub/s3prl_s3prl_main\n",
            " 78%|███████▊  | 157/200 [20:22<05:17,  7.38s/it]"
          ]
        },
        {
          "output_type": "stream",
          "name": "stdout",
          "text": [
            "The similarity score between two audios is 0.5276 (-1.0, 1.0).\n"
          ]
        },
        {
          "output_type": "stream",
          "name": "stderr",
          "text": [
            "Using cache found in /root/.cache/torch/hub/s3prl_s3prl_main\n",
            " 79%|███████▉  | 158/200 [20:30<05:22,  7.69s/it]"
          ]
        },
        {
          "output_type": "stream",
          "name": "stdout",
          "text": [
            "The similarity score between two audios is 0.5730 (-1.0, 1.0).\n"
          ]
        },
        {
          "output_type": "stream",
          "name": "stderr",
          "text": [
            "Using cache found in /root/.cache/torch/hub/s3prl_s3prl_main\n",
            " 80%|███████▉  | 159/200 [20:37<05:05,  7.45s/it]"
          ]
        },
        {
          "output_type": "stream",
          "name": "stdout",
          "text": [
            "The similarity score between two audios is 0.7270 (-1.0, 1.0).\n"
          ]
        },
        {
          "output_type": "stream",
          "name": "stderr",
          "text": [
            "Using cache found in /root/.cache/torch/hub/s3prl_s3prl_main\n",
            " 80%|████████  | 160/200 [20:45<05:04,  7.61s/it]"
          ]
        },
        {
          "output_type": "stream",
          "name": "stdout",
          "text": [
            "The similarity score between two audios is 0.7928 (-1.0, 1.0).\n"
          ]
        },
        {
          "output_type": "stream",
          "name": "stderr",
          "text": [
            "Using cache found in /root/.cache/torch/hub/s3prl_s3prl_main\n",
            " 80%|████████  | 161/200 [20:54<05:16,  8.12s/it]"
          ]
        },
        {
          "output_type": "stream",
          "name": "stdout",
          "text": [
            "The similarity score between two audios is 0.4810 (-1.0, 1.0).\n"
          ]
        },
        {
          "output_type": "stream",
          "name": "stderr",
          "text": [
            "Using cache found in /root/.cache/torch/hub/s3prl_s3prl_main\n",
            " 81%|████████  | 162/200 [21:02<05:08,  8.11s/it]"
          ]
        },
        {
          "output_type": "stream",
          "name": "stdout",
          "text": [
            "The similarity score between two audios is 0.7062 (-1.0, 1.0).\n"
          ]
        },
        {
          "output_type": "stream",
          "name": "stderr",
          "text": [
            "Using cache found in /root/.cache/torch/hub/s3prl_s3prl_main\n",
            " 82%|████████▏ | 163/200 [21:11<05:09,  8.37s/it]"
          ]
        },
        {
          "output_type": "stream",
          "name": "stdout",
          "text": [
            "The similarity score between two audios is 0.6630 (-1.0, 1.0).\n"
          ]
        },
        {
          "output_type": "stream",
          "name": "stderr",
          "text": [
            "Using cache found in /root/.cache/torch/hub/s3prl_s3prl_main\n",
            " 82%|████████▏ | 164/200 [21:19<04:47,  7.98s/it]"
          ]
        },
        {
          "output_type": "stream",
          "name": "stdout",
          "text": [
            "The similarity score between two audios is 0.5643 (-1.0, 1.0).\n"
          ]
        },
        {
          "output_type": "stream",
          "name": "stderr",
          "text": [
            "Using cache found in /root/.cache/torch/hub/s3prl_s3prl_main\n",
            " 82%|████████▎ | 165/200 [21:27<04:42,  8.09s/it]"
          ]
        },
        {
          "output_type": "stream",
          "name": "stdout",
          "text": [
            "The similarity score between two audios is 0.6601 (-1.0, 1.0).\n"
          ]
        },
        {
          "output_type": "stream",
          "name": "stderr",
          "text": [
            "Using cache found in /root/.cache/torch/hub/s3prl_s3prl_main\n",
            " 83%|████████▎ | 166/200 [21:36<04:43,  8.32s/it]"
          ]
        },
        {
          "output_type": "stream",
          "name": "stdout",
          "text": [
            "The similarity score between two audios is 0.8109 (-1.0, 1.0).\n"
          ]
        },
        {
          "output_type": "stream",
          "name": "stderr",
          "text": [
            "Using cache found in /root/.cache/torch/hub/s3prl_s3prl_main\n",
            " 84%|████████▎ | 167/200 [21:43<04:22,  7.94s/it]"
          ]
        },
        {
          "output_type": "stream",
          "name": "stdout",
          "text": [
            "The similarity score between two audios is 0.7548 (-1.0, 1.0).\n"
          ]
        },
        {
          "output_type": "stream",
          "name": "stderr",
          "text": [
            "Using cache found in /root/.cache/torch/hub/s3prl_s3prl_main\n",
            " 84%|████████▍ | 168/200 [21:52<04:26,  8.34s/it]"
          ]
        },
        {
          "output_type": "stream",
          "name": "stdout",
          "text": [
            "The similarity score between two audios is 0.6558 (-1.0, 1.0).\n"
          ]
        },
        {
          "output_type": "stream",
          "name": "stderr",
          "text": [
            "Using cache found in /root/.cache/torch/hub/s3prl_s3prl_main\n",
            " 84%|████████▍ | 169/200 [21:59<04:09,  8.04s/it]"
          ]
        },
        {
          "output_type": "stream",
          "name": "stdout",
          "text": [
            "The similarity score between two audios is 0.5229 (-1.0, 1.0).\n"
          ]
        },
        {
          "output_type": "stream",
          "name": "stderr",
          "text": [
            "Using cache found in /root/.cache/torch/hub/s3prl_s3prl_main\n",
            " 85%|████████▌ | 170/200 [22:07<03:55,  7.86s/it]"
          ]
        },
        {
          "output_type": "stream",
          "name": "stdout",
          "text": [
            "The similarity score between two audios is 0.4133 (-1.0, 1.0).\n"
          ]
        },
        {
          "output_type": "stream",
          "name": "stderr",
          "text": [
            "Using cache found in /root/.cache/torch/hub/s3prl_s3prl_main\n",
            " 86%|████████▌ | 171/200 [22:15<03:49,  7.91s/it]"
          ]
        },
        {
          "output_type": "stream",
          "name": "stdout",
          "text": [
            "The similarity score between two audios is 0.5392 (-1.0, 1.0).\n"
          ]
        },
        {
          "output_type": "stream",
          "name": "stderr",
          "text": [
            "Using cache found in /root/.cache/torch/hub/s3prl_s3prl_main\n",
            " 86%|████████▌ | 172/200 [22:22<03:35,  7.70s/it]"
          ]
        },
        {
          "output_type": "stream",
          "name": "stdout",
          "text": [
            "The similarity score between two audios is 0.5783 (-1.0, 1.0).\n"
          ]
        },
        {
          "output_type": "stream",
          "name": "stderr",
          "text": [
            "Using cache found in /root/.cache/torch/hub/s3prl_s3prl_main\n",
            " 86%|████████▋ | 173/200 [22:31<03:38,  8.10s/it]"
          ]
        },
        {
          "output_type": "stream",
          "name": "stdout",
          "text": [
            "The similarity score between two audios is 0.6575 (-1.0, 1.0).\n"
          ]
        },
        {
          "output_type": "stream",
          "name": "stderr",
          "text": [
            "Using cache found in /root/.cache/torch/hub/s3prl_s3prl_main\n",
            " 87%|████████▋ | 174/200 [22:39<03:28,  8.03s/it]"
          ]
        },
        {
          "output_type": "stream",
          "name": "stdout",
          "text": [
            "The similarity score between two audios is 0.6354 (-1.0, 1.0).\n"
          ]
        },
        {
          "output_type": "stream",
          "name": "stderr",
          "text": [
            "Using cache found in /root/.cache/torch/hub/s3prl_s3prl_main\n",
            " 88%|████████▊ | 175/200 [22:46<03:13,  7.74s/it]"
          ]
        },
        {
          "output_type": "stream",
          "name": "stdout",
          "text": [
            "The similarity score between two audios is 0.6333 (-1.0, 1.0).\n"
          ]
        },
        {
          "output_type": "stream",
          "name": "stderr",
          "text": [
            "Using cache found in /root/.cache/torch/hub/s3prl_s3prl_main\n",
            " 88%|████████▊ | 176/200 [22:54<03:08,  7.87s/it]"
          ]
        },
        {
          "output_type": "stream",
          "name": "stdout",
          "text": [
            "The similarity score between two audios is 0.7894 (-1.0, 1.0).\n"
          ]
        },
        {
          "output_type": "stream",
          "name": "stderr",
          "text": [
            "Using cache found in /root/.cache/torch/hub/s3prl_s3prl_main\n",
            " 88%|████████▊ | 177/200 [23:01<02:52,  7.50s/it]"
          ]
        },
        {
          "output_type": "stream",
          "name": "stdout",
          "text": [
            "The similarity score between two audios is 0.6720 (-1.0, 1.0).\n"
          ]
        },
        {
          "output_type": "stream",
          "name": "stderr",
          "text": [
            "Using cache found in /root/.cache/torch/hub/s3prl_s3prl_main\n",
            " 89%|████████▉ | 178/200 [23:09<02:49,  7.72s/it]"
          ]
        },
        {
          "output_type": "stream",
          "name": "stdout",
          "text": [
            "The similarity score between two audios is 0.3994 (-1.0, 1.0).\n"
          ]
        },
        {
          "output_type": "stream",
          "name": "stderr",
          "text": [
            "Using cache found in /root/.cache/torch/hub/s3prl_s3prl_main\n",
            " 90%|████████▉ | 179/200 [23:16<02:38,  7.55s/it]"
          ]
        },
        {
          "output_type": "stream",
          "name": "stdout",
          "text": [
            "The similarity score between two audios is 0.8320 (-1.0, 1.0).\n"
          ]
        },
        {
          "output_type": "stream",
          "name": "stderr",
          "text": [
            "Using cache found in /root/.cache/torch/hub/s3prl_s3prl_main\n",
            " 90%|█████████ | 180/200 [23:23<02:28,  7.43s/it]"
          ]
        },
        {
          "output_type": "stream",
          "name": "stdout",
          "text": [
            "The similarity score between two audios is 0.8099 (-1.0, 1.0).\n"
          ]
        },
        {
          "output_type": "stream",
          "name": "stderr",
          "text": [
            "Using cache found in /root/.cache/torch/hub/s3prl_s3prl_main\n",
            " 90%|█████████ | 181/200 [23:32<02:26,  7.73s/it]"
          ]
        },
        {
          "output_type": "stream",
          "name": "stdout",
          "text": [
            "The similarity score between two audios is 0.7744 (-1.0, 1.0).\n"
          ]
        },
        {
          "output_type": "stream",
          "name": "stderr",
          "text": [
            "Using cache found in /root/.cache/torch/hub/s3prl_s3prl_main\n",
            " 91%|█████████ | 182/200 [23:39<02:17,  7.64s/it]"
          ]
        },
        {
          "output_type": "stream",
          "name": "stdout",
          "text": [
            "The similarity score between two audios is 0.5395 (-1.0, 1.0).\n"
          ]
        },
        {
          "output_type": "stream",
          "name": "stderr",
          "text": [
            "Using cache found in /root/.cache/torch/hub/s3prl_s3prl_main\n",
            " 92%|█████████▏| 183/200 [23:47<02:12,  7.79s/it]"
          ]
        },
        {
          "output_type": "stream",
          "name": "stdout",
          "text": [
            "The similarity score between two audios is 0.7911 (-1.0, 1.0).\n"
          ]
        },
        {
          "output_type": "stream",
          "name": "stderr",
          "text": [
            "Using cache found in /root/.cache/torch/hub/s3prl_s3prl_main\n",
            " 92%|█████████▏| 184/200 [23:55<02:01,  7.60s/it]"
          ]
        },
        {
          "output_type": "stream",
          "name": "stdout",
          "text": [
            "The similarity score between two audios is 0.8603 (-1.0, 1.0).\n"
          ]
        },
        {
          "output_type": "stream",
          "name": "stderr",
          "text": [
            "Using cache found in /root/.cache/torch/hub/s3prl_s3prl_main\n",
            " 92%|█████████▎| 185/200 [24:02<01:52,  7.48s/it]"
          ]
        },
        {
          "output_type": "stream",
          "name": "stdout",
          "text": [
            "The similarity score between two audios is 0.7171 (-1.0, 1.0).\n"
          ]
        },
        {
          "output_type": "stream",
          "name": "stderr",
          "text": [
            "Using cache found in /root/.cache/torch/hub/s3prl_s3prl_main\n",
            " 93%|█████████▎| 186/200 [24:09<01:45,  7.53s/it]"
          ]
        },
        {
          "output_type": "stream",
          "name": "stdout",
          "text": [
            "The similarity score between two audios is 0.6657 (-1.0, 1.0).\n"
          ]
        },
        {
          "output_type": "stream",
          "name": "stderr",
          "text": [
            "Using cache found in /root/.cache/torch/hub/s3prl_s3prl_main\n",
            " 94%|█████████▎| 187/200 [24:16<01:36,  7.39s/it]"
          ]
        },
        {
          "output_type": "stream",
          "name": "stdout",
          "text": [
            "The similarity score between two audios is 0.4253 (-1.0, 1.0).\n"
          ]
        },
        {
          "output_type": "stream",
          "name": "stderr",
          "text": [
            "Using cache found in /root/.cache/torch/hub/s3prl_s3prl_main\n",
            " 94%|█████████▍| 188/200 [24:25<01:31,  7.66s/it]"
          ]
        },
        {
          "output_type": "stream",
          "name": "stdout",
          "text": [
            "The similarity score between two audios is 0.4932 (-1.0, 1.0).\n"
          ]
        },
        {
          "output_type": "stream",
          "name": "stderr",
          "text": [
            "Using cache found in /root/.cache/torch/hub/s3prl_s3prl_main\n",
            " 94%|█████████▍| 189/200 [24:32<01:23,  7.56s/it]"
          ]
        },
        {
          "output_type": "stream",
          "name": "stdout",
          "text": [
            "The similarity score between two audios is 0.5912 (-1.0, 1.0).\n"
          ]
        },
        {
          "output_type": "stream",
          "name": "stderr",
          "text": [
            "Using cache found in /root/.cache/torch/hub/s3prl_s3prl_main\n",
            " 95%|█████████▌| 190/200 [24:40<01:16,  7.70s/it]"
          ]
        },
        {
          "output_type": "stream",
          "name": "stdout",
          "text": [
            "The similarity score between two audios is 0.7101 (-1.0, 1.0).\n"
          ]
        },
        {
          "output_type": "stream",
          "name": "stderr",
          "text": [
            "Using cache found in /root/.cache/torch/hub/s3prl_s3prl_main\n",
            " 96%|█████████▌| 191/200 [24:47<01:07,  7.52s/it]"
          ]
        },
        {
          "output_type": "stream",
          "name": "stdout",
          "text": [
            "The similarity score between two audios is 0.7933 (-1.0, 1.0).\n"
          ]
        },
        {
          "output_type": "stream",
          "name": "stderr",
          "text": [
            "Using cache found in /root/.cache/torch/hub/s3prl_s3prl_main\n",
            " 96%|█████████▌| 192/200 [24:54<00:59,  7.42s/it]"
          ]
        },
        {
          "output_type": "stream",
          "name": "stdout",
          "text": [
            "The similarity score between two audios is 0.5723 (-1.0, 1.0).\n"
          ]
        },
        {
          "output_type": "stream",
          "name": "stderr",
          "text": [
            "Using cache found in /root/.cache/torch/hub/s3prl_s3prl_main\n",
            " 96%|█████████▋| 193/200 [25:03<00:53,  7.66s/it]"
          ]
        },
        {
          "output_type": "stream",
          "name": "stdout",
          "text": [
            "The similarity score between two audios is 0.7090 (-1.0, 1.0).\n"
          ]
        },
        {
          "output_type": "stream",
          "name": "stderr",
          "text": [
            "Using cache found in /root/.cache/torch/hub/s3prl_s3prl_main\n",
            " 97%|█████████▋| 194/200 [25:09<00:44,  7.40s/it]"
          ]
        },
        {
          "output_type": "stream",
          "name": "stdout",
          "text": [
            "The similarity score between two audios is 0.5272 (-1.0, 1.0).\n"
          ]
        },
        {
          "output_type": "stream",
          "name": "stderr",
          "text": [
            "Using cache found in /root/.cache/torch/hub/s3prl_s3prl_main\n",
            " 98%|█████████▊| 195/200 [25:17<00:37,  7.56s/it]"
          ]
        },
        {
          "output_type": "stream",
          "name": "stdout",
          "text": [
            "The similarity score between two audios is 0.8009 (-1.0, 1.0).\n"
          ]
        },
        {
          "output_type": "stream",
          "name": "stderr",
          "text": [
            "Using cache found in /root/.cache/torch/hub/s3prl_s3prl_main\n",
            " 98%|█████████▊| 196/200 [25:24<00:29,  7.40s/it]"
          ]
        },
        {
          "output_type": "stream",
          "name": "stdout",
          "text": [
            "The similarity score between two audios is 0.5858 (-1.0, 1.0).\n"
          ]
        },
        {
          "output_type": "stream",
          "name": "stderr",
          "text": [
            "Using cache found in /root/.cache/torch/hub/s3prl_s3prl_main\n",
            " 98%|█████████▊| 197/200 [25:32<00:22,  7.48s/it]"
          ]
        },
        {
          "output_type": "stream",
          "name": "stdout",
          "text": [
            "The similarity score between two audios is 0.5873 (-1.0, 1.0).\n"
          ]
        },
        {
          "output_type": "stream",
          "name": "stderr",
          "text": [
            "Using cache found in /root/.cache/torch/hub/s3prl_s3prl_main\n",
            " 99%|█████████▉| 198/200 [25:40<00:15,  7.58s/it]"
          ]
        },
        {
          "output_type": "stream",
          "name": "stdout",
          "text": [
            "The similarity score between two audios is 0.3809 (-1.0, 1.0).\n"
          ]
        },
        {
          "output_type": "stream",
          "name": "stderr",
          "text": [
            "Using cache found in /root/.cache/torch/hub/s3prl_s3prl_main\n",
            "100%|█████████▉| 199/200 [25:47<00:07,  7.41s/it]"
          ]
        },
        {
          "output_type": "stream",
          "name": "stdout",
          "text": [
            "The similarity score between two audios is 0.6115 (-1.0, 1.0).\n"
          ]
        },
        {
          "output_type": "stream",
          "name": "stderr",
          "text": [
            "Using cache found in /root/.cache/torch/hub/s3prl_s3prl_main\n",
            "100%|██████████| 200/200 [25:55<00:00,  7.50s/it]"
          ]
        },
        {
          "output_type": "stream",
          "name": "stdout",
          "text": [
            "The similarity score between two audios is 0.6375 (-1.0, 1.0).\n"
          ]
        },
        {
          "output_type": "stream",
          "name": "stderr",
          "text": [
            "Using cache found in /root/.cache/torch/hub/s3prl_s3prl_main\n",
            "100%|██████████| 200/200 [26:02<00:00,  7.81s/it]"
          ]
        },
        {
          "output_type": "stream",
          "name": "stdout",
          "text": [
            "The similarity score between two audios is 0.5279 (-1.0, 1.0).\n"
          ]
        },
        {
          "output_type": "stream",
          "name": "stderr",
          "text": [
            "\n"
          ]
        }
      ]
    },
    {
      "cell_type": "code",
      "source": [
        "data_df['wavlm_large_pred'] = data_df.progress_apply(lambda x:verification(model_name = 'wavlm_large',wav1 =x['wav1'],wav2 = x['wav2'],\n",
        "                                          checkpoint=  '/content/drive/MyDrive/wavlm_large_finetune.pth'), axis =1)"
      ],
      "metadata": {
        "colab": {
          "base_uri": "https://localhost:8080/"
        },
        "id": "TH0ftVtE0Rkm",
        "outputId": "ea93d227-7c1d-476a-d818-c47b4da3a374"
      },
      "execution_count": null,
      "outputs": [
        {
          "output_type": "stream",
          "name": "stderr",
          "text": [
            "\r  0%|          | 0/200 [00:00<?, ?it/s]Using cache found in /root/.cache/torch/hub/s3prl_s3prl_main\n",
            "/usr/local/lib/python3.10/dist-packages/torch/nn/utils/weight_norm.py:28: UserWarning: torch.nn.utils.weight_norm is deprecated in favor of torch.nn.utils.parametrizations.weight_norm.\n",
            "  warnings.warn(\"torch.nn.utils.weight_norm is deprecated in favor of torch.nn.utils.parametrizations.weight_norm.\")\n",
            "/usr/local/lib/python3.10/dist-packages/torch/nn/functional.py:5109: UserWarning: Support for mismatched key_padding_mask and attn_mask is deprecated. Use same type for both instead.\n",
            "  warnings.warn(\n",
            "  1%|          | 2/200 [00:23<39:01, 11.83s/it]"
          ]
        },
        {
          "output_type": "stream",
          "name": "stdout",
          "text": [
            "The similarity score between two audios is 0.2155 (-1.0, 1.0).\n"
          ]
        },
        {
          "output_type": "stream",
          "name": "stderr",
          "text": [
            "Using cache found in /root/.cache/torch/hub/s3prl_s3prl_main\n",
            "  2%|▏         | 3/200 [00:46<53:31, 16.30s/it]"
          ]
        },
        {
          "output_type": "stream",
          "name": "stdout",
          "text": [
            "The similarity score between two audios is 0.0739 (-1.0, 1.0).\n"
          ]
        },
        {
          "output_type": "stream",
          "name": "stderr",
          "text": [
            "Using cache found in /root/.cache/torch/hub/s3prl_s3prl_main\n",
            "  2%|▏         | 4/200 [01:09<1:01:40, 18.88s/it]"
          ]
        },
        {
          "output_type": "stream",
          "name": "stdout",
          "text": [
            "The similarity score between two audios is 0.0974 (-1.0, 1.0).\n"
          ]
        },
        {
          "output_type": "stream",
          "name": "stderr",
          "text": [
            "Using cache found in /root/.cache/torch/hub/s3prl_s3prl_main\n",
            "  2%|▎         | 5/200 [01:33<1:07:06, 20.65s/it]"
          ]
        },
        {
          "output_type": "stream",
          "name": "stdout",
          "text": [
            "The similarity score between two audios is 0.0847 (-1.0, 1.0).\n"
          ]
        },
        {
          "output_type": "stream",
          "name": "stderr",
          "text": [
            "Using cache found in /root/.cache/torch/hub/s3prl_s3prl_main\n",
            "  3%|▎         | 6/200 [01:57<1:10:58, 21.95s/it]"
          ]
        },
        {
          "output_type": "stream",
          "name": "stdout",
          "text": [
            "The similarity score between two audios is 0.1064 (-1.0, 1.0).\n"
          ]
        },
        {
          "output_type": "stream",
          "name": "stderr",
          "text": [
            "Using cache found in /root/.cache/torch/hub/s3prl_s3prl_main\n",
            "  4%|▎         | 7/200 [02:22<1:13:23, 22.81s/it]"
          ]
        },
        {
          "output_type": "stream",
          "name": "stdout",
          "text": [
            "The similarity score between two audios is 0.0361 (-1.0, 1.0).\n"
          ]
        },
        {
          "output_type": "stream",
          "name": "stderr",
          "text": [
            "Using cache found in /root/.cache/torch/hub/s3prl_s3prl_main\n",
            "  4%|▍         | 8/200 [02:47<1:14:45, 23.36s/it]"
          ]
        },
        {
          "output_type": "stream",
          "name": "stdout",
          "text": [
            "The similarity score between two audios is 0.0148 (-1.0, 1.0).\n"
          ]
        },
        {
          "output_type": "stream",
          "name": "stderr",
          "text": [
            "Using cache found in /root/.cache/torch/hub/s3prl_s3prl_main\n",
            "  4%|▍         | 9/200 [03:11<1:15:42, 23.79s/it]"
          ]
        },
        {
          "output_type": "stream",
          "name": "stdout",
          "text": [
            "The similarity score between two audios is 0.0396 (-1.0, 1.0).\n"
          ]
        },
        {
          "output_type": "stream",
          "name": "stderr",
          "text": [
            "Using cache found in /root/.cache/torch/hub/s3prl_s3prl_main\n",
            "  5%|▌         | 10/200 [03:36<1:15:49, 23.94s/it]"
          ]
        },
        {
          "output_type": "stream",
          "name": "stdout",
          "text": [
            "The similarity score between two audios is 0.0459 (-1.0, 1.0).\n"
          ]
        },
        {
          "output_type": "stream",
          "name": "stderr",
          "text": [
            "Using cache found in /root/.cache/torch/hub/s3prl_s3prl_main\n",
            "  6%|▌         | 11/200 [03:59<1:15:07, 23.85s/it]"
          ]
        },
        {
          "output_type": "stream",
          "name": "stdout",
          "text": [
            "The similarity score between two audios is 0.0584 (-1.0, 1.0).\n"
          ]
        },
        {
          "output_type": "stream",
          "name": "stderr",
          "text": [
            "Using cache found in /root/.cache/torch/hub/s3prl_s3prl_main\n",
            "  6%|▌         | 12/200 [04:23<1:14:30, 23.78s/it]"
          ]
        },
        {
          "output_type": "stream",
          "name": "stdout",
          "text": [
            "The similarity score between two audios is 0.0359 (-1.0, 1.0).\n"
          ]
        },
        {
          "output_type": "stream",
          "name": "stderr",
          "text": [
            "Using cache found in /root/.cache/torch/hub/s3prl_s3prl_main\n",
            "  6%|▋         | 13/200 [04:47<1:14:07, 23.78s/it]"
          ]
        },
        {
          "output_type": "stream",
          "name": "stdout",
          "text": [
            "The similarity score between two audios is 0.0328 (-1.0, 1.0).\n"
          ]
        },
        {
          "output_type": "stream",
          "name": "stderr",
          "text": [
            "Using cache found in /root/.cache/torch/hub/s3prl_s3prl_main\n",
            "  7%|▋         | 14/200 [05:11<1:13:56, 23.85s/it]"
          ]
        },
        {
          "output_type": "stream",
          "name": "stdout",
          "text": [
            "The similarity score between two audios is 0.0868 (-1.0, 1.0).\n"
          ]
        },
        {
          "output_type": "stream",
          "name": "stderr",
          "text": [
            "Using cache found in /root/.cache/torch/hub/s3prl_s3prl_main\n",
            "  8%|▊         | 15/200 [05:35<1:13:34, 23.86s/it]"
          ]
        },
        {
          "output_type": "stream",
          "name": "stdout",
          "text": [
            "The similarity score between two audios is -0.0381 (-1.0, 1.0).\n"
          ]
        },
        {
          "output_type": "stream",
          "name": "stderr",
          "text": [
            "Using cache found in /root/.cache/torch/hub/s3prl_s3prl_main\n",
            "  8%|▊         | 16/200 [05:59<1:13:11, 23.87s/it]"
          ]
        },
        {
          "output_type": "stream",
          "name": "stdout",
          "text": [
            "The similarity score between two audios is 0.0367 (-1.0, 1.0).\n"
          ]
        },
        {
          "output_type": "stream",
          "name": "stderr",
          "text": [
            "Using cache found in /root/.cache/torch/hub/s3prl_s3prl_main\n",
            "  8%|▊         | 17/200 [06:23<1:13:46, 24.19s/it]"
          ]
        },
        {
          "output_type": "stream",
          "name": "stdout",
          "text": [
            "The similarity score between two audios is 0.1484 (-1.0, 1.0).\n"
          ]
        },
        {
          "output_type": "stream",
          "name": "stderr",
          "text": [
            "Using cache found in /root/.cache/torch/hub/s3prl_s3prl_main\n",
            "  9%|▉         | 18/200 [06:50<1:15:11, 24.79s/it]"
          ]
        },
        {
          "output_type": "stream",
          "name": "stdout",
          "text": [
            "The similarity score between two audios is 0.0099 (-1.0, 1.0).\n"
          ]
        },
        {
          "output_type": "stream",
          "name": "stderr",
          "text": [
            "Using cache found in /root/.cache/torch/hub/s3prl_s3prl_main\n",
            " 10%|▉         | 19/200 [07:13<1:13:42, 24.44s/it]"
          ]
        },
        {
          "output_type": "stream",
          "name": "stdout",
          "text": [
            "The similarity score between two audios is -0.0288 (-1.0, 1.0).\n"
          ]
        },
        {
          "output_type": "stream",
          "name": "stderr",
          "text": [
            "Using cache found in /root/.cache/torch/hub/s3prl_s3prl_main\n",
            " 10%|█         | 20/200 [07:38<1:14:02, 24.68s/it]"
          ]
        },
        {
          "output_type": "stream",
          "name": "stdout",
          "text": [
            "The similarity score between two audios is 0.1672 (-1.0, 1.0).\n"
          ]
        },
        {
          "output_type": "stream",
          "name": "stderr",
          "text": [
            "Using cache found in /root/.cache/torch/hub/s3prl_s3prl_main\n",
            " 10%|█         | 21/200 [08:04<1:13:57, 24.79s/it]"
          ]
        },
        {
          "output_type": "stream",
          "name": "stdout",
          "text": [
            "The similarity score between two audios is -0.0782 (-1.0, 1.0).\n"
          ]
        },
        {
          "output_type": "stream",
          "name": "stderr",
          "text": [
            "Using cache found in /root/.cache/torch/hub/s3prl_s3prl_main\n",
            " 11%|█         | 22/200 [08:29<1:13:57, 24.93s/it]"
          ]
        },
        {
          "output_type": "stream",
          "name": "stdout",
          "text": [
            "The similarity score between two audios is -0.0134 (-1.0, 1.0).\n"
          ]
        },
        {
          "output_type": "stream",
          "name": "stderr",
          "text": [
            "Using cache found in /root/.cache/torch/hub/s3prl_s3prl_main\n",
            " 12%|█▏        | 23/200 [08:53<1:12:43, 24.65s/it]"
          ]
        },
        {
          "output_type": "stream",
          "name": "stdout",
          "text": [
            "The similarity score between two audios is -0.0399 (-1.0, 1.0).\n"
          ]
        },
        {
          "output_type": "stream",
          "name": "stderr",
          "text": [
            "Using cache found in /root/.cache/torch/hub/s3prl_s3prl_main\n",
            " 12%|█▏        | 24/200 [09:18<1:12:37, 24.76s/it]"
          ]
        },
        {
          "output_type": "stream",
          "name": "stdout",
          "text": [
            "The similarity score between two audios is 0.0910 (-1.0, 1.0).\n"
          ]
        },
        {
          "output_type": "stream",
          "name": "stderr",
          "text": [
            "Using cache found in /root/.cache/torch/hub/s3prl_s3prl_main\n",
            " 12%|█▎        | 25/200 [09:42<1:12:06, 24.72s/it]"
          ]
        },
        {
          "output_type": "stream",
          "name": "stdout",
          "text": [
            "The similarity score between two audios is 0.0561 (-1.0, 1.0).\n"
          ]
        },
        {
          "output_type": "stream",
          "name": "stderr",
          "text": [
            "Using cache found in /root/.cache/torch/hub/s3prl_s3prl_main\n",
            " 13%|█▎        | 26/200 [10:07<1:11:31, 24.66s/it]"
          ]
        },
        {
          "output_type": "stream",
          "name": "stdout",
          "text": [
            "The similarity score between two audios is 0.1124 (-1.0, 1.0).\n"
          ]
        },
        {
          "output_type": "stream",
          "name": "stderr",
          "text": [
            "Using cache found in /root/.cache/torch/hub/s3prl_s3prl_main\n",
            " 14%|█▎        | 27/200 [10:32<1:11:41, 24.86s/it]"
          ]
        },
        {
          "output_type": "stream",
          "name": "stdout",
          "text": [
            "The similarity score between two audios is 0.0425 (-1.0, 1.0).\n"
          ]
        },
        {
          "output_type": "stream",
          "name": "stderr",
          "text": [
            "Using cache found in /root/.cache/torch/hub/s3prl_s3prl_main\n",
            " 14%|█▍        | 28/200 [10:59<1:13:15, 25.55s/it]"
          ]
        },
        {
          "output_type": "stream",
          "name": "stdout",
          "text": [
            "The similarity score between two audios is -0.0069 (-1.0, 1.0).\n"
          ]
        },
        {
          "output_type": "stream",
          "name": "stderr",
          "text": [
            "Using cache found in /root/.cache/torch/hub/s3prl_s3prl_main\n",
            " 14%|█▍        | 29/200 [11:25<1:13:12, 25.68s/it]"
          ]
        },
        {
          "output_type": "stream",
          "name": "stdout",
          "text": [
            "The similarity score between two audios is -0.0781 (-1.0, 1.0).\n"
          ]
        },
        {
          "output_type": "stream",
          "name": "stderr",
          "text": [
            "Using cache found in /root/.cache/torch/hub/s3prl_s3prl_main\n",
            " 15%|█▌        | 30/200 [11:51<1:12:19, 25.53s/it]"
          ]
        },
        {
          "output_type": "stream",
          "name": "stdout",
          "text": [
            "The similarity score between two audios is 0.1278 (-1.0, 1.0).\n"
          ]
        },
        {
          "output_type": "stream",
          "name": "stderr",
          "text": [
            "Using cache found in /root/.cache/torch/hub/s3prl_s3prl_main\n",
            " 16%|█▌        | 31/200 [12:16<1:11:34, 25.41s/it]"
          ]
        },
        {
          "output_type": "stream",
          "name": "stdout",
          "text": [
            "The similarity score between two audios is 0.0440 (-1.0, 1.0).\n"
          ]
        },
        {
          "output_type": "stream",
          "name": "stderr",
          "text": [
            "Using cache found in /root/.cache/torch/hub/s3prl_s3prl_main\n",
            " 16%|█▌        | 32/200 [12:40<1:10:22, 25.13s/it]"
          ]
        },
        {
          "output_type": "stream",
          "name": "stdout",
          "text": [
            "The similarity score between two audios is 0.0812 (-1.0, 1.0).\n"
          ]
        },
        {
          "output_type": "stream",
          "name": "stderr",
          "text": [
            "Using cache found in /root/.cache/torch/hub/s3prl_s3prl_main\n",
            " 16%|█▋        | 33/200 [13:05<1:09:33, 24.99s/it]"
          ]
        },
        {
          "output_type": "stream",
          "name": "stdout",
          "text": [
            "The similarity score between two audios is 0.1669 (-1.0, 1.0).\n"
          ]
        },
        {
          "output_type": "stream",
          "name": "stderr",
          "text": [
            "Using cache found in /root/.cache/torch/hub/s3prl_s3prl_main\n",
            " 17%|█▋        | 34/200 [13:30<1:09:29, 25.11s/it]"
          ]
        },
        {
          "output_type": "stream",
          "name": "stdout",
          "text": [
            "The similarity score between two audios is -0.0017 (-1.0, 1.0).\n"
          ]
        },
        {
          "output_type": "stream",
          "name": "stderr",
          "text": [
            "Using cache found in /root/.cache/torch/hub/s3prl_s3prl_main\n",
            " 18%|█▊        | 35/200 [13:56<1:09:50, 25.40s/it]"
          ]
        },
        {
          "output_type": "stream",
          "name": "stdout",
          "text": [
            "The similarity score between two audios is 0.0413 (-1.0, 1.0).\n"
          ]
        },
        {
          "output_type": "stream",
          "name": "stderr",
          "text": [
            "Using cache found in /root/.cache/torch/hub/s3prl_s3prl_main\n",
            " 18%|█▊        | 36/200 [14:22<1:09:13, 25.33s/it]"
          ]
        },
        {
          "output_type": "stream",
          "name": "stdout",
          "text": [
            "The similarity score between two audios is 0.0786 (-1.0, 1.0).\n"
          ]
        },
        {
          "output_type": "stream",
          "name": "stderr",
          "text": [
            "Using cache found in /root/.cache/torch/hub/s3prl_s3prl_main\n",
            " 18%|█▊        | 37/200 [14:47<1:08:49, 25.33s/it]"
          ]
        },
        {
          "output_type": "stream",
          "name": "stdout",
          "text": [
            "The similarity score between two audios is 0.1779 (-1.0, 1.0).\n"
          ]
        },
        {
          "output_type": "stream",
          "name": "stderr",
          "text": [
            "Using cache found in /root/.cache/torch/hub/s3prl_s3prl_main\n",
            " 19%|█▉        | 38/200 [15:12<1:08:20, 25.31s/it]"
          ]
        },
        {
          "output_type": "stream",
          "name": "stdout",
          "text": [
            "The similarity score between two audios is -0.1997 (-1.0, 1.0).\n"
          ]
        },
        {
          "output_type": "stream",
          "name": "stderr",
          "text": [
            "Using cache found in /root/.cache/torch/hub/s3prl_s3prl_main\n",
            " 20%|█▉        | 39/200 [15:38<1:08:15, 25.44s/it]"
          ]
        },
        {
          "output_type": "stream",
          "name": "stdout",
          "text": [
            "The similarity score between two audios is 0.0148 (-1.0, 1.0).\n"
          ]
        },
        {
          "output_type": "stream",
          "name": "stderr",
          "text": [
            "Using cache found in /root/.cache/torch/hub/s3prl_s3prl_main\n",
            " 20%|██        | 40/200 [16:03<1:07:48, 25.43s/it]"
          ]
        },
        {
          "output_type": "stream",
          "name": "stdout",
          "text": [
            "The similarity score between two audios is -0.0394 (-1.0, 1.0).\n"
          ]
        },
        {
          "output_type": "stream",
          "name": "stderr",
          "text": [
            "Using cache found in /root/.cache/torch/hub/s3prl_s3prl_main\n",
            " 20%|██        | 41/200 [16:29<1:07:35, 25.51s/it]"
          ]
        },
        {
          "output_type": "stream",
          "name": "stdout",
          "text": [
            "The similarity score between two audios is -0.0347 (-1.0, 1.0).\n"
          ]
        },
        {
          "output_type": "stream",
          "name": "stderr",
          "text": [
            "Using cache found in /root/.cache/torch/hub/s3prl_s3prl_main\n",
            " 21%|██        | 42/200 [16:54<1:07:10, 25.51s/it]"
          ]
        },
        {
          "output_type": "stream",
          "name": "stdout",
          "text": [
            "The similarity score between two audios is 0.0203 (-1.0, 1.0).\n"
          ]
        },
        {
          "output_type": "stream",
          "name": "stderr",
          "text": [
            "Using cache found in /root/.cache/torch/hub/s3prl_s3prl_main\n",
            " 22%|██▏       | 43/200 [17:21<1:07:19, 25.73s/it]"
          ]
        },
        {
          "output_type": "stream",
          "name": "stdout",
          "text": [
            "The similarity score between two audios is -0.0880 (-1.0, 1.0).\n"
          ]
        },
        {
          "output_type": "stream",
          "name": "stderr",
          "text": [
            "Using cache found in /root/.cache/torch/hub/s3prl_s3prl_main\n",
            " 22%|██▏       | 44/200 [17:46<1:06:36, 25.62s/it]"
          ]
        },
        {
          "output_type": "stream",
          "name": "stdout",
          "text": [
            "The similarity score between two audios is -0.0101 (-1.0, 1.0).\n"
          ]
        },
        {
          "output_type": "stream",
          "name": "stderr",
          "text": [
            "Using cache found in /root/.cache/torch/hub/s3prl_s3prl_main\n",
            " 22%|██▎       | 45/200 [18:11<1:05:32, 25.37s/it]"
          ]
        },
        {
          "output_type": "stream",
          "name": "stdout",
          "text": [
            "The similarity score between two audios is -0.0759 (-1.0, 1.0).\n"
          ]
        },
        {
          "output_type": "stream",
          "name": "stderr",
          "text": [
            "Using cache found in /root/.cache/torch/hub/s3prl_s3prl_main\n",
            " 23%|██▎       | 46/200 [18:36<1:05:07, 25.37s/it]"
          ]
        },
        {
          "output_type": "stream",
          "name": "stdout",
          "text": [
            "The similarity score between two audios is 0.0904 (-1.0, 1.0).\n"
          ]
        },
        {
          "output_type": "stream",
          "name": "stderr",
          "text": [
            "Using cache found in /root/.cache/torch/hub/s3prl_s3prl_main\n",
            " 24%|██▎       | 47/200 [19:01<1:04:24, 25.26s/it]"
          ]
        },
        {
          "output_type": "stream",
          "name": "stdout",
          "text": [
            "The similarity score between two audios is 0.1470 (-1.0, 1.0).\n"
          ]
        },
        {
          "output_type": "stream",
          "name": "stderr",
          "text": [
            "Using cache found in /root/.cache/torch/hub/s3prl_s3prl_main\n",
            " 24%|██▍       | 48/200 [19:26<1:03:37, 25.12s/it]"
          ]
        },
        {
          "output_type": "stream",
          "name": "stdout",
          "text": [
            "The similarity score between two audios is -0.0600 (-1.0, 1.0).\n"
          ]
        },
        {
          "output_type": "stream",
          "name": "stderr",
          "text": [
            "Using cache found in /root/.cache/torch/hub/s3prl_s3prl_main\n",
            " 24%|██▍       | 49/200 [19:51<1:03:05, 25.07s/it]"
          ]
        },
        {
          "output_type": "stream",
          "name": "stdout",
          "text": [
            "The similarity score between two audios is -0.1517 (-1.0, 1.0).\n"
          ]
        },
        {
          "output_type": "stream",
          "name": "stderr",
          "text": [
            "Using cache found in /root/.cache/torch/hub/s3prl_s3prl_main\n",
            " 25%|██▌       | 50/200 [20:16<1:02:30, 25.00s/it]"
          ]
        },
        {
          "output_type": "stream",
          "name": "stdout",
          "text": [
            "The similarity score between two audios is 0.0959 (-1.0, 1.0).\n"
          ]
        },
        {
          "output_type": "stream",
          "name": "stderr",
          "text": [
            "Using cache found in /root/.cache/torch/hub/s3prl_s3prl_main\n",
            " 26%|██▌       | 51/200 [20:42<1:02:57, 25.35s/it]"
          ]
        },
        {
          "output_type": "stream",
          "name": "stdout",
          "text": [
            "The similarity score between two audios is -0.1118 (-1.0, 1.0).\n"
          ]
        },
        {
          "output_type": "stream",
          "name": "stderr",
          "text": [
            "Using cache found in /root/.cache/torch/hub/s3prl_s3prl_main\n",
            " 26%|██▌       | 52/200 [21:07<1:02:33, 25.36s/it]"
          ]
        },
        {
          "output_type": "stream",
          "name": "stdout",
          "text": [
            "The similarity score between two audios is -0.0408 (-1.0, 1.0).\n"
          ]
        },
        {
          "output_type": "stream",
          "name": "stderr",
          "text": [
            "Using cache found in /root/.cache/torch/hub/s3prl_s3prl_main\n",
            " 26%|██▋       | 53/200 [21:33<1:01:59, 25.30s/it]"
          ]
        },
        {
          "output_type": "stream",
          "name": "stdout",
          "text": [
            "The similarity score between two audios is -0.0346 (-1.0, 1.0).\n"
          ]
        },
        {
          "output_type": "stream",
          "name": "stderr",
          "text": [
            "Using cache found in /root/.cache/torch/hub/s3prl_s3prl_main\n",
            " 27%|██▋       | 54/200 [21:58<1:02:00, 25.48s/it]"
          ]
        },
        {
          "output_type": "stream",
          "name": "stdout",
          "text": [
            "The similarity score between two audios is 0.0399 (-1.0, 1.0).\n"
          ]
        },
        {
          "output_type": "stream",
          "name": "stderr",
          "text": [
            "Using cache found in /root/.cache/torch/hub/s3prl_s3prl_main\n",
            " 28%|██▊       | 55/200 [22:24<1:01:59, 25.65s/it]"
          ]
        },
        {
          "output_type": "stream",
          "name": "stdout",
          "text": [
            "The similarity score between two audios is -0.0060 (-1.0, 1.0).\n"
          ]
        },
        {
          "output_type": "stream",
          "name": "stderr",
          "text": [
            "Using cache found in /root/.cache/torch/hub/s3prl_s3prl_main\n",
            " 28%|██▊       | 56/200 [22:50<1:01:44, 25.73s/it]"
          ]
        },
        {
          "output_type": "stream",
          "name": "stdout",
          "text": [
            "The similarity score between two audios is 0.0165 (-1.0, 1.0).\n"
          ]
        },
        {
          "output_type": "stream",
          "name": "stderr",
          "text": [
            "Using cache found in /root/.cache/torch/hub/s3prl_s3prl_main\n",
            " 28%|██▊       | 57/200 [23:17<1:01:51, 25.95s/it]"
          ]
        },
        {
          "output_type": "stream",
          "name": "stdout",
          "text": [
            "The similarity score between two audios is 0.1990 (-1.0, 1.0).\n"
          ]
        },
        {
          "output_type": "stream",
          "name": "stderr",
          "text": [
            "Using cache found in /root/.cache/torch/hub/s3prl_s3prl_main\n",
            " 29%|██▉       | 58/200 [23:43<1:01:21, 25.93s/it]"
          ]
        },
        {
          "output_type": "stream",
          "name": "stdout",
          "text": [
            "The similarity score between two audios is 0.0572 (-1.0, 1.0).\n"
          ]
        },
        {
          "output_type": "stream",
          "name": "stderr",
          "text": [
            "Using cache found in /root/.cache/torch/hub/s3prl_s3prl_main\n",
            " 30%|██▉       | 59/200 [24:09<1:00:52, 25.90s/it]"
          ]
        },
        {
          "output_type": "stream",
          "name": "stdout",
          "text": [
            "The similarity score between two audios is 0.0506 (-1.0, 1.0).\n"
          ]
        },
        {
          "output_type": "stream",
          "name": "stderr",
          "text": [
            "Using cache found in /root/.cache/torch/hub/s3prl_s3prl_main\n",
            " 30%|███       | 60/200 [24:35<1:00:27, 25.91s/it]"
          ]
        },
        {
          "output_type": "stream",
          "name": "stdout",
          "text": [
            "The similarity score between two audios is -0.0731 (-1.0, 1.0).\n"
          ]
        },
        {
          "output_type": "stream",
          "name": "stderr",
          "text": [
            "Using cache found in /root/.cache/torch/hub/s3prl_s3prl_main\n",
            " 30%|███       | 61/200 [25:01<1:00:10, 25.98s/it]"
          ]
        },
        {
          "output_type": "stream",
          "name": "stdout",
          "text": [
            "The similarity score between two audios is -0.0773 (-1.0, 1.0).\n"
          ]
        },
        {
          "output_type": "stream",
          "name": "stderr",
          "text": [
            "Using cache found in /root/.cache/torch/hub/s3prl_s3prl_main\n",
            " 31%|███       | 62/200 [25:27<59:47, 26.00s/it]  "
          ]
        },
        {
          "output_type": "stream",
          "name": "stdout",
          "text": [
            "The similarity score between two audios is 0.1936 (-1.0, 1.0).\n"
          ]
        },
        {
          "output_type": "stream",
          "name": "stderr",
          "text": [
            "Using cache found in /root/.cache/torch/hub/s3prl_s3prl_main\n",
            " 32%|███▏      | 63/200 [25:53<59:21, 26.00s/it]"
          ]
        },
        {
          "output_type": "stream",
          "name": "stdout",
          "text": [
            "The similarity score between two audios is 0.1922 (-1.0, 1.0).\n"
          ]
        },
        {
          "output_type": "stream",
          "name": "stderr",
          "text": [
            "Using cache found in /root/.cache/torch/hub/s3prl_s3prl_main\n",
            " 32%|███▏      | 64/200 [26:19<59:08, 26.09s/it]"
          ]
        },
        {
          "output_type": "stream",
          "name": "stdout",
          "text": [
            "The similarity score between two audios is 0.1952 (-1.0, 1.0).\n"
          ]
        },
        {
          "output_type": "stream",
          "name": "stderr",
          "text": [
            "Using cache found in /root/.cache/torch/hub/s3prl_s3prl_main\n",
            " 32%|███▎      | 65/200 [26:46<59:02, 26.24s/it]"
          ]
        },
        {
          "output_type": "stream",
          "name": "stdout",
          "text": [
            "The similarity score between two audios is 0.0950 (-1.0, 1.0).\n"
          ]
        },
        {
          "output_type": "stream",
          "name": "stderr",
          "text": [
            "Using cache found in /root/.cache/torch/hub/s3prl_s3prl_main\n",
            " 33%|███▎      | 66/200 [27:13<59:34, 26.68s/it]"
          ]
        },
        {
          "output_type": "stream",
          "name": "stdout",
          "text": [
            "The similarity score between two audios is 0.0699 (-1.0, 1.0).\n"
          ]
        },
        {
          "output_type": "stream",
          "name": "stderr",
          "text": [
            "Using cache found in /root/.cache/torch/hub/s3prl_s3prl_main\n",
            " 34%|███▎      | 67/200 [27:40<58:53, 26.57s/it]"
          ]
        },
        {
          "output_type": "stream",
          "name": "stdout",
          "text": [
            "The similarity score between two audios is -0.0708 (-1.0, 1.0).\n"
          ]
        },
        {
          "output_type": "stream",
          "name": "stderr",
          "text": [
            "Using cache found in /root/.cache/torch/hub/s3prl_s3prl_main\n",
            " 34%|███▍      | 68/200 [28:05<57:56, 26.34s/it]"
          ]
        },
        {
          "output_type": "stream",
          "name": "stdout",
          "text": [
            "The similarity score between two audios is -0.0084 (-1.0, 1.0).\n"
          ]
        },
        {
          "output_type": "stream",
          "name": "stderr",
          "text": [
            "Using cache found in /root/.cache/torch/hub/s3prl_s3prl_main\n",
            " 34%|███▍      | 69/200 [28:31<57:00, 26.11s/it]"
          ]
        },
        {
          "output_type": "stream",
          "name": "stdout",
          "text": [
            "The similarity score between two audios is -0.0320 (-1.0, 1.0).\n"
          ]
        },
        {
          "output_type": "stream",
          "name": "stderr",
          "text": [
            "Using cache found in /root/.cache/torch/hub/s3prl_s3prl_main\n",
            " 35%|███▌      | 70/200 [28:57<56:25, 26.04s/it]"
          ]
        },
        {
          "output_type": "stream",
          "name": "stdout",
          "text": [
            "The similarity score between two audios is 0.0621 (-1.0, 1.0).\n"
          ]
        },
        {
          "output_type": "stream",
          "name": "stderr",
          "text": [
            "Using cache found in /root/.cache/torch/hub/s3prl_s3prl_main\n",
            " 36%|███▌      | 71/200 [29:24<56:27, 26.26s/it]"
          ]
        },
        {
          "output_type": "stream",
          "name": "stdout",
          "text": [
            "The similarity score between two audios is 0.0577 (-1.0, 1.0).\n"
          ]
        },
        {
          "output_type": "stream",
          "name": "stderr",
          "text": [
            "Using cache found in /root/.cache/torch/hub/s3prl_s3prl_main\n",
            " 36%|███▌      | 72/200 [29:50<55:52, 26.19s/it]"
          ]
        },
        {
          "output_type": "stream",
          "name": "stdout",
          "text": [
            "The similarity score between two audios is 0.1654 (-1.0, 1.0).\n"
          ]
        },
        {
          "output_type": "stream",
          "name": "stderr",
          "text": [
            "Using cache found in /root/.cache/torch/hub/s3prl_s3prl_main\n",
            " 36%|███▋      | 73/200 [30:16<55:34, 26.26s/it]"
          ]
        },
        {
          "output_type": "stream",
          "name": "stdout",
          "text": [
            "The similarity score between two audios is 0.0506 (-1.0, 1.0).\n"
          ]
        },
        {
          "output_type": "stream",
          "name": "stderr",
          "text": [
            "Using cache found in /root/.cache/torch/hub/s3prl_s3prl_main\n",
            " 37%|███▋      | 74/200 [30:43<55:35, 26.47s/it]"
          ]
        },
        {
          "output_type": "stream",
          "name": "stdout",
          "text": [
            "The similarity score between two audios is -0.0178 (-1.0, 1.0).\n"
          ]
        },
        {
          "output_type": "stream",
          "name": "stderr",
          "text": [
            "Using cache found in /root/.cache/torch/hub/s3prl_s3prl_main\n",
            " 38%|███▊      | 75/200 [31:09<55:04, 26.44s/it]"
          ]
        },
        {
          "output_type": "stream",
          "name": "stdout",
          "text": [
            "The similarity score between two audios is -0.0113 (-1.0, 1.0).\n"
          ]
        },
        {
          "output_type": "stream",
          "name": "stderr",
          "text": [
            "Using cache found in /root/.cache/torch/hub/s3prl_s3prl_main\n",
            " 38%|███▊      | 76/200 [31:35<54:14, 26.24s/it]"
          ]
        },
        {
          "output_type": "stream",
          "name": "stdout",
          "text": [
            "The similarity score between two audios is 0.1063 (-1.0, 1.0).\n"
          ]
        },
        {
          "output_type": "stream",
          "name": "stderr",
          "text": [
            "Using cache found in /root/.cache/torch/hub/s3prl_s3prl_main\n",
            " 38%|███▊      | 77/200 [32:04<55:23, 27.02s/it]"
          ]
        },
        {
          "output_type": "stream",
          "name": "stdout",
          "text": [
            "The similarity score between two audios is 0.0447 (-1.0, 1.0).\n"
          ]
        },
        {
          "output_type": "stream",
          "name": "stderr",
          "text": [
            "Using cache found in /root/.cache/torch/hub/s3prl_s3prl_main\n",
            " 39%|███▉      | 78/200 [32:30<54:14, 26.68s/it]"
          ]
        },
        {
          "output_type": "stream",
          "name": "stdout",
          "text": [
            "The similarity score between two audios is -0.0419 (-1.0, 1.0).\n"
          ]
        },
        {
          "output_type": "stream",
          "name": "stderr",
          "text": [
            "Using cache found in /root/.cache/torch/hub/s3prl_s3prl_main\n",
            " 40%|███▉      | 79/200 [32:55<53:05, 26.33s/it]"
          ]
        },
        {
          "output_type": "stream",
          "name": "stdout",
          "text": [
            "The similarity score between two audios is 0.1662 (-1.0, 1.0).\n"
          ]
        },
        {
          "output_type": "stream",
          "name": "stderr",
          "text": [
            "Using cache found in /root/.cache/torch/hub/s3prl_s3prl_main\n",
            " 40%|████      | 80/200 [33:21<52:17, 26.14s/it]"
          ]
        },
        {
          "output_type": "stream",
          "name": "stdout",
          "text": [
            "The similarity score between two audios is 0.1247 (-1.0, 1.0).\n"
          ]
        },
        {
          "output_type": "stream",
          "name": "stderr",
          "text": [
            "Using cache found in /root/.cache/torch/hub/s3prl_s3prl_main\n",
            " 40%|████      | 81/200 [33:46<51:15, 25.84s/it]"
          ]
        },
        {
          "output_type": "stream",
          "name": "stdout",
          "text": [
            "The similarity score between two audios is -0.0127 (-1.0, 1.0).\n"
          ]
        },
        {
          "output_type": "stream",
          "name": "stderr",
          "text": [
            "Using cache found in /root/.cache/torch/hub/s3prl_s3prl_main\n",
            " 41%|████      | 82/200 [34:12<50:34, 25.72s/it]"
          ]
        },
        {
          "output_type": "stream",
          "name": "stdout",
          "text": [
            "The similarity score between two audios is 0.1297 (-1.0, 1.0).\n"
          ]
        },
        {
          "output_type": "stream",
          "name": "stderr",
          "text": [
            "Using cache found in /root/.cache/torch/hub/s3prl_s3prl_main\n",
            " 42%|████▏     | 83/200 [34:37<50:03, 25.67s/it]"
          ]
        },
        {
          "output_type": "stream",
          "name": "stdout",
          "text": [
            "The similarity score between two audios is 0.0677 (-1.0, 1.0).\n"
          ]
        },
        {
          "output_type": "stream",
          "name": "stderr",
          "text": [
            "Using cache found in /root/.cache/torch/hub/s3prl_s3prl_main\n",
            " 42%|████▏     | 84/200 [35:03<49:44, 25.73s/it]"
          ]
        },
        {
          "output_type": "stream",
          "name": "stdout",
          "text": [
            "The similarity score between two audios is 0.0670 (-1.0, 1.0).\n"
          ]
        },
        {
          "output_type": "stream",
          "name": "stderr",
          "text": [
            "Using cache found in /root/.cache/torch/hub/s3prl_s3prl_main\n",
            " 42%|████▎     | 85/200 [35:29<49:16, 25.70s/it]"
          ]
        },
        {
          "output_type": "stream",
          "name": "stdout",
          "text": [
            "The similarity score between two audios is -0.0507 (-1.0, 1.0).\n"
          ]
        },
        {
          "output_type": "stream",
          "name": "stderr",
          "text": [
            "Using cache found in /root/.cache/torch/hub/s3prl_s3prl_main\n",
            " 43%|████▎     | 86/200 [35:55<49:14, 25.91s/it]"
          ]
        },
        {
          "output_type": "stream",
          "name": "stdout",
          "text": [
            "The similarity score between two audios is 0.0500 (-1.0, 1.0).\n"
          ]
        },
        {
          "output_type": "stream",
          "name": "stderr",
          "text": [
            "Using cache found in /root/.cache/torch/hub/s3prl_s3prl_main\n",
            " 44%|████▎     | 87/200 [36:21<48:58, 26.00s/it]"
          ]
        },
        {
          "output_type": "stream",
          "name": "stdout",
          "text": [
            "The similarity score between two audios is 0.0092 (-1.0, 1.0).\n"
          ]
        },
        {
          "output_type": "stream",
          "name": "stderr",
          "text": [
            "Using cache found in /root/.cache/torch/hub/s3prl_s3prl_main\n",
            " 44%|████▍     | 88/200 [36:48<48:39, 26.07s/it]"
          ]
        },
        {
          "output_type": "stream",
          "name": "stdout",
          "text": [
            "The similarity score between two audios is 0.0378 (-1.0, 1.0).\n"
          ]
        },
        {
          "output_type": "stream",
          "name": "stderr",
          "text": [
            "Using cache found in /root/.cache/torch/hub/s3prl_s3prl_main\n",
            " 44%|████▍     | 89/200 [37:14<48:34, 26.25s/it]"
          ]
        },
        {
          "output_type": "stream",
          "name": "stdout",
          "text": [
            "The similarity score between two audios is 0.1094 (-1.0, 1.0).\n"
          ]
        },
        {
          "output_type": "stream",
          "name": "stderr",
          "text": [
            "Using cache found in /root/.cache/torch/hub/s3prl_s3prl_main\n",
            " 45%|████▌     | 90/200 [37:40<47:58, 26.16s/it]"
          ]
        },
        {
          "output_type": "stream",
          "name": "stdout",
          "text": [
            "The similarity score between two audios is -0.0309 (-1.0, 1.0).\n"
          ]
        },
        {
          "output_type": "stream",
          "name": "stderr",
          "text": [
            "Using cache found in /root/.cache/torch/hub/s3prl_s3prl_main\n",
            " 46%|████▌     | 91/200 [38:06<47:20, 26.06s/it]"
          ]
        },
        {
          "output_type": "stream",
          "name": "stdout",
          "text": [
            "The similarity score between two audios is -0.0107 (-1.0, 1.0).\n"
          ]
        },
        {
          "output_type": "stream",
          "name": "stderr",
          "text": [
            "Using cache found in /root/.cache/torch/hub/s3prl_s3prl_main\n",
            " 46%|████▌     | 92/200 [38:32<46:44, 25.97s/it]"
          ]
        },
        {
          "output_type": "stream",
          "name": "stdout",
          "text": [
            "The similarity score between two audios is 0.2049 (-1.0, 1.0).\n"
          ]
        },
        {
          "output_type": "stream",
          "name": "stderr",
          "text": [
            "Using cache found in /root/.cache/torch/hub/s3prl_s3prl_main\n",
            " 46%|████▋     | 93/200 [38:57<46:08, 25.87s/it]"
          ]
        },
        {
          "output_type": "stream",
          "name": "stdout",
          "text": [
            "The similarity score between two audios is 0.1661 (-1.0, 1.0).\n"
          ]
        },
        {
          "output_type": "stream",
          "name": "stderr",
          "text": [
            "Using cache found in /root/.cache/torch/hub/s3prl_s3prl_main\n",
            " 47%|████▋     | 94/200 [39:23<45:43, 25.88s/it]"
          ]
        },
        {
          "output_type": "stream",
          "name": "stdout",
          "text": [
            "The similarity score between two audios is -0.0514 (-1.0, 1.0).\n"
          ]
        },
        {
          "output_type": "stream",
          "name": "stderr",
          "text": [
            "Using cache found in /root/.cache/torch/hub/s3prl_s3prl_main\n",
            " 48%|████▊     | 95/200 [39:49<45:17, 25.88s/it]"
          ]
        },
        {
          "output_type": "stream",
          "name": "stdout",
          "text": [
            "The similarity score between two audios is -0.1243 (-1.0, 1.0).\n"
          ]
        },
        {
          "output_type": "stream",
          "name": "stderr",
          "text": [
            "Using cache found in /root/.cache/torch/hub/s3prl_s3prl_main\n",
            " 48%|████▊     | 96/200 [40:16<45:20, 26.16s/it]"
          ]
        },
        {
          "output_type": "stream",
          "name": "stdout",
          "text": [
            "The similarity score between two audios is -0.1042 (-1.0, 1.0).\n"
          ]
        },
        {
          "output_type": "stream",
          "name": "stderr",
          "text": [
            "Using cache found in /root/.cache/torch/hub/s3prl_s3prl_main\n",
            " 48%|████▊     | 97/200 [40:42<44:44, 26.06s/it]"
          ]
        },
        {
          "output_type": "stream",
          "name": "stdout",
          "text": [
            "The similarity score between two audios is 0.0470 (-1.0, 1.0).\n"
          ]
        },
        {
          "output_type": "stream",
          "name": "stderr",
          "text": [
            "Using cache found in /root/.cache/torch/hub/s3prl_s3prl_main\n",
            " 49%|████▉     | 98/200 [41:07<43:57, 25.86s/it]"
          ]
        },
        {
          "output_type": "stream",
          "name": "stdout",
          "text": [
            "The similarity score between two audios is -0.0470 (-1.0, 1.0).\n"
          ]
        },
        {
          "output_type": "stream",
          "name": "stderr",
          "text": [
            "Using cache found in /root/.cache/torch/hub/s3prl_s3prl_main\n",
            " 50%|████▉     | 99/200 [41:32<42:58, 25.53s/it]"
          ]
        },
        {
          "output_type": "stream",
          "name": "stdout",
          "text": [
            "The similarity score between two audios is 0.0165 (-1.0, 1.0).\n"
          ]
        },
        {
          "output_type": "stream",
          "name": "stderr",
          "text": [
            "Using cache found in /root/.cache/torch/hub/s3prl_s3prl_main\n",
            " 50%|█████     | 100/200 [41:57<42:20, 25.41s/it]"
          ]
        },
        {
          "output_type": "stream",
          "name": "stdout",
          "text": [
            "The similarity score between two audios is 0.1219 (-1.0, 1.0).\n"
          ]
        },
        {
          "output_type": "stream",
          "name": "stderr",
          "text": [
            "Using cache found in /root/.cache/torch/hub/s3prl_s3prl_main\n",
            " 50%|█████     | 101/200 [42:22<41:45, 25.31s/it]"
          ]
        },
        {
          "output_type": "stream",
          "name": "stdout",
          "text": [
            "The similarity score between two audios is -0.1252 (-1.0, 1.0).\n"
          ]
        },
        {
          "output_type": "stream",
          "name": "stderr",
          "text": [
            "Using cache found in /root/.cache/torch/hub/s3prl_s3prl_main\n",
            " 51%|█████     | 102/200 [42:48<41:39, 25.50s/it]"
          ]
        },
        {
          "output_type": "stream",
          "name": "stdout",
          "text": [
            "The similarity score between two audios is 0.5399 (-1.0, 1.0).\n"
          ]
        },
        {
          "output_type": "stream",
          "name": "stderr",
          "text": [
            "Using cache found in /root/.cache/torch/hub/s3prl_s3prl_main\n",
            " 52%|█████▏    | 103/200 [43:13<40:55, 25.32s/it]"
          ]
        },
        {
          "output_type": "stream",
          "name": "stdout",
          "text": [
            "The similarity score between two audios is 0.3920 (-1.0, 1.0).\n"
          ]
        },
        {
          "output_type": "stream",
          "name": "stderr",
          "text": [
            "Using cache found in /root/.cache/torch/hub/s3prl_s3prl_main\n",
            " 52%|█████▏    | 104/200 [43:38<40:25, 25.27s/it]"
          ]
        },
        {
          "output_type": "stream",
          "name": "stdout",
          "text": [
            "The similarity score between two audios is 0.8213 (-1.0, 1.0).\n"
          ]
        },
        {
          "output_type": "stream",
          "name": "stderr",
          "text": [
            "Using cache found in /root/.cache/torch/hub/s3prl_s3prl_main\n",
            " 52%|█████▎    | 105/200 [44:04<40:08, 25.35s/it]"
          ]
        },
        {
          "output_type": "stream",
          "name": "stdout",
          "text": [
            "The similarity score between two audios is 0.6023 (-1.0, 1.0).\n"
          ]
        },
        {
          "output_type": "stream",
          "name": "stderr",
          "text": [
            "Using cache found in /root/.cache/torch/hub/s3prl_s3prl_main\n",
            " 53%|█████▎    | 106/200 [44:30<40:00, 25.54s/it]"
          ]
        },
        {
          "output_type": "stream",
          "name": "stdout",
          "text": [
            "The similarity score between two audios is 0.4802 (-1.0, 1.0).\n"
          ]
        },
        {
          "output_type": "stream",
          "name": "stderr",
          "text": [
            "Using cache found in /root/.cache/torch/hub/s3prl_s3prl_main\n",
            " 54%|█████▎    | 107/200 [44:57<40:28, 26.12s/it]"
          ]
        },
        {
          "output_type": "stream",
          "name": "stdout",
          "text": [
            "The similarity score between two audios is 0.4657 (-1.0, 1.0).\n"
          ]
        },
        {
          "output_type": "stream",
          "name": "stderr",
          "text": [
            "Using cache found in /root/.cache/torch/hub/s3prl_s3prl_main\n",
            " 54%|█████▍    | 108/200 [45:23<39:44, 25.92s/it]"
          ]
        },
        {
          "output_type": "stream",
          "name": "stdout",
          "text": [
            "The similarity score between two audios is 0.8291 (-1.0, 1.0).\n"
          ]
        },
        {
          "output_type": "stream",
          "name": "stderr",
          "text": [
            "Using cache found in /root/.cache/torch/hub/s3prl_s3prl_main\n",
            " 55%|█████▍    | 109/200 [45:49<39:25, 26.00s/it]"
          ]
        },
        {
          "output_type": "stream",
          "name": "stdout",
          "text": [
            "The similarity score between two audios is 0.4740 (-1.0, 1.0).\n"
          ]
        },
        {
          "output_type": "stream",
          "name": "stderr",
          "text": [
            "Using cache found in /root/.cache/torch/hub/s3prl_s3prl_main\n",
            " 55%|█████▌    | 110/200 [46:15<39:06, 26.07s/it]"
          ]
        },
        {
          "output_type": "stream",
          "name": "stdout",
          "text": [
            "The similarity score between two audios is 0.5074 (-1.0, 1.0).\n"
          ]
        },
        {
          "output_type": "stream",
          "name": "stderr",
          "text": [
            "Using cache found in /root/.cache/torch/hub/s3prl_s3prl_main\n",
            " 56%|█████▌    | 111/200 [46:43<39:20, 26.53s/it]"
          ]
        },
        {
          "output_type": "stream",
          "name": "stdout",
          "text": [
            "The similarity score between two audios is 0.6973 (-1.0, 1.0).\n"
          ]
        },
        {
          "output_type": "stream",
          "name": "stderr",
          "text": [
            "Using cache found in /root/.cache/torch/hub/s3prl_s3prl_main\n",
            " 56%|█████▌    | 112/200 [47:09<39:00, 26.60s/it]"
          ]
        },
        {
          "output_type": "stream",
          "name": "stdout",
          "text": [
            "The similarity score between two audios is 0.7622 (-1.0, 1.0).\n"
          ]
        },
        {
          "output_type": "stream",
          "name": "stderr",
          "text": [
            "Using cache found in /root/.cache/torch/hub/s3prl_s3prl_main\n",
            " 56%|█████▋    | 113/200 [47:36<38:25, 26.50s/it]"
          ]
        },
        {
          "output_type": "stream",
          "name": "stdout",
          "text": [
            "The similarity score between two audios is 0.4608 (-1.0, 1.0).\n"
          ]
        },
        {
          "output_type": "stream",
          "name": "stderr",
          "text": [
            "Using cache found in /root/.cache/torch/hub/s3prl_s3prl_main\n",
            " 57%|█████▋    | 114/200 [48:02<37:40, 26.29s/it]"
          ]
        },
        {
          "output_type": "stream",
          "name": "stdout",
          "text": [
            "The similarity score between two audios is 0.7448 (-1.0, 1.0).\n"
          ]
        },
        {
          "output_type": "stream",
          "name": "stderr",
          "text": [
            "Using cache found in /root/.cache/torch/hub/s3prl_s3prl_main\n",
            " 57%|█████▊    | 115/200 [48:28<37:07, 26.21s/it]"
          ]
        },
        {
          "output_type": "stream",
          "name": "stdout",
          "text": [
            "The similarity score between two audios is 0.7638 (-1.0, 1.0).\n"
          ]
        },
        {
          "output_type": "stream",
          "name": "stderr",
          "text": [
            "Using cache found in /root/.cache/torch/hub/s3prl_s3prl_main\n",
            " 58%|█████▊    | 116/200 [48:53<36:18, 25.94s/it]"
          ]
        },
        {
          "output_type": "stream",
          "name": "stdout",
          "text": [
            "The similarity score between two audios is 0.6346 (-1.0, 1.0).\n"
          ]
        },
        {
          "output_type": "stream",
          "name": "stderr",
          "text": [
            "Using cache found in /root/.cache/torch/hub/s3prl_s3prl_main\n",
            " 58%|█████▊    | 117/200 [49:18<35:30, 25.67s/it]"
          ]
        },
        {
          "output_type": "stream",
          "name": "stdout",
          "text": [
            "The similarity score between two audios is 0.5726 (-1.0, 1.0).\n"
          ]
        },
        {
          "output_type": "stream",
          "name": "stderr",
          "text": [
            "Using cache found in /root/.cache/torch/hub/s3prl_s3prl_main\n",
            " 59%|█████▉    | 118/200 [49:43<34:47, 25.46s/it]"
          ]
        },
        {
          "output_type": "stream",
          "name": "stdout",
          "text": [
            "The similarity score between two audios is 0.8220 (-1.0, 1.0).\n"
          ]
        },
        {
          "output_type": "stream",
          "name": "stderr",
          "text": [
            "Using cache found in /root/.cache/torch/hub/s3prl_s3prl_main\n",
            " 60%|█████▉    | 119/200 [50:08<34:15, 25.38s/it]"
          ]
        },
        {
          "output_type": "stream",
          "name": "stdout",
          "text": [
            "The similarity score between two audios is 0.8141 (-1.0, 1.0).\n"
          ]
        },
        {
          "output_type": "stream",
          "name": "stderr",
          "text": [
            "Using cache found in /root/.cache/torch/hub/s3prl_s3prl_main\n",
            " 60%|██████    | 120/200 [50:33<33:37, 25.22s/it]"
          ]
        },
        {
          "output_type": "stream",
          "name": "stdout",
          "text": [
            "The similarity score between two audios is 0.4570 (-1.0, 1.0).\n"
          ]
        },
        {
          "output_type": "stream",
          "name": "stderr",
          "text": [
            "Using cache found in /root/.cache/torch/hub/s3prl_s3prl_main\n",
            " 60%|██████    | 121/200 [50:59<33:34, 25.50s/it]"
          ]
        },
        {
          "output_type": "stream",
          "name": "stdout",
          "text": [
            "The similarity score between two audios is 0.6400 (-1.0, 1.0).\n"
          ]
        },
        {
          "output_type": "stream",
          "name": "stderr",
          "text": [
            "Using cache found in /root/.cache/torch/hub/s3prl_s3prl_main\n",
            " 61%|██████    | 122/200 [51:25<33:25, 25.71s/it]"
          ]
        },
        {
          "output_type": "stream",
          "name": "stdout",
          "text": [
            "The similarity score between two audios is 0.5433 (-1.0, 1.0).\n"
          ]
        },
        {
          "output_type": "stream",
          "name": "stderr",
          "text": [
            "Using cache found in /root/.cache/torch/hub/s3prl_s3prl_main\n",
            " 62%|██████▏   | 123/200 [51:52<33:17, 25.94s/it]"
          ]
        },
        {
          "output_type": "stream",
          "name": "stdout",
          "text": [
            "The similarity score between two audios is 0.6406 (-1.0, 1.0).\n"
          ]
        },
        {
          "output_type": "stream",
          "name": "stderr",
          "text": [
            "Using cache found in /root/.cache/torch/hub/s3prl_s3prl_main\n",
            " 62%|██████▏   | 124/200 [52:18<33:06, 26.14s/it]"
          ]
        },
        {
          "output_type": "stream",
          "name": "stdout",
          "text": [
            "The similarity score between two audios is 0.7473 (-1.0, 1.0).\n"
          ]
        },
        {
          "output_type": "stream",
          "name": "stderr",
          "text": [
            "Using cache found in /root/.cache/torch/hub/s3prl_s3prl_main\n",
            " 62%|██████▎   | 125/200 [52:44<32:38, 26.12s/it]"
          ]
        },
        {
          "output_type": "stream",
          "name": "stdout",
          "text": [
            "The similarity score between two audios is 0.5632 (-1.0, 1.0).\n"
          ]
        },
        {
          "output_type": "stream",
          "name": "stderr",
          "text": [
            "Using cache found in /root/.cache/torch/hub/s3prl_s3prl_main\n",
            " 63%|██████▎   | 126/200 [53:11<32:23, 26.26s/it]"
          ]
        },
        {
          "output_type": "stream",
          "name": "stdout",
          "text": [
            "The similarity score between two audios is 0.7754 (-1.0, 1.0).\n"
          ]
        },
        {
          "output_type": "stream",
          "name": "stderr",
          "text": [
            "Using cache found in /root/.cache/torch/hub/s3prl_s3prl_main\n",
            " 64%|██████▎   | 127/200 [53:38<32:23, 26.62s/it]"
          ]
        },
        {
          "output_type": "stream",
          "name": "stdout",
          "text": [
            "The similarity score between two audios is 0.5336 (-1.0, 1.0).\n"
          ]
        },
        {
          "output_type": "stream",
          "name": "stderr",
          "text": [
            "Using cache found in /root/.cache/torch/hub/s3prl_s3prl_main\n"
          ]
        }
      ]
    },
    {
      "cell_type": "code",
      "source": [
        "data_df.to_csv(\"/content/drive/MyDrive/speaker_verification_result.csv\""
      ],
      "metadata": {
        "id": "C0ftQqd-z1aW"
      },
      "execution_count": null,
      "outputs": []
    },
    {
      "cell_type": "code",
      "source": [
        "# stored above prediction logs into txt file by manully copying stdout of code run from above cell for\n",
        "#both hubert and wavlm large, as gpu accessed got revoked on both of my accounts and i lost data_df as session terminated\n",
        "hubert_pred_logs = '/content/hubert_large_pre_logs.txt'\n",
        "wavlm_pred_logs = \"/content/wavlm_large_pre_logs.txt\"\n",
        "\n",
        "#we will read these txt files and get prediction score for each file form logs line (The similarity score between two audios is 0.5336 (-1.0, 1.0))"
      ],
      "metadata": {
        "id": "XcCQuivo2IlP"
      },
      "execution_count": 2,
      "outputs": []
    },
    {
      "cell_type": "markdown",
      "source": [
        "#### Evaluation  (EER)"
      ],
      "metadata": {
        "id": "TwnUiEJiUeVt"
      }
    },
    {
      "cell_type": "code",
      "source": [
        "import re"
      ],
      "metadata": {
        "id": "7YeOXyfnW_y0"
      },
      "execution_count": 3,
      "outputs": []
    },
    {
      "cell_type": "code",
      "source": [
        "def read_file_into_list(filename):\n",
        "    with open(filename, 'r', encoding='utf-8', errors='ignore') as file:\n",
        "        lines = file.readlines()\n",
        "    return lines\n",
        "hubert_pred_lines = read_file_into_list(hubert_pred_logs)\n",
        "wemlm_pred_lines = read_file_into_list(wavlm_pred_logs)"
      ],
      "metadata": {
        "id": "fLna-ogsT1n3"
      },
      "execution_count": 4,
      "outputs": []
    },
    {
      "cell_type": "code",
      "source": [
        "hubert_pred_score = []\n",
        "for line in hubert_pred_lines:\n",
        "  if \"similarity score between two audios\" in line :\n",
        "    sim_score = line.split('similarity score between two audios is ')[-1].split(' ')[0]\n",
        "    hubert_pred_score.append(float(sim_score))\n",
        "len(hubert_pred_score)"
      ],
      "metadata": {
        "id": "hSAqy3G12Inx",
        "colab": {
          "base_uri": "https://localhost:8080/"
        },
        "outputId": "c6858243-fc20-4720-be13-ba19275fa1da"
      },
      "execution_count": 5,
      "outputs": [
        {
          "output_type": "execute_result",
          "data": {
            "text/plain": [
              "200"
            ]
          },
          "metadata": {},
          "execution_count": 5
        }
      ]
    },
    {
      "cell_type": "code",
      "source": [
        "#making truth labels as i know that first 100 were 0 label and  next 100 were 1 label\n",
        "hubert_true_score  = [0]*100 + [1]*100\n",
        "len(hubert_true_score)"
      ],
      "metadata": {
        "colab": {
          "base_uri": "https://localhost:8080/"
        },
        "id": "egipUa1_X9RB",
        "outputId": "5895b446-2169-48d5-a713-6b41463a9d38"
      },
      "execution_count": 6,
      "outputs": [
        {
          "output_type": "execute_result",
          "data": {
            "text/plain": [
              "200"
            ]
          },
          "metadata": {},
          "execution_count": 6
        }
      ]
    },
    {
      "cell_type": "code",
      "source": [
        "wavlm_pred_score = []\n",
        "for line in wemlm_pred_lines:\n",
        "  if \"similarity score between two audios\" in line :\n",
        "    sim_score = line.split('similarity score between two audios is ')[-1].split(' ')[0]\n",
        "    wavlm_pred_score.append(float(sim_score))\n",
        "len(wavlm_pred_score)"
      ],
      "metadata": {
        "colab": {
          "base_uri": "https://localhost:8080/"
        },
        "id": "pj2jfrs0XIl0",
        "outputId": "6ae4e65f-a6c3-4982-b6fc-94588ece2c5c"
      },
      "execution_count": 7,
      "outputs": [
        {
          "output_type": "execute_result",
          "data": {
            "text/plain": [
              "126"
            ]
          },
          "metadata": {},
          "execution_count": 7
        }
      ]
    },
    {
      "cell_type": "code",
      "source": [
        "#making truth labels as i know that first 100 were 0 label and  next 100 were 1 label,\n",
        "# but pred run for only 126 files hence , 100 with 0 label and 26 with 1 label\n",
        "wavlm_true_score  = [0]*100 + [1]*26\n",
        "len(wavlm_true_score)"
      ],
      "metadata": {
        "colab": {
          "base_uri": "https://localhost:8080/"
        },
        "id": "yVzQFimHYUPJ",
        "outputId": "e1eb7e8b-b56b-4f35-a93a-ac4b7dcc7d37"
      },
      "execution_count": 8,
      "outputs": [
        {
          "output_type": "execute_result",
          "data": {
            "text/plain": [
              "126"
            ]
          },
          "metadata": {},
          "execution_count": 8
        }
      ]
    },
    {
      "cell_type": "code",
      "source": [
        "wavlm_pred_label = [ 0 if each < 0.5 else 1 for each in wavlm_pred_score]\n",
        "hubert_pred_label = [ 0 if each < 0.5 else 1 for each in hubert_pred_score]"
      ],
      "metadata": {
        "id": "xfrA8n3Vf_3T"
      },
      "execution_count": 9,
      "outputs": []
    },
    {
      "cell_type": "code",
      "source": [
        "from sklearn.metrics import accuracy_score, precision_score, recall_score\n",
        "\n",
        "def calculate_metrics(true_labels, predicted_labels):\n",
        "    accuracy = accuracy_score(true_labels, predicted_labels)\n",
        "    precision = precision_score(true_labels, predicted_labels)\n",
        "    recall = recall_score(true_labels, predicted_labels)\n",
        "    return accuracy, precision, recall\n",
        "\n",
        "accuracy, precision, recall = calculate_metrics(wavlm_true_score, wavlm_pred_label)\n",
        "print(\"Wavelm Large Accuracy:\", accuracy)\n",
        "print(\"Wavelm Large Precision:\", precision)\n",
        "print(\"Wavelm Large Recall:\", recall)\n"
      ],
      "metadata": {
        "colab": {
          "base_uri": "https://localhost:8080/"
        },
        "id": "ZrzGjW8UgcEq",
        "outputId": "ca20d163-e509-4b2c-f247-e2b7ac609911"
      },
      "execution_count": 10,
      "outputs": [
        {
          "output_type": "stream",
          "name": "stdout",
          "text": [
            "Wavelm Large Accuracy: 0.9523809523809523\n",
            "Wavelm Large Precision: 1.0\n",
            "Wavelm Large Recall: 0.7692307692307693\n"
          ]
        }
      ]
    },
    {
      "cell_type": "code",
      "source": [
        "accuracy, precision, recall = calculate_metrics(hubert_true_score, hubert_pred_label)\n",
        "print(\"Hubert Large Accuracy:\", accuracy)\n",
        "print(\"Hubert Large Precision:\", precision)\n",
        "print(\"Hubert Large Recall:\", recall)"
      ],
      "metadata": {
        "colab": {
          "base_uri": "https://localhost:8080/"
        },
        "id": "tXYzdSoegqLo",
        "outputId": "53303367-5ec9-4eec-e26d-1abaa8afc60c"
      },
      "execution_count": 11,
      "outputs": [
        {
          "output_type": "stream",
          "name": "stdout",
          "text": [
            "Hubert Large Accuracy: 0.905\n",
            "Hubert Large Precision: 1.0\n",
            "Hubert Large Recall: 0.81\n"
          ]
        }
      ]
    },
    {
      "cell_type": "code",
      "source": [
        "import numpy as np\n",
        "from sklearn.metrics import confusion_matrix\n",
        "\n",
        "def calculate_far_frr(true_labels, similarity_scores, thresholds):\n",
        "    eer = float('inf')\n",
        "    eer_threshold = None\n",
        "    far_frr = []\n",
        "\n",
        "    for threshold in thresholds:\n",
        "        # Calculate predictions based on the given threshold\n",
        "        predictions = (similarity_scores >= threshold).astype(int)\n",
        "\n",
        "        # Generate confusion matrix\n",
        "        cm = confusion_matrix(true_labels, predictions)\n",
        "\n",
        "        # Extract values from confusion matrix\n",
        "        tn, fp, fn, tp = cm.ravel()\n",
        "\n",
        "        # Calculate FAR and FRR\n",
        "        far = fp / (fp + tn)\n",
        "        frr = fn / (fn + tp)\n",
        "\n",
        "        far_frr.append((threshold, far * 100, frr * 100))\n",
        "\n",
        "        # Check if EER threshold needs to be updated\n",
        "        if abs(far - frr) < eer:\n",
        "            eer = abs(far - frr)\n",
        "            eer_threshold = threshold\n",
        "\n",
        "    return far_frr, eer_threshold"
      ],
      "metadata": {
        "id": "7x2pxrv_aZ8z"
      },
      "execution_count": 38,
      "outputs": []
    },
    {
      "cell_type": "code",
      "source": [
        "#true labels and similarity scores\n",
        "true_labels = hubert_true_score\n",
        "similarity_scores = hubert_pred_score\n",
        "\n",
        "# Define a range of thresholds\n",
        "thresholds = np.linspace(-1, 1, num=100)\n",
        "\n",
        "# Calculate FAR, FRR, and EER\n",
        "far_frr, eer_threshold = calculate_far_frr(true_labels, similarity_scores, thresholds)\n",
        "\n",
        "print(\"Threshold\\tFAR\\t\\tFRR\")\n",
        "for threshold, far, frr in far_frr:\n",
        "  print(\"{:.4f}\\t\\t{:.2f}%\\t\\t{:.2f}%\".format(threshold, far, frr))\n",
        "\n",
        "print(\"\\nEqual Error Rate (EER) Threshold:\", eer_threshold)"
      ],
      "metadata": {
        "colab": {
          "base_uri": "https://localhost:8080/"
        },
        "id": "DUTotxGp9lJx",
        "outputId": "ae5f34dc-fd0f-4d63-e121-34e5f60187fa"
      },
      "execution_count": 39,
      "outputs": [
        {
          "output_type": "stream",
          "name": "stdout",
          "text": [
            "Threshold\tFAR\t\tFRR\n",
            "-1.0000\t\t100.00%\t\t0.00%\n",
            "-0.9798\t\t100.00%\t\t0.00%\n",
            "-0.9596\t\t100.00%\t\t0.00%\n",
            "-0.9394\t\t100.00%\t\t0.00%\n",
            "-0.9192\t\t100.00%\t\t0.00%\n",
            "-0.8990\t\t100.00%\t\t0.00%\n",
            "-0.8788\t\t100.00%\t\t0.00%\n",
            "-0.8586\t\t100.00%\t\t0.00%\n",
            "-0.8384\t\t100.00%\t\t0.00%\n",
            "-0.8182\t\t100.00%\t\t0.00%\n",
            "-0.7980\t\t100.00%\t\t0.00%\n",
            "-0.7778\t\t100.00%\t\t0.00%\n",
            "-0.7576\t\t100.00%\t\t0.00%\n",
            "-0.7374\t\t100.00%\t\t0.00%\n",
            "-0.7172\t\t100.00%\t\t0.00%\n",
            "-0.6970\t\t100.00%\t\t0.00%\n",
            "-0.6768\t\t100.00%\t\t0.00%\n",
            "-0.6566\t\t100.00%\t\t0.00%\n",
            "-0.6364\t\t100.00%\t\t0.00%\n",
            "-0.6162\t\t100.00%\t\t0.00%\n",
            "-0.5960\t\t100.00%\t\t0.00%\n",
            "-0.5758\t\t100.00%\t\t0.00%\n",
            "-0.5556\t\t100.00%\t\t0.00%\n",
            "-0.5354\t\t100.00%\t\t0.00%\n",
            "-0.5152\t\t100.00%\t\t0.00%\n",
            "-0.4949\t\t100.00%\t\t0.00%\n",
            "-0.4747\t\t100.00%\t\t0.00%\n",
            "-0.4545\t\t100.00%\t\t0.00%\n",
            "-0.4343\t\t100.00%\t\t0.00%\n",
            "-0.4141\t\t100.00%\t\t0.00%\n",
            "-0.3939\t\t100.00%\t\t0.00%\n",
            "-0.3737\t\t100.00%\t\t0.00%\n",
            "-0.3535\t\t100.00%\t\t0.00%\n",
            "-0.3333\t\t100.00%\t\t0.00%\n",
            "-0.3131\t\t100.00%\t\t0.00%\n",
            "-0.2929\t\t100.00%\t\t0.00%\n",
            "-0.2727\t\t100.00%\t\t0.00%\n",
            "-0.2525\t\t100.00%\t\t0.00%\n",
            "-0.2323\t\t100.00%\t\t0.00%\n",
            "-0.2121\t\t99.00%\t\t0.00%\n",
            "-0.1919\t\t98.00%\t\t0.00%\n",
            "-0.1717\t\t98.00%\t\t0.00%\n",
            "-0.1515\t\t98.00%\t\t0.00%\n",
            "-0.1313\t\t97.00%\t\t0.00%\n",
            "-0.1111\t\t96.00%\t\t0.00%\n",
            "-0.0909\t\t95.00%\t\t0.00%\n",
            "-0.0707\t\t90.00%\t\t0.00%\n",
            "-0.0505\t\t82.00%\t\t0.00%\n",
            "-0.0303\t\t77.00%\t\t0.00%\n",
            "-0.0101\t\t72.00%\t\t0.00%\n",
            "0.0101\t\t61.00%\t\t0.00%\n",
            "0.0303\t\t47.00%\t\t0.00%\n",
            "0.0505\t\t36.00%\t\t0.00%\n",
            "0.0707\t\t28.00%\t\t0.00%\n",
            "0.0909\t\t21.00%\t\t0.00%\n",
            "0.1111\t\t13.00%\t\t0.00%\n",
            "0.1313\t\t9.00%\t\t0.00%\n",
            "0.1515\t\t4.00%\t\t0.00%\n",
            "0.1717\t\t3.00%\t\t0.00%\n",
            "0.1919\t\t1.00%\t\t0.00%\n",
            "0.2121\t\t1.00%\t\t0.00%\n",
            "0.2323\t\t1.00%\t\t0.00%\n",
            "0.2525\t\t0.00%\t\t0.00%\n",
            "0.2727\t\t0.00%\t\t0.00%\n",
            "0.2929\t\t0.00%\t\t0.00%\n",
            "0.3131\t\t0.00%\t\t0.00%\n",
            "0.3333\t\t0.00%\t\t1.00%\n",
            "0.3535\t\t0.00%\t\t1.00%\n",
            "0.3737\t\t0.00%\t\t2.00%\n",
            "0.3939\t\t0.00%\t\t4.00%\n",
            "0.4141\t\t0.00%\t\t9.00%\n",
            "0.4343\t\t0.00%\t\t10.00%\n",
            "0.4545\t\t0.00%\t\t12.00%\n",
            "0.4747\t\t0.00%\t\t16.00%\n",
            "0.4949\t\t0.00%\t\t18.00%\n",
            "0.5152\t\t0.00%\t\t21.00%\n",
            "0.5354\t\t0.00%\t\t27.00%\n",
            "0.5556\t\t0.00%\t\t33.00%\n",
            "0.5758\t\t0.00%\t\t41.00%\n",
            "0.5960\t\t0.00%\t\t49.00%\n",
            "0.6162\t\t0.00%\t\t52.00%\n",
            "0.6364\t\t0.00%\t\t58.00%\n",
            "0.6566\t\t0.00%\t\t62.00%\n",
            "0.6768\t\t0.00%\t\t68.00%\n",
            "0.6970\t\t0.00%\t\t68.00%\n",
            "0.7172\t\t0.00%\t\t74.00%\n",
            "0.7374\t\t0.00%\t\t77.00%\n",
            "0.7576\t\t0.00%\t\t82.00%\n",
            "0.7778\t\t0.00%\t\t84.00%\n",
            "0.7980\t\t0.00%\t\t89.00%\n",
            "0.8182\t\t0.00%\t\t92.00%\n",
            "0.8384\t\t0.00%\t\t98.00%\n",
            "0.8586\t\t0.00%\t\t98.00%\n",
            "0.8788\t\t0.00%\t\t99.00%\n",
            "0.8990\t\t0.00%\t\t99.00%\n",
            "0.9192\t\t0.00%\t\t99.00%\n",
            "0.9394\t\t0.00%\t\t100.00%\n",
            "0.9596\t\t0.00%\t\t100.00%\n",
            "0.9798\t\t0.00%\t\t100.00%\n",
            "1.0000\t\t0.00%\t\t100.00%\n",
            "\n",
            "Equal Error Rate (EER) Threshold: 0.2525252525252526\n"
          ]
        }
      ]
    },
    {
      "cell_type": "code",
      "source": [
        "# true labels and similarity scores\n",
        "true_labels = wavlm_true_score\n",
        "similarity_scores = wavlm_pred_score\n",
        "\n",
        "# Define a range of thresholds\n",
        "thresholds = np.linspace(-1, 1, num=100)\n",
        "\n",
        "# Calculate FAR, FRR, and EER\n",
        "far_frr, eer_threshold = calculate_far_frr(true_labels, similarity_scores, thresholds)\n",
        "\n",
        "print(\"Threshold\\tFAR\\t\\tFRR\")\n",
        "for threshold, far, frr in far_frr:\n",
        "  print(\"{:.4f}\\t\\t{:.2f}%\\t\\t{:.2f}%\".format(threshold, far, frr))\n",
        "\n",
        "print(\"\\nEqual Error Rate (EER) Threshold:\", eer_threshold)"
      ],
      "metadata": {
        "colab": {
          "base_uri": "https://localhost:8080/"
        },
        "id": "SxFLp0bD9t8h",
        "outputId": "8f658781-f2d7-471f-8581-3ceec9f9a038"
      },
      "execution_count": 40,
      "outputs": [
        {
          "output_type": "stream",
          "name": "stdout",
          "text": [
            "Threshold\tFAR\t\tFRR\n",
            "-1.0000\t\t100.00%\t\t0.00%\n",
            "-0.9798\t\t100.00%\t\t0.00%\n",
            "-0.9596\t\t100.00%\t\t0.00%\n",
            "-0.9394\t\t100.00%\t\t0.00%\n",
            "-0.9192\t\t100.00%\t\t0.00%\n",
            "-0.8990\t\t100.00%\t\t0.00%\n",
            "-0.8788\t\t100.00%\t\t0.00%\n",
            "-0.8586\t\t100.00%\t\t0.00%\n",
            "-0.8384\t\t100.00%\t\t0.00%\n",
            "-0.8182\t\t100.00%\t\t0.00%\n",
            "-0.7980\t\t100.00%\t\t0.00%\n",
            "-0.7778\t\t100.00%\t\t0.00%\n",
            "-0.7576\t\t100.00%\t\t0.00%\n",
            "-0.7374\t\t100.00%\t\t0.00%\n",
            "-0.7172\t\t100.00%\t\t0.00%\n",
            "-0.6970\t\t100.00%\t\t0.00%\n",
            "-0.6768\t\t100.00%\t\t0.00%\n",
            "-0.6566\t\t100.00%\t\t0.00%\n",
            "-0.6364\t\t100.00%\t\t0.00%\n",
            "-0.6162\t\t100.00%\t\t0.00%\n",
            "-0.5960\t\t100.00%\t\t0.00%\n",
            "-0.5758\t\t100.00%\t\t0.00%\n",
            "-0.5556\t\t100.00%\t\t0.00%\n",
            "-0.5354\t\t100.00%\t\t0.00%\n",
            "-0.5152\t\t100.00%\t\t0.00%\n",
            "-0.4949\t\t100.00%\t\t0.00%\n",
            "-0.4747\t\t100.00%\t\t0.00%\n",
            "-0.4545\t\t100.00%\t\t0.00%\n",
            "-0.4343\t\t100.00%\t\t0.00%\n",
            "-0.4141\t\t100.00%\t\t0.00%\n",
            "-0.3939\t\t100.00%\t\t0.00%\n",
            "-0.3737\t\t100.00%\t\t0.00%\n",
            "-0.3535\t\t100.00%\t\t0.00%\n",
            "-0.3333\t\t100.00%\t\t0.00%\n",
            "-0.3131\t\t100.00%\t\t0.00%\n",
            "-0.2929\t\t100.00%\t\t0.00%\n",
            "-0.2727\t\t100.00%\t\t0.00%\n",
            "-0.2525\t\t100.00%\t\t0.00%\n",
            "-0.2323\t\t100.00%\t\t0.00%\n",
            "-0.2121\t\t100.00%\t\t0.00%\n",
            "-0.1919\t\t99.00%\t\t0.00%\n",
            "-0.1717\t\t99.00%\t\t0.00%\n",
            "-0.1515\t\t98.00%\t\t0.00%\n",
            "-0.1313\t\t98.00%\t\t0.00%\n",
            "-0.1111\t\t95.00%\t\t0.00%\n",
            "-0.0909\t\t94.00%\t\t0.00%\n",
            "-0.0707\t\t87.00%\t\t0.00%\n",
            "-0.0505\t\t84.00%\t\t0.00%\n",
            "-0.0303\t\t74.00%\t\t0.00%\n",
            "-0.0101\t\t68.00%\t\t0.00%\n",
            "0.0101\t\t61.00%\t\t0.00%\n",
            "0.0303\t\t56.00%\t\t0.00%\n",
            "0.0505\t\t42.00%\t\t0.00%\n",
            "0.0707\t\t32.00%\t\t0.00%\n",
            "0.0909\t\t26.00%\t\t0.00%\n",
            "0.1111\t\t19.00%\t\t0.00%\n",
            "0.1313\t\t14.00%\t\t0.00%\n",
            "0.1515\t\t12.00%\t\t0.00%\n",
            "0.1717\t\t7.00%\t\t0.00%\n",
            "0.1919\t\t6.00%\t\t0.00%\n",
            "0.2121\t\t1.00%\t\t0.00%\n",
            "0.2323\t\t0.00%\t\t0.00%\n",
            "0.2525\t\t0.00%\t\t0.00%\n",
            "0.2727\t\t0.00%\t\t0.00%\n",
            "0.2929\t\t0.00%\t\t0.00%\n",
            "0.3131\t\t0.00%\t\t0.00%\n",
            "0.3333\t\t0.00%\t\t0.00%\n",
            "0.3535\t\t0.00%\t\t0.00%\n",
            "0.3737\t\t0.00%\t\t0.00%\n",
            "0.3939\t\t0.00%\t\t3.85%\n",
            "0.4141\t\t0.00%\t\t3.85%\n",
            "0.4343\t\t0.00%\t\t3.85%\n",
            "0.4545\t\t0.00%\t\t3.85%\n",
            "0.4747\t\t0.00%\t\t19.23%\n",
            "0.4949\t\t0.00%\t\t23.08%\n",
            "0.5152\t\t0.00%\t\t26.92%\n",
            "0.5354\t\t0.00%\t\t30.77%\n",
            "0.5556\t\t0.00%\t\t38.46%\n",
            "0.5758\t\t0.00%\t\t46.15%\n",
            "0.5960\t\t0.00%\t\t46.15%\n",
            "0.6162\t\t0.00%\t\t50.00%\n",
            "0.6364\t\t0.00%\t\t53.85%\n",
            "0.6566\t\t0.00%\t\t61.54%\n",
            "0.6768\t\t0.00%\t\t61.54%\n",
            "0.6970\t\t0.00%\t\t61.54%\n",
            "0.7172\t\t0.00%\t\t65.38%\n",
            "0.7374\t\t0.00%\t\t65.38%\n",
            "0.7576\t\t0.00%\t\t73.08%\n",
            "0.7778\t\t0.00%\t\t84.62%\n",
            "0.7980\t\t0.00%\t\t84.62%\n",
            "0.8182\t\t0.00%\t\t88.46%\n",
            "0.8384\t\t0.00%\t\t100.00%\n",
            "0.8586\t\t0.00%\t\t100.00%\n",
            "0.8788\t\t0.00%\t\t100.00%\n",
            "0.8990\t\t0.00%\t\t100.00%\n",
            "0.9192\t\t0.00%\t\t100.00%\n",
            "0.9394\t\t0.00%\t\t100.00%\n",
            "0.9596\t\t0.00%\t\t100.00%\n",
            "0.9798\t\t0.00%\t\t100.00%\n",
            "1.0000\t\t0.00%\t\t100.00%\n",
            "\n",
            "Equal Error Rate (EER) Threshold: 0.2323232323232325\n"
          ]
        }
      ]
    },
    {
      "cell_type": "code",
      "source": [],
      "metadata": {
        "id": "_msun75T9xpz"
      },
      "execution_count": null,
      "outputs": []
    }
  ]
}