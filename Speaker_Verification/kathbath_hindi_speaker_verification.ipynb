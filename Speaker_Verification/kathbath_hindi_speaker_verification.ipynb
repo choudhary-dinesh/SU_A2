{
  "nbformat": 4,
  "nbformat_minor": 0,
  "metadata": {
    "colab": {
      "provenance": [],
      "collapsed_sections": [
        "6xAjYktLLOh1",
        "fskRMiMxLcEZ",
        "yVXq-5ORe96O",
        "z-nuTYf1fFK-"
      ],
      "gpuType": "T4"
    },
    "kernelspec": {
      "name": "python3",
      "display_name": "Python 3"
    },
    "language_info": {
      "name": "python"
    },
    "accelerator": "GPU"
  },
  "cells": [
    {
      "cell_type": "markdown",
      "source": [
        "#### KB Hindi Dataset"
      ],
      "metadata": {
        "id": "6xAjYktLLOh1"
      }
    },
    {
      "cell_type": "code",
      "execution_count": null,
      "metadata": {
        "colab": {
          "base_uri": "https://localhost:8080/"
        },
        "id": "GF55zLyBA438",
        "outputId": "7fda8803-59e6-4aee-a08f-c390591aa0ae"
      },
      "outputs": [
        {
          "output_type": "stream",
          "name": "stdout",
          "text": [
            "Archive:  /content/drive/MyDrive/kb_hindi.zip\n",
            "   creating: kb_hindi/\n",
            "  inflating: kb_hindi/844424930501837-229-f.m4a  \n",
            "  inflating: kb_hindi/844424930526948-229-f.m4a  \n",
            "  inflating: kb_hindi/844424930526976-229-f.m4a  \n",
            "  inflating: kb_hindi/844424930526981-229-f.m4a  \n",
            "  inflating: kb_hindi/844424930545015-229-f.m4a  \n",
            "  inflating: kb_hindi/844424930545051-229-f.m4a  \n",
            "  inflating: kb_hindi/844424930549635-229-f.m4a  \n",
            "  inflating: kb_hindi/844424930549690-229-f.m4a  \n",
            "  inflating: kb_hindi/844424930552419-229-f.m4a  \n",
            "  inflating: kb_hindi/844424930552433-229-f.m4a  \n",
            "  inflating: kb_hindi/844424930553799-229-f.m4a  \n",
            "  inflating: kb_hindi/844424930553861-229-f.m4a  \n",
            "  inflating: kb_hindi/844424930553876-229-f.m4a  \n",
            "  inflating: kb_hindi/844424930553886-229-f.m4a  \n",
            "  inflating: kb_hindi/844424930561623-229-f.m4a  \n",
            "  inflating: kb_hindi/844424930561658-229-f.m4a  \n",
            "  inflating: kb_hindi/844424930561685-229-f.m4a  \n",
            "  inflating: kb_hindi/844424930583403-326-f.m4a  \n",
            "  inflating: kb_hindi/844424930583405-326-f.m4a  \n",
            "  inflating: kb_hindi/844424930583434-326-f.m4a  \n",
            "  inflating: kb_hindi/844424930583485-326-f.m4a  \n",
            "  inflating: kb_hindi/844424930583489-326-f.m4a  \n",
            "  inflating: kb_hindi/844424930594715-929-m.m4a  \n",
            "  inflating: kb_hindi/844424930594722-929-m.m4a  \n",
            "  inflating: kb_hindi/844424930594754-929-m.m4a  \n",
            "  inflating: kb_hindi/844424930594772-929-m.m4a  \n",
            "  inflating: kb_hindi/844424930594788-929-m.m4a  \n",
            "  inflating: kb_hindi/844424930598734-326-f.m4a  \n",
            "  inflating: kb_hindi/844424930598774-326-f.m4a  \n",
            "  inflating: kb_hindi/844424930599225-3-f.m4a  \n",
            "  inflating: kb_hindi/844424930599234-3-f.m4a  \n",
            "  inflating: kb_hindi/844424930599277-3-f.m4a  \n",
            "  inflating: kb_hindi/844424930599278-3-f.m4a  \n",
            "  inflating: kb_hindi/844424930600419-888-f.m4a  \n",
            "  inflating: kb_hindi/844424930600424-888-f.m4a  \n",
            "  inflating: kb_hindi/844424930600439-888-f.m4a  \n",
            "  inflating: kb_hindi/844424930600457-888-f.m4a  \n",
            "  inflating: kb_hindi/844424930600481-888-f.m4a  \n",
            "  inflating: kb_hindi/844424930600485-888-f.m4a  \n",
            "  inflating: kb_hindi/844424930600843-229-f.m4a  \n",
            "  inflating: kb_hindi/844424930600852-229-f.m4a  \n",
            "  inflating: kb_hindi/844424930602993-326-f.m4a  \n",
            "  inflating: kb_hindi/844424930603059-326-f.m4a  \n",
            "  inflating: kb_hindi/844424930604849-229-f.m4a  \n",
            "  inflating: kb_hindi/844424930604858-229-f.m4a  \n",
            "  inflating: kb_hindi/844424930604869-229-f.m4a  \n",
            "  inflating: kb_hindi/844424930604881-229-f.m4a  \n",
            "  inflating: kb_hindi/844424930609694-3-f.m4a  \n",
            "  inflating: kb_hindi/844424930609727-3-f.m4a  \n",
            "  inflating: kb_hindi/844424930609757-3-f.m4a  \n",
            "  inflating: kb_hindi/844424930609758-3-f.m4a  \n",
            "  inflating: kb_hindi/844424930609760-3-f.m4a  \n",
            "  inflating: kb_hindi/844424930609767-3-f.m4a  \n",
            "  inflating: kb_hindi/844424930609775-3-f.m4a  \n",
            "  inflating: kb_hindi/844424930609778-3-f.m4a  \n",
            "  inflating: kb_hindi/844424930609788-3-f.m4a  \n",
            "  inflating: kb_hindi/844424930614631-229-f.m4a  \n",
            "  inflating: kb_hindi/844424930615251-326-f.m4a  \n",
            "  inflating: kb_hindi/844424930615256-326-f.m4a  \n",
            "  inflating: kb_hindi/844424930615259-326-f.m4a  \n",
            "  inflating: kb_hindi/844424930615281-326-f.m4a  \n",
            "  inflating: kb_hindi/844424930618704-888-f.m4a  \n",
            "  inflating: kb_hindi/844424930618735-888-f.m4a  \n",
            "  inflating: kb_hindi/844424930618741-888-f.m4a  \n",
            "  inflating: kb_hindi/844424930618761-888-f.m4a  \n",
            "  inflating: kb_hindi/844424930618784-888-f.m4a  \n",
            "  inflating: kb_hindi/844424930619311-929-m.m4a  \n",
            "  inflating: kb_hindi/844424930619319-929-m.m4a  \n",
            "  inflating: kb_hindi/844424930619325-929-m.m4a  \n",
            "  inflating: kb_hindi/844424930619328-929-m.m4a  \n",
            "  inflating: kb_hindi/844424930619336-929-m.m4a  \n",
            "  inflating: kb_hindi/844424930619338-929-m.m4a  \n",
            "  inflating: kb_hindi/844424930619356-929-m.m4a  \n",
            "  inflating: kb_hindi/844424930619365-929-m.m4a  \n",
            "  inflating: kb_hindi/844424930619372-929-m.m4a  \n",
            "  inflating: kb_hindi/844424930619377-929-m.m4a  \n",
            "  inflating: kb_hindi/844424930619383-929-m.m4a  \n",
            "  inflating: kb_hindi/844424930620098-3-f.m4a  \n",
            "  inflating: kb_hindi/844424930620129-3-f.m4a  \n",
            "  inflating: kb_hindi/844424930620130-3-f.m4a  \n",
            "  inflating: kb_hindi/844424930620172-3-f.m4a  \n",
            "  inflating: kb_hindi/844424930620179-3-f.m4a  \n",
            "  inflating: kb_hindi/844424930639209-326-f.m4a  \n",
            "  inflating: kb_hindi/844424930639253-326-f.m4a  \n",
            "  inflating: kb_hindi/844424930639285-326-f.m4a  \n",
            "  inflating: kb_hindi/844424930639287-326-f.m4a  \n",
            "  inflating: kb_hindi/844424930642643-326-f.m4a  \n",
            "  inflating: kb_hindi/844424930642666-326-f.m4a  \n",
            "  inflating: kb_hindi/844424930642690-326-f.m4a  \n",
            "  inflating: kb_hindi/844424930645297-326-f.m4a  \n",
            "  inflating: kb_hindi/844424930645338-326-f.m4a  \n",
            "  inflating: kb_hindi/844424930645371-326-f.m4a  \n",
            "  inflating: kb_hindi/844424930645384-326-f.m4a  \n",
            "  inflating: kb_hindi/844424930648226-384-f.m4a  \n",
            "  inflating: kb_hindi/844424930648258-384-f.m4a  \n",
            "  inflating: kb_hindi/844424930648277-384-f.m4a  \n",
            "  inflating: kb_hindi/844424930648278-384-f.m4a  \n",
            "  inflating: kb_hindi/844424930648281-384-f.m4a  \n",
            "  inflating: kb_hindi/844424930648317-384-f.m4a  \n",
            "  inflating: kb_hindi/844424930648730-326-f.m4a  \n",
            "  inflating: kb_hindi/844424930648737-326-f.m4a  \n",
            "  inflating: kb_hindi/844424930648745-326-f.m4a  \n",
            "  inflating: kb_hindi/844424930648770-326-f.m4a  \n",
            "  inflating: kb_hindi/844424930648779-326-f.m4a  \n",
            "  inflating: kb_hindi/844424930648794-326-f.m4a  \n",
            "  inflating: kb_hindi/844424930648805-326-f.m4a  \n",
            "  inflating: kb_hindi/844424930648810-326-f.m4a  \n",
            "  inflating: kb_hindi/844424930648814-326-f.m4a  \n",
            "  inflating: kb_hindi/844424930651421-929-m.m4a  \n",
            "  inflating: kb_hindi/844424930651425-929-m.m4a  \n",
            "  inflating: kb_hindi/844424930651445-929-m.m4a  \n",
            "  inflating: kb_hindi/844424930651464-929-m.m4a  \n",
            "  inflating: kb_hindi/844424930651469-929-m.m4a  \n",
            "  inflating: kb_hindi/844424930651476-929-m.m4a  \n",
            "  inflating: kb_hindi/844424930651494-929-m.m4a  \n",
            "  inflating: kb_hindi/844424930651496-929-m.m4a  \n",
            "  inflating: kb_hindi/844424930651507-929-m.m4a  \n",
            "  inflating: kb_hindi/844424930651512-929-m.m4a  \n",
            "  inflating: kb_hindi/844424930651516-929-m.m4a  \n",
            "  inflating: kb_hindi/844424930651517-929-m.m4a  \n",
            "  inflating: kb_hindi/844424930656625-929-m.m4a  \n",
            "  inflating: kb_hindi/844424930656629-929-m.m4a  \n",
            "  inflating: kb_hindi/844424930656632-929-m.m4a  \n",
            "  inflating: kb_hindi/844424930656640-929-m.m4a  \n",
            "  inflating: kb_hindi/844424930656645-929-m.m4a  \n",
            "  inflating: kb_hindi/844424930656648-929-m.m4a  \n",
            "  inflating: kb_hindi/844424930656652-929-m.m4a  \n",
            "  inflating: kb_hindi/844424930656663-929-m.m4a  \n",
            "  inflating: kb_hindi/844424930656673-929-m.m4a  \n",
            "  inflating: kb_hindi/844424930656675-929-m.m4a  \n",
            "  inflating: kb_hindi/844424930656678-929-m.m4a  \n",
            "  inflating: kb_hindi/844424930656679-929-m.m4a  \n",
            "  inflating: kb_hindi/844424930656686-929-m.m4a  \n",
            "  inflating: kb_hindi/844424930656694-929-m.m4a  \n",
            "  inflating: kb_hindi/844424930656704-929-m.m4a  \n",
            "  inflating: kb_hindi/844424930656711-929-m.m4a  \n",
            "  inflating: kb_hindi/844424930656713-929-m.m4a  \n",
            "  inflating: kb_hindi/844424930659555-727-f.m4a  \n",
            "  inflating: kb_hindi/844424930659571-727-f.m4a  \n",
            "  inflating: kb_hindi/844424930659583-727-f.m4a  \n",
            "  inflating: kb_hindi/844424930659586-727-f.m4a  \n",
            "  inflating: kb_hindi/844424930659594-727-f.m4a  \n",
            "  inflating: kb_hindi/844424930659611-727-f.m4a  \n",
            "  inflating: kb_hindi/844424930660821-929-m.m4a  \n",
            "  inflating: kb_hindi/844424930660829-929-m.m4a  \n",
            "  inflating: kb_hindi/844424930660833-929-m.m4a  \n",
            "  inflating: kb_hindi/844424930660834-929-m.m4a  \n",
            "  inflating: kb_hindi/844424930660841-929-m.m4a  \n",
            "  inflating: kb_hindi/844424930660849-929-m.m4a  \n",
            "  inflating: kb_hindi/844424930660864-929-m.m4a  \n",
            "  inflating: kb_hindi/844424930660867-929-m.m4a  \n",
            "  inflating: kb_hindi/844424930660873-929-m.m4a  \n",
            "  inflating: kb_hindi/844424930660876-929-m.m4a  \n",
            "  inflating: kb_hindi/844424930660877-929-m.m4a  \n",
            "  inflating: kb_hindi/844424930660879-929-m.m4a  \n",
            "  inflating: kb_hindi/844424930660883-929-m.m4a  \n",
            "  inflating: kb_hindi/844424930660890-929-m.m4a  \n",
            "  inflating: kb_hindi/844424930660891-929-m.m4a  \n",
            "  inflating: kb_hindi/844424930660894-929-m.m4a  \n",
            "  inflating: kb_hindi/844424930660895-929-m.m4a  \n",
            "  inflating: kb_hindi/844424930660909-929-m.m4a  \n",
            "  inflating: kb_hindi/844424930660912-929-m.m4a  \n",
            "  inflating: kb_hindi/844424930667527-229-f.m4a  \n",
            "  inflating: kb_hindi/844424930667529-229-f.m4a  \n",
            "  inflating: kb_hindi/844424930667560-229-f.m4a  \n",
            "  inflating: kb_hindi/844424930667565-229-f.m4a  \n",
            "  inflating: kb_hindi/844424930667572-229-f.m4a  \n",
            "  inflating: kb_hindi/844424930667575-229-f.m4a  \n",
            "  inflating: kb_hindi/844424930667727-929-m.m4a  \n",
            "  inflating: kb_hindi/844424930667732-929-m.m4a  \n",
            "  inflating: kb_hindi/844424930667742-929-m.m4a  \n",
            "  inflating: kb_hindi/844424930667758-929-m.m4a  \n",
            "  inflating: kb_hindi/844424930667769-929-m.m4a  \n",
            "  inflating: kb_hindi/844424930667771-929-m.m4a  \n",
            "  inflating: kb_hindi/844424930667773-929-m.m4a  \n",
            "  inflating: kb_hindi/844424930667774-929-m.m4a  \n",
            "  inflating: kb_hindi/844424930667777-929-m.m4a  \n",
            "  inflating: kb_hindi/844424930667778-929-m.m4a  \n",
            "  inflating: kb_hindi/844424930667781-929-m.m4a  \n",
            "  inflating: kb_hindi/844424930667784-929-m.m4a  \n",
            "  inflating: kb_hindi/844424930667792-929-m.m4a  \n",
            "  inflating: kb_hindi/844424930667793-929-m.m4a  \n",
            "  inflating: kb_hindi/844424930667794-929-m.m4a  \n",
            "  inflating: kb_hindi/844424930667795-929-m.m4a  \n",
            "  inflating: kb_hindi/844424930667798-929-m.m4a  \n",
            "  inflating: kb_hindi/844424930667800-929-m.m4a  \n",
            "  inflating: kb_hindi/844424930667807-929-m.m4a  \n",
            "  inflating: kb_hindi/844424930667809-929-m.m4a  \n",
            "  inflating: kb_hindi/844424930667818-929-m.m4a  \n",
            "  inflating: kb_hindi/844424930670120-326-f.m4a  \n",
            "  inflating: kb_hindi/844424930670131-326-f.m4a  \n",
            "  inflating: kb_hindi/844424930670182-326-f.m4a  \n",
            "  inflating: kb_hindi/844424930672289-229-f.m4a  \n",
            "  inflating: kb_hindi/844424930672297-229-f.m4a  \n",
            "  inflating: kb_hindi/844424930672623-929-m.m4a  \n",
            "  inflating: kb_hindi/844424930672630-929-m.m4a  \n",
            "  inflating: kb_hindi/844424930672638-929-m.m4a  \n",
            "  inflating: kb_hindi/844424930672644-929-m.m4a  \n",
            "  inflating: kb_hindi/844424930672655-929-m.m4a  \n",
            "  inflating: kb_hindi/844424930672659-929-m.m4a  \n",
            "  inflating: kb_hindi/844424930672670-929-m.m4a  \n",
            "  inflating: kb_hindi/844424930672687-929-m.m4a  \n",
            "  inflating: kb_hindi/844424930672692-929-m.m4a  \n",
            "  inflating: kb_hindi/844424930672702-929-m.m4a  \n",
            "  inflating: kb_hindi/844424930672710-929-m.m4a  \n",
            "  inflating: kb_hindi/844424930672712-929-m.m4a  \n",
            "  inflating: kb_hindi/844424930680237-3-f.m4a  \n",
            "  inflating: kb_hindi/844424930680285-3-f.m4a  \n",
            "  inflating: kb_hindi/844424930680297-3-f.m4a  \n",
            "  inflating: kb_hindi/844424930680303-3-f.m4a  \n",
            "  inflating: kb_hindi/844424930680306-3-f.m4a  \n",
            "  inflating: kb_hindi/844424930680316-3-f.m4a  \n",
            "  inflating: kb_hindi/844424930680319-3-f.m4a  \n",
            "  inflating: kb_hindi/844424930685538-326-f.m4a  \n",
            "  inflating: kb_hindi/844424930685549-326-f.m4a  \n",
            "  inflating: kb_hindi/844424930685572-326-f.m4a  \n",
            "  inflating: kb_hindi/844424930686870-326-f.m4a  \n",
            "  inflating: kb_hindi/844424930686896-326-f.m4a  \n",
            "  inflating: kb_hindi/844424930690039-229-f.m4a  \n",
            "  inflating: kb_hindi/844424930690064-229-f.m4a  \n",
            "  inflating: kb_hindi/844424930690074-229-f.m4a  \n",
            "  inflating: kb_hindi/844424930690088-229-f.m4a  \n",
            "  inflating: kb_hindi/844424930690107-229-f.m4a  \n",
            "  inflating: kb_hindi/844424930690110-229-f.m4a  \n",
            "  inflating: kb_hindi/844424930690111-229-f.m4a  \n",
            "  inflating: kb_hindi/844424930690523-277-f.m4a  \n",
            "  inflating: kb_hindi/844424930690539-277-f.m4a  \n",
            "  inflating: kb_hindi/844424930690552-277-f.m4a  \n",
            "  inflating: kb_hindi/844424930690553-277-f.m4a  \n",
            "  inflating: kb_hindi/844424930690568-277-f.m4a  \n",
            "  inflating: kb_hindi/844424930690573-277-f.m4a  \n",
            "  inflating: kb_hindi/844424930690576-277-f.m4a  \n",
            "  inflating: kb_hindi/844424930690593-277-f.m4a  \n",
            "  inflating: kb_hindi/844424930702352-326-f.m4a  \n",
            "  inflating: kb_hindi/844424930702365-326-f.m4a  \n",
            "  inflating: kb_hindi/844424930702379-326-f.m4a  \n",
            "  inflating: kb_hindi/844424930702395-326-f.m4a  \n",
            "  inflating: kb_hindi/844424930704826-326-f.m4a  \n",
            "  inflating: kb_hindi/844424930704851-326-f.m4a  \n",
            "  inflating: kb_hindi/844424930704888-326-f.m4a  \n",
            "  inflating: kb_hindi/844424930704889-326-f.m4a  \n",
            "  inflating: kb_hindi/844424930704920-929-m.m4a  \n",
            "  inflating: kb_hindi/844424930704931-929-m.m4a  \n",
            "  inflating: kb_hindi/844424930704933-929-m.m4a  \n",
            "  inflating: kb_hindi/844424930704940-929-m.m4a  \n",
            "  inflating: kb_hindi/844424930704943-929-m.m4a  \n",
            "  inflating: kb_hindi/844424930704951-929-m.m4a  \n",
            "  inflating: kb_hindi/844424930704964-929-m.m4a  \n",
            "  inflating: kb_hindi/844424930704970-929-m.m4a  \n",
            "  inflating: kb_hindi/844424930704972-929-m.m4a  \n",
            "  inflating: kb_hindi/844424930704998-929-m.m4a  \n",
            "  inflating: kb_hindi/844424930705000-929-m.m4a  \n",
            "  inflating: kb_hindi/844424930705004-929-m.m4a  \n",
            "  inflating: kb_hindi/844424930705009-929-m.m4a  \n",
            "  inflating: kb_hindi/844424930705018-929-m.m4a  \n",
            "  inflating: kb_hindi/844424930707120-326-f.m4a  \n",
            "  inflating: kb_hindi/844424930708031-277-f.m4a  \n",
            "  inflating: kb_hindi/844424930708092-277-f.m4a  \n",
            "  inflating: kb_hindi/844424930708106-277-f.m4a  \n",
            "  inflating: kb_hindi/844424930708116-277-f.m4a  \n",
            "  inflating: kb_hindi/844424930708117-277-f.m4a  \n",
            "  inflating: kb_hindi/844424930708118-277-f.m4a  \n",
            "  inflating: kb_hindi/844424930708833-727-f.m4a  \n",
            "  inflating: kb_hindi/844424930708880-727-f.m4a  \n",
            "  inflating: kb_hindi/844424930708891-727-f.m4a  \n",
            "  inflating: kb_hindi/844424930708898-727-f.m4a  \n",
            "  inflating: kb_hindi/844424930713420-929-m.m4a  \n",
            "  inflating: kb_hindi/844424930713428-929-m.m4a  \n",
            "  inflating: kb_hindi/844424930713434-929-m.m4a  \n",
            "  inflating: kb_hindi/844424930713439-929-m.m4a  \n",
            "  inflating: kb_hindi/844424930713440-929-m.m4a  \n",
            "  inflating: kb_hindi/844424930713442-929-m.m4a  \n",
            "  inflating: kb_hindi/844424930713446-929-m.m4a  \n",
            "  inflating: kb_hindi/844424930713459-929-m.m4a  \n",
            "  inflating: kb_hindi/844424930713482-929-m.m4a  \n",
            "  inflating: kb_hindi/844424930713483-929-m.m4a  \n",
            "  inflating: kb_hindi/844424930713497-929-m.m4a  \n",
            "  inflating: kb_hindi/844424930713498-929-m.m4a  \n",
            "  inflating: kb_hindi/844424930713513-929-m.m4a  \n",
            "  inflating: kb_hindi/844424930713515-929-m.m4a  \n",
            "  inflating: kb_hindi/844424930716620-929-m.m4a  \n",
            "  inflating: kb_hindi/844424930716623-929-m.m4a  \n",
            "  inflating: kb_hindi/844424930716654-929-m.m4a  \n",
            "  inflating: kb_hindi/844424930716666-929-m.m4a  \n",
            "  inflating: kb_hindi/844424930716667-929-m.m4a  \n",
            "  inflating: kb_hindi/844424930716675-929-m.m4a  \n",
            "  inflating: kb_hindi/844424930716676-929-m.m4a  \n",
            "  inflating: kb_hindi/844424930716679-929-m.m4a  \n",
            "  inflating: kb_hindi/844424930716691-929-m.m4a  \n",
            "  inflating: kb_hindi/844424930716695-929-m.m4a  \n",
            "  inflating: kb_hindi/844424930716696-929-m.m4a  \n",
            "  inflating: kb_hindi/844424930716698-929-m.m4a  \n",
            "  inflating: kb_hindi/844424930716700-929-m.m4a  \n",
            "  inflating: kb_hindi/844424930716702-929-m.m4a  \n",
            "  inflating: kb_hindi/844424930716707-929-m.m4a  \n",
            "  inflating: kb_hindi/844424930716708-929-m.m4a  \n",
            "  inflating: kb_hindi/844424930716712-929-m.m4a  \n",
            "  inflating: kb_hindi/844424930716713-929-m.m4a  \n",
            "  inflating: kb_hindi/844424930723034-229-f.m4a  \n",
            "  inflating: kb_hindi/844424930723044-229-f.m4a  \n",
            "  inflating: kb_hindi/844424930723047-229-f.m4a  \n",
            "  inflating: kb_hindi/844424930723084-229-f.m4a  \n",
            "  inflating: kb_hindi/844424930723091-229-f.m4a  \n",
            "  inflating: kb_hindi/844424930723094-229-f.m4a  \n",
            "  inflating: kb_hindi/844424930730659-326-f.m4a  \n",
            "  inflating: kb_hindi/844424930730675-326-f.m4a  \n",
            "  inflating: kb_hindi/844424930730685-326-f.m4a  \n",
            "  inflating: kb_hindi/844424930731424-326-f.m4a  \n",
            "  inflating: kb_hindi/844424930731479-326-f.m4a  \n",
            "  inflating: kb_hindi/844424930731482-326-f.m4a  \n",
            "  inflating: kb_hindi/844424930748990-326-f.m4a  \n",
            "  inflating: kb_hindi/844424930749022-326-f.m4a  \n",
            "  inflating: kb_hindi/844424930749040-326-f.m4a  \n",
            "  inflating: kb_hindi/844424930749067-326-f.m4a  \n",
            "  inflating: kb_hindi/844424930749069-326-f.m4a  \n",
            "  inflating: kb_hindi/844424930749523-277-f.m4a  \n",
            "  inflating: kb_hindi/844424930749541-277-f.m4a  \n",
            "  inflating: kb_hindi/844424930749564-277-f.m4a  \n",
            "  inflating: kb_hindi/844424930749580-277-f.m4a  \n",
            "  inflating: kb_hindi/844424930750370-326-f.m4a  \n",
            "  inflating: kb_hindi/844424930750371-326-f.m4a  \n",
            "  inflating: kb_hindi/844424930751590-229-f.m4a  \n",
            "  inflating: kb_hindi/844424930751615-229-f.m4a  \n",
            "  inflating: kb_hindi/844424930751616-229-f.m4a  \n",
            "  inflating: kb_hindi/844424930751656-229-f.m4a  \n",
            "  inflating: kb_hindi/844424930751687-229-f.m4a  \n",
            "  inflating: kb_hindi/844424930755397-277-f.m4a  \n",
            "  inflating: kb_hindi/844424930755400-277-f.m4a  \n",
            "  inflating: kb_hindi/844424930755415-277-f.m4a  \n",
            "  inflating: kb_hindi/844424930755420-277-f.m4a  \n",
            "  inflating: kb_hindi/844424930755483-277-f.m4a  \n",
            "  inflating: kb_hindi/844424930758899-277-f.m4a  \n",
            "  inflating: kb_hindi/844424930758906-277-f.m4a  \n",
            "  inflating: kb_hindi/844424930758916-277-f.m4a  \n",
            "  inflating: kb_hindi/844424930758919-277-f.m4a  \n",
            "  inflating: kb_hindi/844424930758943-277-f.m4a  \n",
            "  inflating: kb_hindi/844424930758962-277-f.m4a  \n",
            "  inflating: kb_hindi/844424930765097-277-f.m4a  \n",
            "  inflating: kb_hindi/844424930765143-277-f.m4a  \n",
            "  inflating: kb_hindi/844424930765173-277-f.m4a  \n",
            "  inflating: kb_hindi/844424930765181-277-f.m4a  \n",
            "  inflating: kb_hindi/844424930774637-888-f.m4a  \n",
            "  inflating: kb_hindi/844424930774652-888-f.m4a  \n",
            "  inflating: kb_hindi/844424930774657-888-f.m4a  \n",
            "  inflating: kb_hindi/844424930774658-888-f.m4a  \n",
            "  inflating: kb_hindi/844424930774667-888-f.m4a  \n",
            "  inflating: kb_hindi/844424930774676-888-f.m4a  \n",
            "  inflating: kb_hindi/844424930774682-888-f.m4a  \n",
            "  inflating: kb_hindi/844424930781741-229-f.m4a  \n",
            "  inflating: kb_hindi/844424930781766-229-f.m4a  \n",
            "  inflating: kb_hindi/844424930785249-229-f.m4a  \n",
            "  inflating: kb_hindi/844424930785261-229-f.m4a  \n",
            "  inflating: kb_hindi/844424930785272-229-f.m4a  \n",
            "  inflating: kb_hindi/844424930785277-229-f.m4a  \n",
            "  inflating: kb_hindi/844424930791849-229-f.m4a  \n",
            "  inflating: kb_hindi/844424930791903-229-f.m4a  \n",
            "  inflating: kb_hindi/844424930791955-229-f.m4a  \n",
            "  inflating: kb_hindi/844424930799989-277-f.m4a  \n",
            "  inflating: kb_hindi/844424930800020-277-f.m4a  \n",
            "  inflating: kb_hindi/844424930800023-277-f.m4a  \n",
            "  inflating: kb_hindi/844424930800041-277-f.m4a  \n",
            "  inflating: kb_hindi/844424930800049-277-f.m4a  \n",
            "  inflating: kb_hindi/844424930800052-277-f.m4a  \n",
            "  inflating: kb_hindi/844424930800070-277-f.m4a  \n",
            "  inflating: kb_hindi/844424930800075-277-f.m4a  \n",
            "  inflating: kb_hindi/844424930800396-277-f.m4a  \n",
            "  inflating: kb_hindi/844424930800398-277-f.m4a  \n",
            "  inflating: kb_hindi/844424930800436-277-f.m4a  \n",
            "  inflating: kb_hindi/844424930800448-277-f.m4a  \n",
            "  inflating: kb_hindi/844424930800451-277-f.m4a  \n",
            "  inflating: kb_hindi/844424930800457-277-f.m4a  \n",
            "  inflating: kb_hindi/844424930800461-277-f.m4a  \n",
            "  inflating: kb_hindi/844424930800474-277-f.m4a  \n",
            "  inflating: kb_hindi/844424930800477-277-f.m4a  \n",
            "  inflating: kb_hindi/844424930801190-277-f.m4a  \n",
            "  inflating: kb_hindi/844424930801201-277-f.m4a  \n",
            "  inflating: kb_hindi/844424930801202-277-f.m4a  \n",
            "  inflating: kb_hindi/844424930801205-277-f.m4a  \n",
            "  inflating: kb_hindi/844424930801214-277-f.m4a  \n",
            "  inflating: kb_hindi/844424930801216-277-f.m4a  \n",
            "  inflating: kb_hindi/844424930801223-277-f.m4a  \n",
            "  inflating: kb_hindi/844424930801233-277-f.m4a  \n",
            "  inflating: kb_hindi/844424930801256-277-f.m4a  \n",
            "  inflating: kb_hindi/844424930801257-277-f.m4a  \n",
            "  inflating: kb_hindi/844424930801269-277-f.m4a  \n",
            "  inflating: kb_hindi/844424930801273-277-f.m4a  \n",
            "  inflating: kb_hindi/844424930801285-277-f.m4a  \n",
            "  inflating: kb_hindi/844424930802490-277-f.m4a  \n",
            "  inflating: kb_hindi/844424930802520-277-f.m4a  \n",
            "  inflating: kb_hindi/844424930802554-277-f.m4a  \n",
            "  inflating: kb_hindi/844424930802561-277-f.m4a  \n",
            "  inflating: kb_hindi/844424930802563-277-f.m4a  \n",
            "  inflating: kb_hindi/844424930802570-277-f.m4a  \n",
            "  inflating: kb_hindi/844424930802578-277-f.m4a  \n",
            "  inflating: kb_hindi/844424930802587-277-f.m4a  \n",
            "  inflating: kb_hindi/844424930805824-277-f.m4a  \n",
            "  inflating: kb_hindi/844424930805835-277-f.m4a  \n",
            "  inflating: kb_hindi/844424930805839-277-f.m4a  \n",
            "  inflating: kb_hindi/844424930805855-277-f.m4a  \n",
            "  inflating: kb_hindi/844424930805862-277-f.m4a  \n",
            "  inflating: kb_hindi/844424930805864-277-f.m4a  \n",
            "  inflating: kb_hindi/844424930805869-277-f.m4a  \n",
            "  inflating: kb_hindi/844424930809801-1102-f.m4a  \n",
            "  inflating: kb_hindi/844424930809803-1102-f.m4a  \n",
            "  inflating: kb_hindi/844424930809834-1102-f.m4a  \n",
            "  inflating: kb_hindi/844424930826625-326-f.m4a  \n",
            "  inflating: kb_hindi/844424930826640-326-f.m4a  \n",
            "  inflating: kb_hindi/844424930829717-326-f.m4a  \n",
            "  inflating: kb_hindi/844424930829740-326-f.m4a  \n",
            "  inflating: kb_hindi/844424930829742-326-f.m4a  \n",
            "  inflating: kb_hindi/844424930829794-326-f.m4a  \n",
            "  inflating: kb_hindi/844424930848728-229-f.m4a  \n",
            "  inflating: kb_hindi/844424930848743-229-f.m4a  \n",
            "  inflating: kb_hindi/844424930848811-229-f.m4a  \n",
            "  inflating: kb_hindi/844424930858549-229-f.m4a  \n",
            "  inflating: kb_hindi/844424930858559-229-f.m4a  \n",
            "  inflating: kb_hindi/844424930858576-229-f.m4a  \n",
            "  inflating: kb_hindi/844424930858625-229-f.m4a  \n",
            "  inflating: kb_hindi/844424930860034-326-f.m4a  \n",
            "  inflating: kb_hindi/844424930860056-326-f.m4a  \n",
            "  inflating: kb_hindi/844424930860110-326-f.m4a  \n",
            "  inflating: kb_hindi/844424930862731-229-f.m4a  \n",
            "  inflating: kb_hindi/844424930862810-229-f.m4a  \n",
            "  inflating: kb_hindi/844424930865031-229-f.m4a  \n",
            "  inflating: kb_hindi/844424930865043-229-f.m4a  \n",
            "  inflating: kb_hindi/844424930865111-229-f.m4a  \n",
            "  inflating: kb_hindi/844424930865339-326-f.m4a  \n",
            "  inflating: kb_hindi/844424930865347-326-f.m4a  \n",
            "  inflating: kb_hindi/844424930865371-326-f.m4a  \n",
            "  inflating: kb_hindi/844424930865420-326-f.m4a  \n",
            "  inflating: kb_hindi/844424930867437-326-f.m4a  \n",
            "  inflating: kb_hindi/844424930867460-326-f.m4a  \n",
            "  inflating: kb_hindi/844424930867504-326-f.m4a  \n",
            "  inflating: kb_hindi/844424930867509-326-f.m4a  \n",
            "  inflating: kb_hindi/844424930874152-3-f.m4a  \n",
            "  inflating: kb_hindi/844424930874201-3-f.m4a  \n",
            "  inflating: kb_hindi/844424930874211-3-f.m4a  \n",
            "  inflating: kb_hindi/844424930874222-3-f.m4a  \n",
            "  inflating: kb_hindi/844424930891366-326-f.m4a  \n",
            "  inflating: kb_hindi/844424930891371-326-f.m4a  \n",
            "  inflating: kb_hindi/844424930891372-326-f.m4a  \n",
            "  inflating: kb_hindi/844424930891394-326-f.m4a  \n",
            "  inflating: kb_hindi/844424930891400-326-f.m4a  \n",
            "  inflating: kb_hindi/844424930895383-326-f.m4a  \n",
            "  inflating: kb_hindi/844424930895398-326-f.m4a  \n",
            "  inflating: kb_hindi/844424930909233-326-f.m4a  \n",
            "  inflating: kb_hindi/844424930909237-326-f.m4a  \n",
            "  inflating: kb_hindi/844424930909246-326-f.m4a  \n",
            "  inflating: kb_hindi/844424930909272-326-f.m4a  \n",
            "  inflating: kb_hindi/844424930909277-326-f.m4a  \n",
            "  inflating: kb_hindi/844424930909280-326-f.m4a  \n",
            "  inflating: kb_hindi/844424930913920-326-f.m4a  \n",
            "  inflating: kb_hindi/844424930913921-326-f.m4a  \n",
            "  inflating: kb_hindi/844424930913944-326-f.m4a  \n",
            "  inflating: kb_hindi/844424930917535-229-f.m4a  \n",
            "  inflating: kb_hindi/844424930917539-229-f.m4a  \n",
            "  inflating: kb_hindi/844424930917542-229-f.m4a  \n",
            "  inflating: kb_hindi/844424930917558-229-f.m4a  \n",
            "  inflating: kb_hindi/844424930917561-229-f.m4a  \n",
            "  inflating: kb_hindi/844424930917581-229-f.m4a  \n",
            "  inflating: kb_hindi/844424930917590-229-f.m4a  \n",
            "  inflating: kb_hindi/844424930917597-229-f.m4a  \n",
            "  inflating: kb_hindi/844424930917607-229-f.m4a  \n",
            "  inflating: kb_hindi/844424930926354-229-f.m4a  \n",
            "  inflating: kb_hindi/844424930926374-229-f.m4a  \n",
            "  inflating: kb_hindi/844424930926394-229-f.m4a  \n",
            "  inflating: kb_hindi/844424930926421-229-f.m4a  \n",
            "  inflating: kb_hindi/844424930930231-229-f.m4a  \n",
            "  inflating: kb_hindi/844424930931238-384-f.m4a  \n",
            "  inflating: kb_hindi/844424930931250-384-f.m4a  \n",
            "  inflating: kb_hindi/844424930931264-384-f.m4a  \n",
            "  inflating: kb_hindi/844424930931284-384-f.m4a  \n",
            "  inflating: kb_hindi/844424930931285-384-f.m4a  \n",
            "  inflating: kb_hindi/844424930931299-384-f.m4a  \n",
            "  inflating: kb_hindi/844424930931306-384-f.m4a  \n",
            "  inflating: kb_hindi/844424930931309-384-f.m4a  \n",
            "  inflating: kb_hindi/844424930931324-384-f.m4a  \n",
            "  inflating: kb_hindi/844424930932675-229-f.m4a  \n",
            "  inflating: kb_hindi/844424930934271-326-f.m4a  \n",
            "  inflating: kb_hindi/844424930934304-326-f.m4a  \n",
            "  inflating: kb_hindi/844424930934309-326-f.m4a  \n",
            "  inflating: kb_hindi/844424930935633-977-m.m4a  \n",
            "  inflating: kb_hindi/844424930935637-977-m.m4a  \n",
            "  inflating: kb_hindi/844424930935644-977-m.m4a  \n",
            "  inflating: kb_hindi/844424930935645-977-m.m4a  \n",
            "  inflating: kb_hindi/844424930935663-977-m.m4a  \n",
            "  inflating: kb_hindi/844424930935664-977-m.m4a  \n",
            "  inflating: kb_hindi/844424930935669-977-m.m4a  \n",
            "  inflating: kb_hindi/844424930935670-977-m.m4a  \n",
            "  inflating: kb_hindi/844424930935680-977-m.m4a  \n",
            "  inflating: kb_hindi/844424930935683-977-m.m4a  \n",
            "  inflating: kb_hindi/844424930935693-977-m.m4a  \n",
            "  inflating: kb_hindi/844424930935702-977-m.m4a  \n",
            "  inflating: kb_hindi/844424930935708-977-m.m4a  \n",
            "  inflating: kb_hindi/844424930935711-977-m.m4a  \n",
            "  inflating: kb_hindi/844424930935715-977-m.m4a  \n",
            "  inflating: kb_hindi/844424930935721-977-m.m4a  \n",
            "  inflating: kb_hindi/844424930935723-977-m.m4a  \n",
            "  inflating: kb_hindi/844424930935931-229-f.m4a  \n",
            "  inflating: kb_hindi/844424930935939-229-f.m4a  \n",
            "  inflating: kb_hindi/844424930935960-229-f.m4a  \n",
            "  inflating: kb_hindi/844424930935981-229-f.m4a  \n",
            "  inflating: kb_hindi/844424930935985-229-f.m4a  \n",
            "  inflating: kb_hindi/844424930936008-229-f.m4a  \n",
            "  inflating: kb_hindi/844424930936234-326-f.m4a  \n",
            "  inflating: kb_hindi/844424930936315-326-f.m4a  \n",
            "  inflating: kb_hindi/844424930936327-326-f.m4a  \n",
            "  inflating: kb_hindi/844424930937534-229-f.m4a  \n",
            "  inflating: kb_hindi/844424930937557-229-f.m4a  \n",
            "  inflating: kb_hindi/844424930937574-229-f.m4a  \n",
            "  inflating: kb_hindi/844424930937611-229-f.m4a  \n",
            "  inflating: kb_hindi/844424930937627-229-f.m4a  \n",
            "  inflating: kb_hindi/844424930938539-326-f.m4a  \n",
            "  inflating: kb_hindi/844424930938554-326-f.m4a  \n",
            "  inflating: kb_hindi/844424930938559-326-f.m4a  \n",
            "  inflating: kb_hindi/844424930938565-326-f.m4a  \n",
            "  inflating: kb_hindi/844424930938619-326-f.m4a  \n",
            "  inflating: kb_hindi/844424930939745-1102-f.m4a  \n",
            "  inflating: kb_hindi/844424930939818-1102-f.m4a  \n",
            "  inflating: kb_hindi/844424930939826-1102-f.m4a  \n",
            "  inflating: kb_hindi/844424930940677-326-f.m4a  \n",
            "  inflating: kb_hindi/844424930941429-1102-f.m4a  \n",
            "  inflating: kb_hindi/844424930941466-1102-f.m4a  \n",
            "  inflating: kb_hindi/844424930941468-1102-f.m4a  \n",
            "  inflating: kb_hindi/844424930941752-326-f.m4a  \n",
            "  inflating: kb_hindi/844424930941760-326-f.m4a  \n",
            "  inflating: kb_hindi/844424930941777-326-f.m4a  \n",
            "  inflating: kb_hindi/844424930941798-326-f.m4a  \n",
            "  inflating: kb_hindi/844424930941811-326-f.m4a  \n",
            "  inflating: kb_hindi/844424930947055-277-f.m4a  \n",
            "  inflating: kb_hindi/844424930947066-277-f.m4a  \n",
            "  inflating: kb_hindi/844424930947083-277-f.m4a  \n",
            "  inflating: kb_hindi/844424930947088-277-f.m4a  \n",
            "  inflating: kb_hindi/844424930947090-277-f.m4a  \n",
            "  inflating: kb_hindi/844424930947098-277-f.m4a  \n",
            "  inflating: kb_hindi/844424930947123-277-f.m4a  \n",
            "  inflating: kb_hindi/844424930947127-277-f.m4a  \n",
            "  inflating: kb_hindi/844424930948730-277-f.m4a  \n",
            "  inflating: kb_hindi/844424930948747-277-f.m4a  \n",
            "  inflating: kb_hindi/844424930948752-277-f.m4a  \n",
            "  inflating: kb_hindi/844424930948773-277-f.m4a  \n",
            "  inflating: kb_hindi/844424930948780-277-f.m4a  \n",
            "  inflating: kb_hindi/844424930948806-277-f.m4a  \n",
            "  inflating: kb_hindi/844424930948807-277-f.m4a  \n",
            "  inflating: kb_hindi/844424930951321-1102-f.m4a  \n",
            "  inflating: kb_hindi/844424930951322-1102-f.m4a  \n",
            "  inflating: kb_hindi/844424930956676-1102-f.m4a  \n",
            "  inflating: kb_hindi/844424930956703-1102-f.m4a  \n",
            "  inflating: kb_hindi/844424930956727-1102-f.m4a  \n",
            "  inflating: kb_hindi/844424930964229-1102-f.m4a  \n",
            "  inflating: kb_hindi/844424930964260-1102-f.m4a  \n",
            "  inflating: kb_hindi/844424930964272-1102-f.m4a  \n",
            "  inflating: kb_hindi/844424930964274-1102-f.m4a  \n",
            "  inflating: kb_hindi/844424930964292-1102-f.m4a  \n",
            "  inflating: kb_hindi/844424930964308-1102-f.m4a  \n",
            "  inflating: kb_hindi/844424930964317-1102-f.m4a  \n",
            "  inflating: kb_hindi/844424930964325-1102-f.m4a  \n",
            "  inflating: kb_hindi/844424930971957-326-f.m4a  \n",
            "  inflating: kb_hindi/844424930971998-326-f.m4a  \n",
            "  inflating: kb_hindi/844424930972020-326-f.m4a  \n",
            "  inflating: kb_hindi/844424930972143-1102-f.m4a  \n",
            "  inflating: kb_hindi/844424930972195-1102-f.m4a  \n",
            "  inflating: kb_hindi/844424930975776-326-f.m4a  \n",
            "  inflating: kb_hindi/844424930975785-326-f.m4a  \n",
            "  inflating: kb_hindi/844424930975811-326-f.m4a  \n",
            "  inflating: kb_hindi/844424930975813-326-f.m4a  \n",
            "  inflating: kb_hindi/844424930978100-1102-f.m4a  \n",
            "  inflating: kb_hindi/844424930978136-1102-f.m4a  \n",
            "  inflating: kb_hindi/844424930978137-1102-f.m4a  \n",
            "  inflating: kb_hindi/844424930978153-1102-f.m4a  \n",
            "  inflating: kb_hindi/844424930978174-1102-f.m4a  \n",
            "  inflating: kb_hindi/844424930978598-326-f.m4a  \n",
            "  inflating: kb_hindi/844424930978692-326-f.m4a  \n",
            "  inflating: kb_hindi/844424930985446-1102-f.m4a  \n",
            "  inflating: kb_hindi/844424930985461-1102-f.m4a  \n",
            "  inflating: kb_hindi/844424930985475-1102-f.m4a  \n",
            "  inflating: kb_hindi/844424930985478-1102-f.m4a  \n",
            "  inflating: kb_hindi/844424930985495-1102-f.m4a  \n",
            "  inflating: kb_hindi/844424930991153-1102-f.m4a  \n",
            "  inflating: kb_hindi/844424930991160-1102-f.m4a  \n",
            "  inflating: kb_hindi/844424930991167-1102-f.m4a  \n",
            "  inflating: kb_hindi/844424930991169-1102-f.m4a  \n",
            "  inflating: kb_hindi/844424930991220-1102-f.m4a  \n",
            "  inflating: kb_hindi/844424930991222-1102-f.m4a  \n",
            "  inflating: kb_hindi/844424931004031-326-f.m4a  \n",
            "  inflating: kb_hindi/844424931004049-326-f.m4a  \n",
            "  inflating: kb_hindi/844424931004071-326-f.m4a  \n",
            "  inflating: kb_hindi/844424931004105-326-f.m4a  \n",
            "  inflating: kb_hindi/844424931004124-326-f.m4a  \n",
            "  inflating: kb_hindi/844424931007734-326-f.m4a  \n",
            "  inflating: kb_hindi/844424931007825-326-f.m4a  \n",
            "  inflating: kb_hindi/844424931008331-1102-f.m4a  \n",
            "  inflating: kb_hindi/844424931008346-1102-f.m4a  \n",
            "  inflating: kb_hindi/844424931010533-229-f.m4a  \n",
            "  inflating: kb_hindi/844424931010535-229-f.m4a  \n",
            "  inflating: kb_hindi/844424931010567-229-f.m4a  \n",
            "  inflating: kb_hindi/844424931013031-1102-f.m4a  \n",
            "  inflating: kb_hindi/844424931013032-1102-f.m4a  \n",
            "  inflating: kb_hindi/844424931013033-1102-f.m4a  \n",
            "  inflating: kb_hindi/844424931013052-1102-f.m4a  \n",
            "  inflating: kb_hindi/844424931013085-1102-f.m4a  \n",
            "  inflating: kb_hindi/844424931013086-1102-f.m4a  \n",
            "  inflating: kb_hindi/844424931013087-1102-f.m4a  \n",
            "  inflating: kb_hindi/844424931013097-1102-f.m4a  \n",
            "  inflating: kb_hindi/844424931013103-1102-f.m4a  \n",
            "  inflating: kb_hindi/844424931013632-326-f.m4a  \n",
            "  inflating: kb_hindi/844424931013671-326-f.m4a  \n",
            "  inflating: kb_hindi/844424931013706-326-f.m4a  \n",
            "  inflating: kb_hindi/844424931019958-326-f.m4a  \n",
            "  inflating: kb_hindi/844424931019975-326-f.m4a  \n",
            "  inflating: kb_hindi/844424931020014-326-f.m4a  \n",
            "  inflating: kb_hindi/844424931020018-326-f.m4a  \n",
            "  inflating: kb_hindi/844424931020022-326-f.m4a  \n",
            "  inflating: kb_hindi/844424931024745-277-f.m4a  \n",
            "  inflating: kb_hindi/844424931024769-277-f.m4a  \n",
            "  inflating: kb_hindi/844424931024779-277-f.m4a  \n",
            "  inflating: kb_hindi/844424931024819-277-f.m4a  \n",
            "  inflating: kb_hindi/844424931025330-326-f.m4a  \n",
            "  inflating: kb_hindi/844424931025336-326-f.m4a  \n",
            "  inflating: kb_hindi/844424931025363-326-f.m4a  \n",
            "  inflating: kb_hindi/844424931026161-229-f.m4a  \n",
            "  inflating: kb_hindi/844424931026165-229-f.m4a  \n",
            "  inflating: kb_hindi/844424931026169-229-f.m4a  \n",
            "  inflating: kb_hindi/844424931026187-229-f.m4a  \n",
            "  inflating: kb_hindi/844424931026196-229-f.m4a  \n",
            "  inflating: kb_hindi/844424931028173-326-f.m4a  \n",
            "  inflating: kb_hindi/844424931028221-326-f.m4a  \n",
            "  inflating: kb_hindi/844424931028792-229-f.m4a  \n",
            "  inflating: kb_hindi/844424931028818-229-f.m4a  \n",
            "  inflating: kb_hindi/844424931029952-326-f.m4a  \n",
            "  inflating: kb_hindi/844424931030001-326-f.m4a  \n",
            "  inflating: kb_hindi/844424931030011-326-f.m4a  \n",
            "  inflating: kb_hindi/844424931032331-229-f.m4a  \n",
            "  inflating: kb_hindi/844424931032358-229-f.m4a  \n",
            "  inflating: kb_hindi/844424931032366-229-f.m4a  \n",
            "  inflating: kb_hindi/844424931032382-229-f.m4a  \n",
            "  inflating: kb_hindi/844424931039033-384-f.m4a  \n",
            "  inflating: kb_hindi/844424931039064-384-f.m4a  \n",
            "  inflating: kb_hindi/844424931039077-384-f.m4a  \n",
            "  inflating: kb_hindi/844424931039078-384-f.m4a  \n",
            "  inflating: kb_hindi/844424931039080-384-f.m4a  \n",
            "  inflating: kb_hindi/844424931048138-384-f.m4a  \n",
            "  inflating: kb_hindi/844424931048179-384-f.m4a  \n",
            "  inflating: kb_hindi/844424931048188-384-f.m4a  \n",
            "  inflating: kb_hindi/844424931048220-384-f.m4a  \n",
            "  inflating: kb_hindi/844424931048223-384-f.m4a  \n",
            "  inflating: kb_hindi/844424931054553-384-f.m4a  \n",
            "  inflating: kb_hindi/844424931054588-384-f.m4a  \n",
            "  inflating: kb_hindi/844424931054605-384-f.m4a  \n",
            "  inflating: kb_hindi/844424931055732-229-f.m4a  \n",
            "  inflating: kb_hindi/844424931055739-229-f.m4a  \n",
            "  inflating: kb_hindi/844424931055814-229-f.m4a  \n",
            "  inflating: kb_hindi/844424931055819-229-f.m4a  \n",
            "  inflating: kb_hindi/844424931060545-384-f.m4a  \n",
            "  inflating: kb_hindi/844424931060591-384-f.m4a  \n",
            "  inflating: kb_hindi/844424931060593-384-f.m4a  \n",
            "  inflating: kb_hindi/844424931061593-229-f.m4a  \n",
            "  inflating: kb_hindi/844424931061594-229-f.m4a  \n",
            "  inflating: kb_hindi/844424931061616-229-f.m4a  \n",
            "  inflating: kb_hindi/844424931064379-1160-m.m4a  \n",
            "  inflating: kb_hindi/844424931064386-1160-m.m4a  \n",
            "  inflating: kb_hindi/844424931064395-1160-m.m4a  \n",
            "  inflating: kb_hindi/844424931064411-1160-m.m4a  \n",
            "  inflating: kb_hindi/844424931064425-1160-m.m4a  \n",
            "  inflating: kb_hindi/844424931064433-1160-m.m4a  \n",
            "  inflating: kb_hindi/844424931064436-1160-m.m4a  \n",
            "  inflating: kb_hindi/844424931064461-1160-m.m4a  \n",
            "  inflating: kb_hindi/844424931065617-229-f.m4a  \n",
            "  inflating: kb_hindi/844424931065664-229-f.m4a  \n",
            "  inflating: kb_hindi/844424931065668-229-f.m4a  \n",
            "  inflating: kb_hindi/844424931065673-229-f.m4a  \n",
            "  inflating: kb_hindi/844424931066496-326-f.m4a  \n",
            "  inflating: kb_hindi/844424931066510-326-f.m4a  \n",
            "  inflating: kb_hindi/844424931066545-326-f.m4a  \n",
            "  inflating: kb_hindi/844424931069699-229-f.m4a  \n",
            "  inflating: kb_hindi/844424931069706-229-f.m4a  \n",
            "  inflating: kb_hindi/844424931069714-229-f.m4a  \n",
            "  inflating: kb_hindi/844424931069719-229-f.m4a  \n",
            "  inflating: kb_hindi/844424931069751-229-f.m4a  \n",
            "  inflating: kb_hindi/844424931069900-326-f.m4a  \n",
            "  inflating: kb_hindi/844424931069916-326-f.m4a  \n",
            "  inflating: kb_hindi/844424931069923-326-f.m4a  \n",
            "  inflating: kb_hindi/844424931069945-326-f.m4a  \n",
            "  inflating: kb_hindi/844424931069953-326-f.m4a  \n",
            "  inflating: kb_hindi/844424931075384-229-f.m4a  \n",
            "  inflating: kb_hindi/844424931075401-229-f.m4a  \n",
            "  inflating: kb_hindi/844424931075411-229-f.m4a  \n",
            "  inflating: kb_hindi/844424931075413-229-f.m4a  \n",
            "  inflating: kb_hindi/844424931075457-229-f.m4a  \n",
            "  inflating: kb_hindi/844424931075459-229-f.m4a  \n",
            "  inflating: kb_hindi/844424931078305-229-f.m4a  \n",
            "  inflating: kb_hindi/844424931080485-229-f.m4a  \n",
            "  inflating: kb_hindi/844424931080525-229-f.m4a  \n",
            "  inflating: kb_hindi/844424931080552-229-f.m4a  \n",
            "  inflating: kb_hindi/844424931080568-229-f.m4a  \n",
            "  inflating: kb_hindi/844424931080569-229-f.m4a  \n",
            "  inflating: kb_hindi/844424931083115-229-f.m4a  \n",
            "  inflating: kb_hindi/844424931083123-229-f.m4a  \n",
            "  inflating: kb_hindi/844424931086496-326-f.m4a  \n",
            "  inflating: kb_hindi/844424931086516-326-f.m4a  \n",
            "  inflating: kb_hindi/844424931086518-326-f.m4a  \n",
            "  inflating: kb_hindi/844424931089797-326-f.m4a  \n",
            "  inflating: kb_hindi/844424931097108-326-f.m4a  \n",
            "  inflating: kb_hindi/844424931097139-326-f.m4a  \n",
            "  inflating: kb_hindi/844424931097142-326-f.m4a  \n",
            "  inflating: kb_hindi/844424931097155-326-f.m4a  \n",
            "  inflating: kb_hindi/844424931099272-277-f.m4a  \n",
            "  inflating: kb_hindi/844424931099281-277-f.m4a  \n",
            "  inflating: kb_hindi/844424931099315-277-f.m4a  \n",
            "  inflating: kb_hindi/844424931099320-277-f.m4a  \n",
            "  inflating: kb_hindi/844424931099337-277-f.m4a  \n",
            "  inflating: kb_hindi/844424931099350-277-f.m4a  \n",
            "  inflating: kb_hindi/844424931099352-277-f.m4a  \n",
            "  inflating: kb_hindi/844424931099354-277-f.m4a  \n",
            "  inflating: kb_hindi/844424931102578-229-f.m4a  \n",
            "  inflating: kb_hindi/844424931108192-229-f.m4a  \n",
            "  inflating: kb_hindi/844424931108246-229-f.m4a  \n",
            "  inflating: kb_hindi/844424931108254-229-f.m4a  \n",
            "  inflating: kb_hindi/844424931112371-229-f.m4a  \n",
            "  inflating: kb_hindi/844424931112383-229-f.m4a  \n",
            "  inflating: kb_hindi/844424931112439-229-f.m4a  \n",
            "  inflating: kb_hindi/844424931112441-229-f.m4a  \n",
            "  inflating: kb_hindi/844424931119524-229-f.m4a  \n",
            "  inflating: kb_hindi/844424931119526-229-f.m4a  \n",
            "  inflating: kb_hindi/844424931119528-229-f.m4a  \n",
            "  inflating: kb_hindi/844424931121189-229-f.m4a  \n",
            "  inflating: kb_hindi/844424931124564-888-f.m4a  \n",
            "  inflating: kb_hindi/844424931124582-888-f.m4a  \n",
            "  inflating: kb_hindi/844424931124592-888-f.m4a  \n",
            "  inflating: kb_hindi/844424931124593-888-f.m4a  \n",
            "  inflating: kb_hindi/844424931124608-888-f.m4a  \n",
            "  inflating: kb_hindi/844424931124650-888-f.m4a  \n",
            "  inflating: kb_hindi/844424931124655-888-f.m4a  \n",
            "  inflating: kb_hindi/844424931124656-888-f.m4a  \n",
            "  inflating: kb_hindi/844424931128165-229-f.m4a  \n",
            "  inflating: kb_hindi/844424931128217-229-f.m4a  \n",
            "  inflating: kb_hindi/844424931128246-229-f.m4a  \n",
            "  inflating: kb_hindi/844424931128252-229-f.m4a  \n",
            "  inflating: kb_hindi/844424931128253-229-f.m4a  \n",
            "  inflating: kb_hindi/844424931148728-384-f.m4a  \n",
            "  inflating: kb_hindi/844424931148761-384-f.m4a  \n",
            "  inflating: kb_hindi/844424931148774-384-f.m4a  \n",
            "  inflating: kb_hindi/844424931148796-384-f.m4a  \n",
            "  inflating: kb_hindi/844424931148797-384-f.m4a  \n",
            "  inflating: kb_hindi/844424931148805-384-f.m4a  \n",
            "  inflating: kb_hindi/844424931148820-384-f.m4a  \n",
            "  inflating: kb_hindi/844424931180230-326-f.m4a  \n",
            "  inflating: kb_hindi/844424931180247-326-f.m4a  \n",
            "  inflating: kb_hindi/844424931180274-326-f.m4a  \n",
            "  inflating: kb_hindi/844424931180289-326-f.m4a  \n",
            "  inflating: kb_hindi/844424931184379-229-f.m4a  \n",
            "  inflating: kb_hindi/844424931184397-229-f.m4a  \n",
            "  inflating: kb_hindi/844424931184405-229-f.m4a  \n",
            "  inflating: kb_hindi/844424931184411-229-f.m4a  \n",
            "  inflating: kb_hindi/844424931186777-229-f.m4a  \n",
            "  inflating: kb_hindi/844424931186785-229-f.m4a  \n",
            "  inflating: kb_hindi/844424931186840-229-f.m4a  \n",
            "  inflating: kb_hindi/844424931186850-229-f.m4a  \n",
            "  inflating: kb_hindi/844424931189579-229-f.m4a  \n",
            "  inflating: kb_hindi/844424931189588-229-f.m4a  \n",
            "  inflating: kb_hindi/844424931189610-229-f.m4a  \n",
            "  inflating: kb_hindi/844424931189624-229-f.m4a  \n",
            "  inflating: kb_hindi/844424931194877-977-m.m4a  \n",
            "  inflating: kb_hindi/844424931194888-977-m.m4a  \n",
            "  inflating: kb_hindi/844424931194892-977-m.m4a  \n",
            "  inflating: kb_hindi/844424931194893-977-m.m4a  \n",
            "  inflating: kb_hindi/844424931194895-977-m.m4a  \n",
            "  inflating: kb_hindi/844424931194899-977-m.m4a  \n",
            "  inflating: kb_hindi/844424931194901-977-m.m4a  \n",
            "  inflating: kb_hindi/844424931194909-977-m.m4a  \n",
            "  inflating: kb_hindi/844424931194916-977-m.m4a  \n",
            "  inflating: kb_hindi/844424931194925-977-m.m4a  \n",
            "  inflating: kb_hindi/844424931194928-977-m.m4a  \n",
            "  inflating: kb_hindi/844424931194930-977-m.m4a  \n",
            "  inflating: kb_hindi/844424931194946-977-m.m4a  \n",
            "  inflating: kb_hindi/844424931194956-977-m.m4a  \n",
            "  inflating: kb_hindi/844424931194958-977-m.m4a  \n",
            "  inflating: kb_hindi/844424931194960-977-m.m4a  \n",
            "  inflating: kb_hindi/844424931194963-977-m.m4a  \n",
            "  inflating: kb_hindi/844424931197782-326-f.m4a  \n",
            "  inflating: kb_hindi/844424931197827-326-f.m4a  \n",
            "  inflating: kb_hindi/844424931197835-326-f.m4a  \n",
            "  inflating: kb_hindi/844424931197841-326-f.m4a  \n",
            "  inflating: kb_hindi/844424931197856-326-f.m4a  \n",
            "  inflating: kb_hindi/844424931200580-977-m.m4a  \n",
            "  inflating: kb_hindi/844424931200585-977-m.m4a  \n",
            "  inflating: kb_hindi/844424931200598-977-m.m4a  \n",
            "  inflating: kb_hindi/844424931200601-977-m.m4a  \n",
            "  inflating: kb_hindi/844424931200606-977-m.m4a  \n",
            "  inflating: kb_hindi/844424931200616-977-m.m4a  \n",
            "  inflating: kb_hindi/844424931200625-977-m.m4a  \n",
            "  inflating: kb_hindi/844424931200645-977-m.m4a  \n",
            "  inflating: kb_hindi/844424931200646-977-m.m4a  \n",
            "  inflating: kb_hindi/844424931200647-977-m.m4a  \n",
            "  inflating: kb_hindi/844424931200654-977-m.m4a  \n",
            "  inflating: kb_hindi/844424931200661-977-m.m4a  \n",
            "  inflating: kb_hindi/844424931225781-977-m.m4a  \n",
            "  inflating: kb_hindi/844424931225782-977-m.m4a  \n",
            "  inflating: kb_hindi/844424931225783-977-m.m4a  \n",
            "  inflating: kb_hindi/844424931225787-977-m.m4a  \n",
            "  inflating: kb_hindi/844424931225788-977-m.m4a  \n",
            "  inflating: kb_hindi/844424931225791-977-m.m4a  \n",
            "  inflating: kb_hindi/844424931225792-977-m.m4a  \n",
            "  inflating: kb_hindi/844424931225797-977-m.m4a  \n",
            "  inflating: kb_hindi/844424931225798-977-m.m4a  \n",
            "  inflating: kb_hindi/844424931225801-977-m.m4a  \n",
            "  inflating: kb_hindi/844424931225806-977-m.m4a  \n",
            "  inflating: kb_hindi/844424931225810-977-m.m4a  \n",
            "  inflating: kb_hindi/844424931225815-977-m.m4a  \n",
            "  inflating: kb_hindi/844424931225819-977-m.m4a  \n",
            "  inflating: kb_hindi/844424931225823-977-m.m4a  \n",
            "  inflating: kb_hindi/844424931225824-977-m.m4a  \n",
            "  inflating: kb_hindi/844424931225826-977-m.m4a  \n",
            "  inflating: kb_hindi/844424931225834-977-m.m4a  \n",
            "  inflating: kb_hindi/844424931225835-977-m.m4a  \n",
            "  inflating: kb_hindi/844424931225848-977-m.m4a  \n",
            "  inflating: kb_hindi/844424931225854-977-m.m4a  \n",
            "  inflating: kb_hindi/844424931225857-977-m.m4a  \n",
            "  inflating: kb_hindi/844424931225862-977-m.m4a  \n",
            "  inflating: kb_hindi/844424931225867-977-m.m4a  \n",
            "  inflating: kb_hindi/844424931225871-977-m.m4a  \n",
            "  inflating: kb_hindi/844424931227772-977-m.m4a  \n",
            "  inflating: kb_hindi/844424931227784-977-m.m4a  \n",
            "  inflating: kb_hindi/844424931227785-977-m.m4a  \n",
            "  inflating: kb_hindi/844424931227787-977-m.m4a  \n",
            "  inflating: kb_hindi/844424931227806-977-m.m4a  \n",
            "  inflating: kb_hindi/844424931227808-977-m.m4a  \n",
            "  inflating: kb_hindi/844424931227819-977-m.m4a  \n",
            "  inflating: kb_hindi/844424931227826-977-m.m4a  \n",
            "  inflating: kb_hindi/844424931227837-977-m.m4a  \n",
            "  inflating: kb_hindi/844424931227838-977-m.m4a  \n",
            "  inflating: kb_hindi/844424931227840-977-m.m4a  \n",
            "  inflating: kb_hindi/844424931227861-977-m.m4a  \n",
            "  inflating: kb_hindi/844424931230181-977-m.m4a  \n",
            "  inflating: kb_hindi/844424931230190-977-m.m4a  \n",
            "  inflating: kb_hindi/844424931230192-977-m.m4a  \n",
            "  inflating: kb_hindi/844424931230201-977-m.m4a  \n",
            "  inflating: kb_hindi/844424931230211-977-m.m4a  \n",
            "  inflating: kb_hindi/844424931230212-977-m.m4a  \n",
            "  inflating: kb_hindi/844424931230214-977-m.m4a  \n",
            "  inflating: kb_hindi/844424931230221-977-m.m4a  \n",
            "  inflating: kb_hindi/844424931230225-977-m.m4a  \n",
            "  inflating: kb_hindi/844424931230232-977-m.m4a  \n",
            "  inflating: kb_hindi/844424931230235-977-m.m4a  \n",
            "  inflating: kb_hindi/844424931230243-977-m.m4a  \n",
            "  inflating: kb_hindi/844424931230253-977-m.m4a  \n",
            "  inflating: kb_hindi/844424931230261-977-m.m4a  \n",
            "  inflating: kb_hindi/844424931230262-977-m.m4a  \n",
            "  inflating: kb_hindi/844424931230263-977-m.m4a  \n",
            "  inflating: kb_hindi/844424931230269-977-m.m4a  \n",
            "  inflating: kb_hindi/844424931230271-977-m.m4a  \n",
            "  inflating: kb_hindi/844424931233580-977-m.m4a  \n",
            "  inflating: kb_hindi/844424931233581-977-m.m4a  \n",
            "  inflating: kb_hindi/844424931233589-977-m.m4a  \n",
            "  inflating: kb_hindi/844424931233597-977-m.m4a  \n",
            "  inflating: kb_hindi/844424931233600-977-m.m4a  \n",
            "  inflating: kb_hindi/844424931233628-977-m.m4a  \n",
            "  inflating: kb_hindi/844424931233631-977-m.m4a  \n",
            "  inflating: kb_hindi/844424931233632-977-m.m4a  \n",
            "  inflating: kb_hindi/844424931233644-977-m.m4a  \n",
            "  inflating: kb_hindi/844424931233655-977-m.m4a  \n",
            "  inflating: kb_hindi/844424931233658-977-m.m4a  \n",
            "  inflating: kb_hindi/844424931233665-977-m.m4a  \n",
            "  inflating: kb_hindi/844424931239275-977-m.m4a  \n",
            "  inflating: kb_hindi/844424931239283-977-m.m4a  \n",
            "  inflating: kb_hindi/844424931239296-977-m.m4a  \n",
            "  inflating: kb_hindi/844424931239297-977-m.m4a  \n",
            "  inflating: kb_hindi/844424931239300-977-m.m4a  \n",
            "  inflating: kb_hindi/844424931239307-977-m.m4a  \n",
            "  inflating: kb_hindi/844424931239308-977-m.m4a  \n",
            "  inflating: kb_hindi/844424931239332-977-m.m4a  \n",
            "  inflating: kb_hindi/844424931239335-977-m.m4a  \n",
            "  inflating: kb_hindi/844424931239336-977-m.m4a  \n",
            "  inflating: kb_hindi/844424931239350-977-m.m4a  \n",
            "  inflating: kb_hindi/844424931239356-977-m.m4a  \n",
            "  inflating: kb_hindi/844424931239359-977-m.m4a  \n",
            "  inflating: kb_hindi/844424931239370-977-m.m4a  \n",
            "  inflating: kb_hindi/844424931245385-977-m.m4a  \n",
            "  inflating: kb_hindi/844424931245386-977-m.m4a  \n",
            "  inflating: kb_hindi/844424931245390-977-m.m4a  \n",
            "  inflating: kb_hindi/844424931245393-977-m.m4a  \n",
            "  inflating: kb_hindi/844424931245394-977-m.m4a  \n",
            "  inflating: kb_hindi/844424931245402-977-m.m4a  \n",
            "  inflating: kb_hindi/844424931245403-977-m.m4a  \n",
            "  inflating: kb_hindi/844424931245412-977-m.m4a  \n",
            "  inflating: kb_hindi/844424931245416-977-m.m4a  \n",
            "  inflating: kb_hindi/844424931245419-977-m.m4a  \n",
            "  inflating: kb_hindi/844424931245431-977-m.m4a  \n",
            "  inflating: kb_hindi/844424931245437-977-m.m4a  \n",
            "  inflating: kb_hindi/844424931245443-977-m.m4a  \n",
            "  inflating: kb_hindi/844424931245451-977-m.m4a  \n",
            "  inflating: kb_hindi/844424931245465-977-m.m4a  \n",
            "  inflating: kb_hindi/844424931245471-977-m.m4a  \n",
            "  inflating: kb_hindi/844424931274594-1102-f.m4a  \n",
            "  inflating: kb_hindi/844424931274630-1102-f.m4a  \n",
            "  inflating: kb_hindi/844424931274654-1102-f.m4a  \n",
            "  inflating: kb_hindi/844424931274994-1102-f.m4a  \n",
            "  inflating: kb_hindi/844424931275040-1102-f.m4a  \n",
            "  inflating: kb_hindi/844424931275055-1102-f.m4a  \n",
            "  inflating: kb_hindi/844424931280908-277-f.m4a  \n",
            "  inflating: kb_hindi/844424931280929-277-f.m4a  \n",
            "  inflating: kb_hindi/844424931280943-277-f.m4a  \n",
            "  inflating: kb_hindi/844424931280946-277-f.m4a  \n",
            "  inflating: kb_hindi/844424931281487-277-f.m4a  \n",
            "  inflating: kb_hindi/844424931281497-277-f.m4a  \n",
            "  inflating: kb_hindi/844424931281500-277-f.m4a  \n",
            "  inflating: kb_hindi/844424931281510-277-f.m4a  \n",
            "  inflating: kb_hindi/844424931281518-277-f.m4a  \n",
            "  inflating: kb_hindi/844424931281533-277-f.m4a  \n",
            "  inflating: kb_hindi/844424931281547-277-f.m4a  \n",
            "  inflating: kb_hindi/844424931281569-277-f.m4a  \n",
            "  inflating: kb_hindi/844424931281571-277-f.m4a  \n",
            "  inflating: kb_hindi/844424931281575-277-f.m4a  \n",
            "  inflating: kb_hindi/844424931281576-277-f.m4a  \n",
            "  inflating: kb_hindi/844424931281581-277-f.m4a  \n",
            "  inflating: kb_hindi/844424931281600-277-f.m4a  \n",
            "  inflating: kb_hindi/844424931281620-277-f.m4a  \n",
            "  inflating: kb_hindi/844424931281624-277-f.m4a  \n",
            "  inflating: kb_hindi/844424931281625-277-f.m4a  \n",
            "  inflating: kb_hindi/844424931281743-277-f.m4a  \n",
            "  inflating: kb_hindi/844424931281784-277-f.m4a  \n",
            "  inflating: kb_hindi/844424931281787-277-f.m4a  \n",
            "  inflating: kb_hindi/844424931281789-277-f.m4a  \n",
            "  inflating: kb_hindi/844424931281792-277-f.m4a  \n",
            "  inflating: kb_hindi/844424931281798-277-f.m4a  \n",
            "  inflating: kb_hindi/844424931281814-277-f.m4a  \n",
            "  inflating: kb_hindi/844424931281818-277-f.m4a  \n",
            "  inflating: kb_hindi/844424931281848-277-f.m4a  \n",
            "  inflating: kb_hindi/844424931281850-277-f.m4a  \n",
            "  inflating: kb_hindi/844424931281857-277-f.m4a  \n",
            "  inflating: kb_hindi/844424931281875-277-f.m4a  \n",
            "  inflating: kb_hindi/844424931281887-277-f.m4a  \n",
            "  inflating: kb_hindi/844424931281969-277-f.m4a  \n",
            "  inflating: kb_hindi/844424931281981-277-f.m4a  \n",
            "  inflating: kb_hindi/844424931282016-277-f.m4a  \n",
            "  inflating: kb_hindi/844424931282021-277-f.m4a  \n",
            "  inflating: kb_hindi/844424931282541-277-f.m4a  \n",
            "  inflating: kb_hindi/844424931282546-277-f.m4a  \n",
            "  inflating: kb_hindi/844424931282558-277-f.m4a  \n",
            "  inflating: kb_hindi/844424931282571-277-f.m4a  \n",
            "  inflating: kb_hindi/844424931282581-277-f.m4a  \n",
            "  inflating: kb_hindi/844424931282582-277-f.m4a  \n",
            "  inflating: kb_hindi/844424931282589-277-f.m4a  \n",
            "  inflating: kb_hindi/844424931282591-277-f.m4a  \n",
            "  inflating: kb_hindi/844424931282595-277-f.m4a  \n",
            "  inflating: kb_hindi/844424931282608-277-f.m4a  \n",
            "  inflating: kb_hindi/844424931282619-277-f.m4a  \n",
            "  inflating: kb_hindi/844424931282640-277-f.m4a  \n",
            "  inflating: kb_hindi/844424931282660-277-f.m4a  \n",
            "  inflating: kb_hindi/844424931282697-277-f.m4a  \n",
            "  inflating: kb_hindi/844424931282699-277-f.m4a  \n",
            "  inflating: kb_hindi/844424931282707-277-f.m4a  \n",
            "  inflating: kb_hindi/844424931282943-277-f.m4a  \n",
            "  inflating: kb_hindi/844424931282982-277-f.m4a  \n",
            "  inflating: kb_hindi/844424931283033-277-f.m4a  \n",
            "  inflating: kb_hindi/844424931283036-277-f.m4a  \n",
            "  inflating: kb_hindi/844424931283057-277-f.m4a  \n",
            "  inflating: kb_hindi/844424931283060-277-f.m4a  \n",
            "  inflating: kb_hindi/844424931283070-277-f.m4a  \n",
            "  inflating: kb_hindi/844424931283078-277-f.m4a  \n",
            "  inflating: kb_hindi/844424931283097-277-f.m4a  \n",
            "  inflating: kb_hindi/844424931283110-277-f.m4a  \n",
            "  inflating: kb_hindi/844424931283115-277-f.m4a  \n",
            "  inflating: kb_hindi/844424931283125-277-f.m4a  \n",
            "  inflating: kb_hindi/844424932309944-1160-m.m4a  \n",
            "  inflating: kb_hindi/844424932309968-1160-m.m4a  \n",
            "  inflating: kb_hindi/844424932310004-1160-m.m4a  \n",
            "  inflating: kb_hindi/844424932310012-1160-m.m4a  \n",
            "  inflating: kb_hindi/844424932310013-1160-m.m4a  \n",
            "  inflating: kb_hindi/844424932310017-1160-m.m4a  \n",
            "  inflating: kb_hindi/844424932310026-1160-m.m4a  \n",
            "  inflating: kb_hindi/844424932310649-384-f.m4a  \n",
            "  inflating: kb_hindi/844424932310670-384-f.m4a  \n",
            "  inflating: kb_hindi/844424932310672-384-f.m4a  \n",
            "  inflating: kb_hindi/844424932310675-384-f.m4a  \n",
            "  inflating: kb_hindi/844424932310685-384-f.m4a  \n",
            "  inflating: kb_hindi/844424932310697-384-f.m4a  \n",
            "  inflating: kb_hindi/844424932310729-384-f.m4a  \n",
            "  inflating: kb_hindi/844424932310732-384-f.m4a  \n",
            "  inflating: kb_hindi/844424932314455-1160-m.m4a  \n",
            "  inflating: kb_hindi/844424932314481-1160-m.m4a  \n",
            "  inflating: kb_hindi/844424932314487-1160-m.m4a  \n",
            "  inflating: kb_hindi/844424932314489-1160-m.m4a  \n",
            "  inflating: kb_hindi/844424932314490-1160-m.m4a  \n",
            "  inflating: kb_hindi/844424932314491-1160-m.m4a  \n",
            "  inflating: kb_hindi/844424932314508-1160-m.m4a  \n",
            "  inflating: kb_hindi/844424932314531-1160-m.m4a  \n",
            "  inflating: kb_hindi/844424932314541-1160-m.m4a  \n",
            "  inflating: kb_hindi/844424932319012-1160-m.m4a  \n",
            "  inflating: kb_hindi/844424932319015-1160-m.m4a  \n",
            "  inflating: kb_hindi/844424932319032-1160-m.m4a  \n",
            "  inflating: kb_hindi/844424932319033-1160-m.m4a  \n",
            "  inflating: kb_hindi/844424932319087-1160-m.m4a  \n",
            "  inflating: kb_hindi/844424932319110-1160-m.m4a  \n",
            "  inflating: kb_hindi/844424932323612-1160-m.m4a  \n",
            "  inflating: kb_hindi/844424932323641-1160-m.m4a  \n",
            "  inflating: kb_hindi/844424932323642-1160-m.m4a  \n",
            "  inflating: kb_hindi/844424932323661-1160-m.m4a  \n",
            "  inflating: kb_hindi/844424932323681-1160-m.m4a  \n",
            "  inflating: kb_hindi/844424932323707-1160-m.m4a  \n",
            "  inflating: kb_hindi/844424932323711-1160-m.m4a  \n",
            "  inflating: kb_hindi/844424932333014-1160-m.m4a  \n",
            "  inflating: kb_hindi/844424932333015-1160-m.m4a  \n",
            "  inflating: kb_hindi/844424932333026-1160-m.m4a  \n",
            "  inflating: kb_hindi/844424932333037-1160-m.m4a  \n",
            "  inflating: kb_hindi/844424932333038-1160-m.m4a  \n",
            "  inflating: kb_hindi/844424932333041-1160-m.m4a  \n",
            "  inflating: kb_hindi/844424932333049-1160-m.m4a  \n",
            "  inflating: kb_hindi/844424932333054-1160-m.m4a  \n",
            "  inflating: kb_hindi/844424932333055-1160-m.m4a  \n",
            "  inflating: kb_hindi/844424932333062-1160-m.m4a  \n",
            "  inflating: kb_hindi/844424932333066-1160-m.m4a  \n",
            "  inflating: kb_hindi/844424932333097-1160-m.m4a  \n",
            "  inflating: kb_hindi/844424932333099-1160-m.m4a  \n",
            "  inflating: kb_hindi/844424932335022-384-f.m4a  \n",
            "  inflating: kb_hindi/844424932335053-384-f.m4a  \n",
            "  inflating: kb_hindi/844424932335066-384-f.m4a  \n",
            "  inflating: kb_hindi/844424932335079-384-f.m4a  \n",
            "  inflating: kb_hindi/844424932335082-384-f.m4a  \n",
            "  inflating: kb_hindi/844424932335105-384-f.m4a  \n",
            "  inflating: kb_hindi/844424932336341-1160-m.m4a  \n",
            "  inflating: kb_hindi/844424932336353-1160-m.m4a  \n",
            "  inflating: kb_hindi/844424932336357-1160-m.m4a  \n",
            "  inflating: kb_hindi/844424932336358-1160-m.m4a  \n",
            "  inflating: kb_hindi/844424932336374-1160-m.m4a  \n",
            "  inflating: kb_hindi/844424932336379-1160-m.m4a  \n",
            "  inflating: kb_hindi/844424932336395-1160-m.m4a  \n",
            "  inflating: kb_hindi/844424932336399-1160-m.m4a  \n",
            "  inflating: kb_hindi/844424932336403-1160-m.m4a  \n",
            "  inflating: kb_hindi/844424932336726-384-f.m4a  \n",
            "  inflating: kb_hindi/844424932336757-384-f.m4a  \n",
            "  inflating: kb_hindi/844424932336772-384-f.m4a  \n",
            "  inflating: kb_hindi/844424932336779-384-f.m4a  \n",
            "  inflating: kb_hindi/844424932336792-384-f.m4a  \n",
            "  inflating: kb_hindi/844424932336799-384-f.m4a  \n",
            "  inflating: kb_hindi/844424932348730-384-f.m4a  \n",
            "  inflating: kb_hindi/844424932348751-384-f.m4a  \n",
            "  inflating: kb_hindi/844424932348753-384-f.m4a  \n",
            "  inflating: kb_hindi/844424932348764-384-f.m4a  \n",
            "  inflating: kb_hindi/844424932348787-384-f.m4a  \n",
            "  inflating: kb_hindi/844424932349725-384-f.m4a  \n",
            "  inflating: kb_hindi/844424932349733-384-f.m4a  \n",
            "  inflating: kb_hindi/844424932349751-384-f.m4a  \n",
            "  inflating: kb_hindi/844424932349764-384-f.m4a  \n",
            "  inflating: kb_hindi/844424932349765-384-f.m4a  \n",
            "  inflating: kb_hindi/844424932349768-384-f.m4a  \n",
            "  inflating: kb_hindi/844424932349778-384-f.m4a  \n",
            "  inflating: kb_hindi/844424932349790-384-f.m4a  \n",
            "  inflating: kb_hindi/844424932350922-384-f.m4a  \n",
            "  inflating: kb_hindi/844424932350933-384-f.m4a  \n",
            "  inflating: kb_hindi/844424932350941-384-f.m4a  \n",
            "  inflating: kb_hindi/844424932350969-384-f.m4a  \n",
            "  inflating: kb_hindi/844424932350971-384-f.m4a  \n",
            "  inflating: kb_hindi/844424932350995-384-f.m4a  \n",
            "  inflating: kb_hindi/844424932360823-384-f.m4a  \n",
            "  inflating: kb_hindi/844424932360827-384-f.m4a  \n",
            "  inflating: kb_hindi/844424932360891-384-f.m4a  \n",
            "  inflating: kb_hindi/844424932360903-384-f.m4a  \n",
            "  inflating: kb_hindi/844424932360906-384-f.m4a  \n",
            "  inflating: kb_hindi/844424932362220-384-f.m4a  \n",
            "  inflating: kb_hindi/844424932362226-384-f.m4a  \n",
            "  inflating: kb_hindi/844424932362234-384-f.m4a  \n",
            "  inflating: kb_hindi/844424932362236-384-f.m4a  \n",
            "  inflating: kb_hindi/844424932362251-384-f.m4a  \n",
            "  inflating: kb_hindi/844424932362252-384-f.m4a  \n",
            "  inflating: kb_hindi/844424932362259-384-f.m4a  \n",
            "  inflating: kb_hindi/844424932362279-384-f.m4a  \n",
            "  inflating: kb_hindi/844424932362291-384-f.m4a  \n",
            "  inflating: kb_hindi/844424932362298-384-f.m4a  \n",
            "  inflating: kb_hindi/844424932368328-1160-m.m4a  \n",
            "  inflating: kb_hindi/844424932368342-1160-m.m4a  \n",
            "  inflating: kb_hindi/844424932368358-1160-m.m4a  \n",
            "  inflating: kb_hindi/844424932368389-1160-m.m4a  \n",
            "  inflating: kb_hindi/844424932368401-1160-m.m4a  \n",
            "  inflating: kb_hindi/844424932368409-1160-m.m4a  \n",
            "  inflating: kb_hindi/844424932377391-1160-m.m4a  \n",
            "  inflating: kb_hindi/844424932377392-1160-m.m4a  \n",
            "  inflating: kb_hindi/844424932377396-1160-m.m4a  \n",
            "  inflating: kb_hindi/844424932377415-1160-m.m4a  \n",
            "  inflating: kb_hindi/844424932377417-1160-m.m4a  \n",
            "  inflating: kb_hindi/844424932377421-1160-m.m4a  \n",
            "  inflating: kb_hindi/844424932377426-1160-m.m4a  \n",
            "  inflating: kb_hindi/844424932377432-1160-m.m4a  \n",
            "  inflating: kb_hindi/844424932377444-1160-m.m4a  \n",
            "  inflating: kb_hindi/844424932377445-1160-m.m4a  \n",
            "  inflating: kb_hindi/844424932377448-1160-m.m4a  \n",
            "  inflating: kb_hindi/844424932377451-1160-m.m4a  \n",
            "  inflating: kb_hindi/844424932384678-384-f.m4a  \n",
            "  inflating: kb_hindi/844424932384696-384-f.m4a  \n",
            "  inflating: kb_hindi/844424932384704-384-f.m4a  \n",
            "  inflating: kb_hindi/844424932384705-384-f.m4a  \n",
            "  inflating: kb_hindi/844424932384718-384-f.m4a  \n",
            "  inflating: kb_hindi/844424932385457-384-f.m4a  \n",
            "  inflating: kb_hindi/844424932385477-384-f.m4a  \n",
            "  inflating: kb_hindi/844424932385495-384-f.m4a  \n",
            "  inflating: kb_hindi/844424932385505-384-f.m4a  \n",
            "  inflating: kb_hindi/844424932385508-384-f.m4a  \n",
            "  inflating: kb_hindi/844424932387364-1160-m.m4a  \n",
            "  inflating: kb_hindi/844424932387365-1160-m.m4a  \n",
            "  inflating: kb_hindi/844424932387374-1160-m.m4a  \n",
            "  inflating: kb_hindi/844424932387375-1160-m.m4a  \n",
            "  inflating: kb_hindi/844424932387390-1160-m.m4a  \n",
            "  inflating: kb_hindi/844424932387438-1160-m.m4a  \n",
            "  inflating: kb_hindi/844424932387761-384-f.m4a  \n",
            "  inflating: kb_hindi/844424932387784-384-f.m4a  \n",
            "  inflating: kb_hindi/844424932387810-384-f.m4a  \n",
            "  inflating: kb_hindi/844424932387821-384-f.m4a  \n",
            "  inflating: kb_hindi/844424932387833-384-f.m4a  \n",
            "  inflating: kb_hindi/844424932394256-1160-m.m4a  \n",
            "  inflating: kb_hindi/844424932394259-1160-m.m4a  \n",
            "  inflating: kb_hindi/844424932394272-1160-m.m4a  \n",
            "  inflating: kb_hindi/844424932394275-1160-m.m4a  \n",
            "  inflating: kb_hindi/844424932394281-1160-m.m4a  \n",
            "  inflating: kb_hindi/844424932394289-1160-m.m4a  \n",
            "  inflating: kb_hindi/844424932394300-1160-m.m4a  \n",
            "  inflating: kb_hindi/844424932394301-1160-m.m4a  \n",
            "  inflating: kb_hindi/844424932394313-1160-m.m4a  \n",
            "  inflating: kb_hindi/844424932394329-1160-m.m4a  \n",
            "  inflating: kb_hindi/844424932394331-1160-m.m4a  \n",
            "  inflating: kb_hindi/844424932394348-1160-m.m4a  \n",
            "  inflating: kb_hindi/844424932396557-384-f.m4a  \n",
            "  inflating: kb_hindi/844424932396558-384-f.m4a  \n",
            "  inflating: kb_hindi/844424932396613-384-f.m4a  \n",
            "  inflating: kb_hindi/844424932396622-384-f.m4a  \n",
            "  inflating: kb_hindi/844424932396625-384-f.m4a  \n",
            "  inflating: kb_hindi/844424932396627-384-f.m4a  \n",
            "  inflating: kb_hindi/844424932400774-384-f.m4a  \n",
            "  inflating: kb_hindi/844424932400782-384-f.m4a  \n",
            "  inflating: kb_hindi/844424932400788-384-f.m4a  \n",
            "  inflating: kb_hindi/844424932400812-384-f.m4a  \n",
            "  inflating: kb_hindi/844424932400823-384-f.m4a  \n",
            "  inflating: kb_hindi/844424932400842-384-f.m4a  \n",
            "  inflating: kb_hindi/844424932401966-1160-m.m4a  \n",
            "  inflating: kb_hindi/844424932401967-1160-m.m4a  \n",
            "  inflating: kb_hindi/844424932401968-1160-m.m4a  \n",
            "  inflating: kb_hindi/844424932401979-1160-m.m4a  \n",
            "  inflating: kb_hindi/844424932402008-1160-m.m4a  \n",
            "  inflating: kb_hindi/844424932402009-1160-m.m4a  \n",
            "  inflating: kb_hindi/844424932402010-1160-m.m4a  \n",
            "  inflating: kb_hindi/844424932402014-1160-m.m4a  \n",
            "  inflating: kb_hindi/844424932402041-1160-m.m4a  \n",
            "  inflating: kb_hindi/844424932402098-384-f.m4a  \n",
            "  inflating: kb_hindi/844424932402109-384-f.m4a  \n",
            "  inflating: kb_hindi/844424932405278-384-f.m4a  \n",
            "  inflating: kb_hindi/844424932405279-384-f.m4a  \n",
            "  inflating: kb_hindi/844424932405282-384-f.m4a  \n",
            "  inflating: kb_hindi/844424932405286-384-f.m4a  \n",
            "  inflating: kb_hindi/844424932405304-384-f.m4a  \n",
            "  inflating: kb_hindi/844424932405314-384-f.m4a  \n",
            "  inflating: kb_hindi/844424932406560-384-f.m4a  \n",
            "  inflating: kb_hindi/844424932406561-384-f.m4a  \n",
            "  inflating: kb_hindi/844424932406581-384-f.m4a  \n",
            "  inflating: kb_hindi/844424932406603-384-f.m4a  \n",
            "  inflating: kb_hindi/844424932406609-384-f.m4a  \n",
            "  inflating: kb_hindi/844424932406656-1160-m.m4a  \n",
            "  inflating: kb_hindi/844424932406671-1160-m.m4a  \n",
            "  inflating: kb_hindi/844424932406699-1160-m.m4a  \n",
            "  inflating: kb_hindi/844424932406712-1160-m.m4a  \n",
            "  inflating: kb_hindi/844424932406731-1160-m.m4a  \n",
            "  inflating: kb_hindi/844424932406752-1160-m.m4a  \n",
            "  inflating: kb_hindi/844424932418557-888-f.m4a  \n",
            "  inflating: kb_hindi/844424932418601-888-f.m4a  \n",
            "  inflating: kb_hindi/844424932418608-888-f.m4a  \n",
            "  inflating: kb_hindi/844424932418611-888-f.m4a  \n",
            "  inflating: kb_hindi/844424932418636-888-f.m4a  \n",
            "  inflating: kb_hindi/844424932418638-888-f.m4a  \n",
            "  inflating: kb_hindi/844424932423574-384-f.m4a  \n",
            "  inflating: kb_hindi/844424932423578-384-f.m4a  \n",
            "  inflating: kb_hindi/844424932423582-384-f.m4a  \n",
            "  inflating: kb_hindi/844424932423599-384-f.m4a  \n",
            "  inflating: kb_hindi/844424932423649-384-f.m4a  \n",
            "  inflating: kb_hindi/844424932424472-384-f.m4a  \n",
            "  inflating: kb_hindi/844424932424508-384-f.m4a  \n",
            "  inflating: kb_hindi/844424932424520-384-f.m4a  \n",
            "  inflating: kb_hindi/844424932425226-727-f.m4a  \n",
            "  inflating: kb_hindi/844424932425243-727-f.m4a  \n",
            "  inflating: kb_hindi/844424932425251-727-f.m4a  \n",
            "  inflating: kb_hindi/844424932425873-888-f.m4a  \n",
            "  inflating: kb_hindi/844424932425879-888-f.m4a  \n",
            "  inflating: kb_hindi/844424932425917-888-f.m4a  \n",
            "  inflating: kb_hindi/844424932425947-888-f.m4a  \n",
            "  inflating: kb_hindi/844424932426061-1160-m.m4a  \n",
            "  inflating: kb_hindi/844424932426072-1160-m.m4a  \n",
            "  inflating: kb_hindi/844424932426103-1160-m.m4a  \n",
            "  inflating: kb_hindi/844424932426126-1160-m.m4a  \n",
            "  inflating: kb_hindi/844424932426132-1160-m.m4a  \n",
            "  inflating: kb_hindi/844424932426133-1160-m.m4a  \n",
            "  inflating: kb_hindi/844424932426134-1160-m.m4a  \n",
            "  inflating: kb_hindi/844424932426141-1160-m.m4a  \n",
            "  inflating: kb_hindi/844424932426144-1160-m.m4a  \n",
            "  inflating: kb_hindi/844424932426658-888-f.m4a  \n",
            "  inflating: kb_hindi/844424932426743-888-f.m4a  \n",
            "  inflating: kb_hindi/844424932426963-384-f.m4a  \n",
            "  inflating: kb_hindi/844424932426969-384-f.m4a  \n",
            "  inflating: kb_hindi/844424932426973-384-f.m4a  \n",
            "  inflating: kb_hindi/844424932426983-384-f.m4a  \n",
            "  inflating: kb_hindi/844424932426990-384-f.m4a  \n",
            "  inflating: kb_hindi/844424932427010-384-f.m4a  \n",
            "  inflating: kb_hindi/844424932427015-384-f.m4a  \n",
            "  inflating: kb_hindi/844424932427016-384-f.m4a  \n",
            "  inflating: kb_hindi/844424932427030-384-f.m4a  \n",
            "  inflating: kb_hindi/844424932427761-1160-m.m4a  \n",
            "  inflating: kb_hindi/844424932427791-1160-m.m4a  \n",
            "  inflating: kb_hindi/844424932427798-1160-m.m4a  \n",
            "  inflating: kb_hindi/844424932427806-1160-m.m4a  \n",
            "  inflating: kb_hindi/844424932427828-1160-m.m4a  \n",
            "  inflating: kb_hindi/844424932427834-1160-m.m4a  \n",
            "  inflating: kb_hindi/844424932427839-1160-m.m4a  \n",
            "  inflating: kb_hindi/844424932427846-1160-m.m4a  \n",
            "  inflating: kb_hindi/844424932427853-1160-m.m4a  \n",
            "  inflating: kb_hindi/844424932427943-888-f.m4a  \n",
            "  inflating: kb_hindi/844424932428680-888-f.m4a  \n",
            "  inflating: kb_hindi/844424932428689-888-f.m4a  \n",
            "  inflating: kb_hindi/844424932428690-888-f.m4a  \n",
            "  inflating: kb_hindi/844424932428698-888-f.m4a  \n",
            "  inflating: kb_hindi/844424932428718-888-f.m4a  \n",
            "  inflating: kb_hindi/844424932428749-888-f.m4a  \n",
            "  inflating: kb_hindi/844424932429555-384-f.m4a  \n",
            "  inflating: kb_hindi/844424932429563-384-f.m4a  \n",
            "  inflating: kb_hindi/844424932429578-384-f.m4a  \n",
            "  inflating: kb_hindi/844424932429587-384-f.m4a  \n",
            "  inflating: kb_hindi/844424932429590-384-f.m4a  \n",
            "  inflating: kb_hindi/844424932429604-384-f.m4a  \n",
            "  inflating: kb_hindi/844424932429612-384-f.m4a  \n",
            "  inflating: kb_hindi/844424932429629-384-f.m4a  \n",
            "  inflating: kb_hindi/844424932430395-384-f.m4a  \n",
            "  inflating: kb_hindi/844424932430396-384-f.m4a  \n",
            "  inflating: kb_hindi/844424932430404-384-f.m4a  \n",
            "  inflating: kb_hindi/844424932430418-384-f.m4a  \n",
            "  inflating: kb_hindi/844424932432760-1160-m.m4a  \n",
            "  inflating: kb_hindi/844424932432766-1160-m.m4a  \n",
            "  inflating: kb_hindi/844424932432772-1160-m.m4a  \n",
            "  inflating: kb_hindi/844424932432776-1160-m.m4a  \n",
            "  inflating: kb_hindi/844424932432790-1160-m.m4a  \n",
            "  inflating: kb_hindi/844424932432793-1160-m.m4a  \n",
            "  inflating: kb_hindi/844424932432794-1160-m.m4a  \n",
            "  inflating: kb_hindi/844424932432801-1160-m.m4a  \n",
            "  inflating: kb_hindi/844424932432815-1160-m.m4a  \n",
            "  inflating: kb_hindi/844424932432820-1160-m.m4a  \n",
            "  inflating: kb_hindi/844424932433200-384-f.m4a  \n",
            "  inflating: kb_hindi/844424932433208-384-f.m4a  \n",
            "  inflating: kb_hindi/844424932433225-384-f.m4a  \n",
            "  inflating: kb_hindi/844424932433235-384-f.m4a  \n",
            "  inflating: kb_hindi/844424932433248-384-f.m4a  \n",
            "  inflating: kb_hindi/844424932435865-384-f.m4a  \n",
            "  inflating: kb_hindi/844424932435874-384-f.m4a  \n",
            "  inflating: kb_hindi/844424932435903-384-f.m4a  \n",
            "  inflating: kb_hindi/844424932435939-384-f.m4a  \n",
            "  inflating: kb_hindi/844424932457768-1102-f.m4a  \n",
            "  inflating: kb_hindi/844424932457784-1102-f.m4a  \n",
            "  inflating: kb_hindi/844424932457819-1102-f.m4a  \n",
            "  inflating: kb_hindi/844424932457822-1102-f.m4a  \n",
            "  inflating: kb_hindi/844424932457829-1102-f.m4a  \n",
            "  inflating: kb_hindi/844424932473985-1102-f.m4a  \n",
            "  inflating: kb_hindi/844424932473986-1102-f.m4a  \n",
            "  inflating: kb_hindi/844424932474019-1102-f.m4a  \n",
            "  inflating: kb_hindi/844424932474032-1102-f.m4a  \n",
            "  inflating: kb_hindi/844424932475654-1160-m.m4a  \n",
            "  inflating: kb_hindi/844424932475660-1160-m.m4a  \n",
            "  inflating: kb_hindi/844424932475726-1160-m.m4a  \n",
            "  inflating: kb_hindi/844424932475730-1160-m.m4a  \n",
            "  inflating: kb_hindi/844424932475735-1160-m.m4a  \n",
            "  inflating: kb_hindi/844424932482708-1102-f.m4a  \n",
            "  inflating: kb_hindi/844424932482727-1102-f.m4a  \n",
            "  inflating: kb_hindi/844424932482730-1102-f.m4a  \n",
            "  inflating: kb_hindi/844424932482744-1102-f.m4a  \n",
            "  inflating: kb_hindi/844424932482747-1102-f.m4a  \n",
            "  inflating: kb_hindi/844424932483466-1102-f.m4a  \n",
            "  inflating: kb_hindi/844424932483470-1102-f.m4a  \n",
            "  inflating: kb_hindi/844424932483507-1102-f.m4a  \n",
            "  inflating: kb_hindi/844424932483546-1102-f.m4a  \n",
            "  inflating: kb_hindi/844424932483547-1102-f.m4a  \n",
            "  inflating: kb_hindi/844424932561277-645-f.m4a  \n",
            "  inflating: kb_hindi/844424932561292-645-f.m4a  \n",
            "  inflating: kb_hindi/844424932561347-645-f.m4a  \n",
            "  inflating: kb_hindi/844424932563463-645-f.m4a  \n",
            "  inflating: kb_hindi/844424932563505-645-f.m4a  \n",
            "  inflating: kb_hindi/844424932563526-645-f.m4a  \n",
            "  inflating: kb_hindi/844424932563543-645-f.m4a  \n",
            "  inflating: kb_hindi/844424932564078-645-f.m4a  \n",
            "  inflating: kb_hindi/844424932564093-645-f.m4a  \n",
            "  inflating: kb_hindi/844424932564098-645-f.m4a  \n",
            "  inflating: kb_hindi/844424932564102-645-f.m4a  \n",
            "  inflating: kb_hindi/844424932564133-645-f.m4a  \n",
            "  inflating: kb_hindi/844424932569176-645-f.m4a  \n",
            "  inflating: kb_hindi/844424932570788-645-f.m4a  \n",
            "  inflating: kb_hindi/844424932570816-645-f.m4a  \n",
            "  inflating: kb_hindi/844424932573179-645-f.m4a  \n",
            "  inflating: kb_hindi/844424932573205-645-f.m4a  \n",
            "  inflating: kb_hindi/844424932573236-645-f.m4a  \n",
            "  inflating: kb_hindi/844424932574701-645-f.m4a  \n",
            "  inflating: kb_hindi/844424932574736-645-f.m4a  \n",
            "  inflating: kb_hindi/844424932574740-645-f.m4a  \n",
            "  inflating: kb_hindi/844424932581184-645-f.m4a  \n",
            "  inflating: kb_hindi/844424932581229-645-f.m4a  \n",
            "  inflating: kb_hindi/844424932581371-645-f.m4a  \n",
            "  inflating: kb_hindi/844424932581392-645-f.m4a  \n",
            "  inflating: kb_hindi/844424932581393-645-f.m4a  \n",
            "  inflating: kb_hindi/844424932581410-645-f.m4a  \n",
            "  inflating: kb_hindi/844424932581432-645-f.m4a  \n",
            "  inflating: kb_hindi/844424932581805-645-f.m4a  \n",
            "  inflating: kb_hindi/844424932581808-645-f.m4a  \n",
            "  inflating: kb_hindi/844424932581813-645-f.m4a  \n",
            "  inflating: kb_hindi/844424932581826-645-f.m4a  \n",
            "  inflating: kb_hindi/844424932581835-645-f.m4a  \n",
            "  inflating: kb_hindi/844424932581844-645-f.m4a  \n",
            "  inflating: kb_hindi/844424932581852-645-f.m4a  \n",
            "  inflating: kb_hindi/844424932581853-645-f.m4a  \n",
            "  inflating: kb_hindi/844424932582644-645-f.m4a  \n",
            "  inflating: kb_hindi/844424932593868-888-f.m4a  \n",
            "  inflating: kb_hindi/844424932593888-888-f.m4a  \n",
            "  inflating: kb_hindi/844424932593914-888-f.m4a  \n",
            "  inflating: kb_hindi/844424932593939-888-f.m4a  \n",
            "  inflating: kb_hindi/844424932593947-888-f.m4a  \n",
            "  inflating: kb_hindi/844424932594018-645-f.m4a  \n",
            "  inflating: kb_hindi/844424932594059-645-f.m4a  \n",
            "  inflating: kb_hindi/844424932594327-645-f.m4a  \n",
            "  inflating: kb_hindi/844424932594356-645-f.m4a  \n",
            "  inflating: kb_hindi/844424932601991-645-f.m4a  \n",
            "  inflating: kb_hindi/844424932602000-645-f.m4a  \n",
            "  inflating: kb_hindi/844424932602056-645-f.m4a  \n",
            "  inflating: kb_hindi/844424932602064-645-f.m4a  \n",
            "  inflating: kb_hindi/844424932602827-645-f.m4a  \n",
            "  inflating: kb_hindi/844424932602844-645-f.m4a  \n",
            "  inflating: kb_hindi/844424932602859-645-f.m4a  \n",
            "  inflating: kb_hindi/844424932603708-645-f.m4a  \n",
            "  inflating: kb_hindi/844424932606880-468-f.m4a  \n",
            "  inflating: kb_hindi/844424932606883-468-f.m4a  \n",
            "  inflating: kb_hindi/844424932606899-468-f.m4a  \n",
            "  inflating: kb_hindi/844424932606918-468-f.m4a  \n",
            "  inflating: kb_hindi/844424932606938-468-f.m4a  \n",
            "  inflating: kb_hindi/844424932606956-468-f.m4a  \n",
            "  inflating: kb_hindi/844424932606960-468-f.m4a  \n",
            "  inflating: kb_hindi/844424932607026-727-f.m4a  \n",
            "  inflating: kb_hindi/844424932607027-727-f.m4a  \n",
            "  inflating: kb_hindi/844424932607047-727-f.m4a  \n",
            "  inflating: kb_hindi/844424932607509-727-f.m4a  \n",
            "  inflating: kb_hindi/844424932607545-727-f.m4a  \n",
            "  inflating: kb_hindi/844424932607554-727-f.m4a  \n",
            "  inflating: kb_hindi/844424932607670-727-f.m4a  \n",
            "  inflating: kb_hindi/844424932607688-727-f.m4a  \n",
            "  inflating: kb_hindi/844424932607707-727-f.m4a  \n",
            "  inflating: kb_hindi/844424932607708-727-f.m4a  \n",
            "  inflating: kb_hindi/844424932607755-727-f.m4a  \n",
            "  inflating: kb_hindi/844424932608192-645-f.m4a  \n",
            "  inflating: kb_hindi/844424932608262-645-f.m4a  \n",
            "  inflating: kb_hindi/844424932608352-645-f.m4a  \n",
            "  inflating: kb_hindi/844424932608569-645-f.m4a  \n",
            "  inflating: kb_hindi/844424932608583-645-f.m4a  \n",
            "  inflating: kb_hindi/844424932608665-645-f.m4a  \n",
            "  inflating: kb_hindi/844424932609499-645-f.m4a  \n",
            "  inflating: kb_hindi/844424932609509-645-f.m4a  \n",
            "  inflating: kb_hindi/844424932609515-645-f.m4a  \n",
            "  inflating: kb_hindi/844424932609581-645-f.m4a  \n",
            "  inflating: kb_hindi/844424932609935-645-f.m4a  \n",
            "  inflating: kb_hindi/844424932609953-645-f.m4a  \n",
            "  inflating: kb_hindi/844424932689822-645-f.m4a  \n",
            "  inflating: kb_hindi/844424932689840-645-f.m4a  \n",
            "  inflating: kb_hindi/844424932689871-645-f.m4a  \n",
            "  inflating: kb_hindi/844424932689877-645-f.m4a  \n",
            "  inflating: kb_hindi/844424932691130-645-f.m4a  \n",
            "  inflating: kb_hindi/844424932691154-645-f.m4a  \n",
            "  inflating: kb_hindi/844424932691175-645-f.m4a  \n",
            "  inflating: kb_hindi/844424932691178-645-f.m4a  \n",
            "  inflating: kb_hindi/844424932691180-645-f.m4a  \n",
            "  inflating: kb_hindi/844424932691186-645-f.m4a  \n",
            "  inflating: kb_hindi/844424932693916-645-f.m4a  \n",
            "  inflating: kb_hindi/844424932693922-645-f.m4a  \n",
            "  inflating: kb_hindi/844424932693924-645-f.m4a  \n",
            "  inflating: kb_hindi/844424932693928-645-f.m4a  \n",
            "  inflating: kb_hindi/844424932693937-645-f.m4a  \n",
            "  inflating: kb_hindi/844424932693958-645-f.m4a  \n",
            "  inflating: kb_hindi/844424932693983-645-f.m4a  \n",
            "  inflating: kb_hindi/844424932693998-645-f.m4a  \n",
            "  inflating: kb_hindi/844424932700519-645-f.m4a  \n",
            "  inflating: kb_hindi/844424932700556-645-f.m4a  \n",
            "  inflating: kb_hindi/844424932700570-645-f.m4a  \n",
            "  inflating: kb_hindi/844424932700600-645-f.m4a  \n",
            "  inflating: kb_hindi/844424932701608-645-f.m4a  \n",
            "  inflating: kb_hindi/844424932701616-645-f.m4a  \n",
            "  inflating: kb_hindi/844424932701621-645-f.m4a  \n",
            "  inflating: kb_hindi/844424932701626-645-f.m4a  \n",
            "  inflating: kb_hindi/844424932701631-645-f.m4a  \n",
            "  inflating: kb_hindi/844424932701693-645-f.m4a  \n",
            "  inflating: kb_hindi/844424932702704-645-f.m4a  \n",
            "  inflating: kb_hindi/844424932702707-645-f.m4a  \n",
            "  inflating: kb_hindi/844424932702712-645-f.m4a  \n",
            "  inflating: kb_hindi/844424932702720-645-f.m4a  \n",
            "  inflating: kb_hindi/844424932702734-645-f.m4a  \n",
            "  inflating: kb_hindi/844424932702738-645-f.m4a  \n",
            "  inflating: kb_hindi/844424932702741-645-f.m4a  \n",
            "  inflating: kb_hindi/844424932702788-645-f.m4a  \n",
            "  inflating: kb_hindi/844424932708130-645-f.m4a  \n",
            "  inflating: kb_hindi/844424932708141-645-f.m4a  \n",
            "  inflating: kb_hindi/844424932708470-645-f.m4a  \n",
            "  inflating: kb_hindi/844424932709303-468-f.m4a  \n",
            "  inflating: kb_hindi/844424932709309-468-f.m4a  \n",
            "  inflating: kb_hindi/844424932709316-468-f.m4a  \n",
            "  inflating: kb_hindi/844424932709331-468-f.m4a  \n",
            "  inflating: kb_hindi/844424932709367-468-f.m4a  \n",
            "  inflating: kb_hindi/844424932709375-468-f.m4a  \n",
            "  inflating: kb_hindi/844424932709395-468-f.m4a  \n",
            "  inflating: kb_hindi/844424932709704-3-f.m4a  \n",
            "  inflating: kb_hindi/844424932709718-3-f.m4a  \n",
            "  inflating: kb_hindi/844424932709724-3-f.m4a  \n",
            "  inflating: kb_hindi/844424932709729-3-f.m4a  \n",
            "  inflating: kb_hindi/844424932709740-3-f.m4a  \n",
            "  inflating: kb_hindi/844424932709777-3-f.m4a  \n",
            "  inflating: kb_hindi/844424932709932-468-f.m4a  \n",
            "  inflating: kb_hindi/844424932709939-468-f.m4a  \n",
            "  inflating: kb_hindi/844424932709947-468-f.m4a  \n",
            "  inflating: kb_hindi/844424932709953-468-f.m4a  \n",
            "  inflating: kb_hindi/844424932709957-468-f.m4a  \n",
            "  inflating: kb_hindi/844424932709965-468-f.m4a  \n",
            "  inflating: kb_hindi/844424932709991-468-f.m4a  \n",
            "  inflating: kb_hindi/844424932709995-468-f.m4a  \n",
            "  inflating: kb_hindi/844424932710112-3-f.m4a  \n",
            "  inflating: kb_hindi/844424932710164-3-f.m4a  \n",
            "  inflating: kb_hindi/844424932710166-3-f.m4a  \n",
            "  inflating: kb_hindi/844424932710174-3-f.m4a  \n",
            "  inflating: kb_hindi/844424932710184-3-f.m4a  \n",
            "  inflating: kb_hindi/844424932710188-3-f.m4a  \n",
            "  inflating: kb_hindi/844424932710191-3-f.m4a  \n",
            "  inflating: kb_hindi/844424932710197-3-f.m4a  \n",
            "  inflating: kb_hindi/844424932710761-645-f.m4a  \n",
            "  inflating: kb_hindi/844424932710772-645-f.m4a  \n",
            "  inflating: kb_hindi/844424932710785-645-f.m4a  \n",
            "  inflating: kb_hindi/844424932711181-645-f.m4a  \n",
            "  inflating: kb_hindi/844424932711185-645-f.m4a  \n",
            "  inflating: kb_hindi/844424932711187-645-f.m4a  \n",
            "  inflating: kb_hindi/844424932711198-645-f.m4a  \n",
            "  inflating: kb_hindi/844424932715380-888-f.m4a  \n",
            "  inflating: kb_hindi/844424932715390-888-f.m4a  \n",
            "  inflating: kb_hindi/844424932715394-888-f.m4a  \n",
            "  inflating: kb_hindi/844424932715400-888-f.m4a  \n",
            "  inflating: kb_hindi/844424932716600-888-f.m4a  \n",
            "  inflating: kb_hindi/844424932719912-727-f.m4a  \n",
            "  inflating: kb_hindi/844424932719938-727-f.m4a  \n",
            "  inflating: kb_hindi/844424932719968-727-f.m4a  \n",
            "  inflating: kb_hindi/844424932719971-727-f.m4a  \n",
            "  inflating: kb_hindi/844424932719977-727-f.m4a  \n",
            "  inflating: kb_hindi/844424932719981-727-f.m4a  \n",
            "  inflating: kb_hindi/844424932719996-727-f.m4a  \n",
            "  inflating: kb_hindi/844424932719997-727-f.m4a  \n",
            "  inflating: kb_hindi/844424932721211-727-f.m4a  \n",
            "  inflating: kb_hindi/844424932721224-727-f.m4a  \n",
            "  inflating: kb_hindi/844424932721239-727-f.m4a  \n",
            "  inflating: kb_hindi/844424932721284-727-f.m4a  \n",
            "  inflating: kb_hindi/844424932721289-727-f.m4a  \n",
            "  inflating: kb_hindi/844424932732916-645-f.m4a  \n",
            "  inflating: kb_hindi/844424932732924-645-f.m4a  \n",
            "  inflating: kb_hindi/844424932732952-645-f.m4a  \n",
            "  inflating: kb_hindi/844424932732959-645-f.m4a  \n",
            "  inflating: kb_hindi/844424932732971-645-f.m4a  \n",
            "  inflating: kb_hindi/844424932732985-645-f.m4a  \n",
            "  inflating: kb_hindi/844424932735015-645-f.m4a  \n",
            "  inflating: kb_hindi/844424932735030-645-f.m4a  \n",
            "  inflating: kb_hindi/844424932735036-645-f.m4a  \n",
            "  inflating: kb_hindi/844424932735076-645-f.m4a  \n",
            "  inflating: kb_hindi/844424932736815-645-f.m4a  \n",
            "  inflating: kb_hindi/844424932736819-645-f.m4a  \n",
            "  inflating: kb_hindi/844424932745915-3-f.m4a  \n",
            "  inflating: kb_hindi/844424932745920-3-f.m4a  \n",
            "  inflating: kb_hindi/844424932745921-3-f.m4a  \n",
            "  inflating: kb_hindi/844424932745925-3-f.m4a  \n",
            "  inflating: kb_hindi/844424932745945-3-f.m4a  \n",
            "  inflating: kb_hindi/844424932745951-3-f.m4a  \n",
            "  inflating: kb_hindi/844424932745961-3-f.m4a  \n",
            "  inflating: kb_hindi/844424932745988-3-f.m4a  \n",
            "  inflating: kb_hindi/844424932745989-3-f.m4a  \n",
            "  inflating: kb_hindi/844424932745993-3-f.m4a  \n",
            "  inflating: kb_hindi/844424932745997-3-f.m4a  \n",
            "  inflating: kb_hindi/844424932746919-645-f.m4a  \n",
            "  inflating: kb_hindi/844424932746930-645-f.m4a  \n",
            "  inflating: kb_hindi/844424932746936-645-f.m4a  \n",
            "  inflating: kb_hindi/844424932746943-645-f.m4a  \n",
            "  inflating: kb_hindi/844424932746944-645-f.m4a  \n",
            "  inflating: kb_hindi/844424932746965-645-f.m4a  \n",
            "  inflating: kb_hindi/844424932746981-645-f.m4a  \n",
            "  inflating: kb_hindi/844424932746989-645-f.m4a  \n",
            "  inflating: kb_hindi/844424932747230-645-f.m4a  \n",
            "  inflating: kb_hindi/844424932747262-645-f.m4a  \n",
            "  inflating: kb_hindi/844424932747274-645-f.m4a  \n",
            "  inflating: kb_hindi/844424932747276-645-f.m4a  \n",
            "  inflating: kb_hindi/844424932751707-727-f.m4a  \n",
            "  inflating: kb_hindi/844424932751709-727-f.m4a  \n",
            "  inflating: kb_hindi/844424932751714-727-f.m4a  \n",
            "  inflating: kb_hindi/844424932751719-727-f.m4a  \n",
            "  inflating: kb_hindi/844424932751736-727-f.m4a  \n",
            "  inflating: kb_hindi/844424932751787-727-f.m4a  \n",
            "  inflating: kb_hindi/844424932751797-727-f.m4a  \n",
            "  inflating: kb_hindi/844424932751800-727-f.m4a  \n",
            "  inflating: kb_hindi/844424932752949-1102-f.m4a  \n",
            "  inflating: kb_hindi/844424932752972-1102-f.m4a  \n",
            "  inflating: kb_hindi/844424932752998-1102-f.m4a  \n",
            "  inflating: kb_hindi/844424932758609-645-f.m4a  \n",
            "  inflating: kb_hindi/844424932758616-645-f.m4a  \n",
            "  inflating: kb_hindi/844424932758633-645-f.m4a  \n",
            "  inflating: kb_hindi/844424932758656-645-f.m4a  \n",
            "  inflating: kb_hindi/844424932759112-468-f.m4a  \n",
            "  inflating: kb_hindi/844424932759114-468-f.m4a  \n",
            "  inflating: kb_hindi/844424932759128-468-f.m4a  \n",
            "  inflating: kb_hindi/844424932759132-468-f.m4a  \n",
            "  inflating: kb_hindi/844424932759134-468-f.m4a  \n",
            "  inflating: kb_hindi/844424932759135-468-f.m4a  \n",
            "  inflating: kb_hindi/844424932759156-468-f.m4a  \n",
            "  inflating: kb_hindi/844424932759169-468-f.m4a  \n",
            "  inflating: kb_hindi/844424932759171-468-f.m4a  \n",
            "  inflating: kb_hindi/844424932759186-468-f.m4a  \n",
            "  inflating: kb_hindi/844424932759194-468-f.m4a  \n",
            "  inflating: kb_hindi/844424932759200-468-f.m4a  \n",
            "  inflating: kb_hindi/844424932760210-3-f.m4a  \n",
            "  inflating: kb_hindi/844424932760211-3-f.m4a  \n",
            "  inflating: kb_hindi/844424932760220-3-f.m4a  \n",
            "  inflating: kb_hindi/844424932760228-3-f.m4a  \n",
            "  inflating: kb_hindi/844424932760242-3-f.m4a  \n",
            "  inflating: kb_hindi/844424932760263-3-f.m4a  \n",
            "  inflating: kb_hindi/844424932760273-3-f.m4a  \n",
            "  inflating: kb_hindi/844424932760288-3-f.m4a  \n",
            "  inflating: kb_hindi/844424932761886-3-f.m4a  \n",
            "  inflating: kb_hindi/844424932761975-3-f.m4a  \n",
            "  inflating: kb_hindi/844424932762015-3-f.m4a  \n",
            "  inflating: kb_hindi/844424932762407-468-f.m4a  \n",
            "  inflating: kb_hindi/844424932762409-468-f.m4a  \n",
            "  inflating: kb_hindi/844424932762423-468-f.m4a  \n",
            "  inflating: kb_hindi/844424932762463-468-f.m4a  \n",
            "  inflating: kb_hindi/844424932762466-468-f.m4a  \n",
            "  inflating: kb_hindi/844424932763301-727-f.m4a  \n",
            "  inflating: kb_hindi/844424932763306-727-f.m4a  \n",
            "  inflating: kb_hindi/844424932763316-727-f.m4a  \n",
            "  inflating: kb_hindi/844424932763317-727-f.m4a  \n",
            "  inflating: kb_hindi/844424932763323-727-f.m4a  \n",
            "  inflating: kb_hindi/844424932763342-727-f.m4a  \n",
            "  inflating: kb_hindi/844424932763347-727-f.m4a  \n",
            "  inflating: kb_hindi/844424932763361-727-f.m4a  \n",
            "  inflating: kb_hindi/844424932764658-727-f.m4a  \n",
            "  inflating: kb_hindi/844424932764678-727-f.m4a  \n",
            "  inflating: kb_hindi/844424932764687-727-f.m4a  \n",
            "  inflating: kb_hindi/844424932764694-727-f.m4a  \n",
            "  inflating: kb_hindi/844424932766102-468-f.m4a  \n",
            "  inflating: kb_hindi/844424932766106-468-f.m4a  \n",
            "  inflating: kb_hindi/844424932766112-468-f.m4a  \n",
            "  inflating: kb_hindi/844424932766118-468-f.m4a  \n",
            "  inflating: kb_hindi/844424932766141-468-f.m4a  \n",
            "  inflating: kb_hindi/844424932766144-468-f.m4a  \n",
            "  inflating: kb_hindi/844424932766150-468-f.m4a  \n",
            "  inflating: kb_hindi/844424932766167-468-f.m4a  \n",
            "  inflating: kb_hindi/844424932766183-468-f.m4a  \n",
            "  inflating: kb_hindi/844424932766185-468-f.m4a  \n",
            "  inflating: kb_hindi/844424932766193-468-f.m4a  \n",
            "  inflating: kb_hindi/844424932766198-468-f.m4a  \n",
            "  inflating: kb_hindi/844424932770676-1102-f.m4a  \n",
            "  inflating: kb_hindi/844424932770703-1102-f.m4a  \n",
            "  inflating: kb_hindi/844424932770728-1102-f.m4a  \n",
            "  inflating: kb_hindi/844424932770770-1102-f.m4a  \n",
            "  inflating: kb_hindi/844424932772290-888-f.m4a  \n",
            "  inflating: kb_hindi/844424932772475-1102-f.m4a  \n",
            "  inflating: kb_hindi/844424932772476-1102-f.m4a  \n",
            "  inflating: kb_hindi/844424932772535-1102-f.m4a  \n",
            "  inflating: kb_hindi/844424932772537-1102-f.m4a  \n",
            "  inflating: kb_hindi/844424932772544-1102-f.m4a  \n",
            "  inflating: kb_hindi/844424932775984-888-f.m4a  \n",
            "  inflating: kb_hindi/844424932776014-888-f.m4a  \n",
            "  inflating: kb_hindi/844424932776026-888-f.m4a  \n",
            "  inflating: kb_hindi/844424932776066-888-f.m4a  \n",
            "  inflating: kb_hindi/844424932776707-888-f.m4a  \n",
            "  inflating: kb_hindi/844424932776715-888-f.m4a  \n",
            "  inflating: kb_hindi/844424932776716-888-f.m4a  \n",
            "  inflating: kb_hindi/844424932776746-888-f.m4a  \n",
            "  inflating: kb_hindi/844424932776752-888-f.m4a  \n",
            "  inflating: kb_hindi/844424932776766-888-f.m4a  \n",
            "  inflating: kb_hindi/844424932779074-3-f.m4a  \n",
            "  inflating: kb_hindi/844424932779081-3-f.m4a  \n",
            "  inflating: kb_hindi/844424932779085-3-f.m4a  \n",
            "  inflating: kb_hindi/844424932779102-3-f.m4a  \n",
            "  inflating: kb_hindi/844424932779122-3-f.m4a  \n",
            "  inflating: kb_hindi/844424932779137-3-f.m4a  \n",
            "  inflating: kb_hindi/844424932779155-3-f.m4a  \n",
            "  inflating: kb_hindi/844424932779164-3-f.m4a  \n",
            "  inflating: kb_hindi/844424932779166-3-f.m4a  \n",
            "  inflating: kb_hindi/844424932781449-645-f.m4a  \n",
            "  inflating: kb_hindi/844424932781457-645-f.m4a  \n",
            "  inflating: kb_hindi/844424932781486-645-f.m4a  \n",
            "  inflating: kb_hindi/844424932781495-645-f.m4a  \n",
            "  inflating: kb_hindi/844424932781524-645-f.m4a  \n",
            "  inflating: kb_hindi/844424932781542-645-f.m4a  \n",
            "  inflating: kb_hindi/844424932782158-645-f.m4a  \n",
            "  inflating: kb_hindi/844424932782204-645-f.m4a  \n",
            "  inflating: kb_hindi/844424932782224-645-f.m4a  \n",
            "  inflating: kb_hindi/844424932783063-1102-f.m4a  \n",
            "  inflating: kb_hindi/844424932783088-1102-f.m4a  \n",
            "  inflating: kb_hindi/844424932783092-1102-f.m4a  \n",
            "  inflating: kb_hindi/844424932783095-1102-f.m4a  \n",
            "  inflating: kb_hindi/844424932783101-1102-f.m4a  \n",
            "  inflating: kb_hindi/844424932783109-1102-f.m4a  \n",
            "  inflating: kb_hindi/844424932783122-1102-f.m4a  \n",
            "  inflating: kb_hindi/844424932783131-1102-f.m4a  \n",
            "  inflating: kb_hindi/844424932783138-1102-f.m4a  \n",
            "  inflating: kb_hindi/844424932786167-645-f.m4a  \n",
            "  inflating: kb_hindi/844424932786169-645-f.m4a  \n",
            "  inflating: kb_hindi/844424932786175-645-f.m4a  \n",
            "  inflating: kb_hindi/844424932786203-645-f.m4a  \n",
            "  inflating: kb_hindi/844424932786209-645-f.m4a  \n",
            "  inflating: kb_hindi/844424932786217-645-f.m4a  \n",
            "  inflating: kb_hindi/844424932786240-645-f.m4a  \n",
            "  inflating: kb_hindi/844424932793839-645-f.m4a  \n",
            "  inflating: kb_hindi/844424932793846-645-f.m4a  \n",
            "  inflating: kb_hindi/844424932793850-645-f.m4a  \n",
            "  inflating: kb_hindi/844424932793863-645-f.m4a  \n",
            "  inflating: kb_hindi/844424932793883-645-f.m4a  \n",
            "  inflating: kb_hindi/844424932795754-645-f.m4a  \n",
            "  inflating: kb_hindi/844424932795774-645-f.m4a  \n",
            "  inflating: kb_hindi/844424932795785-645-f.m4a  \n",
            "  inflating: kb_hindi/844424932795803-645-f.m4a  \n",
            "  inflating: kb_hindi/844424932795806-645-f.m4a  \n",
            "  inflating: kb_hindi/844424932795815-645-f.m4a  \n",
            "  inflating: kb_hindi/844424932795816-645-f.m4a  \n",
            "  inflating: kb_hindi/844424932795817-645-f.m4a  \n",
            "  inflating: kb_hindi/844424932796970-645-f.m4a  \n",
            "  inflating: kb_hindi/844424932799622-468-f.m4a  \n",
            "  inflating: kb_hindi/844424932799639-468-f.m4a  \n",
            "  inflating: kb_hindi/844424932799654-468-f.m4a  \n",
            "  inflating: kb_hindi/844424932799656-468-f.m4a  \n",
            "  inflating: kb_hindi/844424932799660-468-f.m4a  \n",
            "  inflating: kb_hindi/844424932799663-468-f.m4a  \n",
            "  inflating: kb_hindi/844424932799665-468-f.m4a  \n",
            "  inflating: kb_hindi/844424932799672-468-f.m4a  \n",
            "  inflating: kb_hindi/844424932799679-468-f.m4a  \n",
            "  inflating: kb_hindi/844424932799685-468-f.m4a  \n",
            "  inflating: kb_hindi/844424932799687-468-f.m4a  \n",
            "  inflating: kb_hindi/844424932799690-468-f.m4a  \n",
            "  inflating: kb_hindi/844424932799691-468-f.m4a  \n",
            "  inflating: kb_hindi/844424932799717-468-f.m4a  \n",
            "  inflating: kb_hindi/844424932801308-1102-f.m4a  \n",
            "  inflating: kb_hindi/844424932801312-1102-f.m4a  \n",
            "  inflating: kb_hindi/844424932801379-1102-f.m4a  \n",
            "  inflating: kb_hindi/844424932801381-1102-f.m4a  \n",
            "  inflating: kb_hindi/844424932801391-1102-f.m4a  \n",
            "  inflating: kb_hindi/844424932801393-1102-f.m4a  \n",
            "  inflating: kb_hindi/844424932802333-468-f.m4a  \n",
            "  inflating: kb_hindi/844424932802340-468-f.m4a  \n",
            "  inflating: kb_hindi/844424932802346-468-f.m4a  \n",
            "  inflating: kb_hindi/844424932802354-468-f.m4a  \n",
            "  inflating: kb_hindi/844424932802363-468-f.m4a  \n",
            "  inflating: kb_hindi/844424932802370-468-f.m4a  \n",
            "  inflating: kb_hindi/844424932802380-468-f.m4a  \n",
            "  inflating: kb_hindi/844424932802382-468-f.m4a  \n",
            "  inflating: kb_hindi/844424932802945-727-f.m4a  \n",
            "  inflating: kb_hindi/844424932802952-727-f.m4a  \n",
            "  inflating: kb_hindi/844424932802962-727-f.m4a  \n",
            "  inflating: kb_hindi/844424932802963-727-f.m4a  \n",
            "  inflating: kb_hindi/844424932802974-727-f.m4a  \n",
            "  inflating: kb_hindi/844424932803440-1102-f.m4a  \n",
            "  inflating: kb_hindi/844424932803473-1102-f.m4a  \n",
            "  inflating: kb_hindi/844424932803488-1102-f.m4a  \n",
            "  inflating: kb_hindi/844424932803502-1102-f.m4a  \n",
            "  inflating: kb_hindi/844424932803512-1102-f.m4a  \n",
            "  inflating: kb_hindi/844424932803924-727-f.m4a  \n",
            "  inflating: kb_hindi/844424932803928-727-f.m4a  \n",
            "  inflating: kb_hindi/844424932803930-727-f.m4a  \n",
            "  inflating: kb_hindi/844424932803956-727-f.m4a  \n",
            "  inflating: kb_hindi/844424932803994-727-f.m4a  \n",
            "  inflating: kb_hindi/844424932804004-727-f.m4a  \n",
            "  inflating: kb_hindi/844424932804723-727-f.m4a  \n",
            "  inflating: kb_hindi/844424932804732-727-f.m4a  \n",
            "  inflating: kb_hindi/844424932804743-727-f.m4a  \n",
            "  inflating: kb_hindi/844424932804806-727-f.m4a  \n",
            "  inflating: kb_hindi/844424932807519-468-f.m4a  \n",
            "  inflating: kb_hindi/844424932807533-468-f.m4a  \n",
            "  inflating: kb_hindi/844424932807541-468-f.m4a  \n",
            "  inflating: kb_hindi/844424932807548-468-f.m4a  \n",
            "  inflating: kb_hindi/844424932807567-468-f.m4a  \n",
            "  inflating: kb_hindi/844424932807581-468-f.m4a  \n",
            "  inflating: kb_hindi/844424932807583-468-f.m4a  \n",
            "  inflating: kb_hindi/844424932807584-468-f.m4a  \n",
            "  inflating: kb_hindi/844424932807585-468-f.m4a  \n",
            "  inflating: kb_hindi/844424932807595-468-f.m4a  \n",
            "  inflating: kb_hindi/844424932807610-468-f.m4a  \n",
            "  inflating: kb_hindi/844424932807611-468-f.m4a  \n",
            "  inflating: kb_hindi/844424932811388-645-f.m4a  \n",
            "  inflating: kb_hindi/844424932811449-645-f.m4a  \n",
            "  inflating: kb_hindi/844424932811465-645-f.m4a  \n",
            "  inflating: kb_hindi/844424932811633-645-f.m4a  \n",
            "  inflating: kb_hindi/844424932811689-645-f.m4a  \n",
            "  inflating: kb_hindi/844424932813124-468-f.m4a  \n",
            "  inflating: kb_hindi/844424932813145-468-f.m4a  \n",
            "  inflating: kb_hindi/844424932813165-468-f.m4a  \n",
            "  inflating: kb_hindi/844424932813175-468-f.m4a  \n",
            "  inflating: kb_hindi/844424932813177-468-f.m4a  \n",
            "  inflating: kb_hindi/844424932813188-468-f.m4a  \n",
            "  inflating: kb_hindi/844424932813193-468-f.m4a  \n",
            "  inflating: kb_hindi/844424932813195-468-f.m4a  \n",
            "  inflating: kb_hindi/844424932813215-468-f.m4a  \n",
            "  inflating: kb_hindi/844424932814023-3-f.m4a  \n",
            "  inflating: kb_hindi/844424932814024-3-f.m4a  \n",
            "  inflating: kb_hindi/844424932814039-3-f.m4a  \n",
            "  inflating: kb_hindi/844424932814084-3-f.m4a  \n",
            "  inflating: kb_hindi/844424932814087-3-f.m4a  \n",
            "  inflating: kb_hindi/844424932814101-3-f.m4a  \n",
            "  inflating: kb_hindi/844424932814108-3-f.m4a  \n",
            "  inflating: kb_hindi/844424932814226-3-f.m4a  \n",
            "  inflating: kb_hindi/844424932814228-3-f.m4a  \n",
            "  inflating: kb_hindi/844424932814251-3-f.m4a  \n",
            "  inflating: kb_hindi/844424932814277-3-f.m4a  \n",
            "  inflating: kb_hindi/844424932814297-3-f.m4a  \n",
            "  inflating: kb_hindi/844424932815524-1102-f.m4a  \n",
            "  inflating: kb_hindi/844424932815535-1102-f.m4a  \n",
            "  inflating: kb_hindi/844424932815554-1102-f.m4a  \n",
            "  inflating: kb_hindi/844424932815563-1102-f.m4a  \n",
            "  inflating: kb_hindi/844424932815569-1102-f.m4a  \n",
            "  inflating: kb_hindi/844424932815570-1102-f.m4a  \n",
            "  inflating: kb_hindi/844424932815582-1102-f.m4a  \n",
            "  inflating: kb_hindi/844424932815585-1102-f.m4a  \n",
            "  inflating: kb_hindi/844424932815601-1102-f.m4a  \n",
            "  inflating: kb_hindi/844424932815929-1102-f.m4a  \n",
            "  inflating: kb_hindi/844424932815942-1102-f.m4a  \n",
            "  inflating: kb_hindi/844424932815956-1102-f.m4a  \n",
            "  inflating: kb_hindi/844424932815966-1102-f.m4a  \n",
            "  inflating: kb_hindi/844424932815974-1102-f.m4a  \n",
            "  inflating: kb_hindi/844424932816012-1102-f.m4a  \n",
            "  inflating: kb_hindi/844424932819267-3-f.m4a  \n",
            "  inflating: kb_hindi/844424932819302-3-f.m4a  \n",
            "  inflating: kb_hindi/844424932819339-3-f.m4a  \n",
            "  inflating: kb_hindi/844424932819352-3-f.m4a  \n",
            "  inflating: kb_hindi/844424932834392-727-f.m4a  \n",
            "  inflating: kb_hindi/844424932834427-727-f.m4a  \n",
            "  inflating: kb_hindi/844424932835340-1102-f.m4a  \n",
            "  inflating: kb_hindi/844424932835384-1102-f.m4a  \n",
            "  inflating: kb_hindi/844424932835404-1102-f.m4a  \n",
            "  inflating: kb_hindi/844424932835408-1102-f.m4a  \n",
            "  inflating: kb_hindi/844424932835424-1102-f.m4a  \n",
            "  inflating: kb_hindi/844424932835640-727-f.m4a  \n",
            "  inflating: kb_hindi/844424932835657-727-f.m4a  \n",
            "  inflating: kb_hindi/844424932835669-727-f.m4a  \n",
            "  inflating: kb_hindi/844424932835670-727-f.m4a  \n",
            "  inflating: kb_hindi/844424932835676-727-f.m4a  \n",
            "  inflating: kb_hindi/844424932835681-727-f.m4a  \n",
            "  inflating: kb_hindi/844424932835721-727-f.m4a  \n",
            "  inflating: kb_hindi/844424932836938-727-f.m4a  \n",
            "  inflating: kb_hindi/844424932836966-727-f.m4a  \n",
            "  inflating: kb_hindi/844424932836985-727-f.m4a  \n",
            "  inflating: kb_hindi/844424932837004-727-f.m4a  \n",
            "  inflating: kb_hindi/844424932837017-727-f.m4a  \n",
            "  inflating: kb_hindi/844424932840334-727-f.m4a  \n",
            "  inflating: kb_hindi/844424932840337-727-f.m4a  \n",
            "  inflating: kb_hindi/844424932840347-727-f.m4a  \n",
            "  inflating: kb_hindi/844424932840356-727-f.m4a  \n",
            "  inflating: kb_hindi/844424932840377-727-f.m4a  \n",
            "  inflating: kb_hindi/844424932840427-727-f.m4a  \n",
            "  inflating: kb_hindi/844424932851531-3-f.m4a  \n",
            "  inflating: kb_hindi/844424932851541-3-f.m4a  \n",
            "  inflating: kb_hindi/844424932851547-3-f.m4a  \n",
            "  inflating: kb_hindi/844424932851577-3-f.m4a  \n",
            "  inflating: kb_hindi/844424932851578-3-f.m4a  \n",
            "  inflating: kb_hindi/844424932851581-3-f.m4a  \n",
            "  inflating: kb_hindi/844424932851582-3-f.m4a  \n",
            "  inflating: kb_hindi/844424932851597-3-f.m4a  \n",
            "  inflating: kb_hindi/844424932851601-3-f.m4a  \n",
            "  inflating: kb_hindi/844424932851604-3-f.m4a  \n",
            "  inflating: kb_hindi/844424932851606-3-f.m4a  \n",
            "  inflating: kb_hindi/844424932851624-3-f.m4a  \n",
            "  inflating: kb_hindi/844424932851625-3-f.m4a  \n",
            "  inflating: kb_hindi/844424932852338-3-f.m4a  \n",
            "  inflating: kb_hindi/844424932852343-3-f.m4a  \n",
            "  inflating: kb_hindi/844424932852355-3-f.m4a  \n",
            "  inflating: kb_hindi/844424932852356-3-f.m4a  \n",
            "  inflating: kb_hindi/844424932852365-3-f.m4a  \n",
            "  inflating: kb_hindi/844424932852366-3-f.m4a  \n",
            "  inflating: kb_hindi/844424932852371-3-f.m4a  \n",
            "  inflating: kb_hindi/844424932852375-3-f.m4a  \n",
            "  inflating: kb_hindi/844424932852419-3-f.m4a  \n",
            "  inflating: kb_hindi/844424932859234-727-f.m4a  \n",
            "  inflating: kb_hindi/844424932859285-727-f.m4a  \n",
            "  inflating: kb_hindi/844424932859306-727-f.m4a  \n",
            "  inflating: kb_hindi/844424932860096-727-f.m4a  \n",
            "  inflating: kb_hindi/844424932860101-727-f.m4a  \n",
            "  inflating: kb_hindi/844424932860127-727-f.m4a  \n",
            "  inflating: kb_hindi/844424932860165-727-f.m4a  \n",
            "  inflating: kb_hindi/844424932860175-727-f.m4a  \n",
            "  inflating: kb_hindi/844424932860191-727-f.m4a  \n",
            "  inflating: kb_hindi/844424932866905-468-f.m4a  \n",
            "  inflating: kb_hindi/844424932866939-468-f.m4a  \n",
            "  inflating: kb_hindi/844424932866942-468-f.m4a  \n",
            "  inflating: kb_hindi/844424932866952-468-f.m4a  \n",
            "  inflating: kb_hindi/844424932866960-468-f.m4a  \n",
            "  inflating: kb_hindi/844424932866972-468-f.m4a  \n",
            "  inflating: kb_hindi/844424932866981-468-f.m4a  \n",
            "  inflating: kb_hindi/844424932866988-468-f.m4a  \n",
            "  inflating: kb_hindi/844424932866992-468-f.m4a  \n",
            "  inflating: kb_hindi/844424932866996-468-f.m4a  \n",
            "  inflating: kb_hindi/844424932867310-727-f.m4a  \n",
            "  inflating: kb_hindi/844424932868250-727-f.m4a  \n",
            "  inflating: kb_hindi/844424932868282-727-f.m4a  \n",
            "  inflating: kb_hindi/844424932868283-727-f.m4a  \n",
            "  inflating: kb_hindi/844424932868284-727-f.m4a  \n",
            "  inflating: kb_hindi/844424932868286-727-f.m4a  \n",
            "  inflating: kb_hindi/844424932869007-727-f.m4a  \n",
            "  inflating: kb_hindi/844424932869027-727-f.m4a  \n",
            "  inflating: kb_hindi/844424932869030-727-f.m4a  \n",
            "  inflating: kb_hindi/844424932869034-727-f.m4a  \n",
            "  inflating: kb_hindi/844424932869046-727-f.m4a  \n",
            "  inflating: kb_hindi/844424932869087-727-f.m4a  \n",
            "  inflating: kb_hindi/844424932870214-468-f.m4a  \n",
            "  inflating: kb_hindi/844424932870217-468-f.m4a  \n",
            "  inflating: kb_hindi/844424932870225-468-f.m4a  \n",
            "  inflating: kb_hindi/844424932870230-468-f.m4a  \n",
            "  inflating: kb_hindi/844424932870235-468-f.m4a  \n",
            "  inflating: kb_hindi/844424932870238-468-f.m4a  \n",
            "  inflating: kb_hindi/844424932870239-468-f.m4a  \n",
            "  inflating: kb_hindi/844424932870246-468-f.m4a  \n",
            "  inflating: kb_hindi/844424932870257-468-f.m4a  \n",
            "  inflating: kb_hindi/844424932870279-468-f.m4a  \n",
            "  inflating: kb_hindi/844424932870280-468-f.m4a  \n",
            "  inflating: kb_hindi/844424932870282-468-f.m4a  \n",
            "  inflating: kb_hindi/844424932870287-468-f.m4a  \n",
            "  inflating: kb_hindi/844424932870292-468-f.m4a  \n",
            "  inflating: kb_hindi/844424932874163-1102-f.m4a  \n",
            "  inflating: kb_hindi/844424932874181-1102-f.m4a  \n",
            "  inflating: kb_hindi/844424932874182-1102-f.m4a  \n",
            "  inflating: kb_hindi/844424932874252-1102-f.m4a  \n",
            "  inflating: kb_hindi/844424932874255-1102-f.m4a  \n",
            "  inflating: kb_hindi/844424932875995-1102-f.m4a  \n",
            "  inflating: kb_hindi/844424932876002-1102-f.m4a  \n",
            "  inflating: kb_hindi/844424932876008-1102-f.m4a  \n",
            "  inflating: kb_hindi/844424932876041-1102-f.m4a  \n",
            "  inflating: kb_hindi/844424932876043-1102-f.m4a  \n",
            "  inflating: kb_hindi/844424932879058-1102-f.m4a  \n",
            "  inflating: kb_hindi/844424932879066-1102-f.m4a  \n",
            "  inflating: kb_hindi/844424932879082-1102-f.m4a  \n",
            "  inflating: kb_hindi/844424932879085-1102-f.m4a  \n",
            "  inflating: kb_hindi/844424932879107-1102-f.m4a  \n",
            "  inflating: kb_hindi/844424932879131-1102-f.m4a  \n",
            "  inflating: kb_hindi/844424932897358-3-f.m4a  \n",
            "  inflating: kb_hindi/844424932897359-3-f.m4a  \n",
            "  inflating: kb_hindi/844424932897363-3-f.m4a  \n",
            "  inflating: kb_hindi/844424932897372-3-f.m4a  \n",
            "  inflating: kb_hindi/844424932897380-3-f.m4a  \n",
            "  inflating: kb_hindi/844424932897386-3-f.m4a  \n",
            "  inflating: kb_hindi/844424932897397-3-f.m4a  \n",
            "  inflating: kb_hindi/844424932897419-3-f.m4a  \n",
            "  inflating: kb_hindi/844424932897422-3-f.m4a  \n",
            "  inflating: kb_hindi/844424932897436-3-f.m4a  \n",
            "  inflating: kb_hindi/844424932897442-3-f.m4a  \n",
            "  inflating: kb_hindi/844424932897453-727-f.m4a  \n",
            "  inflating: kb_hindi/844424932897454-727-f.m4a  \n",
            "  inflating: kb_hindi/844424932897517-727-f.m4a  \n",
            "  inflating: kb_hindi/844424932897518-727-f.m4a  \n",
            "  inflating: kb_hindi/844424932897543-727-f.m4a  \n",
            "  inflating: kb_hindi/844424932897557-468-f.m4a  \n",
            "  inflating: kb_hindi/844424932897591-468-f.m4a  \n",
            "  inflating: kb_hindi/844424932897594-468-f.m4a  \n",
            "  inflating: kb_hindi/844424932897622-468-f.m4a  \n",
            "  inflating: kb_hindi/844424932897632-468-f.m4a  \n",
            "  inflating: kb_hindi/844424932897634-468-f.m4a  \n",
            "  inflating: kb_hindi/844424932897640-468-f.m4a  \n",
            "  inflating: kb_hindi/844424932898587-727-f.m4a  \n",
            "  inflating: kb_hindi/844424932898589-727-f.m4a  \n",
            "  inflating: kb_hindi/844424932898604-727-f.m4a  \n",
            "  inflating: kb_hindi/844424932899449-1102-f.m4a  \n",
            "  inflating: kb_hindi/844424932899475-1102-f.m4a  \n",
            "  inflating: kb_hindi/844424932899497-1102-f.m4a  \n",
            "  inflating: kb_hindi/844424932899553-3-f.m4a  \n",
            "  inflating: kb_hindi/844424932899577-3-f.m4a  \n",
            "  inflating: kb_hindi/844424932899633-3-f.m4a  \n",
            "  inflating: kb_hindi/844424932899639-3-f.m4a  \n",
            "  inflating: kb_hindi/844424932899641-3-f.m4a  \n",
            "  inflating: kb_hindi/844424932900257-727-f.m4a  \n",
            "  inflating: kb_hindi/844424932900301-727-f.m4a  \n",
            "  inflating: kb_hindi/844424932900308-727-f.m4a  \n",
            "  inflating: kb_hindi/844424932900342-727-f.m4a  \n",
            "  inflating: kb_hindi/844424932900347-727-f.m4a  \n",
            "  inflating: kb_hindi/844424932901353-3-f.m4a  \n",
            "  inflating: kb_hindi/844424932901366-3-f.m4a  \n",
            "  inflating: kb_hindi/844424932901372-3-f.m4a  \n",
            "  inflating: kb_hindi/844424932901396-3-f.m4a  \n",
            "  inflating: kb_hindi/844424932901397-3-f.m4a  \n",
            "  inflating: kb_hindi/844424932901424-3-f.m4a  \n",
            "  inflating: kb_hindi/844424932901750-1102-f.m4a  \n",
            "  inflating: kb_hindi/844424932901808-1102-f.m4a  \n",
            "  inflating: kb_hindi/844424932901810-1102-f.m4a  \n",
            "  inflating: kb_hindi/844424932901813-1102-f.m4a  \n",
            "  inflating: kb_hindi/844424932901819-1102-f.m4a  \n",
            "  inflating: kb_hindi/844424932901845-1102-f.m4a  \n",
            "  inflating: kb_hindi/844424932901964-727-f.m4a  \n",
            "  inflating: kb_hindi/844424932901981-727-f.m4a  \n",
            "  inflating: kb_hindi/844424932902018-727-f.m4a  \n",
            "  inflating: kb_hindi/844424932902039-727-f.m4a  \n",
            "  inflating: kb_hindi/844424932902041-727-f.m4a  \n",
            "  inflating: kb_hindi/844424932902352-468-f.m4a  \n",
            "  inflating: kb_hindi/844424932902355-468-f.m4a  \n",
            "  inflating: kb_hindi/844424932902358-468-f.m4a  \n",
            "  inflating: kb_hindi/844424932902368-468-f.m4a  \n",
            "  inflating: kb_hindi/844424932902369-468-f.m4a  \n",
            "  inflating: kb_hindi/844424932902406-468-f.m4a  \n",
            "  inflating: kb_hindi/844424932902416-468-f.m4a  \n",
            "  inflating: kb_hindi/844424932902427-468-f.m4a  \n",
            "  inflating: kb_hindi/844424932902446-468-f.m4a  \n",
            "  inflating: kb_hindi/844424932903449-1102-f.m4a  \n",
            "  inflating: kb_hindi/844424932903493-1102-f.m4a  \n",
            "  inflating: kb_hindi/844424932903497-1102-f.m4a  \n",
            "  inflating: kb_hindi/844424932903499-1102-f.m4a  \n",
            "  inflating: kb_hindi/844424932903532-1102-f.m4a  \n",
            "  inflating: kb_hindi/844424932903535-1102-f.m4a  \n",
            "  inflating: kb_hindi/844424932904753-468-f.m4a  \n",
            "  inflating: kb_hindi/844424932904756-468-f.m4a  \n",
            "  inflating: kb_hindi/844424932904774-468-f.m4a  \n",
            "  inflating: kb_hindi/844424932904779-468-f.m4a  \n",
            "  inflating: kb_hindi/844424932904797-468-f.m4a  \n",
            "  inflating: kb_hindi/844424932904798-468-f.m4a  \n",
            "  inflating: kb_hindi/844424932904822-468-f.m4a  \n",
            "  inflating: kb_hindi/844424932904834-468-f.m4a  \n",
            "  inflating: kb_hindi/844424932904839-468-f.m4a  \n",
            "  inflating: kb_hindi/844424932904891-468-f.m4a  \n",
            "  inflating: kb_hindi/844424932904894-468-f.m4a  \n",
            "  inflating: kb_hindi/844424932904966-468-f.m4a  \n",
            "  inflating: kb_hindi/844424932904974-468-f.m4a  \n",
            "  inflating: kb_hindi/844424932904980-468-f.m4a  \n",
            "  inflating: kb_hindi/844424932904987-468-f.m4a  \n",
            "  inflating: kb_hindi/844424932905004-468-f.m4a  \n",
            "  inflating: kb_hindi/844424932905007-468-f.m4a  \n",
            "  inflating: kb_hindi/844424932905017-468-f.m4a  \n",
            "  inflating: kb_hindi/844424932905034-468-f.m4a  \n",
            "  inflating: kb_hindi/844424932905035-468-f.m4a  \n",
            "  inflating: kb_hindi/844424932905040-468-f.m4a  \n",
            "  inflating: kb_hindi/844424932905061-3-f.m4a  \n",
            "  inflating: kb_hindi/844424932905094-3-f.m4a  \n",
            "  inflating: kb_hindi/844424932905112-3-f.m4a  \n",
            "  inflating: kb_hindi/844424932905131-3-f.m4a  \n",
            "  inflating: kb_hindi/844424932905138-3-f.m4a  \n",
            "  inflating: kb_hindi/844424932905142-3-f.m4a  \n",
            "  inflating: kb_hindi/844424932905399-1102-f.m4a  \n",
            "  inflating: kb_hindi/844424932905750-727-f.m4a  \n",
            "  inflating: kb_hindi/844424932905776-727-f.m4a  \n",
            "  inflating: kb_hindi/844424932905787-727-f.m4a  \n",
            "  inflating: kb_hindi/844424932905824-727-f.m4a  \n",
            "  inflating: kb_hindi/844424932905833-727-f.m4a  \n",
            "  inflating: kb_hindi/844424932906752-727-f.m4a  \n",
            "  inflating: kb_hindi/844424932906774-727-f.m4a  \n",
            "  inflating: kb_hindi/844424932906780-727-f.m4a  \n",
            "  inflating: kb_hindi/844424932907196-1102-f.m4a  \n",
            "  inflating: kb_hindi/844424932907203-1102-f.m4a  \n",
            "  inflating: kb_hindi/844424932907210-1102-f.m4a  \n",
            "  inflating: kb_hindi/844424932907225-1102-f.m4a  \n",
            "  inflating: kb_hindi/844424932907231-1102-f.m4a  \n",
            "  inflating: kb_hindi/844424932907550-3-f.m4a  \n",
            "  inflating: kb_hindi/844424932907596-3-f.m4a  \n",
            "  inflating: kb_hindi/844424932907603-3-f.m4a  \n",
            "  inflating: kb_hindi/844424932907620-3-f.m4a  \n",
            "  inflating: kb_hindi/844424932907646-3-f.m4a  \n",
            "  inflating: kb_hindi/844424932909948-727-f.m4a  \n",
            "  inflating: kb_hindi/844424932909964-727-f.m4a  \n",
            "  inflating: kb_hindi/844424932909967-727-f.m4a  \n",
            "  inflating: kb_hindi/844424932909978-727-f.m4a  \n",
            "  inflating: kb_hindi/844424932909991-727-f.m4a  \n",
            "  inflating: kb_hindi/844424932910013-727-f.m4a  \n",
            "  inflating: kb_hindi/844424932910024-727-f.m4a  \n",
            "  inflating: kb_hindi/844424932910032-727-f.m4a  \n",
            "  inflating: kb_hindi/844424932911606-1102-f.m4a  \n",
            "  inflating: kb_hindi/844424932911634-1102-f.m4a  \n",
            "  inflating: kb_hindi/844424932912394-468-f.m4a  \n",
            "  inflating: kb_hindi/844424932912400-468-f.m4a  \n",
            "  inflating: kb_hindi/844424932912424-468-f.m4a  \n",
            "  inflating: kb_hindi/844424932912430-468-f.m4a  \n",
            "  inflating: kb_hindi/844424932912439-468-f.m4a  \n",
            "  inflating: kb_hindi/844424932912655-888-f.m4a  \n",
            "  inflating: kb_hindi/844424932912683-888-f.m4a  \n",
            "  inflating: kb_hindi/844424932912688-888-f.m4a  \n",
            "  inflating: kb_hindi/844424932912739-888-f.m4a  \n",
            "  inflating: kb_hindi/844424932913751-888-f.m4a  \n",
            "  inflating: kb_hindi/844424932913752-888-f.m4a  \n",
            "  inflating: kb_hindi/844424932913754-888-f.m4a  \n",
            "  inflating: kb_hindi/844424932913759-888-f.m4a  \n",
            "  inflating: kb_hindi/844424932913768-888-f.m4a  \n",
            "  inflating: kb_hindi/844424932913769-888-f.m4a  \n",
            "  inflating: kb_hindi/844424932913771-888-f.m4a  \n",
            "  inflating: kb_hindi/844424932913780-888-f.m4a  \n",
            "  inflating: kb_hindi/844424932913786-888-f.m4a  \n",
            "  inflating: kb_hindi/844424932913795-888-f.m4a  \n",
            "  inflating: kb_hindi/844424932913815-888-f.m4a  \n",
            "  inflating: kb_hindi/844424932916051-1102-f.m4a  \n",
            "  inflating: kb_hindi/844424932916091-1102-f.m4a  \n",
            "  inflating: kb_hindi/844424932916100-1102-f.m4a  \n",
            "  inflating: kb_hindi/844424932916159-727-f.m4a  \n",
            "  inflating: kb_hindi/844424932916195-727-f.m4a  \n",
            "  inflating: kb_hindi/844424932917175-727-f.m4a  \n",
            "  inflating: kb_hindi/844424932917187-727-f.m4a  \n",
            "  inflating: kb_hindi/844424932917191-727-f.m4a  \n",
            "  inflating: kb_hindi/844424932917193-727-f.m4a  \n",
            "  inflating: kb_hindi/844424932917882-3-f.m4a  \n",
            "  inflating: kb_hindi/844424932917931-3-f.m4a  \n",
            "  inflating: kb_hindi/844424932918171-727-f.m4a  \n",
            "  inflating: kb_hindi/844424932918172-727-f.m4a  \n",
            "  inflating: kb_hindi/844424932918198-727-f.m4a  \n",
            "  inflating: kb_hindi/844424932918230-727-f.m4a  \n",
            "  inflating: kb_hindi/844424932918232-727-f.m4a  \n",
            "  inflating: kb_hindi/844424932918856-888-f.m4a  \n",
            "  inflating: kb_hindi/844424932918857-888-f.m4a  \n",
            "  inflating: kb_hindi/844424932918872-888-f.m4a  \n",
            "  inflating: kb_hindi/844424932918884-888-f.m4a  \n",
            "  inflating: kb_hindi/844424932918900-888-f.m4a  \n",
            "  inflating: kb_hindi/844424932918912-888-f.m4a  \n",
            "  inflating: kb_hindi/844424932918920-888-f.m4a  \n",
            "  inflating: kb_hindi/844424932918922-888-f.m4a  \n",
            "  inflating: kb_hindi/844424932918925-888-f.m4a  \n",
            "  inflating: kb_hindi/844424932918932-888-f.m4a  \n",
            "  inflating: kb_hindi/844424932918933-888-f.m4a  \n",
            "  inflating: kb_hindi/844424932919872-888-f.m4a  \n",
            "  inflating: kb_hindi/844424932919894-888-f.m4a  \n",
            "  inflating: kb_hindi/844424932919895-888-f.m4a  \n",
            "  inflating: kb_hindi/844424932919899-888-f.m4a  \n",
            "  inflating: kb_hindi/844424932923003-727-f.m4a  \n",
            "  inflating: kb_hindi/844424932923012-727-f.m4a  \n",
            "  inflating: kb_hindi/844424932923013-727-f.m4a  \n",
            "  inflating: kb_hindi/844424932923029-727-f.m4a  \n",
            "  inflating: kb_hindi/844424932923966-727-f.m4a  \n",
            "  inflating: kb_hindi/844424932923996-727-f.m4a  \n",
            "  inflating: kb_hindi/844424932923997-727-f.m4a  \n",
            "  inflating: kb_hindi/844424932924994-727-f.m4a  \n",
            "  inflating: kb_hindi/844424932925026-727-f.m4a  \n",
            "  inflating: kb_hindi/844424932925034-727-f.m4a  \n",
            "  inflating: kb_hindi/844424932925036-727-f.m4a  \n",
            "  inflating: kb_hindi/844424932925041-727-f.m4a  \n",
            "  inflating: kb_hindi/844424932927260-3-f.m4a  \n",
            "  inflating: kb_hindi/844424932927277-3-f.m4a  \n",
            "  inflating: kb_hindi/844424932927278-3-f.m4a  \n",
            "  inflating: kb_hindi/844424932927286-3-f.m4a  \n",
            "  inflating: kb_hindi/844424932927290-3-f.m4a  \n",
            "  inflating: kb_hindi/844424932927294-3-f.m4a  \n",
            "  inflating: kb_hindi/844424932927297-3-f.m4a  \n",
            "  inflating: kb_hindi/844424932927302-3-f.m4a  \n",
            "  inflating: kb_hindi/844424932927309-3-f.m4a  \n",
            "  inflating: kb_hindi/844424932927310-3-f.m4a  \n",
            "  inflating: kb_hindi/844424932927311-3-f.m4a  \n",
            "  inflating: kb_hindi/844424932927320-3-f.m4a  \n",
            "  inflating: kb_hindi/844424932927323-3-f.m4a  \n",
            "  inflating: kb_hindi/844424932927327-3-f.m4a  \n",
            "  inflating: kb_hindi/844424932927330-3-f.m4a  \n",
            "  inflating: kb_hindi/844424932927339-3-f.m4a  \n",
            "  inflating: kb_hindi/844424932927457-468-f.m4a  \n",
            "  inflating: kb_hindi/844424932927458-468-f.m4a  \n",
            "  inflating: kb_hindi/844424932927468-468-f.m4a  \n",
            "  inflating: kb_hindi/844424932927474-468-f.m4a  \n",
            "  inflating: kb_hindi/844424932927482-468-f.m4a  \n",
            "  inflating: kb_hindi/844424932927498-468-f.m4a  \n",
            "  inflating: kb_hindi/844424932927505-468-f.m4a  \n",
            "  inflating: kb_hindi/844424932927506-468-f.m4a  \n",
            "  inflating: kb_hindi/844424932927508-468-f.m4a  \n",
            "  inflating: kb_hindi/844424932927523-468-f.m4a  \n",
            "  inflating: kb_hindi/844424932928358-3-f.m4a  \n",
            "  inflating: kb_hindi/844424932928394-3-f.m4a  \n",
            "  inflating: kb_hindi/844424932928395-3-f.m4a  \n",
            "  inflating: kb_hindi/844424932928400-3-f.m4a  \n",
            "  inflating: kb_hindi/844424932928407-3-f.m4a  \n",
            "  inflating: kb_hindi/844424932928429-3-f.m4a  \n",
            "  inflating: kb_hindi/844424932928440-3-f.m4a  \n",
            "  inflating: kb_hindi/844424932930354-888-f.m4a  \n",
            "  inflating: kb_hindi/844424932930367-888-f.m4a  \n",
            "  inflating: kb_hindi/844424932930377-888-f.m4a  \n",
            "  inflating: kb_hindi/844424932930381-888-f.m4a  \n",
            "  inflating: kb_hindi/844424932930392-888-f.m4a  \n",
            "  inflating: kb_hindi/844424932930415-888-f.m4a  \n",
            "  inflating: kb_hindi/844424932930420-888-f.m4a  \n",
            "  inflating: kb_hindi/844424932930426-888-f.m4a  \n",
            "  inflating: kb_hindi/844424932930428-888-f.m4a  \n",
            "  inflating: kb_hindi/844424932930436-888-f.m4a  \n",
            "  inflating: kb_hindi/844424932930861-888-f.m4a  \n",
            "  inflating: kb_hindi/844424932930887-888-f.m4a  \n",
            "  inflating: kb_hindi/844424932930888-888-f.m4a  \n",
            "  inflating: kb_hindi/844424932930933-888-f.m4a  \n",
            "  inflating: kb_hindi/844424933037470-888-f.m4a  \n",
            "  inflating: kb_hindi/844424933037479-888-f.m4a  \n",
            "  inflating: kb_hindi/844424933037518-888-f.m4a  \n",
            "  inflating: kb_hindi/844424933037541-888-f.m4a  \n",
            "  inflating: kb_hindi/844424933037549-888-f.m4a  \n",
            "  inflating: kb_hindi/844424933037556-888-f.m4a  \n",
            "  inflating: kb_hindi/844424933037872-888-f.m4a  \n",
            "  inflating: kb_hindi/844424933037906-888-f.m4a  \n",
            "  inflating: kb_hindi/844424933037918-888-f.m4a  \n",
            "  inflating: kb_hindi/844424933037935-888-f.m4a  \n",
            "  inflating: kb_hindi/844424933038008-888-f.m4a  \n",
            "  inflating: kb_hindi/844424933038030-888-f.m4a  \n",
            "  inflating: kb_hindi/844424933038035-888-f.m4a  \n",
            "  inflating: kb_hindi/844424933038274-888-f.m4a  \n",
            "  inflating: kb_hindi/844424933038277-888-f.m4a  \n",
            "  inflating: kb_hindi/844424933038294-888-f.m4a  \n",
            "  inflating: kb_hindi/844424933038302-888-f.m4a  \n",
            "  inflating: kb_hindi/844424933038326-888-f.m4a  \n",
            "  inflating: kb_hindi/844424933038327-888-f.m4a  \n",
            "  inflating: kb_hindi/844424933038489-888-f.m4a  \n",
            "  inflating: kb_hindi/844424933038525-888-f.m4a  \n",
            "  inflating: kb_hindi/844424933038527-888-f.m4a  \n",
            "  inflating: kb_hindi/844424933038528-888-f.m4a  \n",
            "  inflating: kb_hindi/844424933038531-888-f.m4a  \n",
            "  inflating: kb_hindi/844424933038541-888-f.m4a  \n",
            "  inflating: kb_hindi/844424933038548-888-f.m4a  \n",
            "  inflating: kb_hindi/844424933038551-888-f.m4a  \n",
            "  inflating: kb_hindi/844424933038555-888-f.m4a  \n",
            "  inflating: kb_hindi/844424933048680-888-f.m4a  \n",
            "  inflating: kb_hindi/844424933048690-888-f.m4a  \n",
            "  inflating: kb_hindi/844424933048725-888-f.m4a  \n",
            "  inflating: kb_hindi/844424933048738-888-f.m4a  \n",
            "  inflating: kb_hindi/844424933048748-888-f.m4a  \n",
            "  inflating: kb_hindi/844424933058709-888-f.m4a  \n",
            "  inflating: kb_hindi/844424933058718-888-f.m4a  \n",
            "  inflating: kb_hindi/844424933058723-888-f.m4a  \n",
            "  inflating: kb_hindi/844424933058728-888-f.m4a  \n",
            "  inflating: kb_hindi/844424933058739-888-f.m4a  \n",
            "  inflating: kb_hindi/844424933058743-888-f.m4a  \n",
            "  inflating: kb_hindi/844424933058755-888-f.m4a  \n",
            "  inflating: kb_hindi/844424933058759-888-f.m4a  \n",
            "  inflating: kb_hindi/844424933058760-888-f.m4a  \n",
            "  inflating: kb_hindi/844424933059274-888-f.m4a  \n",
            "  inflating: kb_hindi/844424933059277-888-f.m4a  \n",
            "  inflating: kb_hindi/844424933059279-888-f.m4a  \n",
            "  inflating: kb_hindi/844424933059282-888-f.m4a  \n",
            "  inflating: kb_hindi/844424933059296-888-f.m4a  \n",
            "  inflating: kb_hindi/844424933059310-888-f.m4a  \n",
            "  inflating: kb_hindi/844424933060191-888-f.m4a  \n",
            "  inflating: kb_hindi/844424933060245-888-f.m4a  \n",
            "  inflating: kb_hindi/844424933060261-888-f.m4a  \n",
            "  inflating: kb_hindi/844424933062673-888-f.m4a  \n",
            "  inflating: kb_hindi/844424933062683-888-f.m4a  \n",
            "  inflating: kb_hindi/844424933062688-888-f.m4a  \n",
            "  inflating: kb_hindi/844424933062713-888-f.m4a  \n",
            "  inflating: kb_hindi/844424933063770-888-f.m4a  \n",
            "  inflating: kb_hindi/844424933063798-888-f.m4a  \n",
            "  inflating: kb_hindi/844424933063806-888-f.m4a  \n",
            "  inflating: kb_hindi/844424933063864-888-f.m4a  \n",
            "  inflating: kb_hindi/844424933065577-888-f.m4a  \n",
            "  inflating: kb_hindi/844424933454281-1052-m.m4a  \n",
            "  inflating: kb_hindi/844424933454296-1052-m.m4a  \n",
            "  inflating: kb_hindi/844424933454301-1052-m.m4a  \n",
            "  inflating: kb_hindi/844424933454313-1052-m.m4a  \n",
            "  inflating: kb_hindi/844424933454329-1052-m.m4a  \n",
            "  inflating: kb_hindi/844424933454330-1052-m.m4a  \n",
            "  inflating: kb_hindi/844424933454331-1052-m.m4a  \n",
            "  inflating: kb_hindi/844424933454332-1052-m.m4a  \n",
            "  inflating: kb_hindi/844424933454333-1052-m.m4a  \n",
            "  inflating: kb_hindi/844424933454339-1052-m.m4a  \n",
            "  inflating: kb_hindi/844424933454346-1052-m.m4a  \n",
            "  inflating: kb_hindi/844424933454359-1052-m.m4a  \n",
            "  inflating: kb_hindi/844424933454368-1052-m.m4a  \n",
            "  inflating: kb_hindi/844424933454371-1052-m.m4a  \n",
            "  inflating: kb_hindi/844424933454377-1052-m.m4a  \n",
            "  inflating: kb_hindi/844424933454783-572-m.m4a  \n",
            "  inflating: kb_hindi/844424933454788-572-m.m4a  \n",
            "  inflating: kb_hindi/844424933454796-572-m.m4a  \n",
            "  inflating: kb_hindi/844424933454804-572-m.m4a  \n",
            "  inflating: kb_hindi/844424933454841-572-m.m4a  \n",
            "  inflating: kb_hindi/844424933454851-572-m.m4a  \n",
            "  inflating: kb_hindi/844424933454856-572-m.m4a  \n",
            "  inflating: kb_hindi/844424933454865-572-m.m4a  \n",
            "  inflating: kb_hindi/844424933454880-572-m.m4a  \n",
            "  inflating: kb_hindi/844424933455007-1179-m.m4a  \n",
            "  inflating: kb_hindi/844424933455076-1179-m.m4a  \n",
            "  inflating: kb_hindi/844424933455078-1179-m.m4a  \n",
            "  inflating: kb_hindi/844424933456284-38-m.m4a  \n",
            "  inflating: kb_hindi/844424933456295-38-m.m4a  \n",
            "  inflating: kb_hindi/844424933456311-38-m.m4a  \n",
            "  inflating: kb_hindi/844424933456321-38-m.m4a  \n",
            "  inflating: kb_hindi/844424933456329-38-m.m4a  \n",
            "  inflating: kb_hindi/844424933456340-38-m.m4a  \n",
            "  inflating: kb_hindi/844424933456341-38-m.m4a  \n",
            "  inflating: kb_hindi/844424933456347-38-m.m4a  \n",
            "  inflating: kb_hindi/844424933456349-38-m.m4a  \n",
            "  inflating: kb_hindi/844424933456353-38-m.m4a  \n",
            "  inflating: kb_hindi/844424933456357-38-m.m4a  \n",
            "  inflating: kb_hindi/844424933456358-38-m.m4a  \n",
            "  inflating: kb_hindi/844424933456359-38-m.m4a  \n",
            "  inflating: kb_hindi/844424933456363-38-m.m4a  \n",
            "  inflating: kb_hindi/844424933456366-38-m.m4a  \n",
            "  inflating: kb_hindi/844424933456370-38-m.m4a  \n",
            "  inflating: kb_hindi/844424933456984-266-m.m4a  \n",
            "  inflating: kb_hindi/844424933456986-266-m.m4a  \n",
            "  inflating: kb_hindi/844424933456993-266-m.m4a  \n",
            "  inflating: kb_hindi/844424933456997-266-m.m4a  \n",
            "  inflating: kb_hindi/844424933457003-266-m.m4a  \n",
            "  inflating: kb_hindi/844424933457009-266-m.m4a  \n",
            "  inflating: kb_hindi/844424933457019-266-m.m4a  \n",
            "  inflating: kb_hindi/844424933457024-266-m.m4a  \n",
            "  inflating: kb_hindi/844424933457033-266-m.m4a  \n",
            "  inflating: kb_hindi/844424933457035-266-m.m4a  \n",
            "  inflating: kb_hindi/844424933457037-266-m.m4a  \n",
            "  inflating: kb_hindi/844424933457049-266-m.m4a  \n",
            "  inflating: kb_hindi/844424933457058-266-m.m4a  \n",
            "  inflating: kb_hindi/844424933457066-266-m.m4a  \n",
            "  inflating: kb_hindi/844424933457074-266-m.m4a  \n",
            "  inflating: kb_hindi/844424933458083-572-m.m4a  \n",
            "  inflating: kb_hindi/844424933458085-572-m.m4a  \n",
            "  inflating: kb_hindi/844424933458090-572-m.m4a  \n",
            "  inflating: kb_hindi/844424933458094-572-m.m4a  \n",
            "  inflating: kb_hindi/844424933458096-572-m.m4a  \n",
            "  inflating: kb_hindi/844424933458098-572-m.m4a  \n",
            "  inflating: kb_hindi/844424933458102-572-m.m4a  \n",
            "  inflating: kb_hindi/844424933458110-572-m.m4a  \n",
            "  inflating: kb_hindi/844424933458121-572-m.m4a  \n",
            "  inflating: kb_hindi/844424933458125-572-m.m4a  \n",
            "  inflating: kb_hindi/844424933458130-572-m.m4a  \n",
            "  inflating: kb_hindi/844424933458137-572-m.m4a  \n",
            "  inflating: kb_hindi/844424933458142-572-m.m4a  \n",
            "  inflating: kb_hindi/844424933458144-572-m.m4a  \n",
            "  inflating: kb_hindi/844424933458158-572-m.m4a  \n",
            "  inflating: kb_hindi/844424933458160-572-m.m4a  \n",
            "  inflating: kb_hindi/844424933458164-572-m.m4a  \n",
            "  inflating: kb_hindi/844424933458168-572-m.m4a  \n",
            "  inflating: kb_hindi/844424933458169-572-m.m4a  \n",
            "  inflating: kb_hindi/844424933458177-572-m.m4a  \n",
            "  inflating: kb_hindi/844424933458482-1179-m.m4a  \n",
            "  inflating: kb_hindi/844424933458501-1179-m.m4a  \n",
            "  inflating: kb_hindi/844424933458503-1179-m.m4a  \n",
            "  inflating: kb_hindi/844424933458511-1179-m.m4a  \n",
            "  inflating: kb_hindi/844424933458522-1179-m.m4a  \n",
            "  inflating: kb_hindi/844424933458539-1179-m.m4a  \n",
            "  inflating: kb_hindi/844424933458543-1179-m.m4a  \n",
            "  inflating: kb_hindi/844424933458545-1179-m.m4a  \n",
            "  inflating: kb_hindi/844424933458562-1179-m.m4a  \n",
            "  inflating: kb_hindi/844424933458789-572-m.m4a  \n",
            "  inflating: kb_hindi/844424933458792-572-m.m4a  \n",
            "  inflating: kb_hindi/844424933458794-572-m.m4a  \n",
            "  inflating: kb_hindi/844424933458806-572-m.m4a  \n",
            "  inflating: kb_hindi/844424933458808-572-m.m4a  \n",
            "  inflating: kb_hindi/844424933458809-572-m.m4a  \n",
            "  inflating: kb_hindi/844424933458813-572-m.m4a  \n",
            "  inflating: kb_hindi/844424933458819-572-m.m4a  \n",
            "  inflating: kb_hindi/844424933458824-572-m.m4a  \n",
            "  inflating: kb_hindi/844424933458830-572-m.m4a  \n",
            "  inflating: kb_hindi/844424933458843-572-m.m4a  \n",
            "  inflating: kb_hindi/844424933458844-572-m.m4a  \n",
            "  inflating: kb_hindi/844424933458845-572-m.m4a  \n",
            "  inflating: kb_hindi/844424933458853-572-m.m4a  \n",
            "  inflating: kb_hindi/844424933458861-572-m.m4a  \n",
            "  inflating: kb_hindi/844424933458862-572-m.m4a  \n",
            "  inflating: kb_hindi/844424933458868-572-m.m4a  \n",
            "  inflating: kb_hindi/844424933458879-572-m.m4a  \n",
            "  inflating: kb_hindi/844424933459294-572-m.m4a  \n",
            "  inflating: kb_hindi/844424933459296-572-m.m4a  \n",
            "  inflating: kb_hindi/844424933459298-572-m.m4a  \n",
            "  inflating: kb_hindi/844424933459301-572-m.m4a  \n",
            "  inflating: kb_hindi/844424933459308-572-m.m4a  \n",
            "  inflating: kb_hindi/844424933459312-572-m.m4a  \n",
            "  inflating: kb_hindi/844424933459316-572-m.m4a  \n",
            "  inflating: kb_hindi/844424933459321-572-m.m4a  \n",
            "  inflating: kb_hindi/844424933459347-572-m.m4a  \n",
            "  inflating: kb_hindi/844424933459351-572-m.m4a  \n",
            "  inflating: kb_hindi/844424933459357-572-m.m4a  \n",
            "  inflating: kb_hindi/844424933459358-572-m.m4a  \n",
            "  inflating: kb_hindi/844424933459363-572-m.m4a  \n",
            "  inflating: kb_hindi/844424933459376-572-m.m4a  \n",
            "  inflating: kb_hindi/844424933459379-572-m.m4a  \n",
            "  inflating: kb_hindi/844424933459383-572-m.m4a  \n",
            "  inflating: kb_hindi/844424933459384-572-m.m4a  \n",
            "  inflating: kb_hindi/844424933459390-572-m.m4a  \n",
            "  inflating: kb_hindi/844424933459397-38-m.m4a  \n",
            "  inflating: kb_hindi/844424933459400-38-m.m4a  \n",
            "  inflating: kb_hindi/844424933459403-38-m.m4a  \n",
            "  inflating: kb_hindi/844424933459408-38-m.m4a  \n",
            "  inflating: kb_hindi/844424933459435-38-m.m4a  \n",
            "  inflating: kb_hindi/844424933459439-38-m.m4a  \n",
            "  inflating: kb_hindi/844424933459444-38-m.m4a  \n",
            "  inflating: kb_hindi/844424933459451-38-m.m4a  \n",
            "  inflating: kb_hindi/844424933459454-38-m.m4a  \n",
            "  inflating: kb_hindi/844424933459455-38-m.m4a  \n",
            "  inflating: kb_hindi/844424933459460-38-m.m4a  \n",
            "  inflating: kb_hindi/844424933459478-38-m.m4a  \n",
            "  inflating: kb_hindi/844424933459479-38-m.m4a  \n",
            "  inflating: kb_hindi/844424933459480-38-m.m4a  \n",
            "  inflating: kb_hindi/844424933459488-38-m.m4a  \n",
            "  inflating: kb_hindi/844424933459916-390-m.m4a  \n",
            "  inflating: kb_hindi/844424933459931-390-m.m4a  \n",
            "  inflating: kb_hindi/844424933459941-390-m.m4a  \n",
            "  inflating: kb_hindi/844424933459942-390-m.m4a  \n",
            "  inflating: kb_hindi/844424933459957-390-m.m4a  \n",
            "  inflating: kb_hindi/844424933459959-390-m.m4a  \n",
            "  inflating: kb_hindi/844424933459970-390-m.m4a  \n",
            "  inflating: kb_hindi/844424933459976-390-m.m4a  \n",
            "  inflating: kb_hindi/844424933459983-390-m.m4a  \n",
            "  inflating: kb_hindi/844424933460094-572-m.m4a  \n",
            "  inflating: kb_hindi/844424933460113-572-m.m4a  \n",
            "  inflating: kb_hindi/844424933460116-572-m.m4a  \n",
            "  inflating: kb_hindi/844424933460146-572-m.m4a  \n",
            "  inflating: kb_hindi/844424933460147-572-m.m4a  \n",
            "  inflating: kb_hindi/844424933460149-572-m.m4a  \n",
            "  inflating: kb_hindi/844424933460150-572-m.m4a  \n",
            "  inflating: kb_hindi/844424933460158-572-m.m4a  \n",
            "  inflating: kb_hindi/844424933460160-572-m.m4a  \n",
            "  inflating: kb_hindi/844424933460161-572-m.m4a  \n",
            "  inflating: kb_hindi/844424933460168-572-m.m4a  \n",
            "  inflating: kb_hindi/844424933460173-572-m.m4a  \n",
            "  inflating: kb_hindi/844424933460174-572-m.m4a  \n",
            "  inflating: kb_hindi/844424933460181-572-m.m4a  \n",
            "  inflating: kb_hindi/844424933460193-572-m.m4a  \n",
            "  inflating: kb_hindi/844424933461015-1179-m.m4a  \n",
            "  inflating: kb_hindi/844424933461022-1179-m.m4a  \n",
            "  inflating: kb_hindi/844424933461030-1179-m.m4a  \n",
            "  inflating: kb_hindi/844424933461034-1179-m.m4a  \n",
            "  inflating: kb_hindi/844424933461054-1179-m.m4a  \n",
            "  inflating: kb_hindi/844424933461060-1179-m.m4a  \n",
            "  inflating: kb_hindi/844424933461084-1179-m.m4a  \n",
            "  inflating: kb_hindi/844424933461089-1179-m.m4a  \n",
            "  inflating: kb_hindi/844424933461090-1179-m.m4a  \n",
            "  inflating: kb_hindi/844424933461095-1179-m.m4a  \n",
            "  inflating: kb_hindi/844424933461813-572-m.m4a  \n",
            "  inflating: kb_hindi/844424933461815-572-m.m4a  \n",
            "  inflating: kb_hindi/844424933461851-572-m.m4a  \n",
            "  inflating: kb_hindi/844424933461864-572-m.m4a  \n",
            "  inflating: kb_hindi/844424933461870-572-m.m4a  \n",
            "  inflating: kb_hindi/844424933461879-572-m.m4a  \n",
            "  inflating: kb_hindi/844424933461895-572-m.m4a  \n",
            "  inflating: kb_hindi/844424933461898-572-m.m4a  \n",
            "  inflating: kb_hindi/844424933462218-38-m.m4a  \n",
            "  inflating: kb_hindi/844424933462222-38-m.m4a  \n",
            "  inflating: kb_hindi/844424933462224-38-m.m4a  \n",
            "  inflating: kb_hindi/844424933462230-38-m.m4a  \n",
            "  inflating: kb_hindi/844424933462231-38-m.m4a  \n",
            "  inflating: kb_hindi/844424933462232-38-m.m4a  \n",
            "  inflating: kb_hindi/844424933462238-38-m.m4a  \n",
            "  inflating: kb_hindi/844424933462252-38-m.m4a  \n",
            "  inflating: kb_hindi/844424933462254-38-m.m4a  \n",
            "  inflating: kb_hindi/844424933462271-38-m.m4a  \n",
            "  inflating: kb_hindi/844424933462277-38-m.m4a  \n",
            "  inflating: kb_hindi/844424933462283-38-m.m4a  \n",
            "  inflating: kb_hindi/844424933462299-38-m.m4a  \n",
            "  inflating: kb_hindi/844424933462301-38-m.m4a  \n",
            "  inflating: kb_hindi/844424933462305-38-m.m4a  \n",
            "  inflating: kb_hindi/844424933462312-38-m.m4a  \n",
            "  inflating: kb_hindi/844424933462743-1179-m.m4a  \n",
            "  inflating: kb_hindi/844424933462757-1179-m.m4a  \n",
            "  inflating: kb_hindi/844424933462793-1179-m.m4a  \n",
            "  inflating: kb_hindi/844424933462795-1179-m.m4a  \n",
            "  inflating: kb_hindi/844424933462800-1179-m.m4a  \n",
            "  inflating: kb_hindi/844424933462802-1179-m.m4a  \n",
            "  inflating: kb_hindi/844424933463415-572-m.m4a  \n",
            "  inflating: kb_hindi/844424933463420-572-m.m4a  \n",
            "  inflating: kb_hindi/844424933463421-572-m.m4a  \n",
            "  inflating: kb_hindi/844424933463432-572-m.m4a  \n",
            "  inflating: kb_hindi/844424933463483-572-m.m4a  \n",
            "  inflating: kb_hindi/844424933463489-572-m.m4a  \n",
            "  inflating: kb_hindi/844424933463492-572-m.m4a  \n",
            "  inflating: kb_hindi/844424933463495-572-m.m4a  \n",
            "  inflating: kb_hindi/844424933463503-572-m.m4a  \n",
            "  inflating: kb_hindi/844424933463507-572-m.m4a  \n",
            "  inflating: kb_hindi/844424933463509-572-m.m4a  \n",
            "  inflating: kb_hindi/844424933463510-572-m.m4a  \n",
            "  inflating: kb_hindi/844424933466125-390-m.m4a  \n",
            "  inflating: kb_hindi/844424933466132-390-m.m4a  \n",
            "  inflating: kb_hindi/844424933466138-390-m.m4a  \n",
            "  inflating: kb_hindi/844424933466144-390-m.m4a  \n",
            "  inflating: kb_hindi/844424933466147-390-m.m4a  \n",
            "  inflating: kb_hindi/844424933466152-390-m.m4a  \n",
            "  inflating: kb_hindi/844424933466176-390-m.m4a  \n",
            "  inflating: kb_hindi/844424933466178-390-m.m4a  \n",
            "  inflating: kb_hindi/844424933466179-390-m.m4a  \n",
            "  inflating: kb_hindi/844424933466193-390-m.m4a  \n",
            "  inflating: kb_hindi/844424933466194-390-m.m4a  \n",
            "  inflating: kb_hindi/844424933472991-705-m.m4a  \n",
            "  inflating: kb_hindi/844424933473016-705-m.m4a  \n",
            "  inflating: kb_hindi/844424933473018-705-m.m4a  \n",
            "  inflating: kb_hindi/844424933473020-705-m.m4a  \n",
            "  inflating: kb_hindi/844424933473024-705-m.m4a  \n",
            "  inflating: kb_hindi/844424933473036-705-m.m4a  \n",
            "  inflating: kb_hindi/844424933473039-705-m.m4a  \n",
            "  inflating: kb_hindi/844424933473041-705-m.m4a  \n",
            "  inflating: kb_hindi/844424933473044-705-m.m4a  \n",
            "  inflating: kb_hindi/844424933473045-705-m.m4a  \n",
            "  inflating: kb_hindi/844424933473046-705-m.m4a  \n",
            "  inflating: kb_hindi/844424933473047-705-m.m4a  \n",
            "  inflating: kb_hindi/844424933473049-705-m.m4a  \n",
            "  inflating: kb_hindi/844424933473064-705-m.m4a  \n",
            "  inflating: kb_hindi/844424933473067-705-m.m4a  \n",
            "  inflating: kb_hindi/844424933473068-705-m.m4a  \n",
            "  inflating: kb_hindi/844424933473080-705-m.m4a  \n",
            "  inflating: kb_hindi/844424933473083-705-m.m4a  \n",
            "  inflating: kb_hindi/844424933474189-705-m.m4a  \n",
            "  inflating: kb_hindi/844424933474190-705-m.m4a  \n",
            "  inflating: kb_hindi/844424933474195-705-m.m4a  \n",
            "  inflating: kb_hindi/844424933474212-705-m.m4a  \n",
            "  inflating: kb_hindi/844424933474217-705-m.m4a  \n",
            "  inflating: kb_hindi/844424933474232-705-m.m4a  \n",
            "  inflating: kb_hindi/844424933474236-705-m.m4a  \n",
            "  inflating: kb_hindi/844424933474237-705-m.m4a  \n",
            "  inflating: kb_hindi/844424933474238-705-m.m4a  \n",
            "  inflating: kb_hindi/844424933474246-705-m.m4a  \n",
            "  inflating: kb_hindi/844424933474247-705-m.m4a  \n",
            "  inflating: kb_hindi/844424933474263-705-m.m4a  \n",
            "  inflating: kb_hindi/844424933474264-705-m.m4a  \n",
            "  inflating: kb_hindi/844424933474267-705-m.m4a  \n",
            "  inflating: kb_hindi/844424933474271-705-m.m4a  \n",
            "  inflating: kb_hindi/844424933474273-705-m.m4a  \n",
            "  inflating: kb_hindi/844424933474276-705-m.m4a  \n",
            "  inflating: kb_hindi/844424933474538-1179-m.m4a  \n",
            "  inflating: kb_hindi/844424933474783-38-m.m4a  \n",
            "  inflating: kb_hindi/844424933474791-38-m.m4a  \n",
            "  inflating: kb_hindi/844424933474796-38-m.m4a  \n",
            "  inflating: kb_hindi/844424933474804-38-m.m4a  \n",
            "  inflating: kb_hindi/844424933474810-38-m.m4a  \n",
            "  inflating: kb_hindi/844424933474811-38-m.m4a  \n",
            "  inflating: kb_hindi/844424933474815-38-m.m4a  \n",
            "  inflating: kb_hindi/844424933474828-38-m.m4a  \n",
            "  inflating: kb_hindi/844424933474857-38-m.m4a  \n",
            "  inflating: kb_hindi/844424933474858-38-m.m4a  \n",
            "  inflating: kb_hindi/844424933474860-38-m.m4a  \n",
            "  inflating: kb_hindi/844424933474862-38-m.m4a  \n",
            "  inflating: kb_hindi/844424933474878-38-m.m4a  \n",
            "  inflating: kb_hindi/844424933474879-38-m.m4a  \n",
            "  inflating: kb_hindi/844424933475084-390-m.m4a  \n",
            "  inflating: kb_hindi/844424933475105-390-m.m4a  \n",
            "  inflating: kb_hindi/844424933475107-390-m.m4a  \n",
            "  inflating: kb_hindi/844424933475112-390-m.m4a  \n",
            "  inflating: kb_hindi/844424933475117-390-m.m4a  \n",
            "  inflating: kb_hindi/844424933475129-390-m.m4a  \n",
            "  inflating: kb_hindi/844424933475140-390-m.m4a  \n",
            "  inflating: kb_hindi/844424933475143-390-m.m4a  \n",
            "  inflating: kb_hindi/844424933475145-390-m.m4a  \n",
            "  inflating: kb_hindi/844424933475150-390-m.m4a  \n",
            "  inflating: kb_hindi/844424933475157-390-m.m4a  \n",
            "  inflating: kb_hindi/844424933475160-390-m.m4a  \n",
            "  inflating: kb_hindi/844424933475167-390-m.m4a  \n",
            "  inflating: kb_hindi/844424933475171-390-m.m4a  \n",
            "  inflating: kb_hindi/844424933475178-390-m.m4a  \n",
            "  inflating: kb_hindi/844424933475180-390-m.m4a  \n",
            "  inflating: kb_hindi/844424933475184-705-m.m4a  \n",
            "  inflating: kb_hindi/844424933475194-705-m.m4a  \n",
            "  inflating: kb_hindi/844424933475201-705-m.m4a  \n",
            "  inflating: kb_hindi/844424933475207-705-m.m4a  \n",
            "  inflating: kb_hindi/844424933475211-705-m.m4a  \n",
            "  inflating: kb_hindi/844424933475214-705-m.m4a  \n",
            "  inflating: kb_hindi/844424933475215-705-m.m4a  \n",
            "  inflating: kb_hindi/844424933475225-705-m.m4a  \n",
            "  inflating: kb_hindi/844424933475230-705-m.m4a  \n",
            "  inflating: kb_hindi/844424933475238-705-m.m4a  \n",
            "  inflating: kb_hindi/844424933475239-705-m.m4a  \n",
            "  inflating: kb_hindi/844424933475245-705-m.m4a  \n",
            "  inflating: kb_hindi/844424933475256-705-m.m4a  \n",
            "  inflating: kb_hindi/844424933475264-705-m.m4a  \n",
            "  inflating: kb_hindi/844424933475268-705-m.m4a  \n",
            "  inflating: kb_hindi/844424933475271-705-m.m4a  \n",
            "  inflating: kb_hindi/844424933475386-1179-m.m4a  \n",
            "  inflating: kb_hindi/844424933475398-1179-m.m4a  \n",
            "  inflating: kb_hindi/844424933475426-1179-m.m4a  \n",
            "  inflating: kb_hindi/844424933475435-1179-m.m4a  \n",
            "  inflating: kb_hindi/844424933475436-1179-m.m4a  \n",
            "  inflating: kb_hindi/844424933475444-1179-m.m4a  \n",
            "  inflating: kb_hindi/844424933475459-1179-m.m4a  \n",
            "  inflating: kb_hindi/844424933475462-1179-m.m4a  \n",
            "  inflating: kb_hindi/844424933475482-1179-m.m4a  \n",
            "  inflating: kb_hindi/844424933475683-390-m.m4a  \n",
            "  inflating: kb_hindi/844424933475699-390-m.m4a  \n",
            "  inflating: kb_hindi/844424933475701-390-m.m4a  \n",
            "  inflating: kb_hindi/844424933475702-390-m.m4a  \n",
            "  inflating: kb_hindi/844424933475711-390-m.m4a  \n",
            "  inflating: kb_hindi/844424933475713-390-m.m4a  \n",
            "  inflating: kb_hindi/844424933475744-390-m.m4a  \n",
            "  inflating: kb_hindi/844424933475750-390-m.m4a  \n",
            "  inflating: kb_hindi/844424933475752-390-m.m4a  \n",
            "  inflating: kb_hindi/844424933475769-390-m.m4a  \n",
            "  inflating: kb_hindi/844424933475775-390-m.m4a  \n",
            "  inflating: kb_hindi/844424933475785-38-m.m4a  \n",
            "  inflating: kb_hindi/844424933475792-38-m.m4a  \n",
            "  inflating: kb_hindi/844424933475801-38-m.m4a  \n",
            "  inflating: kb_hindi/844424933475805-38-m.m4a  \n",
            "  inflating: kb_hindi/844424933475808-38-m.m4a  \n",
            "  inflating: kb_hindi/844424933475819-38-m.m4a  \n",
            "  inflating: kb_hindi/844424933475830-38-m.m4a  \n",
            "  inflating: kb_hindi/844424933475839-38-m.m4a  \n",
            "  inflating: kb_hindi/844424933475844-38-m.m4a  \n",
            "  inflating: kb_hindi/844424933475857-38-m.m4a  \n",
            "  inflating: kb_hindi/844424933475860-38-m.m4a  \n",
            "  inflating: kb_hindi/844424933475861-38-m.m4a  \n",
            "  inflating: kb_hindi/844424933475867-38-m.m4a  \n",
            "  inflating: kb_hindi/844424933475871-38-m.m4a  \n",
            "  inflating: kb_hindi/844424933475877-38-m.m4a  \n",
            "  inflating: kb_hindi/844424933475880-38-m.m4a  \n",
            "  inflating: kb_hindi/844424933475988-705-m.m4a  \n",
            "  inflating: kb_hindi/844424933475997-705-m.m4a  \n",
            "  inflating: kb_hindi/844424933475998-705-m.m4a  \n",
            "  inflating: kb_hindi/844424933476010-705-m.m4a  \n",
            "  inflating: kb_hindi/844424933476013-705-m.m4a  \n",
            "  inflating: kb_hindi/844424933476018-705-m.m4a  \n",
            "  inflating: kb_hindi/844424933476025-705-m.m4a  \n",
            "  inflating: kb_hindi/844424933476026-705-m.m4a  \n",
            "  inflating: kb_hindi/844424933476029-705-m.m4a  \n",
            "  inflating: kb_hindi/844424933476040-705-m.m4a  \n",
            "  inflating: kb_hindi/844424933476044-705-m.m4a  \n",
            "  inflating: kb_hindi/844424933476046-705-m.m4a  \n",
            "  inflating: kb_hindi/844424933476047-705-m.m4a  \n",
            "  inflating: kb_hindi/844424933476055-705-m.m4a  \n",
            "  inflating: kb_hindi/844424933476068-705-m.m4a  \n",
            "  inflating: kb_hindi/844424933476069-705-m.m4a  \n",
            "  inflating: kb_hindi/844424933476070-705-m.m4a  \n",
            "  inflating: kb_hindi/844424933476073-705-m.m4a  \n",
            "  inflating: kb_hindi/844424933476077-705-m.m4a  \n",
            "  inflating: kb_hindi/844424933476084-1179-m.m4a  \n",
            "  inflating: kb_hindi/844424933476092-1179-m.m4a  \n",
            "  inflating: kb_hindi/844424933476099-1179-m.m4a  \n",
            "  inflating: kb_hindi/844424933476113-1179-m.m4a  \n",
            "  inflating: kb_hindi/844424933476132-1179-m.m4a  \n",
            "  inflating: kb_hindi/844424933476136-1179-m.m4a  \n",
            "  inflating: kb_hindi/844424933476142-1179-m.m4a  \n",
            "  inflating: kb_hindi/844424933476147-1179-m.m4a  \n",
            "  inflating: kb_hindi/844424933476151-1179-m.m4a  \n",
            "  inflating: kb_hindi/844424933476158-1179-m.m4a  \n",
            "  inflating: kb_hindi/844424933476168-1179-m.m4a  \n",
            "  inflating: kb_hindi/844424933476289-390-m.m4a  \n",
            "  inflating: kb_hindi/844424933476292-390-m.m4a  \n",
            "  inflating: kb_hindi/844424933476303-390-m.m4a  \n",
            "  inflating: kb_hindi/844424933476306-390-m.m4a  \n",
            "  inflating: kb_hindi/844424933476317-390-m.m4a  \n",
            "  inflating: kb_hindi/844424933476321-390-m.m4a  \n",
            "  inflating: kb_hindi/844424933476324-390-m.m4a  \n",
            "  inflating: kb_hindi/844424933476333-390-m.m4a  \n",
            "  inflating: kb_hindi/844424933476337-390-m.m4a  \n",
            "  inflating: kb_hindi/844424933476340-390-m.m4a  \n",
            "  inflating: kb_hindi/844424933476342-390-m.m4a  \n",
            "  inflating: kb_hindi/844424933476351-390-m.m4a  \n",
            "  inflating: kb_hindi/844424933476356-390-m.m4a  \n",
            "  inflating: kb_hindi/844424933476357-390-m.m4a  \n",
            "  inflating: kb_hindi/844424933476359-390-m.m4a  \n",
            "  inflating: kb_hindi/844424933476363-390-m.m4a  \n",
            "  inflating: kb_hindi/844424933476365-390-m.m4a  \n",
            "  inflating: kb_hindi/844424933476374-390-m.m4a  \n",
            "  inflating: kb_hindi/844424933476376-390-m.m4a  \n",
            "  inflating: kb_hindi/844424933476379-390-m.m4a  \n",
            "  inflating: kb_hindi/844424933476388-1179-m.m4a  \n",
            "  inflating: kb_hindi/844424933476392-1179-m.m4a  \n",
            "  inflating: kb_hindi/844424933476393-1179-m.m4a  \n",
            "  inflating: kb_hindi/844424933476396-1179-m.m4a  \n",
            "  inflating: kb_hindi/844424933476399-1179-m.m4a  \n",
            "  inflating: kb_hindi/844424933476401-1179-m.m4a  \n",
            "  inflating: kb_hindi/844424933476406-1179-m.m4a  \n",
            "  inflating: kb_hindi/844424933476426-1179-m.m4a  \n",
            "  inflating: kb_hindi/844424933476475-1179-m.m4a  \n",
            "  inflating: kb_hindi/844424933476479-1179-m.m4a  \n",
            "  inflating: kb_hindi/844424933476586-572-m.m4a  \n",
            "  inflating: kb_hindi/844424933476587-572-m.m4a  \n",
            "  inflating: kb_hindi/844424933476603-572-m.m4a  \n",
            "  inflating: kb_hindi/844424933476604-572-m.m4a  \n",
            "  inflating: kb_hindi/844424933476609-572-m.m4a  \n",
            "  inflating: kb_hindi/844424933476613-572-m.m4a  \n",
            "  inflating: kb_hindi/844424933476614-572-m.m4a  \n",
            "  inflating: kb_hindi/844424933476615-572-m.m4a  \n",
            "  inflating: kb_hindi/844424933476618-572-m.m4a  \n",
            "  inflating: kb_hindi/844424933476620-572-m.m4a  \n",
            "  inflating: kb_hindi/844424933476632-572-m.m4a  \n",
            "  inflating: kb_hindi/844424933476635-572-m.m4a  \n",
            "  inflating: kb_hindi/844424933476653-572-m.m4a  \n",
            "  inflating: kb_hindi/844424933476663-572-m.m4a  \n",
            "  inflating: kb_hindi/844424933476666-572-m.m4a  \n",
            "  inflating: kb_hindi/844424933476678-572-m.m4a  \n",
            "  inflating: kb_hindi/844424933476680-572-m.m4a  \n",
            "  inflating: kb_hindi/844424933476883-572-m.m4a  \n",
            "  inflating: kb_hindi/844424933476884-572-m.m4a  \n",
            "  inflating: kb_hindi/844424933476901-572-m.m4a  \n",
            "  inflating: kb_hindi/844424933476903-572-m.m4a  \n",
            "  inflating: kb_hindi/844424933476907-572-m.m4a  \n",
            "  inflating: kb_hindi/844424933476911-572-m.m4a  \n",
            "  inflating: kb_hindi/844424933476915-572-m.m4a  \n",
            "  inflating: kb_hindi/844424933476931-572-m.m4a  \n",
            "  inflating: kb_hindi/844424933476932-572-m.m4a  \n",
            "  inflating: kb_hindi/844424933476934-572-m.m4a  \n",
            "  inflating: kb_hindi/844424933476935-572-m.m4a  \n",
            "  inflating: kb_hindi/844424933476938-572-m.m4a  \n",
            "  inflating: kb_hindi/844424933476939-572-m.m4a  \n",
            "  inflating: kb_hindi/844424933476953-572-m.m4a  \n",
            "  inflating: kb_hindi/844424933476974-572-m.m4a  \n",
            "  inflating: kb_hindi/844424933476976-572-m.m4a  \n",
            "  inflating: kb_hindi/844424933476993-266-m.m4a  \n",
            "  inflating: kb_hindi/844424933476996-266-m.m4a  \n",
            "  inflating: kb_hindi/844424933477015-266-m.m4a  \n",
            "  inflating: kb_hindi/844424933477026-266-m.m4a  \n",
            "  inflating: kb_hindi/844424933477032-266-m.m4a  \n",
            "  inflating: kb_hindi/844424933477033-266-m.m4a  \n",
            "  inflating: kb_hindi/844424933477059-266-m.m4a  \n",
            "  inflating: kb_hindi/844424933477064-266-m.m4a  \n",
            "  inflating: kb_hindi/844424933477283-266-m.m4a  \n",
            "  inflating: kb_hindi/844424933477298-266-m.m4a  \n",
            "  inflating: kb_hindi/844424933477308-266-m.m4a  \n",
            "  inflating: kb_hindi/844424933477313-266-m.m4a  \n",
            "  inflating: kb_hindi/844424933477315-266-m.m4a  \n",
            "  inflating: kb_hindi/844424933477320-266-m.m4a  \n",
            "  inflating: kb_hindi/844424933477332-266-m.m4a  \n",
            "  inflating: kb_hindi/844424933477362-266-m.m4a  \n",
            "  inflating: kb_hindi/844424933477381-266-m.m4a  \n",
            "  inflating: kb_hindi/844424933477394-572-m.m4a  \n",
            "  inflating: kb_hindi/844424933477408-572-m.m4a  \n",
            "  inflating: kb_hindi/844424933477420-572-m.m4a  \n",
            "  inflating: kb_hindi/844424933477431-572-m.m4a  \n",
            "  inflating: kb_hindi/844424933477437-572-m.m4a  \n",
            "  inflating: kb_hindi/844424933477454-572-m.m4a  \n",
            "  inflating: kb_hindi/844424933477456-572-m.m4a  \n",
            "  inflating: kb_hindi/844424933477471-572-m.m4a  \n",
            "  inflating: kb_hindi/844424933477476-572-m.m4a  \n",
            "  inflating: kb_hindi/844424933477479-572-m.m4a  \n",
            "  inflating: kb_hindi/844424933477790-1179-m.m4a  \n",
            "  inflating: kb_hindi/844424933477791-1179-m.m4a  \n",
            "  inflating: kb_hindi/844424933477818-1179-m.m4a  \n",
            "  inflating: kb_hindi/844424933477848-1179-m.m4a  \n",
            "  inflating: kb_hindi/844424933477850-1179-m.m4a  \n",
            "  inflating: kb_hindi/844424933477864-1179-m.m4a  \n",
            "  inflating: kb_hindi/844424933477877-1179-m.m4a  \n",
            "  inflating: kb_hindi/844424933477878-1179-m.m4a  \n",
            "  inflating: kb_hindi/844424933477880-1179-m.m4a  \n",
            "  inflating: kb_hindi/844424933478497-390-m.m4a  \n",
            "  inflating: kb_hindi/844424933478499-390-m.m4a  \n",
            "  inflating: kb_hindi/844424933478501-390-m.m4a  \n",
            "  inflating: kb_hindi/844424933478509-390-m.m4a  \n",
            "  inflating: kb_hindi/844424933478511-390-m.m4a  \n",
            "  inflating: kb_hindi/844424933478514-390-m.m4a  \n",
            "  inflating: kb_hindi/844424933478522-390-m.m4a  \n",
            "  inflating: kb_hindi/844424933478527-390-m.m4a  \n",
            "  inflating: kb_hindi/844424933478532-390-m.m4a  \n",
            "  inflating: kb_hindi/844424933478535-390-m.m4a  \n",
            "  inflating: kb_hindi/844424933478544-390-m.m4a  \n",
            "  inflating: kb_hindi/844424933478551-390-m.m4a  \n",
            "  inflating: kb_hindi/844424933478554-390-m.m4a  \n",
            "  inflating: kb_hindi/844424933478561-390-m.m4a  \n",
            "  inflating: kb_hindi/844424933478563-390-m.m4a  \n",
            "  inflating: kb_hindi/844424933478570-390-m.m4a  \n",
            "  inflating: kb_hindi/844424933478574-390-m.m4a  \n",
            "  inflating: kb_hindi/844424933478579-390-m.m4a  \n",
            "  inflating: kb_hindi/844424933478806-1052-m.m4a  \n",
            "  inflating: kb_hindi/844424933478808-1052-m.m4a  \n",
            "  inflating: kb_hindi/844424933478819-1052-m.m4a  \n",
            "  inflating: kb_hindi/844424933478832-1052-m.m4a  \n",
            "  inflating: kb_hindi/844424933478844-1052-m.m4a  \n",
            "  inflating: kb_hindi/844424933478848-1052-m.m4a  \n",
            "  inflating: kb_hindi/844424933478850-1052-m.m4a  \n",
            "  inflating: kb_hindi/844424933478852-1052-m.m4a  \n",
            "  inflating: kb_hindi/844424933478862-1052-m.m4a  \n",
            "  inflating: kb_hindi/844424933480101-705-m.m4a  \n",
            "  inflating: kb_hindi/844424933480102-705-m.m4a  \n",
            "  inflating: kb_hindi/844424933480110-705-m.m4a  \n",
            "  inflating: kb_hindi/844424933480121-705-m.m4a  \n",
            "  inflating: kb_hindi/844424933480124-705-m.m4a  \n",
            "  inflating: kb_hindi/844424933480135-705-m.m4a  \n",
            "  inflating: kb_hindi/844424933480161-705-m.m4a  \n",
            "  inflating: kb_hindi/844424933480180-705-m.m4a  \n",
            "  inflating: kb_hindi/844424933480185-705-m.m4a  \n",
            "  inflating: kb_hindi/844424933480189-705-m.m4a  \n",
            "  inflating: kb_hindi/844424933480191-705-m.m4a  \n",
            "  inflating: kb_hindi/844424933480802-38-m.m4a  \n",
            "  inflating: kb_hindi/844424933480818-38-m.m4a  \n",
            "  inflating: kb_hindi/844424933480854-38-m.m4a  \n",
            "  inflating: kb_hindi/844424933480865-38-m.m4a  \n",
            "  inflating: kb_hindi/844424933480870-38-m.m4a  \n",
            "  inflating: kb_hindi/844424933480873-38-m.m4a  \n",
            "  inflating: kb_hindi/844424933480877-38-m.m4a  \n",
            "  inflating: kb_hindi/844424933480881-38-m.m4a  \n",
            "  inflating: kb_hindi/844424933481793-705-m.m4a  \n",
            "  inflating: kb_hindi/844424933481797-705-m.m4a  \n",
            "  inflating: kb_hindi/844424933481800-705-m.m4a  \n",
            "  inflating: kb_hindi/844424933481804-705-m.m4a  \n",
            "  inflating: kb_hindi/844424933481805-705-m.m4a  \n",
            "  inflating: kb_hindi/844424933481812-705-m.m4a  \n",
            "  inflating: kb_hindi/844424933481842-705-m.m4a  \n",
            "  inflating: kb_hindi/844424933481844-705-m.m4a  \n",
            "  inflating: kb_hindi/844424933481849-705-m.m4a  \n",
            "  inflating: kb_hindi/844424933481854-705-m.m4a  \n",
            "  inflating: kb_hindi/844424933481855-705-m.m4a  \n",
            "  inflating: kb_hindi/844424933481857-705-m.m4a  \n",
            "  inflating: kb_hindi/844424933481859-705-m.m4a  \n",
            "  inflating: kb_hindi/844424933481862-705-m.m4a  \n",
            "  inflating: kb_hindi/844424933481864-705-m.m4a  \n",
            "  inflating: kb_hindi/844424933481875-705-m.m4a  \n",
            "  inflating: kb_hindi/844424933481891-705-m.m4a  \n",
            "  inflating: kb_hindi/844424933482828-266-m.m4a  \n",
            "  inflating: kb_hindi/844424933482837-266-m.m4a  \n",
            "  inflating: kb_hindi/844424933482850-266-m.m4a  \n",
            "  inflating: kb_hindi/844424933482864-266-m.m4a  \n",
            "  inflating: kb_hindi/844424933482871-266-m.m4a  \n",
            "  inflating: kb_hindi/844424933482883-266-m.m4a  \n",
            "  inflating: kb_hindi/844424933483599-705-m.m4a  \n",
            "  inflating: kb_hindi/844424933483605-705-m.m4a  \n",
            "  inflating: kb_hindi/844424933483606-705-m.m4a  \n",
            "  inflating: kb_hindi/844424933483607-705-m.m4a  \n",
            "  inflating: kb_hindi/844424933483618-705-m.m4a  \n",
            "  inflating: kb_hindi/844424933483621-705-m.m4a  \n",
            "  inflating: kb_hindi/844424933483640-705-m.m4a  \n",
            "  inflating: kb_hindi/844424933483642-705-m.m4a  \n",
            "  inflating: kb_hindi/844424933483643-705-m.m4a  \n",
            "  inflating: kb_hindi/844424933483653-705-m.m4a  \n",
            "  inflating: kb_hindi/844424933483655-705-m.m4a  \n",
            "  inflating: kb_hindi/844424933483656-705-m.m4a  \n",
            "  inflating: kb_hindi/844424933483657-705-m.m4a  \n",
            "  inflating: kb_hindi/844424933483660-705-m.m4a  \n",
            "  inflating: kb_hindi/844424933483663-705-m.m4a  \n",
            "  inflating: kb_hindi/844424933484205-266-m.m4a  \n",
            "  inflating: kb_hindi/844424933484221-266-m.m4a  \n",
            "  inflating: kb_hindi/844424933484226-266-m.m4a  \n",
            "  inflating: kb_hindi/844424933484230-266-m.m4a  \n",
            "  inflating: kb_hindi/844424933484231-266-m.m4a  \n",
            "  inflating: kb_hindi/844424933484267-266-m.m4a  \n",
            "  inflating: kb_hindi/844424933484276-266-m.m4a  \n",
            "  inflating: kb_hindi/844424933484283-266-m.m4a  \n",
            "  inflating: kb_hindi/844424933484288-266-m.m4a  \n",
            "  inflating: kb_hindi/844424933484294-266-m.m4a  \n",
            "  inflating: kb_hindi/844424933484604-390-m.m4a  \n",
            "  inflating: kb_hindi/844424933484614-390-m.m4a  \n",
            "  inflating: kb_hindi/844424933484618-390-m.m4a  \n",
            "  inflating: kb_hindi/844424933484636-390-m.m4a  \n",
            "  inflating: kb_hindi/844424933484638-390-m.m4a  \n",
            "  inflating: kb_hindi/844424933484641-390-m.m4a  \n",
            "  inflating: kb_hindi/844424933484652-390-m.m4a  \n",
            "  inflating: kb_hindi/844424933484661-390-m.m4a  \n",
            "  inflating: kb_hindi/844424933484676-390-m.m4a  \n",
            "  inflating: kb_hindi/844424933484682-390-m.m4a  \n",
            "  inflating: kb_hindi/844424933484683-390-m.m4a  \n",
            "  inflating: kb_hindi/844424933484688-390-m.m4a  \n",
            "  inflating: kb_hindi/844424933484691-390-m.m4a  \n",
            "  inflating: kb_hindi/844424933484693-390-m.m4a  \n",
            "  inflating: kb_hindi/844424933484695-390-m.m4a  \n",
            "  inflating: kb_hindi/844424933485922-38-m.m4a  \n",
            "  inflating: kb_hindi/844424933485933-38-m.m4a  \n",
            "  inflating: kb_hindi/844424933485944-38-m.m4a  \n",
            "  inflating: kb_hindi/844424933485948-38-m.m4a  \n",
            "  inflating: kb_hindi/844424933485953-38-m.m4a  \n",
            "  inflating: kb_hindi/844424933485955-38-m.m4a  \n",
            "  inflating: kb_hindi/844424933485986-38-m.m4a  \n",
            "  inflating: kb_hindi/844424933485991-38-m.m4a  \n",
            "  inflating: kb_hindi/844424933485994-38-m.m4a  \n",
            "  inflating: kb_hindi/844424933485995-38-m.m4a  \n",
            "  inflating: kb_hindi/844424933486004-38-m.m4a  \n",
            "  inflating: kb_hindi/844424933486007-38-m.m4a  \n",
            "  inflating: kb_hindi/844424933486009-38-m.m4a  \n",
            "  inflating: kb_hindi/844424933486013-38-m.m4a  \n",
            "  inflating: kb_hindi/844424933486519-266-m.m4a  \n",
            "  inflating: kb_hindi/844424933486527-266-m.m4a  \n",
            "  inflating: kb_hindi/844424933486529-266-m.m4a  \n",
            "  inflating: kb_hindi/844424933486542-266-m.m4a  \n",
            "  inflating: kb_hindi/844424933486545-266-m.m4a  \n",
            "  inflating: kb_hindi/844424933486560-266-m.m4a  \n",
            "  inflating: kb_hindi/844424933486564-266-m.m4a  \n",
            "  inflating: kb_hindi/844424933486570-266-m.m4a  \n",
            "  inflating: kb_hindi/844424933486571-266-m.m4a  \n",
            "  inflating: kb_hindi/844424933486574-266-m.m4a  \n",
            "  inflating: kb_hindi/844424933486580-266-m.m4a  \n",
            "  inflating: kb_hindi/844424933486586-266-m.m4a  \n",
            "  inflating: kb_hindi/844424933486591-266-m.m4a  \n",
            "  inflating: kb_hindi/844424933486604-266-m.m4a  \n",
            "  inflating: kb_hindi/844424933486605-266-m.m4a  \n",
            "  inflating: kb_hindi/844424933487417-38-m.m4a  \n",
            "  inflating: kb_hindi/844424933487420-38-m.m4a  \n",
            "  inflating: kb_hindi/844424933487435-38-m.m4a  \n",
            "  inflating: kb_hindi/844424933487439-38-m.m4a  \n",
            "  inflating: kb_hindi/844424933487440-38-m.m4a  \n",
            "  inflating: kb_hindi/844424933487446-38-m.m4a  \n",
            "  inflating: kb_hindi/844424933487447-38-m.m4a  \n",
            "  inflating: kb_hindi/844424933487449-38-m.m4a  \n",
            "  inflating: kb_hindi/844424933487455-38-m.m4a  \n",
            "  inflating: kb_hindi/844424933487459-38-m.m4a  \n",
            "  inflating: kb_hindi/844424933487460-38-m.m4a  \n",
            "  inflating: kb_hindi/844424933487472-38-m.m4a  \n",
            "  inflating: kb_hindi/844424933487475-38-m.m4a  \n",
            "  inflating: kb_hindi/844424933487479-38-m.m4a  \n",
            "  inflating: kb_hindi/844424933487480-38-m.m4a  \n",
            "  inflating: kb_hindi/844424933487489-38-m.m4a  \n",
            "  inflating: kb_hindi/844424933487492-38-m.m4a  \n",
            "  inflating: kb_hindi/844424933487500-38-m.m4a  \n",
            "  inflating: kb_hindi/844424933487510-38-m.m4a  \n",
            "  inflating: kb_hindi/844424933487511-38-m.m4a  \n",
            "  inflating: kb_hindi/844424933487513-38-m.m4a  \n",
            "  inflating: kb_hindi/844424933488551-1179-m.m4a  \n",
            "  inflating: kb_hindi/844424933488556-1179-m.m4a  \n",
            "  inflating: kb_hindi/844424933488566-1179-m.m4a  \n",
            "  inflating: kb_hindi/844424933488568-1179-m.m4a  \n",
            "  inflating: kb_hindi/844424933488587-1179-m.m4a  \n",
            "  inflating: kb_hindi/844424933488590-1179-m.m4a  \n",
            "  inflating: kb_hindi/844424933488593-1179-m.m4a  \n",
            "  inflating: kb_hindi/844424933488597-1179-m.m4a  \n",
            "  inflating: kb_hindi/844424933488647-1179-m.m4a  \n",
            "  inflating: kb_hindi/844424933489165-390-m.m4a  \n",
            "  inflating: kb_hindi/844424933489170-390-m.m4a  \n",
            "  inflating: kb_hindi/844424933489174-390-m.m4a  \n",
            "  inflating: kb_hindi/844424933489187-390-m.m4a  \n",
            "  inflating: kb_hindi/844424933489213-390-m.m4a  \n",
            "  inflating: kb_hindi/844424933489214-390-m.m4a  \n",
            "  inflating: kb_hindi/844424933489240-390-m.m4a  \n",
            "  inflating: kb_hindi/844424933489243-390-m.m4a  \n",
            "  inflating: kb_hindi/844424933489351-38-m.m4a  \n",
            "  inflating: kb_hindi/844424933489355-38-m.m4a  \n",
            "  inflating: kb_hindi/844424933489357-38-m.m4a  \n",
            "  inflating: kb_hindi/844424933489364-38-m.m4a  \n",
            "  inflating: kb_hindi/844424933489368-38-m.m4a  \n",
            "  inflating: kb_hindi/844424933489371-38-m.m4a  \n",
            "  inflating: kb_hindi/844424933489376-38-m.m4a  \n",
            "  inflating: kb_hindi/844424933489380-38-m.m4a  \n",
            "  inflating: kb_hindi/844424933489381-38-m.m4a  \n",
            "  inflating: kb_hindi/844424933489382-38-m.m4a  \n",
            "  inflating: kb_hindi/844424933489417-38-m.m4a  \n",
            "  inflating: kb_hindi/844424933489424-38-m.m4a  \n",
            "  inflating: kb_hindi/844424933489435-38-m.m4a  \n",
            "  inflating: kb_hindi/844424933489652-390-m.m4a  \n",
            "  inflating: kb_hindi/844424933489658-390-m.m4a  \n",
            "  inflating: kb_hindi/844424933489678-390-m.m4a  \n",
            "  inflating: kb_hindi/844424933489698-390-m.m4a  \n",
            "  inflating: kb_hindi/844424933489704-390-m.m4a  \n",
            "  inflating: kb_hindi/844424933489707-390-m.m4a  \n",
            "  inflating: kb_hindi/844424933489714-390-m.m4a  \n",
            "  inflating: kb_hindi/844424933489725-390-m.m4a  \n",
            "  inflating: kb_hindi/844424933489737-390-m.m4a  \n",
            "  inflating: kb_hindi/844424933491155-390-m.m4a  \n",
            "  inflating: kb_hindi/844424933491157-390-m.m4a  \n",
            "  inflating: kb_hindi/844424933491158-390-m.m4a  \n",
            "  inflating: kb_hindi/844424933491165-390-m.m4a  \n",
            "  inflating: kb_hindi/844424933491169-390-m.m4a  \n",
            "  inflating: kb_hindi/844424933491172-390-m.m4a  \n",
            "  inflating: kb_hindi/844424933491180-390-m.m4a  \n",
            "  inflating: kb_hindi/844424933491183-390-m.m4a  \n",
            "  inflating: kb_hindi/844424933491184-390-m.m4a  \n",
            "  inflating: kb_hindi/844424933491194-390-m.m4a  \n",
            "  inflating: kb_hindi/844424933491199-390-m.m4a  \n",
            "  inflating: kb_hindi/844424933491204-390-m.m4a  \n",
            "  inflating: kb_hindi/844424933491242-390-m.m4a  \n",
            "  inflating: kb_hindi/844424933491243-390-m.m4a  \n",
            "  inflating: kb_hindi/844424933491247-390-m.m4a  \n",
            "  inflating: kb_hindi/844424933491251-390-m.m4a  \n",
            "  inflating: kb_hindi/844424933492358-38-m.m4a  \n",
            "  inflating: kb_hindi/844424933492373-38-m.m4a  \n",
            "  inflating: kb_hindi/844424933492389-38-m.m4a  \n",
            "  inflating: kb_hindi/844424933492406-38-m.m4a  \n",
            "  inflating: kb_hindi/844424933492423-38-m.m4a  \n",
            "  inflating: kb_hindi/844424933492426-38-m.m4a  \n",
            "  inflating: kb_hindi/844424933492431-38-m.m4a  \n",
            "  inflating: kb_hindi/844424933492443-38-m.m4a  \n",
            "  inflating: kb_hindi/844424933492449-38-m.m4a  \n",
            "  inflating: kb_hindi/844424933492450-38-m.m4a  \n",
            "  inflating: kb_hindi/844424933492464-705-m.m4a  \n",
            "  inflating: kb_hindi/844424933492467-705-m.m4a  \n",
            "  inflating: kb_hindi/844424933492472-705-m.m4a  \n",
            "  inflating: kb_hindi/844424933492483-705-m.m4a  \n",
            "  inflating: kb_hindi/844424933492486-705-m.m4a  \n",
            "  inflating: kb_hindi/844424933492496-705-m.m4a  \n",
            "  inflating: kb_hindi/844424933492502-705-m.m4a  \n",
            "  inflating: kb_hindi/844424933492504-705-m.m4a  \n",
            "  inflating: kb_hindi/844424933492510-705-m.m4a  \n",
            "  inflating: kb_hindi/844424933492512-705-m.m4a  \n",
            "  inflating: kb_hindi/844424933492517-705-m.m4a  \n",
            "  inflating: kb_hindi/844424933492526-705-m.m4a  \n",
            "  inflating: kb_hindi/844424933492527-705-m.m4a  \n",
            "  inflating: kb_hindi/844424933492538-705-m.m4a  \n",
            "  inflating: kb_hindi/844424933492549-705-m.m4a  \n",
            "  inflating: kb_hindi/844424933493878-266-m.m4a  \n",
            "  inflating: kb_hindi/844424933493887-266-m.m4a  \n",
            "  inflating: kb_hindi/844424933493896-266-m.m4a  \n",
            "  inflating: kb_hindi/844424933493898-266-m.m4a  \n",
            "  inflating: kb_hindi/844424933493904-266-m.m4a  \n",
            "  inflating: kb_hindi/844424933493914-266-m.m4a  \n",
            "  inflating: kb_hindi/844424933493930-266-m.m4a  \n",
            "  inflating: kb_hindi/844424933493936-266-m.m4a  \n",
            "  inflating: kb_hindi/844424933493943-266-m.m4a  \n",
            "  inflating: kb_hindi/844424933493958-266-m.m4a  \n",
            "  inflating: kb_hindi/844424933493968-266-m.m4a  \n",
            "  inflating: kb_hindi/844424933494899-1052-m.m4a  \n",
            "  inflating: kb_hindi/844424933494900-1052-m.m4a  \n",
            "  inflating: kb_hindi/844424933494908-1052-m.m4a  \n",
            "  inflating: kb_hindi/844424933494912-1052-m.m4a  \n",
            "  inflating: kb_hindi/844424933494920-1052-m.m4a  \n",
            "  inflating: kb_hindi/844424933494922-1052-m.m4a  \n",
            "  inflating: kb_hindi/844424933494923-1052-m.m4a  \n",
            "  inflating: kb_hindi/844424933494929-1052-m.m4a  \n",
            "  inflating: kb_hindi/844424933494935-1052-m.m4a  \n",
            "  inflating: kb_hindi/844424933494939-1052-m.m4a  \n",
            "  inflating: kb_hindi/844424933494953-1052-m.m4a  \n",
            "  inflating: kb_hindi/844424933494955-1052-m.m4a  \n",
            "  inflating: kb_hindi/844424933494972-1052-m.m4a  \n",
            "  inflating: kb_hindi/844424933494984-1052-m.m4a  \n",
            "  inflating: kb_hindi/844424933494988-1052-m.m4a  \n",
            "  inflating: kb_hindi/844424933495198-266-m.m4a  \n",
            "  inflating: kb_hindi/844424933495203-266-m.m4a  \n",
            "  inflating: kb_hindi/844424933495245-266-m.m4a  \n",
            "  inflating: kb_hindi/844424933495250-266-m.m4a  \n",
            "  inflating: kb_hindi/844424933495254-266-m.m4a  \n",
            "  inflating: kb_hindi/844424933495255-266-m.m4a  \n",
            "  inflating: kb_hindi/844424933495260-266-m.m4a  \n",
            "  inflating: kb_hindi/844424933495275-266-m.m4a  \n",
            "  inflating: kb_hindi/844424933495280-266-m.m4a  \n",
            "  inflating: kb_hindi/844424933495288-266-m.m4a  \n",
            "  inflating: kb_hindi/844424933495496-705-m.m4a  \n",
            "  inflating: kb_hindi/844424933495498-705-m.m4a  \n",
            "  inflating: kb_hindi/844424933495508-705-m.m4a  \n",
            "  inflating: kb_hindi/844424933495513-705-m.m4a  \n",
            "  inflating: kb_hindi/844424933495524-705-m.m4a  \n",
            "  inflating: kb_hindi/844424933495526-705-m.m4a  \n",
            "  inflating: kb_hindi/844424933495529-705-m.m4a  \n",
            "  inflating: kb_hindi/844424933495540-705-m.m4a  \n",
            "  inflating: kb_hindi/844424933495547-705-m.m4a  \n",
            "  inflating: kb_hindi/844424933495562-705-m.m4a  \n",
            "  inflating: kb_hindi/844424933495563-705-m.m4a  \n",
            "  inflating: kb_hindi/844424933495567-705-m.m4a  \n",
            "  inflating: kb_hindi/844424933495575-705-m.m4a  \n",
            "  inflating: kb_hindi/844424933495581-705-m.m4a  \n",
            "  inflating: kb_hindi/844424933495585-705-m.m4a  \n",
            "  inflating: kb_hindi/844424933496097-266-m.m4a  \n",
            "  inflating: kb_hindi/844424933496107-266-m.m4a  \n",
            "  inflating: kb_hindi/844424933496117-266-m.m4a  \n",
            "  inflating: kb_hindi/844424933496118-266-m.m4a  \n",
            "  inflating: kb_hindi/844424933496119-266-m.m4a  \n",
            "  inflating: kb_hindi/844424933496126-266-m.m4a  \n",
            "  inflating: kb_hindi/844424933496152-266-m.m4a  \n",
            "  inflating: kb_hindi/844424933496169-266-m.m4a  \n",
            "  inflating: kb_hindi/844424933496180-266-m.m4a  \n",
            "  inflating: kb_hindi/844424933496184-266-m.m4a  \n",
            "  inflating: kb_hindi/844424933496186-266-m.m4a  \n",
            "  inflating: kb_hindi/844424933496982-266-m.m4a  \n",
            "  inflating: kb_hindi/844424933496984-266-m.m4a  \n",
            "  inflating: kb_hindi/844424933496998-266-m.m4a  \n",
            "  inflating: kb_hindi/844424933497002-266-m.m4a  \n",
            "  inflating: kb_hindi/844424933497011-266-m.m4a  \n",
            "  inflating: kb_hindi/844424933497021-266-m.m4a  \n",
            "  inflating: kb_hindi/844424933497035-266-m.m4a  \n",
            "  inflating: kb_hindi/844424933497039-266-m.m4a  \n",
            "  inflating: kb_hindi/844424933497042-266-m.m4a  \n",
            "  inflating: kb_hindi/844424933497049-266-m.m4a  \n",
            "  inflating: kb_hindi/844424933497051-266-m.m4a  \n",
            "  inflating: kb_hindi/844424933500785-1052-m.m4a  \n",
            "  inflating: kb_hindi/844424933500796-1052-m.m4a  \n",
            "  inflating: kb_hindi/844424933500805-1052-m.m4a  \n",
            "  inflating: kb_hindi/844424933500809-1052-m.m4a  \n",
            "  inflating: kb_hindi/844424933500811-1052-m.m4a  \n",
            "  inflating: kb_hindi/844424933500818-1052-m.m4a  \n",
            "  inflating: kb_hindi/844424933500828-1052-m.m4a  \n",
            "  inflating: kb_hindi/844424933500831-1052-m.m4a  \n",
            "  inflating: kb_hindi/844424933500842-1052-m.m4a  \n",
            "  inflating: kb_hindi/844424933500843-1052-m.m4a  \n",
            "  inflating: kb_hindi/844424933500844-1052-m.m4a  \n",
            "  inflating: kb_hindi/844424933500846-1052-m.m4a  \n",
            "  inflating: kb_hindi/844424933508849-1052-m.m4a  \n",
            "  inflating: kb_hindi/844424933508855-1052-m.m4a  \n",
            "  inflating: kb_hindi/844424933508859-1052-m.m4a  \n",
            "  inflating: kb_hindi/844424933508865-1052-m.m4a  \n",
            "  inflating: kb_hindi/844424933508866-1052-m.m4a  \n",
            "  inflating: kb_hindi/844424933508872-1052-m.m4a  \n",
            "  inflating: kb_hindi/844424933508875-1052-m.m4a  \n",
            "  inflating: kb_hindi/844424933508876-1052-m.m4a  \n",
            "  inflating: kb_hindi/844424933508880-1052-m.m4a  \n",
            "  inflating: kb_hindi/844424933508881-1052-m.m4a  \n",
            "  inflating: kb_hindi/844424933508885-1052-m.m4a  \n",
            "  inflating: kb_hindi/844424933508886-1052-m.m4a  \n",
            "  inflating: kb_hindi/844424933508890-1052-m.m4a  \n",
            "  inflating: kb_hindi/844424933508896-1052-m.m4a  \n",
            "  inflating: kb_hindi/844424933508906-1052-m.m4a  \n",
            "  inflating: kb_hindi/844424933508924-1052-m.m4a  \n",
            "  inflating: kb_hindi/844424933508925-1052-m.m4a  \n",
            "  inflating: kb_hindi/844424933508942-1052-m.m4a  \n",
            "  inflating: kb_hindi/844424933509465-1052-m.m4a  \n",
            "  inflating: kb_hindi/844424933509473-1052-m.m4a  \n",
            "  inflating: kb_hindi/844424933509475-1052-m.m4a  \n",
            "  inflating: kb_hindi/844424933509476-1052-m.m4a  \n",
            "  inflating: kb_hindi/844424933509477-1052-m.m4a  \n",
            "  inflating: kb_hindi/844424933509484-1052-m.m4a  \n",
            "  inflating: kb_hindi/844424933509487-1052-m.m4a  \n",
            "  inflating: kb_hindi/844424933509515-1052-m.m4a  \n",
            "  inflating: kb_hindi/844424933509519-1052-m.m4a  \n",
            "  inflating: kb_hindi/844424933509534-1052-m.m4a  \n",
            "  inflating: kb_hindi/844424933509540-1052-m.m4a  \n",
            "  inflating: kb_hindi/844424933509543-1052-m.m4a  \n",
            "  inflating: kb_hindi/844424933509544-1052-m.m4a  \n",
            "  inflating: kb_hindi/844424933509549-1052-m.m4a  \n",
            "  inflating: kb_hindi/844424933509551-1052-m.m4a  \n",
            "  inflating: kb_hindi/844424933509553-1052-m.m4a  \n",
            "  inflating: kb_hindi/844424933509558-1052-m.m4a  \n",
            "  inflating: kb_hindi/844424933524395-1052-m.m4a  \n",
            "  inflating: kb_hindi/844424933524401-1052-m.m4a  \n",
            "  inflating: kb_hindi/844424933524405-1052-m.m4a  \n",
            "  inflating: kb_hindi/844424933524411-1052-m.m4a  \n",
            "  inflating: kb_hindi/844424933524416-1052-m.m4a  \n",
            "  inflating: kb_hindi/844424933524427-1052-m.m4a  \n",
            "  inflating: kb_hindi/844424933524434-1052-m.m4a  \n",
            "  inflating: kb_hindi/844424933524435-1052-m.m4a  \n",
            "  inflating: kb_hindi/844424933524471-1052-m.m4a  \n",
            "  inflating: kb_hindi/844424933524485-1052-m.m4a  \n",
            "  inflating: kb_hindi/844424933525008-390-m.m4a  \n",
            "  inflating: kb_hindi/844424933525017-390-m.m4a  \n",
            "  inflating: kb_hindi/844424933525022-390-m.m4a  \n",
            "  inflating: kb_hindi/844424933525033-390-m.m4a  \n",
            "  inflating: kb_hindi/844424933525035-390-m.m4a  \n",
            "  inflating: kb_hindi/844424933525037-390-m.m4a  \n",
            "  inflating: kb_hindi/844424933525045-390-m.m4a  \n",
            "  inflating: kb_hindi/844424933525056-390-m.m4a  \n",
            "  inflating: kb_hindi/844424933525057-390-m.m4a  \n",
            "  inflating: kb_hindi/844424933525089-390-m.m4a  \n",
            "  inflating: kb_hindi/844424933525690-1052-m.m4a  \n",
            "  inflating: kb_hindi/844424933525697-1052-m.m4a  \n",
            "  inflating: kb_hindi/844424933525713-1052-m.m4a  \n",
            "  inflating: kb_hindi/844424933525716-1052-m.m4a  \n",
            "  inflating: kb_hindi/844424933525723-1052-m.m4a  \n",
            "  inflating: kb_hindi/844424933525734-1052-m.m4a  \n",
            "  inflating: kb_hindi/844424933525744-1052-m.m4a  \n",
            "  inflating: kb_hindi/844424933525756-1052-m.m4a  \n",
            "  inflating: kb_hindi/844424933525757-1052-m.m4a  \n",
            "  inflating: kb_hindi/844424933525766-1052-m.m4a  \n",
            "  inflating: kb_hindi/844424933525772-1052-m.m4a  \n",
            "  inflating: kb_hindi/844424933525774-1052-m.m4a  \n",
            "  inflating: kb_hindi/844424933525779-1052-m.m4a  \n",
            "  inflating: kb_hindi/844424933525781-1052-m.m4a  \n",
            "  inflating: kb_hindi/844424933525786-1052-m.m4a  \n",
            "  inflating: kb_hindi/844424933525788-1052-m.m4a  \n",
            "  inflating: kb_hindi/844424933527191-1179-m.m4a  \n",
            "  inflating: kb_hindi/844424933527204-1179-m.m4a  \n",
            "  inflating: kb_hindi/844424933527218-1179-m.m4a  \n",
            "  inflating: kb_hindi/844424933527222-1179-m.m4a  \n",
            "  inflating: kb_hindi/844424933527266-1179-m.m4a  \n",
            "  inflating: kb_hindi/844424933527269-1179-m.m4a  \n",
            "  inflating: kb_hindi/844424933527275-1179-m.m4a  \n",
            "  inflating: kb_hindi/844424933527276-1179-m.m4a  \n",
            "  inflating: kb_hindi/844424933527285-1179-m.m4a  \n",
            "  inflating: kb_hindi/844424933530191-1052-m.m4a  \n",
            "  inflating: kb_hindi/844424933530195-1052-m.m4a  \n",
            "  inflating: kb_hindi/844424933530199-1052-m.m4a  \n",
            "  inflating: kb_hindi/844424933530210-1052-m.m4a  \n",
            "  inflating: kb_hindi/844424933530217-1052-m.m4a  \n",
            "  inflating: kb_hindi/844424933530218-1052-m.m4a  \n",
            "  inflating: kb_hindi/844424933530221-1052-m.m4a  \n",
            "  inflating: kb_hindi/844424933530239-1052-m.m4a  \n",
            "  inflating: kb_hindi/844424933530242-1052-m.m4a  \n",
            "  inflating: kb_hindi/844424933530255-1052-m.m4a  \n",
            "  inflating: kb_hindi/844424933530258-1052-m.m4a  \n",
            "  inflating: kb_hindi/844424933530265-1052-m.m4a  \n",
            "  inflating: kb_hindi/844424933530272-1052-m.m4a  \n",
            "  inflating: kb_hindi/844424933530284-1052-m.m4a  \n",
            "  inflating: kb_hindi/844424933530285-1052-m.m4a  \n",
            "  inflating: kb_hindi/844424933532693-1052-m.m4a  \n",
            "  inflating: kb_hindi/844424933532702-1052-m.m4a  \n",
            "  inflating: kb_hindi/844424933532713-1052-m.m4a  \n",
            "  inflating: kb_hindi/844424933532734-1052-m.m4a  \n",
            "  inflating: kb_hindi/844424933532738-1052-m.m4a  \n",
            "  inflating: kb_hindi/844424933532741-1052-m.m4a  \n",
            "  inflating: kb_hindi/844424933532746-1052-m.m4a  \n",
            "  inflating: kb_hindi/844424933532754-1052-m.m4a  \n",
            "  inflating: kb_hindi/844424933532755-1052-m.m4a  \n",
            "  inflating: kb_hindi/844424933532760-1052-m.m4a  \n",
            "  inflating: kb_hindi/844424933532770-1052-m.m4a  \n",
            "  inflating: kb_hindi/844424933532773-1052-m.m4a  \n",
            "  inflating: kb_hindi/844424933532774-1052-m.m4a  \n",
            "  inflating: kb_hindi/844424933532779-1052-m.m4a  \n",
            "  inflating: kb_hindi/844424933532782-1052-m.m4a  \n",
            "  inflating: kb_hindi/844424933532784-1052-m.m4a  \n",
            "  inflating: kb_hindi/844424933533091-266-m.m4a  \n",
            "  inflating: kb_hindi/844424933533095-266-m.m4a  \n",
            "  inflating: kb_hindi/844424933533101-266-m.m4a  \n",
            "  inflating: kb_hindi/844424933533120-266-m.m4a  \n",
            "  inflating: kb_hindi/844424933533131-266-m.m4a  \n",
            "  inflating: kb_hindi/844424933533134-266-m.m4a  \n",
            "  inflating: kb_hindi/844424933533140-266-m.m4a  \n",
            "  inflating: kb_hindi/844424933533144-266-m.m4a  \n",
            "  inflating: kb_hindi/844424933533153-266-m.m4a  \n",
            "  inflating: kb_hindi/844424933533164-266-m.m4a  \n",
            "  inflating: kb_hindi/844424933533168-266-m.m4a  \n",
            "  inflating: kb_hindi/844424933533173-266-m.m4a  \n",
            "  inflating: kb_hindi/844424933533794-1179-m.m4a  \n",
            "  inflating: kb_hindi/844424933533803-1179-m.m4a  \n",
            "  inflating: kb_hindi/844424933533804-1179-m.m4a  \n",
            "  inflating: kb_hindi/844424933533806-1179-m.m4a  \n",
            "  inflating: kb_hindi/844424933533812-1179-m.m4a  \n",
            "  inflating: kb_hindi/844424933533834-1179-m.m4a  \n",
            "  inflating: kb_hindi/844424933533840-1179-m.m4a  \n",
            "  inflating: kb_hindi/844424933534092-266-m.m4a  \n",
            "  inflating: kb_hindi/844424933534096-266-m.m4a  \n",
            "  inflating: kb_hindi/844424933534101-266-m.m4a  \n",
            "  inflating: kb_hindi/844424933534115-266-m.m4a  \n",
            "  inflating: kb_hindi/844424933534126-266-m.m4a  \n",
            "  inflating: kb_hindi/844424933534127-266-m.m4a  \n",
            "  inflating: kb_hindi/844424933534147-266-m.m4a  \n",
            "  inflating: kb_hindi/844424933534157-266-m.m4a  \n",
            "  inflating: kb_hindi/844424933534162-266-m.m4a  \n",
            "  inflating: kb_hindi/844424933534166-266-m.m4a  \n",
            "  inflating: kb_hindi/844424933534170-266-m.m4a  \n",
            "  inflating: kb_hindi/844424933534179-266-m.m4a  \n",
            "  inflating: kb_hindi/844424933534180-266-m.m4a  \n",
            "  inflating: kb_hindi/844424933534189-266-m.m4a  \n",
            "  inflating: kb_hindi/844424933539824-266-m.m4a  \n",
            "  inflating: kb_hindi/844424933539843-266-m.m4a  \n",
            "  inflating: kb_hindi/844424933539856-266-m.m4a  \n",
            "  inflating: kb_hindi/844424933539865-266-m.m4a  \n",
            "  inflating: kb_hindi/844424933539867-266-m.m4a  \n",
            "  inflating: kb_hindi/844424933539868-266-m.m4a  \n",
            "  inflating: kb_hindi/844424933539869-266-m.m4a  \n",
            "  inflating: kb_hindi/844424933539874-266-m.m4a  \n",
            "  inflating: kb_hindi/844424933539882-266-m.m4a  \n",
            "  inflating: kb_hindi/844424933539897-266-m.m4a  \n",
            "  inflating: kb_hindi/844424933539914-266-m.m4a  \n",
            "  inflating: kb_hindi/844424933545334-1179-m.m4a  \n",
            "  inflating: kb_hindi/844424933545337-1179-m.m4a  \n",
            "  inflating: kb_hindi/844424933545347-1179-m.m4a  \n",
            "  inflating: kb_hindi/844424933545362-1179-m.m4a  \n",
            "  inflating: kb_hindi/844424933545370-1179-m.m4a  \n",
            "  inflating: kb_hindi/844424933545377-1179-m.m4a  \n",
            "  inflating: kb_hindi/844424933545380-1179-m.m4a  \n",
            "  inflating: kb_hindi/844424933545391-1179-m.m4a  \n",
            "  inflating: kb_hindi/844424933545395-1179-m.m4a  \n",
            "  inflating: kb_hindi/844424933545400-1179-m.m4a  \n",
            "  inflating: kb_hindi/844424933545409-1179-m.m4a  \n",
            "  inflating: kb_hindi/844424933545421-1179-m.m4a  \n",
            "  inflating: kb_hindi/844424933545425-1179-m.m4a  \n",
            "  inflating: kb_hindi/844424933545530-1179-m.m4a  \n",
            "  inflating: kb_hindi/844424933545532-1179-m.m4a  \n",
            "  inflating: kb_hindi/844424933545538-1179-m.m4a  \n",
            "  inflating: kb_hindi/844424933545542-1179-m.m4a  \n",
            "  inflating: kb_hindi/844424933545559-1179-m.m4a  \n",
            "  inflating: kb_hindi/844424933545563-1179-m.m4a  \n",
            "  inflating: kb_hindi/844424933545579-1179-m.m4a  \n",
            "  inflating: kb_hindi/844424933545580-1179-m.m4a  \n",
            "  inflating: kb_hindi/844424933545588-1179-m.m4a  \n",
            "  inflating: kb_hindi/844424933545593-1179-m.m4a  \n",
            "  inflating: kb_hindi/844424933545594-1179-m.m4a  \n",
            "  inflating: kb_hindi/844424933545596-1179-m.m4a  \n",
            "  inflating: kb_hindi/844424933545598-1179-m.m4a  \n",
            "  inflating: kb_hindi/844424933545602-1179-m.m4a  \n",
            "  inflating: kb_hindi/844424933545605-1179-m.m4a  \n",
            "  inflating: kb_hindi/844424933545609-1179-m.m4a  \n",
            "  inflating: kb_hindi/844424933545616-1179-m.m4a  \n",
            "  inflating: kb_hindi/844424933545617-1179-m.m4a  \n",
            "  inflating: kb_hindi/844424933545619-1179-m.m4a  \n",
            "  inflating: kb_hindi/844424933549605-1179-m.m4a  \n",
            "  inflating: kb_hindi/844424933549609-1179-m.m4a  \n",
            "  inflating: kb_hindi/844424933549611-1179-m.m4a  \n",
            "  inflating: kb_hindi/844424933549617-1179-m.m4a  \n",
            "  inflating: kb_hindi/844424933549626-1179-m.m4a  \n",
            "  inflating: kb_hindi/844424933549628-1179-m.m4a  \n",
            "  inflating: kb_hindi/844424933549636-1179-m.m4a  \n",
            "  inflating: kb_hindi/844424933549640-1179-m.m4a  \n",
            "  inflating: kb_hindi/844424933549641-1179-m.m4a  \n",
            "  inflating: kb_hindi/844424933549643-1179-m.m4a  \n",
            "  inflating: kb_hindi/844424933549651-1179-m.m4a  \n",
            "  inflating: kb_hindi/844424933549652-1179-m.m4a  \n",
            "  inflating: kb_hindi/844424933549654-1179-m.m4a  \n",
            "  inflating: kb_hindi/844424933549657-1179-m.m4a  \n",
            "  inflating: kb_hindi/844424933549668-1179-m.m4a  \n",
            "  inflating: kb_hindi/844424933549679-1179-m.m4a  \n",
            "  inflating: kb_hindi/844424933549682-1179-m.m4a  \n",
            "  inflating: kb_hindi/844424933549686-1179-m.m4a  \n"
          ]
        }
      ],
      "source": [
        "!unzip /content/drive/MyDrive/kb_hindi.zip"
      ]
    },
    {
      "cell_type": "code",
      "source": [
        "import glob\n",
        "m4a_list = glob.glob(\"/content/kb_hindi/*.m4a\")"
      ],
      "metadata": {
        "id": "Rcyj0FtzCfmp"
      },
      "execution_count": 6,
      "outputs": []
    },
    {
      "cell_type": "code",
      "source": [
        "#male speaker 58\n",
        "#female speaker 63"
      ],
      "metadata": {
        "id": "J85iOuCnCmyg"
      },
      "execution_count": null,
      "outputs": []
    },
    {
      "cell_type": "markdown",
      "source": [
        "#### convert m4a to wav format using ffmpeg"
      ],
      "metadata": {
        "id": "fskRMiMxLcEZ"
      }
    },
    {
      "cell_type": "code",
      "source": [
        "!sudo apt install ffmpeg"
      ],
      "metadata": {
        "colab": {
          "base_uri": "https://localhost:8080/"
        },
        "id": "o7CZxYaGC204",
        "outputId": "d13b1711-1e55-45a1-eff7-23600f046637"
      },
      "execution_count": null,
      "outputs": [
        {
          "output_type": "stream",
          "name": "stdout",
          "text": [
            "Reading package lists... Done\n",
            "Building dependency tree... Done\n",
            "Reading state information... Done\n",
            "ffmpeg is already the newest version (7:4.4.2-0ubuntu0.22.04.1).\n",
            "0 upgraded, 0 newly installed, 0 to remove and 45 not upgraded.\n"
          ]
        }
      ]
    },
    {
      "cell_type": "code",
      "source": [
        "for fil in glob.glob(\"/content/kb_hindi/*.m4a\")[:]:\n",
        "  out_fil = '/content/drive/MyDrive/kb_hindi_wav/' + fil.split('/')[-1][:-4] + '.wav'\n",
        "  !ffmpeg -hide_banner -loglevel error -y -i {fil} -ar 16000 {out_fil}"
      ],
      "metadata": {
        "id": "2qeljH7ZGuvM"
      },
      "execution_count": null,
      "outputs": []
    },
    {
      "cell_type": "code",
      "source": [
        "import glob\n",
        "len(glob.glob(\"/content/drive/MyDrive/kb_hindi_wav/*.wav\"))"
      ],
      "metadata": {
        "colab": {
          "base_uri": "https://localhost:8080/"
        },
        "id": "b-u7sdZiFlJC",
        "outputId": "14f3acd1-70b5-4db3-8fcb-8c6944d6c50e"
      },
      "execution_count": 1,
      "outputs": [
        {
          "output_type": "execute_result",
          "data": {
            "text/plain": [
              "3130"
            ]
          },
          "metadata": {},
          "execution_count": 1
        }
      ]
    },
    {
      "cell_type": "code",
      "source": [
        "kb_hindi_path  = \"/content/drive/MyDrive/kb_hindi_wav/\""
      ],
      "metadata": {
        "id": "LYghTuMLKHOr"
      },
      "execution_count": 6,
      "outputs": []
    },
    {
      "cell_type": "markdown",
      "source": [
        "#### install fairseq"
      ],
      "metadata": {
        "id": "yVXq-5ORe96O"
      }
    },
    {
      "cell_type": "code",
      "execution_count": 2,
      "metadata": {
        "colab": {
          "base_uri": "https://localhost:8080/"
        },
        "id": "tF29fL3QYniV",
        "outputId": "0a9e0ff2-8e04-4cd6-c92e-4452ada49202"
      },
      "outputs": [
        {
          "output_type": "stream",
          "name": "stdout",
          "text": [
            "Cloning into 'fairseq'...\n",
            "remote: Enumerating objects: 35184, done.\u001b[K\n",
            "remote: Counting objects: 100% (105/105), done.\u001b[K\n",
            "remote: Compressing objects: 100% (58/58), done.\u001b[K\n",
            "remote: Total 35184 (delta 61), reused 72 (delta 47), pack-reused 35079\u001b[K\n",
            "Receiving objects: 100% (35184/35184), 25.22 MiB | 23.43 MiB/s, done.\n",
            "Resolving deltas: 100% (25548/25548), done.\n",
            "/content\n",
            "/content/fairseq\n",
            "Obtaining file:///content/fairseq\n",
            "  Installing build dependencies ... \u001b[?25l\u001b[?25hdone\n",
            "  Checking if build backend supports build_editable ... \u001b[?25l\u001b[?25hdone\n",
            "  Getting requirements to build editable ... \u001b[?25l\u001b[?25hdone\n",
            "  Preparing editable metadata (pyproject.toml) ... \u001b[?25l\u001b[?25hdone\n",
            "Requirement already satisfied: cffi in /usr/local/lib/python3.10/dist-packages (from fairseq==0.12.2) (1.16.0)\n",
            "Requirement already satisfied: cython in /usr/local/lib/python3.10/dist-packages (from fairseq==0.12.2) (3.0.10)\n",
            "Collecting hydra-core<1.1,>=1.0.7 (from fairseq==0.12.2)\n",
            "  Downloading hydra_core-1.0.7-py3-none-any.whl (123 kB)\n",
            "\u001b[2K     \u001b[90m━━━━━━━━━━━━━━━━━━━━━━━━━━━━━━━━━━━━━━━━\u001b[0m \u001b[32m123.8/123.8 kB\u001b[0m \u001b[31m3.8 MB/s\u001b[0m eta \u001b[36m0:00:00\u001b[0m\n",
            "\u001b[?25hCollecting omegaconf<2.1 (from fairseq==0.12.2)\n",
            "  Downloading omegaconf-2.0.6-py3-none-any.whl (36 kB)\n",
            "Requirement already satisfied: numpy>=1.21.3 in /usr/local/lib/python3.10/dist-packages (from fairseq==0.12.2) (1.25.2)\n",
            "Requirement already satisfied: regex in /usr/local/lib/python3.10/dist-packages (from fairseq==0.12.2) (2023.12.25)\n",
            "Collecting sacrebleu>=1.4.12 (from fairseq==0.12.2)\n",
            "  Downloading sacrebleu-2.4.1-py3-none-any.whl (106 kB)\n",
            "\u001b[2K     \u001b[90m━━━━━━━━━━━━━━━━━━━━━━━━━━━━━━━━━━━━━━━━\u001b[0m \u001b[32m106.6/106.6 kB\u001b[0m \u001b[31m9.1 MB/s\u001b[0m eta \u001b[36m0:00:00\u001b[0m\n",
            "\u001b[?25hRequirement already satisfied: torch>=1.13 in /usr/local/lib/python3.10/dist-packages (from fairseq==0.12.2) (2.2.1+cu121)\n",
            "Requirement already satisfied: tqdm in /usr/local/lib/python3.10/dist-packages (from fairseq==0.12.2) (4.66.2)\n",
            "Collecting bitarray (from fairseq==0.12.2)\n",
            "  Downloading bitarray-2.9.2-cp310-cp310-manylinux_2_17_x86_64.manylinux2014_x86_64.whl (288 kB)\n",
            "\u001b[2K     \u001b[90m━━━━━━━━━━━━━━━━━━━━━━━━━━━━━━━━━━━━━━━━\u001b[0m \u001b[32m288.3/288.3 kB\u001b[0m \u001b[31m12.5 MB/s\u001b[0m eta \u001b[36m0:00:00\u001b[0m\n",
            "\u001b[?25hRequirement already satisfied: torchaudio>=0.8.0 in /usr/local/lib/python3.10/dist-packages (from fairseq==0.12.2) (2.2.1+cu121)\n",
            "Requirement already satisfied: scikit-learn in /usr/local/lib/python3.10/dist-packages (from fairseq==0.12.2) (1.2.2)\n",
            "Requirement already satisfied: packaging in /usr/local/lib/python3.10/dist-packages (from fairseq==0.12.2) (24.0)\n",
            "Collecting antlr4-python3-runtime==4.8 (from hydra-core<1.1,>=1.0.7->fairseq==0.12.2)\n",
            "  Downloading antlr4-python3-runtime-4.8.tar.gz (112 kB)\n",
            "\u001b[2K     \u001b[90m━━━━━━━━━━━━━━━━━━━━━━━━━━━━━━━━━━━━━━━━\u001b[0m \u001b[32m112.4/112.4 kB\u001b[0m \u001b[31m12.6 MB/s\u001b[0m eta \u001b[36m0:00:00\u001b[0m\n",
            "\u001b[?25h  Preparing metadata (setup.py) ... \u001b[?25l\u001b[?25hdone\n",
            "Requirement already satisfied: PyYAML>=5.1.* in /usr/local/lib/python3.10/dist-packages (from omegaconf<2.1->fairseq==0.12.2) (6.0.1)\n",
            "Requirement already satisfied: typing-extensions in /usr/local/lib/python3.10/dist-packages (from omegaconf<2.1->fairseq==0.12.2) (4.10.0)\n",
            "Collecting portalocker (from sacrebleu>=1.4.12->fairseq==0.12.2)\n",
            "  Downloading portalocker-2.8.2-py3-none-any.whl (17 kB)\n",
            "Requirement already satisfied: tabulate>=0.8.9 in /usr/local/lib/python3.10/dist-packages (from sacrebleu>=1.4.12->fairseq==0.12.2) (0.9.0)\n",
            "Collecting colorama (from sacrebleu>=1.4.12->fairseq==0.12.2)\n",
            "  Downloading colorama-0.4.6-py2.py3-none-any.whl (25 kB)\n",
            "Requirement already satisfied: lxml in /usr/local/lib/python3.10/dist-packages (from sacrebleu>=1.4.12->fairseq==0.12.2) (4.9.4)\n",
            "Requirement already satisfied: filelock in /usr/local/lib/python3.10/dist-packages (from torch>=1.13->fairseq==0.12.2) (3.13.3)\n",
            "Requirement already satisfied: sympy in /usr/local/lib/python3.10/dist-packages (from torch>=1.13->fairseq==0.12.2) (1.12)\n",
            "Requirement already satisfied: networkx in /usr/local/lib/python3.10/dist-packages (from torch>=1.13->fairseq==0.12.2) (3.2.1)\n",
            "Requirement already satisfied: jinja2 in /usr/local/lib/python3.10/dist-packages (from torch>=1.13->fairseq==0.12.2) (3.1.3)\n",
            "Requirement already satisfied: fsspec in /usr/local/lib/python3.10/dist-packages (from torch>=1.13->fairseq==0.12.2) (2023.6.0)\n",
            "Collecting nvidia-cuda-nvrtc-cu12==12.1.105 (from torch>=1.13->fairseq==0.12.2)\n",
            "  Using cached nvidia_cuda_nvrtc_cu12-12.1.105-py3-none-manylinux1_x86_64.whl (23.7 MB)\n",
            "Collecting nvidia-cuda-runtime-cu12==12.1.105 (from torch>=1.13->fairseq==0.12.2)\n",
            "  Using cached nvidia_cuda_runtime_cu12-12.1.105-py3-none-manylinux1_x86_64.whl (823 kB)\n",
            "Collecting nvidia-cuda-cupti-cu12==12.1.105 (from torch>=1.13->fairseq==0.12.2)\n",
            "  Using cached nvidia_cuda_cupti_cu12-12.1.105-py3-none-manylinux1_x86_64.whl (14.1 MB)\n",
            "Collecting nvidia-cudnn-cu12==8.9.2.26 (from torch>=1.13->fairseq==0.12.2)\n",
            "  Using cached nvidia_cudnn_cu12-8.9.2.26-py3-none-manylinux1_x86_64.whl (731.7 MB)\n",
            "Collecting nvidia-cublas-cu12==12.1.3.1 (from torch>=1.13->fairseq==0.12.2)\n",
            "  Using cached nvidia_cublas_cu12-12.1.3.1-py3-none-manylinux1_x86_64.whl (410.6 MB)\n",
            "Collecting nvidia-cufft-cu12==11.0.2.54 (from torch>=1.13->fairseq==0.12.2)\n",
            "  Using cached nvidia_cufft_cu12-11.0.2.54-py3-none-manylinux1_x86_64.whl (121.6 MB)\n",
            "Collecting nvidia-curand-cu12==10.3.2.106 (from torch>=1.13->fairseq==0.12.2)\n",
            "  Using cached nvidia_curand_cu12-10.3.2.106-py3-none-manylinux1_x86_64.whl (56.5 MB)\n",
            "Collecting nvidia-cusolver-cu12==11.4.5.107 (from torch>=1.13->fairseq==0.12.2)\n",
            "  Using cached nvidia_cusolver_cu12-11.4.5.107-py3-none-manylinux1_x86_64.whl (124.2 MB)\n",
            "Collecting nvidia-cusparse-cu12==12.1.0.106 (from torch>=1.13->fairseq==0.12.2)\n",
            "  Using cached nvidia_cusparse_cu12-12.1.0.106-py3-none-manylinux1_x86_64.whl (196.0 MB)\n",
            "Collecting nvidia-nccl-cu12==2.19.3 (from torch>=1.13->fairseq==0.12.2)\n",
            "  Using cached nvidia_nccl_cu12-2.19.3-py3-none-manylinux1_x86_64.whl (166.0 MB)\n",
            "Collecting nvidia-nvtx-cu12==12.1.105 (from torch>=1.13->fairseq==0.12.2)\n",
            "  Using cached nvidia_nvtx_cu12-12.1.105-py3-none-manylinux1_x86_64.whl (99 kB)\n",
            "Requirement already satisfied: triton==2.2.0 in /usr/local/lib/python3.10/dist-packages (from torch>=1.13->fairseq==0.12.2) (2.2.0)\n",
            "Collecting nvidia-nvjitlink-cu12 (from nvidia-cusolver-cu12==11.4.5.107->torch>=1.13->fairseq==0.12.2)\n",
            "  Using cached nvidia_nvjitlink_cu12-12.4.127-py3-none-manylinux2014_x86_64.whl (21.1 MB)\n",
            "Requirement already satisfied: pycparser in /usr/local/lib/python3.10/dist-packages (from cffi->fairseq==0.12.2) (2.22)\n",
            "Requirement already satisfied: scipy>=1.3.2 in /usr/local/lib/python3.10/dist-packages (from scikit-learn->fairseq==0.12.2) (1.11.4)\n",
            "Requirement already satisfied: joblib>=1.1.1 in /usr/local/lib/python3.10/dist-packages (from scikit-learn->fairseq==0.12.2) (1.3.2)\n",
            "Requirement already satisfied: threadpoolctl>=2.0.0 in /usr/local/lib/python3.10/dist-packages (from scikit-learn->fairseq==0.12.2) (3.4.0)\n",
            "Requirement already satisfied: MarkupSafe>=2.0 in /usr/local/lib/python3.10/dist-packages (from jinja2->torch>=1.13->fairseq==0.12.2) (2.1.5)\n",
            "Requirement already satisfied: mpmath>=0.19 in /usr/local/lib/python3.10/dist-packages (from sympy->torch>=1.13->fairseq==0.12.2) (1.3.0)\n",
            "Building wheels for collected packages: fairseq, antlr4-python3-runtime\n",
            "  Building editable for fairseq (pyproject.toml) ... \u001b[?25l\u001b[?25hdone\n",
            "  Created wheel for fairseq: filename=fairseq-0.12.2-0.editable-cp310-cp310-linux_x86_64.whl size=9394 sha256=e67669225fd01544101951985d0bdaa78e9023348f0d1c0396483d82b5cc054c\n",
            "  Stored in directory: /tmp/pip-ephem-wheel-cache-lxqkmoq1/wheels/c6/d7/db/bc419b1daa8266aa8de2a7c4d29f62dbfa814e8701fe4695a2\n",
            "  Building wheel for antlr4-python3-runtime (setup.py) ... \u001b[?25l\u001b[?25hdone\n",
            "  Created wheel for antlr4-python3-runtime: filename=antlr4_python3_runtime-4.8-py3-none-any.whl size=141211 sha256=8f21019245af3b3392bf70264da099f07caffc001db17523c3378adcd6fc7eab\n",
            "  Stored in directory: /root/.cache/pip/wheels/a7/20/bd/e1477d664f22d99989fd28ee1a43d6633dddb5cb9e801350d5\n",
            "Successfully built fairseq antlr4-python3-runtime\n",
            "Installing collected packages: bitarray, antlr4-python3-runtime, portalocker, omegaconf, nvidia-nvtx-cu12, nvidia-nvjitlink-cu12, nvidia-nccl-cu12, nvidia-curand-cu12, nvidia-cufft-cu12, nvidia-cuda-runtime-cu12, nvidia-cuda-nvrtc-cu12, nvidia-cuda-cupti-cu12, nvidia-cublas-cu12, colorama, sacrebleu, nvidia-cusparse-cu12, nvidia-cudnn-cu12, hydra-core, nvidia-cusolver-cu12, fairseq\n",
            "Successfully installed antlr4-python3-runtime-4.8 bitarray-2.9.2 colorama-0.4.6 fairseq-0.12.2 hydra-core-1.0.7 nvidia-cublas-cu12-12.1.3.1 nvidia-cuda-cupti-cu12-12.1.105 nvidia-cuda-nvrtc-cu12-12.1.105 nvidia-cuda-runtime-cu12-12.1.105 nvidia-cudnn-cu12-8.9.2.26 nvidia-cufft-cu12-11.0.2.54 nvidia-curand-cu12-10.3.2.106 nvidia-cusolver-cu12-11.4.5.107 nvidia-cusparse-cu12-12.1.0.106 nvidia-nccl-cu12-2.19.3 nvidia-nvjitlink-cu12-12.4.127 nvidia-nvtx-cu12-12.1.105 omegaconf-2.0.6 portalocker-2.8.2 sacrebleu-2.4.1\n"
          ]
        }
      ],
      "source": [
        "!git clone https://github.com/pytorch/fairseq\n",
        "\n",
        "# Change current working directory\n",
        "!pwd\n",
        "%cd \"/content/fairseq\"\n",
        "!pip install --editable ./"
      ]
    },
    {
      "cell_type": "code",
      "source": [
        "!pip install fairseq"
      ],
      "metadata": {
        "colab": {
          "base_uri": "https://localhost:8080/"
        },
        "id": "bBDfZ-ZuXllV",
        "outputId": "3d8b884d-330d-4baa-fc86-453882d1f424"
      },
      "execution_count": 3,
      "outputs": [
        {
          "output_type": "stream",
          "name": "stdout",
          "text": [
            "Requirement already satisfied: fairseq in /usr/local/lib/python3.10/dist-packages (0.12.2)\n",
            "Requirement already satisfied: cffi in /usr/local/lib/python3.10/dist-packages (from fairseq) (1.16.0)\n",
            "Requirement already satisfied: cython in /usr/local/lib/python3.10/dist-packages (from fairseq) (3.0.10)\n",
            "Requirement already satisfied: hydra-core<1.1,>=1.0.7 in /usr/local/lib/python3.10/dist-packages (from fairseq) (1.0.7)\n",
            "Requirement already satisfied: omegaconf<2.1 in /usr/local/lib/python3.10/dist-packages (from fairseq) (2.0.6)\n",
            "Requirement already satisfied: numpy>=1.21.3 in /usr/local/lib/python3.10/dist-packages (from fairseq) (1.25.2)\n",
            "Requirement already satisfied: regex in /usr/local/lib/python3.10/dist-packages (from fairseq) (2023.12.25)\n",
            "Requirement already satisfied: sacrebleu>=1.4.12 in /usr/local/lib/python3.10/dist-packages (from fairseq) (2.4.1)\n",
            "Requirement already satisfied: torch>=1.13 in /usr/local/lib/python3.10/dist-packages (from fairseq) (2.2.1+cu121)\n",
            "Requirement already satisfied: tqdm in /usr/local/lib/python3.10/dist-packages (from fairseq) (4.66.2)\n",
            "Requirement already satisfied: bitarray in /usr/local/lib/python3.10/dist-packages (from fairseq) (2.9.2)\n",
            "Requirement already satisfied: torchaudio>=0.8.0 in /usr/local/lib/python3.10/dist-packages (from fairseq) (2.2.1+cu121)\n",
            "Requirement already satisfied: scikit-learn in /usr/local/lib/python3.10/dist-packages (from fairseq) (1.2.2)\n",
            "Requirement already satisfied: packaging in /usr/local/lib/python3.10/dist-packages (from fairseq) (24.0)\n",
            "Requirement already satisfied: antlr4-python3-runtime==4.8 in /usr/local/lib/python3.10/dist-packages (from hydra-core<1.1,>=1.0.7->fairseq) (4.8)\n",
            "Requirement already satisfied: PyYAML>=5.1.* in /usr/local/lib/python3.10/dist-packages (from omegaconf<2.1->fairseq) (6.0.1)\n",
            "Requirement already satisfied: typing-extensions in /usr/local/lib/python3.10/dist-packages (from omegaconf<2.1->fairseq) (4.10.0)\n",
            "Requirement already satisfied: portalocker in /usr/local/lib/python3.10/dist-packages (from sacrebleu>=1.4.12->fairseq) (2.8.2)\n",
            "Requirement already satisfied: tabulate>=0.8.9 in /usr/local/lib/python3.10/dist-packages (from sacrebleu>=1.4.12->fairseq) (0.9.0)\n",
            "Requirement already satisfied: colorama in /usr/local/lib/python3.10/dist-packages (from sacrebleu>=1.4.12->fairseq) (0.4.6)\n",
            "Requirement already satisfied: lxml in /usr/local/lib/python3.10/dist-packages (from sacrebleu>=1.4.12->fairseq) (4.9.4)\n",
            "Requirement already satisfied: filelock in /usr/local/lib/python3.10/dist-packages (from torch>=1.13->fairseq) (3.13.3)\n",
            "Requirement already satisfied: sympy in /usr/local/lib/python3.10/dist-packages (from torch>=1.13->fairseq) (1.12)\n",
            "Requirement already satisfied: networkx in /usr/local/lib/python3.10/dist-packages (from torch>=1.13->fairseq) (3.2.1)\n",
            "Requirement already satisfied: jinja2 in /usr/local/lib/python3.10/dist-packages (from torch>=1.13->fairseq) (3.1.3)\n",
            "Requirement already satisfied: fsspec in /usr/local/lib/python3.10/dist-packages (from torch>=1.13->fairseq) (2023.6.0)\n",
            "Requirement already satisfied: nvidia-cuda-nvrtc-cu12==12.1.105 in /usr/local/lib/python3.10/dist-packages (from torch>=1.13->fairseq) (12.1.105)\n",
            "Requirement already satisfied: nvidia-cuda-runtime-cu12==12.1.105 in /usr/local/lib/python3.10/dist-packages (from torch>=1.13->fairseq) (12.1.105)\n",
            "Requirement already satisfied: nvidia-cuda-cupti-cu12==12.1.105 in /usr/local/lib/python3.10/dist-packages (from torch>=1.13->fairseq) (12.1.105)\n",
            "Requirement already satisfied: nvidia-cudnn-cu12==8.9.2.26 in /usr/local/lib/python3.10/dist-packages (from torch>=1.13->fairseq) (8.9.2.26)\n",
            "Requirement already satisfied: nvidia-cublas-cu12==12.1.3.1 in /usr/local/lib/python3.10/dist-packages (from torch>=1.13->fairseq) (12.1.3.1)\n",
            "Requirement already satisfied: nvidia-cufft-cu12==11.0.2.54 in /usr/local/lib/python3.10/dist-packages (from torch>=1.13->fairseq) (11.0.2.54)\n",
            "Requirement already satisfied: nvidia-curand-cu12==10.3.2.106 in /usr/local/lib/python3.10/dist-packages (from torch>=1.13->fairseq) (10.3.2.106)\n",
            "Requirement already satisfied: nvidia-cusolver-cu12==11.4.5.107 in /usr/local/lib/python3.10/dist-packages (from torch>=1.13->fairseq) (11.4.5.107)\n",
            "Requirement already satisfied: nvidia-cusparse-cu12==12.1.0.106 in /usr/local/lib/python3.10/dist-packages (from torch>=1.13->fairseq) (12.1.0.106)\n",
            "Requirement already satisfied: nvidia-nccl-cu12==2.19.3 in /usr/local/lib/python3.10/dist-packages (from torch>=1.13->fairseq) (2.19.3)\n",
            "Requirement already satisfied: nvidia-nvtx-cu12==12.1.105 in /usr/local/lib/python3.10/dist-packages (from torch>=1.13->fairseq) (12.1.105)\n",
            "Requirement already satisfied: triton==2.2.0 in /usr/local/lib/python3.10/dist-packages (from torch>=1.13->fairseq) (2.2.0)\n",
            "Requirement already satisfied: nvidia-nvjitlink-cu12 in /usr/local/lib/python3.10/dist-packages (from nvidia-cusolver-cu12==11.4.5.107->torch>=1.13->fairseq) (12.4.127)\n",
            "Requirement already satisfied: pycparser in /usr/local/lib/python3.10/dist-packages (from cffi->fairseq) (2.22)\n",
            "Requirement already satisfied: scipy>=1.3.2 in /usr/local/lib/python3.10/dist-packages (from scikit-learn->fairseq) (1.11.4)\n",
            "Requirement already satisfied: joblib>=1.1.1 in /usr/local/lib/python3.10/dist-packages (from scikit-learn->fairseq) (1.3.2)\n",
            "Requirement already satisfied: threadpoolctl>=2.0.0 in /usr/local/lib/python3.10/dist-packages (from scikit-learn->fairseq) (3.4.0)\n",
            "Requirement already satisfied: MarkupSafe>=2.0 in /usr/local/lib/python3.10/dist-packages (from jinja2->torch>=1.13->fairseq) (2.1.5)\n",
            "Requirement already satisfied: mpmath>=0.19 in /usr/local/lib/python3.10/dist-packages (from sympy->torch>=1.13->fairseq) (1.3.0)\n"
          ]
        }
      ]
    },
    {
      "cell_type": "markdown",
      "source": [
        "#### clone UniSpeech"
      ],
      "metadata": {
        "id": "z-nuTYf1fFK-"
      }
    },
    {
      "cell_type": "code",
      "source": [
        "%cd /content"
      ],
      "metadata": {
        "colab": {
          "base_uri": "https://localhost:8080/"
        },
        "id": "8QiZVpjDj3-E",
        "outputId": "b4d21977-4954-454b-b672-fb1a5d7d3c25"
      },
      "execution_count": 4,
      "outputs": [
        {
          "output_type": "stream",
          "name": "stdout",
          "text": [
            "/content\n"
          ]
        }
      ]
    },
    {
      "cell_type": "code",
      "source": [
        "!git clone https://github.com/microsoft/UniSpeech"
      ],
      "metadata": {
        "id": "P0GMW6sSY44v",
        "colab": {
          "base_uri": "https://localhost:8080/"
        },
        "outputId": "63c10ab0-6b84-4196-d33a-d9c0aa028a00"
      },
      "execution_count": 5,
      "outputs": [
        {
          "output_type": "stream",
          "name": "stdout",
          "text": [
            "Cloning into 'UniSpeech'...\n",
            "remote: Enumerating objects: 1405, done.\u001b[K\n",
            "remote: Counting objects: 100% (52/52), done.\u001b[K\n",
            "remote: Compressing objects: 100% (44/44), done.\u001b[K\n",
            "remote: Total 1405 (delta 30), reused 23 (delta 8), pack-reused 1353\u001b[K\n",
            "Receiving objects: 100% (1405/1405), 74.12 MiB | 13.31 MiB/s, done.\n",
            "Resolving deltas: 100% (590/590), done.\n",
            "Updating files: 100% (433/433), done.\n"
          ]
        }
      ]
    },
    {
      "cell_type": "code",
      "source": [],
      "metadata": {
        "id": "tqD5AF-eNBTp"
      },
      "execution_count": 5,
      "outputs": []
    },
    {
      "cell_type": "markdown",
      "source": [
        "#### install requirements"
      ],
      "metadata": {
        "id": "X4VzW1n-fLVf"
      }
    },
    {
      "cell_type": "code",
      "source": [
        "# !pip install s3prl==0.3.1\n",
        "!pip install fire==0.4.0\n",
        "!pip install sentencepiece==0.1.96"
      ],
      "metadata": {
        "colab": {
          "base_uri": "https://localhost:8080/"
        },
        "id": "GPWHVHoGfStI",
        "outputId": "03dcd986-a3c4-4c94-fe7c-92e90749c336"
      },
      "execution_count": 6,
      "outputs": [
        {
          "output_type": "stream",
          "name": "stdout",
          "text": [
            "Collecting fire==0.4.0\n",
            "  Downloading fire-0.4.0.tar.gz (87 kB)\n",
            "\u001b[?25l     \u001b[90m━━━━━━━━━━━━━━━━━━━━━━━━━━━━━━━━━━━━━━━━\u001b[0m \u001b[32m0.0/87.7 kB\u001b[0m \u001b[31m?\u001b[0m eta \u001b[36m-:--:--\u001b[0m\r\u001b[2K     \u001b[90m━━━━━━━━━━━━━━━━━━━━━━━━━━━━━━━━━━━━━━━━\u001b[0m \u001b[32m87.7/87.7 kB\u001b[0m \u001b[31m3.3 MB/s\u001b[0m eta \u001b[36m0:00:00\u001b[0m\n",
            "\u001b[?25h  Preparing metadata (setup.py) ... \u001b[?25l\u001b[?25hdone\n",
            "Requirement already satisfied: six in /usr/local/lib/python3.10/dist-packages (from fire==0.4.0) (1.16.0)\n",
            "Requirement already satisfied: termcolor in /usr/local/lib/python3.10/dist-packages (from fire==0.4.0) (2.4.0)\n",
            "Building wheels for collected packages: fire\n",
            "  Building wheel for fire (setup.py) ... \u001b[?25l\u001b[?25hdone\n",
            "  Created wheel for fire: filename=fire-0.4.0-py2.py3-none-any.whl size=115928 sha256=b75b3ac058a15ecb9b750f11028d05c70ceca84d795680b3c3ef654d8406ec91\n",
            "  Stored in directory: /root/.cache/pip/wheels/26/9a/dd/2818b1b023daf077ec3e625c47ae446aca587a5abe48e05212\n",
            "Successfully built fire\n",
            "Installing collected packages: fire\n",
            "Successfully installed fire-0.4.0\n",
            "Collecting sentencepiece==0.1.96\n",
            "  Downloading sentencepiece-0.1.96-cp310-cp310-manylinux_2_17_x86_64.manylinux2014_x86_64.whl (1.2 MB)\n",
            "\u001b[2K     \u001b[90m━━━━━━━━━━━━━━━━━━━━━━━━━━━━━━━━━━━━━━━━\u001b[0m \u001b[32m1.2/1.2 MB\u001b[0m \u001b[31m8.6 MB/s\u001b[0m eta \u001b[36m0:00:00\u001b[0m\n",
            "\u001b[?25hInstalling collected packages: sentencepiece\n",
            "  Attempting uninstall: sentencepiece\n",
            "    Found existing installation: sentencepiece 0.1.99\n",
            "    Uninstalling sentencepiece-0.1.99:\n",
            "      Successfully uninstalled sentencepiece-0.1.99\n",
            "Successfully installed sentencepiece-0.1.96\n"
          ]
        }
      ]
    },
    {
      "cell_type": "code",
      "source": [
        "!sudo apt-get install sox"
      ],
      "metadata": {
        "colab": {
          "base_uri": "https://localhost:8080/"
        },
        "id": "Vju1zopADwKB",
        "outputId": "9d3609be-e1ef-43a0-c7f2-dd83f6868a78"
      },
      "execution_count": 7,
      "outputs": [
        {
          "output_type": "stream",
          "name": "stdout",
          "text": [
            "Reading package lists... Done\n",
            "Building dependency tree... Done\n",
            "Reading state information... Done\n",
            "The following additional packages will be installed:\n",
            "  libopencore-amrnb0 libopencore-amrwb0 libsox-fmt-alsa libsox-fmt-base\n",
            "  libsox3 libwavpack1\n",
            "Suggested packages:\n",
            "  libsox-fmt-all\n",
            "The following NEW packages will be installed:\n",
            "  libopencore-amrnb0 libopencore-amrwb0 libsox-fmt-alsa libsox-fmt-base\n",
            "  libsox3 libwavpack1 sox\n",
            "0 upgraded, 7 newly installed, 0 to remove and 45 not upgraded.\n",
            "Need to get 617 kB of archives.\n",
            "After this operation, 1,764 kB of additional disk space will be used.\n",
            "Get:1 http://archive.ubuntu.com/ubuntu jammy/universe amd64 libopencore-amrnb0 amd64 0.1.5-1 [94.8 kB]\n",
            "Get:2 http://archive.ubuntu.com/ubuntu jammy/universe amd64 libopencore-amrwb0 amd64 0.1.5-1 [49.1 kB]\n",
            "Get:3 http://archive.ubuntu.com/ubuntu jammy-updates/universe amd64 libsox3 amd64 14.4.2+git20190427-2+deb11u2ubuntu0.22.04.1 [240 kB]\n",
            "Get:4 http://archive.ubuntu.com/ubuntu jammy-updates/universe amd64 libsox-fmt-alsa amd64 14.4.2+git20190427-2+deb11u2ubuntu0.22.04.1 [11.2 kB]\n",
            "Get:5 http://archive.ubuntu.com/ubuntu jammy/main amd64 libwavpack1 amd64 5.4.0-1build2 [83.7 kB]\n",
            "Get:6 http://archive.ubuntu.com/ubuntu jammy-updates/universe amd64 libsox-fmt-base amd64 14.4.2+git20190427-2+deb11u2ubuntu0.22.04.1 [33.7 kB]\n",
            "Get:7 http://archive.ubuntu.com/ubuntu jammy-updates/universe amd64 sox amd64 14.4.2+git20190427-2+deb11u2ubuntu0.22.04.1 [104 kB]\n",
            "Fetched 617 kB in 1s (1,052 kB/s)\n",
            "debconf: unable to initialize frontend: Dialog\n",
            "debconf: (No usable dialog-like program is installed, so the dialog based frontend cannot be used. at /usr/share/perl5/Debconf/FrontEnd/Dialog.pm line 78, <> line 7.)\n",
            "debconf: falling back to frontend: Readline\n",
            "debconf: unable to initialize frontend: Readline\n",
            "debconf: (This frontend requires a controlling tty.)\n",
            "debconf: falling back to frontend: Teletype\n",
            "dpkg-preconfigure: unable to re-open stdin: \n",
            "Selecting previously unselected package libopencore-amrnb0:amd64.\n",
            "(Reading database ... 121753 files and directories currently installed.)\n",
            "Preparing to unpack .../0-libopencore-amrnb0_0.1.5-1_amd64.deb ...\n",
            "Unpacking libopencore-amrnb0:amd64 (0.1.5-1) ...\n",
            "Selecting previously unselected package libopencore-amrwb0:amd64.\n",
            "Preparing to unpack .../1-libopencore-amrwb0_0.1.5-1_amd64.deb ...\n",
            "Unpacking libopencore-amrwb0:amd64 (0.1.5-1) ...\n",
            "Selecting previously unselected package libsox3:amd64.\n",
            "Preparing to unpack .../2-libsox3_14.4.2+git20190427-2+deb11u2ubuntu0.22.04.1_amd64.deb ...\n",
            "Unpacking libsox3:amd64 (14.4.2+git20190427-2+deb11u2ubuntu0.22.04.1) ...\n",
            "Selecting previously unselected package libsox-fmt-alsa:amd64.\n",
            "Preparing to unpack .../3-libsox-fmt-alsa_14.4.2+git20190427-2+deb11u2ubuntu0.22.04.1_amd64.deb ...\n",
            "Unpacking libsox-fmt-alsa:amd64 (14.4.2+git20190427-2+deb11u2ubuntu0.22.04.1) ...\n",
            "Selecting previously unselected package libwavpack1:amd64.\n",
            "Preparing to unpack .../4-libwavpack1_5.4.0-1build2_amd64.deb ...\n",
            "Unpacking libwavpack1:amd64 (5.4.0-1build2) ...\n",
            "Selecting previously unselected package libsox-fmt-base:amd64.\n",
            "Preparing to unpack .../5-libsox-fmt-base_14.4.2+git20190427-2+deb11u2ubuntu0.22.04.1_amd64.deb ...\n",
            "Unpacking libsox-fmt-base:amd64 (14.4.2+git20190427-2+deb11u2ubuntu0.22.04.1) ...\n",
            "Selecting previously unselected package sox.\n",
            "Preparing to unpack .../6-sox_14.4.2+git20190427-2+deb11u2ubuntu0.22.04.1_amd64.deb ...\n",
            "Unpacking sox (14.4.2+git20190427-2+deb11u2ubuntu0.22.04.1) ...\n",
            "Setting up libsox3:amd64 (14.4.2+git20190427-2+deb11u2ubuntu0.22.04.1) ...\n",
            "Setting up libopencore-amrwb0:amd64 (0.1.5-1) ...\n",
            "Setting up libsox-fmt-alsa:amd64 (14.4.2+git20190427-2+deb11u2ubuntu0.22.04.1) ...\n",
            "Setting up libwavpack1:amd64 (5.4.0-1build2) ...\n",
            "Setting up libopencore-amrnb0:amd64 (0.1.5-1) ...\n",
            "Setting up libsox-fmt-base:amd64 (14.4.2+git20190427-2+deb11u2ubuntu0.22.04.1) ...\n",
            "Setting up sox (14.4.2+git20190427-2+deb11u2ubuntu0.22.04.1) ...\n",
            "Processing triggers for man-db (2.10.2-1) ...\n",
            "Processing triggers for libc-bin (2.35-0ubuntu3.4) ...\n",
            "/sbin/ldconfig.real: /usr/local/lib/libtbbbind.so.3 is not a symbolic link\n",
            "\n",
            "/sbin/ldconfig.real: /usr/local/lib/libtbbbind_2_5.so.3 is not a symbolic link\n",
            "\n",
            "/sbin/ldconfig.real: /usr/local/lib/libtbb.so.12 is not a symbolic link\n",
            "\n",
            "/sbin/ldconfig.real: /usr/local/lib/libtbbmalloc.so.2 is not a symbolic link\n",
            "\n",
            "/sbin/ldconfig.real: /usr/local/lib/libtbbbind_2_0.so.3 is not a symbolic link\n",
            "\n",
            "/sbin/ldconfig.real: /usr/local/lib/libtbbmalloc_proxy.so.2 is not a symbolic link\n",
            "\n"
          ]
        }
      ]
    },
    {
      "cell_type": "code",
      "source": [
        " !pip install s3prl@git+https://github.com/s3prl/s3prl.git@7ab62aaf2606d83da6c71ee74e7d16e0979edbc3#egg=s3prl"
      ],
      "metadata": {
        "colab": {
          "base_uri": "https://localhost:8080/"
        },
        "id": "vIkw82otEB6V",
        "outputId": "88f5590e-3d7a-4cae-f462-93b19fc8fdca"
      },
      "execution_count": 8,
      "outputs": [
        {
          "output_type": "stream",
          "name": "stdout",
          "text": [
            "Collecting s3prl@ git+https://github.com/s3prl/s3prl.git@7ab62aaf2606d83da6c71ee74e7d16e0979edbc3#egg=s3prl\n",
            "  Cloning https://github.com/s3prl/s3prl.git (to revision 7ab62aaf2606d83da6c71ee74e7d16e0979edbc3) to /tmp/pip-install-lllup4fs/s3prl_72c817f8eb2d4332a3658c6e89fad119\n",
            "  Running command git clone --filter=blob:none --quiet https://github.com/s3prl/s3prl.git /tmp/pip-install-lllup4fs/s3prl_72c817f8eb2d4332a3658c6e89fad119\n",
            "  Running command git rev-parse -q --verify 'sha^7ab62aaf2606d83da6c71ee74e7d16e0979edbc3'\n",
            "  Running command git fetch -q https://github.com/s3prl/s3prl.git 7ab62aaf2606d83da6c71ee74e7d16e0979edbc3\n",
            "  Running command git checkout -q 7ab62aaf2606d83da6c71ee74e7d16e0979edbc3\n",
            "  Resolved https://github.com/s3prl/s3prl.git to commit 7ab62aaf2606d83da6c71ee74e7d16e0979edbc3\n",
            "  Preparing metadata (setup.py) ... \u001b[?25l\u001b[?25hdone\n",
            "Collecting huggingface_hub@ git+https://github.com/huggingface/huggingface_hub.git#egg=huggingface_hub (from s3prl@ git+https://github.com/s3prl/s3prl.git@7ab62aaf2606d83da6c71ee74e7d16e0979edbc3#egg=s3prl)\n",
            "  Cloning https://github.com/huggingface/huggingface_hub.git to /tmp/pip-install-lllup4fs/huggingface-hub_adaf511f0b384ed1908fd6e4b7ea6b01\n",
            "  Running command git clone --filter=blob:none --quiet https://github.com/huggingface/huggingface_hub.git /tmp/pip-install-lllup4fs/huggingface-hub_adaf511f0b384ed1908fd6e4b7ea6b01\n",
            "  Resolved https://github.com/huggingface/huggingface_hub.git to commit 619ffd05370ba96a4192488821688e9fa19712ee\n",
            "  Installing build dependencies ... \u001b[?25l\u001b[?25hdone\n",
            "  Getting requirements to build wheel ... \u001b[?25l\u001b[?25hdone\n",
            "  Preparing metadata (pyproject.toml) ... \u001b[?25l\u001b[?25hdone\n",
            "Requirement already satisfied: torch!=1.10.0,>=1.7.0 in /usr/local/lib/python3.10/dist-packages (from s3prl@ git+https://github.com/s3prl/s3prl.git@7ab62aaf2606d83da6c71ee74e7d16e0979edbc3#egg=s3prl) (2.2.1+cu121)\n",
            "Requirement already satisfied: torchaudio>=0.7.0 in /usr/local/lib/python3.10/dist-packages (from s3prl@ git+https://github.com/s3prl/s3prl.git@7ab62aaf2606d83da6c71ee74e7d16e0979edbc3#egg=s3prl) (2.2.1+cu121)\n",
            "Requirement already satisfied: torchvision>=0.8.0 in /usr/local/lib/python3.10/dist-packages (from s3prl@ git+https://github.com/s3prl/s3prl.git@7ab62aaf2606d83da6c71ee74e7d16e0979edbc3#egg=s3prl) (0.17.1+cu121)\n",
            "Requirement already satisfied: joblib>=0.12.4 in /usr/local/lib/python3.10/dist-packages (from s3prl@ git+https://github.com/s3prl/s3prl.git@7ab62aaf2606d83da6c71ee74e7d16e0979edbc3#egg=s3prl) (1.3.2)\n",
            "Requirement already satisfied: librosa>=0.7.2 in /usr/local/lib/python3.10/dist-packages (from s3prl@ git+https://github.com/s3prl/s3prl.git@7ab62aaf2606d83da6c71ee74e7d16e0979edbc3#egg=s3prl) (0.10.1)\n",
            "Requirement already satisfied: scipy>=1.5.4 in /usr/local/lib/python3.10/dist-packages (from s3prl@ git+https://github.com/s3prl/s3prl.git@7ab62aaf2606d83da6c71ee74e7d16e0979edbc3#egg=s3prl) (1.11.4)\n",
            "Requirement already satisfied: scikit-learn>=0.23.2 in /usr/local/lib/python3.10/dist-packages (from s3prl@ git+https://github.com/s3prl/s3prl.git@7ab62aaf2606d83da6c71ee74e7d16e0979edbc3#egg=s3prl) (1.2.2)\n",
            "Requirement already satisfied: PyYAML>=5.4 in /usr/local/lib/python3.10/dist-packages (from s3prl@ git+https://github.com/s3prl/s3prl.git@7ab62aaf2606d83da6c71ee74e7d16e0979edbc3#egg=s3prl) (6.0.1)\n",
            "Requirement already satisfied: tqdm>=4.56.0 in /usr/local/lib/python3.10/dist-packages (from s3prl@ git+https://github.com/s3prl/s3prl.git@7ab62aaf2606d83da6c71ee74e7d16e0979edbc3#egg=s3prl) (4.66.2)\n",
            "Collecting numpy<1.21,>=1.19.5 (from s3prl@ git+https://github.com/s3prl/s3prl.git@7ab62aaf2606d83da6c71ee74e7d16e0979edbc3#egg=s3prl)\n",
            "  Downloading numpy-1.20.3.zip (7.8 MB)\n",
            "\u001b[2K     \u001b[90m━━━━━━━━━━━━━━━━━━━━━━━━━━━━━━━━━━━━━━━━\u001b[0m \u001b[32m7.8/7.8 MB\u001b[0m \u001b[31m20.8 MB/s\u001b[0m eta \u001b[36m0:00:00\u001b[0m\n",
            "\u001b[?25h  Installing build dependencies ... \u001b[?25l\u001b[?25hdone\n",
            "  Getting requirements to build wheel ... \u001b[?25l\u001b[?25hdone\n",
            "  Preparing metadata (pyproject.toml) ... \u001b[?25l\u001b[?25hdone\n",
            "Requirement already satisfied: pandas>=1.1.5 in /usr/local/lib/python3.10/dist-packages (from s3prl@ git+https://github.com/s3prl/s3prl.git@7ab62aaf2606d83da6c71ee74e7d16e0979edbc3#egg=s3prl) (2.0.3)\n",
            "Collecting tensorboardX<2.3,>=1.9 (from s3prl@ git+https://github.com/s3prl/s3prl.git@7ab62aaf2606d83da6c71ee74e7d16e0979edbc3#egg=s3prl)\n",
            "  Downloading tensorboardX-2.2-py2.py3-none-any.whl (120 kB)\n",
            "\u001b[2K     \u001b[90m━━━━━━━━━━━━━━━━━━━━━━━━━━━━━━━━━━━━━━━━\u001b[0m \u001b[32m120.5/120.5 kB\u001b[0m \u001b[31m14.7 MB/s\u001b[0m eta \u001b[36m0:00:00\u001b[0m\n",
            "\u001b[?25hRequirement already satisfied: matplotlib>=3.3.4 in /usr/local/lib/python3.10/dist-packages (from s3prl@ git+https://github.com/s3prl/s3prl.git@7ab62aaf2606d83da6c71ee74e7d16e0979edbc3#egg=s3prl) (3.7.1)\n",
            "Requirement already satisfied: Pillow>=6.2.2 in /usr/local/lib/python3.10/dist-packages (from s3prl@ git+https://github.com/s3prl/s3prl.git@7ab62aaf2606d83da6c71ee74e7d16e0979edbc3#egg=s3prl) (9.4.0)\n",
            "Requirement already satisfied: numba>=0.48 in /usr/local/lib/python3.10/dist-packages (from s3prl@ git+https://github.com/s3prl/s3prl.git@7ab62aaf2606d83da6c71ee74e7d16e0979edbc3#egg=s3prl) (0.58.1)\n",
            "Requirement already satisfied: gdown>=3.12.2 in /usr/local/lib/python3.10/dist-packages (from s3prl@ git+https://github.com/s3prl/s3prl.git@7ab62aaf2606d83da6c71ee74e7d16e0979edbc3#egg=s3prl) (4.7.3)\n",
            "Requirement already satisfied: cython>=0.29.21 in /usr/local/lib/python3.10/dist-packages (from s3prl@ git+https://github.com/s3prl/s3prl.git@7ab62aaf2606d83da6c71ee74e7d16e0979edbc3#egg=s3prl) (3.0.10)\n",
            "Requirement already satisfied: packaging>=20.9 in /usr/local/lib/python3.10/dist-packages (from s3prl@ git+https://github.com/s3prl/s3prl.git@7ab62aaf2606d83da6c71ee74e7d16e0979edbc3#egg=s3prl) (24.0)\n",
            "Requirement already satisfied: transformers<5.0,>=4.10.0 in /usr/local/lib/python3.10/dist-packages (from s3prl@ git+https://github.com/s3prl/s3prl.git@7ab62aaf2606d83da6c71ee74e7d16e0979edbc3#egg=s3prl) (4.38.2)\n",
            "Collecting dtw-python==1.1.6 (from s3prl@ git+https://github.com/s3prl/s3prl.git@7ab62aaf2606d83da6c71ee74e7d16e0979edbc3#egg=s3prl)\n",
            "  Downloading dtw-python-1.1.6.tar.gz (229 kB)\n",
            "\u001b[2K     \u001b[90m━━━━━━━━━━━━━━━━━━━━━━━━━━━━━━━━━━━━━━━━\u001b[0m \u001b[32m229.6/229.6 kB\u001b[0m \u001b[31m27.3 MB/s\u001b[0m eta \u001b[36m0:00:00\u001b[0m\n",
            "\u001b[?25h  Installing build dependencies ... \u001b[?25l\u001b[?25hdone\n",
            "  Getting requirements to build wheel ... \u001b[?25l\u001b[?25hdone\n",
            "  Preparing metadata (pyproject.toml) ... \u001b[?25l\u001b[?25hdone\n",
            "Collecting asteroid==0.4.4 (from s3prl@ git+https://github.com/s3prl/s3prl.git@7ab62aaf2606d83da6c71ee74e7d16e0979edbc3#egg=s3prl)\n",
            "  Downloading asteroid-0.4.4-py3-none-any.whl (233 kB)\n",
            "\u001b[2K     \u001b[90m━━━━━━━━━━━━━━━━━━━━━━━━━━━━━━━━━━━━━━━━\u001b[0m \u001b[32m233.6/233.6 kB\u001b[0m \u001b[31m29.5 MB/s\u001b[0m eta \u001b[36m0:00:00\u001b[0m\n",
            "\u001b[?25hRequirement already satisfied: sacrebleu>=2.0.0 in /usr/local/lib/python3.10/dist-packages (from s3prl@ git+https://github.com/s3prl/s3prl.git@7ab62aaf2606d83da6c71ee74e7d16e0979edbc3#egg=s3prl) (2.4.1)\n",
            "Collecting kaldi_io (from s3prl@ git+https://github.com/s3prl/s3prl.git@7ab62aaf2606d83da6c71ee74e7d16e0979edbc3#egg=s3prl)\n",
            "  Downloading kaldi_io-0.9.8-py3-none-any.whl (16 kB)\n",
            "Requirement already satisfied: h5py in /usr/local/lib/python3.10/dist-packages (from s3prl@ git+https://github.com/s3prl/s3prl.git@7ab62aaf2606d83da6c71ee74e7d16e0979edbc3#egg=s3prl) (3.9.0)\n",
            "Collecting sox (from s3prl@ git+https://github.com/s3prl/s3prl.git@7ab62aaf2606d83da6c71ee74e7d16e0979edbc3#egg=s3prl)\n",
            "  Downloading sox-1.5.0.tar.gz (63 kB)\n",
            "\u001b[2K     \u001b[90m━━━━━━━━━━━━━━━━━━━━━━━━━━━━━━━━━━━━━━━━\u001b[0m \u001b[32m63.9/63.9 kB\u001b[0m \u001b[31m9.3 MB/s\u001b[0m eta \u001b[36m0:00:00\u001b[0m\n",
            "\u001b[?25h  Preparing metadata (setup.py) ... \u001b[?25l\u001b[?25hdone\n",
            "Requirement already satisfied: tabulate in /usr/local/lib/python3.10/dist-packages (from s3prl@ git+https://github.com/s3prl/s3prl.git@7ab62aaf2606d83da6c71ee74e7d16e0979edbc3#egg=s3prl) (0.9.0)\n",
            "Collecting intervaltree (from s3prl@ git+https://github.com/s3prl/s3prl.git@7ab62aaf2606d83da6c71ee74e7d16e0979edbc3#egg=s3prl)\n",
            "  Downloading intervaltree-3.1.0.tar.gz (32 kB)\n",
            "  Preparing metadata (setup.py) ... \u001b[?25l\u001b[?25hdone\n",
            "Requirement already satisfied: lxml in /usr/local/lib/python3.10/dist-packages (from s3prl@ git+https://github.com/s3prl/s3prl.git@7ab62aaf2606d83da6c71ee74e7d16e0979edbc3#egg=s3prl) (4.9.4)\n",
            "Requirement already satisfied: soundfile in /usr/local/lib/python3.10/dist-packages (from s3prl@ git+https://github.com/s3prl/s3prl.git@7ab62aaf2606d83da6c71ee74e7d16e0979edbc3#egg=s3prl) (0.12.1)\n",
            "Collecting pysndfx (from s3prl@ git+https://github.com/s3prl/s3prl.git@7ab62aaf2606d83da6c71ee74e7d16e0979edbc3#egg=s3prl)\n",
            "  Downloading pysndfx-0.3.6.tar.gz (5.9 kB)\n",
            "  Preparing metadata (setup.py) ... \u001b[?25l\u001b[?25hdone\n",
            "Requirement already satisfied: nltk in /usr/local/lib/python3.10/dist-packages (from s3prl@ git+https://github.com/s3prl/s3prl.git@7ab62aaf2606d83da6c71ee74e7d16e0979edbc3#egg=s3prl) (3.8.1)\n",
            "Collecting normalise (from s3prl@ git+https://github.com/s3prl/s3prl.git@7ab62aaf2606d83da6c71ee74e7d16e0979edbc3#egg=s3prl)\n",
            "  Downloading normalise-0.1.8-py3-none-any.whl (15.7 MB)\n",
            "\u001b[2K     \u001b[90m━━━━━━━━━━━━━━━━━━━━━━━━━━━━━━━━━━━━━━━━\u001b[0m \u001b[32m15.7/15.7 MB\u001b[0m \u001b[31m22.1 MB/s\u001b[0m eta \u001b[36m0:00:00\u001b[0m\n",
            "\u001b[?25hRequirement already satisfied: editdistance in /usr/local/lib/python3.10/dist-packages (from s3prl@ git+https://github.com/s3prl/s3prl.git@7ab62aaf2606d83da6c71ee74e7d16e0979edbc3#egg=s3prl) (0.6.2)\n",
            "Requirement already satisfied: easydict in /usr/local/lib/python3.10/dist-packages (from s3prl@ git+https://github.com/s3prl/s3prl.git@7ab62aaf2606d83da6c71ee74e7d16e0979edbc3#egg=s3prl) (1.13)\n",
            "Collecting catalyst (from s3prl@ git+https://github.com/s3prl/s3prl.git@7ab62aaf2606d83da6c71ee74e7d16e0979edbc3#egg=s3prl)\n",
            "  Downloading catalyst-22.4-py2.py3-none-any.whl (446 kB)\n",
            "\u001b[2K     \u001b[90m━━━━━━━━━━━━━━━━━━━━━━━━━━━━━━━━━━━━━━━━\u001b[0m \u001b[32m446.7/446.7 kB\u001b[0m \u001b[31m46.0 MB/s\u001b[0m eta \u001b[36m0:00:00\u001b[0m\n",
            "\u001b[?25hRequirement already satisfied: sentencepiece in /usr/local/lib/python3.10/dist-packages (from s3prl@ git+https://github.com/s3prl/s3prl.git@7ab62aaf2606d83da6c71ee74e7d16e0979edbc3#egg=s3prl) (0.1.96)\n",
            "Collecting asteroid-filterbanks>=0.2.4 (from asteroid==0.4.4->s3prl@ git+https://github.com/s3prl/s3prl.git@7ab62aaf2606d83da6c71ee74e7d16e0979edbc3#egg=s3prl)\n",
            "  Downloading asteroid_filterbanks-0.4.0-py3-none-any.whl (29 kB)\n",
            "Collecting pytorch-lightning>=1.0.1 (from asteroid==0.4.4->s3prl@ git+https://github.com/s3prl/s3prl.git@7ab62aaf2606d83da6c71ee74e7d16e0979edbc3#egg=s3prl)\n",
            "  Downloading pytorch_lightning-2.2.1-py3-none-any.whl (801 kB)\n",
            "\u001b[2K     \u001b[90m━━━━━━━━━━━━━━━━━━━━━━━━━━━━━━━━━━━━━━━━\u001b[0m \u001b[32m801.6/801.6 kB\u001b[0m \u001b[31m66.4 MB/s\u001b[0m eta \u001b[36m0:00:00\u001b[0m\n",
            "\u001b[?25hCollecting pb-bss-eval>=0.0.2 (from asteroid==0.4.4->s3prl@ git+https://github.com/s3prl/s3prl.git@7ab62aaf2606d83da6c71ee74e7d16e0979edbc3#egg=s3prl)\n",
            "  Downloading pb_bss_eval-0.0.2-py3-none-any.whl (14 kB)\n",
            "Collecting torch-stoi>=0.1.2 (from asteroid==0.4.4->s3prl@ git+https://github.com/s3prl/s3prl.git@7ab62aaf2606d83da6c71ee74e7d16e0979edbc3#egg=s3prl)\n",
            "  Downloading torch_stoi-0.2.1-py3-none-any.whl (7.8 kB)\n",
            "Collecting torch-optimizer>=0.0.1a12 (from asteroid==0.4.4->s3prl@ git+https://github.com/s3prl/s3prl.git@7ab62aaf2606d83da6c71ee74e7d16e0979edbc3#egg=s3prl)\n",
            "  Downloading torch_optimizer-0.3.0-py3-none-any.whl (61 kB)\n",
            "\u001b[2K     \u001b[90m━━━━━━━━━━━━━━━━━━━━━━━━━━━━━━━━━━━━━━━━\u001b[0m \u001b[32m61.9/61.9 kB\u001b[0m \u001b[31m9.1 MB/s\u001b[0m eta \u001b[36m0:00:00\u001b[0m\n",
            "\u001b[?25hCollecting julius (from asteroid==0.4.4->s3prl@ git+https://github.com/s3prl/s3prl.git@7ab62aaf2606d83da6c71ee74e7d16e0979edbc3#egg=s3prl)\n",
            "  Downloading julius-0.2.7.tar.gz (59 kB)\n",
            "\u001b[2K     \u001b[90m━━━━━━━━━━━━━━━━━━━━━━━━━━━━━━━━━━━━━━━━\u001b[0m \u001b[32m59.6/59.6 kB\u001b[0m \u001b[31m8.3 MB/s\u001b[0m eta \u001b[36m0:00:00\u001b[0m\n",
            "\u001b[?25h  Preparing metadata (setup.py) ... \u001b[?25l\u001b[?25hdone\n",
            "Requirement already satisfied: filelock in /usr/local/lib/python3.10/dist-packages (from gdown>=3.12.2->s3prl@ git+https://github.com/s3prl/s3prl.git@7ab62aaf2606d83da6c71ee74e7d16e0979edbc3#egg=s3prl) (3.13.3)\n",
            "Requirement already satisfied: requests[socks] in /usr/local/lib/python3.10/dist-packages (from gdown>=3.12.2->s3prl@ git+https://github.com/s3prl/s3prl.git@7ab62aaf2606d83da6c71ee74e7d16e0979edbc3#egg=s3prl) (2.31.0)\n",
            "Requirement already satisfied: six in /usr/local/lib/python3.10/dist-packages (from gdown>=3.12.2->s3prl@ git+https://github.com/s3prl/s3prl.git@7ab62aaf2606d83da6c71ee74e7d16e0979edbc3#egg=s3prl) (1.16.0)\n",
            "Requirement already satisfied: beautifulsoup4 in /usr/local/lib/python3.10/dist-packages (from gdown>=3.12.2->s3prl@ git+https://github.com/s3prl/s3prl.git@7ab62aaf2606d83da6c71ee74e7d16e0979edbc3#egg=s3prl) (4.12.3)\n",
            "Requirement already satisfied: fsspec>=2023.5.0 in /usr/local/lib/python3.10/dist-packages (from huggingface_hub@ git+https://github.com/huggingface/huggingface_hub.git#egg=huggingface_hub->s3prl@ git+https://github.com/s3prl/s3prl.git@7ab62aaf2606d83da6c71ee74e7d16e0979edbc3#egg=s3prl) (2023.6.0)\n",
            "Requirement already satisfied: typing-extensions>=3.7.4.3 in /usr/local/lib/python3.10/dist-packages (from huggingface_hub@ git+https://github.com/huggingface/huggingface_hub.git#egg=huggingface_hub->s3prl@ git+https://github.com/s3prl/s3prl.git@7ab62aaf2606d83da6c71ee74e7d16e0979edbc3#egg=s3prl) (4.10.0)\n",
            "Requirement already satisfied: audioread>=2.1.9 in /usr/local/lib/python3.10/dist-packages (from librosa>=0.7.2->s3prl@ git+https://github.com/s3prl/s3prl.git@7ab62aaf2606d83da6c71ee74e7d16e0979edbc3#egg=s3prl) (3.0.1)\n",
            "Requirement already satisfied: decorator>=4.3.0 in /usr/local/lib/python3.10/dist-packages (from librosa>=0.7.2->s3prl@ git+https://github.com/s3prl/s3prl.git@7ab62aaf2606d83da6c71ee74e7d16e0979edbc3#egg=s3prl) (4.4.2)\n",
            "Requirement already satisfied: pooch>=1.0 in /usr/local/lib/python3.10/dist-packages (from librosa>=0.7.2->s3prl@ git+https://github.com/s3prl/s3prl.git@7ab62aaf2606d83da6c71ee74e7d16e0979edbc3#egg=s3prl) (1.8.1)\n",
            "Requirement already satisfied: soxr>=0.3.2 in /usr/local/lib/python3.10/dist-packages (from librosa>=0.7.2->s3prl@ git+https://github.com/s3prl/s3prl.git@7ab62aaf2606d83da6c71ee74e7d16e0979edbc3#egg=s3prl) (0.3.7)\n",
            "Requirement already satisfied: lazy-loader>=0.1 in /usr/local/lib/python3.10/dist-packages (from librosa>=0.7.2->s3prl@ git+https://github.com/s3prl/s3prl.git@7ab62aaf2606d83da6c71ee74e7d16e0979edbc3#egg=s3prl) (0.3)\n",
            "Requirement already satisfied: msgpack>=1.0 in /usr/local/lib/python3.10/dist-packages (from librosa>=0.7.2->s3prl@ git+https://github.com/s3prl/s3prl.git@7ab62aaf2606d83da6c71ee74e7d16e0979edbc3#egg=s3prl) (1.0.8)\n",
            "Requirement already satisfied: contourpy>=1.0.1 in /usr/local/lib/python3.10/dist-packages (from matplotlib>=3.3.4->s3prl@ git+https://github.com/s3prl/s3prl.git@7ab62aaf2606d83da6c71ee74e7d16e0979edbc3#egg=s3prl) (1.2.0)\n",
            "Requirement already satisfied: cycler>=0.10 in /usr/local/lib/python3.10/dist-packages (from matplotlib>=3.3.4->s3prl@ git+https://github.com/s3prl/s3prl.git@7ab62aaf2606d83da6c71ee74e7d16e0979edbc3#egg=s3prl) (0.12.1)\n",
            "Requirement already satisfied: fonttools>=4.22.0 in /usr/local/lib/python3.10/dist-packages (from matplotlib>=3.3.4->s3prl@ git+https://github.com/s3prl/s3prl.git@7ab62aaf2606d83da6c71ee74e7d16e0979edbc3#egg=s3prl) (4.50.0)\n",
            "Requirement already satisfied: kiwisolver>=1.0.1 in /usr/local/lib/python3.10/dist-packages (from matplotlib>=3.3.4->s3prl@ git+https://github.com/s3prl/s3prl.git@7ab62aaf2606d83da6c71ee74e7d16e0979edbc3#egg=s3prl) (1.4.5)\n",
            "Requirement already satisfied: pyparsing>=2.3.1 in /usr/local/lib/python3.10/dist-packages (from matplotlib>=3.3.4->s3prl@ git+https://github.com/s3prl/s3prl.git@7ab62aaf2606d83da6c71ee74e7d16e0979edbc3#egg=s3prl) (3.1.2)\n",
            "Requirement already satisfied: python-dateutil>=2.7 in /usr/local/lib/python3.10/dist-packages (from matplotlib>=3.3.4->s3prl@ git+https://github.com/s3prl/s3prl.git@7ab62aaf2606d83da6c71ee74e7d16e0979edbc3#egg=s3prl) (2.8.2)\n",
            "Requirement already satisfied: llvmlite<0.42,>=0.41.0dev0 in /usr/local/lib/python3.10/dist-packages (from numba>=0.48->s3prl@ git+https://github.com/s3prl/s3prl.git@7ab62aaf2606d83da6c71ee74e7d16e0979edbc3#egg=s3prl) (0.41.1)\n",
            "INFO: pip is looking at multiple versions of numba to determine which version is compatible with other requirements. This could take a while.\n",
            "Collecting numba>=0.48 (from s3prl@ git+https://github.com/s3prl/s3prl.git@7ab62aaf2606d83da6c71ee74e7d16e0979edbc3#egg=s3prl)\n",
            "  Downloading numba-0.59.1-cp310-cp310-manylinux2014_x86_64.manylinux_2_17_x86_64.whl (3.7 MB)\n",
            "\u001b[2K     \u001b[90m━━━━━━━━━━━━━━━━━━━━━━━━━━━━━━━━━━━━━━━━\u001b[0m \u001b[32m3.7/3.7 MB\u001b[0m \u001b[31m96.8 MB/s\u001b[0m eta \u001b[36m0:00:00\u001b[0m\n",
            "\u001b[?25hCollecting llvmlite<0.43,>=0.42.0dev0 (from numba>=0.48->s3prl@ git+https://github.com/s3prl/s3prl.git@7ab62aaf2606d83da6c71ee74e7d16e0979edbc3#egg=s3prl)\n",
            "  Downloading llvmlite-0.42.0-cp310-cp310-manylinux_2_17_x86_64.manylinux2014_x86_64.whl (43.8 MB)\n",
            "\u001b[2K     \u001b[90m━━━━━━━━━━━━━━━━━━━━━━━━━━━━━━━━━━━━━━━━\u001b[0m \u001b[32m43.8/43.8 MB\u001b[0m \u001b[31m19.4 MB/s\u001b[0m eta \u001b[36m0:00:00\u001b[0m\n",
            "\u001b[?25hCollecting numba>=0.48 (from s3prl@ git+https://github.com/s3prl/s3prl.git@7ab62aaf2606d83da6c71ee74e7d16e0979edbc3#egg=s3prl)\n",
            "  Downloading numba-0.59.0-cp310-cp310-manylinux2014_x86_64.manylinux_2_17_x86_64.whl (3.7 MB)\n",
            "\u001b[2K     \u001b[90m━━━━━━━━━━━━━━━━━━━━━━━━━━━━━━━━━━━━━━━━\u001b[0m \u001b[32m3.7/3.7 MB\u001b[0m \u001b[31m100.1 MB/s\u001b[0m eta \u001b[36m0:00:00\u001b[0m\n",
            "\u001b[?25h  Downloading numba-0.58.0-cp310-cp310-manylinux2014_x86_64.manylinux_2_17_x86_64.whl (3.6 MB)\n",
            "\u001b[2K     \u001b[90m━━━━━━━━━━━━━━━━━━━━━━━━━━━━━━━━━━━━━━━━\u001b[0m \u001b[32m3.6/3.6 MB\u001b[0m \u001b[31m39.4 MB/s\u001b[0m eta \u001b[36m0:00:00\u001b[0m\n",
            "\u001b[?25h  Downloading numba-0.57.1-cp310-cp310-manylinux2014_x86_64.manylinux_2_17_x86_64.whl (3.6 MB)\n",
            "\u001b[2K     \u001b[90m━━━━━━━━━━━━━━━━━━━━━━━━━━━━━━━━━━━━━━━━\u001b[0m \u001b[32m3.6/3.6 MB\u001b[0m \u001b[31m95.5 MB/s\u001b[0m eta \u001b[36m0:00:00\u001b[0m\n",
            "\u001b[?25hCollecting llvmlite<0.41,>=0.40.0dev0 (from numba>=0.48->s3prl@ git+https://github.com/s3prl/s3prl.git@7ab62aaf2606d83da6c71ee74e7d16e0979edbc3#egg=s3prl)\n",
            "  Downloading llvmlite-0.40.1-cp310-cp310-manylinux_2_17_x86_64.manylinux2014_x86_64.whl (42.1 MB)\n",
            "\u001b[2K     \u001b[90m━━━━━━━━━━━━━━━━━━━━━━━━━━━━━━━━━━━━━━━━\u001b[0m \u001b[32m42.1/42.1 MB\u001b[0m \u001b[31m11.5 MB/s\u001b[0m eta \u001b[36m0:00:00\u001b[0m\n",
            "\u001b[?25hCollecting numba>=0.48 (from s3prl@ git+https://github.com/s3prl/s3prl.git@7ab62aaf2606d83da6c71ee74e7d16e0979edbc3#egg=s3prl)\n",
            "  Downloading numba-0.57.0-cp310-cp310-manylinux2014_x86_64.manylinux_2_17_x86_64.whl (3.6 MB)\n",
            "\u001b[2K     \u001b[90m━━━━━━━━━━━━━━━━━━━━━━━━━━━━━━━━━━━━━━━━\u001b[0m \u001b[32m3.6/3.6 MB\u001b[0m \u001b[31m61.9 MB/s\u001b[0m eta \u001b[36m0:00:00\u001b[0m\n",
            "\u001b[?25h  Downloading numba-0.56.4-cp310-cp310-manylinux2014_x86_64.manylinux_2_17_x86_64.whl (3.5 MB)\n",
            "\u001b[2K     \u001b[90m━━━━━━━━━━━━━━━━━━━━━━━━━━━━━━━━━━━━━━━━\u001b[0m \u001b[32m3.5/3.5 MB\u001b[0m \u001b[31m85.0 MB/s\u001b[0m eta \u001b[36m0:00:00\u001b[0m\n",
            "\u001b[?25hCollecting llvmlite<0.40,>=0.39.0dev0 (from numba>=0.48->s3prl@ git+https://github.com/s3prl/s3prl.git@7ab62aaf2606d83da6c71ee74e7d16e0979edbc3#egg=s3prl)\n",
            "  Downloading llvmlite-0.39.1-cp310-cp310-manylinux_2_17_x86_64.manylinux2014_x86_64.whl (34.6 MB)\n",
            "\u001b[2K     \u001b[90m━━━━━━━━━━━━━━━━━━━━━━━━━━━━━━━━━━━━━━━━\u001b[0m \u001b[32m34.6/34.6 MB\u001b[0m \u001b[31m32.6 MB/s\u001b[0m eta \u001b[36m0:00:00\u001b[0m\n",
            "\u001b[?25hRequirement already satisfied: setuptools in /usr/local/lib/python3.10/dist-packages (from numba>=0.48->s3prl@ git+https://github.com/s3prl/s3prl.git@7ab62aaf2606d83da6c71ee74e7d16e0979edbc3#egg=s3prl) (67.7.2)\n",
            "Requirement already satisfied: pytz>=2020.1 in /usr/local/lib/python3.10/dist-packages (from pandas>=1.1.5->s3prl@ git+https://github.com/s3prl/s3prl.git@7ab62aaf2606d83da6c71ee74e7d16e0979edbc3#egg=s3prl) (2023.4)\n",
            "Requirement already satisfied: tzdata>=2022.1 in /usr/local/lib/python3.10/dist-packages (from pandas>=1.1.5->s3prl@ git+https://github.com/s3prl/s3prl.git@7ab62aaf2606d83da6c71ee74e7d16e0979edbc3#egg=s3prl) (2024.1)\n",
            "INFO: pip is looking at multiple versions of pandas to determine which version is compatible with other requirements. This could take a while.\n",
            "Collecting pandas>=1.1.5 (from s3prl@ git+https://github.com/s3prl/s3prl.git@7ab62aaf2606d83da6c71ee74e7d16e0979edbc3#egg=s3prl)\n",
            "  Downloading pandas-2.2.1-cp310-cp310-manylinux_2_17_x86_64.manylinux2014_x86_64.whl (13.0 MB)\n",
            "\u001b[2K     \u001b[90m━━━━━━━━━━━━━━━━━━━━━━━━━━━━━━━━━━━━━━━━\u001b[0m \u001b[32m13.0/13.0 MB\u001b[0m \u001b[31m70.4 MB/s\u001b[0m eta \u001b[36m0:00:00\u001b[0m\n",
            "\u001b[?25h  Downloading pandas-2.2.0-cp310-cp310-manylinux_2_17_x86_64.manylinux2014_x86_64.whl (13.0 MB)\n",
            "\u001b[2K     \u001b[90m━━━━━━━━━━━━━━━━━━━━━━━━━━━━━━━━━━━━━━━━\u001b[0m \u001b[32m13.0/13.0 MB\u001b[0m \u001b[31m70.2 MB/s\u001b[0m eta \u001b[36m0:00:00\u001b[0m\n",
            "\u001b[?25h  Downloading pandas-2.1.4-cp310-cp310-manylinux_2_17_x86_64.manylinux2014_x86_64.whl (12.3 MB)\n",
            "\u001b[2K     \u001b[90m━━━━━━━━━━━━━━━━━━━━━━━━━━━━━━━━━━━━━━━━\u001b[0m \u001b[32m12.3/12.3 MB\u001b[0m \u001b[31m79.5 MB/s\u001b[0m eta \u001b[36m0:00:00\u001b[0m\n",
            "\u001b[?25h  Downloading pandas-2.1.3-cp310-cp310-manylinux_2_17_x86_64.manylinux2014_x86_64.whl (12.3 MB)\n",
            "\u001b[2K     \u001b[90m━━━━━━━━━━━━━━━━━━━━━━━━━━━━━━━━━━━━━━━━\u001b[0m \u001b[32m12.3/12.3 MB\u001b[0m \u001b[31m23.0 MB/s\u001b[0m eta \u001b[36m0:00:00\u001b[0m\n",
            "\u001b[?25h  Downloading pandas-2.1.2-cp310-cp310-manylinux_2_17_x86_64.manylinux2014_x86_64.whl (12.3 MB)\n",
            "\u001b[2K     \u001b[90m━━━━━━━━━━━━━━━━━━━━━━━━━━━━━━━━━━━━━━━━\u001b[0m \u001b[32m12.3/12.3 MB\u001b[0m \u001b[31m103.7 MB/s\u001b[0m eta \u001b[36m0:00:00\u001b[0m\n",
            "\u001b[?25h  Downloading pandas-2.1.1-cp310-cp310-manylinux_2_17_x86_64.manylinux2014_x86_64.whl (12.3 MB)\n",
            "\u001b[2K     \u001b[90m━━━━━━━━━━━━━━━━━━━━━━━━━━━━━━━━━━━━━━━━\u001b[0m \u001b[32m12.3/12.3 MB\u001b[0m \u001b[31m110.0 MB/s\u001b[0m eta \u001b[36m0:00:00\u001b[0m\n",
            "\u001b[?25h  Downloading pandas-2.1.0-cp310-cp310-manylinux_2_17_x86_64.manylinux2014_x86_64.whl (12.7 MB)\n",
            "\u001b[2K     \u001b[90m━━━━━━━━━━━━━━━━━━━━━━━━━━━━━━━━━━━━━━━━\u001b[0m \u001b[32m12.7/12.7 MB\u001b[0m \u001b[31m104.3 MB/s\u001b[0m eta \u001b[36m0:00:00\u001b[0m\n",
            "\u001b[?25hINFO: pip is looking at multiple versions of pandas to determine which version is compatible with other requirements. This could take a while.\n",
            "  Downloading pandas-2.0.2-cp310-cp310-manylinux_2_17_x86_64.manylinux2014_x86_64.whl (12.3 MB)\n",
            "\u001b[2K     \u001b[90m━━━━━━━━━━━━━━━━━━━━━━━━━━━━━━━━━━━━━━━━\u001b[0m \u001b[32m12.3/12.3 MB\u001b[0m \u001b[31m100.2 MB/s\u001b[0m eta \u001b[36m0:00:00\u001b[0m\n",
            "\u001b[?25h  Downloading pandas-2.0.1-cp310-cp310-manylinux_2_17_x86_64.manylinux2014_x86_64.whl (12.3 MB)\n",
            "\u001b[2K     \u001b[90m━━━━━━━━━━━━━━━━━━━━━━━━━━━━━━━━━━━━━━━━\u001b[0m \u001b[32m12.3/12.3 MB\u001b[0m \u001b[31m89.9 MB/s\u001b[0m eta \u001b[36m0:00:00\u001b[0m\n",
            "\u001b[?25h  Downloading pandas-2.0.0-cp310-cp310-manylinux_2_17_x86_64.manylinux2014_x86_64.whl (12.3 MB)\n",
            "\u001b[2K     \u001b[90m━━━━━━━━━━━━━━━━━━━━━━━━━━━━━━━━━━━━━━━━\u001b[0m \u001b[32m12.3/12.3 MB\u001b[0m \u001b[31m98.6 MB/s\u001b[0m eta \u001b[36m0:00:00\u001b[0m\n",
            "\u001b[?25h  Downloading pandas-1.5.3-cp310-cp310-manylinux_2_17_x86_64.manylinux2014_x86_64.whl (12.1 MB)\n",
            "\u001b[2K     \u001b[90m━━━━━━━━━━━━━━━━━━━━━━━━━━━━━━━━━━━━━━━━\u001b[0m \u001b[32m12.1/12.1 MB\u001b[0m \u001b[31m20.6 MB/s\u001b[0m eta \u001b[36m0:00:00\u001b[0m\n",
            "\u001b[?25h  Downloading pandas-1.5.2-cp310-cp310-manylinux_2_17_x86_64.manylinux2014_x86_64.whl (12.1 MB)\n",
            "\u001b[2K     \u001b[90m━━━━━━━━━━━━━━━━━━━━━━━━━━━━━━━━━━━━━━━━\u001b[0m \u001b[32m12.1/12.1 MB\u001b[0m \u001b[31m101.1 MB/s\u001b[0m eta \u001b[36m0:00:00\u001b[0m\n",
            "\u001b[?25hINFO: This is taking longer than usual. You might need to provide the dependency resolver with stricter constraints to reduce runtime. See https://pip.pypa.io/warnings/backtracking for guidance. If you want to abort this run, press Ctrl + C.\n",
            "  Downloading pandas-1.5.1-cp310-cp310-manylinux_2_17_x86_64.manylinux2014_x86_64.whl (12.1 MB)\n",
            "\u001b[2K     \u001b[90m━━━━━━━━━━━━━━━━━━━━━━━━━━━━━━━━━━━━━━━━\u001b[0m \u001b[32m12.1/12.1 MB\u001b[0m \u001b[31m114.3 MB/s\u001b[0m eta \u001b[36m0:00:00\u001b[0m\n",
            "\u001b[?25h  Downloading pandas-1.5.0-cp310-cp310-manylinux_2_17_x86_64.manylinux2014_x86_64.whl (12.1 MB)\n",
            "\u001b[2K     \u001b[90m━━━━━━━━━━━━━━━━━━━━━━━━━━━━━━━━━━━━━━━━\u001b[0m \u001b[32m12.1/12.1 MB\u001b[0m \u001b[31m101.2 MB/s\u001b[0m eta \u001b[36m0:00:00\u001b[0m\n",
            "\u001b[?25h  Downloading pandas-1.4.4-cp310-cp310-manylinux_2_17_x86_64.manylinux2014_x86_64.whl (11.6 MB)\n",
            "\u001b[2K     \u001b[90m━━━━━━━━━━━━━━━━━━━━━━━━━━━━━━━━━━━━━━━━\u001b[0m \u001b[32m11.6/11.6 MB\u001b[0m \u001b[31m110.0 MB/s\u001b[0m eta \u001b[36m0:00:00\u001b[0m\n",
            "\u001b[?25h  Downloading pandas-1.4.3-cp310-cp310-manylinux_2_17_x86_64.manylinux2014_x86_64.whl (11.6 MB)\n",
            "\u001b[2K     \u001b[90m━━━━━━━━━━━━━━━━━━━━━━━━━━━━━━━━━━━━━━━━\u001b[0m \u001b[32m11.6/11.6 MB\u001b[0m \u001b[31m106.1 MB/s\u001b[0m eta \u001b[36m0:00:00\u001b[0m\n",
            "\u001b[?25h  Downloading pandas-1.4.2-cp310-cp310-manylinux_2_17_x86_64.manylinux2014_x86_64.whl (11.7 MB)\n",
            "\u001b[2K     \u001b[90m━━━━━━━━━━━━━━━━━━━━━━━━━━━━━━━━━━━━━━━━\u001b[0m \u001b[32m11.7/11.7 MB\u001b[0m \u001b[31m84.3 MB/s\u001b[0m eta \u001b[36m0:00:00\u001b[0m\n",
            "\u001b[?25h  Downloading pandas-1.4.1-cp310-cp310-manylinux_2_17_x86_64.manylinux2014_x86_64.whl (11.7 MB)\n",
            "\u001b[2K     \u001b[90m━━━━━━━━━━━━━━━━━━━━━━━━━━━━━━━━━━━━━━━━\u001b[0m \u001b[32m11.7/11.7 MB\u001b[0m \u001b[31m23.8 MB/s\u001b[0m eta \u001b[36m0:00:00\u001b[0m\n",
            "\u001b[?25h  Downloading pandas-1.4.0-cp310-cp310-manylinux_2_17_x86_64.manylinux2014_x86_64.whl (11.7 MB)\n",
            "\u001b[2K     \u001b[90m━━━━━━━━━━━━━━━━━━━━━━━━━━━━━━━━━━━━━━━━\u001b[0m \u001b[32m11.7/11.7 MB\u001b[0m \u001b[31m106.0 MB/s\u001b[0m eta \u001b[36m0:00:00\u001b[0m\n",
            "\u001b[?25h  Downloading pandas-1.3.5-cp310-cp310-manylinux_2_17_x86_64.manylinux2014_x86_64.whl (11.5 MB)\n",
            "\u001b[2K     \u001b[90m━━━━━━━━━━━━━━━━━━━━━━━━━━━━━━━━━━━━━━━━\u001b[0m \u001b[32m11.5/11.5 MB\u001b[0m \u001b[31m108.0 MB/s\u001b[0m eta \u001b[36m0:00:00\u001b[0m\n",
            "\u001b[?25h  Downloading pandas-1.3.4-cp310-cp310-manylinux_2_17_x86_64.manylinux2014_x86_64.whl (11.5 MB)\n",
            "\u001b[2K     \u001b[90m━━━━━━━━━━━━━━━━━━━━━━━━━━━━━━━━━━━━━━━━\u001b[0m \u001b[32m11.5/11.5 MB\u001b[0m \u001b[31m109.2 MB/s\u001b[0m eta \u001b[36m0:00:00\u001b[0m\n",
            "\u001b[?25h  Downloading pandas-1.3.3-cp310-cp310-manylinux_2_17_x86_64.manylinux2014_x86_64.whl (11.5 MB)\n",
            "\u001b[2K     \u001b[90m━━━━━━━━━━━━━━━━━━━━━━━━━━━━━━━━━━━━━━━━\u001b[0m \u001b[32m11.5/11.5 MB\u001b[0m \u001b[31m103.7 MB/s\u001b[0m eta \u001b[36m0:00:00\u001b[0m\n",
            "\u001b[?25hRequirement already satisfied: portalocker in /usr/local/lib/python3.10/dist-packages (from sacrebleu>=2.0.0->s3prl@ git+https://github.com/s3prl/s3prl.git@7ab62aaf2606d83da6c71ee74e7d16e0979edbc3#egg=s3prl) (2.8.2)\n",
            "Requirement already satisfied: regex in /usr/local/lib/python3.10/dist-packages (from sacrebleu>=2.0.0->s3prl@ git+https://github.com/s3prl/s3prl.git@7ab62aaf2606d83da6c71ee74e7d16e0979edbc3#egg=s3prl) (2023.12.25)\n",
            "Requirement already satisfied: colorama in /usr/local/lib/python3.10/dist-packages (from sacrebleu>=2.0.0->s3prl@ git+https://github.com/s3prl/s3prl.git@7ab62aaf2606d83da6c71ee74e7d16e0979edbc3#egg=s3prl) (0.4.6)\n",
            "Requirement already satisfied: threadpoolctl>=2.0.0 in /usr/local/lib/python3.10/dist-packages (from scikit-learn>=0.23.2->s3prl@ git+https://github.com/s3prl/s3prl.git@7ab62aaf2606d83da6c71ee74e7d16e0979edbc3#egg=s3prl) (3.4.0)\n",
            "INFO: pip is looking at multiple versions of scipy to determine which version is compatible with other requirements. This could take a while.\n",
            "Collecting scipy>=1.5.4 (from s3prl@ git+https://github.com/s3prl/s3prl.git@7ab62aaf2606d83da6c71ee74e7d16e0979edbc3#egg=s3prl)\n",
            "  Downloading scipy-1.13.0-cp310-cp310-manylinux_2_17_x86_64.manylinux2014_x86_64.whl (38.6 MB)\n",
            "\u001b[2K     \u001b[90m━━━━━━━━━━━━━━━━━━━━━━━━━━━━━━━━━━━━━━━━\u001b[0m \u001b[32m38.6/38.6 MB\u001b[0m \u001b[31m11.8 MB/s\u001b[0m eta \u001b[36m0:00:00\u001b[0m\n",
            "\u001b[?25h  Downloading scipy-1.12.0-cp310-cp310-manylinux_2_17_x86_64.manylinux2014_x86_64.whl (38.4 MB)\n",
            "\u001b[2K     \u001b[90m━━━━━━━━━━━━━━━━━━━━━━━━━━━━━━━━━━━━━━━━\u001b[0m \u001b[32m38.4/38.4 MB\u001b[0m \u001b[31m38.4 MB/s\u001b[0m eta \u001b[36m0:00:00\u001b[0m\n",
            "\u001b[?25h  Downloading scipy-1.11.3-cp310-cp310-manylinux_2_17_x86_64.manylinux2014_x86_64.whl (36.4 MB)\n",
            "\u001b[2K     \u001b[90m━━━━━━━━━━━━━━━━━━━━━━━━━━━━━━━━━━━━━━━━\u001b[0m \u001b[32m36.4/36.4 MB\u001b[0m \u001b[31m15.0 MB/s\u001b[0m eta \u001b[36m0:00:00\u001b[0m\n",
            "\u001b[?25h  Downloading scipy-1.11.2-cp310-cp310-manylinux_2_17_x86_64.manylinux2014_x86_64.whl (36.3 MB)\n",
            "\u001b[2K     \u001b[90m━━━━━━━━━━━━━━━━━━━━━━━━━━━━━━━━━━━━━━━━\u001b[0m \u001b[32m36.3/36.3 MB\u001b[0m \u001b[31m16.1 MB/s\u001b[0m eta \u001b[36m0:00:00\u001b[0m\n",
            "\u001b[?25h  Downloading scipy-1.11.1-cp310-cp310-manylinux_2_17_x86_64.manylinux2014_x86_64.whl (36.3 MB)\n",
            "\u001b[2K     \u001b[90m━━━━━━━━━━━━━━━━━━━━━━━━━━━━━━━━━━━━━━━━\u001b[0m \u001b[32m36.3/36.3 MB\u001b[0m \u001b[31m30.5 MB/s\u001b[0m eta \u001b[36m0:00:00\u001b[0m\n",
            "\u001b[?25h  Downloading scipy-1.10.1-cp310-cp310-manylinux_2_17_x86_64.manylinux2014_x86_64.whl (34.4 MB)\n",
            "\u001b[2K     \u001b[90m━━━━━━━━━━━━━━━━━━━━━━━━━━━━━━━━━━━━━━━━\u001b[0m \u001b[32m34.4/34.4 MB\u001b[0m \u001b[31m15.0 MB/s\u001b[0m eta \u001b[36m0:00:00\u001b[0m\n",
            "\u001b[?25hRequirement already satisfied: cffi>=1.0 in /usr/local/lib/python3.10/dist-packages (from soundfile->s3prl@ git+https://github.com/s3prl/s3prl.git@7ab62aaf2606d83da6c71ee74e7d16e0979edbc3#egg=s3prl) (1.16.0)\n",
            "Requirement already satisfied: protobuf>=3.8.0 in /usr/local/lib/python3.10/dist-packages (from tensorboardX<2.3,>=1.9->s3prl@ git+https://github.com/s3prl/s3prl.git@7ab62aaf2606d83da6c71ee74e7d16e0979edbc3#egg=s3prl) (3.20.3)\n",
            "Requirement already satisfied: sympy in /usr/local/lib/python3.10/dist-packages (from torch!=1.10.0,>=1.7.0->s3prl@ git+https://github.com/s3prl/s3prl.git@7ab62aaf2606d83da6c71ee74e7d16e0979edbc3#egg=s3prl) (1.12)\n",
            "Requirement already satisfied: networkx in /usr/local/lib/python3.10/dist-packages (from torch!=1.10.0,>=1.7.0->s3prl@ git+https://github.com/s3prl/s3prl.git@7ab62aaf2606d83da6c71ee74e7d16e0979edbc3#egg=s3prl) (3.2.1)\n",
            "Requirement already satisfied: jinja2 in /usr/local/lib/python3.10/dist-packages (from torch!=1.10.0,>=1.7.0->s3prl@ git+https://github.com/s3prl/s3prl.git@7ab62aaf2606d83da6c71ee74e7d16e0979edbc3#egg=s3prl) (3.1.3)\n",
            "Requirement already satisfied: nvidia-cuda-nvrtc-cu12==12.1.105 in /usr/local/lib/python3.10/dist-packages (from torch!=1.10.0,>=1.7.0->s3prl@ git+https://github.com/s3prl/s3prl.git@7ab62aaf2606d83da6c71ee74e7d16e0979edbc3#egg=s3prl) (12.1.105)\n",
            "Requirement already satisfied: nvidia-cuda-runtime-cu12==12.1.105 in /usr/local/lib/python3.10/dist-packages (from torch!=1.10.0,>=1.7.0->s3prl@ git+https://github.com/s3prl/s3prl.git@7ab62aaf2606d83da6c71ee74e7d16e0979edbc3#egg=s3prl) (12.1.105)\n",
            "Requirement already satisfied: nvidia-cuda-cupti-cu12==12.1.105 in /usr/local/lib/python3.10/dist-packages (from torch!=1.10.0,>=1.7.0->s3prl@ git+https://github.com/s3prl/s3prl.git@7ab62aaf2606d83da6c71ee74e7d16e0979edbc3#egg=s3prl) (12.1.105)\n",
            "Requirement already satisfied: nvidia-cudnn-cu12==8.9.2.26 in /usr/local/lib/python3.10/dist-packages (from torch!=1.10.0,>=1.7.0->s3prl@ git+https://github.com/s3prl/s3prl.git@7ab62aaf2606d83da6c71ee74e7d16e0979edbc3#egg=s3prl) (8.9.2.26)\n",
            "Requirement already satisfied: nvidia-cublas-cu12==12.1.3.1 in /usr/local/lib/python3.10/dist-packages (from torch!=1.10.0,>=1.7.0->s3prl@ git+https://github.com/s3prl/s3prl.git@7ab62aaf2606d83da6c71ee74e7d16e0979edbc3#egg=s3prl) (12.1.3.1)\n",
            "Requirement already satisfied: nvidia-cufft-cu12==11.0.2.54 in /usr/local/lib/python3.10/dist-packages (from torch!=1.10.0,>=1.7.0->s3prl@ git+https://github.com/s3prl/s3prl.git@7ab62aaf2606d83da6c71ee74e7d16e0979edbc3#egg=s3prl) (11.0.2.54)\n",
            "Requirement already satisfied: nvidia-curand-cu12==10.3.2.106 in /usr/local/lib/python3.10/dist-packages (from torch!=1.10.0,>=1.7.0->s3prl@ git+https://github.com/s3prl/s3prl.git@7ab62aaf2606d83da6c71ee74e7d16e0979edbc3#egg=s3prl) (10.3.2.106)\n",
            "Requirement already satisfied: nvidia-cusolver-cu12==11.4.5.107 in /usr/local/lib/python3.10/dist-packages (from torch!=1.10.0,>=1.7.0->s3prl@ git+https://github.com/s3prl/s3prl.git@7ab62aaf2606d83da6c71ee74e7d16e0979edbc3#egg=s3prl) (11.4.5.107)\n",
            "Requirement already satisfied: nvidia-cusparse-cu12==12.1.0.106 in /usr/local/lib/python3.10/dist-packages (from torch!=1.10.0,>=1.7.0->s3prl@ git+https://github.com/s3prl/s3prl.git@7ab62aaf2606d83da6c71ee74e7d16e0979edbc3#egg=s3prl) (12.1.0.106)\n",
            "Requirement already satisfied: nvidia-nccl-cu12==2.19.3 in /usr/local/lib/python3.10/dist-packages (from torch!=1.10.0,>=1.7.0->s3prl@ git+https://github.com/s3prl/s3prl.git@7ab62aaf2606d83da6c71ee74e7d16e0979edbc3#egg=s3prl) (2.19.3)\n",
            "Requirement already satisfied: nvidia-nvtx-cu12==12.1.105 in /usr/local/lib/python3.10/dist-packages (from torch!=1.10.0,>=1.7.0->s3prl@ git+https://github.com/s3prl/s3prl.git@7ab62aaf2606d83da6c71ee74e7d16e0979edbc3#egg=s3prl) (12.1.105)\n",
            "Requirement already satisfied: triton==2.2.0 in /usr/local/lib/python3.10/dist-packages (from torch!=1.10.0,>=1.7.0->s3prl@ git+https://github.com/s3prl/s3prl.git@7ab62aaf2606d83da6c71ee74e7d16e0979edbc3#egg=s3prl) (2.2.0)\n",
            "Requirement already satisfied: nvidia-nvjitlink-cu12 in /usr/local/lib/python3.10/dist-packages (from nvidia-cusolver-cu12==11.4.5.107->torch!=1.10.0,>=1.7.0->s3prl@ git+https://github.com/s3prl/s3prl.git@7ab62aaf2606d83da6c71ee74e7d16e0979edbc3#egg=s3prl) (12.4.127)\n",
            "Requirement already satisfied: tokenizers<0.19,>=0.14 in /usr/local/lib/python3.10/dist-packages (from transformers<5.0,>=4.10.0->s3prl@ git+https://github.com/s3prl/s3prl.git@7ab62aaf2606d83da6c71ee74e7d16e0979edbc3#egg=s3prl) (0.15.2)\n",
            "Requirement already satisfied: safetensors>=0.4.1 in /usr/local/lib/python3.10/dist-packages (from transformers<5.0,>=4.10.0->s3prl@ git+https://github.com/s3prl/s3prl.git@7ab62aaf2606d83da6c71ee74e7d16e0979edbc3#egg=s3prl) (0.4.2)\n",
            "Collecting accelerate>=0.5.1 (from catalyst->s3prl@ git+https://github.com/s3prl/s3prl.git@7ab62aaf2606d83da6c71ee74e7d16e0979edbc3#egg=s3prl)\n",
            "  Downloading accelerate-0.28.0-py3-none-any.whl (290 kB)\n",
            "\u001b[2K     \u001b[90m━━━━━━━━━━━━━━━━━━━━━━━━━━━━━━━━━━━━━━━━\u001b[0m \u001b[32m290.1/290.1 kB\u001b[0m \u001b[31m36.1 MB/s\u001b[0m eta \u001b[36m0:00:00\u001b[0m\n",
            "\u001b[?25hCollecting hydra-slayer>=0.4.0 (from catalyst->s3prl@ git+https://github.com/s3prl/s3prl.git@7ab62aaf2606d83da6c71ee74e7d16e0979edbc3#egg=s3prl)\n",
            "  Downloading hydra_slayer-0.5.0-py3-none-any.whl (13 kB)\n",
            "Requirement already satisfied: sortedcontainers<3.0,>=2.0 in /usr/local/lib/python3.10/dist-packages (from intervaltree->s3prl@ git+https://github.com/s3prl/s3prl.git@7ab62aaf2606d83da6c71ee74e7d16e0979edbc3#egg=s3prl) (2.4.0)\n",
            "Requirement already satisfied: click in /usr/local/lib/python3.10/dist-packages (from nltk->s3prl@ git+https://github.com/s3prl/s3prl.git@7ab62aaf2606d83da6c71ee74e7d16e0979edbc3#egg=s3prl) (8.1.7)\n",
            "Collecting roman (from normalise->s3prl@ git+https://github.com/s3prl/s3prl.git@7ab62aaf2606d83da6c71ee74e7d16e0979edbc3#egg=s3prl)\n",
            "  Downloading roman-4.1-py3-none-any.whl (5.5 kB)\n",
            "Requirement already satisfied: psutil in /usr/local/lib/python3.10/dist-packages (from accelerate>=0.5.1->catalyst->s3prl@ git+https://github.com/s3prl/s3prl.git@7ab62aaf2606d83da6c71ee74e7d16e0979edbc3#egg=s3prl) (5.9.5)\n",
            "Requirement already satisfied: pycparser in /usr/local/lib/python3.10/dist-packages (from cffi>=1.0->soundfile->s3prl@ git+https://github.com/s3prl/s3prl.git@7ab62aaf2606d83da6c71ee74e7d16e0979edbc3#egg=s3prl) (2.22)\n",
            "Collecting cached-property (from pb-bss-eval>=0.0.2->asteroid==0.4.4->s3prl@ git+https://github.com/s3prl/s3prl.git@7ab62aaf2606d83da6c71ee74e7d16e0979edbc3#egg=s3prl)\n",
            "  Downloading cached_property-1.5.2-py2.py3-none-any.whl (7.6 kB)\n",
            "Collecting einops (from pb-bss-eval>=0.0.2->asteroid==0.4.4->s3prl@ git+https://github.com/s3prl/s3prl.git@7ab62aaf2606d83da6c71ee74e7d16e0979edbc3#egg=s3prl)\n",
            "  Downloading einops-0.7.0-py3-none-any.whl (44 kB)\n",
            "\u001b[2K     \u001b[90m━━━━━━━━━━━━━━━━━━━━━━━━━━━━━━━━━━━━━━━━\u001b[0m \u001b[32m44.6/44.6 kB\u001b[0m \u001b[31m5.8 MB/s\u001b[0m eta \u001b[36m0:00:00\u001b[0m\n",
            "\u001b[?25hCollecting pystoi (from pb-bss-eval>=0.0.2->asteroid==0.4.4->s3prl@ git+https://github.com/s3prl/s3prl.git@7ab62aaf2606d83da6c71ee74e7d16e0979edbc3#egg=s3prl)\n",
            "  Downloading pystoi-0.4.1-py2.py3-none-any.whl (8.2 kB)\n",
            "Collecting mir-eval (from pb-bss-eval>=0.0.2->asteroid==0.4.4->s3prl@ git+https://github.com/s3prl/s3prl.git@7ab62aaf2606d83da6c71ee74e7d16e0979edbc3#egg=s3prl)\n",
            "  Downloading mir_eval-0.7.tar.gz (90 kB)\n",
            "\u001b[2K     \u001b[90m━━━━━━━━━━━━━━━━━━━━━━━━━━━━━━━━━━━━━━━━\u001b[0m \u001b[32m90.7/90.7 kB\u001b[0m \u001b[31m12.0 MB/s\u001b[0m eta \u001b[36m0:00:00\u001b[0m\n",
            "\u001b[?25h  Preparing metadata (setup.py) ... \u001b[?25l\u001b[?25hdone\n",
            "Collecting pesq (from pb-bss-eval>=0.0.2->asteroid==0.4.4->s3prl@ git+https://github.com/s3prl/s3prl.git@7ab62aaf2606d83da6c71ee74e7d16e0979edbc3#egg=s3prl)\n",
            "  Downloading pesq-0.0.4.tar.gz (38 kB)\n",
            "  Preparing metadata (setup.py) ... \u001b[?25l\u001b[?25hdone\n",
            "Requirement already satisfied: platformdirs>=2.5.0 in /usr/local/lib/python3.10/dist-packages (from pooch>=1.0->librosa>=0.7.2->s3prl@ git+https://github.com/s3prl/s3prl.git@7ab62aaf2606d83da6c71ee74e7d16e0979edbc3#egg=s3prl) (4.2.0)\n",
            "Collecting torchmetrics>=0.7.0 (from pytorch-lightning>=1.0.1->asteroid==0.4.4->s3prl@ git+https://github.com/s3prl/s3prl.git@7ab62aaf2606d83da6c71ee74e7d16e0979edbc3#egg=s3prl)\n",
            "  Downloading torchmetrics-1.3.2-py3-none-any.whl (841 kB)\n",
            "\u001b[2K     \u001b[90m━━━━━━━━━━━━━━━━━━━━━━━━━━━━━━━━━━━━━━━━\u001b[0m \u001b[32m841.5/841.5 kB\u001b[0m \u001b[31m70.4 MB/s\u001b[0m eta \u001b[36m0:00:00\u001b[0m\n",
            "\u001b[?25hCollecting lightning-utilities>=0.8.0 (from pytorch-lightning>=1.0.1->asteroid==0.4.4->s3prl@ git+https://github.com/s3prl/s3prl.git@7ab62aaf2606d83da6c71ee74e7d16e0979edbc3#egg=s3prl)\n",
            "  Downloading lightning_utilities-0.11.2-py3-none-any.whl (26 kB)\n",
            "Requirement already satisfied: charset-normalizer<4,>=2 in /usr/local/lib/python3.10/dist-packages (from requests[socks]->gdown>=3.12.2->s3prl@ git+https://github.com/s3prl/s3prl.git@7ab62aaf2606d83da6c71ee74e7d16e0979edbc3#egg=s3prl) (3.3.2)\n",
            "Requirement already satisfied: idna<4,>=2.5 in /usr/local/lib/python3.10/dist-packages (from requests[socks]->gdown>=3.12.2->s3prl@ git+https://github.com/s3prl/s3prl.git@7ab62aaf2606d83da6c71ee74e7d16e0979edbc3#egg=s3prl) (3.6)\n",
            "Requirement already satisfied: urllib3<3,>=1.21.1 in /usr/local/lib/python3.10/dist-packages (from requests[socks]->gdown>=3.12.2->s3prl@ git+https://github.com/s3prl/s3prl.git@7ab62aaf2606d83da6c71ee74e7d16e0979edbc3#egg=s3prl) (2.0.7)\n",
            "Requirement already satisfied: certifi>=2017.4.17 in /usr/local/lib/python3.10/dist-packages (from requests[socks]->gdown>=3.12.2->s3prl@ git+https://github.com/s3prl/s3prl.git@7ab62aaf2606d83da6c71ee74e7d16e0979edbc3#egg=s3prl) (2024.2.2)\n",
            "Collecting pytorch-ranger>=0.1.1 (from torch-optimizer>=0.0.1a12->asteroid==0.4.4->s3prl@ git+https://github.com/s3prl/s3prl.git@7ab62aaf2606d83da6c71ee74e7d16e0979edbc3#egg=s3prl)\n",
            "  Downloading pytorch_ranger-0.1.1-py3-none-any.whl (14 kB)\n",
            "Requirement already satisfied: soupsieve>1.2 in /usr/local/lib/python3.10/dist-packages (from beautifulsoup4->gdown>=3.12.2->s3prl@ git+https://github.com/s3prl/s3prl.git@7ab62aaf2606d83da6c71ee74e7d16e0979edbc3#egg=s3prl) (2.5)\n",
            "Requirement already satisfied: MarkupSafe>=2.0 in /usr/local/lib/python3.10/dist-packages (from jinja2->torch!=1.10.0,>=1.7.0->s3prl@ git+https://github.com/s3prl/s3prl.git@7ab62aaf2606d83da6c71ee74e7d16e0979edbc3#egg=s3prl) (2.1.5)\n",
            "Requirement already satisfied: PySocks!=1.5.7,>=1.5.6 in /usr/local/lib/python3.10/dist-packages (from requests[socks]->gdown>=3.12.2->s3prl@ git+https://github.com/s3prl/s3prl.git@7ab62aaf2606d83da6c71ee74e7d16e0979edbc3#egg=s3prl) (1.7.1)\n",
            "Requirement already satisfied: mpmath>=0.19 in /usr/local/lib/python3.10/dist-packages (from sympy->torch!=1.10.0,>=1.7.0->s3prl@ git+https://github.com/s3prl/s3prl.git@7ab62aaf2606d83da6c71ee74e7d16e0979edbc3#egg=s3prl) (1.3.0)\n",
            "Requirement already satisfied: aiohttp!=4.0.0a0,!=4.0.0a1 in /usr/local/lib/python3.10/dist-packages (from fsspec>=2023.5.0->huggingface_hub@ git+https://github.com/huggingface/huggingface_hub.git#egg=huggingface_hub->s3prl@ git+https://github.com/s3prl/s3prl.git@7ab62aaf2606d83da6c71ee74e7d16e0979edbc3#egg=s3prl) (3.9.3)\n",
            "Requirement already satisfied: future in /usr/local/lib/python3.10/dist-packages (from mir-eval->pb-bss-eval>=0.0.2->asteroid==0.4.4->s3prl@ git+https://github.com/s3prl/s3prl.git@7ab62aaf2606d83da6c71ee74e7d16e0979edbc3#egg=s3prl) (0.18.3)\n",
            "Requirement already satisfied: aiosignal>=1.1.2 in /usr/local/lib/python3.10/dist-packages (from aiohttp!=4.0.0a0,!=4.0.0a1->fsspec>=2023.5.0->huggingface_hub@ git+https://github.com/huggingface/huggingface_hub.git#egg=huggingface_hub->s3prl@ git+https://github.com/s3prl/s3prl.git@7ab62aaf2606d83da6c71ee74e7d16e0979edbc3#egg=s3prl) (1.3.1)\n",
            "Requirement already satisfied: attrs>=17.3.0 in /usr/local/lib/python3.10/dist-packages (from aiohttp!=4.0.0a0,!=4.0.0a1->fsspec>=2023.5.0->huggingface_hub@ git+https://github.com/huggingface/huggingface_hub.git#egg=huggingface_hub->s3prl@ git+https://github.com/s3prl/s3prl.git@7ab62aaf2606d83da6c71ee74e7d16e0979edbc3#egg=s3prl) (23.2.0)\n",
            "Requirement already satisfied: frozenlist>=1.1.1 in /usr/local/lib/python3.10/dist-packages (from aiohttp!=4.0.0a0,!=4.0.0a1->fsspec>=2023.5.0->huggingface_hub@ git+https://github.com/huggingface/huggingface_hub.git#egg=huggingface_hub->s3prl@ git+https://github.com/s3prl/s3prl.git@7ab62aaf2606d83da6c71ee74e7d16e0979edbc3#egg=s3prl) (1.4.1)\n",
            "Requirement already satisfied: multidict<7.0,>=4.5 in /usr/local/lib/python3.10/dist-packages (from aiohttp!=4.0.0a0,!=4.0.0a1->fsspec>=2023.5.0->huggingface_hub@ git+https://github.com/huggingface/huggingface_hub.git#egg=huggingface_hub->s3prl@ git+https://github.com/s3prl/s3prl.git@7ab62aaf2606d83da6c71ee74e7d16e0979edbc3#egg=s3prl) (6.0.5)\n",
            "Requirement already satisfied: yarl<2.0,>=1.0 in /usr/local/lib/python3.10/dist-packages (from aiohttp!=4.0.0a0,!=4.0.0a1->fsspec>=2023.5.0->huggingface_hub@ git+https://github.com/huggingface/huggingface_hub.git#egg=huggingface_hub->s3prl@ git+https://github.com/s3prl/s3prl.git@7ab62aaf2606d83da6c71ee74e7d16e0979edbc3#egg=s3prl) (1.9.4)\n",
            "Requirement already satisfied: async-timeout<5.0,>=4.0 in /usr/local/lib/python3.10/dist-packages (from aiohttp!=4.0.0a0,!=4.0.0a1->fsspec>=2023.5.0->huggingface_hub@ git+https://github.com/huggingface/huggingface_hub.git#egg=huggingface_hub->s3prl@ git+https://github.com/s3prl/s3prl.git@7ab62aaf2606d83da6c71ee74e7d16e0979edbc3#egg=s3prl) (4.0.3)\n",
            "Building wheels for collected packages: s3prl, dtw-python, huggingface_hub, numpy, intervaltree, pysndfx, sox, julius, mir-eval, pesq\n",
            "  Building wheel for s3prl (setup.py) ... \u001b[?25l\u001b[?25hdone\n",
            "  Created wheel for s3prl: filename=s3prl-0.3.1-py3-none-any.whl size=394375 sha256=6bcd5a27452af9d2a79a19941c01718f21e52ce7a6a3833ad4d68d8c66211a26\n",
            "  Stored in directory: /root/.cache/pip/wheels/d0/91/f3/446dd175ee2d1d511269dcf82b843b108543075d3259cce77d\n",
            "  Building wheel for dtw-python (pyproject.toml) ... \u001b[?25l\u001b[?25hdone\n",
            "  Created wheel for dtw-python: filename=dtw_python-1.1.6-cp310-cp310-linux_x86_64.whl size=662863 sha256=8d46fc1f149404a271bb0905d307d7dd78efa2dcef8055a25f595fe2b4edd32f\n",
            "  Stored in directory: /root/.cache/pip/wheels/58/6f/ed/36cefb1348e1d44b6e25b90d718bfb8be7cae663364a3ffc73\n",
            "  Building wheel for huggingface_hub (pyproject.toml) ... \u001b[?25l\u001b[?25hdone\n",
            "  Created wheel for huggingface_hub: filename=huggingface_hub-0.23.0.dev0-py3-none-any.whl size=388195 sha256=01d24bceaa196ac96db148e8707b30ccf4122a6f746f630d8d624ed65491e028\n",
            "  Stored in directory: /tmp/pip-ephem-wheel-cache-y_3fli61/wheels/a5/17/2c/0705a5ac4ff612db99033bafb6439292f266b5693a38aca445\n",
            "  \u001b[1;31merror\u001b[0m: \u001b[1msubprocess-exited-with-error\u001b[0m\n",
            "  \n",
            "  \u001b[31m×\u001b[0m \u001b[32mBuilding wheel for numpy \u001b[0m\u001b[1;32m(\u001b[0m\u001b[32mpyproject.toml\u001b[0m\u001b[1;32m)\u001b[0m did not run successfully.\n",
            "  \u001b[31m│\u001b[0m exit code: \u001b[1;36m1\u001b[0m\n",
            "  \u001b[31m╰─>\u001b[0m See above for output.\n",
            "  \n",
            "  \u001b[1;35mnote\u001b[0m: This error originates from a subprocess, and is likely not a problem with pip.\n",
            "  Building wheel for numpy (pyproject.toml) ... \u001b[?25l\u001b[?25herror\n",
            "\u001b[31m  ERROR: Failed building wheel for numpy\u001b[0m\u001b[31m\n",
            "\u001b[0m  Building wheel for intervaltree (setup.py) ... \u001b[?25l\u001b[?25hdone\n",
            "  Created wheel for intervaltree: filename=intervaltree-3.1.0-py2.py3-none-any.whl size=26096 sha256=2092fdc97a8b61ecb7e8f5696e357a8f501c7d126a47ec2c4ceb6260729b72b5\n",
            "  Stored in directory: /root/.cache/pip/wheels/fa/80/8c/43488a924a046b733b64de3fac99252674c892a4c3801c0a61\n",
            "  Building wheel for pysndfx (setup.py) ... \u001b[?25l\u001b[?25hdone\n",
            "  Created wheel for pysndfx: filename=pysndfx-0.3.6-py3-none-any.whl size=6539 sha256=d78fd450947d7248c2c7183204aba347ef0f1e9d8ba226801a8824e56ab8ac18\n",
            "  Stored in directory: /root/.cache/pip/wheels/e8/73/04/275af1c6a789bbc12f388bce2d5353e77579e3aaadd36c61fe\n",
            "  Building wheel for sox (setup.py) ... \u001b[?25l\u001b[?25hdone\n",
            "  Created wheel for sox: filename=sox-1.5.0-py3-none-any.whl size=40038 sha256=ce5731425a51370ccf5febd6212b799b8c17077c47029f6fe2889978935bbfea\n",
            "  Stored in directory: /root/.cache/pip/wheels/74/e7/7b/8033be3ec5e4994595d01269fc9657c8fd83a0dcbf8536666a\n",
            "  Building wheel for julius (setup.py) ... \u001b[?25l\u001b[?25hdone\n",
            "  Created wheel for julius: filename=julius-0.2.7-py3-none-any.whl size=21870 sha256=9a5fdd5d6fb1c2c816d6d57af80d0011d6dbe8d5dcf1c4174f6293fe23a9378c\n",
            "  Stored in directory: /root/.cache/pip/wheels/b9/b2/05/f883527ffcb7f2ead5438a2c23439aa0c881eaa9a4c80256f4\n",
            "  Building wheel for mir-eval (setup.py) ... \u001b[?25l\u001b[?25hdone\n",
            "  Created wheel for mir-eval: filename=mir_eval-0.7-py3-none-any.whl size=100704 sha256=9c75a13278fc10755ca66bbcc3d5463d63c63744a01bae17f3e49ee2fa8a0a84\n",
            "  Stored in directory: /root/.cache/pip/wheels/3e/2f/0d/dda9c4c77a170e21356b6afa2f7d9bb078338634ba05d94e3f\n",
            "  Building wheel for pesq (setup.py) ... \u001b[?25l\u001b[?25hdone\n",
            "  Created wheel for pesq: filename=pesq-0.0.4-cp310-cp310-linux_x86_64.whl size=262959 sha256=2d688a8fddc059f4de6c95647ff0c5bf716af04e5b1d82787d0a89ade3dd6ad3\n",
            "  Stored in directory: /root/.cache/pip/wheels/c5/4e/2c/251524370c0fdd659e99639a0fbd0ca5a782c3aafcd456b28d\n",
            "Successfully built s3prl dtw-python huggingface_hub intervaltree pysndfx sox julius mir-eval pesq\n",
            "Failed to build numpy\n",
            "\u001b[31mERROR: Could not build wheels for numpy, which is required to install pyproject.toml-based projects\u001b[0m\u001b[31m\n",
            "\u001b[0m"
          ]
        }
      ]
    },
    {
      "cell_type": "code",
      "source": [
        "!pip install s3prl"
      ],
      "metadata": {
        "colab": {
          "base_uri": "https://localhost:8080/",
          "height": 1000
        },
        "id": "EvV6SXElDlvT",
        "outputId": "9c5d1c02-58a8-4536-b7e0-237a2ada0c2c"
      },
      "execution_count": 9,
      "outputs": [
        {
          "output_type": "stream",
          "name": "stdout",
          "text": [
            "Collecting s3prl\n",
            "  Downloading s3prl-0.4.15.tar.gz (648 kB)\n",
            "\u001b[?25l     \u001b[90m━━━━━━━━━━━━━━━━━━━━━━━━━━━━━━━━━━━━━━━━\u001b[0m \u001b[32m0.0/648.6 kB\u001b[0m \u001b[31m?\u001b[0m eta \u001b[36m-:--:--\u001b[0m\r\u001b[2K     \u001b[91m━━━━━━━━━━━━━━━━━\u001b[0m\u001b[90m╺\u001b[0m\u001b[90m━━━━━━━━━━━━━━━━━━━━━━\u001b[0m \u001b[32m276.5/648.6 kB\u001b[0m \u001b[31m8.3 MB/s\u001b[0m eta \u001b[36m0:00:01\u001b[0m\r\u001b[2K     \u001b[90m━━━━━━━━━━━━━━━━━━━━━━━━━━━━━━━━━━━━━━━━\u001b[0m \u001b[32m648.6/648.6 kB\u001b[0m \u001b[31m10.6 MB/s\u001b[0m eta \u001b[36m0:00:00\u001b[0m\n",
            "\u001b[?25h  Preparing metadata (setup.py) ... \u001b[?25l\u001b[?25hdone\n",
            "Requirement already satisfied: torchaudio>=0.8.0 in /usr/local/lib/python3.10/dist-packages (from s3prl) (2.2.1+cu121)\n",
            "Requirement already satisfied: torch!=1.10.0,>=1.8.0 in /usr/local/lib/python3.10/dist-packages (from s3prl) (2.2.1+cu121)\n",
            "Requirement already satisfied: tqdm>=4.56.0 in /usr/local/lib/python3.10/dist-packages (from s3prl) (4.66.2)\n",
            "Requirement already satisfied: numpy>=1.21 in /usr/local/lib/python3.10/dist-packages (from s3prl) (1.25.2)\n",
            "Requirement already satisfied: PyYAML>=5.4.1 in /usr/local/lib/python3.10/dist-packages (from s3prl) (6.0.1)\n",
            "Requirement already satisfied: filelock in /usr/local/lib/python3.10/dist-packages (from s3prl) (3.13.3)\n",
            "Collecting omegaconf>=2.1.1 (from s3prl)\n",
            "  Downloading omegaconf-2.3.0-py3-none-any.whl (79 kB)\n",
            "\u001b[2K     \u001b[90m━━━━━━━━━━━━━━━━━━━━━━━━━━━━━━━━━━━━━━━━\u001b[0m \u001b[32m79.5/79.5 kB\u001b[0m \u001b[31m10.6 MB/s\u001b[0m eta \u001b[36m0:00:00\u001b[0m\n",
            "\u001b[?25hRequirement already satisfied: setuptools>=65.5.1 in /usr/local/lib/python3.10/dist-packages (from s3prl) (67.7.2)\n",
            "Requirement already satisfied: requests in /usr/local/lib/python3.10/dist-packages (from s3prl) (2.31.0)\n",
            "Requirement already satisfied: transformers in /usr/local/lib/python3.10/dist-packages (from s3prl) (4.38.2)\n",
            "Requirement already satisfied: protobuf==3.20.3 in /usr/local/lib/python3.10/dist-packages (from s3prl) (3.20.3)\n",
            "Collecting antlr4-python3-runtime==4.9.* (from omegaconf>=2.1.1->s3prl)\n",
            "  Downloading antlr4-python3-runtime-4.9.3.tar.gz (117 kB)\n",
            "\u001b[2K     \u001b[90m━━━━━━━━━━━━━━━━━━━━━━━━━━━━━━━━━━━━━━━━\u001b[0m \u001b[32m117.0/117.0 kB\u001b[0m \u001b[31m15.9 MB/s\u001b[0m eta \u001b[36m0:00:00\u001b[0m\n",
            "\u001b[?25h  Preparing metadata (setup.py) ... \u001b[?25l\u001b[?25hdone\n",
            "Requirement already satisfied: typing-extensions>=4.8.0 in /usr/local/lib/python3.10/dist-packages (from torch!=1.10.0,>=1.8.0->s3prl) (4.10.0)\n",
            "Requirement already satisfied: sympy in /usr/local/lib/python3.10/dist-packages (from torch!=1.10.0,>=1.8.0->s3prl) (1.12)\n",
            "Requirement already satisfied: networkx in /usr/local/lib/python3.10/dist-packages (from torch!=1.10.0,>=1.8.0->s3prl) (3.2.1)\n",
            "Requirement already satisfied: jinja2 in /usr/local/lib/python3.10/dist-packages (from torch!=1.10.0,>=1.8.0->s3prl) (3.1.3)\n",
            "Requirement already satisfied: fsspec in /usr/local/lib/python3.10/dist-packages (from torch!=1.10.0,>=1.8.0->s3prl) (2023.6.0)\n",
            "Requirement already satisfied: nvidia-cuda-nvrtc-cu12==12.1.105 in /usr/local/lib/python3.10/dist-packages (from torch!=1.10.0,>=1.8.0->s3prl) (12.1.105)\n",
            "Requirement already satisfied: nvidia-cuda-runtime-cu12==12.1.105 in /usr/local/lib/python3.10/dist-packages (from torch!=1.10.0,>=1.8.0->s3prl) (12.1.105)\n",
            "Requirement already satisfied: nvidia-cuda-cupti-cu12==12.1.105 in /usr/local/lib/python3.10/dist-packages (from torch!=1.10.0,>=1.8.0->s3prl) (12.1.105)\n",
            "Requirement already satisfied: nvidia-cudnn-cu12==8.9.2.26 in /usr/local/lib/python3.10/dist-packages (from torch!=1.10.0,>=1.8.0->s3prl) (8.9.2.26)\n",
            "Requirement already satisfied: nvidia-cublas-cu12==12.1.3.1 in /usr/local/lib/python3.10/dist-packages (from torch!=1.10.0,>=1.8.0->s3prl) (12.1.3.1)\n",
            "Requirement already satisfied: nvidia-cufft-cu12==11.0.2.54 in /usr/local/lib/python3.10/dist-packages (from torch!=1.10.0,>=1.8.0->s3prl) (11.0.2.54)\n",
            "Requirement already satisfied: nvidia-curand-cu12==10.3.2.106 in /usr/local/lib/python3.10/dist-packages (from torch!=1.10.0,>=1.8.0->s3prl) (10.3.2.106)\n",
            "Requirement already satisfied: nvidia-cusolver-cu12==11.4.5.107 in /usr/local/lib/python3.10/dist-packages (from torch!=1.10.0,>=1.8.0->s3prl) (11.4.5.107)\n",
            "Requirement already satisfied: nvidia-cusparse-cu12==12.1.0.106 in /usr/local/lib/python3.10/dist-packages (from torch!=1.10.0,>=1.8.0->s3prl) (12.1.0.106)\n",
            "Requirement already satisfied: nvidia-nccl-cu12==2.19.3 in /usr/local/lib/python3.10/dist-packages (from torch!=1.10.0,>=1.8.0->s3prl) (2.19.3)\n",
            "Requirement already satisfied: nvidia-nvtx-cu12==12.1.105 in /usr/local/lib/python3.10/dist-packages (from torch!=1.10.0,>=1.8.0->s3prl) (12.1.105)\n",
            "Requirement already satisfied: triton==2.2.0 in /usr/local/lib/python3.10/dist-packages (from torch!=1.10.0,>=1.8.0->s3prl) (2.2.0)\n",
            "Requirement already satisfied: nvidia-nvjitlink-cu12 in /usr/local/lib/python3.10/dist-packages (from nvidia-cusolver-cu12==11.4.5.107->torch!=1.10.0,>=1.8.0->s3prl) (12.4.127)\n",
            "Requirement already satisfied: charset-normalizer<4,>=2 in /usr/local/lib/python3.10/dist-packages (from requests->s3prl) (3.3.2)\n",
            "Requirement already satisfied: idna<4,>=2.5 in /usr/local/lib/python3.10/dist-packages (from requests->s3prl) (3.6)\n",
            "Requirement already satisfied: urllib3<3,>=1.21.1 in /usr/local/lib/python3.10/dist-packages (from requests->s3prl) (2.0.7)\n",
            "Requirement already satisfied: certifi>=2017.4.17 in /usr/local/lib/python3.10/dist-packages (from requests->s3prl) (2024.2.2)\n",
            "Requirement already satisfied: huggingface-hub<1.0,>=0.19.3 in /usr/local/lib/python3.10/dist-packages (from transformers->s3prl) (0.20.3)\n",
            "Requirement already satisfied: packaging>=20.0 in /usr/local/lib/python3.10/dist-packages (from transformers->s3prl) (24.0)\n",
            "Requirement already satisfied: regex!=2019.12.17 in /usr/local/lib/python3.10/dist-packages (from transformers->s3prl) (2023.12.25)\n",
            "Requirement already satisfied: tokenizers<0.19,>=0.14 in /usr/local/lib/python3.10/dist-packages (from transformers->s3prl) (0.15.2)\n",
            "Requirement already satisfied: safetensors>=0.4.1 in /usr/local/lib/python3.10/dist-packages (from transformers->s3prl) (0.4.2)\n",
            "Requirement already satisfied: MarkupSafe>=2.0 in /usr/local/lib/python3.10/dist-packages (from jinja2->torch!=1.10.0,>=1.8.0->s3prl) (2.1.5)\n",
            "Requirement already satisfied: mpmath>=0.19 in /usr/local/lib/python3.10/dist-packages (from sympy->torch!=1.10.0,>=1.8.0->s3prl) (1.3.0)\n",
            "Building wheels for collected packages: s3prl, antlr4-python3-runtime\n",
            "  Building wheel for s3prl (setup.py) ... \u001b[?25l\u001b[?25hdone\n",
            "  Created wheel for s3prl: filename=s3prl-0.4.15-py3-none-any.whl size=878752 sha256=07dcb960b6518e9b8e24f95f800600336103485c1ada8119de181c571d050509\n",
            "  Stored in directory: /root/.cache/pip/wheels/03/3e/6a/7963cb4bd84e95b3f4db9facb8a5bb6e04930ac169014676da\n",
            "  Building wheel for antlr4-python3-runtime (setup.py) ... \u001b[?25l\u001b[?25hdone\n",
            "  Created wheel for antlr4-python3-runtime: filename=antlr4_python3_runtime-4.9.3-py3-none-any.whl size=144554 sha256=7a22ea7994138600ec730c92c32e7daaa7f28849f7e00af5bccdc4a3b6a74be0\n",
            "  Stored in directory: /root/.cache/pip/wheels/12/93/dd/1f6a127edc45659556564c5730f6d4e300888f4bca2d4c5a88\n",
            "Successfully built s3prl antlr4-python3-runtime\n",
            "Installing collected packages: antlr4-python3-runtime, omegaconf, s3prl\n",
            "  Attempting uninstall: antlr4-python3-runtime\n",
            "    Found existing installation: antlr4-python3-runtime 4.8\n",
            "    Uninstalling antlr4-python3-runtime-4.8:\n",
            "      Successfully uninstalled antlr4-python3-runtime-4.8\n",
            "  Attempting uninstall: omegaconf\n",
            "    Found existing installation: omegaconf 2.0.6\n",
            "    Uninstalling omegaconf-2.0.6:\n",
            "      Successfully uninstalled omegaconf-2.0.6\n",
            "\u001b[31mERROR: pip's dependency resolver does not currently take into account all the packages that are installed. This behaviour is the source of the following dependency conflicts.\n",
            "fairseq 0.12.2 requires omegaconf<2.1, but you have omegaconf 2.3.0 which is incompatible.\n",
            "hydra-core 1.0.7 requires antlr4-python3-runtime==4.8, but you have antlr4-python3-runtime 4.9.3 which is incompatible.\n",
            "hydra-core 1.0.7 requires omegaconf<2.1,>=2.0.5, but you have omegaconf 2.3.0 which is incompatible.\u001b[0m\u001b[31m\n",
            "\u001b[0mSuccessfully installed antlr4-python3-runtime-4.9.3 omegaconf-2.3.0 s3prl-0.4.15\n"
          ]
        },
        {
          "output_type": "display_data",
          "data": {
            "application/vnd.colab-display-data+json": {
              "pip_warning": {
                "packages": [
                  "pydevd_plugins"
                ]
              },
              "id": "f399e818c97a44f188742b699ca49797"
            }
          },
          "metadata": {}
        }
      ]
    },
    {
      "cell_type": "code",
      "source": [
        "!pip install omegaconf==2.0.6"
      ],
      "metadata": {
        "colab": {
          "base_uri": "https://localhost:8080/"
        },
        "id": "A3vlMS-3oe1w",
        "outputId": "0449befa-34d3-4bd5-c3e9-162363c975e9"
      },
      "execution_count": 1,
      "outputs": [
        {
          "output_type": "stream",
          "name": "stdout",
          "text": [
            "Requirement already satisfied: omegaconf==2.0.6 in /usr/local/lib/python3.10/dist-packages (2.0.6)\n",
            "Requirement already satisfied: PyYAML>=5.1.* in /usr/local/lib/python3.10/dist-packages (from omegaconf==2.0.6) (6.0.1)\n",
            "Requirement already satisfied: typing-extensions in /usr/local/lib/python3.10/dist-packages (from omegaconf==2.0.6) (4.10.0)\n"
          ]
        }
      ]
    },
    {
      "cell_type": "markdown",
      "source": [
        "#### Speaker verification using pretrianned Wavlm_Large model (few sample)"
      ],
      "metadata": {
        "id": "DFbDLJ_bfYji"
      }
    },
    {
      "cell_type": "code",
      "source": [
        "!pwd"
      ],
      "metadata": {
        "colab": {
          "base_uri": "https://localhost:8080/"
        },
        "id": "3EQTb2g2C8Yr",
        "outputId": "e1c89c2a-0d44-42e6-98a6-00ff45e07bb7"
      },
      "execution_count": 2,
      "outputs": [
        {
          "output_type": "stream",
          "name": "stdout",
          "text": [
            "/content\n"
          ]
        }
      ]
    },
    {
      "cell_type": "code",
      "source": [
        "%cd /content/UniSpeech/downstreams/speaker_verification"
      ],
      "metadata": {
        "colab": {
          "base_uri": "https://localhost:8080/"
        },
        "id": "ieLDeLQafpgJ",
        "outputId": "c3cd94bf-7f46-4def-cff1-87c6f082bfc3"
      },
      "execution_count": 3,
      "outputs": [
        {
          "output_type": "stream",
          "name": "stdout",
          "text": [
            "/content/UniSpeech/downstreams/speaker_verification\n"
          ]
        }
      ]
    },
    {
      "cell_type": "code",
      "source": [
        "# checkpoint_path = 'config/unispeech_sat.th'\n",
        "# checkpoint_path = \"/content/drive/MyDrive/hubert_large_finetune.pth\"\n",
        "checkpoint_path = \"/content/drive/MyDrive/wavlm_large_finetune.pth\""
      ],
      "metadata": {
        "id": "Bd4KIWFEg6st"
      },
      "execution_count": 4,
      "outputs": []
    },
    {
      "cell_type": "code",
      "source": [
        "import glob\n",
        "hindi_wav_list  = glob.glob('/content/drive/MyDrive/kb_hindi_wav/*.wav')\n",
        "hindi_wav_list[:3]"
      ],
      "metadata": {
        "colab": {
          "base_uri": "https://localhost:8080/"
        },
        "id": "Gj3Cij3-fNjv",
        "outputId": "685b65bb-5099-471e-a3f6-fd0309af86a4"
      },
      "execution_count": 5,
      "outputs": [
        {
          "output_type": "execute_result",
          "data": {
            "text/plain": [
              "['/content/drive/MyDrive/kb_hindi_wav/844424930656675-929-m.wav',\n",
              " '/content/drive/MyDrive/kb_hindi_wav/844424930648278-384-f.wav',\n",
              " '/content/drive/MyDrive/kb_hindi_wav/844424933476321-390-m.wav']"
            ]
          },
          "metadata": {},
          "execution_count": 5
        }
      ]
    },
    {
      "cell_type": "markdown",
      "source": [
        "##### 2 same speakers"
      ],
      "metadata": {
        "id": "6s9qK2TCrLGQ"
      }
    },
    {
      "cell_type": "code",
      "source": [
        "!python verification.py --model_name wavlm_large \\\n",
        " --wav1 /content/drive/MyDrive/kb_hindi_wav/844424930656675-929-m.wav \\\n",
        " --wav2 /content/drive/MyDrive/kb_hindi_wav/844424930656675-929-m.wav \\\n",
        " --checkpoint /content/drive/MyDrive/Classroom/wavlm_large_finetune.pth"
      ],
      "metadata": {
        "colab": {
          "base_uri": "https://localhost:8080/"
        },
        "id": "ShuJ4_aio8s2",
        "outputId": "7c8b09cc-3168-4ef3-dc3b-d909563b745b"
      },
      "execution_count": 6,
      "outputs": [
        {
          "output_type": "stream",
          "name": "stdout",
          "text": [
            "2024-04-05 09:50:34.138275: E external/local_xla/xla/stream_executor/cuda/cuda_dnn.cc:9261] Unable to register cuDNN factory: Attempting to register factory for plugin cuDNN when one has already been registered\n",
            "2024-04-05 09:50:34.138324: E external/local_xla/xla/stream_executor/cuda/cuda_fft.cc:607] Unable to register cuFFT factory: Attempting to register factory for plugin cuFFT when one has already been registered\n",
            "2024-04-05 09:50:34.241450: E external/local_xla/xla/stream_executor/cuda/cuda_blas.cc:1515] Unable to register cuBLAS factory: Attempting to register factory for plugin cuBLAS when one has already been registered\n",
            "2024-04-05 09:50:34.452265: I tensorflow/core/platform/cpu_feature_guard.cc:182] This TensorFlow binary is optimized to use available CPU instructions in performance-critical operations.\n",
            "To enable the following instructions: AVX2 FMA, in other operations, rebuild TensorFlow with the appropriate compiler flags.\n",
            "2024-04-05 09:50:36.379048: W tensorflow/compiler/tf2tensorrt/utils/py_utils.cc:38] TF-TRT Warning: Could not find TensorRT\n",
            "2024-04-05 09:50:40 | INFO | fairseq.tasks.text_to_speech | Please install tensorboardX: pip install tensorboardX\n",
            "/content/fairseq/fairseq/tasks/multires_hubert_pretraining.py:154: SyntaxWarning: \"is not\" with a literal. Did you mean \"!=\"?\n",
            "  dictionaries = [ (Dictionary.load(f\"{label_dir}/dict.{label}.txt\") if label is not \"\" else None ) for label in self.cfg.labels]\n",
            "/usr/local/lib/python3.10/dist-packages/torch/hub.py:294: UserWarning: You are about to download and run code from an untrusted repository. In a future release, this won't be allowed. To add the repository to your trusted list, change the command to {calling_fn}(..., trust_repo=False) and a command prompt will appear asking for an explicit confirmation of trust, or load(..., trust_repo=True), which will assume that the prompt is to be answered with 'yes'. You can also use load(..., trust_repo='check') which will only prompt for confirmation if the repo is not already trusted. This will eventually be the default behaviour\n",
            "  warnings.warn(\n",
            "Downloading: \"https://github.com/s3prl/s3prl/zipball/main\" to /root/.cache/torch/hub/main.zip\n",
            "/usr/local/lib/python3.10/dist-packages/s3prl/upstream/byol_s/byol_a/common.py:20: UserWarning: torchaudio._backend.set_audio_backend has been deprecated. With dispatcher enabled, this function is no-op. You can remove the function call.\n",
            "  torchaudio.set_audio_backend(\"sox_io\")\n",
            "2024-04-05 09:50:48 | WARNING | s3prl.upstream.espnet_hubert.expert | ESPnet is not installed, cannot use espnet_hubert upstream\n",
            "2024-04-05 09:50:49 | INFO | s3prl.util.download | Requesting URL: https://huggingface.co/s3prl/converted_ckpts/resolve/main/wavlm_large.pt\n",
            "Downloading: https://huggingface.co/s3prl/converted_ckpts/resolve/main/wavlm_large.pt\n",
            "Destination: /root/.cache/s3prl/download/f2d5200177fd6a33b278b7b76b454f25cd8ee866d55c122e69fccf6c7467d37d.wavlm_large.pt\n",
            "100% 1.18G/1.18G [00:22<00:00, 57.0MB/s]\n",
            "2024-04-05 09:51:12 | INFO | s3prl.util.download | Using URL's local file: /root/.cache/s3prl/download/f2d5200177fd6a33b278b7b76b454f25cd8ee866d55c122e69fccf6c7467d37d.wavlm_large.pt\n",
            "2024-04-05 09:51:13 | INFO | s3prl.upstream.wavlm.WavLM | WavLM Config: {'extractor_mode': 'layer_norm', 'encoder_layers': 24, 'encoder_embed_dim': 1024, 'encoder_ffn_embed_dim': 4096, 'encoder_attention_heads': 16, 'activation_fn': 'gelu', 'layer_norm_first': True, 'conv_feature_layers': '[(512,10,5)] + [(512,3,2)] * 4 + [(512,2,2)] * 2', 'conv_bias': False, 'feature_grad_mult': 1.0, 'normalize': True, 'dropout': 0.0, 'attention_dropout': 0.0, 'activation_dropout': 0.0, 'encoder_layerdrop': 0.0, 'dropout_input': 0.0, 'dropout_features': 0.0, 'mask_length': 10, 'mask_prob': 0.8, 'mask_selection': 'static', 'mask_other': 0.0, 'no_mask_overlap': False, 'mask_min_space': 1, 'mask_channel_length': 10, 'mask_channel_prob': 0.0, 'mask_channel_selection': 'static', 'mask_channel_other': 0.0, 'no_mask_channel_overlap': False, 'mask_channel_min_space': 1, 'conv_pos': 128, 'conv_pos_groups': 16, 'relative_position_embedding': True, 'num_buckets': 320, 'max_distance': 800, 'gru_rel_pos': True}\n",
            "/usr/local/lib/python3.10/dist-packages/torch/nn/utils/weight_norm.py:28: UserWarning: torch.nn.utils.weight_norm is deprecated in favor of torch.nn.utils.parametrizations.weight_norm.\n",
            "  warnings.warn(\"torch.nn.utils.weight_norm is deprecated in favor of torch.nn.utils.parametrizations.weight_norm.\")\n",
            "/usr/local/lib/python3.10/dist-packages/torch/nn/functional.py:5109: UserWarning: Support for mismatched key_padding_mask and attn_mask is deprecated. Use same type for both instead.\n",
            "  warnings.warn(\n",
            "The similarity score between two audios is 1.0000 (-1.0, 1.0).\n",
            "1.0000001192092896\n"
          ]
        }
      ]
    },
    {
      "cell_type": "markdown",
      "source": [
        "##### 2 different speaker"
      ],
      "metadata": {
        "id": "DBGAMcXArO9Z"
      }
    },
    {
      "cell_type": "code",
      "source": [
        "!python verification.py --model_name wavlm_large \\\n",
        " --wav1 /content/drive/MyDrive/kb_hindi_wav/844424930656675-929-m.wav \\\n",
        " --wav2 /content/drive/MyDrive/kb_hindi_wav/844424930648278-384-f.wav \\\n",
        " --checkpoint /content/drive/MyDrive/Classroom/wavlm_large_finetune.pth"
      ],
      "metadata": {
        "colab": {
          "base_uri": "https://localhost:8080/"
        },
        "id": "3smJxpLIpPcZ",
        "outputId": "ca3bc353-b66c-4a8c-8f5b-815383ff6f40"
      },
      "execution_count": 7,
      "outputs": [
        {
          "output_type": "stream",
          "name": "stdout",
          "text": [
            "2024-04-05 09:51:43.192279: E external/local_xla/xla/stream_executor/cuda/cuda_dnn.cc:9261] Unable to register cuDNN factory: Attempting to register factory for plugin cuDNN when one has already been registered\n",
            "2024-04-05 09:51:43.192325: E external/local_xla/xla/stream_executor/cuda/cuda_fft.cc:607] Unable to register cuFFT factory: Attempting to register factory for plugin cuFFT when one has already been registered\n",
            "2024-04-05 09:51:43.193781: E external/local_xla/xla/stream_executor/cuda/cuda_blas.cc:1515] Unable to register cuBLAS factory: Attempting to register factory for plugin cuBLAS when one has already been registered\n",
            "2024-04-05 09:51:43.201470: I tensorflow/core/platform/cpu_feature_guard.cc:182] This TensorFlow binary is optimized to use available CPU instructions in performance-critical operations.\n",
            "To enable the following instructions: AVX2 FMA, in other operations, rebuild TensorFlow with the appropriate compiler flags.\n",
            "2024-04-05 09:51:44.933663: W tensorflow/compiler/tf2tensorrt/utils/py_utils.cc:38] TF-TRT Warning: Could not find TensorRT\n",
            "2024-04-05 09:51:48 | INFO | fairseq.tasks.text_to_speech | Please install tensorboardX: pip install tensorboardX\n",
            "Using cache found in /root/.cache/torch/hub/s3prl_s3prl_main\n",
            "/usr/local/lib/python3.10/dist-packages/s3prl/upstream/byol_s/byol_a/common.py:20: UserWarning: torchaudio._backend.set_audio_backend has been deprecated. With dispatcher enabled, this function is no-op. You can remove the function call.\n",
            "  torchaudio.set_audio_backend(\"sox_io\")\n",
            "2024-04-05 09:51:50 | WARNING | s3prl.upstream.espnet_hubert.expert | ESPnet is not installed, cannot use espnet_hubert upstream\n",
            "2024-04-05 09:51:50 | INFO | s3prl.util.download | Requesting URL: https://huggingface.co/s3prl/converted_ckpts/resolve/main/wavlm_large.pt\n",
            "2024-04-05 09:51:50 | INFO | s3prl.util.download | Using URL's local file: /root/.cache/s3prl/download/f2d5200177fd6a33b278b7b76b454f25cd8ee866d55c122e69fccf6c7467d37d.wavlm_large.pt\n",
            "2024-04-05 09:51:51 | INFO | s3prl.upstream.wavlm.WavLM | WavLM Config: {'extractor_mode': 'layer_norm', 'encoder_layers': 24, 'encoder_embed_dim': 1024, 'encoder_ffn_embed_dim': 4096, 'encoder_attention_heads': 16, 'activation_fn': 'gelu', 'layer_norm_first': True, 'conv_feature_layers': '[(512,10,5)] + [(512,3,2)] * 4 + [(512,2,2)] * 2', 'conv_bias': False, 'feature_grad_mult': 1.0, 'normalize': True, 'dropout': 0.0, 'attention_dropout': 0.0, 'activation_dropout': 0.0, 'encoder_layerdrop': 0.0, 'dropout_input': 0.0, 'dropout_features': 0.0, 'mask_length': 10, 'mask_prob': 0.8, 'mask_selection': 'static', 'mask_other': 0.0, 'no_mask_overlap': False, 'mask_min_space': 1, 'mask_channel_length': 10, 'mask_channel_prob': 0.0, 'mask_channel_selection': 'static', 'mask_channel_other': 0.0, 'no_mask_channel_overlap': False, 'mask_channel_min_space': 1, 'conv_pos': 128, 'conv_pos_groups': 16, 'relative_position_embedding': True, 'num_buckets': 320, 'max_distance': 800, 'gru_rel_pos': True}\n",
            "/usr/local/lib/python3.10/dist-packages/torch/nn/utils/weight_norm.py:28: UserWarning: torch.nn.utils.weight_norm is deprecated in favor of torch.nn.utils.parametrizations.weight_norm.\n",
            "  warnings.warn(\"torch.nn.utils.weight_norm is deprecated in favor of torch.nn.utils.parametrizations.weight_norm.\")\n",
            "/usr/local/lib/python3.10/dist-packages/torch/nn/functional.py:5109: UserWarning: Support for mismatched key_padding_mask and attn_mask is deprecated. Use same type for both instead.\n",
            "  warnings.warn(\n",
            "The similarity score between two audios is 0.1019 (-1.0, 1.0).\n",
            "0.10188543051481247\n"
          ]
        }
      ]
    },
    {
      "cell_type": "code",
      "source": [],
      "metadata": {
        "id": "Ufe836t-NMgs"
      },
      "execution_count": null,
      "outputs": []
    },
    {
      "cell_type": "markdown",
      "source": [
        "#### Speaker verification using Hubert_Large model (few sampels)"
      ],
      "metadata": {
        "id": "2SKcxHjnpvNX"
      }
    },
    {
      "cell_type": "code",
      "source": [
        "# %cd /content/UniSpeech/downstreams/speaker_verification"
      ],
      "metadata": {
        "id": "xnshUr-ep7Rs"
      },
      "execution_count": null,
      "outputs": []
    },
    {
      "cell_type": "code",
      "source": [
        "# checkpoint_path = 'config/unispeech_sat.th'\n",
        "checkpoint_path = \"/content/drive/MyDrive/Classroom/hubert_large_finetune.pth\"\n",
        "# checkpoint_path = \"/content/drive/MyDrive/Classroom/wavlm_large_finetune.pth\""
      ],
      "metadata": {
        "id": "d4sQBBo4p7Rs"
      },
      "execution_count": 8,
      "outputs": []
    },
    {
      "cell_type": "markdown",
      "source": [
        "##### 2 same speaker"
      ],
      "metadata": {
        "id": "X5ogqh-jrWLW"
      }
    },
    {
      "cell_type": "code",
      "source": [
        "!python verification.py --model_name hubert_large \\\n",
        " --wav1 /content/drive/MyDrive/kb_hindi_wav/844424930656675-929-m.wav \\\n",
        " --wav2 /content/drive/MyDrive/kb_hindi_wav/844424930656675-929-m.wav  \\\n",
        " --checkpoint /content/drive/MyDrive/Classroom/hubert_large_finetune.pth"
      ],
      "metadata": {
        "colab": {
          "base_uri": "https://localhost:8080/"
        },
        "outputId": "3d1b9f33-d96a-4893-f691-daa111ab6f52",
        "id": "Q23jiMsxp7Rv"
      },
      "execution_count": 19,
      "outputs": [
        {
          "output_type": "stream",
          "name": "stdout",
          "text": [
            "2024-04-05 09:57:16.213369: E external/local_xla/xla/stream_executor/cuda/cuda_dnn.cc:9261] Unable to register cuDNN factory: Attempting to register factory for plugin cuDNN when one has already been registered\n",
            "2024-04-05 09:57:16.213423: E external/local_xla/xla/stream_executor/cuda/cuda_fft.cc:607] Unable to register cuFFT factory: Attempting to register factory for plugin cuFFT when one has already been registered\n",
            "2024-04-05 09:57:16.215328: E external/local_xla/xla/stream_executor/cuda/cuda_blas.cc:1515] Unable to register cuBLAS factory: Attempting to register factory for plugin cuBLAS when one has already been registered\n",
            "2024-04-05 09:57:18.068382: W tensorflow/compiler/tf2tensorrt/utils/py_utils.cc:38] TF-TRT Warning: Could not find TensorRT\n",
            "2024-04-05 09:57:20 | INFO | fairseq.tasks.text_to_speech | Please install tensorboardX: pip install tensorboardX\n",
            "Using cache found in /root/.cache/torch/hub/s3prl_s3prl_main\n",
            "/usr/local/lib/python3.10/dist-packages/s3prl/upstream/byol_s/byol_a/common.py:20: UserWarning: torchaudio._backend.set_audio_backend has been deprecated. With dispatcher enabled, this function is no-op. You can remove the function call.\n",
            "  torchaudio.set_audio_backend(\"sox_io\")\n",
            "2024-04-05 09:57:22 | WARNING | s3prl.upstream.espnet_hubert.expert | ESPnet is not installed, cannot use espnet_hubert upstream\n",
            "2024-04-05 09:57:22 | INFO | s3prl.util.download | Requesting URL: https://huggingface.co/s3prl/converted_ckpts/resolve/main/hubert_large_ll60k.pt\n",
            "2024-04-05 09:57:22 | INFO | s3prl.util.download | Using URL's local file: /root/.cache/s3prl/download/544f5b47ce48ad4c05bc671e6e1ee1a077f5804393136a526c40d78719a314ee.hubert_large_ll60k.pt\n",
            "2024-04-05 09:57:23 | INFO | s3prl.upstream.hubert.hubert_model | HubertModel Config: HubertConfig(label_rate=50, extractor_mode='layer_norm', encoder_layers=24, encoder_embed_dim=1024, encoder_ffn_embed_dim=4096, encoder_attention_heads=16, activation_fn='gelu', layer_type='transformer', dropout=0.0, attention_dropout=0.0, activation_dropout=0.0, encoder_layerdrop=0.0, dropout_input=0.0, dropout_features=0.0, final_dim=768, untie_final_proj=True, layer_norm_first=True, conv_feature_layers='[(512,10,5)] + [(512,3,2)] * 4 + [(512,2,2)] * 2', conv_bias=False, logit_temp=0.1, target_glu=False, feature_grad_mult=1.0, mask_length=10, mask_prob=0.8, mask_selection='static', mask_other=0.0, no_mask_overlap=False, mask_min_space=1, mask_channel_length=10, mask_channel_prob=0.0, mask_channel_selection='static', mask_channel_other=0.0, no_mask_channel_overlap=False, mask_channel_min_space=1, conv_pos=128, conv_pos_groups=16, latent_temp=[2.0, 0.5, 0.999995], skip_masked=False, skip_nomask=True, checkpoint_activations=False, required_seq_len_multiple=2, depthwise_conv_kernel_size=31, attn_type='', pos_enc_type='abs', fp16=False)\n",
            "/usr/local/lib/python3.10/dist-packages/torch/nn/utils/weight_norm.py:28: UserWarning: torch.nn.utils.weight_norm is deprecated in favor of torch.nn.utils.parametrizations.weight_norm.\n",
            "  warnings.warn(\"torch.nn.utils.weight_norm is deprecated in favor of torch.nn.utils.parametrizations.weight_norm.\")\n",
            "The similarity score between two audios is 1.0000 (-1.0, 1.0).\n",
            "1.0000001192092896\n"
          ]
        }
      ]
    },
    {
      "cell_type": "markdown",
      "source": [
        "##### 2 different speaker"
      ],
      "metadata": {
        "id": "GAz-fw7krZ5z"
      }
    },
    {
      "cell_type": "code",
      "source": [
        "!python verification.py --model_name hubert_large \\\n",
        " --wav1 /content/drive/MyDrive/kb_hindi_wav/844424930656675-929-m.wav \\\n",
        " --wav2 /content/drive/MyDrive/kb_hindi_wav/844424930648278-384-f.wav  \\\n",
        " --checkpoint /content/drive/MyDrive/Classroom/hubert_large_finetune.pth"
      ],
      "metadata": {
        "colab": {
          "base_uri": "https://localhost:8080/"
        },
        "outputId": "a2463a64-dee4-4912-c9c6-3ede84509c69",
        "id": "JqFlmchwp7Rv"
      },
      "execution_count": 20,
      "outputs": [
        {
          "output_type": "stream",
          "name": "stdout",
          "text": [
            "2024-04-05 09:57:48.547968: E external/local_xla/xla/stream_executor/cuda/cuda_dnn.cc:9261] Unable to register cuDNN factory: Attempting to register factory for plugin cuDNN when one has already been registered\n",
            "2024-04-05 09:57:48.548016: E external/local_xla/xla/stream_executor/cuda/cuda_fft.cc:607] Unable to register cuFFT factory: Attempting to register factory for plugin cuFFT when one has already been registered\n",
            "2024-04-05 09:57:48.549336: E external/local_xla/xla/stream_executor/cuda/cuda_blas.cc:1515] Unable to register cuBLAS factory: Attempting to register factory for plugin cuBLAS when one has already been registered\n",
            "2024-04-05 09:57:49.634314: W tensorflow/compiler/tf2tensorrt/utils/py_utils.cc:38] TF-TRT Warning: Could not find TensorRT\n",
            "2024-04-05 09:57:52 | INFO | fairseq.tasks.text_to_speech | Please install tensorboardX: pip install tensorboardX\n",
            "Using cache found in /root/.cache/torch/hub/s3prl_s3prl_main\n",
            "/usr/local/lib/python3.10/dist-packages/s3prl/upstream/byol_s/byol_a/common.py:20: UserWarning: torchaudio._backend.set_audio_backend has been deprecated. With dispatcher enabled, this function is no-op. You can remove the function call.\n",
            "  torchaudio.set_audio_backend(\"sox_io\")\n",
            "2024-04-05 09:57:54 | WARNING | s3prl.upstream.espnet_hubert.expert | ESPnet is not installed, cannot use espnet_hubert upstream\n",
            "2024-04-05 09:57:54 | INFO | s3prl.util.download | Requesting URL: https://huggingface.co/s3prl/converted_ckpts/resolve/main/hubert_large_ll60k.pt\n",
            "2024-04-05 09:57:54 | INFO | s3prl.util.download | Using URL's local file: /root/.cache/s3prl/download/544f5b47ce48ad4c05bc671e6e1ee1a077f5804393136a526c40d78719a314ee.hubert_large_ll60k.pt\n",
            "2024-04-05 09:57:56 | INFO | s3prl.upstream.hubert.hubert_model | HubertModel Config: HubertConfig(label_rate=50, extractor_mode='layer_norm', encoder_layers=24, encoder_embed_dim=1024, encoder_ffn_embed_dim=4096, encoder_attention_heads=16, activation_fn='gelu', layer_type='transformer', dropout=0.0, attention_dropout=0.0, activation_dropout=0.0, encoder_layerdrop=0.0, dropout_input=0.0, dropout_features=0.0, final_dim=768, untie_final_proj=True, layer_norm_first=True, conv_feature_layers='[(512,10,5)] + [(512,3,2)] * 4 + [(512,2,2)] * 2', conv_bias=False, logit_temp=0.1, target_glu=False, feature_grad_mult=1.0, mask_length=10, mask_prob=0.8, mask_selection='static', mask_other=0.0, no_mask_overlap=False, mask_min_space=1, mask_channel_length=10, mask_channel_prob=0.0, mask_channel_selection='static', mask_channel_other=0.0, no_mask_channel_overlap=False, mask_channel_min_space=1, conv_pos=128, conv_pos_groups=16, latent_temp=[2.0, 0.5, 0.999995], skip_masked=False, skip_nomask=True, checkpoint_activations=False, required_seq_len_multiple=2, depthwise_conv_kernel_size=31, attn_type='', pos_enc_type='abs', fp16=False)\n",
            "/usr/local/lib/python3.10/dist-packages/torch/nn/utils/weight_norm.py:28: UserWarning: torch.nn.utils.weight_norm is deprecated in favor of torch.nn.utils.parametrizations.weight_norm.\n",
            "  warnings.warn(\"torch.nn.utils.weight_norm is deprecated in favor of torch.nn.utils.parametrizations.weight_norm.\")\n",
            "The similarity score between two audios is 0.0897 (-1.0, 1.0).\n",
            "0.08972521126270294\n"
          ]
        }
      ]
    },
    {
      "cell_type": "code",
      "source": [],
      "metadata": {
        "id": "f82Sn7vnNPhn"
      },
      "execution_count": null,
      "outputs": []
    },
    {
      "cell_type": "markdown",
      "source": [
        "#### prediction on subsample of kb_hindi\n"
      ],
      "metadata": {
        "id": "gTdRqYc35JWy"
      }
    },
    {
      "cell_type": "code",
      "source": [
        "from verification import verification\n",
        "# added return sim[0].item() at end of verificaion function in verification.py to return score"
      ],
      "metadata": {
        "id": "u8z9dIjhp7Rv"
      },
      "execution_count": 21,
      "outputs": []
    },
    {
      "cell_type": "code",
      "source": [
        "similarity_score = verification(model_name = 'hubert_large',\n",
        "                                wav1 = '/content/drive/MyDrive/kb_hindi_wav/844424930656675-929-m.wav',\n",
        "                                wav2 = '/content/drive/MyDrive/kb_hindi_wav/844424930648278-384-f.wav' ,\n",
        "                                checkpoint = '/content/drive/MyDrive/Classroom/hubert_large_finetune.pth' )"
      ],
      "metadata": {
        "colab": {
          "base_uri": "https://localhost:8080/"
        },
        "id": "9nhIvpCWrrg5",
        "outputId": "904e25cf-b83f-4705-8ab6-c0897b16a19a"
      },
      "execution_count": 22,
      "outputs": [
        {
          "output_type": "stream",
          "name": "stderr",
          "text": [
            "Using cache found in /root/.cache/torch/hub/s3prl_s3prl_main\n"
          ]
        },
        {
          "output_type": "stream",
          "name": "stdout",
          "text": [
            "The similarity score between two audios is 0.0897 (-1.0, 1.0).\n"
          ]
        }
      ]
    },
    {
      "cell_type": "code",
      "source": [
        "similarity_score"
      ],
      "metadata": {
        "colab": {
          "base_uri": "https://localhost:8080/"
        },
        "id": "bZ9kl4tMsFCu",
        "outputId": "6b7e72e4-5ad6-4fbe-bf16-0eec2856d85c"
      },
      "execution_count": 23,
      "outputs": [
        {
          "output_type": "execute_result",
          "data": {
            "text/plain": [
              "0.08972521126270294"
            ]
          },
          "metadata": {},
          "execution_count": 23
        }
      ]
    },
    {
      "cell_type": "code",
      "source": [
        "import pandas as pd\n",
        "import itertools\n",
        "import random\n",
        "from tqdm import tqdm\n",
        "tqdm.pandas()"
      ],
      "metadata": {
        "id": "p2C1hjY6vK8g"
      },
      "execution_count": 24,
      "outputs": []
    },
    {
      "cell_type": "code",
      "source": [
        "df = pd.DataFrame(hindi_wav_list, columns = ['wav_file'])\n",
        "df['speaker_id'] = df.wav_file.apply(lambda x : '-'.join(x.split('/')[-1].split('.')[0].split('-')[1:]))\n",
        "df.head(2)"
      ],
      "metadata": {
        "colab": {
          "base_uri": "https://localhost:8080/",
          "height": 112
        },
        "id": "AtCqshpvvIsD",
        "outputId": "d052d80f-3367-48ce-aa96-efa0fbee53a6"
      },
      "execution_count": 25,
      "outputs": [
        {
          "output_type": "execute_result",
          "data": {
            "text/plain": [
              "                                            wav_file speaker_id\n",
              "0  /content/drive/MyDrive/kb_hindi_wav/8444249306...      929-m\n",
              "1  /content/drive/MyDrive/kb_hindi_wav/8444249306...      384-f"
            ],
            "text/html": [
              "\n",
              "  <div id=\"df-b92db15a-39ed-4548-8f98-5750b4c38dda\" class=\"colab-df-container\">\n",
              "    <div>\n",
              "<style scoped>\n",
              "    .dataframe tbody tr th:only-of-type {\n",
              "        vertical-align: middle;\n",
              "    }\n",
              "\n",
              "    .dataframe tbody tr th {\n",
              "        vertical-align: top;\n",
              "    }\n",
              "\n",
              "    .dataframe thead th {\n",
              "        text-align: right;\n",
              "    }\n",
              "</style>\n",
              "<table border=\"1\" class=\"dataframe\">\n",
              "  <thead>\n",
              "    <tr style=\"text-align: right;\">\n",
              "      <th></th>\n",
              "      <th>wav_file</th>\n",
              "      <th>speaker_id</th>\n",
              "    </tr>\n",
              "  </thead>\n",
              "  <tbody>\n",
              "    <tr>\n",
              "      <th>0</th>\n",
              "      <td>/content/drive/MyDrive/kb_hindi_wav/8444249306...</td>\n",
              "      <td>929-m</td>\n",
              "    </tr>\n",
              "    <tr>\n",
              "      <th>1</th>\n",
              "      <td>/content/drive/MyDrive/kb_hindi_wav/8444249306...</td>\n",
              "      <td>384-f</td>\n",
              "    </tr>\n",
              "  </tbody>\n",
              "</table>\n",
              "</div>\n",
              "    <div class=\"colab-df-buttons\">\n",
              "\n",
              "  <div class=\"colab-df-container\">\n",
              "    <button class=\"colab-df-convert\" onclick=\"convertToInteractive('df-b92db15a-39ed-4548-8f98-5750b4c38dda')\"\n",
              "            title=\"Convert this dataframe to an interactive table.\"\n",
              "            style=\"display:none;\">\n",
              "\n",
              "  <svg xmlns=\"http://www.w3.org/2000/svg\" height=\"24px\" viewBox=\"0 -960 960 960\">\n",
              "    <path d=\"M120-120v-720h720v720H120Zm60-500h600v-160H180v160Zm220 220h160v-160H400v160Zm0 220h160v-160H400v160ZM180-400h160v-160H180v160Zm440 0h160v-160H620v160ZM180-180h160v-160H180v160Zm440 0h160v-160H620v160Z\"/>\n",
              "  </svg>\n",
              "    </button>\n",
              "\n",
              "  <style>\n",
              "    .colab-df-container {\n",
              "      display:flex;\n",
              "      gap: 12px;\n",
              "    }\n",
              "\n",
              "    .colab-df-convert {\n",
              "      background-color: #E8F0FE;\n",
              "      border: none;\n",
              "      border-radius: 50%;\n",
              "      cursor: pointer;\n",
              "      display: none;\n",
              "      fill: #1967D2;\n",
              "      height: 32px;\n",
              "      padding: 0 0 0 0;\n",
              "      width: 32px;\n",
              "    }\n",
              "\n",
              "    .colab-df-convert:hover {\n",
              "      background-color: #E2EBFA;\n",
              "      box-shadow: 0px 1px 2px rgba(60, 64, 67, 0.3), 0px 1px 3px 1px rgba(60, 64, 67, 0.15);\n",
              "      fill: #174EA6;\n",
              "    }\n",
              "\n",
              "    .colab-df-buttons div {\n",
              "      margin-bottom: 4px;\n",
              "    }\n",
              "\n",
              "    [theme=dark] .colab-df-convert {\n",
              "      background-color: #3B4455;\n",
              "      fill: #D2E3FC;\n",
              "    }\n",
              "\n",
              "    [theme=dark] .colab-df-convert:hover {\n",
              "      background-color: #434B5C;\n",
              "      box-shadow: 0px 1px 3px 1px rgba(0, 0, 0, 0.15);\n",
              "      filter: drop-shadow(0px 1px 2px rgba(0, 0, 0, 0.3));\n",
              "      fill: #FFFFFF;\n",
              "    }\n",
              "  </style>\n",
              "\n",
              "    <script>\n",
              "      const buttonEl =\n",
              "        document.querySelector('#df-b92db15a-39ed-4548-8f98-5750b4c38dda button.colab-df-convert');\n",
              "      buttonEl.style.display =\n",
              "        google.colab.kernel.accessAllowed ? 'block' : 'none';\n",
              "\n",
              "      async function convertToInteractive(key) {\n",
              "        const element = document.querySelector('#df-b92db15a-39ed-4548-8f98-5750b4c38dda');\n",
              "        const dataTable =\n",
              "          await google.colab.kernel.invokeFunction('convertToInteractive',\n",
              "                                                    [key], {});\n",
              "        if (!dataTable) return;\n",
              "\n",
              "        const docLinkHtml = 'Like what you see? Visit the ' +\n",
              "          '<a target=\"_blank\" href=https://colab.research.google.com/notebooks/data_table.ipynb>data table notebook</a>'\n",
              "          + ' to learn more about interactive tables.';\n",
              "        element.innerHTML = '';\n",
              "        dataTable['output_type'] = 'display_data';\n",
              "        await google.colab.output.renderOutput(dataTable, element);\n",
              "        const docLink = document.createElement('div');\n",
              "        docLink.innerHTML = docLinkHtml;\n",
              "        element.appendChild(docLink);\n",
              "      }\n",
              "    </script>\n",
              "  </div>\n",
              "\n",
              "\n",
              "<div id=\"df-f10be4fe-c37f-4747-a705-1b303b865f86\">\n",
              "  <button class=\"colab-df-quickchart\" onclick=\"quickchart('df-f10be4fe-c37f-4747-a705-1b303b865f86')\"\n",
              "            title=\"Suggest charts\"\n",
              "            style=\"display:none;\">\n",
              "\n",
              "<svg xmlns=\"http://www.w3.org/2000/svg\" height=\"24px\"viewBox=\"0 0 24 24\"\n",
              "     width=\"24px\">\n",
              "    <g>\n",
              "        <path d=\"M19 3H5c-1.1 0-2 .9-2 2v14c0 1.1.9 2 2 2h14c1.1 0 2-.9 2-2V5c0-1.1-.9-2-2-2zM9 17H7v-7h2v7zm4 0h-2V7h2v10zm4 0h-2v-4h2v4z\"/>\n",
              "    </g>\n",
              "</svg>\n",
              "  </button>\n",
              "\n",
              "<style>\n",
              "  .colab-df-quickchart {\n",
              "      --bg-color: #E8F0FE;\n",
              "      --fill-color: #1967D2;\n",
              "      --hover-bg-color: #E2EBFA;\n",
              "      --hover-fill-color: #174EA6;\n",
              "      --disabled-fill-color: #AAA;\n",
              "      --disabled-bg-color: #DDD;\n",
              "  }\n",
              "\n",
              "  [theme=dark] .colab-df-quickchart {\n",
              "      --bg-color: #3B4455;\n",
              "      --fill-color: #D2E3FC;\n",
              "      --hover-bg-color: #434B5C;\n",
              "      --hover-fill-color: #FFFFFF;\n",
              "      --disabled-bg-color: #3B4455;\n",
              "      --disabled-fill-color: #666;\n",
              "  }\n",
              "\n",
              "  .colab-df-quickchart {\n",
              "    background-color: var(--bg-color);\n",
              "    border: none;\n",
              "    border-radius: 50%;\n",
              "    cursor: pointer;\n",
              "    display: none;\n",
              "    fill: var(--fill-color);\n",
              "    height: 32px;\n",
              "    padding: 0;\n",
              "    width: 32px;\n",
              "  }\n",
              "\n",
              "  .colab-df-quickchart:hover {\n",
              "    background-color: var(--hover-bg-color);\n",
              "    box-shadow: 0 1px 2px rgba(60, 64, 67, 0.3), 0 1px 3px 1px rgba(60, 64, 67, 0.15);\n",
              "    fill: var(--button-hover-fill-color);\n",
              "  }\n",
              "\n",
              "  .colab-df-quickchart-complete:disabled,\n",
              "  .colab-df-quickchart-complete:disabled:hover {\n",
              "    background-color: var(--disabled-bg-color);\n",
              "    fill: var(--disabled-fill-color);\n",
              "    box-shadow: none;\n",
              "  }\n",
              "\n",
              "  .colab-df-spinner {\n",
              "    border: 2px solid var(--fill-color);\n",
              "    border-color: transparent;\n",
              "    border-bottom-color: var(--fill-color);\n",
              "    animation:\n",
              "      spin 1s steps(1) infinite;\n",
              "  }\n",
              "\n",
              "  @keyframes spin {\n",
              "    0% {\n",
              "      border-color: transparent;\n",
              "      border-bottom-color: var(--fill-color);\n",
              "      border-left-color: var(--fill-color);\n",
              "    }\n",
              "    20% {\n",
              "      border-color: transparent;\n",
              "      border-left-color: var(--fill-color);\n",
              "      border-top-color: var(--fill-color);\n",
              "    }\n",
              "    30% {\n",
              "      border-color: transparent;\n",
              "      border-left-color: var(--fill-color);\n",
              "      border-top-color: var(--fill-color);\n",
              "      border-right-color: var(--fill-color);\n",
              "    }\n",
              "    40% {\n",
              "      border-color: transparent;\n",
              "      border-right-color: var(--fill-color);\n",
              "      border-top-color: var(--fill-color);\n",
              "    }\n",
              "    60% {\n",
              "      border-color: transparent;\n",
              "      border-right-color: var(--fill-color);\n",
              "    }\n",
              "    80% {\n",
              "      border-color: transparent;\n",
              "      border-right-color: var(--fill-color);\n",
              "      border-bottom-color: var(--fill-color);\n",
              "    }\n",
              "    90% {\n",
              "      border-color: transparent;\n",
              "      border-bottom-color: var(--fill-color);\n",
              "    }\n",
              "  }\n",
              "</style>\n",
              "\n",
              "  <script>\n",
              "    async function quickchart(key) {\n",
              "      const quickchartButtonEl =\n",
              "        document.querySelector('#' + key + ' button');\n",
              "      quickchartButtonEl.disabled = true;  // To prevent multiple clicks.\n",
              "      quickchartButtonEl.classList.add('colab-df-spinner');\n",
              "      try {\n",
              "        const charts = await google.colab.kernel.invokeFunction(\n",
              "            'suggestCharts', [key], {});\n",
              "      } catch (error) {\n",
              "        console.error('Error during call to suggestCharts:', error);\n",
              "      }\n",
              "      quickchartButtonEl.classList.remove('colab-df-spinner');\n",
              "      quickchartButtonEl.classList.add('colab-df-quickchart-complete');\n",
              "    }\n",
              "    (() => {\n",
              "      let quickchartButtonEl =\n",
              "        document.querySelector('#df-f10be4fe-c37f-4747-a705-1b303b865f86 button');\n",
              "      quickchartButtonEl.style.display =\n",
              "        google.colab.kernel.accessAllowed ? 'block' : 'none';\n",
              "    })();\n",
              "  </script>\n",
              "</div>\n",
              "    </div>\n",
              "  </div>\n"
            ],
            "application/vnd.google.colaboratory.intrinsic+json": {
              "type": "dataframe",
              "variable_name": "df",
              "summary": "{\n  \"name\": \"df\",\n  \"rows\": 3130,\n  \"fields\": [\n    {\n      \"column\": \"wav_file\",\n      \"properties\": {\n        \"dtype\": \"string\",\n        \"num_unique_values\": 3130,\n        \"samples\": [\n          \"/content/drive/MyDrive/kb_hindi_wav/844424933484267-266-m.wav\",\n          \"/content/drive/MyDrive/kb_hindi_wav/844424932866939-468-f.wav\",\n          \"/content/drive/MyDrive/kb_hindi_wav/844424933475129-390-m.wav\"\n        ],\n        \"semantic_type\": \"\",\n        \"description\": \"\"\n      }\n    },\n    {\n      \"column\": \"speaker_id\",\n      \"properties\": {\n        \"dtype\": \"category\",\n        \"num_unique_values\": 20,\n        \"samples\": [\n          \"929-m\",\n          \"277-f\",\n          \"326-f\"\n        ],\n        \"semantic_type\": \"\",\n        \"description\": \"\"\n      }\n    }\n  ]\n}"
            }
          },
          "metadata": {},
          "execution_count": 25
        }
      ]
    },
    {
      "cell_type": "code",
      "source": [
        "same_speaker_pairs = []\n",
        "different_speaker_pairs = []\n",
        "\n",
        "grouped = df.groupby('speaker_id')\n",
        "for speaker_id, group in grouped:\n",
        "    pairs = list(itertools.combinations(group['wav_file'], 2))\n",
        "    same_speaker_pairs.extend(pairs)\n",
        "\n",
        "    other_speaker_groups = [g['wav_file'] for s_id, g in grouped if s_id != speaker_id]\n",
        "    for other_group in other_speaker_groups:\n",
        "        different_speaker_pairs.extend(list(itertools.product(group['wav_file'], other_group)))\n"
      ],
      "metadata": {
        "id": "5N-DAv_-xFfa"
      },
      "execution_count": 26,
      "outputs": []
    },
    {
      "cell_type": "code",
      "source": [
        "random.shuffle(same_speaker_pairs)\n",
        "random.shuffle(different_speaker_pairs)"
      ],
      "metadata": {
        "id": "k8eLY0PGsEc4"
      },
      "execution_count": 27,
      "outputs": []
    },
    {
      "cell_type": "code",
      "source": [
        "#taking 50 pair for same spekar and 50 for differnt spkear\n",
        "pair1 = same_speaker_pairs[:50]\n",
        "pair0 = different_speaker_pairs[:50]\n",
        "df1 = pd.DataFrame(pair0)\n",
        "df1['label'] = 0\n",
        "df2 = pd.DataFrame(pair1)\n",
        "df2['label'] = 1\n",
        "data_df= pd.concat([df1, df2])\n",
        "data_df.columns = ['wav1', 'wav2', 'label']\n",
        "data_df.shape, data_df.columns"
      ],
      "metadata": {
        "colab": {
          "base_uri": "https://localhost:8080/"
        },
        "id": "03enfpbKxiJh",
        "outputId": "14420f22-f6ef-4e39-9650-6e3b8e058972"
      },
      "execution_count": 33,
      "outputs": [
        {
          "output_type": "execute_result",
          "data": {
            "text/plain": [
              "((100, 3), Index(['wav1', 'wav2', 'label'], dtype='object'))"
            ]
          },
          "metadata": {},
          "execution_count": 33
        }
      ]
    },
    {
      "cell_type": "code",
      "source": [
        "data_df.head(2).values"
      ],
      "metadata": {
        "colab": {
          "base_uri": "https://localhost:8080/"
        },
        "id": "pLQc8SFK0L3y",
        "outputId": "75faff54-612c-4bef-b5d8-a32c28af2f34"
      },
      "execution_count": 34,
      "outputs": [
        {
          "output_type": "execute_result",
          "data": {
            "text/plain": [
              "array([['/content/drive/MyDrive/kb_hindi_wav/844424931032358-229-f.wav',\n",
              "        '/content/drive/MyDrive/kb_hindi_wav/844424930802561-277-f.wav',\n",
              "        0],\n",
              "       ['/content/drive/MyDrive/kb_hindi_wav/844424931086518-326-f.wav',\n",
              "        '/content/drive/MyDrive/kb_hindi_wav/844424933500811-1052-m.wav',\n",
              "        0]], dtype=object)"
            ]
          },
          "metadata": {},
          "execution_count": 34
        }
      ]
    },
    {
      "cell_type": "code",
      "source": [
        "data_df.tail(2).values"
      ],
      "metadata": {
        "colab": {
          "base_uri": "https://localhost:8080/"
        },
        "id": "vnNqJqjumsB7",
        "outputId": "04293cbb-ddf1-46f6-c960-a272621adbe1"
      },
      "execution_count": 35,
      "outputs": [
        {
          "output_type": "execute_result",
          "data": {
            "text/plain": [
              "array([['/content/drive/MyDrive/kb_hindi_wav/844424933493898-266-m.wav',\n",
              "        '/content/drive/MyDrive/kb_hindi_wav/844424933486564-266-m.wav',\n",
              "        1],\n",
              "       ['/content/drive/MyDrive/kb_hindi_wav/844424932314487-1160-m.wav',\n",
              "        '/content/drive/MyDrive/kb_hindi_wav/844424932314541-1160-m.wav',\n",
              "        1]], dtype=object)"
            ]
          },
          "metadata": {},
          "execution_count": 35
        }
      ]
    },
    {
      "cell_type": "code",
      "source": [
        "hubert_df = data_df.copy(deep = True)"
      ],
      "metadata": {
        "id": "cwyY9e9Gn5tl"
      },
      "execution_count": 36,
      "outputs": []
    },
    {
      "cell_type": "code",
      "source": [
        "hubert_df['hubert_large_pred'] = hubert_df.progress_apply(lambda x:verification(model_name = 'hubert_large',\n",
        "                                                          wav1 =x['wav1'],wav2 = x['wav2'],\n",
        "                                          checkpoint=  '/content/drive/MyDrive/Classroom/hubert_large_finetune.pth'),\n",
        "                                                          axis =1)"
      ],
      "metadata": {
        "colab": {
          "base_uri": "https://localhost:8080/"
        },
        "id": "ZJ6aww6axjo5",
        "outputId": "9a22e0cf-973c-4c98-e57f-bcc15d6c5878"
      },
      "execution_count": 38,
      "outputs": [
        {
          "output_type": "stream",
          "name": "stderr",
          "text": [
            "  0%|          | 0/100 [00:00<?, ?it/s]Using cache found in /root/.cache/torch/hub/s3prl_s3prl_main\n",
            "  2%|▏         | 2/100 [00:14<11:54,  7.29s/it]"
          ]
        },
        {
          "output_type": "stream",
          "name": "stdout",
          "text": [
            "The similarity score between two audios is 0.4024 (-1.0, 1.0).\n"
          ]
        },
        {
          "output_type": "stream",
          "name": "stderr",
          "text": [
            "Using cache found in /root/.cache/torch/hub/s3prl_s3prl_main\n",
            "  3%|▎         | 3/100 [00:37<22:01, 13.62s/it]"
          ]
        },
        {
          "output_type": "stream",
          "name": "stdout",
          "text": [
            "The similarity score between two audios is 0.1909 (-1.0, 1.0).\n"
          ]
        },
        {
          "output_type": "stream",
          "name": "stderr",
          "text": [
            "Using cache found in /root/.cache/torch/hub/s3prl_s3prl_main\n",
            "  4%|▍         | 4/100 [00:56<25:04, 15.67s/it]"
          ]
        },
        {
          "output_type": "stream",
          "name": "stdout",
          "text": [
            "The similarity score between two audios is 0.3908 (-1.0, 1.0).\n"
          ]
        },
        {
          "output_type": "stream",
          "name": "stderr",
          "text": [
            "Using cache found in /root/.cache/torch/hub/s3prl_s3prl_main\n",
            "  5%|▌         | 5/100 [01:09<23:21, 14.75s/it]"
          ]
        },
        {
          "output_type": "stream",
          "name": "stdout",
          "text": [
            "The similarity score between two audios is 0.1906 (-1.0, 1.0).\n"
          ]
        },
        {
          "output_type": "stream",
          "name": "stderr",
          "text": [
            "Using cache found in /root/.cache/torch/hub/s3prl_s3prl_main\n",
            "  6%|▌         | 6/100 [01:19<20:50, 13.31s/it]"
          ]
        },
        {
          "output_type": "stream",
          "name": "stdout",
          "text": [
            "The similarity score between two audios is 0.4690 (-1.0, 1.0).\n"
          ]
        },
        {
          "output_type": "stream",
          "name": "stderr",
          "text": [
            "Using cache found in /root/.cache/torch/hub/s3prl_s3prl_main\n",
            "  7%|▋         | 7/100 [01:35<21:55, 14.14s/it]"
          ]
        },
        {
          "output_type": "stream",
          "name": "stdout",
          "text": [
            "The similarity score between two audios is 0.3406 (-1.0, 1.0).\n"
          ]
        },
        {
          "output_type": "stream",
          "name": "stderr",
          "text": [
            "Using cache found in /root/.cache/torch/hub/s3prl_s3prl_main\n",
            "  8%|▊         | 8/100 [01:47<20:31, 13.39s/it]"
          ]
        },
        {
          "output_type": "stream",
          "name": "stdout",
          "text": [
            "The similarity score between two audios is 0.0469 (-1.0, 1.0).\n"
          ]
        },
        {
          "output_type": "stream",
          "name": "stderr",
          "text": [
            "Using cache found in /root/.cache/torch/hub/s3prl_s3prl_main\n",
            "  9%|▉         | 9/100 [01:57<18:51, 12.44s/it]"
          ]
        },
        {
          "output_type": "stream",
          "name": "stdout",
          "text": [
            "The similarity score between two audios is 0.2910 (-1.0, 1.0).\n"
          ]
        },
        {
          "output_type": "stream",
          "name": "stderr",
          "text": [
            "Using cache found in /root/.cache/torch/hub/s3prl_s3prl_main\n",
            " 10%|█         | 10/100 [02:06<16:59, 11.32s/it]"
          ]
        },
        {
          "output_type": "stream",
          "name": "stdout",
          "text": [
            "The similarity score between two audios is 0.1438 (-1.0, 1.0).\n"
          ]
        },
        {
          "output_type": "stream",
          "name": "stderr",
          "text": [
            "Using cache found in /root/.cache/torch/hub/s3prl_s3prl_main\n",
            " 11%|█         | 11/100 [02:15<15:47, 10.64s/it]"
          ]
        },
        {
          "output_type": "stream",
          "name": "stdout",
          "text": [
            "The similarity score between two audios is 0.1026 (-1.0, 1.0).\n"
          ]
        },
        {
          "output_type": "stream",
          "name": "stderr",
          "text": [
            "Using cache found in /root/.cache/torch/hub/s3prl_s3prl_main\n",
            " 12%|█▏        | 12/100 [02:22<14:12,  9.69s/it]"
          ]
        },
        {
          "output_type": "stream",
          "name": "stdout",
          "text": [
            "The similarity score between two audios is 0.0224 (-1.0, 1.0).\n"
          ]
        },
        {
          "output_type": "stream",
          "name": "stderr",
          "text": [
            "Using cache found in /root/.cache/torch/hub/s3prl_s3prl_main\n",
            " 13%|█▎        | 13/100 [02:32<13:52,  9.56s/it]"
          ]
        },
        {
          "output_type": "stream",
          "name": "stdout",
          "text": [
            "The similarity score between two audios is 0.1121 (-1.0, 1.0).\n"
          ]
        },
        {
          "output_type": "stream",
          "name": "stderr",
          "text": [
            "Using cache found in /root/.cache/torch/hub/s3prl_s3prl_main\n",
            " 14%|█▍        | 14/100 [02:41<13:24,  9.35s/it]"
          ]
        },
        {
          "output_type": "stream",
          "name": "stdout",
          "text": [
            "The similarity score between two audios is 0.0192 (-1.0, 1.0).\n"
          ]
        },
        {
          "output_type": "stream",
          "name": "stderr",
          "text": [
            "Using cache found in /root/.cache/torch/hub/s3prl_s3prl_main\n",
            " 15%|█▌        | 15/100 [02:48<12:32,  8.85s/it]"
          ]
        },
        {
          "output_type": "stream",
          "name": "stdout",
          "text": [
            "The similarity score between two audios is -0.0285 (-1.0, 1.0).\n"
          ]
        },
        {
          "output_type": "stream",
          "name": "stderr",
          "text": [
            "Using cache found in /root/.cache/torch/hub/s3prl_s3prl_main\n",
            " 16%|█▌        | 16/100 [02:57<12:22,  8.84s/it]"
          ]
        },
        {
          "output_type": "stream",
          "name": "stdout",
          "text": [
            "The similarity score between two audios is 0.0861 (-1.0, 1.0).\n"
          ]
        },
        {
          "output_type": "stream",
          "name": "stderr",
          "text": [
            "Using cache found in /root/.cache/torch/hub/s3prl_s3prl_main\n",
            " 17%|█▋        | 17/100 [03:06<12:05,  8.74s/it]"
          ]
        },
        {
          "output_type": "stream",
          "name": "stdout",
          "text": [
            "The similarity score between two audios is 0.3647 (-1.0, 1.0).\n"
          ]
        },
        {
          "output_type": "stream",
          "name": "stderr",
          "text": [
            "Using cache found in /root/.cache/torch/hub/s3prl_s3prl_main\n",
            " 18%|█▊        | 18/100 [03:13<11:26,  8.37s/it]"
          ]
        },
        {
          "output_type": "stream",
          "name": "stdout",
          "text": [
            "The similarity score between two audios is 0.0159 (-1.0, 1.0).\n"
          ]
        },
        {
          "output_type": "stream",
          "name": "stderr",
          "text": [
            "Using cache found in /root/.cache/torch/hub/s3prl_s3prl_main\n",
            " 19%|█▉        | 19/100 [03:22<11:33,  8.56s/it]"
          ]
        },
        {
          "output_type": "stream",
          "name": "stdout",
          "text": [
            "The similarity score between two audios is 0.0653 (-1.0, 1.0).\n"
          ]
        },
        {
          "output_type": "stream",
          "name": "stderr",
          "text": [
            "Using cache found in /root/.cache/torch/hub/s3prl_s3prl_main\n",
            " 20%|██        | 20/100 [03:30<11:18,  8.48s/it]"
          ]
        },
        {
          "output_type": "stream",
          "name": "stdout",
          "text": [
            "The similarity score between two audios is 0.1892 (-1.0, 1.0).\n"
          ]
        },
        {
          "output_type": "stream",
          "name": "stderr",
          "text": [
            "Using cache found in /root/.cache/torch/hub/s3prl_s3prl_main\n",
            " 21%|██        | 21/100 [03:38<10:46,  8.19s/it]"
          ]
        },
        {
          "output_type": "stream",
          "name": "stdout",
          "text": [
            "The similarity score between two audios is 0.3213 (-1.0, 1.0).\n"
          ]
        },
        {
          "output_type": "stream",
          "name": "stderr",
          "text": [
            "Using cache found in /root/.cache/torch/hub/s3prl_s3prl_main\n",
            " 22%|██▏       | 22/100 [03:47<11:01,  8.48s/it]"
          ]
        },
        {
          "output_type": "stream",
          "name": "stdout",
          "text": [
            "The similarity score between two audios is 0.4267 (-1.0, 1.0).\n"
          ]
        },
        {
          "output_type": "stream",
          "name": "stderr",
          "text": [
            "Using cache found in /root/.cache/torch/hub/s3prl_s3prl_main\n",
            " 23%|██▎       | 23/100 [03:58<11:44,  9.14s/it]"
          ]
        },
        {
          "output_type": "stream",
          "name": "stdout",
          "text": [
            "The similarity score between two audios is 0.2056 (-1.0, 1.0).\n"
          ]
        },
        {
          "output_type": "stream",
          "name": "stderr",
          "text": [
            "Using cache found in /root/.cache/torch/hub/s3prl_s3prl_main\n",
            " 24%|██▍       | 24/100 [04:09<12:32,  9.90s/it]"
          ]
        },
        {
          "output_type": "stream",
          "name": "stdout",
          "text": [
            "The similarity score between two audios is 0.1179 (-1.0, 1.0).\n"
          ]
        },
        {
          "output_type": "stream",
          "name": "stderr",
          "text": [
            "Using cache found in /root/.cache/torch/hub/s3prl_s3prl_main\n",
            " 25%|██▌       | 25/100 [04:18<11:48,  9.45s/it]"
          ]
        },
        {
          "output_type": "stream",
          "name": "stdout",
          "text": [
            "The similarity score between two audios is 0.1096 (-1.0, 1.0).\n"
          ]
        },
        {
          "output_type": "stream",
          "name": "stderr",
          "text": [
            "Using cache found in /root/.cache/torch/hub/s3prl_s3prl_main\n",
            " 26%|██▌       | 26/100 [04:27<11:27,  9.29s/it]"
          ]
        },
        {
          "output_type": "stream",
          "name": "stdout",
          "text": [
            "The similarity score between two audios is 0.4099 (-1.0, 1.0).\n"
          ]
        },
        {
          "output_type": "stream",
          "name": "stderr",
          "text": [
            "Using cache found in /root/.cache/torch/hub/s3prl_s3prl_main\n",
            " 27%|██▋       | 27/100 [04:34<10:31,  8.66s/it]"
          ]
        },
        {
          "output_type": "stream",
          "name": "stdout",
          "text": [
            "The similarity score between two audios is 0.1421 (-1.0, 1.0).\n"
          ]
        },
        {
          "output_type": "stream",
          "name": "stderr",
          "text": [
            "Using cache found in /root/.cache/torch/hub/s3prl_s3prl_main\n",
            " 28%|██▊       | 28/100 [04:42<10:06,  8.43s/it]"
          ]
        },
        {
          "output_type": "stream",
          "name": "stdout",
          "text": [
            "The similarity score between two audios is 0.4130 (-1.0, 1.0).\n"
          ]
        },
        {
          "output_type": "stream",
          "name": "stderr",
          "text": [
            "Using cache found in /root/.cache/torch/hub/s3prl_s3prl_main\n",
            " 29%|██▉       | 29/100 [04:51<10:15,  8.66s/it]"
          ]
        },
        {
          "output_type": "stream",
          "name": "stdout",
          "text": [
            "The similarity score between two audios is 0.0146 (-1.0, 1.0).\n"
          ]
        },
        {
          "output_type": "stream",
          "name": "stderr",
          "text": [
            "Using cache found in /root/.cache/torch/hub/s3prl_s3prl_main\n",
            " 30%|███       | 30/100 [04:59<09:40,  8.30s/it]"
          ]
        },
        {
          "output_type": "stream",
          "name": "stdout",
          "text": [
            "The similarity score between two audios is 0.1441 (-1.0, 1.0).\n"
          ]
        },
        {
          "output_type": "stream",
          "name": "stderr",
          "text": [
            "Using cache found in /root/.cache/torch/hub/s3prl_s3prl_main\n",
            " 31%|███       | 31/100 [05:07<09:36,  8.36s/it]"
          ]
        },
        {
          "output_type": "stream",
          "name": "stdout",
          "text": [
            "The similarity score between two audios is 0.2582 (-1.0, 1.0).\n"
          ]
        },
        {
          "output_type": "stream",
          "name": "stderr",
          "text": [
            "Using cache found in /root/.cache/torch/hub/s3prl_s3prl_main\n",
            " 32%|███▏      | 32/100 [05:16<09:40,  8.54s/it]"
          ]
        },
        {
          "output_type": "stream",
          "name": "stdout",
          "text": [
            "The similarity score between two audios is 0.4296 (-1.0, 1.0).\n"
          ]
        },
        {
          "output_type": "stream",
          "name": "stderr",
          "text": [
            "Using cache found in /root/.cache/torch/hub/s3prl_s3prl_main\n",
            " 33%|███▎      | 33/100 [05:24<09:21,  8.39s/it]"
          ]
        },
        {
          "output_type": "stream",
          "name": "stdout",
          "text": [
            "The similarity score between two audios is 0.3074 (-1.0, 1.0).\n"
          ]
        },
        {
          "output_type": "stream",
          "name": "stderr",
          "text": [
            "Using cache found in /root/.cache/torch/hub/s3prl_s3prl_main\n",
            " 34%|███▍      | 34/100 [05:33<09:18,  8.47s/it]"
          ]
        },
        {
          "output_type": "stream",
          "name": "stdout",
          "text": [
            "The similarity score between two audios is 0.4877 (-1.0, 1.0).\n"
          ]
        },
        {
          "output_type": "stream",
          "name": "stderr",
          "text": [
            "Using cache found in /root/.cache/torch/hub/s3prl_s3prl_main\n",
            " 35%|███▌      | 35/100 [05:41<09:12,  8.50s/it]"
          ]
        },
        {
          "output_type": "stream",
          "name": "stdout",
          "text": [
            "The similarity score between two audios is -0.0416 (-1.0, 1.0).\n"
          ]
        },
        {
          "output_type": "stream",
          "name": "stderr",
          "text": [
            "Using cache found in /root/.cache/torch/hub/s3prl_s3prl_main\n",
            " 36%|███▌      | 36/100 [05:49<08:53,  8.34s/it]"
          ]
        },
        {
          "output_type": "stream",
          "name": "stdout",
          "text": [
            "The similarity score between two audios is 0.2086 (-1.0, 1.0).\n"
          ]
        },
        {
          "output_type": "stream",
          "name": "stderr",
          "text": [
            "Using cache found in /root/.cache/torch/hub/s3prl_s3prl_main\n",
            " 37%|███▋      | 37/100 [05:58<08:55,  8.51s/it]"
          ]
        },
        {
          "output_type": "stream",
          "name": "stdout",
          "text": [
            "The similarity score between two audios is 0.2220 (-1.0, 1.0).\n"
          ]
        },
        {
          "output_type": "stream",
          "name": "stderr",
          "text": [
            "Using cache found in /root/.cache/torch/hub/s3prl_s3prl_main\n",
            " 38%|███▊      | 38/100 [06:08<09:14,  8.94s/it]"
          ]
        },
        {
          "output_type": "stream",
          "name": "stdout",
          "text": [
            "The similarity score between two audios is 0.2236 (-1.0, 1.0).\n"
          ]
        },
        {
          "output_type": "stream",
          "name": "stderr",
          "text": [
            "Using cache found in /root/.cache/torch/hub/s3prl_s3prl_main\n",
            " 39%|███▉      | 39/100 [06:16<08:40,  8.54s/it]"
          ]
        },
        {
          "output_type": "stream",
          "name": "stdout",
          "text": [
            "The similarity score between two audios is 0.1469 (-1.0, 1.0).\n"
          ]
        },
        {
          "output_type": "stream",
          "name": "stderr",
          "text": [
            "Using cache found in /root/.cache/torch/hub/s3prl_s3prl_main\n",
            " 40%|████      | 40/100 [06:24<08:32,  8.54s/it]"
          ]
        },
        {
          "output_type": "stream",
          "name": "stdout",
          "text": [
            "The similarity score between two audios is 0.3387 (-1.0, 1.0).\n"
          ]
        },
        {
          "output_type": "stream",
          "name": "stderr",
          "text": [
            "Using cache found in /root/.cache/torch/hub/s3prl_s3prl_main\n",
            " 41%|████      | 41/100 [06:33<08:26,  8.58s/it]"
          ]
        },
        {
          "output_type": "stream",
          "name": "stdout",
          "text": [
            "The similarity score between two audios is 0.3227 (-1.0, 1.0).\n"
          ]
        },
        {
          "output_type": "stream",
          "name": "stderr",
          "text": [
            "Using cache found in /root/.cache/torch/hub/s3prl_s3prl_main\n",
            " 42%|████▏     | 42/100 [06:41<08:09,  8.44s/it]"
          ]
        },
        {
          "output_type": "stream",
          "name": "stdout",
          "text": [
            "The similarity score between two audios is 0.3133 (-1.0, 1.0).\n"
          ]
        },
        {
          "output_type": "stream",
          "name": "stderr",
          "text": [
            "Using cache found in /root/.cache/torch/hub/s3prl_s3prl_main\n",
            " 43%|████▎     | 43/100 [06:50<08:07,  8.55s/it]"
          ]
        },
        {
          "output_type": "stream",
          "name": "stdout",
          "text": [
            "The similarity score between two audios is 0.1529 (-1.0, 1.0).\n"
          ]
        },
        {
          "output_type": "stream",
          "name": "stderr",
          "text": [
            "Using cache found in /root/.cache/torch/hub/s3prl_s3prl_main\n",
            " 44%|████▍     | 44/100 [06:59<08:09,  8.73s/it]"
          ]
        },
        {
          "output_type": "stream",
          "name": "stdout",
          "text": [
            "The similarity score between two audios is 0.1772 (-1.0, 1.0).\n"
          ]
        },
        {
          "output_type": "stream",
          "name": "stderr",
          "text": [
            "Using cache found in /root/.cache/torch/hub/s3prl_s3prl_main\n",
            " 45%|████▌     | 45/100 [07:07<07:45,  8.47s/it]"
          ]
        },
        {
          "output_type": "stream",
          "name": "stdout",
          "text": [
            "The similarity score between two audios is 0.1620 (-1.0, 1.0).\n"
          ]
        },
        {
          "output_type": "stream",
          "name": "stderr",
          "text": [
            "Using cache found in /root/.cache/torch/hub/s3prl_s3prl_main\n",
            " 46%|████▌     | 46/100 [07:15<07:40,  8.52s/it]"
          ]
        },
        {
          "output_type": "stream",
          "name": "stdout",
          "text": [
            "The similarity score between two audios is 0.1429 (-1.0, 1.0).\n"
          ]
        },
        {
          "output_type": "stream",
          "name": "stderr",
          "text": [
            "Using cache found in /root/.cache/torch/hub/s3prl_s3prl_main\n",
            " 47%|████▋     | 47/100 [07:24<07:29,  8.48s/it]"
          ]
        },
        {
          "output_type": "stream",
          "name": "stdout",
          "text": [
            "The similarity score between two audios is 0.1329 (-1.0, 1.0).\n"
          ]
        },
        {
          "output_type": "stream",
          "name": "stderr",
          "text": [
            "Using cache found in /root/.cache/torch/hub/s3prl_s3prl_main\n",
            " 48%|████▊     | 48/100 [07:33<07:34,  8.73s/it]"
          ]
        },
        {
          "output_type": "stream",
          "name": "stdout",
          "text": [
            "The similarity score between two audios is 0.0283 (-1.0, 1.0).\n"
          ]
        },
        {
          "output_type": "stream",
          "name": "stderr",
          "text": [
            "Using cache found in /root/.cache/torch/hub/s3prl_s3prl_main\n",
            " 49%|████▉     | 49/100 [07:42<07:21,  8.66s/it]"
          ]
        },
        {
          "output_type": "stream",
          "name": "stdout",
          "text": [
            "The similarity score between two audios is 0.2566 (-1.0, 1.0).\n"
          ]
        },
        {
          "output_type": "stream",
          "name": "stderr",
          "text": [
            "Using cache found in /root/.cache/torch/hub/s3prl_s3prl_main\n",
            " 50%|█████     | 50/100 [07:50<07:06,  8.54s/it]"
          ]
        },
        {
          "output_type": "stream",
          "name": "stdout",
          "text": [
            "The similarity score between two audios is 0.0296 (-1.0, 1.0).\n"
          ]
        },
        {
          "output_type": "stream",
          "name": "stderr",
          "text": [
            "Using cache found in /root/.cache/torch/hub/s3prl_s3prl_main\n",
            " 51%|█████     | 51/100 [07:58<06:46,  8.29s/it]"
          ]
        },
        {
          "output_type": "stream",
          "name": "stdout",
          "text": [
            "The similarity score between two audios is 0.1646 (-1.0, 1.0).\n"
          ]
        },
        {
          "output_type": "stream",
          "name": "stderr",
          "text": [
            "Using cache found in /root/.cache/torch/hub/s3prl_s3prl_main\n",
            " 52%|█████▏    | 52/100 [08:07<06:55,  8.66s/it]"
          ]
        },
        {
          "output_type": "stream",
          "name": "stdout",
          "text": [
            "The similarity score between two audios is 0.6315 (-1.0, 1.0).\n"
          ]
        },
        {
          "output_type": "stream",
          "name": "stderr",
          "text": [
            "Using cache found in /root/.cache/torch/hub/s3prl_s3prl_main\n",
            " 53%|█████▎    | 53/100 [08:16<06:50,  8.74s/it]"
          ]
        },
        {
          "output_type": "stream",
          "name": "stdout",
          "text": [
            "The similarity score between two audios is 0.7211 (-1.0, 1.0).\n"
          ]
        },
        {
          "output_type": "stream",
          "name": "stderr",
          "text": [
            "Using cache found in /root/.cache/torch/hub/s3prl_s3prl_main\n",
            " 54%|█████▍    | 54/100 [08:25<06:49,  8.90s/it]"
          ]
        },
        {
          "output_type": "stream",
          "name": "stdout",
          "text": [
            "The similarity score between two audios is 0.7731 (-1.0, 1.0).\n"
          ]
        },
        {
          "output_type": "stream",
          "name": "stderr",
          "text": [
            "Using cache found in /root/.cache/torch/hub/s3prl_s3prl_main\n",
            " 55%|█████▌    | 55/100 [08:34<06:31,  8.70s/it]"
          ]
        },
        {
          "output_type": "stream",
          "name": "stdout",
          "text": [
            "The similarity score between two audios is 0.5427 (-1.0, 1.0).\n"
          ]
        },
        {
          "output_type": "stream",
          "name": "stderr",
          "text": [
            "Using cache found in /root/.cache/torch/hub/s3prl_s3prl_main\n",
            " 56%|█████▌    | 56/100 [08:43<06:33,  8.95s/it]"
          ]
        },
        {
          "output_type": "stream",
          "name": "stdout",
          "text": [
            "The similarity score between two audios is 0.7170 (-1.0, 1.0).\n"
          ]
        },
        {
          "output_type": "stream",
          "name": "stderr",
          "text": [
            "Using cache found in /root/.cache/torch/hub/s3prl_s3prl_main\n",
            " 57%|█████▋    | 57/100 [08:51<06:13,  8.69s/it]"
          ]
        },
        {
          "output_type": "stream",
          "name": "stdout",
          "text": [
            "The similarity score between two audios is 0.6882 (-1.0, 1.0).\n"
          ]
        },
        {
          "output_type": "stream",
          "name": "stderr",
          "text": [
            "Using cache found in /root/.cache/torch/hub/s3prl_s3prl_main\n",
            " 58%|█████▊    | 58/100 [08:59<05:56,  8.50s/it]"
          ]
        },
        {
          "output_type": "stream",
          "name": "stdout",
          "text": [
            "The similarity score between two audios is 0.5703 (-1.0, 1.0).\n"
          ]
        },
        {
          "output_type": "stream",
          "name": "stderr",
          "text": [
            "Using cache found in /root/.cache/torch/hub/s3prl_s3prl_main\n",
            " 59%|█████▉    | 59/100 [09:08<05:50,  8.55s/it]"
          ]
        },
        {
          "output_type": "stream",
          "name": "stdout",
          "text": [
            "The similarity score between two audios is 0.6906 (-1.0, 1.0).\n"
          ]
        },
        {
          "output_type": "stream",
          "name": "stderr",
          "text": [
            "Using cache found in /root/.cache/torch/hub/s3prl_s3prl_main\n",
            " 60%|██████    | 60/100 [09:16<05:33,  8.35s/it]"
          ]
        },
        {
          "output_type": "stream",
          "name": "stdout",
          "text": [
            "The similarity score between two audios is 0.5839 (-1.0, 1.0).\n"
          ]
        },
        {
          "output_type": "stream",
          "name": "stderr",
          "text": [
            "Using cache found in /root/.cache/torch/hub/s3prl_s3prl_main\n",
            " 61%|██████    | 61/100 [09:24<05:23,  8.30s/it]"
          ]
        },
        {
          "output_type": "stream",
          "name": "stdout",
          "text": [
            "The similarity score between two audios is 0.7675 (-1.0, 1.0).\n"
          ]
        },
        {
          "output_type": "stream",
          "name": "stderr",
          "text": [
            "Using cache found in /root/.cache/torch/hub/s3prl_s3prl_main\n",
            " 62%|██████▏   | 62/100 [09:33<05:21,  8.45s/it]"
          ]
        },
        {
          "output_type": "stream",
          "name": "stdout",
          "text": [
            "The similarity score between two audios is 0.5492 (-1.0, 1.0).\n"
          ]
        },
        {
          "output_type": "stream",
          "name": "stderr",
          "text": [
            "Using cache found in /root/.cache/torch/hub/s3prl_s3prl_main\n",
            " 63%|██████▎   | 63/100 [09:41<05:07,  8.32s/it]"
          ]
        },
        {
          "output_type": "stream",
          "name": "stdout",
          "text": [
            "The similarity score between two audios is 0.6906 (-1.0, 1.0).\n"
          ]
        },
        {
          "output_type": "stream",
          "name": "stderr",
          "text": [
            "Using cache found in /root/.cache/torch/hub/s3prl_s3prl_main\n",
            " 64%|██████▍   | 64/100 [09:49<05:03,  8.43s/it]"
          ]
        },
        {
          "output_type": "stream",
          "name": "stdout",
          "text": [
            "The similarity score between two audios is 0.7135 (-1.0, 1.0).\n"
          ]
        },
        {
          "output_type": "stream",
          "name": "stderr",
          "text": [
            "Using cache found in /root/.cache/torch/hub/s3prl_s3prl_main\n",
            " 65%|██████▌   | 65/100 [10:03<05:46,  9.89s/it]"
          ]
        },
        {
          "output_type": "stream",
          "name": "stdout",
          "text": [
            "The similarity score between two audios is 0.7290 (-1.0, 1.0).\n"
          ]
        },
        {
          "output_type": "stream",
          "name": "stderr",
          "text": [
            "Using cache found in /root/.cache/torch/hub/s3prl_s3prl_main\n",
            " 66%|██████▌   | 66/100 [10:12<05:32,  9.78s/it]"
          ]
        },
        {
          "output_type": "stream",
          "name": "stdout",
          "text": [
            "The similarity score between two audios is 0.5573 (-1.0, 1.0).\n"
          ]
        },
        {
          "output_type": "stream",
          "name": "stderr",
          "text": [
            "Using cache found in /root/.cache/torch/hub/s3prl_s3prl_main\n",
            " 67%|██████▋   | 67/100 [10:20<05:03,  9.19s/it]"
          ]
        },
        {
          "output_type": "stream",
          "name": "stdout",
          "text": [
            "The similarity score between two audios is 0.8136 (-1.0, 1.0).\n"
          ]
        },
        {
          "output_type": "stream",
          "name": "stderr",
          "text": [
            "Using cache found in /root/.cache/torch/hub/s3prl_s3prl_main\n",
            " 68%|██████▊   | 68/100 [10:29<04:53,  9.18s/it]"
          ]
        },
        {
          "output_type": "stream",
          "name": "stdout",
          "text": [
            "The similarity score between two audios is 0.7509 (-1.0, 1.0).\n"
          ]
        },
        {
          "output_type": "stream",
          "name": "stderr",
          "text": [
            "Using cache found in /root/.cache/torch/hub/s3prl_s3prl_main\n",
            " 69%|██████▉   | 69/100 [10:38<04:37,  8.96s/it]"
          ]
        },
        {
          "output_type": "stream",
          "name": "stdout",
          "text": [
            "The similarity score between two audios is 0.7051 (-1.0, 1.0).\n"
          ]
        },
        {
          "output_type": "stream",
          "name": "stderr",
          "text": [
            "Using cache found in /root/.cache/torch/hub/s3prl_s3prl_main\n",
            " 70%|███████   | 70/100 [10:46<04:24,  8.81s/it]"
          ]
        },
        {
          "output_type": "stream",
          "name": "stdout",
          "text": [
            "The similarity score between two audios is 0.6669 (-1.0, 1.0).\n"
          ]
        },
        {
          "output_type": "stream",
          "name": "stderr",
          "text": [
            "Using cache found in /root/.cache/torch/hub/s3prl_s3prl_main\n",
            " 71%|███████   | 71/100 [10:55<04:18,  8.91s/it]"
          ]
        },
        {
          "output_type": "stream",
          "name": "stdout",
          "text": [
            "The similarity score between two audios is 0.6043 (-1.0, 1.0).\n"
          ]
        },
        {
          "output_type": "stream",
          "name": "stderr",
          "text": [
            "Using cache found in /root/.cache/torch/hub/s3prl_s3prl_main\n",
            " 72%|███████▏  | 72/100 [11:04<04:10,  8.94s/it]"
          ]
        },
        {
          "output_type": "stream",
          "name": "stdout",
          "text": [
            "The similarity score between two audios is 0.7098 (-1.0, 1.0).\n"
          ]
        },
        {
          "output_type": "stream",
          "name": "stderr",
          "text": [
            "Using cache found in /root/.cache/torch/hub/s3prl_s3prl_main\n",
            " 73%|███████▎  | 73/100 [11:12<03:49,  8.50s/it]"
          ]
        },
        {
          "output_type": "stream",
          "name": "stdout",
          "text": [
            "The similarity score between two audios is 0.7725 (-1.0, 1.0).\n"
          ]
        },
        {
          "output_type": "stream",
          "name": "stderr",
          "text": [
            "Using cache found in /root/.cache/torch/hub/s3prl_s3prl_main\n",
            " 74%|███████▍  | 74/100 [11:21<03:45,  8.67s/it]"
          ]
        },
        {
          "output_type": "stream",
          "name": "stdout",
          "text": [
            "The similarity score between two audios is 0.8193 (-1.0, 1.0).\n"
          ]
        },
        {
          "output_type": "stream",
          "name": "stderr",
          "text": [
            "Using cache found in /root/.cache/torch/hub/s3prl_s3prl_main\n",
            " 75%|███████▌  | 75/100 [11:30<03:40,  8.83s/it]"
          ]
        },
        {
          "output_type": "stream",
          "name": "stdout",
          "text": [
            "The similarity score between two audios is 0.8187 (-1.0, 1.0).\n"
          ]
        },
        {
          "output_type": "stream",
          "name": "stderr",
          "text": [
            "Using cache found in /root/.cache/torch/hub/s3prl_s3prl_main\n",
            " 76%|███████▌  | 76/100 [11:38<03:26,  8.61s/it]"
          ]
        },
        {
          "output_type": "stream",
          "name": "stdout",
          "text": [
            "The similarity score between two audios is 0.6998 (-1.0, 1.0).\n"
          ]
        },
        {
          "output_type": "stream",
          "name": "stderr",
          "text": [
            "Using cache found in /root/.cache/torch/hub/s3prl_s3prl_main\n",
            " 77%|███████▋  | 77/100 [11:47<03:19,  8.67s/it]"
          ]
        },
        {
          "output_type": "stream",
          "name": "stdout",
          "text": [
            "The similarity score between two audios is 0.5935 (-1.0, 1.0).\n"
          ]
        },
        {
          "output_type": "stream",
          "name": "stderr",
          "text": [
            "Using cache found in /root/.cache/torch/hub/s3prl_s3prl_main\n",
            " 78%|███████▊  | 78/100 [11:56<03:13,  8.81s/it]"
          ]
        },
        {
          "output_type": "stream",
          "name": "stdout",
          "text": [
            "The similarity score between two audios is 0.7247 (-1.0, 1.0).\n"
          ]
        },
        {
          "output_type": "stream",
          "name": "stderr",
          "text": [
            "Using cache found in /root/.cache/torch/hub/s3prl_s3prl_main\n",
            " 79%|███████▉  | 79/100 [12:04<02:57,  8.47s/it]"
          ]
        },
        {
          "output_type": "stream",
          "name": "stdout",
          "text": [
            "The similarity score between two audios is 0.6756 (-1.0, 1.0).\n"
          ]
        },
        {
          "output_type": "stream",
          "name": "stderr",
          "text": [
            "Using cache found in /root/.cache/torch/hub/s3prl_s3prl_main\n",
            " 80%|████████  | 80/100 [12:12<02:49,  8.49s/it]"
          ]
        },
        {
          "output_type": "stream",
          "name": "stdout",
          "text": [
            "The similarity score between two audios is 0.6413 (-1.0, 1.0).\n"
          ]
        },
        {
          "output_type": "stream",
          "name": "stderr",
          "text": [
            "Using cache found in /root/.cache/torch/hub/s3prl_s3prl_main\n",
            " 81%|████████  | 81/100 [12:21<02:40,  8.45s/it]"
          ]
        },
        {
          "output_type": "stream",
          "name": "stdout",
          "text": [
            "The similarity score between two audios is 0.7763 (-1.0, 1.0).\n"
          ]
        },
        {
          "output_type": "stream",
          "name": "stderr",
          "text": [
            "Using cache found in /root/.cache/torch/hub/s3prl_s3prl_main\n",
            " 82%|████████▏ | 82/100 [12:29<02:31,  8.41s/it]"
          ]
        },
        {
          "output_type": "stream",
          "name": "stdout",
          "text": [
            "The similarity score between two audios is 0.8815 (-1.0, 1.0).\n"
          ]
        },
        {
          "output_type": "stream",
          "name": "stderr",
          "text": [
            "Using cache found in /root/.cache/torch/hub/s3prl_s3prl_main\n",
            " 83%|████████▎ | 83/100 [12:37<02:22,  8.37s/it]"
          ]
        },
        {
          "output_type": "stream",
          "name": "stdout",
          "text": [
            "The similarity score between two audios is 0.7354 (-1.0, 1.0).\n"
          ]
        },
        {
          "output_type": "stream",
          "name": "stderr",
          "text": [
            "Using cache found in /root/.cache/torch/hub/s3prl_s3prl_main\n",
            " 84%|████████▍ | 84/100 [12:46<02:15,  8.49s/it]"
          ]
        },
        {
          "output_type": "stream",
          "name": "stdout",
          "text": [
            "The similarity score between two audios is 0.6481 (-1.0, 1.0).\n"
          ]
        },
        {
          "output_type": "stream",
          "name": "stderr",
          "text": [
            "Using cache found in /root/.cache/torch/hub/s3prl_s3prl_main\n",
            " 85%|████████▌ | 85/100 [12:55<02:08,  8.59s/it]"
          ]
        },
        {
          "output_type": "stream",
          "name": "stdout",
          "text": [
            "The similarity score between two audios is 0.7113 (-1.0, 1.0).\n"
          ]
        },
        {
          "output_type": "stream",
          "name": "stderr",
          "text": [
            "Using cache found in /root/.cache/torch/hub/s3prl_s3prl_main\n",
            " 86%|████████▌ | 86/100 [13:03<02:00,  8.58s/it]"
          ]
        },
        {
          "output_type": "stream",
          "name": "stdout",
          "text": [
            "The similarity score between two audios is 0.7342 (-1.0, 1.0).\n"
          ]
        },
        {
          "output_type": "stream",
          "name": "stderr",
          "text": [
            "Using cache found in /root/.cache/torch/hub/s3prl_s3prl_main\n",
            " 87%|████████▋ | 87/100 [13:11<01:48,  8.37s/it]"
          ]
        },
        {
          "output_type": "stream",
          "name": "stdout",
          "text": [
            "The similarity score between two audios is 0.7640 (-1.0, 1.0).\n"
          ]
        },
        {
          "output_type": "stream",
          "name": "stderr",
          "text": [
            "Using cache found in /root/.cache/torch/hub/s3prl_s3prl_main\n",
            " 88%|████████▊ | 88/100 [13:19<01:38,  8.21s/it]"
          ]
        },
        {
          "output_type": "stream",
          "name": "stdout",
          "text": [
            "The similarity score between two audios is 0.7433 (-1.0, 1.0).\n"
          ]
        },
        {
          "output_type": "stream",
          "name": "stderr",
          "text": [
            "Using cache found in /root/.cache/torch/hub/s3prl_s3prl_main\n",
            " 89%|████████▉ | 89/100 [13:28<01:33,  8.52s/it]"
          ]
        },
        {
          "output_type": "stream",
          "name": "stdout",
          "text": [
            "The similarity score between two audios is 0.7366 (-1.0, 1.0).\n"
          ]
        },
        {
          "output_type": "stream",
          "name": "stderr",
          "text": [
            "Using cache found in /root/.cache/torch/hub/s3prl_s3prl_main\n",
            " 90%|█████████ | 90/100 [13:36<01:22,  8.21s/it]"
          ]
        },
        {
          "output_type": "stream",
          "name": "stdout",
          "text": [
            "The similarity score between two audios is 0.7372 (-1.0, 1.0).\n"
          ]
        },
        {
          "output_type": "stream",
          "name": "stderr",
          "text": [
            "Using cache found in /root/.cache/torch/hub/s3prl_s3prl_main\n",
            " 91%|█████████ | 91/100 [13:44<01:14,  8.27s/it]"
          ]
        },
        {
          "output_type": "stream",
          "name": "stdout",
          "text": [
            "The similarity score between two audios is 0.7992 (-1.0, 1.0).\n"
          ]
        },
        {
          "output_type": "stream",
          "name": "stderr",
          "text": [
            "Using cache found in /root/.cache/torch/hub/s3prl_s3prl_main\n",
            " 92%|█████████▏| 92/100 [13:53<01:08,  8.56s/it]"
          ]
        },
        {
          "output_type": "stream",
          "name": "stdout",
          "text": [
            "The similarity score between two audios is 0.4954 (-1.0, 1.0).\n"
          ]
        },
        {
          "output_type": "stream",
          "name": "stderr",
          "text": [
            "Using cache found in /root/.cache/torch/hub/s3prl_s3prl_main\n",
            " 93%|█████████▎| 93/100 [14:01<00:58,  8.35s/it]"
          ]
        },
        {
          "output_type": "stream",
          "name": "stdout",
          "text": [
            "The similarity score between two audios is 0.5326 (-1.0, 1.0).\n"
          ]
        },
        {
          "output_type": "stream",
          "name": "stderr",
          "text": [
            "Using cache found in /root/.cache/torch/hub/s3prl_s3prl_main\n",
            " 94%|█████████▍| 94/100 [14:09<00:49,  8.26s/it]"
          ]
        },
        {
          "output_type": "stream",
          "name": "stdout",
          "text": [
            "The similarity score between two audios is 0.7353 (-1.0, 1.0).\n"
          ]
        },
        {
          "output_type": "stream",
          "name": "stderr",
          "text": [
            "Using cache found in /root/.cache/torch/hub/s3prl_s3prl_main\n",
            " 95%|█████████▌| 95/100 [14:18<00:42,  8.50s/it]"
          ]
        },
        {
          "output_type": "stream",
          "name": "stdout",
          "text": [
            "The similarity score between two audios is 0.6740 (-1.0, 1.0).\n"
          ]
        },
        {
          "output_type": "stream",
          "name": "stderr",
          "text": [
            "Using cache found in /root/.cache/torch/hub/s3prl_s3prl_main\n",
            " 96%|█████████▌| 96/100 [14:26<00:32,  8.21s/it]"
          ]
        },
        {
          "output_type": "stream",
          "name": "stdout",
          "text": [
            "The similarity score between two audios is 0.7991 (-1.0, 1.0).\n"
          ]
        },
        {
          "output_type": "stream",
          "name": "stderr",
          "text": [
            "Using cache found in /root/.cache/torch/hub/s3prl_s3prl_main\n",
            " 97%|█████████▋| 97/100 [14:34<00:24,  8.06s/it]"
          ]
        },
        {
          "output_type": "stream",
          "name": "stdout",
          "text": [
            "The similarity score between two audios is 0.6776 (-1.0, 1.0).\n"
          ]
        },
        {
          "output_type": "stream",
          "name": "stderr",
          "text": [
            "Using cache found in /root/.cache/torch/hub/s3prl_s3prl_main\n",
            " 98%|█████████▊| 98/100 [14:42<00:16,  8.24s/it]"
          ]
        },
        {
          "output_type": "stream",
          "name": "stdout",
          "text": [
            "The similarity score between two audios is 0.7339 (-1.0, 1.0).\n"
          ]
        },
        {
          "output_type": "stream",
          "name": "stderr",
          "text": [
            "Using cache found in /root/.cache/torch/hub/s3prl_s3prl_main\n",
            " 99%|█████████▉| 99/100 [14:50<00:07,  7.93s/it]"
          ]
        },
        {
          "output_type": "stream",
          "name": "stdout",
          "text": [
            "The similarity score between two audios is 0.7365 (-1.0, 1.0).\n"
          ]
        },
        {
          "output_type": "stream",
          "name": "stderr",
          "text": [
            "Using cache found in /root/.cache/torch/hub/s3prl_s3prl_main\n",
            "100%|██████████| 100/100 [14:59<00:00,  8.50s/it]"
          ]
        },
        {
          "output_type": "stream",
          "name": "stdout",
          "text": [
            "The similarity score between two audios is 0.6260 (-1.0, 1.0).\n"
          ]
        },
        {
          "output_type": "stream",
          "name": "stderr",
          "text": [
            "Using cache found in /root/.cache/torch/hub/s3prl_s3prl_main\n",
            "100%|██████████| 100/100 [15:08<00:00,  9.09s/it]"
          ]
        },
        {
          "output_type": "stream",
          "name": "stdout",
          "text": [
            "The similarity score between two audios is 0.6804 (-1.0, 1.0).\n"
          ]
        },
        {
          "output_type": "stream",
          "name": "stderr",
          "text": [
            "\n"
          ]
        }
      ]
    },
    {
      "cell_type": "code",
      "source": [
        "hubert_df.to_csv(\"/content/drive/MyDrive/hubert_hindi_result.csv\")"
      ],
      "metadata": {
        "id": "awDuH9sQrdNy"
      },
      "execution_count": 39,
      "outputs": []
    },
    {
      "cell_type": "code",
      "source": [
        "wavlm_df =  data_df.copy(deep = True)"
      ],
      "metadata": {
        "id": "-MB3-BbHoC_x"
      },
      "execution_count": 40,
      "outputs": []
    },
    {
      "cell_type": "code",
      "source": [
        "wavlm_df['wavlm_large_pred'] = wavlm_df.progress_apply(lambda x:verification(model_name = 'wavlm_large',\n",
        "                                                          wav1 =x['wav1'],wav2 = x['wav2'],\n",
        "                                          checkpoint= '/content/drive/MyDrive/Classroom/wavlm_large_finetune.pth'),\n",
        "                                                       axis =1)"
      ],
      "metadata": {
        "colab": {
          "base_uri": "https://localhost:8080/"
        },
        "id": "TH0ftVtE0Rkm",
        "outputId": "e988fb40-984b-4e0d-ea5c-1318e9127860"
      },
      "execution_count": 41,
      "outputs": [
        {
          "output_type": "stream",
          "name": "stderr",
          "text": [
            "\r  0%|          | 0/100 [00:00<?, ?it/s]Using cache found in /root/.cache/torch/hub/s3prl_s3prl_main\n",
            "/usr/local/lib/python3.10/dist-packages/torch/nn/utils/weight_norm.py:28: UserWarning: torch.nn.utils.weight_norm is deprecated in favor of torch.nn.utils.parametrizations.weight_norm.\n",
            "  warnings.warn(\"torch.nn.utils.weight_norm is deprecated in favor of torch.nn.utils.parametrizations.weight_norm.\")\n",
            "/usr/local/lib/python3.10/dist-packages/torch/nn/functional.py:5109: UserWarning: Support for mismatched key_padding_mask and attn_mask is deprecated. Use same type for both instead.\n",
            "  warnings.warn(\n",
            "  2%|▏         | 2/100 [00:20<16:58, 10.40s/it]"
          ]
        },
        {
          "output_type": "stream",
          "name": "stdout",
          "text": [
            "The similarity score between two audios is 0.1837 (-1.0, 1.0).\n"
          ]
        },
        {
          "output_type": "stream",
          "name": "stderr",
          "text": [
            "Using cache found in /root/.cache/torch/hub/s3prl_s3prl_main\n",
            "  3%|▎         | 3/100 [00:41<23:26, 14.50s/it]"
          ]
        },
        {
          "output_type": "stream",
          "name": "stdout",
          "text": [
            "The similarity score between two audios is 0.1837 (-1.0, 1.0).\n"
          ]
        },
        {
          "output_type": "stream",
          "name": "stderr",
          "text": [
            "Using cache found in /root/.cache/torch/hub/s3prl_s3prl_main\n",
            "  4%|▍         | 4/100 [01:00<26:04, 16.30s/it]"
          ]
        },
        {
          "output_type": "stream",
          "name": "stdout",
          "text": [
            "The similarity score between two audios is 0.3517 (-1.0, 1.0).\n"
          ]
        },
        {
          "output_type": "stream",
          "name": "stderr",
          "text": [
            "Using cache found in /root/.cache/torch/hub/s3prl_s3prl_main\n",
            "  5%|▌         | 5/100 [01:20<28:05, 17.74s/it]"
          ]
        },
        {
          "output_type": "stream",
          "name": "stdout",
          "text": [
            "The similarity score between two audios is 0.1051 (-1.0, 1.0).\n"
          ]
        },
        {
          "output_type": "stream",
          "name": "stderr",
          "text": [
            "Using cache found in /root/.cache/torch/hub/s3prl_s3prl_main\n",
            "  6%|▌         | 6/100 [01:41<29:15, 18.68s/it]"
          ]
        },
        {
          "output_type": "stream",
          "name": "stdout",
          "text": [
            "The similarity score between two audios is 0.4361 (-1.0, 1.0).\n"
          ]
        },
        {
          "output_type": "stream",
          "name": "stderr",
          "text": [
            "Using cache found in /root/.cache/torch/hub/s3prl_s3prl_main\n",
            "  7%|▋         | 7/100 [02:01<29:32, 19.05s/it]"
          ]
        },
        {
          "output_type": "stream",
          "name": "stdout",
          "text": [
            "The similarity score between two audios is 0.3732 (-1.0, 1.0).\n"
          ]
        },
        {
          "output_type": "stream",
          "name": "stderr",
          "text": [
            "Using cache found in /root/.cache/torch/hub/s3prl_s3prl_main\n",
            "  8%|▊         | 8/100 [02:21<29:49, 19.45s/it]"
          ]
        },
        {
          "output_type": "stream",
          "name": "stdout",
          "text": [
            "The similarity score between two audios is 0.0763 (-1.0, 1.0).\n"
          ]
        },
        {
          "output_type": "stream",
          "name": "stderr",
          "text": [
            "Using cache found in /root/.cache/torch/hub/s3prl_s3prl_main\n",
            "  9%|▉         | 9/100 [02:41<29:35, 19.52s/it]"
          ]
        },
        {
          "output_type": "stream",
          "name": "stdout",
          "text": [
            "The similarity score between two audios is 0.2961 (-1.0, 1.0).\n"
          ]
        },
        {
          "output_type": "stream",
          "name": "stderr",
          "text": [
            "Using cache found in /root/.cache/torch/hub/s3prl_s3prl_main\n",
            " 10%|█         | 10/100 [03:01<29:43, 19.82s/it]"
          ]
        },
        {
          "output_type": "stream",
          "name": "stdout",
          "text": [
            "The similarity score between two audios is 0.0733 (-1.0, 1.0).\n"
          ]
        },
        {
          "output_type": "stream",
          "name": "stderr",
          "text": [
            "Using cache found in /root/.cache/torch/hub/s3prl_s3prl_main\n",
            " 11%|█         | 11/100 [03:22<29:59, 20.22s/it]"
          ]
        },
        {
          "output_type": "stream",
          "name": "stdout",
          "text": [
            "The similarity score between two audios is 0.1806 (-1.0, 1.0).\n"
          ]
        },
        {
          "output_type": "stream",
          "name": "stderr",
          "text": [
            "Using cache found in /root/.cache/torch/hub/s3prl_s3prl_main\n",
            " 12%|█▏        | 12/100 [03:43<29:46, 20.30s/it]"
          ]
        },
        {
          "output_type": "stream",
          "name": "stdout",
          "text": [
            "The similarity score between two audios is 0.1411 (-1.0, 1.0).\n"
          ]
        },
        {
          "output_type": "stream",
          "name": "stderr",
          "text": [
            "Using cache found in /root/.cache/torch/hub/s3prl_s3prl_main\n",
            " 13%|█▎        | 13/100 [04:04<29:52, 20.60s/it]"
          ]
        },
        {
          "output_type": "stream",
          "name": "stdout",
          "text": [
            "The similarity score between two audios is 0.1312 (-1.0, 1.0).\n"
          ]
        },
        {
          "output_type": "stream",
          "name": "stderr",
          "text": [
            "Using cache found in /root/.cache/torch/hub/s3prl_s3prl_main\n",
            " 14%|█▍        | 14/100 [04:27<30:29, 21.27s/it]"
          ]
        },
        {
          "output_type": "stream",
          "name": "stdout",
          "text": [
            "The similarity score between two audios is 0.1360 (-1.0, 1.0).\n"
          ]
        },
        {
          "output_type": "stream",
          "name": "stderr",
          "text": [
            "Using cache found in /root/.cache/torch/hub/s3prl_s3prl_main\n",
            " 15%|█▌        | 15/100 [04:48<30:00, 21.18s/it]"
          ]
        },
        {
          "output_type": "stream",
          "name": "stdout",
          "text": [
            "The similarity score between two audios is 0.0427 (-1.0, 1.0).\n"
          ]
        },
        {
          "output_type": "stream",
          "name": "stderr",
          "text": [
            "Using cache found in /root/.cache/torch/hub/s3prl_s3prl_main\n",
            " 16%|█▌        | 16/100 [05:09<29:45, 21.25s/it]"
          ]
        },
        {
          "output_type": "stream",
          "name": "stdout",
          "text": [
            "The similarity score between two audios is 0.1555 (-1.0, 1.0).\n"
          ]
        },
        {
          "output_type": "stream",
          "name": "stderr",
          "text": [
            "Using cache found in /root/.cache/torch/hub/s3prl_s3prl_main\n",
            " 17%|█▋        | 17/100 [05:31<29:46, 21.52s/it]"
          ]
        },
        {
          "output_type": "stream",
          "name": "stdout",
          "text": [
            "The similarity score between two audios is 0.2905 (-1.0, 1.0).\n"
          ]
        },
        {
          "output_type": "stream",
          "name": "stderr",
          "text": [
            "Using cache found in /root/.cache/torch/hub/s3prl_s3prl_main\n",
            " 18%|█▊        | 18/100 [05:53<29:25, 21.53s/it]"
          ]
        },
        {
          "output_type": "stream",
          "name": "stdout",
          "text": [
            "The similarity score between two audios is 0.0896 (-1.0, 1.0).\n"
          ]
        },
        {
          "output_type": "stream",
          "name": "stderr",
          "text": [
            "Using cache found in /root/.cache/torch/hub/s3prl_s3prl_main\n",
            " 19%|█▉        | 19/100 [06:14<28:59, 21.47s/it]"
          ]
        },
        {
          "output_type": "stream",
          "name": "stdout",
          "text": [
            "The similarity score between two audios is 0.0521 (-1.0, 1.0).\n"
          ]
        },
        {
          "output_type": "stream",
          "name": "stderr",
          "text": [
            "Using cache found in /root/.cache/torch/hub/s3prl_s3prl_main\n",
            " 20%|██        | 20/100 [06:36<28:51, 21.65s/it]"
          ]
        },
        {
          "output_type": "stream",
          "name": "stdout",
          "text": [
            "The similarity score between two audios is 0.2546 (-1.0, 1.0).\n"
          ]
        },
        {
          "output_type": "stream",
          "name": "stderr",
          "text": [
            "Using cache found in /root/.cache/torch/hub/s3prl_s3prl_main\n",
            " 21%|██        | 21/100 [06:59<28:44, 21.83s/it]"
          ]
        },
        {
          "output_type": "stream",
          "name": "stdout",
          "text": [
            "The similarity score between two audios is 0.4281 (-1.0, 1.0).\n"
          ]
        },
        {
          "output_type": "stream",
          "name": "stderr",
          "text": [
            "Using cache found in /root/.cache/torch/hub/s3prl_s3prl_main\n",
            " 22%|██▏       | 22/100 [07:20<28:12, 21.70s/it]"
          ]
        },
        {
          "output_type": "stream",
          "name": "stdout",
          "text": [
            "The similarity score between two audios is 0.3945 (-1.0, 1.0).\n"
          ]
        },
        {
          "output_type": "stream",
          "name": "stderr",
          "text": [
            "Using cache found in /root/.cache/torch/hub/s3prl_s3prl_main\n",
            " 23%|██▎       | 23/100 [07:42<27:48, 21.67s/it]"
          ]
        },
        {
          "output_type": "stream",
          "name": "stdout",
          "text": [
            "The similarity score between two audios is 0.2196 (-1.0, 1.0).\n"
          ]
        },
        {
          "output_type": "stream",
          "name": "stderr",
          "text": [
            "Using cache found in /root/.cache/torch/hub/s3prl_s3prl_main\n",
            " 24%|██▍       | 24/100 [08:04<27:46, 21.93s/it]"
          ]
        },
        {
          "output_type": "stream",
          "name": "stdout",
          "text": [
            "The similarity score between two audios is 0.2094 (-1.0, 1.0).\n"
          ]
        },
        {
          "output_type": "stream",
          "name": "stderr",
          "text": [
            "Using cache found in /root/.cache/torch/hub/s3prl_s3prl_main\n",
            " 25%|██▌       | 25/100 [08:26<27:32, 22.04s/it]"
          ]
        },
        {
          "output_type": "stream",
          "name": "stdout",
          "text": [
            "The similarity score between two audios is 0.2147 (-1.0, 1.0).\n"
          ]
        },
        {
          "output_type": "stream",
          "name": "stderr",
          "text": [
            "Using cache found in /root/.cache/torch/hub/s3prl_s3prl_main\n",
            " 26%|██▌       | 26/100 [08:48<26:54, 21.82s/it]"
          ]
        },
        {
          "output_type": "stream",
          "name": "stdout",
          "text": [
            "The similarity score between two audios is 0.4681 (-1.0, 1.0).\n"
          ]
        },
        {
          "output_type": "stream",
          "name": "stderr",
          "text": [
            "Using cache found in /root/.cache/torch/hub/s3prl_s3prl_main\n",
            " 27%|██▋       | 27/100 [09:10<26:38, 21.90s/it]"
          ]
        },
        {
          "output_type": "stream",
          "name": "stdout",
          "text": [
            "The similarity score between two audios is 0.0779 (-1.0, 1.0).\n"
          ]
        },
        {
          "output_type": "stream",
          "name": "stderr",
          "text": [
            "Using cache found in /root/.cache/torch/hub/s3prl_s3prl_main\n",
            " 28%|██▊       | 28/100 [09:33<26:49, 22.35s/it]"
          ]
        },
        {
          "output_type": "stream",
          "name": "stdout",
          "text": [
            "The similarity score between two audios is 0.1285 (-1.0, 1.0).\n"
          ]
        },
        {
          "output_type": "stream",
          "name": "stderr",
          "text": [
            "Using cache found in /root/.cache/torch/hub/s3prl_s3prl_main\n",
            " 29%|██▉       | 29/100 [09:56<26:27, 22.36s/it]"
          ]
        },
        {
          "output_type": "stream",
          "name": "stdout",
          "text": [
            "The similarity score between two audios is 0.0798 (-1.0, 1.0).\n"
          ]
        },
        {
          "output_type": "stream",
          "name": "stderr",
          "text": [
            "Using cache found in /root/.cache/torch/hub/s3prl_s3prl_main\n",
            " 30%|███       | 30/100 [10:17<25:39, 21.99s/it]"
          ]
        },
        {
          "output_type": "stream",
          "name": "stdout",
          "text": [
            "The similarity score between two audios is 0.1167 (-1.0, 1.0).\n"
          ]
        },
        {
          "output_type": "stream",
          "name": "stderr",
          "text": [
            "Using cache found in /root/.cache/torch/hub/s3prl_s3prl_main\n",
            " 31%|███       | 31/100 [10:39<25:13, 21.94s/it]"
          ]
        },
        {
          "output_type": "stream",
          "name": "stdout",
          "text": [
            "The similarity score between two audios is 0.2739 (-1.0, 1.0).\n"
          ]
        },
        {
          "output_type": "stream",
          "name": "stderr",
          "text": [
            "Using cache found in /root/.cache/torch/hub/s3prl_s3prl_main\n",
            " 32%|███▏      | 32/100 [11:01<25:01, 22.08s/it]"
          ]
        },
        {
          "output_type": "stream",
          "name": "stdout",
          "text": [
            "The similarity score between two audios is 0.3855 (-1.0, 1.0).\n"
          ]
        },
        {
          "output_type": "stream",
          "name": "stderr",
          "text": [
            "Using cache found in /root/.cache/torch/hub/s3prl_s3prl_main\n",
            " 33%|███▎      | 33/100 [11:23<24:33, 22.00s/it]"
          ]
        },
        {
          "output_type": "stream",
          "name": "stdout",
          "text": [
            "The similarity score between two audios is 0.1886 (-1.0, 1.0).\n"
          ]
        },
        {
          "output_type": "stream",
          "name": "stderr",
          "text": [
            "Using cache found in /root/.cache/torch/hub/s3prl_s3prl_main\n",
            " 34%|███▍      | 34/100 [11:44<24:04, 21.89s/it]"
          ]
        },
        {
          "output_type": "stream",
          "name": "stdout",
          "text": [
            "The similarity score between two audios is 0.4242 (-1.0, 1.0).\n"
          ]
        },
        {
          "output_type": "stream",
          "name": "stderr",
          "text": [
            "Using cache found in /root/.cache/torch/hub/s3prl_s3prl_main\n",
            " 35%|███▌      | 35/100 [12:07<23:52, 22.03s/it]"
          ]
        },
        {
          "output_type": "stream",
          "name": "stdout",
          "text": [
            "The similarity score between two audios is 0.0769 (-1.0, 1.0).\n"
          ]
        },
        {
          "output_type": "stream",
          "name": "stderr",
          "text": [
            "Using cache found in /root/.cache/torch/hub/s3prl_s3prl_main\n",
            " 36%|███▌      | 36/100 [12:29<23:34, 22.10s/it]"
          ]
        },
        {
          "output_type": "stream",
          "name": "stdout",
          "text": [
            "The similarity score between two audios is 0.2855 (-1.0, 1.0).\n"
          ]
        },
        {
          "output_type": "stream",
          "name": "stderr",
          "text": [
            "Using cache found in /root/.cache/torch/hub/s3prl_s3prl_main\n",
            " 37%|███▋      | 37/100 [12:51<23:02, 21.94s/it]"
          ]
        },
        {
          "output_type": "stream",
          "name": "stdout",
          "text": [
            "The similarity score between two audios is 0.1857 (-1.0, 1.0).\n"
          ]
        },
        {
          "output_type": "stream",
          "name": "stderr",
          "text": [
            "Using cache found in /root/.cache/torch/hub/s3prl_s3prl_main\n",
            " 38%|███▊      | 38/100 [13:12<22:22, 21.65s/it]"
          ]
        },
        {
          "output_type": "stream",
          "name": "stdout",
          "text": [
            "The similarity score between two audios is 0.2366 (-1.0, 1.0).\n"
          ]
        },
        {
          "output_type": "stream",
          "name": "stderr",
          "text": [
            "Using cache found in /root/.cache/torch/hub/s3prl_s3prl_main\n",
            " 39%|███▉      | 39/100 [13:33<22:01, 21.66s/it]"
          ]
        },
        {
          "output_type": "stream",
          "name": "stdout",
          "text": [
            "The similarity score between two audios is 0.0986 (-1.0, 1.0).\n"
          ]
        },
        {
          "output_type": "stream",
          "name": "stderr",
          "text": [
            "Using cache found in /root/.cache/torch/hub/s3prl_s3prl_main\n",
            " 40%|████      | 40/100 [13:55<21:37, 21.62s/it]"
          ]
        },
        {
          "output_type": "stream",
          "name": "stdout",
          "text": [
            "The similarity score between two audios is 0.3187 (-1.0, 1.0).\n"
          ]
        },
        {
          "output_type": "stream",
          "name": "stderr",
          "text": [
            "Using cache found in /root/.cache/torch/hub/s3prl_s3prl_main\n",
            " 41%|████      | 41/100 [14:16<21:04, 21.44s/it]"
          ]
        },
        {
          "output_type": "stream",
          "name": "stdout",
          "text": [
            "The similarity score between two audios is 0.2485 (-1.0, 1.0).\n"
          ]
        },
        {
          "output_type": "stream",
          "name": "stderr",
          "text": [
            "Using cache found in /root/.cache/torch/hub/s3prl_s3prl_main\n",
            " 42%|████▏     | 42/100 [14:38<20:48, 21.53s/it]"
          ]
        },
        {
          "output_type": "stream",
          "name": "stdout",
          "text": [
            "The similarity score between two audios is 0.3704 (-1.0, 1.0).\n"
          ]
        },
        {
          "output_type": "stream",
          "name": "stderr",
          "text": [
            "Using cache found in /root/.cache/torch/hub/s3prl_s3prl_main\n",
            " 43%|████▎     | 43/100 [14:59<20:26, 21.51s/it]"
          ]
        },
        {
          "output_type": "stream",
          "name": "stdout",
          "text": [
            "The similarity score between two audios is 0.2132 (-1.0, 1.0).\n"
          ]
        },
        {
          "output_type": "stream",
          "name": "stderr",
          "text": [
            "Using cache found in /root/.cache/torch/hub/s3prl_s3prl_main\n",
            " 44%|████▍     | 44/100 [15:21<20:04, 21.51s/it]"
          ]
        },
        {
          "output_type": "stream",
          "name": "stdout",
          "text": [
            "The similarity score between two audios is 0.2607 (-1.0, 1.0).\n"
          ]
        },
        {
          "output_type": "stream",
          "name": "stderr",
          "text": [
            "Using cache found in /root/.cache/torch/hub/s3prl_s3prl_main\n",
            " 45%|████▌     | 45/100 [15:42<19:43, 21.53s/it]"
          ]
        },
        {
          "output_type": "stream",
          "name": "stdout",
          "text": [
            "The similarity score between two audios is 0.1476 (-1.0, 1.0).\n"
          ]
        },
        {
          "output_type": "stream",
          "name": "stderr",
          "text": [
            "Using cache found in /root/.cache/torch/hub/s3prl_s3prl_main\n",
            " 46%|████▌     | 46/100 [16:03<19:18, 21.45s/it]"
          ]
        },
        {
          "output_type": "stream",
          "name": "stdout",
          "text": [
            "The similarity score between two audios is 0.0736 (-1.0, 1.0).\n"
          ]
        },
        {
          "output_type": "stream",
          "name": "stderr",
          "text": [
            "Using cache found in /root/.cache/torch/hub/s3prl_s3prl_main\n",
            " 47%|████▋     | 47/100 [16:24<18:44, 21.22s/it]"
          ]
        },
        {
          "output_type": "stream",
          "name": "stdout",
          "text": [
            "The similarity score between two audios is 0.0839 (-1.0, 1.0).\n"
          ]
        },
        {
          "output_type": "stream",
          "name": "stderr",
          "text": [
            "Using cache found in /root/.cache/torch/hub/s3prl_s3prl_main\n",
            " 48%|████▊     | 48/100 [16:45<18:15, 21.07s/it]"
          ]
        },
        {
          "output_type": "stream",
          "name": "stdout",
          "text": [
            "The similarity score between two audios is 0.0147 (-1.0, 1.0).\n"
          ]
        },
        {
          "output_type": "stream",
          "name": "stderr",
          "text": [
            "Using cache found in /root/.cache/torch/hub/s3prl_s3prl_main\n",
            " 49%|████▉     | 49/100 [17:06<18:01, 21.22s/it]"
          ]
        },
        {
          "output_type": "stream",
          "name": "stdout",
          "text": [
            "The similarity score between two audios is 0.2641 (-1.0, 1.0).\n"
          ]
        },
        {
          "output_type": "stream",
          "name": "stderr",
          "text": [
            "Using cache found in /root/.cache/torch/hub/s3prl_s3prl_main\n",
            " 50%|█████     | 50/100 [17:28<17:47, 21.34s/it]"
          ]
        },
        {
          "output_type": "stream",
          "name": "stdout",
          "text": [
            "The similarity score between two audios is 0.0580 (-1.0, 1.0).\n"
          ]
        },
        {
          "output_type": "stream",
          "name": "stderr",
          "text": [
            "Using cache found in /root/.cache/torch/hub/s3prl_s3prl_main\n",
            " 51%|█████     | 51/100 [17:50<17:32, 21.49s/it]"
          ]
        },
        {
          "output_type": "stream",
          "name": "stdout",
          "text": [
            "The similarity score between two audios is 0.0686 (-1.0, 1.0).\n"
          ]
        },
        {
          "output_type": "stream",
          "name": "stderr",
          "text": [
            "Using cache found in /root/.cache/torch/hub/s3prl_s3prl_main\n",
            " 52%|█████▏    | 52/100 [18:15<18:08, 22.68s/it]"
          ]
        },
        {
          "output_type": "stream",
          "name": "stdout",
          "text": [
            "The similarity score between two audios is 0.5017 (-1.0, 1.0).\n"
          ]
        },
        {
          "output_type": "stream",
          "name": "stderr",
          "text": [
            "Using cache found in /root/.cache/torch/hub/s3prl_s3prl_main\n",
            " 53%|█████▎    | 53/100 [18:37<17:35, 22.46s/it]"
          ]
        },
        {
          "output_type": "stream",
          "name": "stdout",
          "text": [
            "The similarity score between two audios is 0.6215 (-1.0, 1.0).\n"
          ]
        },
        {
          "output_type": "stream",
          "name": "stderr",
          "text": [
            "Using cache found in /root/.cache/torch/hub/s3prl_s3prl_main\n",
            " 54%|█████▍    | 54/100 [18:59<16:56, 22.10s/it]"
          ]
        },
        {
          "output_type": "stream",
          "name": "stdout",
          "text": [
            "The similarity score between two audios is 0.7697 (-1.0, 1.0).\n"
          ]
        },
        {
          "output_type": "stream",
          "name": "stderr",
          "text": [
            "Using cache found in /root/.cache/torch/hub/s3prl_s3prl_main\n",
            " 55%|█████▌    | 55/100 [19:20<16:25, 21.89s/it]"
          ]
        },
        {
          "output_type": "stream",
          "name": "stdout",
          "text": [
            "The similarity score between two audios is 0.5150 (-1.0, 1.0).\n"
          ]
        },
        {
          "output_type": "stream",
          "name": "stderr",
          "text": [
            "Using cache found in /root/.cache/torch/hub/s3prl_s3prl_main\n",
            " 56%|█████▌    | 56/100 [19:42<16:09, 22.04s/it]"
          ]
        },
        {
          "output_type": "stream",
          "name": "stdout",
          "text": [
            "The similarity score between two audios is 0.6977 (-1.0, 1.0).\n"
          ]
        },
        {
          "output_type": "stream",
          "name": "stderr",
          "text": [
            "Using cache found in /root/.cache/torch/hub/s3prl_s3prl_main\n",
            " 57%|█████▋    | 57/100 [20:03<15:32, 21.69s/it]"
          ]
        },
        {
          "output_type": "stream",
          "name": "stdout",
          "text": [
            "The similarity score between two audios is 0.6596 (-1.0, 1.0).\n"
          ]
        },
        {
          "output_type": "stream",
          "name": "stderr",
          "text": [
            "Using cache found in /root/.cache/torch/hub/s3prl_s3prl_main\n",
            " 58%|█████▊    | 58/100 [20:24<15:01, 21.46s/it]"
          ]
        },
        {
          "output_type": "stream",
          "name": "stdout",
          "text": [
            "The similarity score between two audios is 0.6049 (-1.0, 1.0).\n"
          ]
        },
        {
          "output_type": "stream",
          "name": "stderr",
          "text": [
            "Using cache found in /root/.cache/torch/hub/s3prl_s3prl_main\n",
            " 59%|█████▉    | 59/100 [20:46<14:42, 21.53s/it]"
          ]
        },
        {
          "output_type": "stream",
          "name": "stdout",
          "text": [
            "The similarity score between two audios is 0.7118 (-1.0, 1.0).\n"
          ]
        },
        {
          "output_type": "stream",
          "name": "stderr",
          "text": [
            "Using cache found in /root/.cache/torch/hub/s3prl_s3prl_main\n",
            " 60%|██████    | 60/100 [21:07<14:21, 21.54s/it]"
          ]
        },
        {
          "output_type": "stream",
          "name": "stdout",
          "text": [
            "The similarity score between two audios is 0.6098 (-1.0, 1.0).\n"
          ]
        },
        {
          "output_type": "stream",
          "name": "stderr",
          "text": [
            "Using cache found in /root/.cache/torch/hub/s3prl_s3prl_main\n",
            " 61%|██████    | 61/100 [21:30<14:09, 21.77s/it]"
          ]
        },
        {
          "output_type": "stream",
          "name": "stdout",
          "text": [
            "The similarity score between two audios is 0.7398 (-1.0, 1.0).\n"
          ]
        },
        {
          "output_type": "stream",
          "name": "stderr",
          "text": [
            "Using cache found in /root/.cache/torch/hub/s3prl_s3prl_main\n",
            " 62%|██████▏   | 62/100 [21:53<14:09, 22.35s/it]"
          ]
        },
        {
          "output_type": "stream",
          "name": "stdout",
          "text": [
            "The similarity score between two audios is 0.6229 (-1.0, 1.0).\n"
          ]
        },
        {
          "output_type": "stream",
          "name": "stderr",
          "text": [
            "Using cache found in /root/.cache/torch/hub/s3prl_s3prl_main\n",
            " 63%|██████▎   | 63/100 [22:16<13:54, 22.55s/it]"
          ]
        },
        {
          "output_type": "stream",
          "name": "stdout",
          "text": [
            "The similarity score between two audios is 0.6086 (-1.0, 1.0).\n"
          ]
        },
        {
          "output_type": "stream",
          "name": "stderr",
          "text": [
            "Using cache found in /root/.cache/torch/hub/s3prl_s3prl_main\n",
            " 64%|██████▍   | 64/100 [22:40<13:42, 22.85s/it]"
          ]
        },
        {
          "output_type": "stream",
          "name": "stdout",
          "text": [
            "The similarity score between two audios is 0.6968 (-1.0, 1.0).\n"
          ]
        },
        {
          "output_type": "stream",
          "name": "stderr",
          "text": [
            "Using cache found in /root/.cache/torch/hub/s3prl_s3prl_main\n",
            " 65%|██████▌   | 65/100 [23:04<13:35, 23.30s/it]"
          ]
        },
        {
          "output_type": "stream",
          "name": "stdout",
          "text": [
            "The similarity score between two audios is 0.7450 (-1.0, 1.0).\n"
          ]
        },
        {
          "output_type": "stream",
          "name": "stderr",
          "text": [
            "Using cache found in /root/.cache/torch/hub/s3prl_s3prl_main\n",
            " 66%|██████▌   | 66/100 [23:29<13:22, 23.60s/it]"
          ]
        },
        {
          "output_type": "stream",
          "name": "stdout",
          "text": [
            "The similarity score between two audios is 0.7181 (-1.0, 1.0).\n"
          ]
        },
        {
          "output_type": "stream",
          "name": "stderr",
          "text": [
            "Using cache found in /root/.cache/torch/hub/s3prl_s3prl_main\n",
            " 67%|██████▋   | 67/100 [23:54<13:13, 24.05s/it]"
          ]
        },
        {
          "output_type": "stream",
          "name": "stdout",
          "text": [
            "The similarity score between two audios is 0.7853 (-1.0, 1.0).\n"
          ]
        },
        {
          "output_type": "stream",
          "name": "stderr",
          "text": [
            "Using cache found in /root/.cache/torch/hub/s3prl_s3prl_main\n",
            " 68%|██████▊   | 68/100 [24:18<12:51, 24.12s/it]"
          ]
        },
        {
          "output_type": "stream",
          "name": "stdout",
          "text": [
            "The similarity score between two audios is 0.8191 (-1.0, 1.0).\n"
          ]
        },
        {
          "output_type": "stream",
          "name": "stderr",
          "text": [
            "Using cache found in /root/.cache/torch/hub/s3prl_s3prl_main\n",
            " 69%|██████▉   | 69/100 [24:42<12:29, 24.17s/it]"
          ]
        },
        {
          "output_type": "stream",
          "name": "stdout",
          "text": [
            "The similarity score between two audios is 0.7242 (-1.0, 1.0).\n"
          ]
        },
        {
          "output_type": "stream",
          "name": "stderr",
          "text": [
            "Using cache found in /root/.cache/torch/hub/s3prl_s3prl_main\n",
            " 70%|███████   | 70/100 [25:06<12:00, 24.03s/it]"
          ]
        },
        {
          "output_type": "stream",
          "name": "stdout",
          "text": [
            "The similarity score between two audios is 0.6880 (-1.0, 1.0).\n"
          ]
        },
        {
          "output_type": "stream",
          "name": "stderr",
          "text": [
            "Using cache found in /root/.cache/torch/hub/s3prl_s3prl_main\n",
            " 71%|███████   | 71/100 [25:27<11:14, 23.25s/it]"
          ]
        },
        {
          "output_type": "stream",
          "name": "stdout",
          "text": [
            "The similarity score between two audios is 0.5904 (-1.0, 1.0).\n"
          ]
        },
        {
          "output_type": "stream",
          "name": "stderr",
          "text": [
            "Using cache found in /root/.cache/torch/hub/s3prl_s3prl_main\n",
            " 72%|███████▏  | 72/100 [25:48<10:28, 22.46s/it]"
          ]
        },
        {
          "output_type": "stream",
          "name": "stdout",
          "text": [
            "The similarity score between two audios is 0.7193 (-1.0, 1.0).\n"
          ]
        },
        {
          "output_type": "stream",
          "name": "stderr",
          "text": [
            "Using cache found in /root/.cache/torch/hub/s3prl_s3prl_main\n",
            " 73%|███████▎  | 73/100 [26:09<09:53, 21.98s/it]"
          ]
        },
        {
          "output_type": "stream",
          "name": "stdout",
          "text": [
            "The similarity score between two audios is 0.7301 (-1.0, 1.0).\n"
          ]
        },
        {
          "output_type": "stream",
          "name": "stderr",
          "text": [
            "Using cache found in /root/.cache/torch/hub/s3prl_s3prl_main\n",
            " 74%|███████▍  | 74/100 [26:30<09:21, 21.59s/it]"
          ]
        },
        {
          "output_type": "stream",
          "name": "stdout",
          "text": [
            "The similarity score between two audios is 0.8014 (-1.0, 1.0).\n"
          ]
        },
        {
          "output_type": "stream",
          "name": "stderr",
          "text": [
            "Using cache found in /root/.cache/torch/hub/s3prl_s3prl_main\n",
            " 75%|███████▌  | 75/100 [26:50<08:51, 21.26s/it]"
          ]
        },
        {
          "output_type": "stream",
          "name": "stdout",
          "text": [
            "The similarity score between two audios is 0.8523 (-1.0, 1.0).\n"
          ]
        },
        {
          "output_type": "stream",
          "name": "stderr",
          "text": [
            "Using cache found in /root/.cache/torch/hub/s3prl_s3prl_main\n",
            " 76%|███████▌  | 76/100 [27:07<07:57, 19.89s/it]"
          ]
        },
        {
          "output_type": "stream",
          "name": "stdout",
          "text": [
            "The similarity score between two audios is 0.7706 (-1.0, 1.0).\n"
          ]
        },
        {
          "output_type": "stream",
          "name": "stderr",
          "text": [
            "Using cache found in /root/.cache/torch/hub/s3prl_s3prl_main\n",
            " 77%|███████▋  | 77/100 [27:18<06:40, 17.40s/it]"
          ]
        },
        {
          "output_type": "stream",
          "name": "stdout",
          "text": [
            "The similarity score between two audios is 0.6337 (-1.0, 1.0).\n"
          ]
        },
        {
          "output_type": "stream",
          "name": "stderr",
          "text": [
            "Using cache found in /root/.cache/torch/hub/s3prl_s3prl_main\n",
            " 78%|███████▊  | 78/100 [27:28<05:30, 15.02s/it]"
          ]
        },
        {
          "output_type": "stream",
          "name": "stdout",
          "text": [
            "The similarity score between two audios is 0.7229 (-1.0, 1.0).\n"
          ]
        },
        {
          "output_type": "stream",
          "name": "stderr",
          "text": [
            "Using cache found in /root/.cache/torch/hub/s3prl_s3prl_main\n",
            " 79%|███████▉  | 79/100 [27:39<04:48, 13.76s/it]"
          ]
        },
        {
          "output_type": "stream",
          "name": "stdout",
          "text": [
            "The similarity score between two audios is 0.7925 (-1.0, 1.0).\n"
          ]
        },
        {
          "output_type": "stream",
          "name": "stderr",
          "text": [
            "Using cache found in /root/.cache/torch/hub/s3prl_s3prl_main\n",
            " 80%|████████  | 80/100 [27:49<04:17, 12.87s/it]"
          ]
        },
        {
          "output_type": "stream",
          "name": "stdout",
          "text": [
            "The similarity score between two audios is 0.7241 (-1.0, 1.0).\n"
          ]
        },
        {
          "output_type": "stream",
          "name": "stderr",
          "text": [
            "Using cache found in /root/.cache/torch/hub/s3prl_s3prl_main\n",
            " 81%|████████  | 81/100 [28:01<03:55, 12.38s/it]"
          ]
        },
        {
          "output_type": "stream",
          "name": "stdout",
          "text": [
            "The similarity score between two audios is 0.7603 (-1.0, 1.0).\n"
          ]
        },
        {
          "output_type": "stream",
          "name": "stderr",
          "text": [
            "Using cache found in /root/.cache/torch/hub/s3prl_s3prl_main\n",
            " 82%|████████▏ | 82/100 [28:11<03:31, 11.75s/it]"
          ]
        },
        {
          "output_type": "stream",
          "name": "stdout",
          "text": [
            "The similarity score between two audios is 0.8703 (-1.0, 1.0).\n"
          ]
        },
        {
          "output_type": "stream",
          "name": "stderr",
          "text": [
            "Using cache found in /root/.cache/torch/hub/s3prl_s3prl_main\n",
            " 83%|████████▎ | 83/100 [28:21<03:09, 11.17s/it]"
          ]
        },
        {
          "output_type": "stream",
          "name": "stdout",
          "text": [
            "The similarity score between two audios is 0.7551 (-1.0, 1.0).\n"
          ]
        },
        {
          "output_type": "stream",
          "name": "stderr",
          "text": [
            "Using cache found in /root/.cache/torch/hub/s3prl_s3prl_main\n",
            " 84%|████████▍ | 84/100 [28:33<03:01, 11.36s/it]"
          ]
        },
        {
          "output_type": "stream",
          "name": "stdout",
          "text": [
            "The similarity score between two audios is 0.6636 (-1.0, 1.0).\n"
          ]
        },
        {
          "output_type": "stream",
          "name": "stderr",
          "text": [
            "Using cache found in /root/.cache/torch/hub/s3prl_s3prl_main\n",
            " 85%|████████▌ | 85/100 [28:44<02:49, 11.29s/it]"
          ]
        },
        {
          "output_type": "stream",
          "name": "stdout",
          "text": [
            "The similarity score between two audios is 0.6242 (-1.0, 1.0).\n"
          ]
        },
        {
          "output_type": "stream",
          "name": "stderr",
          "text": [
            "Using cache found in /root/.cache/torch/hub/s3prl_s3prl_main\n",
            " 86%|████████▌ | 86/100 [28:55<02:38, 11.29s/it]"
          ]
        },
        {
          "output_type": "stream",
          "name": "stdout",
          "text": [
            "The similarity score between two audios is 0.6949 (-1.0, 1.0).\n"
          ]
        },
        {
          "output_type": "stream",
          "name": "stderr",
          "text": [
            "Using cache found in /root/.cache/torch/hub/s3prl_s3prl_main\n",
            " 87%|████████▋ | 87/100 [29:06<02:26, 11.30s/it]"
          ]
        },
        {
          "output_type": "stream",
          "name": "stdout",
          "text": [
            "The similarity score between two audios is 0.7741 (-1.0, 1.0).\n"
          ]
        },
        {
          "output_type": "stream",
          "name": "stderr",
          "text": [
            "Using cache found in /root/.cache/torch/hub/s3prl_s3prl_main\n",
            " 88%|████████▊ | 88/100 [29:17<02:13, 11.11s/it]"
          ]
        },
        {
          "output_type": "stream",
          "name": "stdout",
          "text": [
            "The similarity score between two audios is 0.7171 (-1.0, 1.0).\n"
          ]
        },
        {
          "output_type": "stream",
          "name": "stderr",
          "text": [
            "Using cache found in /root/.cache/torch/hub/s3prl_s3prl_main\n",
            " 89%|████████▉ | 89/100 [29:26<01:56, 10.58s/it]"
          ]
        },
        {
          "output_type": "stream",
          "name": "stdout",
          "text": [
            "The similarity score between two audios is 0.7290 (-1.0, 1.0).\n"
          ]
        },
        {
          "output_type": "stream",
          "name": "stderr",
          "text": [
            "Using cache found in /root/.cache/torch/hub/s3prl_s3prl_main\n",
            " 90%|█████████ | 90/100 [29:37<01:46, 10.62s/it]"
          ]
        },
        {
          "output_type": "stream",
          "name": "stdout",
          "text": [
            "The similarity score between two audios is 0.6946 (-1.0, 1.0).\n"
          ]
        },
        {
          "output_type": "stream",
          "name": "stderr",
          "text": [
            "Using cache found in /root/.cache/torch/hub/s3prl_s3prl_main\n",
            " 91%|█████████ | 91/100 [29:50<01:42, 11.39s/it]"
          ]
        },
        {
          "output_type": "stream",
          "name": "stdout",
          "text": [
            "The similarity score between two audios is 0.7799 (-1.0, 1.0).\n"
          ]
        },
        {
          "output_type": "stream",
          "name": "stderr",
          "text": [
            "Using cache found in /root/.cache/torch/hub/s3prl_s3prl_main\n",
            " 92%|█████████▏| 92/100 [30:01<01:30, 11.32s/it]"
          ]
        },
        {
          "output_type": "stream",
          "name": "stdout",
          "text": [
            "The similarity score between two audios is 0.5540 (-1.0, 1.0).\n"
          ]
        },
        {
          "output_type": "stream",
          "name": "stderr",
          "text": [
            "Using cache found in /root/.cache/torch/hub/s3prl_s3prl_main\n",
            " 93%|█████████▎| 93/100 [30:12<01:18, 11.21s/it]"
          ]
        },
        {
          "output_type": "stream",
          "name": "stdout",
          "text": [
            "The similarity score between two audios is 0.5882 (-1.0, 1.0).\n"
          ]
        },
        {
          "output_type": "stream",
          "name": "stderr",
          "text": [
            "Using cache found in /root/.cache/torch/hub/s3prl_s3prl_main\n",
            " 94%|█████████▍| 94/100 [30:23<01:06, 11.03s/it]"
          ]
        },
        {
          "output_type": "stream",
          "name": "stdout",
          "text": [
            "The similarity score between two audios is 0.6208 (-1.0, 1.0).\n"
          ]
        },
        {
          "output_type": "stream",
          "name": "stderr",
          "text": [
            "Using cache found in /root/.cache/torch/hub/s3prl_s3prl_main\n",
            " 95%|█████████▌| 95/100 [30:33<00:53, 10.77s/it]"
          ]
        },
        {
          "output_type": "stream",
          "name": "stdout",
          "text": [
            "The similarity score between two audios is 0.7082 (-1.0, 1.0).\n"
          ]
        },
        {
          "output_type": "stream",
          "name": "stderr",
          "text": [
            "Using cache found in /root/.cache/torch/hub/s3prl_s3prl_main\n",
            " 96%|█████████▌| 96/100 [30:43<00:41, 10.49s/it]"
          ]
        },
        {
          "output_type": "stream",
          "name": "stdout",
          "text": [
            "The similarity score between two audios is 0.8085 (-1.0, 1.0).\n"
          ]
        },
        {
          "output_type": "stream",
          "name": "stderr",
          "text": [
            "Using cache found in /root/.cache/torch/hub/s3prl_s3prl_main\n",
            " 97%|█████████▋| 97/100 [30:54<00:32, 10.73s/it]"
          ]
        },
        {
          "output_type": "stream",
          "name": "stdout",
          "text": [
            "The similarity score between two audios is 0.7215 (-1.0, 1.0).\n"
          ]
        },
        {
          "output_type": "stream",
          "name": "stderr",
          "text": [
            "Using cache found in /root/.cache/torch/hub/s3prl_s3prl_main\n",
            " 98%|█████████▊| 98/100 [31:06<00:22, 11.01s/it]"
          ]
        },
        {
          "output_type": "stream",
          "name": "stdout",
          "text": [
            "The similarity score between two audios is 0.7952 (-1.0, 1.0).\n"
          ]
        },
        {
          "output_type": "stream",
          "name": "stderr",
          "text": [
            "Using cache found in /root/.cache/torch/hub/s3prl_s3prl_main\n",
            " 99%|█████████▉| 99/100 [31:17<00:11, 11.07s/it]"
          ]
        },
        {
          "output_type": "stream",
          "name": "stdout",
          "text": [
            "The similarity score between two audios is 0.8081 (-1.0, 1.0).\n"
          ]
        },
        {
          "output_type": "stream",
          "name": "stderr",
          "text": [
            "Using cache found in /root/.cache/torch/hub/s3prl_s3prl_main\n",
            "100%|██████████| 100/100 [31:28<00:00, 11.00s/it]"
          ]
        },
        {
          "output_type": "stream",
          "name": "stdout",
          "text": [
            "The similarity score between two audios is 0.5525 (-1.0, 1.0).\n"
          ]
        },
        {
          "output_type": "stream",
          "name": "stderr",
          "text": [
            "Using cache found in /root/.cache/torch/hub/s3prl_s3prl_main\n",
            "100%|██████████| 100/100 [31:38<00:00, 18.99s/it]"
          ]
        },
        {
          "output_type": "stream",
          "name": "stdout",
          "text": [
            "The similarity score between two audios is 0.6662 (-1.0, 1.0).\n"
          ]
        },
        {
          "output_type": "stream",
          "name": "stderr",
          "text": [
            "\n"
          ]
        }
      ]
    },
    {
      "cell_type": "code",
      "source": [
        "wavlm_df.to_csv(\"/content/drive/MyDrive/wavlm_hindi_result.csv\")"
      ],
      "metadata": {
        "id": "C0ftQqd-z1aW"
      },
      "execution_count": 42,
      "outputs": []
    },
    {
      "cell_type": "markdown",
      "source": [
        "#### Evaluation  (EER)"
      ],
      "metadata": {
        "id": "TwnUiEJiUeVt"
      }
    },
    {
      "cell_type": "code",
      "source": [
        "hubert_df.head(2)"
      ],
      "metadata": {
        "colab": {
          "base_uri": "https://localhost:8080/",
          "height": 112
        },
        "id": "0OOP_ERh4Gfy",
        "outputId": "dfa74e5f-ae5d-4fbb-fee4-0225cefc2a4f"
      },
      "execution_count": 44,
      "outputs": [
        {
          "output_type": "execute_result",
          "data": {
            "text/plain": [
              "                                                wav1  \\\n",
              "0  /content/drive/MyDrive/kb_hindi_wav/8444249310...   \n",
              "1  /content/drive/MyDrive/kb_hindi_wav/8444249310...   \n",
              "\n",
              "                                                wav2  label  hubert_large_pred  \n",
              "0  /content/drive/MyDrive/kb_hindi_wav/8444249308...      0           0.402394  \n",
              "1  /content/drive/MyDrive/kb_hindi_wav/8444249335...      0           0.190938  "
            ],
            "text/html": [
              "\n",
              "  <div id=\"df-97eaa63f-5229-4057-92b5-92924c69c9b1\" class=\"colab-df-container\">\n",
              "    <div>\n",
              "<style scoped>\n",
              "    .dataframe tbody tr th:only-of-type {\n",
              "        vertical-align: middle;\n",
              "    }\n",
              "\n",
              "    .dataframe tbody tr th {\n",
              "        vertical-align: top;\n",
              "    }\n",
              "\n",
              "    .dataframe thead th {\n",
              "        text-align: right;\n",
              "    }\n",
              "</style>\n",
              "<table border=\"1\" class=\"dataframe\">\n",
              "  <thead>\n",
              "    <tr style=\"text-align: right;\">\n",
              "      <th></th>\n",
              "      <th>wav1</th>\n",
              "      <th>wav2</th>\n",
              "      <th>label</th>\n",
              "      <th>hubert_large_pred</th>\n",
              "    </tr>\n",
              "  </thead>\n",
              "  <tbody>\n",
              "    <tr>\n",
              "      <th>0</th>\n",
              "      <td>/content/drive/MyDrive/kb_hindi_wav/8444249310...</td>\n",
              "      <td>/content/drive/MyDrive/kb_hindi_wav/8444249308...</td>\n",
              "      <td>0</td>\n",
              "      <td>0.402394</td>\n",
              "    </tr>\n",
              "    <tr>\n",
              "      <th>1</th>\n",
              "      <td>/content/drive/MyDrive/kb_hindi_wav/8444249310...</td>\n",
              "      <td>/content/drive/MyDrive/kb_hindi_wav/8444249335...</td>\n",
              "      <td>0</td>\n",
              "      <td>0.190938</td>\n",
              "    </tr>\n",
              "  </tbody>\n",
              "</table>\n",
              "</div>\n",
              "    <div class=\"colab-df-buttons\">\n",
              "\n",
              "  <div class=\"colab-df-container\">\n",
              "    <button class=\"colab-df-convert\" onclick=\"convertToInteractive('df-97eaa63f-5229-4057-92b5-92924c69c9b1')\"\n",
              "            title=\"Convert this dataframe to an interactive table.\"\n",
              "            style=\"display:none;\">\n",
              "\n",
              "  <svg xmlns=\"http://www.w3.org/2000/svg\" height=\"24px\" viewBox=\"0 -960 960 960\">\n",
              "    <path d=\"M120-120v-720h720v720H120Zm60-500h600v-160H180v160Zm220 220h160v-160H400v160Zm0 220h160v-160H400v160ZM180-400h160v-160H180v160Zm440 0h160v-160H620v160ZM180-180h160v-160H180v160Zm440 0h160v-160H620v160Z\"/>\n",
              "  </svg>\n",
              "    </button>\n",
              "\n",
              "  <style>\n",
              "    .colab-df-container {\n",
              "      display:flex;\n",
              "      gap: 12px;\n",
              "    }\n",
              "\n",
              "    .colab-df-convert {\n",
              "      background-color: #E8F0FE;\n",
              "      border: none;\n",
              "      border-radius: 50%;\n",
              "      cursor: pointer;\n",
              "      display: none;\n",
              "      fill: #1967D2;\n",
              "      height: 32px;\n",
              "      padding: 0 0 0 0;\n",
              "      width: 32px;\n",
              "    }\n",
              "\n",
              "    .colab-df-convert:hover {\n",
              "      background-color: #E2EBFA;\n",
              "      box-shadow: 0px 1px 2px rgba(60, 64, 67, 0.3), 0px 1px 3px 1px rgba(60, 64, 67, 0.15);\n",
              "      fill: #174EA6;\n",
              "    }\n",
              "\n",
              "    .colab-df-buttons div {\n",
              "      margin-bottom: 4px;\n",
              "    }\n",
              "\n",
              "    [theme=dark] .colab-df-convert {\n",
              "      background-color: #3B4455;\n",
              "      fill: #D2E3FC;\n",
              "    }\n",
              "\n",
              "    [theme=dark] .colab-df-convert:hover {\n",
              "      background-color: #434B5C;\n",
              "      box-shadow: 0px 1px 3px 1px rgba(0, 0, 0, 0.15);\n",
              "      filter: drop-shadow(0px 1px 2px rgba(0, 0, 0, 0.3));\n",
              "      fill: #FFFFFF;\n",
              "    }\n",
              "  </style>\n",
              "\n",
              "    <script>\n",
              "      const buttonEl =\n",
              "        document.querySelector('#df-97eaa63f-5229-4057-92b5-92924c69c9b1 button.colab-df-convert');\n",
              "      buttonEl.style.display =\n",
              "        google.colab.kernel.accessAllowed ? 'block' : 'none';\n",
              "\n",
              "      async function convertToInteractive(key) {\n",
              "        const element = document.querySelector('#df-97eaa63f-5229-4057-92b5-92924c69c9b1');\n",
              "        const dataTable =\n",
              "          await google.colab.kernel.invokeFunction('convertToInteractive',\n",
              "                                                    [key], {});\n",
              "        if (!dataTable) return;\n",
              "\n",
              "        const docLinkHtml = 'Like what you see? Visit the ' +\n",
              "          '<a target=\"_blank\" href=https://colab.research.google.com/notebooks/data_table.ipynb>data table notebook</a>'\n",
              "          + ' to learn more about interactive tables.';\n",
              "        element.innerHTML = '';\n",
              "        dataTable['output_type'] = 'display_data';\n",
              "        await google.colab.output.renderOutput(dataTable, element);\n",
              "        const docLink = document.createElement('div');\n",
              "        docLink.innerHTML = docLinkHtml;\n",
              "        element.appendChild(docLink);\n",
              "      }\n",
              "    </script>\n",
              "  </div>\n",
              "\n",
              "\n",
              "<div id=\"df-a051c6b9-8ed6-40c2-a93b-10415c905ad6\">\n",
              "  <button class=\"colab-df-quickchart\" onclick=\"quickchart('df-a051c6b9-8ed6-40c2-a93b-10415c905ad6')\"\n",
              "            title=\"Suggest charts\"\n",
              "            style=\"display:none;\">\n",
              "\n",
              "<svg xmlns=\"http://www.w3.org/2000/svg\" height=\"24px\"viewBox=\"0 0 24 24\"\n",
              "     width=\"24px\">\n",
              "    <g>\n",
              "        <path d=\"M19 3H5c-1.1 0-2 .9-2 2v14c0 1.1.9 2 2 2h14c1.1 0 2-.9 2-2V5c0-1.1-.9-2-2-2zM9 17H7v-7h2v7zm4 0h-2V7h2v10zm4 0h-2v-4h2v4z\"/>\n",
              "    </g>\n",
              "</svg>\n",
              "  </button>\n",
              "\n",
              "<style>\n",
              "  .colab-df-quickchart {\n",
              "      --bg-color: #E8F0FE;\n",
              "      --fill-color: #1967D2;\n",
              "      --hover-bg-color: #E2EBFA;\n",
              "      --hover-fill-color: #174EA6;\n",
              "      --disabled-fill-color: #AAA;\n",
              "      --disabled-bg-color: #DDD;\n",
              "  }\n",
              "\n",
              "  [theme=dark] .colab-df-quickchart {\n",
              "      --bg-color: #3B4455;\n",
              "      --fill-color: #D2E3FC;\n",
              "      --hover-bg-color: #434B5C;\n",
              "      --hover-fill-color: #FFFFFF;\n",
              "      --disabled-bg-color: #3B4455;\n",
              "      --disabled-fill-color: #666;\n",
              "  }\n",
              "\n",
              "  .colab-df-quickchart {\n",
              "    background-color: var(--bg-color);\n",
              "    border: none;\n",
              "    border-radius: 50%;\n",
              "    cursor: pointer;\n",
              "    display: none;\n",
              "    fill: var(--fill-color);\n",
              "    height: 32px;\n",
              "    padding: 0;\n",
              "    width: 32px;\n",
              "  }\n",
              "\n",
              "  .colab-df-quickchart:hover {\n",
              "    background-color: var(--hover-bg-color);\n",
              "    box-shadow: 0 1px 2px rgba(60, 64, 67, 0.3), 0 1px 3px 1px rgba(60, 64, 67, 0.15);\n",
              "    fill: var(--button-hover-fill-color);\n",
              "  }\n",
              "\n",
              "  .colab-df-quickchart-complete:disabled,\n",
              "  .colab-df-quickchart-complete:disabled:hover {\n",
              "    background-color: var(--disabled-bg-color);\n",
              "    fill: var(--disabled-fill-color);\n",
              "    box-shadow: none;\n",
              "  }\n",
              "\n",
              "  .colab-df-spinner {\n",
              "    border: 2px solid var(--fill-color);\n",
              "    border-color: transparent;\n",
              "    border-bottom-color: var(--fill-color);\n",
              "    animation:\n",
              "      spin 1s steps(1) infinite;\n",
              "  }\n",
              "\n",
              "  @keyframes spin {\n",
              "    0% {\n",
              "      border-color: transparent;\n",
              "      border-bottom-color: var(--fill-color);\n",
              "      border-left-color: var(--fill-color);\n",
              "    }\n",
              "    20% {\n",
              "      border-color: transparent;\n",
              "      border-left-color: var(--fill-color);\n",
              "      border-top-color: var(--fill-color);\n",
              "    }\n",
              "    30% {\n",
              "      border-color: transparent;\n",
              "      border-left-color: var(--fill-color);\n",
              "      border-top-color: var(--fill-color);\n",
              "      border-right-color: var(--fill-color);\n",
              "    }\n",
              "    40% {\n",
              "      border-color: transparent;\n",
              "      border-right-color: var(--fill-color);\n",
              "      border-top-color: var(--fill-color);\n",
              "    }\n",
              "    60% {\n",
              "      border-color: transparent;\n",
              "      border-right-color: var(--fill-color);\n",
              "    }\n",
              "    80% {\n",
              "      border-color: transparent;\n",
              "      border-right-color: var(--fill-color);\n",
              "      border-bottom-color: var(--fill-color);\n",
              "    }\n",
              "    90% {\n",
              "      border-color: transparent;\n",
              "      border-bottom-color: var(--fill-color);\n",
              "    }\n",
              "  }\n",
              "</style>\n",
              "\n",
              "  <script>\n",
              "    async function quickchart(key) {\n",
              "      const quickchartButtonEl =\n",
              "        document.querySelector('#' + key + ' button');\n",
              "      quickchartButtonEl.disabled = true;  // To prevent multiple clicks.\n",
              "      quickchartButtonEl.classList.add('colab-df-spinner');\n",
              "      try {\n",
              "        const charts = await google.colab.kernel.invokeFunction(\n",
              "            'suggestCharts', [key], {});\n",
              "      } catch (error) {\n",
              "        console.error('Error during call to suggestCharts:', error);\n",
              "      }\n",
              "      quickchartButtonEl.classList.remove('colab-df-spinner');\n",
              "      quickchartButtonEl.classList.add('colab-df-quickchart-complete');\n",
              "    }\n",
              "    (() => {\n",
              "      let quickchartButtonEl =\n",
              "        document.querySelector('#df-a051c6b9-8ed6-40c2-a93b-10415c905ad6 button');\n",
              "      quickchartButtonEl.style.display =\n",
              "        google.colab.kernel.accessAllowed ? 'block' : 'none';\n",
              "    })();\n",
              "  </script>\n",
              "</div>\n",
              "    </div>\n",
              "  </div>\n"
            ],
            "application/vnd.google.colaboratory.intrinsic+json": {
              "type": "dataframe",
              "variable_name": "hubert_df",
              "summary": "{\n  \"name\": \"hubert_df\",\n  \"rows\": 100,\n  \"fields\": [\n    {\n      \"column\": \"wav1\",\n      \"properties\": {\n        \"dtype\": \"string\",\n        \"num_unique_values\": 95,\n        \"samples\": [\n          \"/content/drive/MyDrive/kb_hindi_wav/844424932594327-645-f.wav\",\n          \"/content/drive/MyDrive/kb_hindi_wav/844424933059279-888-f.wav\",\n          \"/content/drive/MyDrive/kb_hindi_wav/844424933476996-266-m.wav\"\n        ],\n        \"semantic_type\": \"\",\n        \"description\": \"\"\n      }\n    },\n    {\n      \"column\": \"wav2\",\n      \"properties\": {\n        \"dtype\": \"string\",\n        \"num_unique_values\": 98,\n        \"samples\": [\n          \"/content/drive/MyDrive/kb_hindi_wav/844424930660873-929-m.wav\",\n          \"/content/drive/MyDrive/kb_hindi_wav/844424932425879-888-f.wav\",\n          \"/content/drive/MyDrive/kb_hindi_wav/844424932874255-1102-f.wav\"\n        ],\n        \"semantic_type\": \"\",\n        \"description\": \"\"\n      }\n    },\n    {\n      \"column\": \"label\",\n      \"properties\": {\n        \"dtype\": \"number\",\n        \"std\": 0,\n        \"min\": 0,\n        \"max\": 1,\n        \"num_unique_values\": 2,\n        \"samples\": [\n          1,\n          0\n        ],\n        \"semantic_type\": \"\",\n        \"description\": \"\"\n      }\n    },\n    {\n      \"column\": \"hubert_large_pred\",\n      \"properties\": {\n        \"dtype\": \"number\",\n        \"std\": 0.273721921714029,\n        \"min\": -0.041642747819423676,\n        \"max\": 0.8814868330955505,\n        \"num_unique_values\": 100,\n        \"samples\": [\n          0.7112900614738464,\n          0.542729914188385\n        ],\n        \"semantic_type\": \"\",\n        \"description\": \"\"\n      }\n    }\n  ]\n}"
            }
          },
          "metadata": {},
          "execution_count": 44
        }
      ]
    },
    {
      "cell_type": "code",
      "source": [
        "wavlm_df.head(2)"
      ],
      "metadata": {
        "colab": {
          "base_uri": "https://localhost:8080/",
          "height": 112
        },
        "id": "Xe2uNm1C4B3u",
        "outputId": "e68911ae-8c0d-4432-8189-7c2b3e3e8de1"
      },
      "execution_count": 43,
      "outputs": [
        {
          "output_type": "execute_result",
          "data": {
            "text/plain": [
              "                                                wav1  \\\n",
              "0  /content/drive/MyDrive/kb_hindi_wav/8444249310...   \n",
              "1  /content/drive/MyDrive/kb_hindi_wav/8444249310...   \n",
              "\n",
              "                                                wav2  label  wavlm_large_pred  \n",
              "0  /content/drive/MyDrive/kb_hindi_wav/8444249308...      0          0.183706  \n",
              "1  /content/drive/MyDrive/kb_hindi_wav/8444249335...      0          0.183686  "
            ],
            "text/html": [
              "\n",
              "  <div id=\"df-9a36c05f-edb0-4311-b8dc-8611cb8a1048\" class=\"colab-df-container\">\n",
              "    <div>\n",
              "<style scoped>\n",
              "    .dataframe tbody tr th:only-of-type {\n",
              "        vertical-align: middle;\n",
              "    }\n",
              "\n",
              "    .dataframe tbody tr th {\n",
              "        vertical-align: top;\n",
              "    }\n",
              "\n",
              "    .dataframe thead th {\n",
              "        text-align: right;\n",
              "    }\n",
              "</style>\n",
              "<table border=\"1\" class=\"dataframe\">\n",
              "  <thead>\n",
              "    <tr style=\"text-align: right;\">\n",
              "      <th></th>\n",
              "      <th>wav1</th>\n",
              "      <th>wav2</th>\n",
              "      <th>label</th>\n",
              "      <th>wavlm_large_pred</th>\n",
              "    </tr>\n",
              "  </thead>\n",
              "  <tbody>\n",
              "    <tr>\n",
              "      <th>0</th>\n",
              "      <td>/content/drive/MyDrive/kb_hindi_wav/8444249310...</td>\n",
              "      <td>/content/drive/MyDrive/kb_hindi_wav/8444249308...</td>\n",
              "      <td>0</td>\n",
              "      <td>0.183706</td>\n",
              "    </tr>\n",
              "    <tr>\n",
              "      <th>1</th>\n",
              "      <td>/content/drive/MyDrive/kb_hindi_wav/8444249310...</td>\n",
              "      <td>/content/drive/MyDrive/kb_hindi_wav/8444249335...</td>\n",
              "      <td>0</td>\n",
              "      <td>0.183686</td>\n",
              "    </tr>\n",
              "  </tbody>\n",
              "</table>\n",
              "</div>\n",
              "    <div class=\"colab-df-buttons\">\n",
              "\n",
              "  <div class=\"colab-df-container\">\n",
              "    <button class=\"colab-df-convert\" onclick=\"convertToInteractive('df-9a36c05f-edb0-4311-b8dc-8611cb8a1048')\"\n",
              "            title=\"Convert this dataframe to an interactive table.\"\n",
              "            style=\"display:none;\">\n",
              "\n",
              "  <svg xmlns=\"http://www.w3.org/2000/svg\" height=\"24px\" viewBox=\"0 -960 960 960\">\n",
              "    <path d=\"M120-120v-720h720v720H120Zm60-500h600v-160H180v160Zm220 220h160v-160H400v160Zm0 220h160v-160H400v160ZM180-400h160v-160H180v160Zm440 0h160v-160H620v160ZM180-180h160v-160H180v160Zm440 0h160v-160H620v160Z\"/>\n",
              "  </svg>\n",
              "    </button>\n",
              "\n",
              "  <style>\n",
              "    .colab-df-container {\n",
              "      display:flex;\n",
              "      gap: 12px;\n",
              "    }\n",
              "\n",
              "    .colab-df-convert {\n",
              "      background-color: #E8F0FE;\n",
              "      border: none;\n",
              "      border-radius: 50%;\n",
              "      cursor: pointer;\n",
              "      display: none;\n",
              "      fill: #1967D2;\n",
              "      height: 32px;\n",
              "      padding: 0 0 0 0;\n",
              "      width: 32px;\n",
              "    }\n",
              "\n",
              "    .colab-df-convert:hover {\n",
              "      background-color: #E2EBFA;\n",
              "      box-shadow: 0px 1px 2px rgba(60, 64, 67, 0.3), 0px 1px 3px 1px rgba(60, 64, 67, 0.15);\n",
              "      fill: #174EA6;\n",
              "    }\n",
              "\n",
              "    .colab-df-buttons div {\n",
              "      margin-bottom: 4px;\n",
              "    }\n",
              "\n",
              "    [theme=dark] .colab-df-convert {\n",
              "      background-color: #3B4455;\n",
              "      fill: #D2E3FC;\n",
              "    }\n",
              "\n",
              "    [theme=dark] .colab-df-convert:hover {\n",
              "      background-color: #434B5C;\n",
              "      box-shadow: 0px 1px 3px 1px rgba(0, 0, 0, 0.15);\n",
              "      filter: drop-shadow(0px 1px 2px rgba(0, 0, 0, 0.3));\n",
              "      fill: #FFFFFF;\n",
              "    }\n",
              "  </style>\n",
              "\n",
              "    <script>\n",
              "      const buttonEl =\n",
              "        document.querySelector('#df-9a36c05f-edb0-4311-b8dc-8611cb8a1048 button.colab-df-convert');\n",
              "      buttonEl.style.display =\n",
              "        google.colab.kernel.accessAllowed ? 'block' : 'none';\n",
              "\n",
              "      async function convertToInteractive(key) {\n",
              "        const element = document.querySelector('#df-9a36c05f-edb0-4311-b8dc-8611cb8a1048');\n",
              "        const dataTable =\n",
              "          await google.colab.kernel.invokeFunction('convertToInteractive',\n",
              "                                                    [key], {});\n",
              "        if (!dataTable) return;\n",
              "\n",
              "        const docLinkHtml = 'Like what you see? Visit the ' +\n",
              "          '<a target=\"_blank\" href=https://colab.research.google.com/notebooks/data_table.ipynb>data table notebook</a>'\n",
              "          + ' to learn more about interactive tables.';\n",
              "        element.innerHTML = '';\n",
              "        dataTable['output_type'] = 'display_data';\n",
              "        await google.colab.output.renderOutput(dataTable, element);\n",
              "        const docLink = document.createElement('div');\n",
              "        docLink.innerHTML = docLinkHtml;\n",
              "        element.appendChild(docLink);\n",
              "      }\n",
              "    </script>\n",
              "  </div>\n",
              "\n",
              "\n",
              "<div id=\"df-12c600bf-efeb-4215-a71d-248200cbb480\">\n",
              "  <button class=\"colab-df-quickchart\" onclick=\"quickchart('df-12c600bf-efeb-4215-a71d-248200cbb480')\"\n",
              "            title=\"Suggest charts\"\n",
              "            style=\"display:none;\">\n",
              "\n",
              "<svg xmlns=\"http://www.w3.org/2000/svg\" height=\"24px\"viewBox=\"0 0 24 24\"\n",
              "     width=\"24px\">\n",
              "    <g>\n",
              "        <path d=\"M19 3H5c-1.1 0-2 .9-2 2v14c0 1.1.9 2 2 2h14c1.1 0 2-.9 2-2V5c0-1.1-.9-2-2-2zM9 17H7v-7h2v7zm4 0h-2V7h2v10zm4 0h-2v-4h2v4z\"/>\n",
              "    </g>\n",
              "</svg>\n",
              "  </button>\n",
              "\n",
              "<style>\n",
              "  .colab-df-quickchart {\n",
              "      --bg-color: #E8F0FE;\n",
              "      --fill-color: #1967D2;\n",
              "      --hover-bg-color: #E2EBFA;\n",
              "      --hover-fill-color: #174EA6;\n",
              "      --disabled-fill-color: #AAA;\n",
              "      --disabled-bg-color: #DDD;\n",
              "  }\n",
              "\n",
              "  [theme=dark] .colab-df-quickchart {\n",
              "      --bg-color: #3B4455;\n",
              "      --fill-color: #D2E3FC;\n",
              "      --hover-bg-color: #434B5C;\n",
              "      --hover-fill-color: #FFFFFF;\n",
              "      --disabled-bg-color: #3B4455;\n",
              "      --disabled-fill-color: #666;\n",
              "  }\n",
              "\n",
              "  .colab-df-quickchart {\n",
              "    background-color: var(--bg-color);\n",
              "    border: none;\n",
              "    border-radius: 50%;\n",
              "    cursor: pointer;\n",
              "    display: none;\n",
              "    fill: var(--fill-color);\n",
              "    height: 32px;\n",
              "    padding: 0;\n",
              "    width: 32px;\n",
              "  }\n",
              "\n",
              "  .colab-df-quickchart:hover {\n",
              "    background-color: var(--hover-bg-color);\n",
              "    box-shadow: 0 1px 2px rgba(60, 64, 67, 0.3), 0 1px 3px 1px rgba(60, 64, 67, 0.15);\n",
              "    fill: var(--button-hover-fill-color);\n",
              "  }\n",
              "\n",
              "  .colab-df-quickchart-complete:disabled,\n",
              "  .colab-df-quickchart-complete:disabled:hover {\n",
              "    background-color: var(--disabled-bg-color);\n",
              "    fill: var(--disabled-fill-color);\n",
              "    box-shadow: none;\n",
              "  }\n",
              "\n",
              "  .colab-df-spinner {\n",
              "    border: 2px solid var(--fill-color);\n",
              "    border-color: transparent;\n",
              "    border-bottom-color: var(--fill-color);\n",
              "    animation:\n",
              "      spin 1s steps(1) infinite;\n",
              "  }\n",
              "\n",
              "  @keyframes spin {\n",
              "    0% {\n",
              "      border-color: transparent;\n",
              "      border-bottom-color: var(--fill-color);\n",
              "      border-left-color: var(--fill-color);\n",
              "    }\n",
              "    20% {\n",
              "      border-color: transparent;\n",
              "      border-left-color: var(--fill-color);\n",
              "      border-top-color: var(--fill-color);\n",
              "    }\n",
              "    30% {\n",
              "      border-color: transparent;\n",
              "      border-left-color: var(--fill-color);\n",
              "      border-top-color: var(--fill-color);\n",
              "      border-right-color: var(--fill-color);\n",
              "    }\n",
              "    40% {\n",
              "      border-color: transparent;\n",
              "      border-right-color: var(--fill-color);\n",
              "      border-top-color: var(--fill-color);\n",
              "    }\n",
              "    60% {\n",
              "      border-color: transparent;\n",
              "      border-right-color: var(--fill-color);\n",
              "    }\n",
              "    80% {\n",
              "      border-color: transparent;\n",
              "      border-right-color: var(--fill-color);\n",
              "      border-bottom-color: var(--fill-color);\n",
              "    }\n",
              "    90% {\n",
              "      border-color: transparent;\n",
              "      border-bottom-color: var(--fill-color);\n",
              "    }\n",
              "  }\n",
              "</style>\n",
              "\n",
              "  <script>\n",
              "    async function quickchart(key) {\n",
              "      const quickchartButtonEl =\n",
              "        document.querySelector('#' + key + ' button');\n",
              "      quickchartButtonEl.disabled = true;  // To prevent multiple clicks.\n",
              "      quickchartButtonEl.classList.add('colab-df-spinner');\n",
              "      try {\n",
              "        const charts = await google.colab.kernel.invokeFunction(\n",
              "            'suggestCharts', [key], {});\n",
              "      } catch (error) {\n",
              "        console.error('Error during call to suggestCharts:', error);\n",
              "      }\n",
              "      quickchartButtonEl.classList.remove('colab-df-spinner');\n",
              "      quickchartButtonEl.classList.add('colab-df-quickchart-complete');\n",
              "    }\n",
              "    (() => {\n",
              "      let quickchartButtonEl =\n",
              "        document.querySelector('#df-12c600bf-efeb-4215-a71d-248200cbb480 button');\n",
              "      quickchartButtonEl.style.display =\n",
              "        google.colab.kernel.accessAllowed ? 'block' : 'none';\n",
              "    })();\n",
              "  </script>\n",
              "</div>\n",
              "    </div>\n",
              "  </div>\n"
            ],
            "application/vnd.google.colaboratory.intrinsic+json": {
              "type": "dataframe",
              "variable_name": "wavlm_df",
              "summary": "{\n  \"name\": \"wavlm_df\",\n  \"rows\": 100,\n  \"fields\": [\n    {\n      \"column\": \"wav1\",\n      \"properties\": {\n        \"dtype\": \"string\",\n        \"num_unique_values\": 95,\n        \"samples\": [\n          \"/content/drive/MyDrive/kb_hindi_wav/844424932594327-645-f.wav\",\n          \"/content/drive/MyDrive/kb_hindi_wav/844424933059279-888-f.wav\",\n          \"/content/drive/MyDrive/kb_hindi_wav/844424933476996-266-m.wav\"\n        ],\n        \"semantic_type\": \"\",\n        \"description\": \"\"\n      }\n    },\n    {\n      \"column\": \"wav2\",\n      \"properties\": {\n        \"dtype\": \"string\",\n        \"num_unique_values\": 98,\n        \"samples\": [\n          \"/content/drive/MyDrive/kb_hindi_wav/844424930660873-929-m.wav\",\n          \"/content/drive/MyDrive/kb_hindi_wav/844424932425879-888-f.wav\",\n          \"/content/drive/MyDrive/kb_hindi_wav/844424932874255-1102-f.wav\"\n        ],\n        \"semantic_type\": \"\",\n        \"description\": \"\"\n      }\n    },\n    {\n      \"column\": \"label\",\n      \"properties\": {\n        \"dtype\": \"number\",\n        \"std\": 0,\n        \"min\": 0,\n        \"max\": 1,\n        \"num_unique_values\": 2,\n        \"samples\": [\n          1,\n          0\n        ],\n        \"semantic_type\": \"\",\n        \"description\": \"\"\n      }\n    },\n    {\n      \"column\": \"wavlm_large_pred\",\n      \"properties\": {\n        \"dtype\": \"number\",\n        \"std\": 0.27131999020377673,\n        \"min\": 0.014658704400062561,\n        \"max\": 0.8702566623687744,\n        \"num_unique_values\": 100,\n        \"samples\": [\n          0.6242278814315796,\n          0.514986515045166\n        ],\n        \"semantic_type\": \"\",\n        \"description\": \"\"\n      }\n    }\n  ]\n}"
            }
          },
          "metadata": {},
          "execution_count": 43
        }
      ]
    },
    {
      "cell_type": "code",
      "source": [
        "wavlm_pred_label = [ 0 if each < 0.5 else 1 for each in wavlm_df.wavlm_large_pred.tolist()]\n",
        "hubert_pred_label = [ 0 if each < 0.5 else 1 for each in hubert_df.hubert_large_pred.tolist()]\n",
        "\n",
        "wavlm_true_score = wavlm_df.label.tolist()\n",
        "hubert_true_score  = hubert_df.label.tolist()"
      ],
      "metadata": {
        "id": "xfrA8n3Vf_3T"
      },
      "execution_count": 52,
      "outputs": []
    },
    {
      "cell_type": "code",
      "source": [
        "from sklearn.metrics import accuracy_score, precision_score, recall_score\n",
        "\n",
        "def calculate_metrics(true_labels, predicted_labels):\n",
        "    accuracy = accuracy_score(true_labels, predicted_labels)\n",
        "    precision = precision_score(true_labels, predicted_labels)\n",
        "    recall = recall_score(true_labels, predicted_labels)\n",
        "    return accuracy, precision, recall\n",
        "\n",
        "accuracy, precision, recall = calculate_metrics(wavlm_true_score, wavlm_pred_label)\n",
        "print(\"Wavelm Large Accuracy on KB Hindi:\", accuracy)\n",
        "print(\"Wavelm Large Precision KB Hindi:\", precision)\n",
        "print(\"Wavelm Large Recall KB Hindi:\", recall)\n"
      ],
      "metadata": {
        "colab": {
          "base_uri": "https://localhost:8080/"
        },
        "id": "ZrzGjW8UgcEq",
        "outputId": "66271634-c697-4f33-c325-a9b325ec9577"
      },
      "execution_count": 49,
      "outputs": [
        {
          "output_type": "stream",
          "name": "stdout",
          "text": [
            "Wavelm Large Accuracy on KB Hindi: 1.0\n",
            "Wavelm Large Precision KB Hindi: 1.0\n",
            "Wavelm Large Recall KB Hindi: 1.0\n"
          ]
        }
      ]
    },
    {
      "cell_type": "code",
      "source": [
        "accuracy, precision, recall = calculate_metrics(hubert_true_score, hubert_pred_label)\n",
        "print(\"Hubert Large Accuracy on KB Hindi:\", accuracy)\n",
        "print(\"Hubert Large Precision on KB Hindi:\", precision)\n",
        "print(\"Hubert Large Recall on KB Hindi :\", recall)"
      ],
      "metadata": {
        "colab": {
          "base_uri": "https://localhost:8080/"
        },
        "id": "tXYzdSoegqLo",
        "outputId": "2c845fa6-260c-488f-dbfd-eb0b09b55811"
      },
      "execution_count": 54,
      "outputs": [
        {
          "output_type": "stream",
          "name": "stdout",
          "text": [
            "Hubert Large Accuracy on KB Hindi: 0.99\n",
            "Hubert Large Precision on KB Hindi: 1.0\n",
            "Hubert Large Recall on KB Hindi : 0.98\n"
          ]
        }
      ]
    },
    {
      "cell_type": "code",
      "source": [
        "import numpy as np\n",
        "from sklearn.metrics import confusion_matrix\n",
        "\n",
        "def calculate_far_frr(true_labels, similarity_scores, thresholds):\n",
        "    eer = float('inf')\n",
        "    eer_threshold = None\n",
        "    far_frr = []\n",
        "    FAR = 0\n",
        "    FRR = 0\n",
        "    for threshold in thresholds:\n",
        "        # Calculate predictions based on the given threshold\n",
        "        predictions = (similarity_scores >= threshold).astype(int)\n",
        "\n",
        "        # Generate confusion matrix\n",
        "        cm = confusion_matrix(true_labels, predictions)\n",
        "\n",
        "        # Extract values from confusion matrix\n",
        "        tn, fp, fn, tp = cm.ravel()\n",
        "\n",
        "        # Calculate FAR and FRR\n",
        "        far = fp / (fp + tn)\n",
        "        frr = fn / (fn + tp)\n",
        "\n",
        "        far_frr.append((threshold, far * 100, frr * 100))\n",
        "\n",
        "        # Check if EER threshold needs to be updated\n",
        "        if abs(far - frr) < eer:\n",
        "            eer = abs(far - frr)\n",
        "            eer_threshold = threshold\n",
        "            FAR = far\n",
        "            FRR = frr\n",
        "    return far_frr, eer_threshold, FAR, FRR"
      ],
      "metadata": {
        "id": "7x2pxrv_aZ8z"
      },
      "execution_count": 55,
      "outputs": []
    },
    {
      "cell_type": "code",
      "source": [
        "#true labels and similarity scores\n",
        "true_labels = hubert_true_score\n",
        "similarity_scores = hubert_df.hubert_large_pred.tolist()\n",
        "\n",
        "# Define a range of thresholds\n",
        "thresholds = np.linspace(-1, 1, num=100)\n",
        "\n",
        "# Calculate FAR, FRR, and EER\n",
        "far_frr, eer_threshold, FAR, FRR = calculate_far_frr(true_labels, similarity_scores, thresholds)\n",
        "\n",
        "print(\"Threshold\\tFAR\\t\\tFRR\")\n",
        "for threshold, far, frr in far_frr:\n",
        "  print(\"{:.4f}\\t\\t{:.2f}%\\t\\t{:.2f}%\".format(threshold, far, frr))\n",
        "\n",
        "print(\"\\n Hubert False Rejection Rate (FAR) on KB Hindi:\", FAR)\n",
        "print(\"\\n Hubert False Accaptance Rate (FRR)on KB Hindi:\", FRR)\n",
        "print(\"\\nHubert Equal Error Rate (EER) Threshold on KB Hindi:\", eer_threshold)"
      ],
      "metadata": {
        "colab": {
          "base_uri": "https://localhost:8080/"
        },
        "id": "DUTotxGp9lJx",
        "outputId": "9604808e-7eb5-423e-cc75-bdf2274ec251"
      },
      "execution_count": 57,
      "outputs": [
        {
          "output_type": "stream",
          "name": "stdout",
          "text": [
            "Threshold\tFAR\t\tFRR\n",
            "-1.0000\t\t100.00%\t\t0.00%\n",
            "-0.9798\t\t100.00%\t\t0.00%\n",
            "-0.9596\t\t100.00%\t\t0.00%\n",
            "-0.9394\t\t100.00%\t\t0.00%\n",
            "-0.9192\t\t100.00%\t\t0.00%\n",
            "-0.8990\t\t100.00%\t\t0.00%\n",
            "-0.8788\t\t100.00%\t\t0.00%\n",
            "-0.8586\t\t100.00%\t\t0.00%\n",
            "-0.8384\t\t100.00%\t\t0.00%\n",
            "-0.8182\t\t100.00%\t\t0.00%\n",
            "-0.7980\t\t100.00%\t\t0.00%\n",
            "-0.7778\t\t100.00%\t\t0.00%\n",
            "-0.7576\t\t100.00%\t\t0.00%\n",
            "-0.7374\t\t100.00%\t\t0.00%\n",
            "-0.7172\t\t100.00%\t\t0.00%\n",
            "-0.6970\t\t100.00%\t\t0.00%\n",
            "-0.6768\t\t100.00%\t\t0.00%\n",
            "-0.6566\t\t100.00%\t\t0.00%\n",
            "-0.6364\t\t100.00%\t\t0.00%\n",
            "-0.6162\t\t100.00%\t\t0.00%\n",
            "-0.5960\t\t100.00%\t\t0.00%\n",
            "-0.5758\t\t100.00%\t\t0.00%\n",
            "-0.5556\t\t100.00%\t\t0.00%\n",
            "-0.5354\t\t100.00%\t\t0.00%\n",
            "-0.5152\t\t100.00%\t\t0.00%\n",
            "-0.4949\t\t100.00%\t\t0.00%\n",
            "-0.4747\t\t100.00%\t\t0.00%\n",
            "-0.4545\t\t100.00%\t\t0.00%\n",
            "-0.4343\t\t100.00%\t\t0.00%\n",
            "-0.4141\t\t100.00%\t\t0.00%\n",
            "-0.3939\t\t100.00%\t\t0.00%\n",
            "-0.3737\t\t100.00%\t\t0.00%\n",
            "-0.3535\t\t100.00%\t\t0.00%\n",
            "-0.3333\t\t100.00%\t\t0.00%\n",
            "-0.3131\t\t100.00%\t\t0.00%\n",
            "-0.2929\t\t100.00%\t\t0.00%\n",
            "-0.2727\t\t100.00%\t\t0.00%\n",
            "-0.2525\t\t100.00%\t\t0.00%\n",
            "-0.2323\t\t100.00%\t\t0.00%\n",
            "-0.2121\t\t100.00%\t\t0.00%\n",
            "-0.1919\t\t100.00%\t\t0.00%\n",
            "-0.1717\t\t100.00%\t\t0.00%\n",
            "-0.1515\t\t100.00%\t\t0.00%\n",
            "-0.1313\t\t100.00%\t\t0.00%\n",
            "-0.1111\t\t100.00%\t\t0.00%\n",
            "-0.0909\t\t100.00%\t\t0.00%\n",
            "-0.0707\t\t100.00%\t\t0.00%\n",
            "-0.0505\t\t100.00%\t\t0.00%\n",
            "-0.0303\t\t98.00%\t\t0.00%\n",
            "-0.0101\t\t96.00%\t\t0.00%\n",
            "0.0101\t\t96.00%\t\t0.00%\n",
            "0.0303\t\t84.00%\t\t0.00%\n",
            "0.0505\t\t82.00%\t\t0.00%\n",
            "0.0707\t\t80.00%\t\t0.00%\n",
            "0.0909\t\t78.00%\t\t0.00%\n",
            "0.1111\t\t74.00%\t\t0.00%\n",
            "0.1313\t\t70.00%\t\t0.00%\n",
            "0.1515\t\t58.00%\t\t0.00%\n",
            "0.1717\t\t52.00%\t\t0.00%\n",
            "0.1919\t\t44.00%\t\t0.00%\n",
            "0.2121\t\t40.00%\t\t0.00%\n",
            "0.2323\t\t36.00%\t\t0.00%\n",
            "0.2525\t\t36.00%\t\t0.00%\n",
            "0.2727\t\t32.00%\t\t0.00%\n",
            "0.2929\t\t30.00%\t\t0.00%\n",
            "0.3131\t\t28.00%\t\t0.00%\n",
            "0.3333\t\t22.00%\t\t0.00%\n",
            "0.3535\t\t18.00%\t\t0.00%\n",
            "0.3737\t\t16.00%\t\t0.00%\n",
            "0.3939\t\t14.00%\t\t0.00%\n",
            "0.4141\t\t8.00%\t\t0.00%\n",
            "0.4343\t\t4.00%\t\t0.00%\n",
            "0.4545\t\t4.00%\t\t0.00%\n",
            "0.4747\t\t2.00%\t\t0.00%\n",
            "0.4949\t\t0.00%\t\t0.00%\n",
            "0.5152\t\t0.00%\t\t2.00%\n",
            "0.5354\t\t0.00%\t\t4.00%\n",
            "0.5556\t\t0.00%\t\t8.00%\n",
            "0.5758\t\t0.00%\t\t12.00%\n",
            "0.5960\t\t0.00%\t\t16.00%\n",
            "0.6162\t\t0.00%\t\t18.00%\n",
            "0.6364\t\t0.00%\t\t22.00%\n",
            "0.6566\t\t0.00%\t\t26.00%\n",
            "0.6768\t\t0.00%\t\t32.00%\n",
            "0.6970\t\t0.00%\t\t42.00%\n",
            "0.7172\t\t0.00%\t\t54.00%\n",
            "0.7374\t\t0.00%\t\t74.00%\n",
            "0.7576\t\t0.00%\t\t78.00%\n",
            "0.7778\t\t0.00%\t\t88.00%\n",
            "0.7980\t\t0.00%\t\t88.00%\n",
            "0.8182\t\t0.00%\t\t94.00%\n",
            "0.8384\t\t0.00%\t\t98.00%\n",
            "0.8586\t\t0.00%\t\t98.00%\n",
            "0.8788\t\t0.00%\t\t98.00%\n",
            "0.8990\t\t0.00%\t\t100.00%\n",
            "0.9192\t\t0.00%\t\t100.00%\n",
            "0.9394\t\t0.00%\t\t100.00%\n",
            "0.9596\t\t0.00%\t\t100.00%\n",
            "0.9798\t\t0.00%\t\t100.00%\n",
            "1.0000\t\t0.00%\t\t100.00%\n",
            "\n",
            " Hubert False Rejection Rate (FAR) on KB Hindi: 0.0\n",
            "\n",
            " Hubert False Accaptance Rate (FRR)on KB Hindi: 0.0\n",
            "\n",
            "Hubert Equal Error Rate (EER) Threshold on KB Hindi: 0.49494949494949503\n"
          ]
        }
      ]
    },
    {
      "cell_type": "code",
      "source": [
        "# true labels and similarity scores\n",
        "true_labels = wavlm_true_score\n",
        "similarity_scores = wavlm_df.wavlm_large_pred.tolist()\n",
        "\n",
        "# Define a range of thresholds\n",
        "thresholds = np.linspace(-1, 1, num=100)\n",
        "\n",
        "# Calculate FAR, FRR, and EER\n",
        "far_frr, eer_threshold, FAR, FRR = calculate_far_frr(true_labels, similarity_scores, thresholds)\n",
        "\n",
        "print(\"Threshold\\tFAR\\t\\tFRR\")\n",
        "for threshold, far, frr in far_frr:\n",
        "  print(\"{:.4f}\\t\\t{:.2f}%\\t\\t{:.2f}%\".format(threshold, far, frr))\n",
        "\n",
        "print(\"\\n Wavelm False Rejection Rate (FAR):\", FAR)\n",
        "print(\"\\n Wavelm False Accaptance Rate (FRR):\", FRR)\n",
        "print(\"\\n Wavelm Equal Error Rate (EER) Threshold:\", eer_threshold)"
      ],
      "metadata": {
        "colab": {
          "base_uri": "https://localhost:8080/"
        },
        "id": "SxFLp0bD9t8h",
        "outputId": "fadbf721-52c7-4a8c-8f46-d5b066d2ae2c"
      },
      "execution_count": 58,
      "outputs": [
        {
          "output_type": "stream",
          "name": "stdout",
          "text": [
            "Threshold\tFAR\t\tFRR\n",
            "-1.0000\t\t100.00%\t\t0.00%\n",
            "-0.9798\t\t100.00%\t\t0.00%\n",
            "-0.9596\t\t100.00%\t\t0.00%\n",
            "-0.9394\t\t100.00%\t\t0.00%\n",
            "-0.9192\t\t100.00%\t\t0.00%\n",
            "-0.8990\t\t100.00%\t\t0.00%\n",
            "-0.8788\t\t100.00%\t\t0.00%\n",
            "-0.8586\t\t100.00%\t\t0.00%\n",
            "-0.8384\t\t100.00%\t\t0.00%\n",
            "-0.8182\t\t100.00%\t\t0.00%\n",
            "-0.7980\t\t100.00%\t\t0.00%\n",
            "-0.7778\t\t100.00%\t\t0.00%\n",
            "-0.7576\t\t100.00%\t\t0.00%\n",
            "-0.7374\t\t100.00%\t\t0.00%\n",
            "-0.7172\t\t100.00%\t\t0.00%\n",
            "-0.6970\t\t100.00%\t\t0.00%\n",
            "-0.6768\t\t100.00%\t\t0.00%\n",
            "-0.6566\t\t100.00%\t\t0.00%\n",
            "-0.6364\t\t100.00%\t\t0.00%\n",
            "-0.6162\t\t100.00%\t\t0.00%\n",
            "-0.5960\t\t100.00%\t\t0.00%\n",
            "-0.5758\t\t100.00%\t\t0.00%\n",
            "-0.5556\t\t100.00%\t\t0.00%\n",
            "-0.5354\t\t100.00%\t\t0.00%\n",
            "-0.5152\t\t100.00%\t\t0.00%\n",
            "-0.4949\t\t100.00%\t\t0.00%\n",
            "-0.4747\t\t100.00%\t\t0.00%\n",
            "-0.4545\t\t100.00%\t\t0.00%\n",
            "-0.4343\t\t100.00%\t\t0.00%\n",
            "-0.4141\t\t100.00%\t\t0.00%\n",
            "-0.3939\t\t100.00%\t\t0.00%\n",
            "-0.3737\t\t100.00%\t\t0.00%\n",
            "-0.3535\t\t100.00%\t\t0.00%\n",
            "-0.3333\t\t100.00%\t\t0.00%\n",
            "-0.3131\t\t100.00%\t\t0.00%\n",
            "-0.2929\t\t100.00%\t\t0.00%\n",
            "-0.2727\t\t100.00%\t\t0.00%\n",
            "-0.2525\t\t100.00%\t\t0.00%\n",
            "-0.2323\t\t100.00%\t\t0.00%\n",
            "-0.2121\t\t100.00%\t\t0.00%\n",
            "-0.1919\t\t100.00%\t\t0.00%\n",
            "-0.1717\t\t100.00%\t\t0.00%\n",
            "-0.1515\t\t100.00%\t\t0.00%\n",
            "-0.1313\t\t100.00%\t\t0.00%\n",
            "-0.1111\t\t100.00%\t\t0.00%\n",
            "-0.0909\t\t100.00%\t\t0.00%\n",
            "-0.0707\t\t100.00%\t\t0.00%\n",
            "-0.0505\t\t100.00%\t\t0.00%\n",
            "-0.0303\t\t100.00%\t\t0.00%\n",
            "-0.0101\t\t100.00%\t\t0.00%\n",
            "0.0101\t\t100.00%\t\t0.00%\n",
            "0.0303\t\t98.00%\t\t0.00%\n",
            "0.0505\t\t96.00%\t\t0.00%\n",
            "0.0707\t\t90.00%\t\t0.00%\n",
            "0.0909\t\t74.00%\t\t0.00%\n",
            "0.1111\t\t70.00%\t\t0.00%\n",
            "0.1313\t\t64.00%\t\t0.00%\n",
            "0.1515\t\t58.00%\t\t0.00%\n",
            "0.1717\t\t56.00%\t\t0.00%\n",
            "0.1919\t\t46.00%\t\t0.00%\n",
            "0.2121\t\t44.00%\t\t0.00%\n",
            "0.2323\t\t38.00%\t\t0.00%\n",
            "0.2525\t\t34.00%\t\t0.00%\n",
            "0.2727\t\t28.00%\t\t0.00%\n",
            "0.2929\t\t22.00%\t\t0.00%\n",
            "0.3131\t\t20.00%\t\t0.00%\n",
            "0.3333\t\t18.00%\t\t0.00%\n",
            "0.3535\t\t16.00%\t\t0.00%\n",
            "0.3737\t\t12.00%\t\t0.00%\n",
            "0.3939\t\t10.00%\t\t0.00%\n",
            "0.4141\t\t8.00%\t\t0.00%\n",
            "0.4343\t\t4.00%\t\t0.00%\n",
            "0.4545\t\t2.00%\t\t0.00%\n",
            "0.4747\t\t0.00%\t\t0.00%\n",
            "0.4949\t\t0.00%\t\t0.00%\n",
            "0.5152\t\t0.00%\t\t4.00%\n",
            "0.5354\t\t0.00%\t\t4.00%\n",
            "0.5556\t\t0.00%\t\t8.00%\n",
            "0.5758\t\t0.00%\t\t8.00%\n",
            "0.5960\t\t0.00%\t\t12.00%\n",
            "0.6162\t\t0.00%\t\t18.00%\n",
            "0.6364\t\t0.00%\t\t28.00%\n",
            "0.6566\t\t0.00%\t\t28.00%\n",
            "0.6768\t\t0.00%\t\t34.00%\n",
            "0.6970\t\t0.00%\t\t42.00%\n",
            "0.7172\t\t0.00%\t\t50.00%\n",
            "0.7374\t\t0.00%\t\t66.00%\n",
            "0.7576\t\t0.00%\t\t72.00%\n",
            "0.7778\t\t0.00%\t\t80.00%\n",
            "0.7980\t\t0.00%\t\t88.00%\n",
            "0.8182\t\t0.00%\t\t94.00%\n",
            "0.8384\t\t0.00%\t\t96.00%\n",
            "0.8586\t\t0.00%\t\t98.00%\n",
            "0.8788\t\t0.00%\t\t100.00%\n",
            "0.8990\t\t0.00%\t\t100.00%\n",
            "0.9192\t\t0.00%\t\t100.00%\n",
            "0.9394\t\t0.00%\t\t100.00%\n",
            "0.9596\t\t0.00%\t\t100.00%\n",
            "0.9798\t\t0.00%\t\t100.00%\n",
            "1.0000\t\t0.00%\t\t100.00%\n",
            "\n",
            " Wavelm False Rejection Rate (FAR): 0.0\n",
            "\n",
            " Wavelm False Accaptance Rate (FRR): 0.0\n",
            "\n",
            " Wavelm Equal Error Rate (EER) Threshold: 0.4747474747474749\n"
          ]
        }
      ]
    },
    {
      "cell_type": "code",
      "source": [],
      "metadata": {
        "id": "_msun75T9xpz"
      },
      "execution_count": null,
      "outputs": []
    }
  ]
}